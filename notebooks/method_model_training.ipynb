{
 "cells": [
  {
   "cell_type": "code",
   "execution_count": 1,
   "id": "208f54e1-e70b-4996-97a4-642f4bff29ab",
   "metadata": {},
   "outputs": [
    {
     "name": "stdout",
     "output_type": "stream",
     "text": [
      "imports loaded.\n",
      "\n",
      "Pre-Processing func:\n",
      "********************\n",
      "    get_height(item)\n",
      "    get_weight(item)\n",
      "    get_reach(item)\n",
      "    get_std_reach(item, height, reach_list, height_list)\n",
      "    get_age(item)\n",
      "    get_std_age(item, age_list)\n",
      "    get_win_perc(name, date, df)\n",
      "    get_lose_streak_data_frame(name, date, df)\n",
      "    get_win_streak_data_frame(name, date, df)\n",
      "    get_streak_data_frame(name, date, df)\n",
      "    get_win_streak(name, date, df)\n",
      "    get_lose_streak(name, date, df)\n",
      "    get_fighter_stats(name, data )\n",
      "    add_columns(data, column_list)\n",
      "\n",
      "Feature Engineering func:\n",
      "*************************\n",
      "    get_stat(index, data, stat='height', fo='')\n",
      "    get_swaped_row(index, data)\n",
      "    get_wins(combo, data)\n",
      "    get_wins_ratio(combo, data)\n",
      "\n",
      "stats_model_training func:\n",
      "********************************\n",
      "    get_sig_features(data, sig_r)\n",
      "    get_r_score(X, y)\n",
      "    set_train_test(X_columns, y_columns, data, test_size=0.3, valid_size=0.3)\n",
      "    set_random_forest_reg(X_columns, y_columns, data)\n",
      "    set_predictions(model, data, X_columns, y_columns)\n",
      "    get_mean_percentage_error(act, pred)\n",
      "    get_rmse(act, pred)\n",
      "    get_grad_descent_step(X_columns, y_columns, data, n)\n",
      "    save_trained_model(model, path)\n",
      "\n",
      "result_model_training func:\n",
      "*********************************\n",
      "    set_random_forest_clf(X_columns, y_columns, data)\n",
      "    get_clf_grad_desc_step( X_columns, y_columns, data, neighbors)\n",
      "    get_model_evaluation(data)\n",
      "    get_accuracy(act, pred)\n",
      "\n",
      "method_model_training func:\n",
      "***************************\n",
      "    set_method_predictions(model, data, X_columns, y_columns)\n",
      "    get_method_grad_desc_step(X_columns, y_columns, data, n_estimators)\n",
      "\n",
      "Prediction func:\n",
      "****************\n",
      "    get_current_date()\n",
      "    get_win_perc(fighter, data)\n",
      "    get_lose_streak(fighter, data)\n",
      "    get_win_streak(fighter, data)\n",
      "    get_td_avg(fighter, data)\n",
      "    get_td_acc(fighter, data)\n",
      "    get_td_def(fighter, data)\n",
      "    get_str_acc(fighter, data)\n",
      "    get_str_def(fighter, data)\n",
      "    get_sub_avg(fighter, data)\n",
      "    get_sapm(fighter, data)\n",
      "    get_slpm(fighter, data)\n",
      "    get_stance(fighter, data)\n",
      "    get_stance_wins_ratio(fighter, data)\n",
      "    set_new_fight(fighter, opponent, data)\n",
      "    set_knn_predictor(X_columns, y_columns, data, n=5)\n",
      "    set_knn_predictions(model, data, X_columns, y_columns)\n",
      "    set_knn_clf_predictor(X_columns, y_columns, data, neighbors)\n",
      "    set_pred_results(model, data, X_columns, y_columns)\n",
      "    get_fighters_stats(fighter, opponent, data)\n",
      "    get_winner(fighter=fighter, opponent, data)\n",
      "    load_trained_model(filename_path)\n",
      "\n",
      "micro_model_training func:\n",
      "**************************\n",
      "    set_result_column(fighter,data)\n",
      "    get_my_losses(fighter, data)\n",
      "    get_my_wins(fighter, data)\n",
      "    get_synt_loss(fighter)\n",
      "    get_loss_value(values)\n"
     ]
    }
   ],
   "source": [
    "%run func_def.ipynb"
   ]
  },
  {
   "cell_type": "markdown",
   "id": "7a77123c-c22a-459f-81d0-2199b0342b48",
   "metadata": {},
   "source": [
    "### <span style='color:green'> **[done]** </span>Loading data"
   ]
  },
  {
   "cell_type": "code",
   "execution_count": 2,
   "id": "5dc357f4-1469-48fa-b6ab-f4d5acc373fa",
   "metadata": {},
   "outputs": [
    {
     "data": {
      "text/html": [
       "<div>\n",
       "<style scoped>\n",
       "    .dataframe tbody tr th:only-of-type {\n",
       "        vertical-align: middle;\n",
       "    }\n",
       "\n",
       "    .dataframe tbody tr th {\n",
       "        vertical-align: top;\n",
       "    }\n",
       "\n",
       "    .dataframe thead th {\n",
       "        text-align: right;\n",
       "    }\n",
       "</style>\n",
       "<table border=\"1\" class=\"dataframe\">\n",
       "  <thead>\n",
       "    <tr style=\"text-align: right;\">\n",
       "      <th></th>\n",
       "      <th>set</th>\n",
       "      <th>date</th>\n",
       "      <th>fighter</th>\n",
       "      <th>opponent</th>\n",
       "      <th>method</th>\n",
       "      <th>kd_dif</th>\n",
       "      <th>str_dif</th>\n",
       "      <th>td_dif</th>\n",
       "      <th>sub_dif</th>\n",
       "      <th>td avg._dif</th>\n",
       "      <th>td acc._dif</th>\n",
       "      <th>td def._dif</th>\n",
       "      <th>sub. avg._dif</th>\n",
       "      <th>slpm_dif</th>\n",
       "      <th>str. acc._dif</th>\n",
       "      <th>sapm_dif</th>\n",
       "      <th>str. def_dif</th>\n",
       "      <th>stance_win_ratio</th>\n",
       "      <th>win_perc_dif</th>\n",
       "      <th>win_strk_dif</th>\n",
       "      <th>lose_strk_dif</th>\n",
       "      <th>result</th>\n",
       "      <th>result_pred</th>\n",
       "    </tr>\n",
       "  </thead>\n",
       "  <tbody>\n",
       "    <tr>\n",
       "      <th>6728</th>\n",
       "      <td>test</td>\n",
       "      <td>2017-07-29</td>\n",
       "      <td>Aleksandra Albu</td>\n",
       "      <td>Kailin Curran</td>\n",
       "      <td>U-DEC:</td>\n",
       "      <td>0.011068</td>\n",
       "      <td>-0.133163</td>\n",
       "      <td>1.590190</td>\n",
       "      <td>0.001133</td>\n",
       "      <td>0.157318</td>\n",
       "      <td>-0.236546</td>\n",
       "      <td>0.544717</td>\n",
       "      <td>-0.194404</td>\n",
       "      <td>0.584680</td>\n",
       "      <td>0.331559</td>\n",
       "      <td>0.477663</td>\n",
       "      <td>-1.248515</td>\n",
       "      <td>0.270739</td>\n",
       "      <td>2.060202</td>\n",
       "      <td>0.599149</td>\n",
       "      <td>-2.164903</td>\n",
       "      <td>win</td>\n",
       "      <td>win</td>\n",
       "    </tr>\n",
       "    <tr>\n",
       "      <th>6729</th>\n",
       "      <td>test</td>\n",
       "      <td>2017-07-29</td>\n",
       "      <td>Jarred Brooks</td>\n",
       "      <td>Eric Shelton</td>\n",
       "      <td>S-DEC:</td>\n",
       "      <td>0.011068</td>\n",
       "      <td>-0.133163</td>\n",
       "      <td>1.590190</td>\n",
       "      <td>0.001133</td>\n",
       "      <td>0.960129</td>\n",
       "      <td>0.218076</td>\n",
       "      <td>0.779264</td>\n",
       "      <td>0.377632</td>\n",
       "      <td>-0.294627</td>\n",
       "      <td>0.331559</td>\n",
       "      <td>-0.151239</td>\n",
       "      <td>-0.070965</td>\n",
       "      <td>-0.507334</td>\n",
       "      <td>0.015847</td>\n",
       "      <td>0.026948</td>\n",
       "      <td>-1.087573</td>\n",
       "      <td>win</td>\n",
       "      <td>win</td>\n",
       "    </tr>\n",
       "    <tr>\n",
       "      <th>6730</th>\n",
       "      <td>train</td>\n",
       "      <td>2017-07-29</td>\n",
       "      <td>Drew Dober</td>\n",
       "      <td>Joshua Burkman</td>\n",
       "      <td>KO/TKO:Punch</td>\n",
       "      <td>1.365610</td>\n",
       "      <td>0.167994</td>\n",
       "      <td>0.011143</td>\n",
       "      <td>0.001133</td>\n",
       "      <td>-0.985573</td>\n",
       "      <td>-0.656198</td>\n",
       "      <td>-0.594516</td>\n",
       "      <td>-0.194404</td>\n",
       "      <td>1.116061</td>\n",
       "      <td>-0.236000</td>\n",
       "      <td>0.611992</td>\n",
       "      <td>0.013146</td>\n",
       "      <td>0.985268</td>\n",
       "      <td>0.143619</td>\n",
       "      <td>0.026948</td>\n",
       "      <td>-2.164903</td>\n",
       "      <td>win</td>\n",
       "      <td>win</td>\n",
       "    </tr>\n",
       "  </tbody>\n",
       "</table>\n",
       "</div>"
      ],
      "text/plain": [
       "        set        date          fighter        opponent        method  \\\n",
       "6728   test  2017-07-29  Aleksandra Albu   Kailin Curran        U-DEC:   \n",
       "6729   test  2017-07-29    Jarred Brooks    Eric Shelton        S-DEC:   \n",
       "6730  train  2017-07-29       Drew Dober  Joshua Burkman  KO/TKO:Punch   \n",
       "\n",
       "        kd_dif   str_dif    td_dif   sub_dif  td avg._dif  td acc._dif  \\\n",
       "6728  0.011068 -0.133163  1.590190  0.001133     0.157318    -0.236546   \n",
       "6729  0.011068 -0.133163  1.590190  0.001133     0.960129     0.218076   \n",
       "6730  1.365610  0.167994  0.011143  0.001133    -0.985573    -0.656198   \n",
       "\n",
       "      td def._dif  sub. avg._dif  slpm_dif  str. acc._dif  sapm_dif  \\\n",
       "6728     0.544717      -0.194404  0.584680       0.331559  0.477663   \n",
       "6729     0.779264       0.377632 -0.294627       0.331559 -0.151239   \n",
       "6730    -0.594516      -0.194404  1.116061      -0.236000  0.611992   \n",
       "\n",
       "      str. def_dif  stance_win_ratio  win_perc_dif  win_strk_dif  \\\n",
       "6728     -1.248515          0.270739      2.060202      0.599149   \n",
       "6729     -0.070965         -0.507334      0.015847      0.026948   \n",
       "6730      0.013146          0.985268      0.143619      0.026948   \n",
       "\n",
       "      lose_strk_dif result result_pred  \n",
       "6728      -2.164903    win         win  \n",
       "6729      -1.087573    win         win  \n",
       "6730      -2.164903    win         win  "
      ]
     },
     "execution_count": 2,
     "metadata": {},
     "output_type": "execute_result"
    }
   ],
   "source": [
    "df = pd.read_csv('../data/fight_result_data_trained.csv')\n",
    "df.tail(3)"
   ]
  },
  {
   "cell_type": "markdown",
   "id": "27382ea2-9c78-406d-beb0-ccd0f75bd7bb",
   "metadata": {},
   "source": [
    "### <span style='color:green'> **[done]** </span>Define X & y:"
   ]
  },
  {
   "cell_type": "code",
   "execution_count": 3,
   "id": "646545ee-5c89-4d47-aaf2-6b357a81ed07",
   "metadata": {},
   "outputs": [
    {
     "data": {
      "text/html": [
       "<div>\n",
       "<style scoped>\n",
       "    .dataframe tbody tr th:only-of-type {\n",
       "        vertical-align: middle;\n",
       "    }\n",
       "\n",
       "    .dataframe tbody tr th {\n",
       "        vertical-align: top;\n",
       "    }\n",
       "\n",
       "    .dataframe thead th {\n",
       "        text-align: right;\n",
       "    }\n",
       "</style>\n",
       "<table border=\"1\" class=\"dataframe\">\n",
       "  <thead>\n",
       "    <tr style=\"text-align: right;\">\n",
       "      <th></th>\n",
       "      <th>set</th>\n",
       "      <th>date</th>\n",
       "      <th>fighter</th>\n",
       "      <th>opponent</th>\n",
       "      <th>result</th>\n",
       "      <th>kd_dif</th>\n",
       "      <th>str_dif</th>\n",
       "      <th>td_dif</th>\n",
       "      <th>sub_dif</th>\n",
       "      <th>td avg._dif</th>\n",
       "      <th>td acc._dif</th>\n",
       "      <th>td def._dif</th>\n",
       "      <th>sub. avg._dif</th>\n",
       "      <th>slpm_dif</th>\n",
       "      <th>str. acc._dif</th>\n",
       "      <th>sapm_dif</th>\n",
       "      <th>str. def_dif</th>\n",
       "      <th>method</th>\n",
       "    </tr>\n",
       "  </thead>\n",
       "  <tbody>\n",
       "    <tr>\n",
       "      <th>6728</th>\n",
       "      <td>test</td>\n",
       "      <td>2017-07-29</td>\n",
       "      <td>Aleksandra Albu</td>\n",
       "      <td>Kailin Curran</td>\n",
       "      <td>win</td>\n",
       "      <td>0.011068</td>\n",
       "      <td>-0.133163</td>\n",
       "      <td>1.590190</td>\n",
       "      <td>0.001133</td>\n",
       "      <td>0.157318</td>\n",
       "      <td>-0.236546</td>\n",
       "      <td>0.544717</td>\n",
       "      <td>-0.194404</td>\n",
       "      <td>0.584680</td>\n",
       "      <td>0.331559</td>\n",
       "      <td>0.477663</td>\n",
       "      <td>-1.248515</td>\n",
       "      <td>U-DEC:</td>\n",
       "    </tr>\n",
       "    <tr>\n",
       "      <th>6729</th>\n",
       "      <td>test</td>\n",
       "      <td>2017-07-29</td>\n",
       "      <td>Jarred Brooks</td>\n",
       "      <td>Eric Shelton</td>\n",
       "      <td>win</td>\n",
       "      <td>0.011068</td>\n",
       "      <td>-0.133163</td>\n",
       "      <td>1.590190</td>\n",
       "      <td>0.001133</td>\n",
       "      <td>0.960129</td>\n",
       "      <td>0.218076</td>\n",
       "      <td>0.779264</td>\n",
       "      <td>0.377632</td>\n",
       "      <td>-0.294627</td>\n",
       "      <td>0.331559</td>\n",
       "      <td>-0.151239</td>\n",
       "      <td>-0.070965</td>\n",
       "      <td>S-DEC:</td>\n",
       "    </tr>\n",
       "    <tr>\n",
       "      <th>6730</th>\n",
       "      <td>train</td>\n",
       "      <td>2017-07-29</td>\n",
       "      <td>Drew Dober</td>\n",
       "      <td>Joshua Burkman</td>\n",
       "      <td>win</td>\n",
       "      <td>1.365610</td>\n",
       "      <td>0.167994</td>\n",
       "      <td>0.011143</td>\n",
       "      <td>0.001133</td>\n",
       "      <td>-0.985573</td>\n",
       "      <td>-0.656198</td>\n",
       "      <td>-0.594516</td>\n",
       "      <td>-0.194404</td>\n",
       "      <td>1.116061</td>\n",
       "      <td>-0.236000</td>\n",
       "      <td>0.611992</td>\n",
       "      <td>0.013146</td>\n",
       "      <td>KO/TKO:Punch</td>\n",
       "    </tr>\n",
       "  </tbody>\n",
       "</table>\n",
       "</div>"
      ],
      "text/plain": [
       "        set        date          fighter        opponent result    kd_dif  \\\n",
       "6728   test  2017-07-29  Aleksandra Albu   Kailin Curran    win  0.011068   \n",
       "6729   test  2017-07-29    Jarred Brooks    Eric Shelton    win  0.011068   \n",
       "6730  train  2017-07-29       Drew Dober  Joshua Burkman    win  1.365610   \n",
       "\n",
       "       str_dif    td_dif   sub_dif  td avg._dif  td acc._dif  td def._dif  \\\n",
       "6728 -0.133163  1.590190  0.001133     0.157318    -0.236546     0.544717   \n",
       "6729 -0.133163  1.590190  0.001133     0.960129     0.218076     0.779264   \n",
       "6730  0.167994  0.011143  0.001133    -0.985573    -0.656198    -0.594516   \n",
       "\n",
       "      sub. avg._dif  slpm_dif  str. acc._dif  sapm_dif  str. def_dif  \\\n",
       "6728      -0.194404  0.584680       0.331559  0.477663     -1.248515   \n",
       "6729       0.377632 -0.294627       0.331559 -0.151239     -0.070965   \n",
       "6730      -0.194404  1.116061      -0.236000  0.611992      0.013146   \n",
       "\n",
       "            method  \n",
       "6728        U-DEC:  \n",
       "6729        S-DEC:  \n",
       "6730  KO/TKO:Punch  "
      ]
     },
     "execution_count": 3,
     "metadata": {},
     "output_type": "execute_result"
    }
   ],
   "source": [
    "req_data = ['set','date','fighter','opponent']\n",
    "y = ['method']\n",
    "X = ['result','kd_dif','str_dif','td_dif','sub_dif',\n",
    "    'td avg._dif','td acc._dif','td def._dif','sub. avg._dif',\n",
    "    'slpm_dif','str. acc._dif','sapm_dif','str. def_dif',\n",
    "    #'stance_win_ratio','win_perc_dif','win_strk_dif','lose_strk_dif'\n",
    "    ]\n",
    "\n",
    "df = df[req_data + X + y]\n",
    "df.tail(3)"
   ]
  },
  {
   "cell_type": "markdown",
   "id": "a7cc1746-0114-4562-9740-06fe79af3b66",
   "metadata": {},
   "source": [
    "#### <span style='color:green'> **[done]** </span>Feature relevant methods only:"
   ]
  },
  {
   "cell_type": "code",
   "execution_count": 4,
   "id": "3679f757-911a-4190-889c-d2536951388d",
   "metadata": {},
   "outputs": [
    {
     "name": "stderr",
     "output_type": "stream",
     "text": [
      "100%|██████████| 6731/6731 [00:01<00:00, 5333.30it/s]\n"
     ]
    },
    {
     "data": {
      "text/plain": [
       "array(['knockout', 'decision', 'submission'], dtype=object)"
      ]
     },
     "execution_count": 4,
     "metadata": {},
     "output_type": "execute_result"
    }
   ],
   "source": [
    "for i in tqdm(range(0,len(df))):\n",
    "    \n",
    "    method = str(df.loc[i,'method'])\n",
    "    \n",
    "    if method.find('KO/TKO') != -1:\n",
    "        df.loc[i,'method'] = 'knockout'\n",
    "    elif method.find('DEC') != -1:\n",
    "        df.loc[i,'method'] = 'decision'\n",
    "    elif method.find('SUB') != -1:\n",
    "        df.loc[i,'method'] = 'submission'\n",
    "    elif method.find('DQ') != -1:\n",
    "        df.loc[i,'method'] = 'disqual'\n",
    "\n",
    "df = df[df.method != 'disqual'].reset_index(drop=True)         \n",
    "df.method.unique()        "
   ]
  },
  {
   "cell_type": "markdown",
   "id": "7c8a20c9-f6ff-4e03-bbea-da842acae83c",
   "metadata": {
    "tags": []
   },
   "source": [
    "#### <span style='color:green'> **[done]** </span>Transform Categorical feature \"result\" to fit random forest:"
   ]
  },
  {
   "cell_type": "code",
   "execution_count": 5,
   "id": "606c7ff4-6f04-457b-8b8c-d8939b2233bf",
   "metadata": {},
   "outputs": [
    {
     "name": "stderr",
     "output_type": "stream",
     "text": [
      "100%|██████████| 6711/6711 [00:09<00:00, 673.67it/s]\n"
     ]
    },
    {
     "data": {
      "text/html": [
       "<div>\n",
       "<style scoped>\n",
       "    .dataframe tbody tr th:only-of-type {\n",
       "        vertical-align: middle;\n",
       "    }\n",
       "\n",
       "    .dataframe tbody tr th {\n",
       "        vertical-align: top;\n",
       "    }\n",
       "\n",
       "    .dataframe thead th {\n",
       "        text-align: right;\n",
       "    }\n",
       "</style>\n",
       "<table border=\"1\" class=\"dataframe\">\n",
       "  <thead>\n",
       "    <tr style=\"text-align: right;\">\n",
       "      <th></th>\n",
       "      <th>set</th>\n",
       "      <th>date</th>\n",
       "      <th>fighter</th>\n",
       "      <th>opponent</th>\n",
       "      <th>result</th>\n",
       "      <th>kd_dif</th>\n",
       "      <th>str_dif</th>\n",
       "      <th>td_dif</th>\n",
       "      <th>sub_dif</th>\n",
       "      <th>td avg._dif</th>\n",
       "      <th>td acc._dif</th>\n",
       "      <th>td def._dif</th>\n",
       "      <th>sub. avg._dif</th>\n",
       "      <th>slpm_dif</th>\n",
       "      <th>str. acc._dif</th>\n",
       "      <th>sapm_dif</th>\n",
       "      <th>str. def_dif</th>\n",
       "      <th>method</th>\n",
       "    </tr>\n",
       "  </thead>\n",
       "  <tbody>\n",
       "    <tr>\n",
       "      <th>6708</th>\n",
       "      <td>test</td>\n",
       "      <td>2017-07-29</td>\n",
       "      <td>Aleksandra Albu</td>\n",
       "      <td>Kailin Curran</td>\n",
       "      <td>0.5</td>\n",
       "      <td>0.011068</td>\n",
       "      <td>-0.133163</td>\n",
       "      <td>1.590190</td>\n",
       "      <td>0.001133</td>\n",
       "      <td>0.157318</td>\n",
       "      <td>-0.236546</td>\n",
       "      <td>0.544717</td>\n",
       "      <td>-0.194404</td>\n",
       "      <td>0.584680</td>\n",
       "      <td>0.331559</td>\n",
       "      <td>0.477663</td>\n",
       "      <td>-1.248515</td>\n",
       "      <td>decision</td>\n",
       "    </tr>\n",
       "    <tr>\n",
       "      <th>6709</th>\n",
       "      <td>test</td>\n",
       "      <td>2017-07-29</td>\n",
       "      <td>Jarred Brooks</td>\n",
       "      <td>Eric Shelton</td>\n",
       "      <td>0.5</td>\n",
       "      <td>0.011068</td>\n",
       "      <td>-0.133163</td>\n",
       "      <td>1.590190</td>\n",
       "      <td>0.001133</td>\n",
       "      <td>0.960129</td>\n",
       "      <td>0.218076</td>\n",
       "      <td>0.779264</td>\n",
       "      <td>0.377632</td>\n",
       "      <td>-0.294627</td>\n",
       "      <td>0.331559</td>\n",
       "      <td>-0.151239</td>\n",
       "      <td>-0.070965</td>\n",
       "      <td>decision</td>\n",
       "    </tr>\n",
       "    <tr>\n",
       "      <th>6710</th>\n",
       "      <td>train</td>\n",
       "      <td>2017-07-29</td>\n",
       "      <td>Drew Dober</td>\n",
       "      <td>Joshua Burkman</td>\n",
       "      <td>0.166667</td>\n",
       "      <td>1.365610</td>\n",
       "      <td>0.167994</td>\n",
       "      <td>0.011143</td>\n",
       "      <td>0.001133</td>\n",
       "      <td>-0.985573</td>\n",
       "      <td>-0.656198</td>\n",
       "      <td>-0.594516</td>\n",
       "      <td>-0.194404</td>\n",
       "      <td>1.116061</td>\n",
       "      <td>-0.236000</td>\n",
       "      <td>0.611992</td>\n",
       "      <td>0.013146</td>\n",
       "      <td>knockout</td>\n",
       "    </tr>\n",
       "  </tbody>\n",
       "</table>\n",
       "</div>"
      ],
      "text/plain": [
       "        set        date          fighter        opponent    result    kd_dif  \\\n",
       "6708   test  2017-07-29  Aleksandra Albu   Kailin Curran       0.5  0.011068   \n",
       "6709   test  2017-07-29    Jarred Brooks    Eric Shelton       0.5  0.011068   \n",
       "6710  train  2017-07-29       Drew Dober  Joshua Burkman  0.166667  1.365610   \n",
       "\n",
       "       str_dif    td_dif   sub_dif  td avg._dif  td acc._dif  td def._dif  \\\n",
       "6708 -0.133163  1.590190  0.001133     0.157318    -0.236546     0.544717   \n",
       "6709 -0.133163  1.590190  0.001133     0.960129     0.218076     0.779264   \n",
       "6710  0.167994  0.011143  0.001133    -0.985573    -0.656198    -0.594516   \n",
       "\n",
       "      sub. avg._dif  slpm_dif  str. acc._dif  sapm_dif  str. def_dif    method  \n",
       "6708      -0.194404  0.584680       0.331559  0.477663     -1.248515  decision  \n",
       "6709       0.377632 -0.294627       0.331559 -0.151239     -0.070965  decision  \n",
       "6710      -0.194404  1.116061      -0.236000  0.611992      0.013146  knockout  "
      ]
     },
     "execution_count": 5,
     "metadata": {},
     "output_type": "execute_result"
    }
   ],
   "source": [
    "for i in tqdm(range(len(df))):\n",
    "    fighter = df.loc[i,'fighter']\n",
    "    result = df.loc[i,'result']\n",
    "    df.loc[i,'result'] = len(df[(df.result==result)&(df.fighter==fighter)])/len(df[df.fighter==fighter])\n",
    "\n",
    "df.tail(3)    "
   ]
  },
  {
   "cell_type": "markdown",
   "id": "fb108ae4-fb5e-431c-a853-2a8d33d4fa6a",
   "metadata": {},
   "source": [
    "### <span style='color:green'> **[done]** </span> Random forest classifier model training:"
   ]
  },
  {
   "cell_type": "code",
   "execution_count": 6,
   "id": "fa29563a-64c5-4b8a-9b2a-123d4c05940c",
   "metadata": {},
   "outputs": [
    {
     "data": {
      "text/html": [
       "<div>\n",
       "<style scoped>\n",
       "    .dataframe tbody tr th:only-of-type {\n",
       "        vertical-align: middle;\n",
       "    }\n",
       "\n",
       "    .dataframe tbody tr th {\n",
       "        vertical-align: top;\n",
       "    }\n",
       "\n",
       "    .dataframe thead th {\n",
       "        text-align: right;\n",
       "    }\n",
       "</style>\n",
       "<table border=\"1\" class=\"dataframe\">\n",
       "  <thead>\n",
       "    <tr style=\"text-align: right;\">\n",
       "      <th></th>\n",
       "      <th>set</th>\n",
       "      <th>date</th>\n",
       "      <th>fighter</th>\n",
       "      <th>opponent</th>\n",
       "      <th>result</th>\n",
       "      <th>kd_dif</th>\n",
       "      <th>str_dif</th>\n",
       "      <th>td_dif</th>\n",
       "      <th>sub_dif</th>\n",
       "      <th>td avg._dif</th>\n",
       "      <th>td acc._dif</th>\n",
       "      <th>td def._dif</th>\n",
       "      <th>sub. avg._dif</th>\n",
       "      <th>slpm_dif</th>\n",
       "      <th>str. acc._dif</th>\n",
       "      <th>sapm_dif</th>\n",
       "      <th>str. def_dif</th>\n",
       "      <th>method</th>\n",
       "      <th>method_pred</th>\n",
       "    </tr>\n",
       "  </thead>\n",
       "  <tbody>\n",
       "    <tr>\n",
       "      <th>6708</th>\n",
       "      <td>test</td>\n",
       "      <td>2017-07-29</td>\n",
       "      <td>Aleksandra Albu</td>\n",
       "      <td>Kailin Curran</td>\n",
       "      <td>0.5</td>\n",
       "      <td>0.011068</td>\n",
       "      <td>-0.133163</td>\n",
       "      <td>1.590190</td>\n",
       "      <td>0.001133</td>\n",
       "      <td>0.157318</td>\n",
       "      <td>-0.236546</td>\n",
       "      <td>0.544717</td>\n",
       "      <td>-0.194404</td>\n",
       "      <td>0.584680</td>\n",
       "      <td>0.331559</td>\n",
       "      <td>0.477663</td>\n",
       "      <td>-1.248515</td>\n",
       "      <td>decision</td>\n",
       "      <td>decision</td>\n",
       "    </tr>\n",
       "    <tr>\n",
       "      <th>6709</th>\n",
       "      <td>test</td>\n",
       "      <td>2017-07-29</td>\n",
       "      <td>Jarred Brooks</td>\n",
       "      <td>Eric Shelton</td>\n",
       "      <td>0.5</td>\n",
       "      <td>0.011068</td>\n",
       "      <td>-0.133163</td>\n",
       "      <td>1.590190</td>\n",
       "      <td>0.001133</td>\n",
       "      <td>0.960129</td>\n",
       "      <td>0.218076</td>\n",
       "      <td>0.779264</td>\n",
       "      <td>0.377632</td>\n",
       "      <td>-0.294627</td>\n",
       "      <td>0.331559</td>\n",
       "      <td>-0.151239</td>\n",
       "      <td>-0.070965</td>\n",
       "      <td>decision</td>\n",
       "      <td>decision</td>\n",
       "    </tr>\n",
       "    <tr>\n",
       "      <th>6710</th>\n",
       "      <td>train</td>\n",
       "      <td>2017-07-29</td>\n",
       "      <td>Drew Dober</td>\n",
       "      <td>Joshua Burkman</td>\n",
       "      <td>0.166667</td>\n",
       "      <td>1.365610</td>\n",
       "      <td>0.167994</td>\n",
       "      <td>0.011143</td>\n",
       "      <td>0.001133</td>\n",
       "      <td>-0.985573</td>\n",
       "      <td>-0.656198</td>\n",
       "      <td>-0.594516</td>\n",
       "      <td>-0.194404</td>\n",
       "      <td>1.116061</td>\n",
       "      <td>-0.236000</td>\n",
       "      <td>0.611992</td>\n",
       "      <td>0.013146</td>\n",
       "      <td>knockout</td>\n",
       "      <td>knockout</td>\n",
       "    </tr>\n",
       "  </tbody>\n",
       "</table>\n",
       "</div>"
      ],
      "text/plain": [
       "        set        date          fighter        opponent    result    kd_dif  \\\n",
       "6708   test  2017-07-29  Aleksandra Albu   Kailin Curran       0.5  0.011068   \n",
       "6709   test  2017-07-29    Jarred Brooks    Eric Shelton       0.5  0.011068   \n",
       "6710  train  2017-07-29       Drew Dober  Joshua Burkman  0.166667  1.365610   \n",
       "\n",
       "       str_dif    td_dif   sub_dif  td avg._dif  td acc._dif  td def._dif  \\\n",
       "6708 -0.133163  1.590190  0.001133     0.157318    -0.236546     0.544717   \n",
       "6709 -0.133163  1.590190  0.001133     0.960129     0.218076     0.779264   \n",
       "6710  0.167994  0.011143  0.001133    -0.985573    -0.656198    -0.594516   \n",
       "\n",
       "      sub. avg._dif  slpm_dif  str. acc._dif  sapm_dif  str. def_dif  \\\n",
       "6708      -0.194404  0.584680       0.331559  0.477663     -1.248515   \n",
       "6709       0.377632 -0.294627       0.331559 -0.151239     -0.070965   \n",
       "6710      -0.194404  1.116061      -0.236000  0.611992      0.013146   \n",
       "\n",
       "        method method_pred  \n",
       "6708  decision    decision  \n",
       "6709  decision    decision  \n",
       "6710  knockout    knockout  "
      ]
     },
     "execution_count": 6,
     "metadata": {},
     "output_type": "execute_result"
    }
   ],
   "source": [
    "rf_clf = set_random_forest_clf(X_columns=X, y_columns=y, data=df, n=300)\n",
    "df = set_method_predictions(model=rf_clf, data=df, X_columns=X, y_columns=y)\n",
    "df.tail(3)"
   ]
  },
  {
   "cell_type": "code",
   "execution_count": 7,
   "id": "efef4160-04a2-40d0-a19e-47178908c80f",
   "metadata": {},
   "outputs": [
    {
     "name": "stdout",
     "output_type": "stream",
     "text": [
      "Accuracy = 0.714286\n"
     ]
    },
    {
     "data": {
      "text/plain": [
       "0.7142857142857143"
      ]
     },
     "execution_count": 7,
     "metadata": {},
     "output_type": "execute_result"
    },
    {
     "data": {
      "image/png": "[encoded data removed]",
      "text/plain": [
       "<Figure size 432x288 with 2 Axes>"
      ]
     },
     "metadata": {
      "needs_background": "light"
     },
     "output_type": "display_data"
    }
   ],
   "source": [
    "get_model_evaluation(data=df,y_column='method')"
   ]
  },
  {
   "cell_type": "markdown",
   "id": "fa8d95f8-c529-4a72-800e-7c8f3a0f4cda",
   "metadata": {},
   "source": [
    "#### <span style='color:green'> **[done]** </span> Tune Model parameters:"
   ]
  },
  {
   "cell_type": "code",
   "execution_count": 8,
   "id": "7e7d37c6-edf6-4a9e-943c-6abee86a6a3e",
   "metadata": {},
   "outputs": [
    {
     "name": "stdout",
     "output_type": "stream",
     "text": [
      "Data split: Data=(6711, 19), train_set=(3268, 13), validation_set=(1413, 13), test_set=(2030, 13)\n"
     ]
    },
    {
     "data": {
      "text/plain": [
       "array(['validation', 'train', 'test'], dtype=object)"
      ]
     },
     "execution_count": 8,
     "metadata": {},
     "output_type": "execute_result"
    }
   ],
   "source": [
    "df = set_train_test(X_columns=X, y_columns=y, data=df, test_size=0.3, valid_size=0.3)\n",
    "df.set.unique()"
   ]
  },
  {
   "cell_type": "code",
   "execution_count": 9,
   "id": "bada8e85-87c3-478d-a413-dd72fd656fd5",
   "metadata": {},
   "outputs": [
    {
     "name": "stderr",
     "output_type": "stream",
     "text": [
      "100%|██████████| 9/9 [00:07<00:00,  1.23it/s]\n"
     ]
    },
    {
     "data": {
      "text/html": [
       "<div>\n",
       "<style scoped>\n",
       "    .dataframe tbody tr th:only-of-type {\n",
       "        vertical-align: middle;\n",
       "    }\n",
       "\n",
       "    .dataframe tbody tr th {\n",
       "        vertical-align: top;\n",
       "    }\n",
       "\n",
       "    .dataframe thead th {\n",
       "        text-align: right;\n",
       "    }\n",
       "</style>\n",
       "<table border=\"1\" class=\"dataframe\">\n",
       "  <thead>\n",
       "    <tr style=\"text-align: right;\">\n",
       "      <th></th>\n",
       "      <th>n_estimators</th>\n",
       "      <th>accuracy</th>\n",
       "    </tr>\n",
       "  </thead>\n",
       "  <tbody>\n",
       "    <tr>\n",
       "      <th>4</th>\n",
       "      <td>32</td>\n",
       "      <td>0.719745</td>\n",
       "    </tr>\n",
       "    <tr>\n",
       "      <th>5</th>\n",
       "      <td>64</td>\n",
       "      <td>0.720453</td>\n",
       "    </tr>\n",
       "    <tr>\n",
       "      <th>6</th>\n",
       "      <td>128</td>\n",
       "      <td>0.716914</td>\n",
       "    </tr>\n",
       "    <tr>\n",
       "      <th>7</th>\n",
       "      <td>256</td>\n",
       "      <td>0.716207</td>\n",
       "    </tr>\n",
       "    <tr>\n",
       "      <th>8</th>\n",
       "      <td>512</td>\n",
       "      <td>0.714791</td>\n",
       "    </tr>\n",
       "  </tbody>\n",
       "</table>\n",
       "</div>"
      ],
      "text/plain": [
       "  n_estimators  accuracy\n",
       "4           32  0.719745\n",
       "5           64  0.720453\n",
       "6          128  0.716914\n",
       "7          256  0.716207\n",
       "8          512  0.714791"
      ]
     },
     "execution_count": 9,
     "metadata": {},
     "output_type": "execute_result"
    }
   ],
   "source": [
    "sum_table = pd.DataFrame(columns=['n_estimators','accuracy'])\n",
    "\n",
    "for n in tqdm([2,4,8,16,32,64,128,256,512]):\n",
    "    sum_table = pd.concat([sum_table,get_method_grad_desc_step( X_columns=X, y_columns=y, data=df, n_estimators=n)],ignore_index=True)\n",
    "\n",
    "sum_table.tail(5)"
   ]
  },
  {
   "cell_type": "code",
   "execution_count": 10,
   "id": "34f670d0-8bde-4f0a-85f5-a73c1c40a839",
   "metadata": {},
   "outputs": [
    {
     "data": {
      "text/html": [
       "<div>\n",
       "<style scoped>\n",
       "    .dataframe tbody tr th:only-of-type {\n",
       "        vertical-align: middle;\n",
       "    }\n",
       "\n",
       "    .dataframe tbody tr th {\n",
       "        vertical-align: top;\n",
       "    }\n",
       "\n",
       "    .dataframe thead th {\n",
       "        text-align: right;\n",
       "    }\n",
       "</style>\n",
       "<table border=\"1\" class=\"dataframe\">\n",
       "  <thead>\n",
       "    <tr style=\"text-align: right;\">\n",
       "      <th></th>\n",
       "      <th>n_estimators</th>\n",
       "      <th>accuracy</th>\n",
       "    </tr>\n",
       "  </thead>\n",
       "  <tbody>\n",
       "    <tr>\n",
       "      <th>0</th>\n",
       "      <td>64</td>\n",
       "      <td>0.720453</td>\n",
       "    </tr>\n",
       "  </tbody>\n",
       "</table>\n",
       "</div>"
      ],
      "text/plain": [
       "  n_estimators  accuracy\n",
       "0           64  0.720453"
      ]
     },
     "execution_count": 10,
     "metadata": {},
     "output_type": "execute_result"
    },
    {
     "data": {
      "image/png": "[encoded data removed]",
      "text/plain": [
       "<Figure size 432x288 with 1 Axes>"
      ]
     },
     "metadata": {
      "needs_background": "light"
     },
     "output_type": "display_data"
    }
   ],
   "source": [
    "sns.scatterplot(data=sum_table, x='n_estimators', y='accuracy')\n",
    "sns.lineplot(data=sum_table, x='n_estimators', y='accuracy')\n",
    "\n",
    "t = sum_table[sum_table.accuracy == np.max(sum_table['accuracy'])].reset_index(drop=True)\n",
    "opt_n_estimators = t.loc[0,'n_estimators']\n",
    "opt_acc = t.loc[0,'accuracy']\n",
    "t"
   ]
  },
  {
   "cell_type": "markdown",
   "id": "32bacbf3-dade-463d-86fb-ee43f5a4eee5",
   "metadata": {
    "tags": []
   },
   "source": [
    "#### <span style='color:green'> **[done]** </span> Train model with chosen parameters & 10-fold Cross Validation:"
   ]
  },
  {
   "cell_type": "code",
   "execution_count": 11,
   "id": "5251d543-5fdf-4992-b6c2-acb6a9766c74",
   "metadata": {},
   "outputs": [
    {
     "name": "stderr",
     "output_type": "stream",
     "text": [
      "100%|██████████| 10/10 [00:07<00:00,  1.36it/s]"
     ]
    },
    {
     "name": "stdout",
     "output_type": "stream",
     "text": [
      "10-Fold cross-validation model accuracy: 0.7224\n"
     ]
    },
    {
     "name": "stderr",
     "output_type": "stream",
     "text": [
      "\n"
     ]
    }
   ],
   "source": [
    "k = 10\n",
    "size = len(df)\n",
    "batch = int(size/k)\n",
    "acc = []\n",
    "\n",
    "for i in tqdm(range(0,size-batch,batch)):\n",
    "    test_start = i\n",
    "    test_end = i + batch - 1\n",
    "    df.loc[:,'set'] = 'train'\n",
    "    df.loc[test_start:test_end,'set'] = 'test'\n",
    "    rf_clf = set_random_forest_clf(X_columns=X, y_columns=y, data=df, n=opt_n_estimators)\n",
    "    df = set_predictions(model=rf_clf, data=df, X_columns=X, y_columns=y) \n",
    "    y_test_act = df['method'][df.set=='test']\n",
    "    y_test_pred = df['method_pred'][df.set=='test']\n",
    "    acc.append(get_accuracy(act=y_test_act, pred=y_test_pred))\n",
    "\n",
    "opt_acc = np.mean(acc)    \n",
    "print('%d-Fold cross-validation model accuracy: %.4f' %(k,opt_acc))"
   ]
  },
  {
   "cell_type": "markdown",
   "id": "3b1d3806-915e-488e-b226-324f222a4e02",
   "metadata": {},
   "source": [
    "#### <span style='color:green'> **[done]** </span> Saving tuned parameters:"
   ]
  },
  {
   "cell_type": "code",
   "execution_count": 12,
   "id": "2f962c3a-9588-4263-8bad-3929c8256963",
   "metadata": {},
   "outputs": [
    {
     "name": "stdout",
     "output_type": "stream",
     "text": [
      "../global_variables/ml_models_parameters.csv saved.\n"
     ]
    },
    {
     "data": {
      "text/html": [
       "<div>\n",
       "<style scoped>\n",
       "    .dataframe tbody tr th:only-of-type {\n",
       "        vertical-align: middle;\n",
       "    }\n",
       "\n",
       "    .dataframe tbody tr th {\n",
       "        vertical-align: top;\n",
       "    }\n",
       "\n",
       "    .dataframe thead th {\n",
       "        text-align: right;\n",
       "    }\n",
       "</style>\n",
       "<table border=\"1\" class=\"dataframe\">\n",
       "  <thead>\n",
       "    <tr style=\"text-align: right;\">\n",
       "      <th></th>\n",
       "      <th>ml_model</th>\n",
       "      <th>parameter_name</th>\n",
       "      <th>value</th>\n",
       "      <th>accuracy</th>\n",
       "    </tr>\n",
       "  </thead>\n",
       "  <tbody>\n",
       "    <tr>\n",
       "      <th>0</th>\n",
       "      <td>stats_random_forest_regressor</td>\n",
       "      <td>n_estimators</td>\n",
       "      <td>256</td>\n",
       "      <td>0.886900</td>\n",
       "    </tr>\n",
       "    <tr>\n",
       "      <th>1</th>\n",
       "      <td>method_random_forest_classifier</td>\n",
       "      <td>n_estimator</td>\n",
       "      <td>64</td>\n",
       "      <td>0.722355</td>\n",
       "    </tr>\n",
       "  </tbody>\n",
       "</table>\n",
       "</div>"
      ],
      "text/plain": [
       "                          ml_model parameter_name  value  accuracy\n",
       "0    stats_random_forest_regressor   n_estimators    256  0.886900\n",
       "1  method_random_forest_classifier    n_estimator     64  0.722355"
      ]
     },
     "execution_count": 12,
     "metadata": {},
     "output_type": "execute_result"
    }
   ],
   "source": [
    "gp = pd.read_csv('../global_variables/ml_models_parameters.csv')\n",
    "gp = gp[gp.ml_model != 'method_random_forest_classifier'].reset_index(drop=True)\n",
    "\n",
    "param = pd.DataFrame(data={'ml_model':['method_random_forest_classifier'],\n",
    "                          'parameter_name':['n_estimator'],\n",
    "                          'value':[opt_n_estimators],\n",
    "                          'accuracy':[opt_acc]}\n",
    "                    )\n",
    "gp = pd.concat([gp,param],ignore_index=True)\n",
    "gp.to_csv('../global_variables/ml_models_parameters.csv', index=None)\n",
    "print('../global_variables/ml_models_parameters.csv saved.')\n",
    "gp"
   ]
  },
  {
   "cell_type": "markdown",
   "id": "e3517291-60b3-46a5-9ba8-69fa2fd9533f",
   "metadata": {},
   "source": [
    "#### <span style='color:green'> **[done]** </span> Saving model as pickle:"
   ]
  },
  {
   "cell_type": "code",
   "execution_count": 13,
   "id": "c68a0f6c-a57f-449a-9c68-2f15e5742046",
   "metadata": {},
   "outputs": [
    {
     "name": "stdout",
     "output_type": "stream",
     "text": [
      "../global_variables/method_pred_random_forest_clf.pkl saved.\n"
     ]
    }
   ],
   "source": [
    "save_trained_model(model=rf_clf,filename_path='../global_variables/method_pred_random_forest_clf')"
   ]
  },
  {
   "cell_type": "markdown",
   "id": "a2514f71-94cd-4c25-903a-b7c8f121b23a",
   "metadata": {},
   "source": [
    "#### <span style='color:green'> **[done]** </span> saving data:"
   ]
  },
  {
   "cell_type": "code",
   "execution_count": 14,
   "id": "d061b90d-56f7-41b9-8efd-beb576dbadad",
   "metadata": {},
   "outputs": [
    {
     "name": "stdout",
     "output_type": "stream",
     "text": [
      "../data/fight_method_data_trained.csv saved.\n"
     ]
    }
   ],
   "source": [
    "df.to_csv('../data/fight_method_data_trained.csv',index=None)\n",
    "print('../data/fight_method_data_trained.csv saved.')"
   ]
  },
  {
   "cell_type": "code",
   "execution_count": null,
   "id": "7cc1d340-6a85-45c9-b021-afc6668272f2",
   "metadata": {},
   "outputs": [],
   "source": []
  }
 ],
 "metadata": {
  "kernelspec": {
   "display_name": "py3",
   "language": "python",
   "name": "py3"
  },
  "language_info": {
   "codemirror_mode": {
    "name": "ipython",
    "version": 3
   },
   "file_extension": ".py",
   "mimetype": "text/x-python",
   "name": "python",
   "nbconvert_exporter": "python",
   "pygments_lexer": "ipython3",
   "version": "3.7.12"
  }
 },
 "nbformat": 4,
 "nbformat_minor": 5
}
