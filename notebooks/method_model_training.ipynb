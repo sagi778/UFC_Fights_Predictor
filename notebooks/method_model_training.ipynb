{
 "cells": [
  {
   "cell_type": "code",
   "execution_count": 74,
   "id": "208f54e1-e70b-4996-97a4-642f4bff29ab",
   "metadata": {},
   "outputs": [
    {
     "name": "stdout",
     "output_type": "stream",
     "text": [
      "imports loaded.\n",
      "\n",
      "Pre-Processing func:\n",
      "********************\n",
      "    get_height(item)\n",
      "    get_weight(item)\n",
      "    get_reach(item)\n",
      "    get_std_reach(item, height, reach_list, height_list)\n",
      "    get_age(item)\n",
      "    get_std_age(item, age_list)\n",
      "    get_win_perc(name, date, df)\n",
      "    get_lose_streak_data_frame(name, date, df)\n",
      "    get_win_streak_data_frame(name, date, df)\n",
      "    get_streak_data_frame(name, date, df)\n",
      "    get_win_streak(name, date, df)\n",
      "    get_lose_streak(name, date, df)\n",
      "    get_fighter_stats(name, data )\n",
      "    add_columns(data, column_list)\n",
      "\n",
      "Feature Engineering func:\n",
      "*************************\n",
      "    get_stat(index, data, stat='height', fo='')\n",
      "    get_swaped_row(index, data)\n",
      "    get_wins(combo, data)\n",
      "    get_wins_ratio(combo, data)\n",
      "\n",
      "stats_model_training func:\n",
      "********************************\n",
      "    get_sig_features(data, sig_r)\n",
      "    get_r_score(X, y)\n",
      "    set_train_test(X_columns, y_columns, data, test_size=0.3, valid_size=0.3)\n",
      "    set_random_forest_reg(X_columns, y_columns, data)\n",
      "    set_predictions(model, data, X_columns, y_columns)\n",
      "    get_mean_percentage_error(act, pred)\n",
      "    get_rmse(act, pred)\n",
      "    get_grad_descent_step(X_columns, y_columns, data, n)\n",
      "\n",
      "result_model_training func:\n",
      "*********************************\n",
      "    set_random_forest_clf(X_columns, y_columns, data)\n",
      "    get_clf_grad_desc_step( X_columns, y_columns, data, neighbors)\n",
      "    get_model_evaluation(data)\n",
      "    get_accuracy(act, pred)\n",
      "\n",
      "method_model_training func:\n",
      "***************************\n",
      "    set_method_predictions(model, data, X_columns, y_columns)\n",
      "\n",
      "Prediction func:\n",
      "****************\n",
      "    get_current_date()\n",
      "    get_win_perc(fighter, data)\n",
      "    get_lose_streak(fighter, data)\n",
      "    get_win_streak(fighter, data)\n",
      "    get_td_avg(fighter, data)\n",
      "    get_td_acc(fighter, data)\n",
      "    get_td_def(fighter, data)\n",
      "    get_str_acc(fighter, data)\n",
      "    get_str_def(fighter, data)\n",
      "    get_sub_avg(fighter, data)\n",
      "    get_sapm(fighter, data)\n",
      "    get_slpm(fighter, data)\n",
      "    get_stance(fighter, data)\n",
      "    get_stance_wins_ratio(fighter, data)\n",
      "    set_new_fight(fighter, opponent, data)\n",
      "    set_knn_predictor(X_columns, y_columns, data, n=5)\n",
      "    set_knn_predictions(model, data, X_columns, y_columns)\n",
      "    set_knn_clf_predictor(X_columns, y_columns, data, neighbors)\n",
      "    set_pred_results(model, data, X_columns, y_columns)\n",
      "    get_fighters_stats(fighter, opponent, data)\n",
      "    get_winner(fighter=fighter, opponent, data)\n",
      "\n",
      "micro_model_training func:\n",
      "**************************\n",
      "    set_result_column(fighter,data)\n",
      "    get_my_losses(fighter, data)\n",
      "    get_my_wins(fighter, data)\n",
      "    get_synt_loss(fighter)\n",
      "    get_loss_value(values)\n"
     ]
    }
   ],
   "source": [
    "%run func_def.ipynb"
   ]
  },
  {
   "cell_type": "markdown",
   "id": "7a77123c-c22a-459f-81d0-2199b0342b48",
   "metadata": {},
   "source": [
    "### <span style='color:green'> **[done]** </span>Loading data"
   ]
  },
  {
   "cell_type": "code",
   "execution_count": 113,
   "id": "5dc357f4-1469-48fa-b6ab-f4d5acc373fa",
   "metadata": {},
   "outputs": [
    {
     "data": {
      "text/html": [
       "<div>\n",
       "<style scoped>\n",
       "    .dataframe tbody tr th:only-of-type {\n",
       "        vertical-align: middle;\n",
       "    }\n",
       "\n",
       "    .dataframe tbody tr th {\n",
       "        vertical-align: top;\n",
       "    }\n",
       "\n",
       "    .dataframe thead th {\n",
       "        text-align: right;\n",
       "    }\n",
       "</style>\n",
       "<table border=\"1\" class=\"dataframe\">\n",
       "  <thead>\n",
       "    <tr style=\"text-align: right;\">\n",
       "      <th></th>\n",
       "      <th>set</th>\n",
       "      <th>date</th>\n",
       "      <th>fighter</th>\n",
       "      <th>opponent</th>\n",
       "      <th>method</th>\n",
       "      <th>kd_dif</th>\n",
       "      <th>str_dif</th>\n",
       "      <th>td_dif</th>\n",
       "      <th>sub_dif</th>\n",
       "      <th>td avg._dif</th>\n",
       "      <th>td acc._dif</th>\n",
       "      <th>td def._dif</th>\n",
       "      <th>sub. avg._dif</th>\n",
       "      <th>slpm_dif</th>\n",
       "      <th>str. acc._dif</th>\n",
       "      <th>sapm_dif</th>\n",
       "      <th>str. def_dif</th>\n",
       "      <th>stance_win_ratio</th>\n",
       "      <th>win_perc_dif</th>\n",
       "      <th>win_strk_dif</th>\n",
       "      <th>lose_strk_dif</th>\n",
       "      <th>result</th>\n",
       "      <th>result_pred</th>\n",
       "    </tr>\n",
       "  </thead>\n",
       "  <tbody>\n",
       "    <tr>\n",
       "      <th>6826</th>\n",
       "      <td>validation</td>\n",
       "      <td>2017-07-29</td>\n",
       "      <td>Kailin Curran</td>\n",
       "      <td>Aleksandra Albu</td>\n",
       "      <td>U-DEC:</td>\n",
       "      <td>-0.00892</td>\n",
       "      <td>0.123128</td>\n",
       "      <td>-1.597639</td>\n",
       "      <td>0.008337</td>\n",
       "      <td>-0.150322</td>\n",
       "      <td>0.248259</td>\n",
       "      <td>-0.545754</td>\n",
       "      <td>0.199566</td>\n",
       "      <td>-0.613584</td>\n",
       "      <td>-0.320786</td>\n",
       "      <td>-0.491150</td>\n",
       "      <td>1.249440</td>\n",
       "      <td>-0.054481</td>\n",
       "      <td>-2.040434</td>\n",
       "      <td>-0.589427</td>\n",
       "      <td>2.164739</td>\n",
       "      <td>lose</td>\n",
       "      <td>lose</td>\n",
       "    </tr>\n",
       "    <tr>\n",
       "      <th>6827</th>\n",
       "      <td>train</td>\n",
       "      <td>2017-07-29</td>\n",
       "      <td>Jarred Brooks</td>\n",
       "      <td>Eric Shelton</td>\n",
       "      <td>S-DEC:</td>\n",
       "      <td>-0.00892</td>\n",
       "      <td>-0.176583</td>\n",
       "      <td>1.561212</td>\n",
       "      <td>0.008337</td>\n",
       "      <td>0.950517</td>\n",
       "      <td>0.213119</td>\n",
       "      <td>0.767752</td>\n",
       "      <td>0.391150</td>\n",
       "      <td>-0.305805</td>\n",
       "      <td>0.329644</td>\n",
       "      <td>-0.129731</td>\n",
       "      <td>-0.099707</td>\n",
       "      <td>1.584492</td>\n",
       "      <td>0.005137</td>\n",
       "      <td>-0.017747</td>\n",
       "      <td>-1.062286</td>\n",
       "      <td>win</td>\n",
       "      <td>win</td>\n",
       "    </tr>\n",
       "    <tr>\n",
       "      <th>6828</th>\n",
       "      <td>validation</td>\n",
       "      <td>2017-07-29</td>\n",
       "      <td>Drew Dober</td>\n",
       "      <td>Joshua Burkman</td>\n",
       "      <td>KO/TKO:Punch</td>\n",
       "      <td>1.34476</td>\n",
       "      <td>0.123128</td>\n",
       "      <td>-0.018213</td>\n",
       "      <td>0.008337</td>\n",
       "      <td>-1.012090</td>\n",
       "      <td>-0.665378</td>\n",
       "      <td>-0.579434</td>\n",
       "      <td>-0.183603</td>\n",
       "      <td>1.094906</td>\n",
       "      <td>-0.239482</td>\n",
       "      <td>0.783004</td>\n",
       "      <td>-0.015385</td>\n",
       "      <td>1.671822</td>\n",
       "      <td>0.132985</td>\n",
       "      <td>-0.017747</td>\n",
       "      <td>-2.137961</td>\n",
       "      <td>win</td>\n",
       "      <td>win</td>\n",
       "    </tr>\n",
       "  </tbody>\n",
       "</table>\n",
       "</div>"
      ],
      "text/plain": [
       "             set        date        fighter         opponent        method  \\\n",
       "6826  validation  2017-07-29  Kailin Curran  Aleksandra Albu        U-DEC:   \n",
       "6827       train  2017-07-29  Jarred Brooks     Eric Shelton        S-DEC:   \n",
       "6828  validation  2017-07-29     Drew Dober   Joshua Burkman  KO/TKO:Punch   \n",
       "\n",
       "       kd_dif   str_dif    td_dif   sub_dif  td avg._dif  td acc._dif  \\\n",
       "6826 -0.00892  0.123128 -1.597639  0.008337    -0.150322     0.248259   \n",
       "6827 -0.00892 -0.176583  1.561212  0.008337     0.950517     0.213119   \n",
       "6828  1.34476  0.123128 -0.018213  0.008337    -1.012090    -0.665378   \n",
       "\n",
       "      td def._dif  sub. avg._dif  slpm_dif  str. acc._dif  sapm_dif  \\\n",
       "6826    -0.545754       0.199566 -0.613584      -0.320786 -0.491150   \n",
       "6827     0.767752       0.391150 -0.305805       0.329644 -0.129731   \n",
       "6828    -0.579434      -0.183603  1.094906      -0.239482  0.783004   \n",
       "\n",
       "      str. def_dif  stance_win_ratio  win_perc_dif  win_strk_dif  \\\n",
       "6826      1.249440         -0.054481     -2.040434     -0.589427   \n",
       "6827     -0.099707          1.584492      0.005137     -0.017747   \n",
       "6828     -0.015385          1.671822      0.132985     -0.017747   \n",
       "\n",
       "      lose_strk_dif result result_pred  \n",
       "6826       2.164739   lose        lose  \n",
       "6827      -1.062286    win         win  \n",
       "6828      -2.137961    win         win  "
      ]
     },
     "execution_count": 113,
     "metadata": {},
     "output_type": "execute_result"
    }
   ],
   "source": [
    "df = pd.read_csv('../data/fight_result_data_trained.csv')\n",
    "df.tail(3)"
   ]
  },
  {
   "cell_type": "markdown",
   "id": "27382ea2-9c78-406d-beb0-ccd0f75bd7bb",
   "metadata": {},
   "source": [
    "### <span style='color:green'> **[done]** </span>Define X & y:"
   ]
  },
  {
   "cell_type": "code",
   "execution_count": 114,
   "id": "646545ee-5c89-4d47-aaf2-6b357a81ed07",
   "metadata": {},
   "outputs": [
    {
     "data": {
      "text/html": [
       "<div>\n",
       "<style scoped>\n",
       "    .dataframe tbody tr th:only-of-type {\n",
       "        vertical-align: middle;\n",
       "    }\n",
       "\n",
       "    .dataframe tbody tr th {\n",
       "        vertical-align: top;\n",
       "    }\n",
       "\n",
       "    .dataframe thead th {\n",
       "        text-align: right;\n",
       "    }\n",
       "</style>\n",
       "<table border=\"1\" class=\"dataframe\">\n",
       "  <thead>\n",
       "    <tr style=\"text-align: right;\">\n",
       "      <th></th>\n",
       "      <th>set</th>\n",
       "      <th>date</th>\n",
       "      <th>fighter</th>\n",
       "      <th>opponent</th>\n",
       "      <th>result</th>\n",
       "      <th>kd_dif</th>\n",
       "      <th>str_dif</th>\n",
       "      <th>td_dif</th>\n",
       "      <th>sub_dif</th>\n",
       "      <th>method</th>\n",
       "    </tr>\n",
       "  </thead>\n",
       "  <tbody>\n",
       "    <tr>\n",
       "      <th>6826</th>\n",
       "      <td>validation</td>\n",
       "      <td>2017-07-29</td>\n",
       "      <td>Kailin Curran</td>\n",
       "      <td>Aleksandra Albu</td>\n",
       "      <td>lose</td>\n",
       "      <td>-0.00892</td>\n",
       "      <td>0.123128</td>\n",
       "      <td>-1.597639</td>\n",
       "      <td>0.008337</td>\n",
       "      <td>U-DEC:</td>\n",
       "    </tr>\n",
       "    <tr>\n",
       "      <th>6827</th>\n",
       "      <td>train</td>\n",
       "      <td>2017-07-29</td>\n",
       "      <td>Jarred Brooks</td>\n",
       "      <td>Eric Shelton</td>\n",
       "      <td>win</td>\n",
       "      <td>-0.00892</td>\n",
       "      <td>-0.176583</td>\n",
       "      <td>1.561212</td>\n",
       "      <td>0.008337</td>\n",
       "      <td>S-DEC:</td>\n",
       "    </tr>\n",
       "    <tr>\n",
       "      <th>6828</th>\n",
       "      <td>validation</td>\n",
       "      <td>2017-07-29</td>\n",
       "      <td>Drew Dober</td>\n",
       "      <td>Joshua Burkman</td>\n",
       "      <td>win</td>\n",
       "      <td>1.34476</td>\n",
       "      <td>0.123128</td>\n",
       "      <td>-0.018213</td>\n",
       "      <td>0.008337</td>\n",
       "      <td>KO/TKO:Punch</td>\n",
       "    </tr>\n",
       "  </tbody>\n",
       "</table>\n",
       "</div>"
      ],
      "text/plain": [
       "             set        date        fighter         opponent result   kd_dif  \\\n",
       "6826  validation  2017-07-29  Kailin Curran  Aleksandra Albu   lose -0.00892   \n",
       "6827       train  2017-07-29  Jarred Brooks     Eric Shelton    win -0.00892   \n",
       "6828  validation  2017-07-29     Drew Dober   Joshua Burkman    win  1.34476   \n",
       "\n",
       "       str_dif    td_dif   sub_dif        method  \n",
       "6826  0.123128 -1.597639  0.008337        U-DEC:  \n",
       "6827 -0.176583  1.561212  0.008337        S-DEC:  \n",
       "6828  0.123128 -0.018213  0.008337  KO/TKO:Punch  "
      ]
     },
     "execution_count": 114,
     "metadata": {},
     "output_type": "execute_result"
    }
   ],
   "source": [
    "req_data = ['set','date','fighter','opponent']\n",
    "y = ['method']\n",
    "X = ['result','kd_dif','str_dif','td_dif','sub_dif',\n",
    "    #'td avg._dif','td acc._dif','td def._dif','sub. avg._dif',\n",
    "    #'slpm_dif','str. acc._dif','sapm_dif','str. def_dif',\n",
    "    #'stance_win_ratio','win_perc_dif','win_strk_dif','lose_strk_dif'\n",
    "    ]\n",
    "\n",
    "df = df[req_data + X + y]\n",
    "df.tail(3)"
   ]
  },
  {
   "cell_type": "markdown",
   "id": "a7cc1746-0114-4562-9740-06fe79af3b66",
   "metadata": {},
   "source": [
    "#### <span style='color:green'> **[done]** </span>Feature relevant methods only:"
   ]
  },
  {
   "cell_type": "code",
   "execution_count": 115,
   "id": "3679f757-911a-4190-889c-d2536951388d",
   "metadata": {},
   "outputs": [
    {
     "name": "stderr",
     "output_type": "stream",
     "text": [
      "100%|███████████████████████████████████████████████████████████████████████████| 6829/6829 [00:00<00:00, 18893.42it/s]\n"
     ]
    },
    {
     "data": {
      "text/plain": [
       "array(['knockout', 'decision', 'submission'], dtype=object)"
      ]
     },
     "execution_count": 115,
     "metadata": {},
     "output_type": "execute_result"
    }
   ],
   "source": [
    "for i in tqdm(range(0,len(df))):\n",
    "    \n",
    "    method = str(df.loc[i,'method'])\n",
    "    \n",
    "    if method.find('KO/TKO') != -1:\n",
    "        df.loc[i,'method'] = 'knockout'\n",
    "    elif method.find('DEC') != -1:\n",
    "        df.loc[i,'method'] = 'decision'\n",
    "    elif method.find('SUB') != -1:\n",
    "        df.loc[i,'method'] = 'submission'\n",
    "    elif method.find('DQ') != -1:\n",
    "        df.loc[i,'method'] = 'disqual'\n",
    "\n",
    "df = df[df.method != 'disqual'].reset_index(drop=True)         \n",
    "df.method.unique()        "
   ]
  },
  {
   "cell_type": "markdown",
   "id": "7c8a20c9-f6ff-4e03-bbea-da842acae83c",
   "metadata": {
    "tags": []
   },
   "source": [
    "#### <span style='color:green'> **[done]** </span>Transform Categorical feature \"result\" to fit random forest:"
   ]
  },
  {
   "cell_type": "code",
   "execution_count": 116,
   "id": "606c7ff4-6f04-457b-8b8c-d8939b2233bf",
   "metadata": {},
   "outputs": [
    {
     "name": "stderr",
     "output_type": "stream",
     "text": [
      "100%|█████████████████████████████████████████████████████████████████████████████| 6809/6809 [00:08<00:00, 843.94it/s]\n"
     ]
    },
    {
     "data": {
      "text/html": [
       "<div>\n",
       "<style scoped>\n",
       "    .dataframe tbody tr th:only-of-type {\n",
       "        vertical-align: middle;\n",
       "    }\n",
       "\n",
       "    .dataframe tbody tr th {\n",
       "        vertical-align: top;\n",
       "    }\n",
       "\n",
       "    .dataframe thead th {\n",
       "        text-align: right;\n",
       "    }\n",
       "</style>\n",
       "<table border=\"1\" class=\"dataframe\">\n",
       "  <thead>\n",
       "    <tr style=\"text-align: right;\">\n",
       "      <th></th>\n",
       "      <th>set</th>\n",
       "      <th>date</th>\n",
       "      <th>fighter</th>\n",
       "      <th>opponent</th>\n",
       "      <th>result</th>\n",
       "      <th>kd_dif</th>\n",
       "      <th>str_dif</th>\n",
       "      <th>td_dif</th>\n",
       "      <th>sub_dif</th>\n",
       "      <th>method</th>\n",
       "    </tr>\n",
       "  </thead>\n",
       "  <tbody>\n",
       "    <tr>\n",
       "      <th>6806</th>\n",
       "      <td>validation</td>\n",
       "      <td>2017-07-29</td>\n",
       "      <td>Kailin Curran</td>\n",
       "      <td>Aleksandra Albu</td>\n",
       "      <td>0.5</td>\n",
       "      <td>-0.00892</td>\n",
       "      <td>0.123128</td>\n",
       "      <td>-1.597639</td>\n",
       "      <td>0.008337</td>\n",
       "      <td>decision</td>\n",
       "    </tr>\n",
       "    <tr>\n",
       "      <th>6807</th>\n",
       "      <td>train</td>\n",
       "      <td>2017-07-29</td>\n",
       "      <td>Jarred Brooks</td>\n",
       "      <td>Eric Shelton</td>\n",
       "      <td>0.333333</td>\n",
       "      <td>-0.00892</td>\n",
       "      <td>-0.176583</td>\n",
       "      <td>1.561212</td>\n",
       "      <td>0.008337</td>\n",
       "      <td>decision</td>\n",
       "    </tr>\n",
       "    <tr>\n",
       "      <th>6808</th>\n",
       "      <td>validation</td>\n",
       "      <td>2017-07-29</td>\n",
       "      <td>Drew Dober</td>\n",
       "      <td>Joshua Burkman</td>\n",
       "      <td>0.083333</td>\n",
       "      <td>1.34476</td>\n",
       "      <td>0.123128</td>\n",
       "      <td>-0.018213</td>\n",
       "      <td>0.008337</td>\n",
       "      <td>knockout</td>\n",
       "    </tr>\n",
       "  </tbody>\n",
       "</table>\n",
       "</div>"
      ],
      "text/plain": [
       "             set        date        fighter         opponent    result  \\\n",
       "6806  validation  2017-07-29  Kailin Curran  Aleksandra Albu       0.5   \n",
       "6807       train  2017-07-29  Jarred Brooks     Eric Shelton  0.333333   \n",
       "6808  validation  2017-07-29     Drew Dober   Joshua Burkman  0.083333   \n",
       "\n",
       "       kd_dif   str_dif    td_dif   sub_dif    method  \n",
       "6806 -0.00892  0.123128 -1.597639  0.008337  decision  \n",
       "6807 -0.00892 -0.176583  1.561212  0.008337  decision  \n",
       "6808  1.34476  0.123128 -0.018213  0.008337  knockout  "
      ]
     },
     "execution_count": 116,
     "metadata": {},
     "output_type": "execute_result"
    }
   ],
   "source": [
    "for i in tqdm(range(len(df))):\n",
    "    fighter = df.loc[i,'fighter']\n",
    "    result = df.loc[i,'result']\n",
    "    df.loc[i,'result'] = len(df[(df.result==result)&(df.fighter==fighter)])/len(df[df.fighter==fighter])\n",
    "\n",
    "df.tail(3)    "
   ]
  },
  {
   "cell_type": "markdown",
   "id": "fb108ae4-fb5e-431c-a853-2a8d33d4fa6a",
   "metadata": {},
   "source": [
    "### <span style='color:green'> **[done]** </span> Random forest classifier model training:"
   ]
  },
  {
   "cell_type": "code",
   "execution_count": 117,
   "id": "fa29563a-64c5-4b8a-9b2a-123d4c05940c",
   "metadata": {},
   "outputs": [
    {
     "data": {
      "text/html": [
       "<div>\n",
       "<style scoped>\n",
       "    .dataframe tbody tr th:only-of-type {\n",
       "        vertical-align: middle;\n",
       "    }\n",
       "\n",
       "    .dataframe tbody tr th {\n",
       "        vertical-align: top;\n",
       "    }\n",
       "\n",
       "    .dataframe thead th {\n",
       "        text-align: right;\n",
       "    }\n",
       "</style>\n",
       "<table border=\"1\" class=\"dataframe\">\n",
       "  <thead>\n",
       "    <tr style=\"text-align: right;\">\n",
       "      <th></th>\n",
       "      <th>set</th>\n",
       "      <th>date</th>\n",
       "      <th>fighter</th>\n",
       "      <th>opponent</th>\n",
       "      <th>result</th>\n",
       "      <th>kd_dif</th>\n",
       "      <th>str_dif</th>\n",
       "      <th>td_dif</th>\n",
       "      <th>sub_dif</th>\n",
       "      <th>method</th>\n",
       "      <th>method_pred</th>\n",
       "    </tr>\n",
       "  </thead>\n",
       "  <tbody>\n",
       "    <tr>\n",
       "      <th>6806</th>\n",
       "      <td>validation</td>\n",
       "      <td>2017-07-29</td>\n",
       "      <td>Kailin Curran</td>\n",
       "      <td>Aleksandra Albu</td>\n",
       "      <td>0.5</td>\n",
       "      <td>-0.00892</td>\n",
       "      <td>0.123128</td>\n",
       "      <td>-1.597639</td>\n",
       "      <td>0.008337</td>\n",
       "      <td>decision</td>\n",
       "      <td>decision</td>\n",
       "    </tr>\n",
       "    <tr>\n",
       "      <th>6807</th>\n",
       "      <td>train</td>\n",
       "      <td>2017-07-29</td>\n",
       "      <td>Jarred Brooks</td>\n",
       "      <td>Eric Shelton</td>\n",
       "      <td>0.333333</td>\n",
       "      <td>-0.00892</td>\n",
       "      <td>-0.176583</td>\n",
       "      <td>1.561212</td>\n",
       "      <td>0.008337</td>\n",
       "      <td>decision</td>\n",
       "      <td>decision</td>\n",
       "    </tr>\n",
       "    <tr>\n",
       "      <th>6808</th>\n",
       "      <td>validation</td>\n",
       "      <td>2017-07-29</td>\n",
       "      <td>Drew Dober</td>\n",
       "      <td>Joshua Burkman</td>\n",
       "      <td>0.083333</td>\n",
       "      <td>1.34476</td>\n",
       "      <td>0.123128</td>\n",
       "      <td>-0.018213</td>\n",
       "      <td>0.008337</td>\n",
       "      <td>knockout</td>\n",
       "      <td>knockout</td>\n",
       "    </tr>\n",
       "  </tbody>\n",
       "</table>\n",
       "</div>"
      ],
      "text/plain": [
       "             set        date        fighter         opponent    result  \\\n",
       "6806  validation  2017-07-29  Kailin Curran  Aleksandra Albu       0.5   \n",
       "6807       train  2017-07-29  Jarred Brooks     Eric Shelton  0.333333   \n",
       "6808  validation  2017-07-29     Drew Dober   Joshua Burkman  0.083333   \n",
       "\n",
       "       kd_dif   str_dif    td_dif   sub_dif    method method_pred  \n",
       "6806 -0.00892  0.123128 -1.597639  0.008337  decision    decision  \n",
       "6807 -0.00892 -0.176583  1.561212  0.008337  decision    decision  \n",
       "6808  1.34476  0.123128 -0.018213  0.008337  knockout    knockout  "
      ]
     },
     "execution_count": 117,
     "metadata": {},
     "output_type": "execute_result"
    }
   ],
   "source": [
    "rf_clf = set_random_forest_clf(X_columns=X, y_columns=y, data=df, n=300)\n",
    "df = set_method_predictions(model=rf_clf, data=df, X_columns=X, y_columns=y)\n",
    "df.tail(3)"
   ]
  },
  {
   "cell_type": "code",
   "execution_count": 118,
   "id": "efef4160-04a2-40d0-a19e-47178908c80f",
   "metadata": {},
   "outputs": [
    {
     "name": "stdout",
     "output_type": "stream",
     "text": [
      "Accuracy = 0.700198\n"
     ]
    },
    {
     "data": {
      "image/png": "[encoded data removed]",
      "text/plain": [
       "<Figure size 432x288 with 2 Axes>"
      ]
     },
     "metadata": {},
     "output_type": "display_data"
    }
   ],
   "source": [
    "get_model_evaluation(data=df,y_column='method')"
   ]
  },
  {
   "cell_type": "markdown",
   "id": "fa8d95f8-c529-4a72-800e-7c8f3a0f4cda",
   "metadata": {},
   "source": [
    "#### <span style='color:green'> **[done]** </span> Tune Model parameters:"
   ]
  },
  {
   "cell_type": "code",
   "execution_count": null,
   "id": "ce14a0b5-22b1-46f3-825e-8eb7f8ea69d9",
   "metadata": {},
   "outputs": [],
   "source": []
  },
  {
   "cell_type": "markdown",
   "id": "3b1d3806-915e-488e-b226-324f222a4e02",
   "metadata": {},
   "source": [
    "#### <span style='color:green'> **[done]** </span> Saving tuned parameters:"
   ]
  },
  {
   "cell_type": "code",
   "execution_count": null,
   "id": "2f962c3a-9588-4263-8bad-3929c8256963",
   "metadata": {},
   "outputs": [],
   "source": []
  },
  {
   "cell_type": "markdown",
   "id": "32bacbf3-dade-463d-86fb-ee43f5a4eee5",
   "metadata": {},
   "source": [
    "#### <span style='color:green'> **[done]** </span> Train model with chosen parameters:"
   ]
  },
  {
   "cell_type": "code",
   "execution_count": null,
   "id": "5251d543-5fdf-4992-b6c2-acb6a9766c74",
   "metadata": {},
   "outputs": [],
   "source": []
  },
  {
   "cell_type": "markdown",
   "id": "08592fd3-e30c-4179-b9f4-ae575e3bd2ee",
   "metadata": {},
   "source": [
    "#### <span style='color:green'> **[done]** </span> Tuned model score:"
   ]
  },
  {
   "cell_type": "code",
   "execution_count": null,
   "id": "d283cff6-a5e3-402d-b94e-cf77a1023caa",
   "metadata": {},
   "outputs": [],
   "source": []
  }
 ],
 "metadata": {
  "kernelspec": {
   "display_name": "Python 3 (ipykernel)",
   "language": "python",
   "name": "python3"
  },
  "language_info": {
   "codemirror_mode": {
    "name": "ipython",
    "version": 3
   },
   "file_extension": ".py",
   "mimetype": "text/x-python",
   "name": "python",
   "nbconvert_exporter": "python",
   "pygments_lexer": "ipython3",
   "version": "3.9.7"
  }
 },
 "nbformat": 4,
 "nbformat_minor": 5
}
