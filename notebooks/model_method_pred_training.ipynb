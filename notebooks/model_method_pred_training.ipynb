{
 "cells": [
  {
   "cell_type": "code",
   "execution_count": 130,
   "id": "2c490f6a-3bfc-4ed4-8204-86125e493028",
   "metadata": {},
   "outputs": [
    {
     "name": "stdout",
     "output_type": "stream",
     "text": [
      "imports loaded.\n",
      "\n",
      "> Pre-Processing func:\n",
      "    get_height(item)\n",
      "    get_weight(item)\n",
      "    get_reach(item)\n",
      "    get_std_reach(item, height, reach_list, height_list)\n",
      "    get_age(item)\n",
      "    get_std_age(item, age_list)\n",
      "    get_win_prob(name, date, df)\n",
      "    get_win_streak(name, date, df) #return count of recent wins\n",
      "    get_lose_streak(name, date, df)\n",
      "    get_fighter_stats(name, data )\n",
      "\n",
      "> Feature Engineering func:\n",
      "    get_stat(index, data, stat='height', fo='')\n",
      "    get_swaped_row(index, data) # return fighter & opponent statistics swapped. \n",
      "    get_wins(combo, data)\n",
      "    get_wins_ratio(combo, data)\n",
      "\n",
      "> outlier_cleaning func:\n",
      "    set_outlier_detection_model(X_columns, data)\n",
      "\n",
      "> model_stats_pred_training func:\n",
      "    set_lower_cases(string)\n",
      "    set_train_test(X_columns, y_columns, data, test_size=0.3, valid_size=0.3)\n",
      "    set_xgboost_reg(X_columns, y_columns, data, n=200, learning_rate=0.2, subsample=0.4, max_depth=5)\n",
      "    set_predictions(model, data, X_columns, y_columns)\n",
      "    get_mean_percentage_error(act, pred)\n",
      "    save_trained_model(model, path)\n",
      "\n",
      "> result_model_training func:\n",
      "    set_logistic_reg_clf(X_columns, y_columns, data, penalty='elasticnet', c=1, solver='lbfgs')\n",
      "    get_accuracy(act, pred)\n",
      "    get_mean_accuracy(act, pred) #scoring performance x3 times and return its mean.\n",
      "    get_model_evaluation(data)\n",
      "    load_trained_model(file_path) #.PKL model from ../global_variables/\n"
     ]
    },
    {
     "ename": "SyntaxError",
     "evalue": "invalid syntax (<ipython-input-130-d960544c3de0>, line 1)",
     "output_type": "error",
     "traceback": [
      "\u001b[0;36m  File \u001b[0;32m\"<ipython-input-130-d960544c3de0>\"\u001b[0;36m, line \u001b[0;32m1\u001b[0m\n\u001b[0;31m    >>>>\u001b[0m\n\u001b[0m     ^\u001b[0m\n\u001b[0;31mSyntaxError\u001b[0m\u001b[0;31m:\u001b[0m invalid syntax\n"
     ]
    }
   ],
   "source": [
    "%run func_def.ipynb"
   ]
  },
  {
   "cell_type": "markdown",
   "id": "65cfd923-515f-419b-8c98-0c391f2e3a02",
   "metadata": {
    "tags": []
   },
   "source": [
    "### <span style='color:green'> **[done]** </span>Loading stats & results trained data:"
   ]
  },
  {
   "cell_type": "code",
   "execution_count": 105,
   "id": "0c78b261-aecc-478c-921b-9d9d0499c62a",
   "metadata": {},
   "outputs": [
    {
     "data": {
      "text/html": [
       "<div>\n",
       "<style scoped>\n",
       "    .dataframe tbody tr th:only-of-type {\n",
       "        vertical-align: middle;\n",
       "    }\n",
       "\n",
       "    .dataframe tbody tr th {\n",
       "        vertical-align: top;\n",
       "    }\n",
       "\n",
       "    .dataframe thead th {\n",
       "        text-align: right;\n",
       "    }\n",
       "</style>\n",
       "<table border=\"1\" class=\"dataframe\">\n",
       "  <thead>\n",
       "    <tr style=\"text-align: right;\">\n",
       "      <th></th>\n",
       "      <th>result</th>\n",
       "      <th>fighter</th>\n",
       "      <th>opponent</th>\n",
       "      <th>date</th>\n",
       "      <th>weight_class</th>\n",
       "      <th>method</th>\n",
       "      <th>type</th>\n",
       "      <th>kd_dif</th>\n",
       "      <th>str_dif</th>\n",
       "      <th>td_dif</th>\n",
       "      <th>sub_dif</th>\n",
       "      <th>td_avg_dif</th>\n",
       "      <th>td_def_dif</th>\n",
       "      <th>sub_avg_dif</th>\n",
       "      <th>slpm_dif</th>\n",
       "      <th>str_acc_dif</th>\n",
       "      <th>sapm_dif</th>\n",
       "      <th>str_def_dif</th>\n",
       "      <th>stance_win_ratio</th>\n",
       "      <th>win_perc_dif</th>\n",
       "      <th>win_strk_dif</th>\n",
       "      <th>lose_strk_dif</th>\n",
       "      <th>outlier</th>\n",
       "      <th>lof_outlier</th>\n",
       "    </tr>\n",
       "  </thead>\n",
       "  <tbody>\n",
       "    <tr>\n",
       "      <th>6314</th>\n",
       "      <td>lose</td>\n",
       "      <td>Alberta Cerra Leon</td>\n",
       "      <td>Remco Pardoel</td>\n",
       "      <td>1994-03-11</td>\n",
       "      <td>Open Weight</td>\n",
       "      <td>SUB</td>\n",
       "      <td>Ezekiel Choke</td>\n",
       "      <td>-0.001919</td>\n",
       "      <td>-0.102865</td>\n",
       "      <td>-0.369809</td>\n",
       "      <td>-0.858406</td>\n",
       "      <td>0.009779</td>\n",
       "      <td>-0.004909</td>\n",
       "      <td>0.0</td>\n",
       "      <td>0.017435</td>\n",
       "      <td>0.019013</td>\n",
       "      <td>-0.00263</td>\n",
       "      <td>0.007469</td>\n",
       "      <td>-1.881571</td>\n",
       "      <td>0.007339</td>\n",
       "      <td>0.002734</td>\n",
       "      <td>0.00823</td>\n",
       "      <td>False</td>\n",
       "      <td>False</td>\n",
       "    </tr>\n",
       "    <tr>\n",
       "      <th>6315</th>\n",
       "      <td>lose</td>\n",
       "      <td>Robert Lucarelli</td>\n",
       "      <td>Orlando Wiet</td>\n",
       "      <td>1994-03-11</td>\n",
       "      <td>Open Weight</td>\n",
       "      <td>KO/TKO</td>\n",
       "      <td>Other</td>\n",
       "      <td>-0.001919</td>\n",
       "      <td>-0.213350</td>\n",
       "      <td>0.415429</td>\n",
       "      <td>0.857591</td>\n",
       "      <td>0.009779</td>\n",
       "      <td>-0.004909</td>\n",
       "      <td>0.0</td>\n",
       "      <td>0.017435</td>\n",
       "      <td>0.019013</td>\n",
       "      <td>-0.00263</td>\n",
       "      <td>0.007469</td>\n",
       "      <td>-1.881571</td>\n",
       "      <td>0.007339</td>\n",
       "      <td>0.002734</td>\n",
       "      <td>0.00823</td>\n",
       "      <td>False</td>\n",
       "      <td>False</td>\n",
       "    </tr>\n",
       "    <tr>\n",
       "      <th>6316</th>\n",
       "      <td>win</td>\n",
       "      <td>Johnny Rhodes</td>\n",
       "      <td>David Levicki</td>\n",
       "      <td>1994-03-11</td>\n",
       "      <td>Open Weight</td>\n",
       "      <td>KO/TKO</td>\n",
       "      <td>Punches</td>\n",
       "      <td>-0.001919</td>\n",
       "      <td>0.265418</td>\n",
       "      <td>0.415429</td>\n",
       "      <td>-0.000407</td>\n",
       "      <td>0.009779</td>\n",
       "      <td>-0.004909</td>\n",
       "      <td>0.0</td>\n",
       "      <td>0.017435</td>\n",
       "      <td>0.019013</td>\n",
       "      <td>-0.00263</td>\n",
       "      <td>0.007469</td>\n",
       "      <td>0.011599</td>\n",
       "      <td>0.007339</td>\n",
       "      <td>0.002734</td>\n",
       "      <td>0.00823</td>\n",
       "      <td>False</td>\n",
       "      <td>False</td>\n",
       "    </tr>\n",
       "  </tbody>\n",
       "</table>\n",
       "</div>"
      ],
      "text/plain": [
       "     result             fighter       opponent        date weight_class  \\\n",
       "6314   lose  Alberta Cerra Leon  Remco Pardoel  1994-03-11  Open Weight   \n",
       "6315   lose    Robert Lucarelli   Orlando Wiet  1994-03-11  Open Weight   \n",
       "6316    win       Johnny Rhodes  David Levicki  1994-03-11  Open Weight   \n",
       "\n",
       "      method           type    kd_dif   str_dif    td_dif   sub_dif  \\\n",
       "6314     SUB  Ezekiel Choke -0.001919 -0.102865 -0.369809 -0.858406   \n",
       "6315  KO/TKO          Other -0.001919 -0.213350  0.415429  0.857591   \n",
       "6316  KO/TKO        Punches -0.001919  0.265418  0.415429 -0.000407   \n",
       "\n",
       "      td_avg_dif  td_def_dif  sub_avg_dif  slpm_dif  str_acc_dif  sapm_dif  \\\n",
       "6314    0.009779   -0.004909          0.0  0.017435     0.019013  -0.00263   \n",
       "6315    0.009779   -0.004909          0.0  0.017435     0.019013  -0.00263   \n",
       "6316    0.009779   -0.004909          0.0  0.017435     0.019013  -0.00263   \n",
       "\n",
       "      str_def_dif  stance_win_ratio  win_perc_dif  win_strk_dif  \\\n",
       "6314     0.007469         -1.881571      0.007339      0.002734   \n",
       "6315     0.007469         -1.881571      0.007339      0.002734   \n",
       "6316     0.007469          0.011599      0.007339      0.002734   \n",
       "\n",
       "      lose_strk_dif  outlier  lof_outlier  \n",
       "6314        0.00823    False        False  \n",
       "6315        0.00823    False        False  \n",
       "6316        0.00823    False        False  "
      ]
     },
     "execution_count": 105,
     "metadata": {},
     "output_type": "execute_result"
    }
   ],
   "source": [
    "df = pd.read_csv('../data/data_features_outliers_detected.csv')\n",
    "df.tail(3)"
   ]
  },
  {
   "cell_type": "markdown",
   "id": "8f57d7ce-4bf0-4169-95a3-65d1eed04175",
   "metadata": {
    "tags": []
   },
   "source": [
    "#### <span style='color:green'> **[done]** </span>Filter by fighter & opponent:"
   ]
  },
  {
   "cell_type": "code",
   "execution_count": 106,
   "id": "fff67ef6-812a-4592-9713-848548fc4faf",
   "metadata": {
    "tags": []
   },
   "outputs": [
    {
     "data": {
      "text/html": [
       "<div>\n",
       "<style scoped>\n",
       "    .dataframe tbody tr th:only-of-type {\n",
       "        vertical-align: middle;\n",
       "    }\n",
       "\n",
       "    .dataframe tbody tr th {\n",
       "        vertical-align: top;\n",
       "    }\n",
       "\n",
       "    .dataframe thead th {\n",
       "        text-align: right;\n",
       "    }\n",
       "</style>\n",
       "<table border=\"1\" class=\"dataframe\">\n",
       "  <thead>\n",
       "    <tr style=\"text-align: right;\">\n",
       "      <th></th>\n",
       "      <th>result</th>\n",
       "      <th>fighter</th>\n",
       "      <th>opponent</th>\n",
       "      <th>date</th>\n",
       "      <th>weight_class</th>\n",
       "      <th>method</th>\n",
       "      <th>type</th>\n",
       "      <th>kd_dif</th>\n",
       "      <th>str_dif</th>\n",
       "      <th>td_dif</th>\n",
       "      <th>sub_dif</th>\n",
       "      <th>td_avg_dif</th>\n",
       "      <th>td_def_dif</th>\n",
       "      <th>sub_avg_dif</th>\n",
       "      <th>slpm_dif</th>\n",
       "      <th>str_acc_dif</th>\n",
       "      <th>sapm_dif</th>\n",
       "      <th>str_def_dif</th>\n",
       "      <th>stance_win_ratio</th>\n",
       "      <th>win_perc_dif</th>\n",
       "      <th>win_strk_dif</th>\n",
       "      <th>lose_strk_dif</th>\n",
       "      <th>outlier</th>\n",
       "      <th>lof_outlier</th>\n",
       "    </tr>\n",
       "  </thead>\n",
       "  <tbody>\n",
       "    <tr>\n",
       "      <th>34</th>\n",
       "      <td>win</td>\n",
       "      <td>Michael Johnson</td>\n",
       "      <td>Shane Roller</td>\n",
       "      <td>2012-01-28</td>\n",
       "      <td>Lightweight</td>\n",
       "      <td>U-DEC</td>\n",
       "      <td>Unanimous</td>\n",
       "      <td>-0.001919</td>\n",
       "      <td>0.302246</td>\n",
       "      <td>0.022810</td>\n",
       "      <td>-0.000407</td>\n",
       "      <td>-1.105477</td>\n",
       "      <td>1.311592</td>\n",
       "      <td>-1.8</td>\n",
       "      <td>1.420531</td>\n",
       "      <td>0.349196</td>\n",
       "      <td>0.787819</td>\n",
       "      <td>-0.166302</td>\n",
       "      <td>0.956293</td>\n",
       "      <td>-0.809475</td>\n",
       "      <td>0.002734</td>\n",
       "      <td>0.008230</td>\n",
       "      <td>False</td>\n",
       "      <td>False</td>\n",
       "    </tr>\n",
       "    <tr>\n",
       "      <th>35</th>\n",
       "      <td>win</td>\n",
       "      <td>Paul Sass</td>\n",
       "      <td>Michael Johnson</td>\n",
       "      <td>2011-10-01</td>\n",
       "      <td>Lightweight</td>\n",
       "      <td>SUB</td>\n",
       "      <td>Heel Hook</td>\n",
       "      <td>-0.001919</td>\n",
       "      <td>-0.213350</td>\n",
       "      <td>0.022810</td>\n",
       "      <td>2.573588</td>\n",
       "      <td>0.043405</td>\n",
       "      <td>-1.633211</td>\n",
       "      <td>7.3</td>\n",
       "      <td>-2.335738</td>\n",
       "      <td>-0.971537</td>\n",
       "      <td>-1.267348</td>\n",
       "      <td>-0.600727</td>\n",
       "      <td>-1.881571</td>\n",
       "      <td>2.482534</td>\n",
       "      <td>0.559874</td>\n",
       "      <td>-1.011192</td>\n",
       "      <td>True</td>\n",
       "      <td>True</td>\n",
       "    </tr>\n",
       "    <tr>\n",
       "      <th>36</th>\n",
       "      <td>win</td>\n",
       "      <td>Jonathan Brookins</td>\n",
       "      <td>Michael Johnson</td>\n",
       "      <td>2010-12-04</td>\n",
       "      <td>Lightweight</td>\n",
       "      <td>U-DEC</td>\n",
       "      <td>Unanimous</td>\n",
       "      <td>-1.348646</td>\n",
       "      <td>0.081276</td>\n",
       "      <td>1.200667</td>\n",
       "      <td>-0.000407</td>\n",
       "      <td>0.833612</td>\n",
       "      <td>-0.004909</td>\n",
       "      <td>0.2</td>\n",
       "      <td>-0.976686</td>\n",
       "      <td>0.101559</td>\n",
       "      <td>-0.173367</td>\n",
       "      <td>-0.166302</td>\n",
       "      <td>1.486341</td>\n",
       "      <td>0.007339</td>\n",
       "      <td>0.002734</td>\n",
       "      <td>0.008230</td>\n",
       "      <td>False</td>\n",
       "      <td>False</td>\n",
       "    </tr>\n",
       "  </tbody>\n",
       "</table>\n",
       "</div>"
      ],
      "text/plain": [
       "   result            fighter         opponent        date weight_class method  \\\n",
       "34    win    Michael Johnson     Shane Roller  2012-01-28  Lightweight  U-DEC   \n",
       "35    win          Paul Sass  Michael Johnson  2011-10-01  Lightweight    SUB   \n",
       "36    win  Jonathan Brookins  Michael Johnson  2010-12-04  Lightweight  U-DEC   \n",
       "\n",
       "         type    kd_dif   str_dif    td_dif   sub_dif  td_avg_dif  td_def_dif  \\\n",
       "34  Unanimous -0.001919  0.302246  0.022810 -0.000407   -1.105477    1.311592   \n",
       "35  Heel Hook -0.001919 -0.213350  0.022810  2.573588    0.043405   -1.633211   \n",
       "36  Unanimous -1.348646  0.081276  1.200667 -0.000407    0.833612   -0.004909   \n",
       "\n",
       "    sub_avg_dif  slpm_dif  str_acc_dif  sapm_dif  str_def_dif  \\\n",
       "34         -1.8  1.420531     0.349196  0.787819    -0.166302   \n",
       "35          7.3 -2.335738    -0.971537 -1.267348    -0.600727   \n",
       "36          0.2 -0.976686     0.101559 -0.173367    -0.166302   \n",
       "\n",
       "    stance_win_ratio  win_perc_dif  win_strk_dif  lose_strk_dif  outlier  \\\n",
       "34          0.956293     -0.809475      0.002734       0.008230    False   \n",
       "35         -1.881571      2.482534      0.559874      -1.011192     True   \n",
       "36          1.486341      0.007339      0.002734       0.008230    False   \n",
       "\n",
       "    lof_outlier  \n",
       "34        False  \n",
       "35         True  \n",
       "36        False  "
      ]
     },
     "execution_count": 106,
     "metadata": {},
     "output_type": "execute_result"
    }
   ],
   "source": [
    "fighter = 'Lando Vannata'\n",
    "opponent = 'Michael Johnson'\n",
    "\n",
    "fighter_data = df[(df.fighter==fighter)|(df.opponent==fighter)]\n",
    "opponent_data = df[(df.fighter==opponent)|(df.opponent==opponent)]\n",
    "df = pd.concat([fighter_data,opponent_data]).sort_values(by='date',ascending=False).reset_index(drop=True)\n",
    "df.tail(3)"
   ]
  },
  {
   "cell_type": "markdown",
   "id": "03035010-4b1b-4c70-9dca-bc179eeacda1",
   "metadata": {
    "tags": []
   },
   "source": [
    "#### <span style='color:orange'> **[in-process]** </span>Load pre-trained models:"
   ]
  },
  {
   "cell_type": "code",
   "execution_count": 134,
   "id": "2817c2fb-7c93-4487-b168-e2088931dd55",
   "metadata": {},
   "outputs": [
    {
     "name": "stdout",
     "output_type": "stream",
     "text": [
      "Fight statistics Model loaded: XGBRegressor(base_score=0.5, booster='gbtree', callbacks=None,\n",
      "             colsample_bylevel=1, colsample_bynode=1, colsample_bytree=1,\n",
      "             early_stopping_rounds=None, enable_categorical=False,\n",
      "             eval_metric=None, gamma=0, gpu_id=-1, grow_policy='depthwise',\n",
      "             importance_type=None, interaction_constraints='',\n",
      "             learning_rate=0.3, max_bin=256, max_cat_to_onehot=4,\n",
      "             max_delta_step=0, max_depth=11, max_leaves=0, min_child_weight=1,\n",
      "             missing=nan, monotone_constraints='()', n_estimators=50, n_jobs=0,\n",
      "             num_parallel_tree=1, predictor='auto', random_state=0, reg_alpha=0,\n",
      "             reg_lambda=1, ...)\n",
      "Fight Results Model loaded: LogisticRegression(C=0.01)\n"
     ]
    }
   ],
   "source": [
    "path = '../global_variables/stats_pred_lightweight_xgboost_reg.pkl'\n",
    "stats_model = load_trained_model(file_path=path)\n",
    "print('Fight statistics Model loaded: %s' %stats_model)\n",
    "path = '../global_variables/result_pred_lightweight_logistic_reg.pkl'\n",
    "result_model = load_trained_model(file_path=path)\n",
    "print('Fight Results Model loaded: %s' %result_model)"
   ]
  },
  {
   "cell_type": "code",
   "execution_count": 122,
   "id": "8d0c6ee5-b5b7-4060-99b0-5a4c9385090d",
   "metadata": {},
   "outputs": [
    {
     "data": {
      "text/plain": [
       "'/homes/sagic/ipynb/P/UFC_predictor/notebooks'"
      ]
     },
     "execution_count": 122,
     "metadata": {},
     "output_type": "execute_result"
    }
   ],
   "source": [
    "os.getcwd()"
   ]
  },
  {
   "cell_type": "markdown",
   "id": "836a0110-4670-48ce-9d2e-982ff01c7a39",
   "metadata": {
    "tags": []
   },
   "source": [
    "### <span style='color:green'> **[done]** </span>Define X & Y:"
   ]
  },
  {
   "cell_type": "code",
   "execution_count": 107,
   "id": "b88dc046-a34c-422f-9f7b-069786846b02",
   "metadata": {},
   "outputs": [
    {
     "ename": "KeyError",
     "evalue": "\"['set'] not in index\"",
     "output_type": "error",
     "traceback": [
      "\u001b[0;31m---------------------------------------------------------------------------\u001b[0m",
      "\u001b[0;31mKeyError\u001b[0m                                  Traceback (most recent call last)",
      "\u001b[0;32m<ipython-input-107-45e1ca1482fc>\u001b[0m in \u001b[0;36m<module>\u001b[0;34m()\u001b[0m\n\u001b[1;32m      7\u001b[0m     ]\n\u001b[1;32m      8\u001b[0m \u001b[0;34m\u001b[0m\u001b[0m\n\u001b[0;32m----> 9\u001b[0;31m \u001b[0mdf\u001b[0m \u001b[0;34m=\u001b[0m \u001b[0mdf\u001b[0m\u001b[0;34m[\u001b[0m\u001b[0mreq_data\u001b[0m \u001b[0;34m+\u001b[0m \u001b[0mX\u001b[0m \u001b[0;34m+\u001b[0m \u001b[0my\u001b[0m\u001b[0;34m]\u001b[0m\u001b[0;34m\u001b[0m\u001b[0;34m\u001b[0m\u001b[0m\n\u001b[0m\u001b[1;32m     10\u001b[0m \u001b[0mdf\u001b[0m\u001b[0;34m.\u001b[0m\u001b[0mtail\u001b[0m\u001b[0;34m(\u001b[0m\u001b[0;36m3\u001b[0m\u001b[0;34m)\u001b[0m\u001b[0;34m\u001b[0m\u001b[0;34m\u001b[0m\u001b[0m\n",
      "\u001b[0;32m/homes/sagic/.conda/envs/py3/lib/python3.7/site-packages/pandas/core/frame.py\u001b[0m in \u001b[0;36m__getitem__\u001b[0;34m(self, key)\u001b[0m\n\u001b[1;32m   3462\u001b[0m             \u001b[0;32mif\u001b[0m \u001b[0mis_iterator\u001b[0m\u001b[0;34m(\u001b[0m\u001b[0mkey\u001b[0m\u001b[0;34m)\u001b[0m\u001b[0;34m:\u001b[0m\u001b[0;34m\u001b[0m\u001b[0;34m\u001b[0m\u001b[0m\n\u001b[1;32m   3463\u001b[0m                 \u001b[0mkey\u001b[0m \u001b[0;34m=\u001b[0m \u001b[0mlist\u001b[0m\u001b[0;34m(\u001b[0m\u001b[0mkey\u001b[0m\u001b[0;34m)\u001b[0m\u001b[0;34m\u001b[0m\u001b[0;34m\u001b[0m\u001b[0m\n\u001b[0;32m-> 3464\u001b[0;31m             \u001b[0mindexer\u001b[0m \u001b[0;34m=\u001b[0m \u001b[0mself\u001b[0m\u001b[0;34m.\u001b[0m\u001b[0mloc\u001b[0m\u001b[0;34m.\u001b[0m\u001b[0m_get_listlike_indexer\u001b[0m\u001b[0;34m(\u001b[0m\u001b[0mkey\u001b[0m\u001b[0;34m,\u001b[0m \u001b[0maxis\u001b[0m\u001b[0;34m=\u001b[0m\u001b[0;36m1\u001b[0m\u001b[0;34m)\u001b[0m\u001b[0;34m[\u001b[0m\u001b[0;36m1\u001b[0m\u001b[0;34m]\u001b[0m\u001b[0;34m\u001b[0m\u001b[0;34m\u001b[0m\u001b[0m\n\u001b[0m\u001b[1;32m   3465\u001b[0m \u001b[0;34m\u001b[0m\u001b[0m\n\u001b[1;32m   3466\u001b[0m         \u001b[0;31m# take() does not accept boolean indexers\u001b[0m\u001b[0;34m\u001b[0m\u001b[0;34m\u001b[0m\u001b[0;34m\u001b[0m\u001b[0m\n",
      "\u001b[0;32m/homes/sagic/.conda/envs/py3/lib/python3.7/site-packages/pandas/core/indexing.py\u001b[0m in \u001b[0;36m_get_listlike_indexer\u001b[0;34m(self, key, axis)\u001b[0m\n\u001b[1;32m   1312\u001b[0m             \u001b[0mkeyarr\u001b[0m\u001b[0;34m,\u001b[0m \u001b[0mindexer\u001b[0m\u001b[0;34m,\u001b[0m \u001b[0mnew_indexer\u001b[0m \u001b[0;34m=\u001b[0m \u001b[0max\u001b[0m\u001b[0;34m.\u001b[0m\u001b[0m_reindex_non_unique\u001b[0m\u001b[0;34m(\u001b[0m\u001b[0mkeyarr\u001b[0m\u001b[0;34m)\u001b[0m\u001b[0;34m\u001b[0m\u001b[0;34m\u001b[0m\u001b[0m\n\u001b[1;32m   1313\u001b[0m \u001b[0;34m\u001b[0m\u001b[0m\n\u001b[0;32m-> 1314\u001b[0;31m         \u001b[0mself\u001b[0m\u001b[0;34m.\u001b[0m\u001b[0m_validate_read_indexer\u001b[0m\u001b[0;34m(\u001b[0m\u001b[0mkeyarr\u001b[0m\u001b[0;34m,\u001b[0m \u001b[0mindexer\u001b[0m\u001b[0;34m,\u001b[0m \u001b[0maxis\u001b[0m\u001b[0;34m)\u001b[0m\u001b[0;34m\u001b[0m\u001b[0;34m\u001b[0m\u001b[0m\n\u001b[0m\u001b[1;32m   1315\u001b[0m \u001b[0;34m\u001b[0m\u001b[0m\n\u001b[1;32m   1316\u001b[0m         if needs_i8_conversion(ax.dtype) or isinstance(\n",
      "\u001b[0;32m/homes/sagic/.conda/envs/py3/lib/python3.7/site-packages/pandas/core/indexing.py\u001b[0m in \u001b[0;36m_validate_read_indexer\u001b[0;34m(self, key, indexer, axis)\u001b[0m\n\u001b[1;32m   1375\u001b[0m \u001b[0;34m\u001b[0m\u001b[0m\n\u001b[1;32m   1376\u001b[0m             \u001b[0mnot_found\u001b[0m \u001b[0;34m=\u001b[0m \u001b[0mlist\u001b[0m\u001b[0;34m(\u001b[0m\u001b[0mensure_index\u001b[0m\u001b[0;34m(\u001b[0m\u001b[0mkey\u001b[0m\u001b[0;34m)\u001b[0m\u001b[0;34m[\u001b[0m\u001b[0mmissing_mask\u001b[0m\u001b[0;34m.\u001b[0m\u001b[0mnonzero\u001b[0m\u001b[0;34m(\u001b[0m\u001b[0;34m)\u001b[0m\u001b[0;34m[\u001b[0m\u001b[0;36m0\u001b[0m\u001b[0;34m]\u001b[0m\u001b[0;34m]\u001b[0m\u001b[0;34m.\u001b[0m\u001b[0munique\u001b[0m\u001b[0;34m(\u001b[0m\u001b[0;34m)\u001b[0m\u001b[0;34m)\u001b[0m\u001b[0;34m\u001b[0m\u001b[0;34m\u001b[0m\u001b[0m\n\u001b[0;32m-> 1377\u001b[0;31m             \u001b[0;32mraise\u001b[0m \u001b[0mKeyError\u001b[0m\u001b[0;34m(\u001b[0m\u001b[0;34mf\"{not_found} not in index\"\u001b[0m\u001b[0;34m)\u001b[0m\u001b[0;34m\u001b[0m\u001b[0;34m\u001b[0m\u001b[0m\n\u001b[0m\u001b[1;32m   1378\u001b[0m \u001b[0;34m\u001b[0m\u001b[0m\n\u001b[1;32m   1379\u001b[0m \u001b[0;34m\u001b[0m\u001b[0m\n",
      "\u001b[0;31mKeyError\u001b[0m: \"['set'] not in index\""
     ]
    }
   ],
   "source": [
    "req_data = ['set','date','weight_class','fighter','opponent']\n",
    "y = ['method']\n",
    "X = ['result','kd_dif','str_dif','td_dif','sub_dif',\n",
    "    'td_avg_dif','td_def_dif','sub_avg_dif',\n",
    "    'slpm_dif','str_acc_dif','sapm_dif','str_def_dif',\n",
    "    'stance_win_ratio','win_perc_dif','win_strk_dif','lose_strk_dif'\n",
    "    ]\n",
    "\n",
    "df = df[req_data + X + y]\n",
    "df.tail(3)"
   ]
  },
  {
   "cell_type": "markdown",
   "id": "31be0ff6-e6c9-43f6-8561-1558d3d3151a",
   "metadata": {
    "tags": []
   },
   "source": [
    "### <span style='color:green'> **[done]** </span>Feature relevant methods only"
   ]
  },
  {
   "cell_type": "code",
   "execution_count": 88,
   "id": "9b124f07-5fa7-42cb-b7e9-247a2322d4c2",
   "metadata": {},
   "outputs": [
    {
     "name": "stderr",
     "output_type": "stream",
     "text": [
      "100%|██████████| 27/27 [00:00<00:00, 3853.75it/s]\n"
     ]
    },
    {
     "data": {
      "text/plain": [
       "array(['decision', 'knockout', 'submission'], dtype=object)"
      ]
     },
     "execution_count": 88,
     "metadata": {},
     "output_type": "execute_result"
    }
   ],
   "source": [
    "for i in tqdm(range(0,len(df))):\n",
    "    \n",
    "    method = str(df.loc[i,'method'])\n",
    "    \n",
    "    if method.find('KO/TKO') != -1:\n",
    "        df.loc[i,'method'] = 'knockout'\n",
    "    elif method.find('DEC') != -1:\n",
    "        df.loc[i,'method'] = 'decision'\n",
    "    elif method.find('SUB') != -1:\n",
    "        df.loc[i,'method'] = 'submission'\n",
    "    elif method.find('DQ') != -1:\n",
    "        df.loc[i,'method'] = 'disqual'\n",
    "\n",
    "df = df[df.method != 'disqual'].reset_index(drop=True)         \n",
    "df.method.unique() "
   ]
  },
  {
   "cell_type": "markdown",
   "id": "10f3f050-69da-4811-a648-81484f181323",
   "metadata": {
    "tags": []
   },
   "source": [
    "### <span style='color:green'> **[done]** </span>Transform Categorical feature \"result\" to fit classifier model:"
   ]
  },
  {
   "cell_type": "code",
   "execution_count": 95,
   "id": "670d6f73-09d6-4948-856d-457e1d9e2a57",
   "metadata": {},
   "outputs": [
    {
     "name": "stderr",
     "output_type": "stream",
     "text": [
      "100%|██████████| 27/27 [00:00<00:00, 1173.50it/s]\n"
     ]
    },
    {
     "data": {
      "text/html": [
       "<div>\n",
       "<style scoped>\n",
       "    .dataframe tbody tr th:only-of-type {\n",
       "        vertical-align: middle;\n",
       "    }\n",
       "\n",
       "    .dataframe tbody tr th {\n",
       "        vertical-align: top;\n",
       "    }\n",
       "\n",
       "    .dataframe thead th {\n",
       "        text-align: right;\n",
       "    }\n",
       "</style>\n",
       "<table border=\"1\" class=\"dataframe\">\n",
       "  <thead>\n",
       "    <tr style=\"text-align: right;\">\n",
       "      <th></th>\n",
       "      <th>set</th>\n",
       "      <th>date</th>\n",
       "      <th>weight_class</th>\n",
       "      <th>fighter</th>\n",
       "      <th>opponent</th>\n",
       "      <th>result</th>\n",
       "      <th>kd_dif</th>\n",
       "      <th>str_dif</th>\n",
       "      <th>td_dif</th>\n",
       "      <th>sub_dif</th>\n",
       "      <th>td_avg_dif</th>\n",
       "      <th>td_def_dif</th>\n",
       "      <th>sub_avg_dif</th>\n",
       "      <th>slpm_dif</th>\n",
       "      <th>str_acc_dif</th>\n",
       "      <th>sapm_dif</th>\n",
       "      <th>str_def_dif</th>\n",
       "      <th>stance_win_ratio</th>\n",
       "      <th>win_perc_dif</th>\n",
       "      <th>win_strk_dif</th>\n",
       "      <th>lose_strk_dif</th>\n",
       "      <th>method</th>\n",
       "    </tr>\n",
       "  </thead>\n",
       "  <tbody>\n",
       "    <tr>\n",
       "      <th>24</th>\n",
       "      <td>train</td>\n",
       "      <td>2012-05-05</td>\n",
       "      <td>Lightweight</td>\n",
       "      <td>Tony Ferguson</td>\n",
       "      <td>Michael Johnson</td>\n",
       "      <td>1.0</td>\n",
       "      <td>-1.348646</td>\n",
       "      <td>-0.802603</td>\n",
       "      <td>0.022810</td>\n",
       "      <td>-0.000407</td>\n",
       "      <td>-0.007034</td>\n",
       "      <td>-0.489935</td>\n",
       "      <td>0.9</td>\n",
       "      <td>0.520788</td>\n",
       "      <td>0.596833</td>\n",
       "      <td>0.028988</td>\n",
       "      <td>0.007469</td>\n",
       "      <td>-1.881571</td>\n",
       "      <td>1.665719</td>\n",
       "      <td>1.117014</td>\n",
       "      <td>0.00823</td>\n",
       "      <td>decision</td>\n",
       "    </tr>\n",
       "    <tr>\n",
       "      <th>25</th>\n",
       "      <td>test</td>\n",
       "      <td>2012-01-28</td>\n",
       "      <td>Lightweight</td>\n",
       "      <td>Michael Johnson</td>\n",
       "      <td>Shane Roller</td>\n",
       "      <td>0.111111</td>\n",
       "      <td>-0.001919</td>\n",
       "      <td>0.302246</td>\n",
       "      <td>0.022810</td>\n",
       "      <td>-0.000407</td>\n",
       "      <td>-1.105477</td>\n",
       "      <td>1.311592</td>\n",
       "      <td>-1.8</td>\n",
       "      <td>1.420531</td>\n",
       "      <td>0.349196</td>\n",
       "      <td>0.787819</td>\n",
       "      <td>-0.166302</td>\n",
       "      <td>0.956293</td>\n",
       "      <td>-0.809475</td>\n",
       "      <td>0.002734</td>\n",
       "      <td>0.00823</td>\n",
       "      <td>decision</td>\n",
       "    </tr>\n",
       "    <tr>\n",
       "      <th>26</th>\n",
       "      <td>train</td>\n",
       "      <td>2010-12-04</td>\n",
       "      <td>Lightweight</td>\n",
       "      <td>Jonathan Brookins</td>\n",
       "      <td>Michael Johnson</td>\n",
       "      <td>1.0</td>\n",
       "      <td>-1.348646</td>\n",
       "      <td>0.081276</td>\n",
       "      <td>1.200667</td>\n",
       "      <td>-0.000407</td>\n",
       "      <td>0.833612</td>\n",
       "      <td>-0.004909</td>\n",
       "      <td>0.2</td>\n",
       "      <td>-0.976686</td>\n",
       "      <td>0.101559</td>\n",
       "      <td>-0.173367</td>\n",
       "      <td>-0.166302</td>\n",
       "      <td>1.486341</td>\n",
       "      <td>0.007339</td>\n",
       "      <td>0.002734</td>\n",
       "      <td>0.00823</td>\n",
       "      <td>decision</td>\n",
       "    </tr>\n",
       "  </tbody>\n",
       "</table>\n",
       "</div>"
      ],
      "text/plain": [
       "      set        date weight_class            fighter         opponent  \\\n",
       "24  train  2012-05-05  Lightweight      Tony Ferguson  Michael Johnson   \n",
       "25   test  2012-01-28  Lightweight    Michael Johnson     Shane Roller   \n",
       "26  train  2010-12-04  Lightweight  Jonathan Brookins  Michael Johnson   \n",
       "\n",
       "      result    kd_dif   str_dif    td_dif   sub_dif  td_avg_dif  td_def_dif  \\\n",
       "24       1.0 -1.348646 -0.802603  0.022810 -0.000407   -0.007034   -0.489935   \n",
       "25  0.111111 -0.001919  0.302246  0.022810 -0.000407   -1.105477    1.311592   \n",
       "26       1.0 -1.348646  0.081276  1.200667 -0.000407    0.833612   -0.004909   \n",
       "\n",
       "    sub_avg_dif  slpm_dif  str_acc_dif  sapm_dif  str_def_dif  \\\n",
       "24          0.9  0.520788     0.596833  0.028988     0.007469   \n",
       "25         -1.8  1.420531     0.349196  0.787819    -0.166302   \n",
       "26          0.2 -0.976686     0.101559 -0.173367    -0.166302   \n",
       "\n",
       "    stance_win_ratio  win_perc_dif  win_strk_dif  lose_strk_dif    method  \n",
       "24         -1.881571      1.665719      1.117014        0.00823  decision  \n",
       "25          0.956293     -0.809475      0.002734        0.00823  decision  \n",
       "26          1.486341      0.007339      0.002734        0.00823  decision  "
      ]
     },
     "execution_count": 95,
     "metadata": {},
     "output_type": "execute_result"
    }
   ],
   "source": [
    "for i in tqdm(range(len(df))):\n",
    "    fighter = df.loc[i,'fighter']\n",
    "    result = df.loc[i,'result']\n",
    "    df.loc[i,'result'] = len(df[(df.result==result)&(df.fighter==fighter)])/len(df[df.fighter==fighter])\n",
    "\n",
    "df.tail(3)"
   ]
  },
  {
   "cell_type": "markdown",
   "id": "7915cec5-957a-4f7d-86aa-234b429454a2",
   "metadata": {
    "tags": []
   },
   "source": [
    "### <span style='color:orange'> **[in-progress]** </span>Features EDA:"
   ]
  },
  {
   "cell_type": "code",
   "execution_count": 103,
   "id": "5a24ce77-8f24-4341-bf9a-9e86d1156333",
   "metadata": {},
   "outputs": [
    {
     "data": {
      "text/plain": [
       "<AxesSubplot:xlabel='slpm_dif', ylabel='str_dif'>"
      ]
     },
     "execution_count": 103,
     "metadata": {},
     "output_type": "execute_result"
    },
    {
     "data": {
      "image/png": "[encoded data removed]",
      "text/plain": [
       "<Figure size 432x288 with 1 Axes>"
      ]
     },
     "metadata": {},
     "output_type": "display_data"
    }
   ],
   "source": [
    "filt = df[(df.fighter==opponent)|(df.opponent==opponent)].reset_index(drop=True)\n",
    "sns.scatterplot(data=filt, x='slpm_dif', y='str_dif', hue='method')"
   ]
  },
  {
   "cell_type": "code",
   "execution_count": 96,
   "id": "09c630ad-ed11-4723-b3f9-0fd22c453b21",
   "metadata": {},
   "outputs": [
    {
     "data": {
      "text/plain": [
       "<AxesSubplot:xlabel='method', ylabel='result'>"
      ]
     },
     "execution_count": 96,
     "metadata": {},
     "output_type": "execute_result"
    },
    {
     "data": {
      "image/png": "[encoded data removed]",
      "text/plain": [
       "<Figure size 1800x360 with 6 Axes>"
      ]
     },
     "metadata": {},
     "output_type": "display_data"
    }
   ],
   "source": [
    "rows=1\n",
    "cols=6\n",
    "fig, axs = plt.subplots(rows,cols,figsize = (25,5))\n",
    "#box plot for stats vs method --\n",
    "\n",
    "sns.boxplot(ax=axs[0], data=df, x='method', y='kd_dif')\n",
    "sns.stripplot(ax=axs[0],x='method', y='kd_dif', data=df, color='.25', jitter=0.3, alpha=0.9)\n",
    "\n",
    "sns.boxplot(ax=axs[1], data=df, x='method', y='str_dif')\n",
    "sns.stripplot(ax=axs[1],x='method', y='str_dif', data=df, color='.25', jitter=0.3, alpha=0.9)\n",
    "\n",
    "sns.boxplot(ax=axs[2], data=df, x='method', y='td_dif')\n",
    "sns.stripplot(ax=axs[2],x='method', y='td_dif', data=df, color='.25', jitter=0.3, alpha=0.9)\n",
    "\n",
    "sns.boxplot(ax=axs[3], data=df, x='method', y='sub_dif')\n",
    "sns.stripplot(ax=axs[3],x='method', y='sub_dif', data=df, color='.25', jitter=0.3, alpha=0.9)\n",
    "\n",
    "sns.boxplot(ax=axs[4], data=df, x='method', y='sub_avg_dif')\n",
    "sns.stripplot(ax=axs[4],x='method', y='sub_avg_dif', data=df, color='.25', jitter=0.3, alpha=0.9)\n",
    "\n",
    "sns.boxplot(ax=axs[5], data=df, x='method', y='result')\n",
    "sns.stripplot(ax=axs[5],x='method', y='result', data=df, color='.25', jitter=0.3, alpha=0.9)\n",
    "\n",
    "#sns.scatterplot(ax=axs[0,2], data=df, x='str_acc_dif', y='sub_dif', hue='method')\n",
    "#sns.scatterplot(ax=axs[1,0], data=df, x='str_acc_dif', y='sub_dif', hue='method')\n",
    "#sns.scatterplot(ax=axs[1,1], data=df, x='str_acc_dif', y='sub_dif', hue='method')\n",
    "#sns.scatterplot(ax=axs[1,2], data=df, x='str_acc_dif', y='sub_dif', hue='method')"
   ]
  },
  {
   "cell_type": "code",
   "execution_count": 41,
   "id": "5e375354-1e49-4a2c-8c56-f34cef10d3d0",
   "metadata": {},
   "outputs": [
    {
     "data": {
      "text/plain": [
       "<AxesSubplot:xlabel='sub_avg_dif', ylabel='sub_dif'>"
      ]
     },
     "execution_count": 41,
     "metadata": {},
     "output_type": "execute_result"
    },
    {
     "data": {
      "image/png": "[encoded data removed]",
      "text/plain": [
       "<Figure size 432x288 with 1 Axes>"
      ]
     },
     "metadata": {},
     "output_type": "display_data"
    }
   ],
   "source": [
    "sns.scatterplot(data=df, x='sub_avg_dif', y='sub_dif', hue='method')"
   ]
  },
  {
   "cell_type": "markdown",
   "id": "b234f578-68a5-43b7-b992-7a10c3173e76",
   "metadata": {
    "tags": []
   },
   "source": [
    "### <span style='color:green'> **[done]** </span>Logistic regression model training:"
   ]
  },
  {
   "cell_type": "code",
   "execution_count": 23,
   "id": "d7294db8-d591-49c3-a178-34aabbdbf587",
   "metadata": {},
   "outputs": [
    {
     "data": {
      "text/html": [
       "<div>\n",
       "<style scoped>\n",
       "    .dataframe tbody tr th:only-of-type {\n",
       "        vertical-align: middle;\n",
       "    }\n",
       "\n",
       "    .dataframe tbody tr th {\n",
       "        vertical-align: top;\n",
       "    }\n",
       "\n",
       "    .dataframe thead th {\n",
       "        text-align: right;\n",
       "    }\n",
       "</style>\n",
       "<table border=\"1\" class=\"dataframe\">\n",
       "  <thead>\n",
       "    <tr style=\"text-align: right;\">\n",
       "      <th></th>\n",
       "      <th>set</th>\n",
       "      <th>date</th>\n",
       "      <th>weight_class</th>\n",
       "      <th>fighter</th>\n",
       "      <th>opponent</th>\n",
       "      <th>result</th>\n",
       "      <th>kd_dif</th>\n",
       "      <th>str_dif</th>\n",
       "      <th>td_dif</th>\n",
       "      <th>sub_dif</th>\n",
       "      <th>td_avg_dif</th>\n",
       "      <th>td_def_dif</th>\n",
       "      <th>sub_avg_dif</th>\n",
       "      <th>slpm_dif</th>\n",
       "      <th>str_acc_dif</th>\n",
       "      <th>sapm_dif</th>\n",
       "      <th>str_def_dif</th>\n",
       "      <th>stance_win_ratio</th>\n",
       "      <th>win_perc_dif</th>\n",
       "      <th>win_strk_dif</th>\n",
       "      <th>lose_strk_dif</th>\n",
       "      <th>method</th>\n",
       "      <th>method_pred</th>\n",
       "    </tr>\n",
       "  </thead>\n",
       "  <tbody>\n",
       "    <tr>\n",
       "      <th>917</th>\n",
       "      <td>train</td>\n",
       "      <td>1997-05-30</td>\n",
       "      <td>Lightweight</td>\n",
       "      <td>Tito Ortiz</td>\n",
       "      <td>Guy Mezger</td>\n",
       "      <td>1.0</td>\n",
       "      <td>-0.001919</td>\n",
       "      <td>0.191761</td>\n",
       "      <td>0.415429</td>\n",
       "      <td>-0.858406</td>\n",
       "      <td>1.175475</td>\n",
       "      <td>-1.182830</td>\n",
       "      <td>0.6</td>\n",
       "      <td>0.199901</td>\n",
       "      <td>1.174654</td>\n",
       "      <td>0.958556</td>\n",
       "      <td>-1.035152</td>\n",
       "      <td>0.011599</td>\n",
       "      <td>-2.467856</td>\n",
       "      <td>-1.111545</td>\n",
       "      <td>0.00823</td>\n",
       "      <td>submission</td>\n",
       "      <td>submission</td>\n",
       "    </tr>\n",
       "    <tr>\n",
       "      <th>918</th>\n",
       "      <td>validation</td>\n",
       "      <td>1997-02-07</td>\n",
       "      <td>Lightweight</td>\n",
       "      <td>Nick Sanzo</td>\n",
       "      <td>Jerry Bohlander</td>\n",
       "      <td>1.0</td>\n",
       "      <td>-0.001919</td>\n",
       "      <td>-0.066037</td>\n",
       "      <td>-0.369809</td>\n",
       "      <td>-0.858406</td>\n",
       "      <td>0.009779</td>\n",
       "      <td>-0.004909</td>\n",
       "      <td>0.0</td>\n",
       "      <td>0.017435</td>\n",
       "      <td>0.019013</td>\n",
       "      <td>-0.002630</td>\n",
       "      <td>0.007469</td>\n",
       "      <td>0.011599</td>\n",
       "      <td>-1.651041</td>\n",
       "      <td>-0.554406</td>\n",
       "      <td>0.00823</td>\n",
       "      <td>submission</td>\n",
       "      <td>decision</td>\n",
       "    </tr>\n",
       "    <tr>\n",
       "      <th>919</th>\n",
       "      <td>validation</td>\n",
       "      <td>1997-02-07</td>\n",
       "      <td>Lightweight</td>\n",
       "      <td>Jerry Bohlander</td>\n",
       "      <td>Rainy Martinez</td>\n",
       "      <td>1.0</td>\n",
       "      <td>-0.001919</td>\n",
       "      <td>0.007620</td>\n",
       "      <td>0.415429</td>\n",
       "      <td>0.857591</td>\n",
       "      <td>0.009779</td>\n",
       "      <td>-0.004909</td>\n",
       "      <td>0.0</td>\n",
       "      <td>0.017435</td>\n",
       "      <td>0.019013</td>\n",
       "      <td>-0.002630</td>\n",
       "      <td>0.007469</td>\n",
       "      <td>0.011599</td>\n",
       "      <td>1.665719</td>\n",
       "      <td>0.559874</td>\n",
       "      <td>0.00823</td>\n",
       "      <td>submission</td>\n",
       "      <td>decision</td>\n",
       "    </tr>\n",
       "  </tbody>\n",
       "</table>\n",
       "</div>"
      ],
      "text/plain": [
       "            set        date weight_class          fighter         opponent  \\\n",
       "917       train  1997-05-30  Lightweight       Tito Ortiz       Guy Mezger   \n",
       "918  validation  1997-02-07  Lightweight       Nick Sanzo  Jerry Bohlander   \n",
       "919  validation  1997-02-07  Lightweight  Jerry Bohlander   Rainy Martinez   \n",
       "\n",
       "    result    kd_dif   str_dif    td_dif   sub_dif  td_avg_dif  td_def_dif  \\\n",
       "917    1.0 -0.001919  0.191761  0.415429 -0.858406    1.175475   -1.182830   \n",
       "918    1.0 -0.001919 -0.066037 -0.369809 -0.858406    0.009779   -0.004909   \n",
       "919    1.0 -0.001919  0.007620  0.415429  0.857591    0.009779   -0.004909   \n",
       "\n",
       "     sub_avg_dif  slpm_dif  str_acc_dif  sapm_dif  str_def_dif  \\\n",
       "917          0.6  0.199901     1.174654  0.958556    -1.035152   \n",
       "918          0.0  0.017435     0.019013 -0.002630     0.007469   \n",
       "919          0.0  0.017435     0.019013 -0.002630     0.007469   \n",
       "\n",
       "     stance_win_ratio  win_perc_dif  win_strk_dif  lose_strk_dif      method  \\\n",
       "917          0.011599     -2.467856     -1.111545        0.00823  submission   \n",
       "918          0.011599     -1.651041     -0.554406        0.00823  submission   \n",
       "919          0.011599      1.665719      0.559874        0.00823  submission   \n",
       "\n",
       "    method_pred  \n",
       "917  submission  \n",
       "918    decision  \n",
       "919    decision  "
      ]
     },
     "execution_count": 23,
     "metadata": {},
     "output_type": "execute_result"
    }
   ],
   "source": [
    "logistic_reg_clf = set_logistic_reg_clf(X_columns=X, y_columns=y, data=df, penalty='l2', c=1, solver='lbfgs')\n",
    "df = set_predictions(data=df,model=logistic_reg_clf, X_columns=X, y_columns=y)\n",
    "df.tail(3)"
   ]
  },
  {
   "cell_type": "code",
   "execution_count": 26,
   "id": "8e9b9141-f299-4b29-ae95-3741dd9d677d",
   "metadata": {},
   "outputs": [
    {
     "name": "stdout",
     "output_type": "stream",
     "text": [
      "Accuracy = 0.450909\n"
     ]
    },
    {
     "data": {
      "image/png": "[encoded data removed]",
      "text/plain": [
       "<Figure size 432x288 with 2 Axes>"
      ]
     },
     "metadata": {},
     "output_type": "display_data"
    }
   ],
   "source": [
    "get_model_evaluation(data=df,y_column='method')"
   ]
  },
  {
   "cell_type": "markdown",
   "id": "646e9f79-694d-44f8-b034-23ac84cf0508",
   "metadata": {
    "tags": []
   },
   "source": [
    "### <span style='color:green'> **[done]** </span>Gridsearch - Parameter Tuning:"
   ]
  },
  {
   "cell_type": "code",
   "execution_count": 28,
   "id": "8651cc4d-41d1-446a-924a-32acf3ec31a2",
   "metadata": {},
   "outputs": [
    {
     "name": "stderr",
     "output_type": "stream",
     "text": [
      "100%|██████████| 8/8 [00:00<00:00, 80.11it/s]\n"
     ]
    },
    {
     "data": {
      "text/html": [
       "<div>\n",
       "<style scoped>\n",
       "    .dataframe tbody tr th:only-of-type {\n",
       "        vertical-align: middle;\n",
       "    }\n",
       "\n",
       "    .dataframe tbody tr th {\n",
       "        vertical-align: top;\n",
       "    }\n",
       "\n",
       "    .dataframe thead th {\n",
       "        text-align: right;\n",
       "    }\n",
       "</style>\n",
       "<table border=\"1\" class=\"dataframe\">\n",
       "  <thead>\n",
       "    <tr style=\"text-align: right;\">\n",
       "      <th></th>\n",
       "      <th>C</th>\n",
       "      <th>train_accuracy</th>\n",
       "      <th>valid_accuracy</th>\n",
       "    </tr>\n",
       "  </thead>\n",
       "  <tbody>\n",
       "    <tr>\n",
       "      <th>0</th>\n",
       "      <td>0.010</td>\n",
       "      <td>0.529801</td>\n",
       "      <td>0.494792</td>\n",
       "    </tr>\n",
       "    <tr>\n",
       "      <th>1</th>\n",
       "      <td>0.025</td>\n",
       "      <td>0.536424</td>\n",
       "      <td>0.489583</td>\n",
       "    </tr>\n",
       "    <tr>\n",
       "      <th>2</th>\n",
       "      <td>0.050</td>\n",
       "      <td>0.538631</td>\n",
       "      <td>0.484375</td>\n",
       "    </tr>\n",
       "    <tr>\n",
       "      <th>3</th>\n",
       "      <td>0.065</td>\n",
       "      <td>0.536424</td>\n",
       "      <td>0.479167</td>\n",
       "    </tr>\n",
       "    <tr>\n",
       "      <th>4</th>\n",
       "      <td>0.750</td>\n",
       "      <td>0.540839</td>\n",
       "      <td>0.463542</td>\n",
       "    </tr>\n",
       "    <tr>\n",
       "      <th>5</th>\n",
       "      <td>0.100</td>\n",
       "      <td>0.540839</td>\n",
       "      <td>0.479167</td>\n",
       "    </tr>\n",
       "    <tr>\n",
       "      <th>6</th>\n",
       "      <td>0.150</td>\n",
       "      <td>0.543046</td>\n",
       "      <td>0.463542</td>\n",
       "    </tr>\n",
       "    <tr>\n",
       "      <th>7</th>\n",
       "      <td>1.000</td>\n",
       "      <td>0.540839</td>\n",
       "      <td>0.463542</td>\n",
       "    </tr>\n",
       "  </tbody>\n",
       "</table>\n",
       "</div>"
      ],
      "text/plain": [
       "       C  train_accuracy  valid_accuracy\n",
       "0  0.010        0.529801        0.494792\n",
       "1  0.025        0.536424        0.489583\n",
       "2  0.050        0.538631        0.484375\n",
       "3  0.065        0.536424        0.479167\n",
       "4  0.750        0.540839        0.463542\n",
       "5  0.100        0.540839        0.479167\n",
       "6  0.150        0.543046        0.463542\n",
       "7  1.000        0.540839        0.463542"
      ]
     },
     "execution_count": 28,
     "metadata": {},
     "output_type": "execute_result"
    }
   ],
   "source": [
    "train_index = df.index[df.set=='train']\n",
    "valid_index = df.index[df.set=='validation']\n",
    "\n",
    "grid = {'C':[],\n",
    "       'train_accuracy':[],\n",
    "       'valid_accuracy':[],\n",
    "       }\n",
    "\n",
    "for c in tqdm([0.01,0.025,0.05,0.065,0.75,0.1,0.15,1]):\n",
    "    grid['C'].append(c)\n",
    "    logistic_reg_clf = set_logistic_reg_clf(X_columns=X, y_columns=y, data=df, penalty='l2', c=c, solver='lbfgs')\n",
    "    df = set_predictions(data=df,model=logistic_reg_clf, X_columns=X, y_columns=y)\n",
    "    grid['train_accuracy'].append(get_accuracy(act=df.loc[train_index,'method'], pred=df.loc[train_index,'method_pred']))\n",
    "    grid['valid_accuracy'].append(get_accuracy(act=df.loc[valid_index,'method'], pred=df.loc[valid_index,'method_pred']))\n",
    "    \n",
    "grid = grid = pd.DataFrame(data=grid)\n",
    "grid"
   ]
  },
  {
   "cell_type": "code",
   "execution_count": 29,
   "id": "119b5f63-5c87-46af-a174-20c1ef25c6f3",
   "metadata": {},
   "outputs": [
    {
     "data": {
      "text/plain": [
       "Text(0, 0.5, 'Accuracy')"
      ]
     },
     "execution_count": 29,
     "metadata": {},
     "output_type": "execute_result"
    },
    {
     "data": {
      "image/png": "[encoded data removed]",
      "text/plain": [
       "<Figure size 432x288 with 1 Axes>"
      ]
     },
     "metadata": {},
     "output_type": "display_data"
    }
   ],
   "source": [
    "sns.lineplot( data=grid, x='C', y='valid_accuracy', label='Validation accuracy')\n",
    "sns.scatterplot( data=grid, x='C', y='valid_accuracy')\n",
    "sns.lineplot( data=grid, x='C', y='train_accuracy', label='Train accuracy')\n",
    "sns.scatterplot( data=grid, x='C', y='train_accuracy')\n",
    "plt.ylabel(\"Accuracy\")"
   ]
  },
  {
   "cell_type": "code",
   "execution_count": 31,
   "id": "66d78d31-9e86-44c7-9bc2-c9934a33a3c4",
   "metadata": {},
   "outputs": [
    {
     "data": {
      "text/plain": [
       "C                 0.010000\n",
       "train_accuracy    0.529801\n",
       "valid_accuracy    0.494792\n",
       "Name: 0, dtype: float64"
      ]
     },
     "execution_count": 31,
     "metadata": {},
     "output_type": "execute_result"
    }
   ],
   "source": [
    "best_model_param = grid.sort_values(by=['valid_accuracy','C'], ascending=False).reset_index(drop=True)\n",
    "best_c = best_model_param.iloc[0]['C']\n",
    "best_model_param.iloc[0]"
   ]
  },
  {
   "cell_type": "markdown",
   "id": "858431c5-6b4b-4b7f-9883-a33f9d7b5827",
   "metadata": {
    "tags": []
   },
   "source": [
    "### <span style='color:green'> **[done]** </span>Train model with best parameters & 10-fold Cross-Validation:"
   ]
  },
  {
   "cell_type": "code",
   "execution_count": 32,
   "id": "c0b36081-b8e8-426d-9dbb-13df648df294",
   "metadata": {},
   "outputs": [
    {
     "name": "stderr",
     "output_type": "stream",
     "text": [
      "100%|██████████| 9/9 [00:00<00:00, 61.14it/s]"
     ]
    },
    {
     "name": "stdout",
     "output_type": "stream",
     "text": [
      "0.43478260869565216\n",
      "0.5434782608695652\n",
      "0.4673913043478261\n",
      "0.5434782608695652\n",
      "0.5108695652173914\n",
      "0.4782608695652174\n",
      "0.5760869565217391\n",
      "0.44565217391304346\n",
      "0.532608695652174\n",
      "10-Fold cross-validation model accuracy: nan\n"
     ]
    },
    {
     "name": "stderr",
     "output_type": "stream",
     "text": [
      "\n",
      "/homes/sagic/.conda/envs/py3/lib/python3.7/site-packages/numpy/core/fromnumeric.py:3373: RuntimeWarning: Mean of empty slice.\n",
      "  out=out, **kwargs)\n",
      "/homes/sagic/.conda/envs/py3/lib/python3.7/site-packages/numpy/core/_methods.py:170: RuntimeWarning: invalid value encountered in double_scalars\n",
      "  ret = ret.dtype.type(ret / rcount)\n"
     ]
    }
   ],
   "source": [
    "k = 10\n",
    "size = len(df)\n",
    "batch = int(size/k)\n",
    "acc = []\n",
    "\n",
    "for i in tqdm(range(0,size-batch,batch)):\n",
    "    test_start = i\n",
    "    test_end = i + batch - 1\n",
    "    df.loc[:,'set'] = 'train'\n",
    "    df.loc[test_start:test_end,'set'] = 'test'\n",
    "    rf_clf = set_logistic_reg_clf(X_columns=X, y_columns=y, data=df, penalty='l2', c=best_c, solver='lbfgs')\n",
    "    df = set_predictions(model=rf_clf, data=df, X_columns=X, y_columns=y) \n",
    "    y_test_act = df['method'][df.set=='test']\n",
    "    y_test_pred = df['method_pred'][df.set=='test']\n",
    "    print(get_accuracy(act=y_test_act, pred=y_test_pred))\n",
    "\n",
    "opt_acc = np.mean(acc)    \n",
    "print('%d-Fold cross-validation model accuracy: %.4f' %(k,opt_acc))"
   ]
  },
  {
   "cell_type": "code",
   "execution_count": null,
   "id": "d4b4b636-85aa-4c64-8635-64198c4db070",
   "metadata": {},
   "outputs": [],
   "source": []
  }
 ],
 "metadata": {
  "kernelspec": {
   "display_name": "py3",
   "language": "python",
   "name": "py3"
  },
  "language_info": {
   "codemirror_mode": {
    "name": "ipython",
    "version": 3
   },
   "file_extension": ".py",
   "mimetype": "text/x-python",
   "name": "python",
   "nbconvert_exporter": "python",
   "pygments_lexer": "ipython3",
   "version": "3.7.12"
  }
 },
 "nbformat": 4,
 "nbformat_minor": 5
}
