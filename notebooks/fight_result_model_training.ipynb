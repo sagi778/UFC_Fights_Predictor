{
 "cells": [
  {
   "cell_type": "code",
   "execution_count": 38,
   "id": "846617b9-400f-4c71-9df6-ed6c51888afb",
   "metadata": {},
   "outputs": [
    {
     "name": "stdout",
     "output_type": "stream",
     "text": [
      "imports loaded.\n",
      "\n",
      "Pre-Processing func:\n",
      "********************\n",
      "    get_height(item)\n",
      "    get_weight(item)\n",
      "    get_reach(item)\n",
      "    get_std_reach(item, height, reach_list, height_list)\n",
      "    get_age(item)\n",
      "    get_std_age(item, age_list)\n",
      "    get_win_perc(name, date, df)\n",
      "    get_lose_streak_data_frame(name, date, df)\n",
      "    get_win_streak_data_frame(name, date, df)\n",
      "    get_streak_data_frame(name, date, df)\n",
      "    get_win_streak(name, date, df)\n",
      "    get_lose_streak(name, date, df)\n",
      "    get_fighter_stats(name, data )\n",
      "    add_columns(data, column_list)\n",
      "\n",
      "Feature Engineering func:\n",
      "*************************\n",
      "    get_stat(index, data, stat='height', fo='')\n",
      "    get_swaped_row(index, data)\n",
      "    get_wins(combo, data)\n",
      "    get_wins_ratio(combo, data)\n",
      "\n",
      "fight_stats_model_training func:\n",
      "********************************\n",
      "    get_sig_features(data, sig_r)\n",
      "    get_r_score(X, y)\n",
      "    set_train_test(X_columns, y_columns, data, test_size=0.3, valid_size=0.3)\n",
      "    set_knn_reg(X_columns, y_columns, data, n=5)\n",
      "    set_predictions(model, data, X_columns, y_columns)\n",
      "    get_rmse(act, pred)\n",
      "    get_grad_descent_step(alpha, X_columns, y_columns, data, n)\n",
      "\n",
      "fight_result_model_training func:\n",
      "*********************************\n",
      "    set_svm_clf(X_columns, y_columns, data, C=1, gamma='scale', kernel='linear', degree=2)\n",
      "    get_model_evaluation(data)\n",
      "    get_accuracy(act, pred)\n",
      "    get_svm_grad_step(kernel, X_columns, y_columns, data, C=1, gamma=\"scale\", degree=2)\n",
      "    get_svm_param(filename)\n",
      "\n",
      "Prediction func:\n",
      "****************\n",
      "    get_current_date()\n",
      "    get_win_perc(fighter, data)\n",
      "    get_lose_streak(fighter, data)\n"
     ]
    },
    {
     "ename": "SyntaxError",
     "evalue": "invalid syntax (463756409.py, line 1)",
     "output_type": "error",
     "traceback": [
      "\u001b[1;36m  File \u001b[1;32m~\\AppData\\Local\\Temp\\ipykernel_46872\\463756409.py:1\u001b[1;36m\u001b[0m\n\u001b[1;33m    >>>>\u001b[0m\n\u001b[1;37m    ^\u001b[0m\n\u001b[1;31mSyntaxError\u001b[0m\u001b[1;31m:\u001b[0m invalid syntax\n"
     ]
    },
    {
     "ename": "SyntaxError",
     "evalue": "invalid syntax (463756409.py, line 1)",
     "output_type": "error",
     "traceback": [
      "Traceback \u001b[1;36m(most recent call last)\u001b[0m:\n",
      "  File \u001b[0;32mC:\\ProgramData\\Anaconda3\\lib\\site-packages\\IPython\\core\\interactiveshell.py:3398\u001b[0m in \u001b[0;35mrun_code\u001b[0m\n    exec(code_obj, self.user_global_ns, self.user_ns)\n",
      "  Input \u001b[0;32mIn [38]\u001b[0m in \u001b[0;35m<cell line: 1>\u001b[0m\n    get_ipython().run_line_magic('run', 'func_def.ipynb')\n",
      "  File \u001b[0;32mC:\\ProgramData\\Anaconda3\\lib\\site-packages\\IPython\\core\\interactiveshell.py:2305\u001b[0m in \u001b[0;35mrun_line_magic\u001b[0m\n    result = fn(*args, **kwargs)\n",
      "  File \u001b[0;32mC:\\ProgramData\\Anaconda3\\lib\\site-packages\\IPython\\core\\magics\\execution.py:717\u001b[0m in \u001b[0;35mrun\u001b[0m\n    self.shell.safe_execfile_ipy(filename, raise_exceptions=True)\n",
      "  File \u001b[0;32mC:\\ProgramData\\Anaconda3\\lib\\site-packages\\IPython\\core\\interactiveshell.py:2811\u001b[0m in \u001b[0;35msafe_execfile_ipy\u001b[0m\n    result.raise_error()\n",
      "  File \u001b[0;32mC:\\ProgramData\\Anaconda3\\lib\\site-packages\\IPython\\core\\interactiveshell.py:249\u001b[0m in \u001b[0;35mraise_error\u001b[0m\n    raise self.error_before_exec\n",
      "  File \u001b[0;32mC:\\ProgramData\\Anaconda3\\lib\\site-packages\\IPython\\core\\interactiveshell.py:3108\u001b[0m in \u001b[0;35mrun_cell_async\u001b[0m\n    code_ast = compiler.ast_parse(cell, filename=cell_name)\n",
      "\u001b[1;36m  File \u001b[1;32mC:\\ProgramData\\Anaconda3\\lib\\site-packages\\IPython\\core\\compilerop.py:105\u001b[1;36m in \u001b[1;35mast_parse\u001b[1;36m\u001b[0m\n\u001b[1;33m    return compile(source, filename, symbol, self.flags | PyCF_ONLY_AST, 1)\u001b[0m\n",
      "\u001b[1;36m  File \u001b[1;32m~\\AppData\\Local\\Temp\\ipykernel_46872\\463756409.py:1\u001b[1;36m\u001b[0m\n\u001b[1;33m    >>>>\u001b[0m\n\u001b[1;37m    ^\u001b[0m\n\u001b[1;31mSyntaxError\u001b[0m\u001b[1;31m:\u001b[0m invalid syntax\n"
     ]
    }
   ],
   "source": [
    "%run func_def.ipynb"
   ]
  },
  {
   "cell_type": "markdown",
   "id": "485a3282",
   "metadata": {},
   "source": [
    "### <span style='color:green'> **[done]** </span>Loading Features data"
   ]
  },
  {
   "cell_type": "code",
   "execution_count": null,
   "id": "5db19a64",
   "metadata": {},
   "outputs": [],
   "source": [
    "loc = '../data/'\n",
    "file = 'fight_stat_data.csv'\n",
    "df = pd.read_csv(loc+file)\n",
    "df = df[df.columns[1:]]\n",
    "df.tail(3)"
   ]
  },
  {
   "cell_type": "code",
   "execution_count": null,
   "id": "90f36e89-693f-4396-ae24-7c5a1add2349",
   "metadata": {},
   "outputs": [],
   "source": [
    "req_data = ['fighter','opponent']\n",
    "y = ['result']\n",
    "X = ['kd_dif','str_dif','td_dif','sub_dif',\n",
    "    #'td avg._dif','td acc._dif','td def._dif','sub. avg._dif',\n",
    "    #'slpm_dif','str. acc._dif','sapm_dif','str. def_dif',\n",
    "    'stance_win_ratio','win_perc_dif','win_strk_dif','lose_strk_dif']\n",
    "\n",
    "df = df[req_data + X + y]\n",
    "df.tail(3)"
   ]
  },
  {
   "cell_type": "markdown",
   "id": "afed5140-6b5a-43a9-8f15-258f86d75976",
   "metadata": {},
   "source": [
    "### <span style='color:green'> **[done]** </span> SVM model training:"
   ]
  },
  {
   "cell_type": "code",
   "execution_count": 39,
   "id": "9f5ac63e-14ed-4f21-a277-5890327ace76",
   "metadata": {},
   "outputs": [
    {
     "name": "stdout",
     "output_type": "stream",
     "text": [
      "Data split: Data=(6731, 13), train_set=(3279, 8), validation_set=(1437, 8), test_set=(2015, 8)\n"
     ]
    },
    {
     "data": {
      "text/html": [
       "<div>\n",
       "<style scoped>\n",
       "    .dataframe tbody tr th:only-of-type {\n",
       "        vertical-align: middle;\n",
       "    }\n",
       "\n",
       "    .dataframe tbody tr th {\n",
       "        vertical-align: top;\n",
       "    }\n",
       "\n",
       "    .dataframe thead th {\n",
       "        text-align: right;\n",
       "    }\n",
       "</style>\n",
       "<table border=\"1\" class=\"dataframe\">\n",
       "  <thead>\n",
       "    <tr style=\"text-align: right;\">\n",
       "      <th></th>\n",
       "      <th>set</th>\n",
       "      <th>fighter</th>\n",
       "      <th>opponent</th>\n",
       "      <th>kd_dif</th>\n",
       "      <th>str_dif</th>\n",
       "      <th>td_dif</th>\n",
       "      <th>sub_dif</th>\n",
       "      <th>stance_win_ratio</th>\n",
       "      <th>win_perc_dif</th>\n",
       "      <th>win_strk_dif</th>\n",
       "      <th>lose_strk_dif</th>\n",
       "      <th>result</th>\n",
       "      <th>result_pred</th>\n",
       "    </tr>\n",
       "  </thead>\n",
       "  <tbody>\n",
       "    <tr>\n",
       "      <th>6728</th>\n",
       "      <td>validation</td>\n",
       "      <td>Aleksandra Albu</td>\n",
       "      <td>Kailin Curran</td>\n",
       "      <td>0.007043</td>\n",
       "      <td>-0.13660</td>\n",
       "      <td>1.572182</td>\n",
       "      <td>0.000126</td>\n",
       "      <td>-0.017271</td>\n",
       "      <td>2.039564</td>\n",
       "      <td>0.562079</td>\n",
       "      <td>-2.148820</td>\n",
       "      <td>win</td>\n",
       "      <td>win</td>\n",
       "    </tr>\n",
       "    <tr>\n",
       "      <th>6729</th>\n",
       "      <td>validation</td>\n",
       "      <td>Eric Shelton</td>\n",
       "      <td>Jarred Brooks</td>\n",
       "      <td>0.007043</td>\n",
       "      <td>0.16454</td>\n",
       "      <td>-1.585788</td>\n",
       "      <td>0.000126</td>\n",
       "      <td>0.076432</td>\n",
       "      <td>-0.004555</td>\n",
       "      <td>-0.009943</td>\n",
       "      <td>1.083053</td>\n",
       "      <td>lose</td>\n",
       "      <td>lose</td>\n",
       "    </tr>\n",
       "    <tr>\n",
       "      <th>6730</th>\n",
       "      <td>train</td>\n",
       "      <td>Drew Dober</td>\n",
       "      <td>Joshua Burkman</td>\n",
       "      <td>1.361536</td>\n",
       "      <td>0.16454</td>\n",
       "      <td>-0.006803</td>\n",
       "      <td>0.000126</td>\n",
       "      <td>1.488122</td>\n",
       "      <td>0.123202</td>\n",
       "      <td>-0.009943</td>\n",
       "      <td>-2.148820</td>\n",
       "      <td>win</td>\n",
       "      <td>win</td>\n",
       "    </tr>\n",
       "  </tbody>\n",
       "</table>\n",
       "</div>"
      ],
      "text/plain": [
       "             set          fighter        opponent    kd_dif  str_dif  \\\n",
       "6728  validation  Aleksandra Albu   Kailin Curran  0.007043 -0.13660   \n",
       "6729  validation     Eric Shelton   Jarred Brooks  0.007043  0.16454   \n",
       "6730       train       Drew Dober  Joshua Burkman  1.361536  0.16454   \n",
       "\n",
       "        td_dif   sub_dif  stance_win_ratio  win_perc_dif  win_strk_dif  \\\n",
       "6728  1.572182  0.000126         -0.017271      2.039564      0.562079   \n",
       "6729 -1.585788  0.000126          0.076432     -0.004555     -0.009943   \n",
       "6730 -0.006803  0.000126          1.488122      0.123202     -0.009943   \n",
       "\n",
       "      lose_strk_dif result result_pred  \n",
       "6728      -2.148820    win         win  \n",
       "6729       1.083053   lose        lose  \n",
       "6730      -2.148820    win         win  "
      ]
     },
     "execution_count": 39,
     "metadata": {},
     "output_type": "execute_result"
    }
   ],
   "source": [
    "df = set_train_test(X_columns=X, y_columns=y, data=df, test_size=0.3, valid_size=0.3)\n",
    "df.tail(3)"
   ]
  },
  {
   "cell_type": "code",
   "execution_count": 40,
   "id": "9657d7a6-cd06-4f3c-8555-fabfbab35e68",
   "metadata": {},
   "outputs": [
    {
     "data": {
      "text/html": [
       "<div>\n",
       "<style scoped>\n",
       "    .dataframe tbody tr th:only-of-type {\n",
       "        vertical-align: middle;\n",
       "    }\n",
       "\n",
       "    .dataframe tbody tr th {\n",
       "        vertical-align: top;\n",
       "    }\n",
       "\n",
       "    .dataframe thead th {\n",
       "        text-align: right;\n",
       "    }\n",
       "</style>\n",
       "<table border=\"1\" class=\"dataframe\">\n",
       "  <thead>\n",
       "    <tr style=\"text-align: right;\">\n",
       "      <th></th>\n",
       "      <th>set</th>\n",
       "      <th>fighter</th>\n",
       "      <th>opponent</th>\n",
       "      <th>kd_dif</th>\n",
       "      <th>str_dif</th>\n",
       "      <th>td_dif</th>\n",
       "      <th>sub_dif</th>\n",
       "      <th>stance_win_ratio</th>\n",
       "      <th>win_perc_dif</th>\n",
       "      <th>win_strk_dif</th>\n",
       "      <th>lose_strk_dif</th>\n",
       "      <th>result</th>\n",
       "      <th>result_pred</th>\n",
       "    </tr>\n",
       "  </thead>\n",
       "  <tbody>\n",
       "    <tr>\n",
       "      <th>6728</th>\n",
       "      <td>validation</td>\n",
       "      <td>Aleksandra Albu</td>\n",
       "      <td>Kailin Curran</td>\n",
       "      <td>0.007043</td>\n",
       "      <td>-0.13660</td>\n",
       "      <td>1.572182</td>\n",
       "      <td>0.000126</td>\n",
       "      <td>-0.017271</td>\n",
       "      <td>2.039564</td>\n",
       "      <td>0.562079</td>\n",
       "      <td>-2.148820</td>\n",
       "      <td>win</td>\n",
       "      <td>win</td>\n",
       "    </tr>\n",
       "    <tr>\n",
       "      <th>6729</th>\n",
       "      <td>validation</td>\n",
       "      <td>Eric Shelton</td>\n",
       "      <td>Jarred Brooks</td>\n",
       "      <td>0.007043</td>\n",
       "      <td>0.16454</td>\n",
       "      <td>-1.585788</td>\n",
       "      <td>0.000126</td>\n",
       "      <td>0.076432</td>\n",
       "      <td>-0.004555</td>\n",
       "      <td>-0.009943</td>\n",
       "      <td>1.083053</td>\n",
       "      <td>lose</td>\n",
       "      <td>lose</td>\n",
       "    </tr>\n",
       "    <tr>\n",
       "      <th>6730</th>\n",
       "      <td>train</td>\n",
       "      <td>Drew Dober</td>\n",
       "      <td>Joshua Burkman</td>\n",
       "      <td>1.361536</td>\n",
       "      <td>0.16454</td>\n",
       "      <td>-0.006803</td>\n",
       "      <td>0.000126</td>\n",
       "      <td>1.488122</td>\n",
       "      <td>0.123202</td>\n",
       "      <td>-0.009943</td>\n",
       "      <td>-2.148820</td>\n",
       "      <td>win</td>\n",
       "      <td>win</td>\n",
       "    </tr>\n",
       "  </tbody>\n",
       "</table>\n",
       "</div>"
      ],
      "text/plain": [
       "             set          fighter        opponent    kd_dif  str_dif  \\\n",
       "6728  validation  Aleksandra Albu   Kailin Curran  0.007043 -0.13660   \n",
       "6729  validation     Eric Shelton   Jarred Brooks  0.007043  0.16454   \n",
       "6730       train       Drew Dober  Joshua Burkman  1.361536  0.16454   \n",
       "\n",
       "        td_dif   sub_dif  stance_win_ratio  win_perc_dif  win_strk_dif  \\\n",
       "6728  1.572182  0.000126         -0.017271      2.039564      0.562079   \n",
       "6729 -1.585788  0.000126          0.076432     -0.004555     -0.009943   \n",
       "6730 -0.006803  0.000126          1.488122      0.123202     -0.009943   \n",
       "\n",
       "      lose_strk_dif result result_pred  \n",
       "6728      -2.148820    win         win  \n",
       "6729       1.083053   lose        lose  \n",
       "6730      -2.148820    win         win  "
      ]
     },
     "execution_count": 40,
     "metadata": {},
     "output_type": "execute_result"
    }
   ],
   "source": [
    "svm_clf = set_svm_clf(X_columns=X, y_columns=y, data=df, C=1, gamma='scale', kernel='poly', degree=7)\n",
    "df = set_predictions(model=svm_clf, data=df, X_columns=X, y_columns=y)\n",
    "df.tail(3)"
   ]
  },
  {
   "cell_type": "code",
   "execution_count": 41,
   "id": "e0428056-f1ee-4748-a575-a92249ccc239",
   "metadata": {},
   "outputs": [
    {
     "name": "stdout",
     "output_type": "stream",
     "text": [
      "Accuracy = 0.791067\n"
     ]
    },
    {
     "data": {
      "image/png": "[encoded data removed]",
      "text/plain": [
       "<Figure size 432x288 with 2 Axes>"
      ]
     },
     "metadata": {},
     "output_type": "display_data"
    }
   ],
   "source": [
    "get_model_evaluation(data=df)"
   ]
  },
  {
   "cell_type": "markdown",
   "id": "945a56b0-9f38-4a27-80fe-0a65d5e0e314",
   "metadata": {
    "tags": []
   },
   "source": [
    "### <span style='color:green'> **[done]** </span> Tune model parameters:"
   ]
  },
  {
   "cell_type": "markdown",
   "id": "6f38e6e3-e9e8-4d79-ae6b-800ee3031128",
   "metadata": {
    "tags": []
   },
   "source": [
    "#### tune linear kernel model"
   ]
  },
  {
   "cell_type": "code",
   "execution_count": 42,
   "id": "78ab78cb-daa8-4629-80e0-64ac5e431f04",
   "metadata": {},
   "outputs": [
    {
     "name": "stderr",
     "output_type": "stream",
     "text": [
      "100%|████████████████████████████████████████████████████████████████████████████████████| 8/8 [00:05<00:00,  1.60it/s]"
     ]
    },
    {
     "name": "stdout",
     "output_type": "stream",
     "text": [
      "Best Model:\n"
     ]
    },
    {
     "name": "stderr",
     "output_type": "stream",
     "text": [
      "\n"
     ]
    },
    {
     "data": {
      "text/html": [
       "<div>\n",
       "<style scoped>\n",
       "    .dataframe tbody tr th:only-of-type {\n",
       "        vertical-align: middle;\n",
       "    }\n",
       "\n",
       "    .dataframe tbody tr th {\n",
       "        vertical-align: top;\n",
       "    }\n",
       "\n",
       "    .dataframe thead th {\n",
       "        text-align: right;\n",
       "    }\n",
       "</style>\n",
       "<table border=\"1\" class=\"dataframe\">\n",
       "  <thead>\n",
       "    <tr style=\"text-align: right;\">\n",
       "      <th></th>\n",
       "      <th>kernel</th>\n",
       "      <th>C</th>\n",
       "      <th>accuracy</th>\n",
       "    </tr>\n",
       "  </thead>\n",
       "  <tbody>\n",
       "    <tr>\n",
       "      <th>0</th>\n",
       "      <td>linear</td>\n",
       "      <td>50.0</td>\n",
       "      <td>0.864997</td>\n",
       "    </tr>\n",
       "  </tbody>\n",
       "</table>\n",
       "</div>"
      ],
      "text/plain": [
       "   kernel     C  accuracy\n",
       "0  linear  50.0  0.864997"
      ]
     },
     "execution_count": 42,
     "metadata": {},
     "output_type": "execute_result"
    }
   ],
   "source": [
    "svm_linear = pd.DataFrame(columns=['kernel','C','accuracy'])\n",
    "\n",
    "for C in tqdm([0.01, 0.1, 1, 3, 5, 10, 20, 50]):\n",
    "    svm_linear = pd.concat([svm_linear, get_svm_grad_step(kernel='linear', C=C, gamma='scale', degree=1, X_columns=X, y_columns=y, data=df)], ignore_index=True)\n",
    "        \n",
    "max_stat_linear = svm_linear[svm_linear.accuracy==np.max(svm_linear.accuracy)].reset_index(drop=True)\n",
    "print('Best Model:')\n",
    "max_stat_linear"
   ]
  },
  {
   "cell_type": "markdown",
   "id": "6c777ff2-101f-403e-a18e-e5f5d675b0f1",
   "metadata": {
    "tags": []
   },
   "source": [
    "#### tune poly kernel model"
   ]
  },
  {
   "cell_type": "code",
   "execution_count": 43,
   "id": "39a56b34-139c-42ae-8d0e-f6a14d3eb65e",
   "metadata": {},
   "outputs": [
    {
     "name": "stderr",
     "output_type": "stream",
     "text": [
      "100%|████████████████████████████████████████████████████████████████████████████████████| 6/6 [00:04<00:00,  1.29it/s]"
     ]
    },
    {
     "name": "stdout",
     "output_type": "stream",
     "text": [
      "Best Model:\n"
     ]
    },
    {
     "name": "stderr",
     "output_type": "stream",
     "text": [
      "\n"
     ]
    },
    {
     "data": {
      "text/html": [
       "<div>\n",
       "<style scoped>\n",
       "    .dataframe tbody tr th:only-of-type {\n",
       "        vertical-align: middle;\n",
       "    }\n",
       "\n",
       "    .dataframe tbody tr th {\n",
       "        vertical-align: top;\n",
       "    }\n",
       "\n",
       "    .dataframe thead th {\n",
       "        text-align: right;\n",
       "    }\n",
       "</style>\n",
       "<table border=\"1\" class=\"dataframe\">\n",
       "  <thead>\n",
       "    <tr style=\"text-align: right;\">\n",
       "      <th></th>\n",
       "      <th>kernel</th>\n",
       "      <th>degree</th>\n",
       "      <th>accuracy</th>\n",
       "    </tr>\n",
       "  </thead>\n",
       "  <tbody>\n",
       "    <tr>\n",
       "      <th>0</th>\n",
       "      <td>poly</td>\n",
       "      <td>3</td>\n",
       "      <td>0.843424</td>\n",
       "    </tr>\n",
       "  </tbody>\n",
       "</table>\n",
       "</div>"
      ],
      "text/plain": [
       "  kernel degree  accuracy\n",
       "0   poly      3  0.843424"
      ]
     },
     "execution_count": 43,
     "metadata": {},
     "output_type": "execute_result"
    }
   ],
   "source": [
    "svm_poly = pd.DataFrame(columns=['kernel','degree','accuracy'])\n",
    "\n",
    "for degree in tqdm([2,3,4,5,6,7]):\n",
    "    svm_poly = pd.concat([svm_poly, get_svm_grad_step(kernel='poly', degree=degree, X_columns=X, y_columns=y, data=df)], ignore_index=True)\n",
    "        \n",
    "max_stat_poly = svm_poly[svm_poly.accuracy==np.max(svm_poly.accuracy)].reset_index(drop=True) \n",
    "print('Best Model:')\n",
    "max_stat_poly"
   ]
  },
  {
   "cell_type": "markdown",
   "id": "5b66b9f2-2571-44f8-8ec3-fc1b934af179",
   "metadata": {
    "tags": []
   },
   "source": [
    "#### tune RBF kernel model"
   ]
  },
  {
   "cell_type": "code",
   "execution_count": 44,
   "id": "3e7fdde5-21f7-46a3-b62b-e914408b37cf",
   "metadata": {},
   "outputs": [
    {
     "name": "stderr",
     "output_type": "stream",
     "text": [
      "100%|████████████████████████████████████████████████████████████████████████████████████| 4/4 [00:08<00:00,  2.22s/it]"
     ]
    },
    {
     "name": "stdout",
     "output_type": "stream",
     "text": [
      "Best Model:\n"
     ]
    },
    {
     "name": "stderr",
     "output_type": "stream",
     "text": [
      "\n"
     ]
    },
    {
     "data": {
      "text/html": [
       "<div>\n",
       "<style scoped>\n",
       "    .dataframe tbody tr th:only-of-type {\n",
       "        vertical-align: middle;\n",
       "    }\n",
       "\n",
       "    .dataframe tbody tr th {\n",
       "        vertical-align: top;\n",
       "    }\n",
       "\n",
       "    .dataframe thead th {\n",
       "        text-align: right;\n",
       "    }\n",
       "</style>\n",
       "<table border=\"1\" class=\"dataframe\">\n",
       "  <thead>\n",
       "    <tr style=\"text-align: right;\">\n",
       "      <th></th>\n",
       "      <th>kernel</th>\n",
       "      <th>gamma</th>\n",
       "      <th>accuracy</th>\n",
       "    </tr>\n",
       "  </thead>\n",
       "  <tbody>\n",
       "    <tr>\n",
       "      <th>0</th>\n",
       "      <td>rbf</td>\n",
       "      <td>2</td>\n",
       "      <td>0.792624</td>\n",
       "    </tr>\n",
       "  </tbody>\n",
       "</table>\n",
       "</div>"
      ],
      "text/plain": [
       "  kernel gamma  accuracy\n",
       "0    rbf     2  0.792624"
      ]
     },
     "execution_count": 44,
     "metadata": {},
     "output_type": "execute_result"
    }
   ],
   "source": [
    "svm_rbf = pd.DataFrame(columns=['kernel','gamma','accuracy'])\n",
    "\n",
    "for gamma in tqdm([2,3,4,5]):\n",
    "    svm_rbf = pd.concat([svm_rbf, get_svm_grad_step(kernel='rbf', gamma=gamma, X_columns=X, y_columns=y, data=df)], ignore_index=True)\n",
    "\n",
    "max_stat_rbf = svm_rbf[svm_rbf.accuracy==np.max(svm_rbf.accuracy)].reset_index(drop=True) \n",
    "print('Best Model:')\n",
    "max_stat_rbf"
   ]
  },
  {
   "cell_type": "code",
   "execution_count": 45,
   "id": "a4590cd2-2a9a-4983-aeaf-c49ee9b3d2fa",
   "metadata": {},
   "outputs": [
    {
     "data": {
      "text/html": [
       "<div>\n",
       "<style scoped>\n",
       "    .dataframe tbody tr th:only-of-type {\n",
       "        vertical-align: middle;\n",
       "    }\n",
       "\n",
       "    .dataframe tbody tr th {\n",
       "        vertical-align: top;\n",
       "    }\n",
       "\n",
       "    .dataframe thead th {\n",
       "        text-align: right;\n",
       "    }\n",
       "</style>\n",
       "<table border=\"1\" class=\"dataframe\">\n",
       "  <thead>\n",
       "    <tr style=\"text-align: right;\">\n",
       "      <th></th>\n",
       "      <th>kernel</th>\n",
       "      <th>C</th>\n",
       "      <th>gamma</th>\n",
       "      <th>degree</th>\n",
       "      <th>accuracy</th>\n",
       "    </tr>\n",
       "  </thead>\n",
       "  <tbody>\n",
       "    <tr>\n",
       "      <th>0</th>\n",
       "      <td>rbf</td>\n",
       "      <td>NaN</td>\n",
       "      <td>2</td>\n",
       "      <td>NaN</td>\n",
       "      <td>0.792624</td>\n",
       "    </tr>\n",
       "    <tr>\n",
       "      <th>1</th>\n",
       "      <td>poly</td>\n",
       "      <td>NaN</td>\n",
       "      <td>NaN</td>\n",
       "      <td>3</td>\n",
       "      <td>0.843424</td>\n",
       "    </tr>\n",
       "    <tr>\n",
       "      <th>2</th>\n",
       "      <td>linear</td>\n",
       "      <td>50.0</td>\n",
       "      <td>NaN</td>\n",
       "      <td>NaN</td>\n",
       "      <td>0.864997</td>\n",
       "    </tr>\n",
       "  </tbody>\n",
       "</table>\n",
       "</div>"
      ],
      "text/plain": [
       "   kernel     C gamma degree  accuracy\n",
       "0     rbf   NaN     2    NaN  0.792624\n",
       "1    poly   NaN   NaN      3  0.843424\n",
       "2  linear  50.0   NaN    NaN  0.864997"
      ]
     },
     "execution_count": 45,
     "metadata": {},
     "output_type": "execute_result"
    }
   ],
   "source": [
    "parm_tune = pd.DataFrame(columns=['kernel','C','gamma','degree','accuracy'])\n",
    "parm_tune = pd.concat([parm_tune,max_stat_rbf,max_stat_poly,max_stat_linear]).reset_index(drop=True)\n",
    "parm_tune"
   ]
  },
  {
   "cell_type": "markdown",
   "id": "e1bed49c-8d1b-4e01-85f2-9bce1a1ef0ab",
   "metadata": {
    "tags": []
   },
   "source": [
    "#### save best SVM parameters to file "
   ]
  },
  {
   "cell_type": "code",
   "execution_count": 46,
   "id": "f10f9abe-6b5d-446b-935b-620dd06d7bd4",
   "metadata": {},
   "outputs": [
    {
     "data": {
      "text/html": [
       "<div>\n",
       "<style scoped>\n",
       "    .dataframe tbody tr th:only-of-type {\n",
       "        vertical-align: middle;\n",
       "    }\n",
       "\n",
       "    .dataframe tbody tr th {\n",
       "        vertical-align: top;\n",
       "    }\n",
       "\n",
       "    .dataframe thead th {\n",
       "        text-align: right;\n",
       "    }\n",
       "</style>\n",
       "<table border=\"1\" class=\"dataframe\">\n",
       "  <thead>\n",
       "    <tr style=\"text-align: right;\">\n",
       "      <th></th>\n",
       "      <th>ml_model</th>\n",
       "      <th>parameter_name</th>\n",
       "      <th>value</th>\n",
       "      <th>accuracy</th>\n",
       "    </tr>\n",
       "  </thead>\n",
       "  <tbody>\n",
       "    <tr>\n",
       "      <th>0</th>\n",
       "      <td>knn_reg</td>\n",
       "      <td>neighbors</td>\n",
       "      <td>29</td>\n",
       "      <td>0.599900</td>\n",
       "    </tr>\n",
       "    <tr>\n",
       "      <th>1</th>\n",
       "      <td>SVM</td>\n",
       "      <td>kernel</td>\n",
       "      <td>linear</td>\n",
       "      <td>0.864997</td>\n",
       "    </tr>\n",
       "    <tr>\n",
       "      <th>2</th>\n",
       "      <td>SVM</td>\n",
       "      <td>C</td>\n",
       "      <td>50.0</td>\n",
       "      <td>0.864997</td>\n",
       "    </tr>\n",
       "  </tbody>\n",
       "</table>\n",
       "</div>"
      ],
      "text/plain": [
       "  ml_model parameter_name   value  accuracy\n",
       "0  knn_reg      neighbors      29  0.599900\n",
       "1      SVM         kernel  linear  0.864997\n",
       "2      SVM              C    50.0  0.864997"
      ]
     },
     "execution_count": 46,
     "metadata": {},
     "output_type": "execute_result"
    }
   ],
   "source": [
    "# get best SVM parameters to save:\n",
    "row = parm_tune[parm_tune.accuracy == np.max(parm_tune.accuracy)].reset_index(drop=True)\n",
    "row = row.dropna(axis=1,how='all')\n",
    "\n",
    "param = pd.read_csv('../global_variables/ml_models_parameters.csv').drop(columns='Unnamed: 0')\n",
    "param = param[param.ml_model=='knn_reg']\n",
    "\n",
    "svm_param = pd.DataFrame(data={'ml_model':['SVM','SVM'],\n",
    "                          'parameter_name':['kernel',row.columns[1]],\n",
    "                          'value':[row.loc[0,'kernel'],row.loc[0,row.columns[1]]],\n",
    "                          'accuracy':[row.loc[0,'accuracy'],row.loc[0,'accuracy']]}\n",
    "                    )\n",
    "param = pd.concat([param,svm_param]).reset_index(drop=True)\n",
    "param"
   ]
  },
  {
   "cell_type": "code",
   "execution_count": 47,
   "id": "416c7472-5467-4c48-a512-e25d0f71080f",
   "metadata": {},
   "outputs": [
    {
     "name": "stdout",
     "output_type": "stream",
     "text": [
      "../global_variables/ml_models_parameters.csv saved.\n"
     ]
    }
   ],
   "source": [
    "param.to_csv('../global_variables/ml_models_parameters.csv')\n",
    "print('../global_variables/ml_models_parameters.csv saved.')"
   ]
  },
  {
   "cell_type": "markdown",
   "id": "a0c57076-c941-4878-881d-67bdcc133ace",
   "metadata": {
    "tags": []
   },
   "source": [
    "### <span style='color:green'> **[done]** </span> Train chosen model:"
   ]
  },
  {
   "cell_type": "code",
   "execution_count": 48,
   "id": "a376850a-12f2-4473-b23b-03daf0e344df",
   "metadata": {},
   "outputs": [
    {
     "data": {
      "text/html": [
       "<div>\n",
       "<style scoped>\n",
       "    .dataframe tbody tr th:only-of-type {\n",
       "        vertical-align: middle;\n",
       "    }\n",
       "\n",
       "    .dataframe tbody tr th {\n",
       "        vertical-align: top;\n",
       "    }\n",
       "\n",
       "    .dataframe thead th {\n",
       "        text-align: right;\n",
       "    }\n",
       "</style>\n",
       "<table border=\"1\" class=\"dataframe\">\n",
       "  <thead>\n",
       "    <tr style=\"text-align: right;\">\n",
       "      <th></th>\n",
       "      <th>set</th>\n",
       "      <th>fighter</th>\n",
       "      <th>opponent</th>\n",
       "      <th>kd_dif</th>\n",
       "      <th>str_dif</th>\n",
       "      <th>td_dif</th>\n",
       "      <th>sub_dif</th>\n",
       "      <th>stance_win_ratio</th>\n",
       "      <th>win_perc_dif</th>\n",
       "      <th>win_strk_dif</th>\n",
       "      <th>lose_strk_dif</th>\n",
       "      <th>result</th>\n",
       "      <th>result_pred</th>\n",
       "    </tr>\n",
       "  </thead>\n",
       "  <tbody>\n",
       "    <tr>\n",
       "      <th>6728</th>\n",
       "      <td>validation</td>\n",
       "      <td>Aleksandra Albu</td>\n",
       "      <td>Kailin Curran</td>\n",
       "      <td>0.007043</td>\n",
       "      <td>-0.13660</td>\n",
       "      <td>1.572182</td>\n",
       "      <td>0.000126</td>\n",
       "      <td>-0.017271</td>\n",
       "      <td>2.039564</td>\n",
       "      <td>0.562079</td>\n",
       "      <td>-2.148820</td>\n",
       "      <td>win</td>\n",
       "      <td>win</td>\n",
       "    </tr>\n",
       "    <tr>\n",
       "      <th>6729</th>\n",
       "      <td>validation</td>\n",
       "      <td>Eric Shelton</td>\n",
       "      <td>Jarred Brooks</td>\n",
       "      <td>0.007043</td>\n",
       "      <td>0.16454</td>\n",
       "      <td>-1.585788</td>\n",
       "      <td>0.000126</td>\n",
       "      <td>0.076432</td>\n",
       "      <td>-0.004555</td>\n",
       "      <td>-0.009943</td>\n",
       "      <td>1.083053</td>\n",
       "      <td>lose</td>\n",
       "      <td>lose</td>\n",
       "    </tr>\n",
       "    <tr>\n",
       "      <th>6730</th>\n",
       "      <td>train</td>\n",
       "      <td>Drew Dober</td>\n",
       "      <td>Joshua Burkman</td>\n",
       "      <td>1.361536</td>\n",
       "      <td>0.16454</td>\n",
       "      <td>-0.006803</td>\n",
       "      <td>0.000126</td>\n",
       "      <td>1.488122</td>\n",
       "      <td>0.123202</td>\n",
       "      <td>-0.009943</td>\n",
       "      <td>-2.148820</td>\n",
       "      <td>win</td>\n",
       "      <td>win</td>\n",
       "    </tr>\n",
       "  </tbody>\n",
       "</table>\n",
       "</div>"
      ],
      "text/plain": [
       "             set          fighter        opponent    kd_dif  str_dif  \\\n",
       "6728  validation  Aleksandra Albu   Kailin Curran  0.007043 -0.13660   \n",
       "6729  validation     Eric Shelton   Jarred Brooks  0.007043  0.16454   \n",
       "6730       train       Drew Dober  Joshua Burkman  1.361536  0.16454   \n",
       "\n",
       "        td_dif   sub_dif  stance_win_ratio  win_perc_dif  win_strk_dif  \\\n",
       "6728  1.572182  0.000126         -0.017271      2.039564      0.562079   \n",
       "6729 -1.585788  0.000126          0.076432     -0.004555     -0.009943   \n",
       "6730 -0.006803  0.000126          1.488122      0.123202     -0.009943   \n",
       "\n",
       "      lose_strk_dif result result_pred  \n",
       "6728      -2.148820    win         win  \n",
       "6729       1.083053   lose        lose  \n",
       "6730      -2.148820    win         win  "
      ]
     },
     "execution_count": 48,
     "metadata": {},
     "output_type": "execute_result"
    }
   ],
   "source": [
    "kernel, C, gamma, degree = get_svm_param(filename='../global_variables/ml_models_parameters.csv')\n",
    "\n",
    "svm_clf = set_svm_clf(X_columns=X, y_columns=y, data=df, C=C, gamma=gamma, kernel=kernel, degree=degree)\n",
    "df = set_predictions(model=svm_clf, data=df, X_columns=X, y_columns=y)\n",
    "df.tail(3)"
   ]
  },
  {
   "cell_type": "code",
   "execution_count": 49,
   "id": "45e0df29-87df-49b4-9570-193c81e1e8f9",
   "metadata": {},
   "outputs": [
    {
     "name": "stdout",
     "output_type": "stream",
     "text": [
      "Accuracy = 0.867494\n"
     ]
    },
    {
     "data": {
      "image/png": "[encoded data removed]",
      "text/plain": [
       "<Figure size 432x288 with 2 Axes>"
      ]
     },
     "metadata": {},
     "output_type": "display_data"
    }
   ],
   "source": [
    "get_model_evaluation(data=df)"
   ]
  },
  {
   "cell_type": "code",
   "execution_count": 50,
   "id": "75ab1900-e599-45bb-9578-21c4e4c043f8",
   "metadata": {},
   "outputs": [
    {
     "name": "stdout",
     "output_type": "stream",
     "text": [
      "../data/fight_results_data_trained.csv saved.\n"
     ]
    }
   ],
   "source": [
    "df.to_csv('../data/fight_results_data_trained.csv')\n",
    "print('../data/fight_results_data_trained.csv saved.')"
   ]
  },
  {
   "cell_type": "code",
   "execution_count": null,
   "id": "b4667daa-6338-4f99-9d87-32f8cf0cb2be",
   "metadata": {},
   "outputs": [],
   "source": []
  }
 ],
 "metadata": {
  "kernelspec": {
   "display_name": "Python 3 (ipykernel)",
   "language": "python",
   "name": "python3"
  },
  "language_info": {
   "codemirror_mode": {
    "name": "ipython",
    "version": 3
   },
   "file_extension": ".py",
   "mimetype": "text/x-python",
   "name": "python",
   "nbconvert_exporter": "python",
   "pygments_lexer": "ipython3",
   "version": "3.9.7"
  },
  "toc-autonumbering": true,
  "toc-showcode": false,
  "toc-showmarkdowntxt": false
 },
 "nbformat": 4,
 "nbformat_minor": 5
}
