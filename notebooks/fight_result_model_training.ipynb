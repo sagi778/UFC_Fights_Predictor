{
 "cells": [
  {
   "cell_type": "code",
   "execution_count": 1,
   "id": "846617b9-400f-4c71-9df6-ed6c51888afb",
   "metadata": {},
   "outputs": [
    {
     "name": "stdout",
     "output_type": "stream",
     "text": [
      "imports loaded.\n",
      "\n",
      "Pre-Processing func:\n",
      "********************\n",
      "    get_height(item)\n",
      "    get_weight(item)\n",
      "    get_reach(item)\n",
      "    get_std_reach(item, height, reach_list, height_list)\n",
      "    get_age(item)\n",
      "    get_std_age(item, age_list)\n",
      "    get_win_perc(name, date, df)\n",
      "    get_lose_streak_data_frame(name, date, df)\n",
      "    get_win_streak_data_frame(name, date, df)\n",
      "    get_streak_data_frame(name, date, df)\n",
      "    get_win_streak(name, date, df)\n",
      "    get_lose_streak(name, date, df)\n",
      "    get_fighter_stats(name, data )\n",
      "    add_columns(data, column_list)\n",
      "\n",
      "Feature Engineering func:\n",
      "*************************\n",
      "    get_stat(index, data, stat='height', fo='')\n",
      "    get_swaped_row(index, data)\n",
      "    get_wins(combo, data)\n",
      "    get_wins_ratio(combo, data)\n",
      "\n",
      "fight_stats_model_training func:\n",
      "********************************\n",
      "    get_sig_features(data, sig_r)\n",
      "    get_r_score(X, y)\n",
      "    set_train_test(X_columns, y_columns, data, test_size=0.3, valid_size=0.3)\n",
      "    set_knn_reg(X_columns, y_columns, data, n=5)\n",
      "    set_predictions(model, data, X_columns, y_columns)\n",
      "    get_rmse(act, pred)\n",
      "    get_grad_descent_step(alpha, X_columns, y_columns, data, n)\n",
      "\n",
      "fight_result_model_training func:\n",
      "*********************************\n",
      "    set_svm_clf(X_columns, y_columns, data, C=1, gamma='scale', kernel='linear', degree=2)\n",
      "    get_model_evaluation(data)\n",
      "    get_accuracy(act, pred)\n",
      "    get_svm_grad_step(kernel, X_columns, y_columns, data, C=1, gamma=\"scale\", degree=2)\n",
      "    get_svm_param(filename)\n",
      "\n",
      "Prediction func:\n",
      "****************\n"
     ]
    },
    {
     "ename": "SyntaxError",
     "evalue": "invalid syntax (<ipython-input-1-00b0f6224fe5>, line 1)",
     "output_type": "error",
     "traceback": [
      "\u001b[0;36m  File \u001b[0;32m\"<ipython-input-1-00b0f6224fe5>\"\u001b[0;36m, line \u001b[0;32m1\u001b[0m\n\u001b[0;31m    >>>>>>>>>>>>\u001b[0m\n\u001b[0m     ^\u001b[0m\n\u001b[0;31mSyntaxError\u001b[0m\u001b[0;31m:\u001b[0m invalid syntax\n"
     ]
    }
   ],
   "source": [
    "%run func_def.ipynb"
   ]
  },
  {
   "cell_type": "markdown",
   "id": "485a3282",
   "metadata": {},
   "source": [
    "### <span style='color:green'> **[done]** </span>Loading Features data"
   ]
  },
  {
   "cell_type": "code",
   "execution_count": 2,
   "id": "5db19a64",
   "metadata": {},
   "outputs": [
    {
     "data": {
      "text/html": [
       "<div>\n",
       "<style scoped>\n",
       "    .dataframe tbody tr th:only-of-type {\n",
       "        vertical-align: middle;\n",
       "    }\n",
       "\n",
       "    .dataframe tbody tr th {\n",
       "        vertical-align: top;\n",
       "    }\n",
       "\n",
       "    .dataframe thead th {\n",
       "        text-align: right;\n",
       "    }\n",
       "</style>\n",
       "<table border=\"1\" class=\"dataframe\">\n",
       "  <thead>\n",
       "    <tr style=\"text-align: right;\">\n",
       "      <th></th>\n",
       "      <th>set</th>\n",
       "      <th>fighter</th>\n",
       "      <th>opponent</th>\n",
       "      <th>result</th>\n",
       "      <th>kd_dif</th>\n",
       "      <th>str_dif</th>\n",
       "      <th>td_dif</th>\n",
       "      <th>sub_dif</th>\n",
       "      <th>td avg._dif</th>\n",
       "      <th>td acc._dif</th>\n",
       "      <th>td def._dif</th>\n",
       "      <th>sub. avg._dif</th>\n",
       "      <th>slpm_dif</th>\n",
       "      <th>str. acc._dif</th>\n",
       "      <th>sapm_dif</th>\n",
       "      <th>str. def_dif</th>\n",
       "      <th>stance_win_ratio</th>\n",
       "      <th>win_perc_dif</th>\n",
       "      <th>win_strk_dif</th>\n",
       "      <th>lose_strk_dif</th>\n",
       "      <th>kd_dif_pred</th>\n",
       "      <th>str_dif_pred</th>\n",
       "      <th>td_dif_pred</th>\n",
       "      <th>sub_dif_pred</th>\n",
       "    </tr>\n",
       "  </thead>\n",
       "  <tbody>\n",
       "    <tr>\n",
       "      <th>6728</th>\n",
       "      <td>validation</td>\n",
       "      <td>Aleksandra Albu</td>\n",
       "      <td>Kailin Curran</td>\n",
       "      <td>win</td>\n",
       "      <td>0.007043</td>\n",
       "      <td>-0.13660</td>\n",
       "      <td>1.572182</td>\n",
       "      <td>0.000126</td>\n",
       "      <td>0.146611</td>\n",
       "      <td>-0.234918</td>\n",
       "      <td>0.536244</td>\n",
       "      <td>-0.191655</td>\n",
       "      <td>0.609627</td>\n",
       "      <td>0.331825</td>\n",
       "      <td>0.489153</td>\n",
       "      <td>-1.247508</td>\n",
       "      <td>-0.017271</td>\n",
       "      <td>2.039564</td>\n",
       "      <td>0.562079</td>\n",
       "      <td>-2.148820</td>\n",
       "      <td>0.193870</td>\n",
       "      <td>0.193870</td>\n",
       "      <td>0.193870</td>\n",
       "      <td>0.193870</td>\n",
       "    </tr>\n",
       "    <tr>\n",
       "      <th>6729</th>\n",
       "      <td>validation</td>\n",
       "      <td>Eric Shelton</td>\n",
       "      <td>Jarred Brooks</td>\n",
       "      <td>lose</td>\n",
       "      <td>0.007043</td>\n",
       "      <td>0.16454</td>\n",
       "      <td>-1.585788</td>\n",
       "      <td>0.000126</td>\n",
       "      <td>-0.957237</td>\n",
       "      <td>-0.199947</td>\n",
       "      <td>-0.770475</td>\n",
       "      <td>-0.382332</td>\n",
       "      <td>0.299636</td>\n",
       "      <td>-0.316816</td>\n",
       "      <td>0.128955</td>\n",
       "      <td>0.098283</td>\n",
       "      <td>0.076432</td>\n",
       "      <td>-0.004555</td>\n",
       "      <td>-0.009943</td>\n",
       "      <td>1.083053</td>\n",
       "      <td>0.147163</td>\n",
       "      <td>0.147163</td>\n",
       "      <td>0.147163</td>\n",
       "      <td>0.147163</td>\n",
       "    </tr>\n",
       "    <tr>\n",
       "      <th>6730</th>\n",
       "      <td>test</td>\n",
       "      <td>Drew Dober</td>\n",
       "      <td>Joshua Burkman</td>\n",
       "      <td>win</td>\n",
       "      <td>1.361536</td>\n",
       "      <td>0.16454</td>\n",
       "      <td>-0.006803</td>\n",
       "      <td>0.000126</td>\n",
       "      <td>-0.996262</td>\n",
       "      <td>-0.654576</td>\n",
       "      <td>-0.602947</td>\n",
       "      <td>-0.191655</td>\n",
       "      <td>1.141041</td>\n",
       "      <td>-0.235736</td>\n",
       "      <td>0.623465</td>\n",
       "      <td>0.014171</td>\n",
       "      <td>1.488122</td>\n",
       "      <td>0.123202</td>\n",
       "      <td>-0.009943</td>\n",
       "      <td>-2.148820</td>\n",
       "      <td>0.333990</td>\n",
       "      <td>0.333990</td>\n",
       "      <td>0.333990</td>\n",
       "      <td>0.333990</td>\n",
       "    </tr>\n",
       "  </tbody>\n",
       "</table>\n",
       "</div>"
      ],
      "text/plain": [
       "             set          fighter        opponent result    kd_dif  str_dif  \\\n",
       "6728  validation  Aleksandra Albu   Kailin Curran    win  0.007043 -0.13660   \n",
       "6729  validation     Eric Shelton   Jarred Brooks   lose  0.007043  0.16454   \n",
       "6730        test       Drew Dober  Joshua Burkman    win  1.361536  0.16454   \n",
       "\n",
       "        td_dif   sub_dif  td avg._dif  td acc._dif  td def._dif  \\\n",
       "6728  1.572182  0.000126     0.146611    -0.234918     0.536244   \n",
       "6729 -1.585788  0.000126    -0.957237    -0.199947    -0.770475   \n",
       "6730 -0.006803  0.000126    -0.996262    -0.654576    -0.602947   \n",
       "\n",
       "      sub. avg._dif  slpm_dif  str. acc._dif  sapm_dif  str. def_dif  \\\n",
       "6728      -0.191655  0.609627       0.331825  0.489153     -1.247508   \n",
       "6729      -0.382332  0.299636      -0.316816  0.128955      0.098283   \n",
       "6730      -0.191655  1.141041      -0.235736  0.623465      0.014171   \n",
       "\n",
       "      stance_win_ratio  win_perc_dif  win_strk_dif  lose_strk_dif  \\\n",
       "6728         -0.017271      2.039564      0.562079      -2.148820   \n",
       "6729          0.076432     -0.004555     -0.009943       1.083053   \n",
       "6730          1.488122      0.123202     -0.009943      -2.148820   \n",
       "\n",
       "      kd_dif_pred  str_dif_pred  td_dif_pred  sub_dif_pred  \n",
       "6728     0.193870      0.193870     0.193870      0.193870  \n",
       "6729     0.147163      0.147163     0.147163      0.147163  \n",
       "6730     0.333990      0.333990     0.333990      0.333990  "
      ]
     },
     "execution_count": 2,
     "metadata": {},
     "output_type": "execute_result"
    }
   ],
   "source": [
    "loc = '../data/'\n",
    "file = 'fight_stat_data.csv'\n",
    "df = pd.read_csv(loc+file)\n",
    "df = df[df.columns[1:]]\n",
    "df.tail(3)"
   ]
  },
  {
   "cell_type": "code",
   "execution_count": 3,
   "id": "90f36e89-693f-4396-ae24-7c5a1add2349",
   "metadata": {},
   "outputs": [
    {
     "data": {
      "text/html": [
       "<div>\n",
       "<style scoped>\n",
       "    .dataframe tbody tr th:only-of-type {\n",
       "        vertical-align: middle;\n",
       "    }\n",
       "\n",
       "    .dataframe tbody tr th {\n",
       "        vertical-align: top;\n",
       "    }\n",
       "\n",
       "    .dataframe thead th {\n",
       "        text-align: right;\n",
       "    }\n",
       "</style>\n",
       "<table border=\"1\" class=\"dataframe\">\n",
       "  <thead>\n",
       "    <tr style=\"text-align: right;\">\n",
       "      <th></th>\n",
       "      <th>fighter</th>\n",
       "      <th>opponent</th>\n",
       "      <th>kd_dif</th>\n",
       "      <th>str_dif</th>\n",
       "      <th>td_dif</th>\n",
       "      <th>sub_dif</th>\n",
       "      <th>stance_win_ratio</th>\n",
       "      <th>win_perc_dif</th>\n",
       "      <th>win_strk_dif</th>\n",
       "      <th>lose_strk_dif</th>\n",
       "      <th>result</th>\n",
       "    </tr>\n",
       "  </thead>\n",
       "  <tbody>\n",
       "    <tr>\n",
       "      <th>6728</th>\n",
       "      <td>Aleksandra Albu</td>\n",
       "      <td>Kailin Curran</td>\n",
       "      <td>0.007043</td>\n",
       "      <td>-0.13660</td>\n",
       "      <td>1.572182</td>\n",
       "      <td>0.000126</td>\n",
       "      <td>-0.017271</td>\n",
       "      <td>2.039564</td>\n",
       "      <td>0.562079</td>\n",
       "      <td>-2.148820</td>\n",
       "      <td>win</td>\n",
       "    </tr>\n",
       "    <tr>\n",
       "      <th>6729</th>\n",
       "      <td>Eric Shelton</td>\n",
       "      <td>Jarred Brooks</td>\n",
       "      <td>0.007043</td>\n",
       "      <td>0.16454</td>\n",
       "      <td>-1.585788</td>\n",
       "      <td>0.000126</td>\n",
       "      <td>0.076432</td>\n",
       "      <td>-0.004555</td>\n",
       "      <td>-0.009943</td>\n",
       "      <td>1.083053</td>\n",
       "      <td>lose</td>\n",
       "    </tr>\n",
       "    <tr>\n",
       "      <th>6730</th>\n",
       "      <td>Drew Dober</td>\n",
       "      <td>Joshua Burkman</td>\n",
       "      <td>1.361536</td>\n",
       "      <td>0.16454</td>\n",
       "      <td>-0.006803</td>\n",
       "      <td>0.000126</td>\n",
       "      <td>1.488122</td>\n",
       "      <td>0.123202</td>\n",
       "      <td>-0.009943</td>\n",
       "      <td>-2.148820</td>\n",
       "      <td>win</td>\n",
       "    </tr>\n",
       "  </tbody>\n",
       "</table>\n",
       "</div>"
      ],
      "text/plain": [
       "              fighter        opponent    kd_dif  str_dif    td_dif   sub_dif  \\\n",
       "6728  Aleksandra Albu   Kailin Curran  0.007043 -0.13660  1.572182  0.000126   \n",
       "6729     Eric Shelton   Jarred Brooks  0.007043  0.16454 -1.585788  0.000126   \n",
       "6730       Drew Dober  Joshua Burkman  1.361536  0.16454 -0.006803  0.000126   \n",
       "\n",
       "      stance_win_ratio  win_perc_dif  win_strk_dif  lose_strk_dif result  \n",
       "6728         -0.017271      2.039564      0.562079      -2.148820    win  \n",
       "6729          0.076432     -0.004555     -0.009943       1.083053   lose  \n",
       "6730          1.488122      0.123202     -0.009943      -2.148820    win  "
      ]
     },
     "execution_count": 3,
     "metadata": {},
     "output_type": "execute_result"
    }
   ],
   "source": [
    "req_data = ['fighter','opponent']\n",
    "y = ['result']\n",
    "X = ['kd_dif','str_dif','td_dif','sub_dif',\n",
    "    #'td avg._dif','td acc._dif','td def._dif','sub. avg._dif',\n",
    "    #'slpm_dif','str. acc._dif','sapm_dif','str. def_dif',\n",
    "    'stance_win_ratio','win_perc_dif','win_strk_dif','lose_strk_dif']\n",
    "\n",
    "df = df[req_data + X + y]\n",
    "df.tail(3)"
   ]
  },
  {
   "cell_type": "markdown",
   "id": "afed5140-6b5a-43a9-8f15-258f86d75976",
   "metadata": {},
   "source": [
    "### <span style='color:green'> **[done]** </span> SVM model training:"
   ]
  },
  {
   "cell_type": "code",
   "execution_count": 4,
   "id": "9f5ac63e-14ed-4f21-a277-5890327ace76",
   "metadata": {},
   "outputs": [
    {
     "name": "stdout",
     "output_type": "stream",
     "text": [
      "Data split: Data=(6731, 12), train_set=(3299, 8), validation_set=(1406, 8), test_set=(2026, 8)\n"
     ]
    },
    {
     "data": {
      "text/html": [
       "<div>\n",
       "<style scoped>\n",
       "    .dataframe tbody tr th:only-of-type {\n",
       "        vertical-align: middle;\n",
       "    }\n",
       "\n",
       "    .dataframe tbody tr th {\n",
       "        vertical-align: top;\n",
       "    }\n",
       "\n",
       "    .dataframe thead th {\n",
       "        text-align: right;\n",
       "    }\n",
       "</style>\n",
       "<table border=\"1\" class=\"dataframe\">\n",
       "  <thead>\n",
       "    <tr style=\"text-align: right;\">\n",
       "      <th></th>\n",
       "      <th>set</th>\n",
       "      <th>fighter</th>\n",
       "      <th>opponent</th>\n",
       "      <th>kd_dif</th>\n",
       "      <th>str_dif</th>\n",
       "      <th>td_dif</th>\n",
       "      <th>sub_dif</th>\n",
       "      <th>stance_win_ratio</th>\n",
       "      <th>win_perc_dif</th>\n",
       "      <th>win_strk_dif</th>\n",
       "      <th>lose_strk_dif</th>\n",
       "      <th>result</th>\n",
       "    </tr>\n",
       "  </thead>\n",
       "  <tbody>\n",
       "    <tr>\n",
       "      <th>6728</th>\n",
       "      <td>test</td>\n",
       "      <td>Aleksandra Albu</td>\n",
       "      <td>Kailin Curran</td>\n",
       "      <td>0.007043</td>\n",
       "      <td>-0.13660</td>\n",
       "      <td>1.572182</td>\n",
       "      <td>0.000126</td>\n",
       "      <td>-0.017271</td>\n",
       "      <td>2.039564</td>\n",
       "      <td>0.562079</td>\n",
       "      <td>-2.148820</td>\n",
       "      <td>win</td>\n",
       "    </tr>\n",
       "    <tr>\n",
       "      <th>6729</th>\n",
       "      <td>train</td>\n",
       "      <td>Eric Shelton</td>\n",
       "      <td>Jarred Brooks</td>\n",
       "      <td>0.007043</td>\n",
       "      <td>0.16454</td>\n",
       "      <td>-1.585788</td>\n",
       "      <td>0.000126</td>\n",
       "      <td>0.076432</td>\n",
       "      <td>-0.004555</td>\n",
       "      <td>-0.009943</td>\n",
       "      <td>1.083053</td>\n",
       "      <td>lose</td>\n",
       "    </tr>\n",
       "    <tr>\n",
       "      <th>6730</th>\n",
       "      <td>validation</td>\n",
       "      <td>Drew Dober</td>\n",
       "      <td>Joshua Burkman</td>\n",
       "      <td>1.361536</td>\n",
       "      <td>0.16454</td>\n",
       "      <td>-0.006803</td>\n",
       "      <td>0.000126</td>\n",
       "      <td>1.488122</td>\n",
       "      <td>0.123202</td>\n",
       "      <td>-0.009943</td>\n",
       "      <td>-2.148820</td>\n",
       "      <td>win</td>\n",
       "    </tr>\n",
       "  </tbody>\n",
       "</table>\n",
       "</div>"
      ],
      "text/plain": [
       "             set          fighter        opponent    kd_dif  str_dif  \\\n",
       "6728        test  Aleksandra Albu   Kailin Curran  0.007043 -0.13660   \n",
       "6729       train     Eric Shelton   Jarred Brooks  0.007043  0.16454   \n",
       "6730  validation       Drew Dober  Joshua Burkman  1.361536  0.16454   \n",
       "\n",
       "        td_dif   sub_dif  stance_win_ratio  win_perc_dif  win_strk_dif  \\\n",
       "6728  1.572182  0.000126         -0.017271      2.039564      0.562079   \n",
       "6729 -1.585788  0.000126          0.076432     -0.004555     -0.009943   \n",
       "6730 -0.006803  0.000126          1.488122      0.123202     -0.009943   \n",
       "\n",
       "      lose_strk_dif result  \n",
       "6728      -2.148820    win  \n",
       "6729       1.083053   lose  \n",
       "6730      -2.148820    win  "
      ]
     },
     "execution_count": 4,
     "metadata": {},
     "output_type": "execute_result"
    }
   ],
   "source": [
    "df = set_train_test(X_columns=X, y_columns=y, data=df, test_size=0.3, valid_size=0.3)\n",
    "df.tail(3)"
   ]
  },
  {
   "cell_type": "code",
   "execution_count": 5,
   "id": "9657d7a6-cd06-4f3c-8555-fabfbab35e68",
   "metadata": {},
   "outputs": [
    {
     "data": {
      "text/html": [
       "<div>\n",
       "<style scoped>\n",
       "    .dataframe tbody tr th:only-of-type {\n",
       "        vertical-align: middle;\n",
       "    }\n",
       "\n",
       "    .dataframe tbody tr th {\n",
       "        vertical-align: top;\n",
       "    }\n",
       "\n",
       "    .dataframe thead th {\n",
       "        text-align: right;\n",
       "    }\n",
       "</style>\n",
       "<table border=\"1\" class=\"dataframe\">\n",
       "  <thead>\n",
       "    <tr style=\"text-align: right;\">\n",
       "      <th></th>\n",
       "      <th>set</th>\n",
       "      <th>fighter</th>\n",
       "      <th>opponent</th>\n",
       "      <th>kd_dif</th>\n",
       "      <th>str_dif</th>\n",
       "      <th>td_dif</th>\n",
       "      <th>sub_dif</th>\n",
       "      <th>stance_win_ratio</th>\n",
       "      <th>win_perc_dif</th>\n",
       "      <th>win_strk_dif</th>\n",
       "      <th>lose_strk_dif</th>\n",
       "      <th>result</th>\n",
       "      <th>result_pred</th>\n",
       "    </tr>\n",
       "  </thead>\n",
       "  <tbody>\n",
       "    <tr>\n",
       "      <th>6728</th>\n",
       "      <td>test</td>\n",
       "      <td>Aleksandra Albu</td>\n",
       "      <td>Kailin Curran</td>\n",
       "      <td>0.007043</td>\n",
       "      <td>-0.13660</td>\n",
       "      <td>1.572182</td>\n",
       "      <td>0.000126</td>\n",
       "      <td>-0.017271</td>\n",
       "      <td>2.039564</td>\n",
       "      <td>0.562079</td>\n",
       "      <td>-2.148820</td>\n",
       "      <td>win</td>\n",
       "      <td>win</td>\n",
       "    </tr>\n",
       "    <tr>\n",
       "      <th>6729</th>\n",
       "      <td>train</td>\n",
       "      <td>Eric Shelton</td>\n",
       "      <td>Jarred Brooks</td>\n",
       "      <td>0.007043</td>\n",
       "      <td>0.16454</td>\n",
       "      <td>-1.585788</td>\n",
       "      <td>0.000126</td>\n",
       "      <td>0.076432</td>\n",
       "      <td>-0.004555</td>\n",
       "      <td>-0.009943</td>\n",
       "      <td>1.083053</td>\n",
       "      <td>lose</td>\n",
       "      <td>lose</td>\n",
       "    </tr>\n",
       "    <tr>\n",
       "      <th>6730</th>\n",
       "      <td>validation</td>\n",
       "      <td>Drew Dober</td>\n",
       "      <td>Joshua Burkman</td>\n",
       "      <td>1.361536</td>\n",
       "      <td>0.16454</td>\n",
       "      <td>-0.006803</td>\n",
       "      <td>0.000126</td>\n",
       "      <td>1.488122</td>\n",
       "      <td>0.123202</td>\n",
       "      <td>-0.009943</td>\n",
       "      <td>-2.148820</td>\n",
       "      <td>win</td>\n",
       "      <td>win</td>\n",
       "    </tr>\n",
       "  </tbody>\n",
       "</table>\n",
       "</div>"
      ],
      "text/plain": [
       "             set          fighter        opponent    kd_dif  str_dif  \\\n",
       "6728        test  Aleksandra Albu   Kailin Curran  0.007043 -0.13660   \n",
       "6729       train     Eric Shelton   Jarred Brooks  0.007043  0.16454   \n",
       "6730  validation       Drew Dober  Joshua Burkman  1.361536  0.16454   \n",
       "\n",
       "        td_dif   sub_dif  stance_win_ratio  win_perc_dif  win_strk_dif  \\\n",
       "6728  1.572182  0.000126         -0.017271      2.039564      0.562079   \n",
       "6729 -1.585788  0.000126          0.076432     -0.004555     -0.009943   \n",
       "6730 -0.006803  0.000126          1.488122      0.123202     -0.009943   \n",
       "\n",
       "      lose_strk_dif result result_pred  \n",
       "6728      -2.148820    win         win  \n",
       "6729       1.083053   lose        lose  \n",
       "6730      -2.148820    win         win  "
      ]
     },
     "execution_count": 5,
     "metadata": {},
     "output_type": "execute_result"
    }
   ],
   "source": [
    "svm_clf = set_svm_clf(X_columns=X, y_columns=y, data=df, C=1, gamma='scale', kernel='poly', degree=7)\n",
    "df = set_predictions(model=svm_clf, data=df, X_columns=X, y_columns=y)\n",
    "df.tail(3)"
   ]
  },
  {
   "cell_type": "code",
   "execution_count": 6,
   "id": "e0428056-f1ee-4748-a575-a92249ccc239",
   "metadata": {},
   "outputs": [
    {
     "name": "stdout",
     "output_type": "stream",
     "text": [
      "Accuracy = 0.792201\n"
     ]
    },
    {
     "data": {
      "image/png": "[encoded data removed]",
      "text/plain": [
       "<Figure size 432x288 with 2 Axes>"
      ]
     },
     "metadata": {
      "needs_background": "light"
     },
     "output_type": "display_data"
    }
   ],
   "source": [
    "get_model_evaluation(data=df)"
   ]
  },
  {
   "cell_type": "markdown",
   "id": "945a56b0-9f38-4a27-80fe-0a65d5e0e314",
   "metadata": {
    "tags": []
   },
   "source": [
    "### <span style='color:green'> **[done]** </span> Tune model parameters:"
   ]
  },
  {
   "cell_type": "markdown",
   "id": "6f38e6e3-e9e8-4d79-ae6b-800ee3031128",
   "metadata": {
    "jp-MarkdownHeadingCollapsed": true,
    "tags": []
   },
   "source": [
    "#### tune linear kernel model"
   ]
  },
  {
   "cell_type": "code",
   "execution_count": 7,
   "id": "78ab78cb-daa8-4629-80e0-64ac5e431f04",
   "metadata": {},
   "outputs": [
    {
     "name": "stderr",
     "output_type": "stream",
     "text": [
      "100%|██████████| 8/8 [00:04<00:00,  1.69it/s]"
     ]
    },
    {
     "name": "stdout",
     "output_type": "stream",
     "text": [
      "Best Model:\n"
     ]
    },
    {
     "name": "stderr",
     "output_type": "stream",
     "text": [
      "\n"
     ]
    },
    {
     "data": {
      "text/html": [
       "<div>\n",
       "<style scoped>\n",
       "    .dataframe tbody tr th:only-of-type {\n",
       "        vertical-align: middle;\n",
       "    }\n",
       "\n",
       "    .dataframe tbody tr th {\n",
       "        vertical-align: top;\n",
       "    }\n",
       "\n",
       "    .dataframe thead th {\n",
       "        text-align: right;\n",
       "    }\n",
       "</style>\n",
       "<table border=\"1\" class=\"dataframe\">\n",
       "  <thead>\n",
       "    <tr style=\"text-align: right;\">\n",
       "      <th></th>\n",
       "      <th>kernel</th>\n",
       "      <th>C</th>\n",
       "      <th>accuracy</th>\n",
       "    </tr>\n",
       "  </thead>\n",
       "  <tbody>\n",
       "    <tr>\n",
       "      <th>0</th>\n",
       "      <td>linear</td>\n",
       "      <td>1.0</td>\n",
       "      <td>0.878085</td>\n",
       "    </tr>\n",
       "  </tbody>\n",
       "</table>\n",
       "</div>"
      ],
      "text/plain": [
       "   kernel    C  accuracy\n",
       "0  linear  1.0  0.878085"
      ]
     },
     "execution_count": 7,
     "metadata": {},
     "output_type": "execute_result"
    }
   ],
   "source": [
    "svm_linear = pd.DataFrame(columns=['kernel','C','accuracy'])\n",
    "\n",
    "for C in tqdm([0.01, 0.1, 1, 3, 5, 10, 20, 50]):\n",
    "    svm_linear = pd.concat([svm_linear, get_svm_grad_step(kernel='linear', C=C, gamma='scale', degree=1, X_columns=X, y_columns=y, data=df)], ignore_index=True)\n",
    "        \n",
    "max_stat_linear = svm_linear[svm_linear.accuracy==np.max(svm_linear.accuracy)].reset_index(drop=True)\n",
    "print('Best Model:')\n",
    "max_stat_linear"
   ]
  },
  {
   "cell_type": "markdown",
   "id": "6c777ff2-101f-403e-a18e-e5f5d675b0f1",
   "metadata": {
    "jp-MarkdownHeadingCollapsed": true,
    "tags": []
   },
   "source": [
    "#### tune poly kernel model"
   ]
  },
  {
   "cell_type": "code",
   "execution_count": 8,
   "id": "39a56b34-139c-42ae-8d0e-f6a14d3eb65e",
   "metadata": {},
   "outputs": [
    {
     "name": "stderr",
     "output_type": "stream",
     "text": [
      "100%|██████████| 6/6 [00:04<00:00,  1.37it/s]"
     ]
    },
    {
     "name": "stdout",
     "output_type": "stream",
     "text": [
      "Best Model:\n"
     ]
    },
    {
     "name": "stderr",
     "output_type": "stream",
     "text": [
      "\n"
     ]
    },
    {
     "data": {
      "text/html": [
       "<div>\n",
       "<style scoped>\n",
       "    .dataframe tbody tr th:only-of-type {\n",
       "        vertical-align: middle;\n",
       "    }\n",
       "\n",
       "    .dataframe tbody tr th {\n",
       "        vertical-align: top;\n",
       "    }\n",
       "\n",
       "    .dataframe thead th {\n",
       "        text-align: right;\n",
       "    }\n",
       "</style>\n",
       "<table border=\"1\" class=\"dataframe\">\n",
       "  <thead>\n",
       "    <tr style=\"text-align: right;\">\n",
       "      <th></th>\n",
       "      <th>kernel</th>\n",
       "      <th>degree</th>\n",
       "      <th>accuracy</th>\n",
       "    </tr>\n",
       "  </thead>\n",
       "  <tbody>\n",
       "    <tr>\n",
       "      <th>0</th>\n",
       "      <td>poly</td>\n",
       "      <td>3</td>\n",
       "      <td>0.867226</td>\n",
       "    </tr>\n",
       "  </tbody>\n",
       "</table>\n",
       "</div>"
      ],
      "text/plain": [
       "  kernel degree  accuracy\n",
       "0   poly      3  0.867226"
      ]
     },
     "execution_count": 8,
     "metadata": {},
     "output_type": "execute_result"
    }
   ],
   "source": [
    "svm_poly = pd.DataFrame(columns=['kernel','degree','accuracy'])\n",
    "\n",
    "for degree in tqdm([2,3,4,5,6,7]):\n",
    "    svm_poly = pd.concat([svm_poly, get_svm_grad_step(kernel='poly', degree=degree, X_columns=X, y_columns=y, data=df)], ignore_index=True)\n",
    "        \n",
    "max_stat_poly = svm_poly[svm_poly.accuracy==np.max(svm_poly.accuracy)].reset_index(drop=True) \n",
    "print('Best Model:')\n",
    "max_stat_poly"
   ]
  },
  {
   "cell_type": "markdown",
   "id": "5b66b9f2-2571-44f8-8ec3-fc1b934af179",
   "metadata": {
    "jp-MarkdownHeadingCollapsed": true,
    "tags": []
   },
   "source": [
    "#### tune RBF kernel model"
   ]
  },
  {
   "cell_type": "code",
   "execution_count": 9,
   "id": "3e7fdde5-21f7-46a3-b62b-e914408b37cf",
   "metadata": {},
   "outputs": [
    {
     "name": "stderr",
     "output_type": "stream",
     "text": [
      "100%|██████████| 4/4 [00:06<00:00,  1.70s/it]"
     ]
    },
    {
     "name": "stdout",
     "output_type": "stream",
     "text": [
      "Best Model:\n"
     ]
    },
    {
     "name": "stderr",
     "output_type": "stream",
     "text": [
      "\n"
     ]
    },
    {
     "data": {
      "text/html": [
       "<div>\n",
       "<style scoped>\n",
       "    .dataframe tbody tr th:only-of-type {\n",
       "        vertical-align: middle;\n",
       "    }\n",
       "\n",
       "    .dataframe tbody tr th {\n",
       "        vertical-align: top;\n",
       "    }\n",
       "\n",
       "    .dataframe thead th {\n",
       "        text-align: right;\n",
       "    }\n",
       "</style>\n",
       "<table border=\"1\" class=\"dataframe\">\n",
       "  <thead>\n",
       "    <tr style=\"text-align: right;\">\n",
       "      <th></th>\n",
       "      <th>kernel</th>\n",
       "      <th>gamma</th>\n",
       "      <th>accuracy</th>\n",
       "    </tr>\n",
       "  </thead>\n",
       "  <tbody>\n",
       "    <tr>\n",
       "      <th>0</th>\n",
       "      <td>rbf</td>\n",
       "      <td>2</td>\n",
       "      <td>0.817868</td>\n",
       "    </tr>\n",
       "  </tbody>\n",
       "</table>\n",
       "</div>"
      ],
      "text/plain": [
       "  kernel gamma  accuracy\n",
       "0    rbf     2  0.817868"
      ]
     },
     "execution_count": 9,
     "metadata": {},
     "output_type": "execute_result"
    }
   ],
   "source": [
    "svm_rbf = pd.DataFrame(columns=['kernel','gamma','accuracy'])\n",
    "\n",
    "for gamma in tqdm([2,3,4,5]):\n",
    "    svm_rbf = pd.concat([svm_rbf, get_svm_grad_step(kernel='rbf', gamma=gamma, X_columns=X, y_columns=y, data=df)], ignore_index=True)\n",
    "\n",
    "max_stat_rbf = svm_rbf[svm_rbf.accuracy==np.max(svm_rbf.accuracy)].reset_index(drop=True) \n",
    "print('Best Model:')\n",
    "max_stat_rbf"
   ]
  },
  {
   "cell_type": "code",
   "execution_count": 10,
   "id": "a4590cd2-2a9a-4983-aeaf-c49ee9b3d2fa",
   "metadata": {},
   "outputs": [
    {
     "data": {
      "text/html": [
       "<div>\n",
       "<style scoped>\n",
       "    .dataframe tbody tr th:only-of-type {\n",
       "        vertical-align: middle;\n",
       "    }\n",
       "\n",
       "    .dataframe tbody tr th {\n",
       "        vertical-align: top;\n",
       "    }\n",
       "\n",
       "    .dataframe thead th {\n",
       "        text-align: right;\n",
       "    }\n",
       "</style>\n",
       "<table border=\"1\" class=\"dataframe\">\n",
       "  <thead>\n",
       "    <tr style=\"text-align: right;\">\n",
       "      <th></th>\n",
       "      <th>kernel</th>\n",
       "      <th>C</th>\n",
       "      <th>gamma</th>\n",
       "      <th>degree</th>\n",
       "      <th>accuracy</th>\n",
       "    </tr>\n",
       "  </thead>\n",
       "  <tbody>\n",
       "    <tr>\n",
       "      <th>0</th>\n",
       "      <td>rbf</td>\n",
       "      <td>NaN</td>\n",
       "      <td>2</td>\n",
       "      <td>NaN</td>\n",
       "      <td>0.817868</td>\n",
       "    </tr>\n",
       "    <tr>\n",
       "      <th>1</th>\n",
       "      <td>poly</td>\n",
       "      <td>NaN</td>\n",
       "      <td>NaN</td>\n",
       "      <td>3</td>\n",
       "      <td>0.867226</td>\n",
       "    </tr>\n",
       "    <tr>\n",
       "      <th>2</th>\n",
       "      <td>linear</td>\n",
       "      <td>1.0</td>\n",
       "      <td>NaN</td>\n",
       "      <td>NaN</td>\n",
       "      <td>0.878085</td>\n",
       "    </tr>\n",
       "  </tbody>\n",
       "</table>\n",
       "</div>"
      ],
      "text/plain": [
       "   kernel    C gamma degree  accuracy\n",
       "0     rbf  NaN     2    NaN  0.817868\n",
       "1    poly  NaN   NaN      3  0.867226\n",
       "2  linear  1.0   NaN    NaN  0.878085"
      ]
     },
     "execution_count": 10,
     "metadata": {},
     "output_type": "execute_result"
    }
   ],
   "source": [
    "parm_tune = pd.DataFrame(columns=['kernel','C','gamma','degree','accuracy'])\n",
    "parm_tune = pd.concat([parm_tune,max_stat_rbf,max_stat_poly,max_stat_linear]).reset_index(drop=True)\n",
    "parm_tune"
   ]
  },
  {
   "cell_type": "markdown",
   "id": "e1bed49c-8d1b-4e01-85f2-9bce1a1ef0ab",
   "metadata": {
    "tags": []
   },
   "source": [
    "#### save best SVM parameters to file "
   ]
  },
  {
   "cell_type": "code",
   "execution_count": 11,
   "id": "f10f9abe-6b5d-446b-935b-620dd06d7bd4",
   "metadata": {},
   "outputs": [
    {
     "data": {
      "text/html": [
       "<div>\n",
       "<style scoped>\n",
       "    .dataframe tbody tr th:only-of-type {\n",
       "        vertical-align: middle;\n",
       "    }\n",
       "\n",
       "    .dataframe tbody tr th {\n",
       "        vertical-align: top;\n",
       "    }\n",
       "\n",
       "    .dataframe thead th {\n",
       "        text-align: right;\n",
       "    }\n",
       "</style>\n",
       "<table border=\"1\" class=\"dataframe\">\n",
       "  <thead>\n",
       "    <tr style=\"text-align: right;\">\n",
       "      <th></th>\n",
       "      <th>ml_model</th>\n",
       "      <th>parameter_name</th>\n",
       "      <th>value</th>\n",
       "      <th>accuracy</th>\n",
       "    </tr>\n",
       "  </thead>\n",
       "  <tbody>\n",
       "    <tr>\n",
       "      <th>0</th>\n",
       "      <td>knn_reg</td>\n",
       "      <td>neighbors</td>\n",
       "      <td>29</td>\n",
       "      <td>0.624500</td>\n",
       "    </tr>\n",
       "    <tr>\n",
       "      <th>1</th>\n",
       "      <td>SVM</td>\n",
       "      <td>kernel</td>\n",
       "      <td>linear</td>\n",
       "      <td>0.878085</td>\n",
       "    </tr>\n",
       "    <tr>\n",
       "      <th>2</th>\n",
       "      <td>SVM</td>\n",
       "      <td>C</td>\n",
       "      <td>1.0</td>\n",
       "      <td>0.878085</td>\n",
       "    </tr>\n",
       "  </tbody>\n",
       "</table>\n",
       "</div>"
      ],
      "text/plain": [
       "  ml_model parameter_name   value  accuracy\n",
       "0  knn_reg      neighbors      29  0.624500\n",
       "1      SVM         kernel  linear  0.878085\n",
       "2      SVM              C     1.0  0.878085"
      ]
     },
     "execution_count": 11,
     "metadata": {},
     "output_type": "execute_result"
    }
   ],
   "source": [
    "# get best SVM parameters to save:\n",
    "row = parm_tune[parm_tune.accuracy == np.max(parm_tune.accuracy)].reset_index(drop=True)\n",
    "row = row.dropna(axis=1,how='all')\n",
    "\n",
    "param = pd.read_csv('../global_variables/ml_models_parameters.csv').drop(columns='Unnamed: 0')\n",
    "param = param[param.ml_model=='knn_reg']\n",
    "\n",
    "svm_param = pd.DataFrame(data={'ml_model':['SVM','SVM'],\n",
    "                          'parameter_name':['kernel',row.columns[1]],\n",
    "                          'value':[row.loc[0,'kernel'],row.loc[0,row.columns[1]]],\n",
    "                          'accuracy':[row.loc[0,'accuracy'],row.loc[0,'accuracy']]}\n",
    "                    )\n",
    "param = pd.concat([param,svm_param]).reset_index(drop=True)\n",
    "param"
   ]
  },
  {
   "cell_type": "code",
   "execution_count": 12,
   "id": "416c7472-5467-4c48-a512-e25d0f71080f",
   "metadata": {},
   "outputs": [
    {
     "name": "stdout",
     "output_type": "stream",
     "text": [
      "../global_variables/ml_models_parameters.csv saved.\n"
     ]
    }
   ],
   "source": [
    "param.to_csv('../global_variables/ml_models_parameters.csv')\n",
    "print('../global_variables/ml_models_parameters.csv saved.')"
   ]
  },
  {
   "cell_type": "markdown",
   "id": "a0c57076-c941-4878-881d-67bdcc133ace",
   "metadata": {
    "tags": []
   },
   "source": [
    "### <span style='color:green'> **[done]** </span> Train chosen model:"
   ]
  },
  {
   "cell_type": "code",
   "execution_count": 13,
   "id": "a376850a-12f2-4473-b23b-03daf0e344df",
   "metadata": {},
   "outputs": [
    {
     "data": {
      "text/html": [
       "<div>\n",
       "<style scoped>\n",
       "    .dataframe tbody tr th:only-of-type {\n",
       "        vertical-align: middle;\n",
       "    }\n",
       "\n",
       "    .dataframe tbody tr th {\n",
       "        vertical-align: top;\n",
       "    }\n",
       "\n",
       "    .dataframe thead th {\n",
       "        text-align: right;\n",
       "    }\n",
       "</style>\n",
       "<table border=\"1\" class=\"dataframe\">\n",
       "  <thead>\n",
       "    <tr style=\"text-align: right;\">\n",
       "      <th></th>\n",
       "      <th>set</th>\n",
       "      <th>fighter</th>\n",
       "      <th>opponent</th>\n",
       "      <th>kd_dif</th>\n",
       "      <th>str_dif</th>\n",
       "      <th>td_dif</th>\n",
       "      <th>sub_dif</th>\n",
       "      <th>stance_win_ratio</th>\n",
       "      <th>win_perc_dif</th>\n",
       "      <th>win_strk_dif</th>\n",
       "      <th>lose_strk_dif</th>\n",
       "      <th>result</th>\n",
       "      <th>result_pred</th>\n",
       "    </tr>\n",
       "  </thead>\n",
       "  <tbody>\n",
       "    <tr>\n",
       "      <th>6728</th>\n",
       "      <td>test</td>\n",
       "      <td>Aleksandra Albu</td>\n",
       "      <td>Kailin Curran</td>\n",
       "      <td>0.007043</td>\n",
       "      <td>-0.13660</td>\n",
       "      <td>1.572182</td>\n",
       "      <td>0.000126</td>\n",
       "      <td>-0.017271</td>\n",
       "      <td>2.039564</td>\n",
       "      <td>0.562079</td>\n",
       "      <td>-2.148820</td>\n",
       "      <td>win</td>\n",
       "      <td>win</td>\n",
       "    </tr>\n",
       "    <tr>\n",
       "      <th>6729</th>\n",
       "      <td>train</td>\n",
       "      <td>Eric Shelton</td>\n",
       "      <td>Jarred Brooks</td>\n",
       "      <td>0.007043</td>\n",
       "      <td>0.16454</td>\n",
       "      <td>-1.585788</td>\n",
       "      <td>0.000126</td>\n",
       "      <td>0.076432</td>\n",
       "      <td>-0.004555</td>\n",
       "      <td>-0.009943</td>\n",
       "      <td>1.083053</td>\n",
       "      <td>lose</td>\n",
       "      <td>lose</td>\n",
       "    </tr>\n",
       "    <tr>\n",
       "      <th>6730</th>\n",
       "      <td>validation</td>\n",
       "      <td>Drew Dober</td>\n",
       "      <td>Joshua Burkman</td>\n",
       "      <td>1.361536</td>\n",
       "      <td>0.16454</td>\n",
       "      <td>-0.006803</td>\n",
       "      <td>0.000126</td>\n",
       "      <td>1.488122</td>\n",
       "      <td>0.123202</td>\n",
       "      <td>-0.009943</td>\n",
       "      <td>-2.148820</td>\n",
       "      <td>win</td>\n",
       "      <td>win</td>\n",
       "    </tr>\n",
       "  </tbody>\n",
       "</table>\n",
       "</div>"
      ],
      "text/plain": [
       "             set          fighter        opponent    kd_dif  str_dif  \\\n",
       "6728        test  Aleksandra Albu   Kailin Curran  0.007043 -0.13660   \n",
       "6729       train     Eric Shelton   Jarred Brooks  0.007043  0.16454   \n",
       "6730  validation       Drew Dober  Joshua Burkman  1.361536  0.16454   \n",
       "\n",
       "        td_dif   sub_dif  stance_win_ratio  win_perc_dif  win_strk_dif  \\\n",
       "6728  1.572182  0.000126         -0.017271      2.039564      0.562079   \n",
       "6729 -1.585788  0.000126          0.076432     -0.004555     -0.009943   \n",
       "6730 -0.006803  0.000126          1.488122      0.123202     -0.009943   \n",
       "\n",
       "      lose_strk_dif result result_pred  \n",
       "6728      -2.148820    win         win  \n",
       "6729       1.083053   lose        lose  \n",
       "6730      -2.148820    win         win  "
      ]
     },
     "execution_count": 13,
     "metadata": {},
     "output_type": "execute_result"
    }
   ],
   "source": [
    "kernel, C, gamma, degree = get_svm_param(filename='../global_variables/ml_models_parameters.csv')\n",
    "\n",
    "svm_clf = set_svm_clf(X_columns=X, y_columns=y, data=df, C=C, gamma=gamma, kernel=kernel, degree=degree)\n",
    "df = set_predictions(model=svm_clf, data=df, X_columns=X, y_columns=y)\n",
    "df.tail(3)"
   ]
  },
  {
   "cell_type": "code",
   "execution_count": 14,
   "id": "45e0df29-87df-49b4-9570-193c81e1e8f9",
   "metadata": {},
   "outputs": [
    {
     "name": "stdout",
     "output_type": "stream",
     "text": [
      "Accuracy = 0.878085\n"
     ]
    },
    {
     "data": {
      "image/png": "[encoded data removed]",
      "text/plain": [
       "<Figure size 432x288 with 2 Axes>"
      ]
     },
     "metadata": {
      "needs_background": "light"
     },
     "output_type": "display_data"
    }
   ],
   "source": [
    "get_model_evaluation(data=df)"
   ]
  },
  {
   "cell_type": "code",
   "execution_count": 15,
   "id": "75ab1900-e599-45bb-9578-21c4e4c043f8",
   "metadata": {},
   "outputs": [
    {
     "name": "stdout",
     "output_type": "stream",
     "text": [
      "../data/fight_results_data_trained.csv saved.\n"
     ]
    }
   ],
   "source": [
    "df.to_csv('../data/fight_results_data_trained.csv')\n",
    "print('../data/fight_results_data_trained.csv saved.')"
   ]
  },
  {
   "cell_type": "code",
   "execution_count": null,
   "id": "b4667daa-6338-4f99-9d87-32f8cf0cb2be",
   "metadata": {},
   "outputs": [],
   "source": []
  }
 ],
 "metadata": {
  "kernelspec": {
   "display_name": "py3",
   "language": "python",
   "name": "py3"
  },
  "language_info": {
   "codemirror_mode": {
    "name": "ipython",
    "version": 3
   },
   "file_extension": ".py",
   "mimetype": "text/x-python",
   "name": "python",
   "nbconvert_exporter": "python",
   "pygments_lexer": "ipython3",
   "version": "3.7.12"
  },
  "toc-autonumbering": true,
  "toc-showcode": false,
  "toc-showmarkdowntxt": false
 },
 "nbformat": 4,
 "nbformat_minor": 5
}
