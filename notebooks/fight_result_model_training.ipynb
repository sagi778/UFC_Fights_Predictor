{
 "cells": [
  {
   "cell_type": "code",
   "execution_count": 1,
   "id": "846617b9-400f-4c71-9df6-ed6c51888afb",
   "metadata": {},
   "outputs": [
    {
     "name": "stdout",
     "output_type": "stream",
     "text": [
      "imports loaded.\n",
      "\n",
      "Pre-Processing func:\n",
      "********************\n",
      "    get_height(item)\n",
      "    get_weight(item)\n",
      "    get_reach(item)\n",
      "    get_std_reach(item, height, reach_list, height_list)\n",
      "    get_age(item)\n",
      "    get_std_age(item, age_list)\n",
      "    get_winning_perc(name, date, df)\n",
      "    get_lose_streak_data_frame(name, date, df)\n",
      "    get_win_streak_data_frame(name, date, df)\n",
      "    get_streak_data_frame(name, date, df)\n",
      "    get_win_streak(name, date, df)\n",
      "    get_lose_streak(name, date, df)\n",
      "    get_fighter_stats(name, data )\n",
      "    add_columns(data, column_list)\n",
      "\n",
      "Feature Engineering func:\n",
      "*************************\n",
      "    get_stat(index, data, stat='height', fo='')\n",
      "    get_swaped_row(index, data)\n",
      "    get_wins(combo, data)\n",
      "    get_wins_ratio(combo, data)\n",
      "\n",
      "fight_stats_model_training func:\n",
      "********************************\n",
      "    get_sig_features(data, sig_r)\n",
      "    get_r_score(X, y)\n",
      "    set_train_test(X_columns, y_columns, data, test_size=0.3, valid_size=0.3)\n",
      "    set_knn_reg(X_columns, y_columns, data, n=5)\n",
      "    set_predictions(model, data, X_columns, y_columns)\n",
      "    get_rmse(act, pred)\n",
      "    get_grad_descent_step(alpha, X_columns, y_columns, data, n)\n",
      "\n",
      "fight_result_model_training func:\n",
      "*********************************\n",
      "    set_knn_clf(X_columns, y_columns, data, neighbors=3)\n",
      "    get_knn_grad_step( X_columns, y_columns, data, neighbors)\n",
      "    get_model_evaluation(data)\n",
      "    get_accuracy(act, pred)\n",
      "    get_knn_clf_param(filename)\n",
      "\n",
      "Prediction func:\n",
      "****************\n",
      "    get_current_date()\n",
      "    get_win_perc(fighter, data)\n",
      "    get_current_lose_streak(fighter, data)\n",
      "    get_current_win_streak(fighter, data)\n",
      "    get_td_avg(fighter, data)\n",
      "    get_td_acc(fighter, data)\n",
      "    get_td_def(fighter, data)\n",
      "    get_str_acc(fighter, data)\n",
      "    get_str_def(fighter, data)\n",
      "    get_sub_avg(fighter, data)\n",
      "    get_sapm(fighter, data)\n",
      "    get_slpm(fighter, data)\n",
      "    get_stance(fighter, data)\n",
      "    get_stance_wins_ratio(fighter, data)\n",
      "    set_new_fight(fighter, opponent, data)\n",
      "    set_knn_predictor(X_columns, y_columns, data, n=5)\n",
      "    set_knn_predictions(model, data, X_columns, y_columns)\n",
      "    set_knn_clf_predictor(X_columns, y_columns, data, neighbors)\n",
      "    set_pred_results(model, data, X_columns, y_columns)\n",
      "    get_fighters_stats(fighter, opponent, data)\n",
      "    get_winner(fighter=fighter, opponent, data)\n",
      "\n",
      "micro_model_training func:\n",
      "**************************\n",
      "    is_winner(fighter, data, i)\n",
      "    set_result_column(fighter,data)\n",
      "    get_losses(fighter, data)\n",
      "    get_wins(fighter, data)\n"
     ]
    }
   ],
   "source": [
    "%run func_def.ipynb"
   ]
  },
  {
   "cell_type": "markdown",
   "id": "485a3282",
   "metadata": {},
   "source": [
    "### <span style='color:green'> **[done]** </span>Loading Features data"
   ]
  },
  {
   "cell_type": "code",
   "execution_count": 2,
   "id": "5db19a64",
   "metadata": {},
   "outputs": [
    {
     "data": {
      "text/html": [
       "<div>\n",
       "<style scoped>\n",
       "    .dataframe tbody tr th:only-of-type {\n",
       "        vertical-align: middle;\n",
       "    }\n",
       "\n",
       "    .dataframe tbody tr th {\n",
       "        vertical-align: top;\n",
       "    }\n",
       "\n",
       "    .dataframe thead th {\n",
       "        text-align: right;\n",
       "    }\n",
       "</style>\n",
       "<table border=\"1\" class=\"dataframe\">\n",
       "  <thead>\n",
       "    <tr style=\"text-align: right;\">\n",
       "      <th></th>\n",
       "      <th>set</th>\n",
       "      <th>fighter</th>\n",
       "      <th>opponent</th>\n",
       "      <th>result</th>\n",
       "      <th>kd_dif</th>\n",
       "      <th>str_dif</th>\n",
       "      <th>td_dif</th>\n",
       "      <th>sub_dif</th>\n",
       "      <th>td avg._dif</th>\n",
       "      <th>td acc._dif</th>\n",
       "      <th>td def._dif</th>\n",
       "      <th>sub. avg._dif</th>\n",
       "      <th>slpm_dif</th>\n",
       "      <th>str. acc._dif</th>\n",
       "      <th>sapm_dif</th>\n",
       "      <th>str. def_dif</th>\n",
       "      <th>stance_win_ratio</th>\n",
       "      <th>win_perc_dif</th>\n",
       "      <th>win_strk_dif</th>\n",
       "      <th>lose_strk_dif</th>\n",
       "      <th>kd_dif_pred</th>\n",
       "      <th>str_dif_pred</th>\n",
       "      <th>td_dif_pred</th>\n",
       "      <th>sub_dif_pred</th>\n",
       "    </tr>\n",
       "  </thead>\n",
       "  <tbody>\n",
       "    <tr>\n",
       "      <th>6728</th>\n",
       "      <td>train</td>\n",
       "      <td>Aleksandra Albu</td>\n",
       "      <td>Kailin Curran</td>\n",
       "      <td>win</td>\n",
       "      <td>0.007043</td>\n",
       "      <td>-0.13660</td>\n",
       "      <td>1.572182</td>\n",
       "      <td>0.000126</td>\n",
       "      <td>0.146611</td>\n",
       "      <td>-0.234918</td>\n",
       "      <td>0.536244</td>\n",
       "      <td>-0.191655</td>\n",
       "      <td>0.609627</td>\n",
       "      <td>0.331825</td>\n",
       "      <td>0.489153</td>\n",
       "      <td>-1.247508</td>\n",
       "      <td>-0.017271</td>\n",
       "      <td>2.039564</td>\n",
       "      <td>0.562079</td>\n",
       "      <td>-2.148820</td>\n",
       "      <td>0.147163</td>\n",
       "      <td>0.147163</td>\n",
       "      <td>0.147163</td>\n",
       "      <td>0.147163</td>\n",
       "    </tr>\n",
       "    <tr>\n",
       "      <th>6729</th>\n",
       "      <td>train</td>\n",
       "      <td>Eric Shelton</td>\n",
       "      <td>Jarred Brooks</td>\n",
       "      <td>lose</td>\n",
       "      <td>0.007043</td>\n",
       "      <td>0.16454</td>\n",
       "      <td>-1.585788</td>\n",
       "      <td>0.000126</td>\n",
       "      <td>-0.957237</td>\n",
       "      <td>-0.199947</td>\n",
       "      <td>-0.770475</td>\n",
       "      <td>-0.382332</td>\n",
       "      <td>0.299636</td>\n",
       "      <td>-0.316816</td>\n",
       "      <td>0.128955</td>\n",
       "      <td>0.098283</td>\n",
       "      <td>0.076432</td>\n",
       "      <td>-0.004555</td>\n",
       "      <td>-0.009943</td>\n",
       "      <td>1.083053</td>\n",
       "      <td>0.147163</td>\n",
       "      <td>0.147163</td>\n",
       "      <td>0.147163</td>\n",
       "      <td>0.147163</td>\n",
       "    </tr>\n",
       "    <tr>\n",
       "      <th>6730</th>\n",
       "      <td>validation</td>\n",
       "      <td>Drew Dober</td>\n",
       "      <td>Joshua Burkman</td>\n",
       "      <td>win</td>\n",
       "      <td>1.361536</td>\n",
       "      <td>0.16454</td>\n",
       "      <td>-0.006803</td>\n",
       "      <td>0.000126</td>\n",
       "      <td>-0.996262</td>\n",
       "      <td>-0.654576</td>\n",
       "      <td>-0.602947</td>\n",
       "      <td>-0.191655</td>\n",
       "      <td>1.141041</td>\n",
       "      <td>-0.235736</td>\n",
       "      <td>0.623465</td>\n",
       "      <td>0.014171</td>\n",
       "      <td>1.488122</td>\n",
       "      <td>0.123202</td>\n",
       "      <td>-0.009943</td>\n",
       "      <td>-2.148820</td>\n",
       "      <td>0.474110</td>\n",
       "      <td>0.474110</td>\n",
       "      <td>0.474110</td>\n",
       "      <td>0.474110</td>\n",
       "    </tr>\n",
       "  </tbody>\n",
       "</table>\n",
       "</div>"
      ],
      "text/plain": [
       "             set          fighter        opponent result    kd_dif  str_dif  \\\n",
       "6728       train  Aleksandra Albu   Kailin Curran    win  0.007043 -0.13660   \n",
       "6729       train     Eric Shelton   Jarred Brooks   lose  0.007043  0.16454   \n",
       "6730  validation       Drew Dober  Joshua Burkman    win  1.361536  0.16454   \n",
       "\n",
       "        td_dif   sub_dif  td avg._dif  td acc._dif  td def._dif  \\\n",
       "6728  1.572182  0.000126     0.146611    -0.234918     0.536244   \n",
       "6729 -1.585788  0.000126    -0.957237    -0.199947    -0.770475   \n",
       "6730 -0.006803  0.000126    -0.996262    -0.654576    -0.602947   \n",
       "\n",
       "      sub. avg._dif  slpm_dif  str. acc._dif  sapm_dif  str. def_dif  \\\n",
       "6728      -0.191655  0.609627       0.331825  0.489153     -1.247508   \n",
       "6729      -0.382332  0.299636      -0.316816  0.128955      0.098283   \n",
       "6730      -0.191655  1.141041      -0.235736  0.623465      0.014171   \n",
       "\n",
       "      stance_win_ratio  win_perc_dif  win_strk_dif  lose_strk_dif  \\\n",
       "6728         -0.017271      2.039564      0.562079      -2.148820   \n",
       "6729          0.076432     -0.004555     -0.009943       1.083053   \n",
       "6730          1.488122      0.123202     -0.009943      -2.148820   \n",
       "\n",
       "      kd_dif_pred  str_dif_pred  td_dif_pred  sub_dif_pred  \n",
       "6728     0.147163      0.147163     0.147163      0.147163  \n",
       "6729     0.147163      0.147163     0.147163      0.147163  \n",
       "6730     0.474110      0.474110     0.474110      0.474110  "
      ]
     },
     "execution_count": 2,
     "metadata": {},
     "output_type": "execute_result"
    }
   ],
   "source": [
    "loc = '../data/'\n",
    "file = 'fight_stat_data.csv'\n",
    "df = pd.read_csv(loc+file)\n",
    "df = df[df.columns[1:]]\n",
    "df.tail(3)"
   ]
  },
  {
   "cell_type": "code",
   "execution_count": 3,
   "id": "90f36e89-693f-4396-ae24-7c5a1add2349",
   "metadata": {},
   "outputs": [
    {
     "data": {
      "text/html": [
       "<div>\n",
       "<style scoped>\n",
       "    .dataframe tbody tr th:only-of-type {\n",
       "        vertical-align: middle;\n",
       "    }\n",
       "\n",
       "    .dataframe tbody tr th {\n",
       "        vertical-align: top;\n",
       "    }\n",
       "\n",
       "    .dataframe thead th {\n",
       "        text-align: right;\n",
       "    }\n",
       "</style>\n",
       "<table border=\"1\" class=\"dataframe\">\n",
       "  <thead>\n",
       "    <tr style=\"text-align: right;\">\n",
       "      <th></th>\n",
       "      <th>fighter</th>\n",
       "      <th>opponent</th>\n",
       "      <th>kd_dif</th>\n",
       "      <th>str_dif</th>\n",
       "      <th>td_dif</th>\n",
       "      <th>sub_dif</th>\n",
       "      <th>stance_win_ratio</th>\n",
       "      <th>win_perc_dif</th>\n",
       "      <th>win_strk_dif</th>\n",
       "      <th>lose_strk_dif</th>\n",
       "      <th>result</th>\n",
       "    </tr>\n",
       "  </thead>\n",
       "  <tbody>\n",
       "    <tr>\n",
       "      <th>6728</th>\n",
       "      <td>Aleksandra Albu</td>\n",
       "      <td>Kailin Curran</td>\n",
       "      <td>0.007043</td>\n",
       "      <td>-0.13660</td>\n",
       "      <td>1.572182</td>\n",
       "      <td>0.000126</td>\n",
       "      <td>-0.017271</td>\n",
       "      <td>2.039564</td>\n",
       "      <td>0.562079</td>\n",
       "      <td>-2.148820</td>\n",
       "      <td>win</td>\n",
       "    </tr>\n",
       "    <tr>\n",
       "      <th>6729</th>\n",
       "      <td>Eric Shelton</td>\n",
       "      <td>Jarred Brooks</td>\n",
       "      <td>0.007043</td>\n",
       "      <td>0.16454</td>\n",
       "      <td>-1.585788</td>\n",
       "      <td>0.000126</td>\n",
       "      <td>0.076432</td>\n",
       "      <td>-0.004555</td>\n",
       "      <td>-0.009943</td>\n",
       "      <td>1.083053</td>\n",
       "      <td>lose</td>\n",
       "    </tr>\n",
       "    <tr>\n",
       "      <th>6730</th>\n",
       "      <td>Drew Dober</td>\n",
       "      <td>Joshua Burkman</td>\n",
       "      <td>1.361536</td>\n",
       "      <td>0.16454</td>\n",
       "      <td>-0.006803</td>\n",
       "      <td>0.000126</td>\n",
       "      <td>1.488122</td>\n",
       "      <td>0.123202</td>\n",
       "      <td>-0.009943</td>\n",
       "      <td>-2.148820</td>\n",
       "      <td>win</td>\n",
       "    </tr>\n",
       "  </tbody>\n",
       "</table>\n",
       "</div>"
      ],
      "text/plain": [
       "              fighter        opponent    kd_dif  str_dif    td_dif   sub_dif  \\\n",
       "6728  Aleksandra Albu   Kailin Curran  0.007043 -0.13660  1.572182  0.000126   \n",
       "6729     Eric Shelton   Jarred Brooks  0.007043  0.16454 -1.585788  0.000126   \n",
       "6730       Drew Dober  Joshua Burkman  1.361536  0.16454 -0.006803  0.000126   \n",
       "\n",
       "      stance_win_ratio  win_perc_dif  win_strk_dif  lose_strk_dif result  \n",
       "6728         -0.017271      2.039564      0.562079      -2.148820    win  \n",
       "6729          0.076432     -0.004555     -0.009943       1.083053   lose  \n",
       "6730          1.488122      0.123202     -0.009943      -2.148820    win  "
      ]
     },
     "execution_count": 3,
     "metadata": {},
     "output_type": "execute_result"
    }
   ],
   "source": [
    "req_data = ['fighter','opponent']\n",
    "y = ['result']\n",
    "X = ['kd_dif','str_dif','td_dif','sub_dif',\n",
    "    #'td avg._dif','td acc._dif','td def._dif','sub. avg._dif',\n",
    "    #'slpm_dif','str. acc._dif','sapm_dif','str. def_dif',\n",
    "    'stance_win_ratio','win_perc_dif','win_strk_dif','lose_strk_dif']\n",
    "\n",
    "df = df[req_data + X + y]\n",
    "df.tail(3)"
   ]
  },
  {
   "cell_type": "markdown",
   "id": "cd975829-1ec4-44ce-b641-710cdebd7291",
   "metadata": {},
   "source": [
    "### <span style='color:green'> **[done]** </span> KNN classifier model training:"
   ]
  },
  {
   "cell_type": "code",
   "execution_count": 4,
   "id": "d02a33c0-efc5-42b9-9101-1bb516b97489",
   "metadata": {},
   "outputs": [
    {
     "name": "stdout",
     "output_type": "stream",
     "text": [
      "Data split: Data=(6731, 12), train_set=(3285, 8), validation_set=(1440, 8), test_set=(2006, 8)\n"
     ]
    },
    {
     "data": {
      "text/html": [
       "<div>\n",
       "<style scoped>\n",
       "    .dataframe tbody tr th:only-of-type {\n",
       "        vertical-align: middle;\n",
       "    }\n",
       "\n",
       "    .dataframe tbody tr th {\n",
       "        vertical-align: top;\n",
       "    }\n",
       "\n",
       "    .dataframe thead th {\n",
       "        text-align: right;\n",
       "    }\n",
       "</style>\n",
       "<table border=\"1\" class=\"dataframe\">\n",
       "  <thead>\n",
       "    <tr style=\"text-align: right;\">\n",
       "      <th></th>\n",
       "      <th>set</th>\n",
       "      <th>fighter</th>\n",
       "      <th>opponent</th>\n",
       "      <th>kd_dif</th>\n",
       "      <th>str_dif</th>\n",
       "      <th>td_dif</th>\n",
       "      <th>sub_dif</th>\n",
       "      <th>stance_win_ratio</th>\n",
       "      <th>win_perc_dif</th>\n",
       "      <th>win_strk_dif</th>\n",
       "      <th>lose_strk_dif</th>\n",
       "      <th>result</th>\n",
       "    </tr>\n",
       "  </thead>\n",
       "  <tbody>\n",
       "    <tr>\n",
       "      <th>6728</th>\n",
       "      <td>train</td>\n",
       "      <td>Aleksandra Albu</td>\n",
       "      <td>Kailin Curran</td>\n",
       "      <td>0.007043</td>\n",
       "      <td>-0.13660</td>\n",
       "      <td>1.572182</td>\n",
       "      <td>0.000126</td>\n",
       "      <td>-0.017271</td>\n",
       "      <td>2.039564</td>\n",
       "      <td>0.562079</td>\n",
       "      <td>-2.148820</td>\n",
       "      <td>win</td>\n",
       "    </tr>\n",
       "    <tr>\n",
       "      <th>6729</th>\n",
       "      <td>validation</td>\n",
       "      <td>Eric Shelton</td>\n",
       "      <td>Jarred Brooks</td>\n",
       "      <td>0.007043</td>\n",
       "      <td>0.16454</td>\n",
       "      <td>-1.585788</td>\n",
       "      <td>0.000126</td>\n",
       "      <td>0.076432</td>\n",
       "      <td>-0.004555</td>\n",
       "      <td>-0.009943</td>\n",
       "      <td>1.083053</td>\n",
       "      <td>lose</td>\n",
       "    </tr>\n",
       "    <tr>\n",
       "      <th>6730</th>\n",
       "      <td>train</td>\n",
       "      <td>Drew Dober</td>\n",
       "      <td>Joshua Burkman</td>\n",
       "      <td>1.361536</td>\n",
       "      <td>0.16454</td>\n",
       "      <td>-0.006803</td>\n",
       "      <td>0.000126</td>\n",
       "      <td>1.488122</td>\n",
       "      <td>0.123202</td>\n",
       "      <td>-0.009943</td>\n",
       "      <td>-2.148820</td>\n",
       "      <td>win</td>\n",
       "    </tr>\n",
       "  </tbody>\n",
       "</table>\n",
       "</div>"
      ],
      "text/plain": [
       "             set          fighter        opponent    kd_dif  str_dif  \\\n",
       "6728       train  Aleksandra Albu   Kailin Curran  0.007043 -0.13660   \n",
       "6729  validation     Eric Shelton   Jarred Brooks  0.007043  0.16454   \n",
       "6730       train       Drew Dober  Joshua Burkman  1.361536  0.16454   \n",
       "\n",
       "        td_dif   sub_dif  stance_win_ratio  win_perc_dif  win_strk_dif  \\\n",
       "6728  1.572182  0.000126         -0.017271      2.039564      0.562079   \n",
       "6729 -1.585788  0.000126          0.076432     -0.004555     -0.009943   \n",
       "6730 -0.006803  0.000126          1.488122      0.123202     -0.009943   \n",
       "\n",
       "      lose_strk_dif result  \n",
       "6728      -2.148820    win  \n",
       "6729       1.083053   lose  \n",
       "6730      -2.148820    win  "
      ]
     },
     "execution_count": 4,
     "metadata": {},
     "output_type": "execute_result"
    }
   ],
   "source": [
    "df = set_train_test(X_columns=X, y_columns=y, data=df, test_size=0.3, valid_size=0.3)\n",
    "df.tail(3)"
   ]
  },
  {
   "cell_type": "code",
   "execution_count": 5,
   "id": "d44c838a-918e-438a-96bb-547f85e0954c",
   "metadata": {},
   "outputs": [
    {
     "data": {
      "text/html": [
       "<div>\n",
       "<style scoped>\n",
       "    .dataframe tbody tr th:only-of-type {\n",
       "        vertical-align: middle;\n",
       "    }\n",
       "\n",
       "    .dataframe tbody tr th {\n",
       "        vertical-align: top;\n",
       "    }\n",
       "\n",
       "    .dataframe thead th {\n",
       "        text-align: right;\n",
       "    }\n",
       "</style>\n",
       "<table border=\"1\" class=\"dataframe\">\n",
       "  <thead>\n",
       "    <tr style=\"text-align: right;\">\n",
       "      <th></th>\n",
       "      <th>set</th>\n",
       "      <th>fighter</th>\n",
       "      <th>opponent</th>\n",
       "      <th>kd_dif</th>\n",
       "      <th>str_dif</th>\n",
       "      <th>td_dif</th>\n",
       "      <th>sub_dif</th>\n",
       "      <th>stance_win_ratio</th>\n",
       "      <th>win_perc_dif</th>\n",
       "      <th>win_strk_dif</th>\n",
       "      <th>lose_strk_dif</th>\n",
       "      <th>result</th>\n",
       "      <th>result_pred</th>\n",
       "    </tr>\n",
       "  </thead>\n",
       "  <tbody>\n",
       "    <tr>\n",
       "      <th>6728</th>\n",
       "      <td>train</td>\n",
       "      <td>Aleksandra Albu</td>\n",
       "      <td>Kailin Curran</td>\n",
       "      <td>0.007043</td>\n",
       "      <td>-0.13660</td>\n",
       "      <td>1.572182</td>\n",
       "      <td>0.000126</td>\n",
       "      <td>-0.017271</td>\n",
       "      <td>2.039564</td>\n",
       "      <td>0.562079</td>\n",
       "      <td>-2.148820</td>\n",
       "      <td>win</td>\n",
       "      <td>win</td>\n",
       "    </tr>\n",
       "    <tr>\n",
       "      <th>6729</th>\n",
       "      <td>validation</td>\n",
       "      <td>Eric Shelton</td>\n",
       "      <td>Jarred Brooks</td>\n",
       "      <td>0.007043</td>\n",
       "      <td>0.16454</td>\n",
       "      <td>-1.585788</td>\n",
       "      <td>0.000126</td>\n",
       "      <td>0.076432</td>\n",
       "      <td>-0.004555</td>\n",
       "      <td>-0.009943</td>\n",
       "      <td>1.083053</td>\n",
       "      <td>lose</td>\n",
       "      <td>lose</td>\n",
       "    </tr>\n",
       "    <tr>\n",
       "      <th>6730</th>\n",
       "      <td>train</td>\n",
       "      <td>Drew Dober</td>\n",
       "      <td>Joshua Burkman</td>\n",
       "      <td>1.361536</td>\n",
       "      <td>0.16454</td>\n",
       "      <td>-0.006803</td>\n",
       "      <td>0.000126</td>\n",
       "      <td>1.488122</td>\n",
       "      <td>0.123202</td>\n",
       "      <td>-0.009943</td>\n",
       "      <td>-2.148820</td>\n",
       "      <td>win</td>\n",
       "      <td>win</td>\n",
       "    </tr>\n",
       "  </tbody>\n",
       "</table>\n",
       "</div>"
      ],
      "text/plain": [
       "             set          fighter        opponent    kd_dif  str_dif  \\\n",
       "6728       train  Aleksandra Albu   Kailin Curran  0.007043 -0.13660   \n",
       "6729  validation     Eric Shelton   Jarred Brooks  0.007043  0.16454   \n",
       "6730       train       Drew Dober  Joshua Burkman  1.361536  0.16454   \n",
       "\n",
       "        td_dif   sub_dif  stance_win_ratio  win_perc_dif  win_strk_dif  \\\n",
       "6728  1.572182  0.000126         -0.017271      2.039564      0.562079   \n",
       "6729 -1.585788  0.000126          0.076432     -0.004555     -0.009943   \n",
       "6730 -0.006803  0.000126          1.488122      0.123202     -0.009943   \n",
       "\n",
       "      lose_strk_dif result result_pred  \n",
       "6728      -2.148820    win         win  \n",
       "6729       1.083053   lose        lose  \n",
       "6730      -2.148820    win         win  "
      ]
     },
     "execution_count": 5,
     "metadata": {},
     "output_type": "execute_result"
    }
   ],
   "source": [
    "knn_clf = set_knn_clf(X_columns=X, y_columns=y, data=df)\n",
    "df = set_predictions(model=knn_clf, data=df, X_columns=X, y_columns=y)\n",
    "df.tail(3)"
   ]
  },
  {
   "cell_type": "code",
   "execution_count": 6,
   "id": "91027654-b484-4ab9-aca4-d958efb13f1b",
   "metadata": {},
   "outputs": [
    {
     "name": "stdout",
     "output_type": "stream",
     "text": [
      "Accuracy = 0.820040\n"
     ]
    },
    {
     "data": {
      "image/png": "[encoded data removed]",
      "text/plain": [
       "<Figure size 432x288 with 2 Axes>"
      ]
     },
     "metadata": {},
     "output_type": "display_data"
    }
   ],
   "source": [
    "get_model_evaluation(data=df)"
   ]
  },
  {
   "cell_type": "markdown",
   "id": "afed5140-6b5a-43a9-8f15-258f86d75976",
   "metadata": {},
   "source": [
    "### <span style='color:green'> **[done]** </span> Tune model parameters:"
   ]
  },
  {
   "cell_type": "code",
   "execution_count": 7,
   "id": "0890bebb-1389-4c68-8b4a-66af88c7aebb",
   "metadata": {},
   "outputs": [
    {
     "name": "stderr",
     "output_type": "stream",
     "text": [
      "100%|████████████████████████████████████████████████████████████████████████████████████| 9/9 [00:02<00:00,  3.48it/s]"
     ]
    },
    {
     "name": "stdout",
     "output_type": "stream",
     "text": [
      "Best Model:\n"
     ]
    },
    {
     "name": "stderr",
     "output_type": "stream",
     "text": [
      "\n"
     ]
    },
    {
     "data": {
      "text/html": [
       "<div>\n",
       "<style scoped>\n",
       "    .dataframe tbody tr th:only-of-type {\n",
       "        vertical-align: middle;\n",
       "    }\n",
       "\n",
       "    .dataframe tbody tr th {\n",
       "        vertical-align: top;\n",
       "    }\n",
       "\n",
       "    .dataframe thead th {\n",
       "        text-align: right;\n",
       "    }\n",
       "</style>\n",
       "<table border=\"1\" class=\"dataframe\">\n",
       "  <thead>\n",
       "    <tr style=\"text-align: right;\">\n",
       "      <th></th>\n",
       "      <th>neighbors</th>\n",
       "      <th>accuracy</th>\n",
       "    </tr>\n",
       "  </thead>\n",
       "  <tbody>\n",
       "    <tr>\n",
       "      <th>0</th>\n",
       "      <td>64</td>\n",
       "      <td>0.851389</td>\n",
       "    </tr>\n",
       "  </tbody>\n",
       "</table>\n",
       "</div>"
      ],
      "text/plain": [
       "  neighbors  accuracy\n",
       "0        64  0.851389"
      ]
     },
     "execution_count": 7,
     "metadata": {},
     "output_type": "execute_result"
    }
   ],
   "source": [
    "knn_opt = pd.DataFrame(columns=['neighbors','accuracy'])\n",
    "\n",
    "for n in tqdm([1,2,4,8,16,32,64,128,256]):\n",
    "    knn_opt = pd.concat([knn_opt, get_knn_grad_step( X_columns=X, y_columns=y, data=df, neighbors=n)], ignore_index=True)\n",
    "        \n",
    "max_stat_knn = knn_opt[knn_opt.accuracy==np.max(knn_opt.accuracy)].reset_index(drop=True)\n",
    "print('Best Model:')\n",
    "max_stat_knn"
   ]
  },
  {
   "cell_type": "code",
   "execution_count": 8,
   "id": "81c0f7b3-a5d9-403d-9777-ae37c496f364",
   "metadata": {},
   "outputs": [
    {
     "data": {
      "text/plain": [
       "<AxesSubplot:xlabel='neighbors', ylabel='accuracy'>"
      ]
     },
     "execution_count": 8,
     "metadata": {},
     "output_type": "execute_result"
    },
    {
     "data": {
      "image/png": "[encoded data removed]",
      "text/plain": [
       "<Figure size 432x288 with 1 Axes>"
      ]
     },
     "metadata": {},
     "output_type": "display_data"
    }
   ],
   "source": [
    "sns.lineplot(data=knn_opt, y='accuracy', x='neighbors')\n",
    "sns.scatterplot(data=knn_opt, y='accuracy', x='neighbors')"
   ]
  },
  {
   "cell_type": "code",
   "execution_count": 9,
   "id": "25f5f916-bdd7-4e59-a056-e8ee1c15c264",
   "metadata": {},
   "outputs": [
    {
     "data": {
      "text/html": [
       "<div>\n",
       "<style scoped>\n",
       "    .dataframe tbody tr th:only-of-type {\n",
       "        vertical-align: middle;\n",
       "    }\n",
       "\n",
       "    .dataframe tbody tr th {\n",
       "        vertical-align: top;\n",
       "    }\n",
       "\n",
       "    .dataframe thead th {\n",
       "        text-align: right;\n",
       "    }\n",
       "</style>\n",
       "<table border=\"1\" class=\"dataframe\">\n",
       "  <thead>\n",
       "    <tr style=\"text-align: right;\">\n",
       "      <th></th>\n",
       "      <th>ml_model</th>\n",
       "      <th>parameter_name</th>\n",
       "      <th>value</th>\n",
       "      <th>accuracy</th>\n",
       "    </tr>\n",
       "  </thead>\n",
       "  <tbody>\n",
       "    <tr>\n",
       "      <th>0</th>\n",
       "      <td>knn_reg</td>\n",
       "      <td>neighbors</td>\n",
       "      <td>29</td>\n",
       "      <td>0.641900</td>\n",
       "    </tr>\n",
       "    <tr>\n",
       "      <th>0</th>\n",
       "      <td>knn_clf</td>\n",
       "      <td>neighbors</td>\n",
       "      <td>64</td>\n",
       "      <td>0.851389</td>\n",
       "    </tr>\n",
       "  </tbody>\n",
       "</table>\n",
       "</div>"
      ],
      "text/plain": [
       "  ml_model parameter_name  value  accuracy\n",
       "0  knn_reg      neighbors     29  0.641900\n",
       "0  knn_clf      neighbors     64  0.851389"
      ]
     },
     "execution_count": 9,
     "metadata": {},
     "output_type": "execute_result"
    }
   ],
   "source": [
    "# get best knn parameters to save:\n",
    "param = pd.read_csv('../global_variables/ml_models_parameters.csv').drop(columns='Unnamed: 0')\n",
    "param = param[param.ml_model=='knn_reg']\n",
    "\n",
    "knn_clf_param = pd.DataFrame(data={'ml_model':['knn_clf'],\n",
    "                           'parameter_name':[max_stat_knn.columns[0]],\n",
    "                           'value':[max_stat_knn.loc[0,'neighbors']],\n",
    "                           'accuracy':[max_stat_knn.loc[0,'accuracy']]}\n",
    "                    )\n",
    "param = pd.concat([param,knn_clf_param])\n",
    "param"
   ]
  },
  {
   "cell_type": "code",
   "execution_count": 10,
   "id": "1b156680-d8df-4e2a-9fb5-42f0012b950e",
   "metadata": {},
   "outputs": [
    {
     "name": "stdout",
     "output_type": "stream",
     "text": [
      "../global_variables/ml_models_parameters.csv saved.\n"
     ]
    }
   ],
   "source": [
    "param.to_csv('../global_variables/ml_models_parameters.csv')\n",
    "print('../global_variables/ml_models_parameters.csv saved.')"
   ]
  },
  {
   "cell_type": "markdown",
   "id": "a0c57076-c941-4878-881d-67bdcc133ace",
   "metadata": {
    "tags": []
   },
   "source": [
    "### <span style='color:green'> **[done]** </span> Train optimized model:"
   ]
  },
  {
   "cell_type": "code",
   "execution_count": 11,
   "id": "a376850a-12f2-4473-b23b-03daf0e344df",
   "metadata": {},
   "outputs": [
    {
     "data": {
      "text/html": [
       "<div>\n",
       "<style scoped>\n",
       "    .dataframe tbody tr th:only-of-type {\n",
       "        vertical-align: middle;\n",
       "    }\n",
       "\n",
       "    .dataframe tbody tr th {\n",
       "        vertical-align: top;\n",
       "    }\n",
       "\n",
       "    .dataframe thead th {\n",
       "        text-align: right;\n",
       "    }\n",
       "</style>\n",
       "<table border=\"1\" class=\"dataframe\">\n",
       "  <thead>\n",
       "    <tr style=\"text-align: right;\">\n",
       "      <th></th>\n",
       "      <th>set</th>\n",
       "      <th>fighter</th>\n",
       "      <th>opponent</th>\n",
       "      <th>kd_dif</th>\n",
       "      <th>str_dif</th>\n",
       "      <th>td_dif</th>\n",
       "      <th>sub_dif</th>\n",
       "      <th>stance_win_ratio</th>\n",
       "      <th>win_perc_dif</th>\n",
       "      <th>win_strk_dif</th>\n",
       "      <th>lose_strk_dif</th>\n",
       "      <th>result</th>\n",
       "      <th>result_pred</th>\n",
       "    </tr>\n",
       "  </thead>\n",
       "  <tbody>\n",
       "    <tr>\n",
       "      <th>6728</th>\n",
       "      <td>train</td>\n",
       "      <td>Aleksandra Albu</td>\n",
       "      <td>Kailin Curran</td>\n",
       "      <td>0.007043</td>\n",
       "      <td>-0.13660</td>\n",
       "      <td>1.572182</td>\n",
       "      <td>0.000126</td>\n",
       "      <td>-0.017271</td>\n",
       "      <td>2.039564</td>\n",
       "      <td>0.562079</td>\n",
       "      <td>-2.148820</td>\n",
       "      <td>win</td>\n",
       "      <td>win</td>\n",
       "    </tr>\n",
       "    <tr>\n",
       "      <th>6729</th>\n",
       "      <td>validation</td>\n",
       "      <td>Eric Shelton</td>\n",
       "      <td>Jarred Brooks</td>\n",
       "      <td>0.007043</td>\n",
       "      <td>0.16454</td>\n",
       "      <td>-1.585788</td>\n",
       "      <td>0.000126</td>\n",
       "      <td>0.076432</td>\n",
       "      <td>-0.004555</td>\n",
       "      <td>-0.009943</td>\n",
       "      <td>1.083053</td>\n",
       "      <td>lose</td>\n",
       "      <td>lose</td>\n",
       "    </tr>\n",
       "    <tr>\n",
       "      <th>6730</th>\n",
       "      <td>train</td>\n",
       "      <td>Drew Dober</td>\n",
       "      <td>Joshua Burkman</td>\n",
       "      <td>1.361536</td>\n",
       "      <td>0.16454</td>\n",
       "      <td>-0.006803</td>\n",
       "      <td>0.000126</td>\n",
       "      <td>1.488122</td>\n",
       "      <td>0.123202</td>\n",
       "      <td>-0.009943</td>\n",
       "      <td>-2.148820</td>\n",
       "      <td>win</td>\n",
       "      <td>win</td>\n",
       "    </tr>\n",
       "  </tbody>\n",
       "</table>\n",
       "</div>"
      ],
      "text/plain": [
       "             set          fighter        opponent    kd_dif  str_dif  \\\n",
       "6728       train  Aleksandra Albu   Kailin Curran  0.007043 -0.13660   \n",
       "6729  validation     Eric Shelton   Jarred Brooks  0.007043  0.16454   \n",
       "6730       train       Drew Dober  Joshua Burkman  1.361536  0.16454   \n",
       "\n",
       "        td_dif   sub_dif  stance_win_ratio  win_perc_dif  win_strk_dif  \\\n",
       "6728  1.572182  0.000126         -0.017271      2.039564      0.562079   \n",
       "6729 -1.585788  0.000126          0.076432     -0.004555     -0.009943   \n",
       "6730 -0.006803  0.000126          1.488122      0.123202     -0.009943   \n",
       "\n",
       "      lose_strk_dif result result_pred  \n",
       "6728      -2.148820    win         win  \n",
       "6729       1.083053   lose        lose  \n",
       "6730      -2.148820    win         win  "
      ]
     },
     "execution_count": 11,
     "metadata": {},
     "output_type": "execute_result"
    }
   ],
   "source": [
    "n = get_knn_clf_param(filename='../global_variables/ml_models_parameters.csv')\n",
    "\n",
    "knn_clf = set_knn_clf(X_columns=X, y_columns=y, data=df, neighbors=n)\n",
    "df = set_predictions(model=knn_clf, data=df, X_columns=X, y_columns=y)\n",
    "df.tail(3)"
   ]
  },
  {
   "cell_type": "code",
   "execution_count": 12,
   "id": "45e0df29-87df-49b4-9570-193c81e1e8f9",
   "metadata": {},
   "outputs": [
    {
     "name": "stdout",
     "output_type": "stream",
     "text": [
      "Accuracy = 0.854935\n"
     ]
    },
    {
     "data": {
      "image/png": "[encoded data removed]",
      "text/plain": [
       "<Figure size 432x288 with 2 Axes>"
      ]
     },
     "metadata": {},
     "output_type": "display_data"
    }
   ],
   "source": [
    "get_model_evaluation(data=df)"
   ]
  },
  {
   "cell_type": "code",
   "execution_count": 13,
   "id": "75ab1900-e599-45bb-9578-21c4e4c043f8",
   "metadata": {},
   "outputs": [
    {
     "name": "stdout",
     "output_type": "stream",
     "text": [
      "../data/fight_results_data_trained.csv saved.\n"
     ]
    }
   ],
   "source": [
    "df.to_csv('../data/fight_results_data_trained.csv')\n",
    "print('../data/fight_results_data_trained.csv saved.')"
   ]
  },
  {
   "cell_type": "code",
   "execution_count": null,
   "id": "7e7d01c0-c706-4c97-a5be-4daf4d13d030",
   "metadata": {},
   "outputs": [],
   "source": []
  }
 ],
 "metadata": {
  "kernelspec": {
   "display_name": "Python 3 (ipykernel)",
   "language": "python",
   "name": "python3"
  },
  "language_info": {
   "codemirror_mode": {
    "name": "ipython",
    "version": 3
   },
   "file_extension": ".py",
   "mimetype": "text/x-python",
   "name": "python",
   "nbconvert_exporter": "python",
   "pygments_lexer": "ipython3",
   "version": "3.9.7"
  },
  "toc-autonumbering": true,
  "toc-showcode": false,
  "toc-showmarkdowntxt": false
 },
 "nbformat": 4,
 "nbformat_minor": 5
}
