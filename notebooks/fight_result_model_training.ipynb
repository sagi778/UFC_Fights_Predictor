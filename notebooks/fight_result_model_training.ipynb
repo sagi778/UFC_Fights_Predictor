{
 "cells": [
  {
   "cell_type": "code",
   "execution_count": 2,
   "id": "846617b9-400f-4c71-9df6-ed6c51888afb",
   "metadata": {},
   "outputs": [
    {
     "name": "stdout",
     "output_type": "stream",
     "text": [
      "imports loaded.\n",
      "\n",
      "Pre-Processing func:\n",
      "********************\n",
      "    get_height(item)\n",
      "    get_weight(item)\n",
      "    get_reach(item)\n",
      "    get_std_reach(item, height, reach_list, height_list)\n",
      "    get_age(item)\n",
      "    get_std_age(item, age_list)\n",
      "    get_win_perc(name, date, df)\n",
      "    get_lose_streak_data_frame(name, date, df)\n",
      "    get_win_streak_data_frame(name, date, df)\n",
      "    get_streak_data_frame(name, date, df)\n",
      "    get_win_streak(name, date, df)\n",
      "    get_lose_streak(name, date, df)\n",
      "    get_fighter_stats(name, data )\n",
      "    add_columns(data, column_list)\n",
      "\n",
      "Feature Engineering func:\n",
      "*************************\n",
      "    get_stat(index, data, stat='height', fo='')\n",
      "    get_swaped_row(index, data)\n",
      "    get_wins(combo, data)\n",
      "    get_wins_ratio(combo, data)\n",
      "\n",
      "fight_stats_model_training func:\n",
      "********************************\n",
      "    get_sig_features(data, sig_r)\n",
      "    get_r_score(X, y)\n",
      "    set_train_test(X_columns, y_columns, data, test_size=0.3, valid_size=0.3)\n",
      "    set_knn_reg(X_columns, y_columns, data, n=5)\n",
      "    set_predictions(model, data, X_columns, y_columns)\n",
      "    get_rmse(act, pred)\n",
      "    get_grad_descent_step(alpha, X_columns, y_columns, data, n)\n",
      "\n",
      "Model Training func:\n",
      "********************\n",
      "    set_forest_clf(X_columns, y_columns, n_estimators, tree_depth, data)\n",
      "    set_knn_clf(X_columns, y_columns, data, n=5)\n",
      "    set_desicion_tree_clf(X_columns, y_columns, data, tree_depth)\n",
      "    get_accuracy(act, pred)\n",
      "\n",
      "Prediction func:\n",
      "****************\n",
      "    get_fighters_stats(fighter, opponent, data)\n"
     ]
    },
    {
     "ename": "SyntaxError",
     "evalue": "invalid syntax (<ipython-input-2-d960544c3de0>, line 1)",
     "output_type": "error",
     "traceback": [
      "\u001b[0;36m  File \u001b[0;32m\"<ipython-input-2-d960544c3de0>\"\u001b[0;36m, line \u001b[0;32m1\u001b[0m\n\u001b[0;31m    >>>>\u001b[0m\n\u001b[0m     ^\u001b[0m\n\u001b[0;31mSyntaxError\u001b[0m\u001b[0;31m:\u001b[0m invalid syntax\n"
     ]
    },
    {
     "name": "stdout",
     "output_type": "stream",
     "text": [
      "---------------------------------------------\n",
      "Correlation Report: Most significant features\n",
      "---------------------------------------------\n",
      "R coef > Median R: [0.19, 0.42, 0.26, 0.31, 0.28, 0.57, 0.18, 0.19, 0.39]\n",
      "Most significant: ['sapm_dif', 'slpm_dif', 'str. acc._dif', 'str. def_dif', 'td def._dif', 'sub. avg._dif', 'td acc._dif', 'td avg._dif', 'td def._dif']\n"
     ]
    },
    {
     "data": {
      "image/png": "[encoded data removed]",
      "text/plain": [
       "<Figure size 288x144 with 1 Axes>"
      ]
     },
     "metadata": {},
     "output_type": "display_data"
    },
    {
     "name": "stdout",
     "output_type": "stream",
     "text": [
      "Data split: Data=(6731, 20), train_set=(3313, 12), validation_set=(1441, 12), test_set=(1977, 12)\n"
     ]
    },
    {
     "name": "stderr",
     "output_type": "stream",
     "text": [
      "100%|██████████| 15/15 [00:18<00:00,  1.21s/it]\n"
     ]
    },
    {
     "data": {
      "image/png": "[encoded data removed]",
      "text/plain": [
       "<Figure size 432x288 with 1 Axes>"
      ]
     },
     "metadata": {},
     "output_type": "display_data"
    },
    {
     "name": "stdout",
     "output_type": "stream",
     "text": [
      "best performance n: 29\n",
      "../global_variables/ml_models_parameters.csv saved.\n",
      "../data/fight_stat_data.csv saved.\n",
      "Model Accuracy: 0.686600\n"
     ]
    }
   ],
   "source": [
    "%run fight_stats_model_training.ipynb"
   ]
  },
  {
   "cell_type": "markdown",
   "id": "485a3282",
   "metadata": {},
   "source": [
    "### <span style='color:green'> **[done]** </span>Loading Features data"
   ]
  },
  {
   "cell_type": "code",
   "execution_count": 49,
   "id": "5db19a64",
   "metadata": {},
   "outputs": [
    {
     "data": {
      "text/html": [
       "<div>\n",
       "<style scoped>\n",
       "    .dataframe tbody tr th:only-of-type {\n",
       "        vertical-align: middle;\n",
       "    }\n",
       "\n",
       "    .dataframe tbody tr th {\n",
       "        vertical-align: top;\n",
       "    }\n",
       "\n",
       "    .dataframe thead th {\n",
       "        text-align: right;\n",
       "    }\n",
       "</style>\n",
       "<table border=\"1\" class=\"dataframe\">\n",
       "  <thead>\n",
       "    <tr style=\"text-align: right;\">\n",
       "      <th></th>\n",
       "      <th>set</th>\n",
       "      <th>fighter</th>\n",
       "      <th>opponent</th>\n",
       "      <th>result</th>\n",
       "      <th>kd_dif</th>\n",
       "      <th>str_dif</th>\n",
       "      <th>td_dif</th>\n",
       "      <th>sub_dif</th>\n",
       "      <th>td avg._dif</th>\n",
       "      <th>td acc._dif</th>\n",
       "      <th>td def._dif</th>\n",
       "      <th>sub. avg._dif</th>\n",
       "      <th>slpm_dif</th>\n",
       "      <th>str. acc._dif</th>\n",
       "      <th>sapm_dif</th>\n",
       "      <th>str. def_dif</th>\n",
       "      <th>stance_win_ratio</th>\n",
       "      <th>win_perc_dif</th>\n",
       "      <th>win_strk_dif</th>\n",
       "      <th>lose_strk_dif</th>\n",
       "      <th>kd_dif_pred</th>\n",
       "      <th>str_dif_pred</th>\n",
       "      <th>td_dif_pred</th>\n",
       "      <th>sub_dif_pred</th>\n",
       "    </tr>\n",
       "  </thead>\n",
       "  <tbody>\n",
       "    <tr>\n",
       "      <th>6728</th>\n",
       "      <td>train</td>\n",
       "      <td>Aleksandra Albu</td>\n",
       "      <td>Kailin Curran</td>\n",
       "      <td>win</td>\n",
       "      <td>0.007043</td>\n",
       "      <td>-0.13660</td>\n",
       "      <td>1.572182</td>\n",
       "      <td>0.000126</td>\n",
       "      <td>0.146611</td>\n",
       "      <td>-0.234918</td>\n",
       "      <td>0.536244</td>\n",
       "      <td>-0.191655</td>\n",
       "      <td>0.609627</td>\n",
       "      <td>0.331825</td>\n",
       "      <td>0.489153</td>\n",
       "      <td>-1.247508</td>\n",
       "      <td>-0.017271</td>\n",
       "      <td>2.039564</td>\n",
       "      <td>0.562079</td>\n",
       "      <td>-2.148820</td>\n",
       "      <td>0.007043</td>\n",
       "      <td>0.007043</td>\n",
       "      <td>0.007043</td>\n",
       "      <td>0.007043</td>\n",
       "    </tr>\n",
       "    <tr>\n",
       "      <th>6729</th>\n",
       "      <td>train</td>\n",
       "      <td>Eric Shelton</td>\n",
       "      <td>Jarred Brooks</td>\n",
       "      <td>lose</td>\n",
       "      <td>0.007043</td>\n",
       "      <td>0.16454</td>\n",
       "      <td>-1.585788</td>\n",
       "      <td>0.000126</td>\n",
       "      <td>-0.957237</td>\n",
       "      <td>-0.199947</td>\n",
       "      <td>-0.770475</td>\n",
       "      <td>-0.382332</td>\n",
       "      <td>0.299636</td>\n",
       "      <td>-0.316816</td>\n",
       "      <td>0.128955</td>\n",
       "      <td>0.098283</td>\n",
       "      <td>0.076432</td>\n",
       "      <td>-0.004555</td>\n",
       "      <td>-0.009943</td>\n",
       "      <td>1.083053</td>\n",
       "      <td>0.427403</td>\n",
       "      <td>0.427403</td>\n",
       "      <td>0.427403</td>\n",
       "      <td>0.427403</td>\n",
       "    </tr>\n",
       "    <tr>\n",
       "      <th>6730</th>\n",
       "      <td>test</td>\n",
       "      <td>Drew Dober</td>\n",
       "      <td>Joshua Burkman</td>\n",
       "      <td>win</td>\n",
       "      <td>1.361536</td>\n",
       "      <td>0.16454</td>\n",
       "      <td>-0.006803</td>\n",
       "      <td>0.000126</td>\n",
       "      <td>-0.996262</td>\n",
       "      <td>-0.654576</td>\n",
       "      <td>-0.602947</td>\n",
       "      <td>-0.191655</td>\n",
       "      <td>1.141041</td>\n",
       "      <td>-0.235736</td>\n",
       "      <td>0.623465</td>\n",
       "      <td>0.014171</td>\n",
       "      <td>1.488122</td>\n",
       "      <td>0.123202</td>\n",
       "      <td>-0.009943</td>\n",
       "      <td>-2.148820</td>\n",
       "      <td>0.193870</td>\n",
       "      <td>0.193870</td>\n",
       "      <td>0.193870</td>\n",
       "      <td>0.193870</td>\n",
       "    </tr>\n",
       "  </tbody>\n",
       "</table>\n",
       "</div>"
      ],
      "text/plain": [
       "        set          fighter        opponent result    kd_dif  str_dif  \\\n",
       "6728  train  Aleksandra Albu   Kailin Curran    win  0.007043 -0.13660   \n",
       "6729  train     Eric Shelton   Jarred Brooks   lose  0.007043  0.16454   \n",
       "6730   test       Drew Dober  Joshua Burkman    win  1.361536  0.16454   \n",
       "\n",
       "        td_dif   sub_dif  td avg._dif  td acc._dif  td def._dif  \\\n",
       "6728  1.572182  0.000126     0.146611    -0.234918     0.536244   \n",
       "6729 -1.585788  0.000126    -0.957237    -0.199947    -0.770475   \n",
       "6730 -0.006803  0.000126    -0.996262    -0.654576    -0.602947   \n",
       "\n",
       "      sub. avg._dif  slpm_dif  str. acc._dif  sapm_dif  str. def_dif  \\\n",
       "6728      -0.191655  0.609627       0.331825  0.489153     -1.247508   \n",
       "6729      -0.382332  0.299636      -0.316816  0.128955      0.098283   \n",
       "6730      -0.191655  1.141041      -0.235736  0.623465      0.014171   \n",
       "\n",
       "      stance_win_ratio  win_perc_dif  win_strk_dif  lose_strk_dif  \\\n",
       "6728         -0.017271      2.039564      0.562079      -2.148820   \n",
       "6729          0.076432     -0.004555     -0.009943       1.083053   \n",
       "6730          1.488122      0.123202     -0.009943      -2.148820   \n",
       "\n",
       "      kd_dif_pred  str_dif_pred  td_dif_pred  sub_dif_pred  \n",
       "6728     0.007043      0.007043     0.007043      0.007043  \n",
       "6729     0.427403      0.427403     0.427403      0.427403  \n",
       "6730     0.193870      0.193870     0.193870      0.193870  "
      ]
     },
     "execution_count": 49,
     "metadata": {},
     "output_type": "execute_result"
    }
   ],
   "source": [
    "loc = '../data/'\n",
    "file = 'fight_stat_data.csv'\n",
    "df = pd.read_csv(loc+file)\n",
    "df = df[df.columns[1:]]\n",
    "df.tail(3)"
   ]
  },
  {
   "cell_type": "code",
   "execution_count": 50,
   "id": "90f36e89-693f-4396-ae24-7c5a1add2349",
   "metadata": {},
   "outputs": [
    {
     "data": {
      "text/html": [
       "<div>\n",
       "<style scoped>\n",
       "    .dataframe tbody tr th:only-of-type {\n",
       "        vertical-align: middle;\n",
       "    }\n",
       "\n",
       "    .dataframe tbody tr th {\n",
       "        vertical-align: top;\n",
       "    }\n",
       "\n",
       "    .dataframe thead th {\n",
       "        text-align: right;\n",
       "    }\n",
       "</style>\n",
       "<table border=\"1\" class=\"dataframe\">\n",
       "  <thead>\n",
       "    <tr style=\"text-align: right;\">\n",
       "      <th></th>\n",
       "      <th>fighter</th>\n",
       "      <th>opponent</th>\n",
       "      <th>kd_dif</th>\n",
       "      <th>str_dif</th>\n",
       "      <th>str_dif</th>\n",
       "      <th>sub_dif</th>\n",
       "      <th>stance_win_ratio</th>\n",
       "      <th>win_perc_dif</th>\n",
       "      <th>win_strk_dif</th>\n",
       "      <th>lose_strk_dif</th>\n",
       "      <th>result</th>\n",
       "    </tr>\n",
       "  </thead>\n",
       "  <tbody>\n",
       "    <tr>\n",
       "      <th>6728</th>\n",
       "      <td>Aleksandra Albu</td>\n",
       "      <td>Kailin Curran</td>\n",
       "      <td>0.007043</td>\n",
       "      <td>-0.13660</td>\n",
       "      <td>-0.13660</td>\n",
       "      <td>0.000126</td>\n",
       "      <td>-0.017271</td>\n",
       "      <td>2.039564</td>\n",
       "      <td>0.562079</td>\n",
       "      <td>-2.148820</td>\n",
       "      <td>win</td>\n",
       "    </tr>\n",
       "    <tr>\n",
       "      <th>6729</th>\n",
       "      <td>Eric Shelton</td>\n",
       "      <td>Jarred Brooks</td>\n",
       "      <td>0.007043</td>\n",
       "      <td>0.16454</td>\n",
       "      <td>0.16454</td>\n",
       "      <td>0.000126</td>\n",
       "      <td>0.076432</td>\n",
       "      <td>-0.004555</td>\n",
       "      <td>-0.009943</td>\n",
       "      <td>1.083053</td>\n",
       "      <td>lose</td>\n",
       "    </tr>\n",
       "    <tr>\n",
       "      <th>6730</th>\n",
       "      <td>Drew Dober</td>\n",
       "      <td>Joshua Burkman</td>\n",
       "      <td>1.361536</td>\n",
       "      <td>0.16454</td>\n",
       "      <td>0.16454</td>\n",
       "      <td>0.000126</td>\n",
       "      <td>1.488122</td>\n",
       "      <td>0.123202</td>\n",
       "      <td>-0.009943</td>\n",
       "      <td>-2.148820</td>\n",
       "      <td>win</td>\n",
       "    </tr>\n",
       "  </tbody>\n",
       "</table>\n",
       "</div>"
      ],
      "text/plain": [
       "              fighter        opponent    kd_dif  str_dif  str_dif   sub_dif  \\\n",
       "6728  Aleksandra Albu   Kailin Curran  0.007043 -0.13660 -0.13660  0.000126   \n",
       "6729     Eric Shelton   Jarred Brooks  0.007043  0.16454  0.16454  0.000126   \n",
       "6730       Drew Dober  Joshua Burkman  1.361536  0.16454  0.16454  0.000126   \n",
       "\n",
       "      stance_win_ratio  win_perc_dif  win_strk_dif  lose_strk_dif result  \n",
       "6728         -0.017271      2.039564      0.562079      -2.148820    win  \n",
       "6729          0.076432     -0.004555     -0.009943       1.083053   lose  \n",
       "6730          1.488122      0.123202     -0.009943      -2.148820    win  "
      ]
     },
     "execution_count": 50,
     "metadata": {},
     "output_type": "execute_result"
    }
   ],
   "source": [
    "req_data = ['fighter','opponent']\n",
    "y = ['result']\n",
    "X = ['kd_dif','str_dif','str_dif','sub_dif',\n",
    "    #'td avg._dif','td acc._dif','td def._dif','sub. avg._dif',\n",
    "    #'slpm_dif','str. acc._dif','sapm_dif','str. def_dif',\n",
    "    'stance_win_ratio','win_perc_dif','win_strk_dif','lose_strk_dif']\n",
    "\n",
    "df = df[req_data + X + y]\n",
    "df.tail(3)"
   ]
  },
  {
   "cell_type": "markdown",
   "id": "afed5140-6b5a-43a9-8f15-258f86d75976",
   "metadata": {},
   "source": [
    "### <span style='color:green'> **[done]** </span> SVM model training:"
   ]
  },
  {
   "cell_type": "code",
   "execution_count": 51,
   "id": "9f5ac63e-14ed-4f21-a277-5890327ace76",
   "metadata": {},
   "outputs": [
    {
     "name": "stdout",
     "output_type": "stream",
     "text": [
      "Data split: Data=(6731, 12), train_set=(3240, 10), validation_set=(1431, 10), test_set=(2060, 10)\n"
     ]
    },
    {
     "data": {
      "text/html": [
       "<div>\n",
       "<style scoped>\n",
       "    .dataframe tbody tr th:only-of-type {\n",
       "        vertical-align: middle;\n",
       "    }\n",
       "\n",
       "    .dataframe tbody tr th {\n",
       "        vertical-align: top;\n",
       "    }\n",
       "\n",
       "    .dataframe thead th {\n",
       "        text-align: right;\n",
       "    }\n",
       "</style>\n",
       "<table border=\"1\" class=\"dataframe\">\n",
       "  <thead>\n",
       "    <tr style=\"text-align: right;\">\n",
       "      <th></th>\n",
       "      <th>set</th>\n",
       "      <th>fighter</th>\n",
       "      <th>opponent</th>\n",
       "      <th>kd_dif</th>\n",
       "      <th>str_dif</th>\n",
       "      <th>str_dif</th>\n",
       "      <th>sub_dif</th>\n",
       "      <th>stance_win_ratio</th>\n",
       "      <th>win_perc_dif</th>\n",
       "      <th>win_strk_dif</th>\n",
       "      <th>lose_strk_dif</th>\n",
       "      <th>result</th>\n",
       "    </tr>\n",
       "  </thead>\n",
       "  <tbody>\n",
       "    <tr>\n",
       "      <th>6728</th>\n",
       "      <td>train</td>\n",
       "      <td>Aleksandra Albu</td>\n",
       "      <td>Kailin Curran</td>\n",
       "      <td>0.007043</td>\n",
       "      <td>-0.13660</td>\n",
       "      <td>-0.13660</td>\n",
       "      <td>0.000126</td>\n",
       "      <td>-0.017271</td>\n",
       "      <td>2.039564</td>\n",
       "      <td>0.562079</td>\n",
       "      <td>-2.148820</td>\n",
       "      <td>win</td>\n",
       "    </tr>\n",
       "    <tr>\n",
       "      <th>6729</th>\n",
       "      <td>train</td>\n",
       "      <td>Eric Shelton</td>\n",
       "      <td>Jarred Brooks</td>\n",
       "      <td>0.007043</td>\n",
       "      <td>0.16454</td>\n",
       "      <td>0.16454</td>\n",
       "      <td>0.000126</td>\n",
       "      <td>0.076432</td>\n",
       "      <td>-0.004555</td>\n",
       "      <td>-0.009943</td>\n",
       "      <td>1.083053</td>\n",
       "      <td>lose</td>\n",
       "    </tr>\n",
       "    <tr>\n",
       "      <th>6730</th>\n",
       "      <td>test</td>\n",
       "      <td>Drew Dober</td>\n",
       "      <td>Joshua Burkman</td>\n",
       "      <td>1.361536</td>\n",
       "      <td>0.16454</td>\n",
       "      <td>0.16454</td>\n",
       "      <td>0.000126</td>\n",
       "      <td>1.488122</td>\n",
       "      <td>0.123202</td>\n",
       "      <td>-0.009943</td>\n",
       "      <td>-2.148820</td>\n",
       "      <td>win</td>\n",
       "    </tr>\n",
       "  </tbody>\n",
       "</table>\n",
       "</div>"
      ],
      "text/plain": [
       "        set          fighter        opponent    kd_dif  str_dif  str_dif  \\\n",
       "6728  train  Aleksandra Albu   Kailin Curran  0.007043 -0.13660 -0.13660   \n",
       "6729  train     Eric Shelton   Jarred Brooks  0.007043  0.16454  0.16454   \n",
       "6730   test       Drew Dober  Joshua Burkman  1.361536  0.16454  0.16454   \n",
       "\n",
       "       sub_dif  stance_win_ratio  win_perc_dif  win_strk_dif  lose_strk_dif  \\\n",
       "6728  0.000126         -0.017271      2.039564      0.562079      -2.148820   \n",
       "6729  0.000126          0.076432     -0.004555     -0.009943       1.083053   \n",
       "6730  0.000126          1.488122      0.123202     -0.009943      -2.148820   \n",
       "\n",
       "     result  \n",
       "6728    win  \n",
       "6729   lose  \n",
       "6730    win  "
      ]
     },
     "execution_count": 51,
     "metadata": {},
     "output_type": "execute_result"
    }
   ],
   "source": [
    "df = set_train_test(X_columns=X, y_columns=y, data=df, test_size=0.3, valid_size=0.3)\n",
    "df.tail(3)"
   ]
  },
  {
   "cell_type": "code",
   "execution_count": 68,
   "id": "9657d7a6-cd06-4f3c-8555-fabfbab35e68",
   "metadata": {},
   "outputs": [
    {
     "data": {
      "text/html": [
       "<div>\n",
       "<style scoped>\n",
       "    .dataframe tbody tr th:only-of-type {\n",
       "        vertical-align: middle;\n",
       "    }\n",
       "\n",
       "    .dataframe tbody tr th {\n",
       "        vertical-align: top;\n",
       "    }\n",
       "\n",
       "    .dataframe thead th {\n",
       "        text-align: right;\n",
       "    }\n",
       "</style>\n",
       "<table border=\"1\" class=\"dataframe\">\n",
       "  <thead>\n",
       "    <tr style=\"text-align: right;\">\n",
       "      <th></th>\n",
       "      <th>set</th>\n",
       "      <th>fighter</th>\n",
       "      <th>opponent</th>\n",
       "      <th>kd_dif</th>\n",
       "      <th>str_dif</th>\n",
       "      <th>str_dif</th>\n",
       "      <th>sub_dif</th>\n",
       "      <th>stance_win_ratio</th>\n",
       "      <th>win_perc_dif</th>\n",
       "      <th>win_strk_dif</th>\n",
       "      <th>lose_strk_dif</th>\n",
       "      <th>result</th>\n",
       "      <th>result_pred</th>\n",
       "    </tr>\n",
       "  </thead>\n",
       "  <tbody>\n",
       "    <tr>\n",
       "      <th>6728</th>\n",
       "      <td>train</td>\n",
       "      <td>Aleksandra Albu</td>\n",
       "      <td>Kailin Curran</td>\n",
       "      <td>0.007043</td>\n",
       "      <td>-0.13660</td>\n",
       "      <td>-0.13660</td>\n",
       "      <td>0.000126</td>\n",
       "      <td>-0.017271</td>\n",
       "      <td>2.039564</td>\n",
       "      <td>0.562079</td>\n",
       "      <td>-2.148820</td>\n",
       "      <td>win</td>\n",
       "      <td>lose</td>\n",
       "    </tr>\n",
       "    <tr>\n",
       "      <th>6729</th>\n",
       "      <td>train</td>\n",
       "      <td>Eric Shelton</td>\n",
       "      <td>Jarred Brooks</td>\n",
       "      <td>0.007043</td>\n",
       "      <td>0.16454</td>\n",
       "      <td>0.16454</td>\n",
       "      <td>0.000126</td>\n",
       "      <td>0.076432</td>\n",
       "      <td>-0.004555</td>\n",
       "      <td>-0.009943</td>\n",
       "      <td>1.083053</td>\n",
       "      <td>lose</td>\n",
       "      <td>win</td>\n",
       "    </tr>\n",
       "    <tr>\n",
       "      <th>6730</th>\n",
       "      <td>test</td>\n",
       "      <td>Drew Dober</td>\n",
       "      <td>Joshua Burkman</td>\n",
       "      <td>1.361536</td>\n",
       "      <td>0.16454</td>\n",
       "      <td>0.16454</td>\n",
       "      <td>0.000126</td>\n",
       "      <td>1.488122</td>\n",
       "      <td>0.123202</td>\n",
       "      <td>-0.009943</td>\n",
       "      <td>-2.148820</td>\n",
       "      <td>win</td>\n",
       "      <td>win</td>\n",
       "    </tr>\n",
       "  </tbody>\n",
       "</table>\n",
       "</div>"
      ],
      "text/plain": [
       "        set          fighter        opponent    kd_dif  str_dif  str_dif  \\\n",
       "6728  train  Aleksandra Albu   Kailin Curran  0.007043 -0.13660 -0.13660   \n",
       "6729  train     Eric Shelton   Jarred Brooks  0.007043  0.16454  0.16454   \n",
       "6730   test       Drew Dober  Joshua Burkman  1.361536  0.16454  0.16454   \n",
       "\n",
       "       sub_dif  stance_win_ratio  win_perc_dif  win_strk_dif  lose_strk_dif  \\\n",
       "6728  0.000126         -0.017271      2.039564      0.562079      -2.148820   \n",
       "6729  0.000126          0.076432     -0.004555     -0.009943       1.083053   \n",
       "6730  0.000126          1.488122      0.123202     -0.009943      -2.148820   \n",
       "\n",
       "     result result_pred  \n",
       "6728    win        lose  \n",
       "6729   lose         win  \n",
       "6730    win         win  "
      ]
     },
     "execution_count": 68,
     "metadata": {},
     "output_type": "execute_result"
    }
   ],
   "source": [
    "svm_clf = set_svm_clf(X_columns=X, y_columns=y, data=df)\n",
    "df = set_predictions(model=svm_clf, data=df, X_columns=X, y_columns=y)\n",
    "df.tail(3)"
   ]
  },
  {
   "cell_type": "code",
   "execution_count": null,
   "id": "7b66f9fe-2600-450f-9a55-e5240dfc34d6",
   "metadata": {},
   "outputs": [],
   "source": [
    ">>>>>>>>>>>>>>>>"
   ]
  },
  {
   "cell_type": "code",
   "execution_count": 67,
   "id": "2534e074-1ef5-428a-9adc-8bf15432a9ad",
   "metadata": {},
   "outputs": [
    {
     "name": "stdout",
     "output_type": "stream",
     "text": [
      "imports loaded.\n",
      "\n",
      "Pre-Processing func:\n",
      "********************\n",
      "    get_height(item)\n",
      "    get_weight(item)\n",
      "    get_reach(item)\n",
      "    get_std_reach(item, height, reach_list, height_list)\n",
      "    get_age(item)\n",
      "    get_std_age(item, age_list)\n",
      "    get_win_perc(name, date, df)\n",
      "    get_lose_streak_data_frame(name, date, df)\n",
      "    get_win_streak_data_frame(name, date, df)\n",
      "    get_streak_data_frame(name, date, df)\n",
      "    get_win_streak(name, date, df)\n",
      "    get_lose_streak(name, date, df)\n",
      "    get_fighter_stats(name, data )\n",
      "    add_columns(data, column_list)\n",
      "\n",
      "Feature Engineering func:\n",
      "*************************\n",
      "    get_stat(index, data, stat='height', fo='')\n",
      "    get_swaped_row(index, data)\n",
      "    get_wins(combo, data)\n",
      "    get_wins_ratio(combo, data)\n",
      "\n",
      "fight_stats_model_training func:\n",
      "********************************\n",
      "    get_sig_features(data, sig_r)\n",
      "    get_r_score(X, y)\n",
      "    set_train_test(X_columns, y_columns, data, test_size=0.3, valid_size=0.3)\n",
      "    set_knn_reg(X_columns, y_columns, data, n=5)\n",
      "    set_predictions(model, data, X_columns, y_columns)\n",
      "    get_rmse(act, pred)\n",
      "    get_grad_descent_step(alpha, X_columns, y_columns, data, n)\n",
      "\n",
      "fight_result_model_training func:\n",
      "*********************************\n",
      "    set_svm_clf(X_columns, y_columns, data)\n"
     ]
    },
    {
     "ename": "SyntaxError",
     "evalue": "invalid syntax (<ipython-input-67-00b0f6224fe5>, line 1)",
     "output_type": "error",
     "traceback": [
      "\u001b[0;36m  File \u001b[0;32m\"<ipython-input-67-00b0f6224fe5>\"\u001b[0;36m, line \u001b[0;32m1\u001b[0m\n\u001b[0;31m    >>>>>>>>>>>>\u001b[0m\n\u001b[0m     ^\u001b[0m\n\u001b[0;31mSyntaxError\u001b[0m\u001b[0;31m:\u001b[0m invalid syntax\n"
     ]
    }
   ],
   "source": [
    "%run func_def.ipynb"
   ]
  },
  {
   "cell_type": "code",
   "execution_count": 19,
   "id": "f0fc3261-dc94-4098-9d16-bf8aaed02f9e",
   "metadata": {},
   "outputs": [
    {
     "data": {
      "text/html": [
       "<div>\n",
       "<style scoped>\n",
       "    .dataframe tbody tr th:only-of-type {\n",
       "        vertical-align: middle;\n",
       "    }\n",
       "\n",
       "    .dataframe tbody tr th {\n",
       "        vertical-align: top;\n",
       "    }\n",
       "\n",
       "    .dataframe thead th {\n",
       "        text-align: right;\n",
       "    }\n",
       "</style>\n",
       "<table border=\"1\" class=\"dataframe\">\n",
       "  <thead>\n",
       "    <tr style=\"text-align: right;\">\n",
       "      <th></th>\n",
       "      <th>set</th>\n",
       "      <th>fighter</th>\n",
       "      <th>opponent</th>\n",
       "      <th>result</th>\n",
       "      <th>td avg._dif</th>\n",
       "      <th>td acc._dif</th>\n",
       "      <th>td def._dif</th>\n",
       "      <th>sub. avg._dif</th>\n",
       "      <th>slpm_dif</th>\n",
       "      <th>str. acc._dif</th>\n",
       "      <th>sapm_dif</th>\n",
       "      <th>str. def_dif</th>\n",
       "      <th>stance_win_ratio</th>\n",
       "      <th>win_perc_dif</th>\n",
       "      <th>win_strk_dif</th>\n",
       "      <th>lose_strk_dif</th>\n",
       "      <th>result_pred</th>\n",
       "    </tr>\n",
       "  </thead>\n",
       "  <tbody>\n",
       "    <tr>\n",
       "      <th>6728</th>\n",
       "      <td>validation</td>\n",
       "      <td>Aleksandra Albu</td>\n",
       "      <td>Kailin Curran</td>\n",
       "      <td>win</td>\n",
       "      <td>0.153807</td>\n",
       "      <td>-0.248614</td>\n",
       "      <td>0.524829</td>\n",
       "      <td>-0.187746</td>\n",
       "      <td>0.590266</td>\n",
       "      <td>0.306904</td>\n",
       "      <td>0.520523</td>\n",
       "      <td>-1.257415</td>\n",
       "      <td>0.016113</td>\n",
       "      <td>2.032286</td>\n",
       "      <td>0.573098</td>\n",
       "      <td>-2.154226</td>\n",
       "      <td>win</td>\n",
       "    </tr>\n",
       "    <tr>\n",
       "      <th>6729</th>\n",
       "      <td>test</td>\n",
       "      <td>Jarred Brooks</td>\n",
       "      <td>Eric Shelton</td>\n",
       "      <td>win</td>\n",
       "      <td>0.956603</td>\n",
       "      <td>0.205996</td>\n",
       "      <td>0.759383</td>\n",
       "      <td>0.384288</td>\n",
       "      <td>-0.289007</td>\n",
       "      <td>0.306904</td>\n",
       "      <td>-0.108500</td>\n",
       "      <td>-0.079956</td>\n",
       "      <td>-0.304653</td>\n",
       "      <td>-0.011958</td>\n",
       "      <td>0.001105</td>\n",
       "      <td>-1.076953</td>\n",
       "      <td>win</td>\n",
       "    </tr>\n",
       "    <tr>\n",
       "      <th>6730</th>\n",
       "      <td>validation</td>\n",
       "      <td>Drew Dober</td>\n",
       "      <td>Joshua Burkman</td>\n",
       "      <td>win</td>\n",
       "      <td>-0.989064</td>\n",
       "      <td>-0.668254</td>\n",
       "      <td>-0.614435</td>\n",
       "      <td>-0.187746</td>\n",
       "      <td>1.121624</td>\n",
       "      <td>-0.260727</td>\n",
       "      <td>0.654877</td>\n",
       "      <td>0.004148</td>\n",
       "      <td>1.344545</td>\n",
       "      <td>0.115807</td>\n",
       "      <td>0.001105</td>\n",
       "      <td>-2.154226</td>\n",
       "      <td>lose</td>\n",
       "    </tr>\n",
       "  </tbody>\n",
       "</table>\n",
       "</div>"
      ],
      "text/plain": [
       "             set          fighter        opponent result  td avg._dif  \\\n",
       "6728  validation  Aleksandra Albu   Kailin Curran    win     0.153807   \n",
       "6729        test    Jarred Brooks    Eric Shelton    win     0.956603   \n",
       "6730  validation       Drew Dober  Joshua Burkman    win    -0.989064   \n",
       "\n",
       "      td acc._dif  td def._dif  sub. avg._dif  slpm_dif  str. acc._dif  \\\n",
       "6728    -0.248614     0.524829      -0.187746  0.590266       0.306904   \n",
       "6729     0.205996     0.759383       0.384288 -0.289007       0.306904   \n",
       "6730    -0.668254    -0.614435      -0.187746  1.121624      -0.260727   \n",
       "\n",
       "      sapm_dif  str. def_dif  stance_win_ratio  win_perc_dif  win_strk_dif  \\\n",
       "6728  0.520523     -1.257415          0.016113      2.032286      0.573098   \n",
       "6729 -0.108500     -0.079956         -0.304653     -0.011958      0.001105   \n",
       "6730  0.654877      0.004148          1.344545      0.115807      0.001105   \n",
       "\n",
       "      lose_strk_dif result_pred  \n",
       "6728      -2.154226         win  \n",
       "6729      -1.076953         win  \n",
       "6730      -2.154226        lose  "
      ]
     },
     "execution_count": 19,
     "metadata": {},
     "output_type": "execute_result"
    }
   ],
   "source": [
    "df = set_predictions(model=knn_clf, data=df, X_columns=X, y_columns=y)\n",
    "df.tail(3)"
   ]
  },
  {
   "cell_type": "code",
   "execution_count": 20,
   "id": "96dabc14-4869-445c-97a9-74939f785d9f",
   "metadata": {},
   "outputs": [
    {
     "data": {
      "text/plain": [
       "0.652281746031746"
      ]
     },
     "execution_count": 20,
     "metadata": {},
     "output_type": "execute_result"
    }
   ],
   "source": [
    "act = df.result[df.set=='test']\n",
    "pred = df.result_pred[df.set=='test']\n",
    "get_accuracy(act, pred)"
   ]
  },
  {
   "cell_type": "markdown",
   "id": "a0c57076-c941-4878-881d-67bdcc133ace",
   "metadata": {},
   "source": [
    "### <span style='color:orange'> **[in-progress]** </span> Tune model parameters:"
   ]
  },
  {
   "cell_type": "code",
   "execution_count": 6,
   "id": "b3e07dbe-47ff-4893-8a48-bd3fa3de379d",
   "metadata": {},
   "outputs": [
    {
     "ename": "SyntaxError",
     "evalue": "invalid syntax (<ipython-input-6-6708ddc79812>, line 1)",
     "output_type": "error",
     "traceback": [
      "\u001b[0;36m  File \u001b[0;32m\"<ipython-input-6-6708ddc79812>\"\u001b[0;36m, line \u001b[0;32m1\u001b[0m\n\u001b[0;31m    >>>>>>>>>>>>>>>>\u001b[0m\n\u001b[0m     ^\u001b[0m\n\u001b[0;31mSyntaxError\u001b[0m\u001b[0;31m:\u001b[0m invalid syntax\n"
     ]
    }
   ],
   "source": [
    ">>>>>>>>>>>>>>>>"
   ]
  },
  {
   "cell_type": "markdown",
   "id": "58203cc1",
   "metadata": {},
   "source": [
    "### <span style='color:green'> **[done]** </span> X = Feature definition:"
   ]
  },
  {
   "cell_type": "code",
   "execution_count": null,
   "id": "43ba1328",
   "metadata": {},
   "outputs": [],
   "source": [
    "X = df.columns[10:len(df.columns)-1]\n",
    "X"
   ]
  },
  {
   "cell_type": "markdown",
   "id": "ce14c65a",
   "metadata": {
    "tags": []
   },
   "source": [
    "## <span style='color:green'> **[done]** </span> Clean(if needed) outliers for more accurate model\n"
   ]
  },
  {
   "cell_type": "code",
   "execution_count": null,
   "id": "177bb4db",
   "metadata": {},
   "outputs": [],
   "source": [
    "rows= 2\n",
    "cols= int(len(X)/2)\n",
    "fig, axs = plt.subplots(rows,cols,figsize = (25,8))\n",
    "fig.suptitle('Features Distributions')\n",
    "\n",
    "for i in range(0,cols):\n",
    "    sns.kdeplot(ax=axs[0,i], data=df[df.result == 'lose'], x=X[i], fill=True)\n",
    "    sns.kdeplot(ax=axs[0,i], data=df[df.result == 'win'], x=X[i], fill=True)\n",
    "\n",
    "for i in range(0,cols):\n",
    "    sns.kdeplot(ax=axs[1,i], data=df[df.result == 'lose'], x=X[i+cols], fill=True)\n",
    "    sns.kdeplot(ax=axs[1,i], data=df[df.result == 'win'], x=X[i+cols], fill=True)"
   ]
  },
  {
   "cell_type": "markdown",
   "id": "6edc62e0",
   "metadata": {},
   "source": [
    "for the most part fighter's sklill are similar when they meet in the octagon = not many outlier ( > 3 sigma data points).\n",
    "i will clear any > 3 sigma data points"
   ]
  },
  {
   "cell_type": "code",
   "execution_count": null,
   "id": "f71ee6b3",
   "metadata": {},
   "outputs": [],
   "source": [
    "original_size = len(df)\n",
    "\n",
    "for feature in X:\n",
    "    df = df[df[feature] <= 3]\n",
    "    \n",
    "print('Rows deleted: %d' %(original_size-len(df)))"
   ]
  },
  {
   "cell_type": "markdown",
   "id": "e9c595dc",
   "metadata": {},
   "source": [
    "### <span style='color:green'> **[done]** </span> EDA for predicting 'kd_dif', 'str_dif', 'td_dif', 'sub_dif' (=fight statistics)\n",
    "all features are normalized > only correlated features will be included in finale model"
   ]
  },
  {
   "cell_type": "code",
   "execution_count": null,
   "id": "c073c042-2a13-4156-a980-ed4d372ead56",
   "metadata": {},
   "outputs": [],
   "source": [
    "features = ['result','str_dif','td avg._dif','td acc._dif',\n",
    "            'td def._dif','sub. avg._dif','slpm_dif','str. acc._dif',\n",
    "            'sapm_dif','str. def_dif','win_perc_dif','win_strk_dif','lose_strk_dif']\n",
    "rows = 1\n",
    "cols = len(features)-2\n",
    "fig, axs = plt.subplots(rows,cols,figsize = (45,5))\n",
    "print('str_dif correlation:')\n",
    "\n",
    "for i,column in zip(range(0,len(features)),features[2:]):\n",
    "    sns.scatterplot(ax=axs[i],y='str_dif',x=column,data=df,hue='result')"
   ]
  },
  {
   "cell_type": "code",
   "execution_count": null,
   "id": "683d641c",
   "metadata": {},
   "outputs": [],
   "source": [
    "features = ['result','kd_dif','td avg._dif','td acc._dif',\n",
    "            'td def._dif','sub. avg._dif','slpm_dif','str. acc._dif',\n",
    "            'sapm_dif','str. def_dif','win_perc_dif','win_strk_dif','lose_strk_dif']\n",
    "rows = 1\n",
    "cols = len(features)-2\n",
    "fig, axs = plt.subplots(rows,cols,figsize = (45,5))\n",
    "print('kd_dif correlation:')\n",
    "\n",
    "for i,column in zip(range(0,len(features)),features[2:]):\n",
    "    sns.scatterplot(ax=axs[i],y='kd_dif',x=column,data=df,hue='result')"
   ]
  },
  {
   "cell_type": "code",
   "execution_count": null,
   "id": "bdb863e1",
   "metadata": {},
   "outputs": [],
   "source": [
    "features = ['result','td_dif','td avg._dif','td acc._dif',\n",
    "            'td def._dif','sub. avg._dif','slpm_dif','str. acc._dif',\n",
    "            'sapm_dif','str. def_dif','win_perc_dif','win_strk_dif','lose_strk_dif']\n",
    "rows = 1\n",
    "cols = len(features)-2\n",
    "fig, axs = plt.subplots(rows,cols,figsize = (45,5))\n",
    "print('td_dif correlation:')\n",
    "\n",
    "for i,column in zip(range(0,len(features)),features[2:]):\n",
    "    sns.scatterplot(ax=axs[i],y='td_dif',x=column,data=df,hue='result')"
   ]
  },
  {
   "cell_type": "markdown",
   "id": "62ea26a5",
   "metadata": {},
   "source": [
    "only ['td avg._dif','td def._dif','str. acc._dif'] have correlation to td_dif  = will include as feature"
   ]
  },
  {
   "cell_type": "code",
   "execution_count": null,
   "id": "43066fb7",
   "metadata": {},
   "outputs": [],
   "source": [
    "features = ['result','sub_dif','td avg._dif','td acc._dif',\n",
    "            'td def._dif','sub. avg._dif','slpm_dif','str. acc._dif',\n",
    "            'sapm_dif','str. def_dif','win_perc_dif','win_strk_dif','lose_strk_dif']\n",
    "rows = 1\n",
    "cols = len(features)-2\n",
    "fig, axs = plt.subplots(rows,cols,figsize = (45,5))\n",
    "print('sub_dif correlation:')\n",
    "\n",
    "for i,column in zip(range(0,len(features)),features[2:]):\n",
    "    sns.scatterplot(ax=axs[i],y='sub_dif',x=column,data=df,hue='result')"
   ]
  },
  {
   "cell_type": "markdown",
   "id": "b1eefbd3-6a87-45e7-895d-24c23512c249",
   "metadata": {},
   "source": [
    "### <span style='color:green'> [done] </span> Correlations Report:"
   ]
  },
  {
   "cell_type": "code",
   "execution_count": null,
   "id": "f5c78912-7dba-4aca-b775-b3795042169e",
   "metadata": {},
   "outputs": [],
   "source": [
    "rdf = pd.DataFrame(columns=['y','X','r_coef'])\n",
    "r_list = []\n",
    "y_columns = ['kd_dif','str_dif','td_dif','sub_dif']\n",
    "i = 0 \n",
    "for y_column in y_columns:\n",
    "    for x_column in features[1:]:\n",
    "        rdf.loc[i, 'X'] = x_column\n",
    "        rdf.loc[i, 'y'] = y_column\n",
    "        rdf.loc[i, 'r_coef'] = np.round(np.abs(get_r_score(X=df[x_column], y=df[y_column])),2)\n",
    "        r_list.append(rdf.loc[i, 'r_coef'])\n",
    "        i += 1\n",
    "\n",
    "rdf = rdf.pivot('X','y','r_coef')\n",
    "print('---------------------------------------------')\n",
    "print('Correlation Report: Most significant features')\n",
    "print('---------------------------------------------')\n",
    "\n",
    "sig_r =  [r for r in r_list if (r > (np.median(r_list)+np.std(r_list)) and r < 1)]\n",
    "sig_features = get_sig_features(data=rdf, sig_r=sig_r)\n",
    "print('R coef > Median R: %s' %(sig_r))\n",
    "print('Most significant: %s' %(sig_features) )\n",
    "\n",
    "g = plt.figure(figsize=(4,2))\n",
    "g = sns.histplot(x = r_list, bins=len(rdf))\n",
    "g = sns.kdeplot(x = r_list, fill=True)\n",
    "plt.axvline(x = np.median(r_list)+np.std(r_list), color='red')\n",
    "plt.axvline(x = np.median(r_list), color='red')\n",
    "plt.xlabel(\"r coef values\")\n",
    "plt.ylabel(\"Count\")\n",
    "\n",
    "rdf"
   ]
  },
  {
   "cell_type": "markdown",
   "id": "2d4cad40-68aa-4be9-afca-5616c809147a",
   "metadata": {},
   "source": [
    "features with R coef > red line is significant enough to be included"
   ]
  },
  {
   "cell_type": "code",
   "execution_count": null,
   "id": "9e773c22-f3ed-45cf-89f6-025552fc20d3",
   "metadata": {},
   "outputs": [],
   "source": [
    "X_columns = sig_features\n",
    "X_columns"
   ]
  },
  {
   "cell_type": "code",
   "execution_count": null,
   "id": "b14fe01c",
   "metadata": {},
   "outputs": [],
   "source": [
    "fdf = (df[X_columns]).copy()\n",
    "for y_column in ['kd_dif','str_dif','td_dif','sub_dif']:\n",
    "    fdf[y_column] = df[y_column]\n",
    "\n",
    "fdf['fighter'] = df['fighter']\n",
    "fdf['opponent'] = df['opponent']\n",
    "fdf['result'] = df['result']\n",
    "fdf = (fdf.dropna()).reset_index(drop=True)\n",
    "fdf.head()"
   ]
  },
  {
   "cell_type": "code",
   "execution_count": null,
   "id": "9914f27c",
   "metadata": {},
   "outputs": [],
   "source": [
    "X = fdf[X_columns]\n",
    "y_columns = fdf.columns[fdf.columns.get_loc('kd_dif'):fdf.columns.get_loc('kd_dif')+4]\n",
    "y = fdf[y_columns]\n",
    "\n",
    "print('X = ' + str(X_columns))\n",
    "print('y = '+ str(y_columns))"
   ]
  },
  {
   "cell_type": "markdown",
   "id": "062fad55",
   "metadata": {
    "tags": []
   },
   "source": [
    "### <span style='color:green'> **[done]** </span> Splitting data to Training set/Test set/Validation:"
   ]
  },
  {
   "cell_type": "markdown",
   "id": "a147602a",
   "metadata": {},
   "source": [
    "### <span style='color:green'> **[done]** </span> Predicting Fight stats:"
   ]
  },
  {
   "cell_type": "markdown",
   "id": "c5b57fc2",
   "metadata": {},
   "source": [
    "#### <span style='color:green'> **[done]** </span> Train KNN Classifier:"
   ]
  },
  {
   "cell_type": "code",
   "execution_count": null,
   "id": "df5571ec",
   "metadata": {},
   "outputs": [],
   "source": [
    "data =fdf\n",
    "fdf = set_train_test(X_columns=X_columns, y_columns=y_columns, data=data, test_size=0.3, valid_size=0.1)\n",
    "knn_reg = set_knn_reg(X_columns=X_columns, y_columns=y_columns, data=data, n=5)\n",
    "fdf = set_predictions(model=knn_reg, data=data, X_columns=X_columns, y_columns=y_columns)\n",
    "knn_reg\n",
    "fdf.tail(3)"
   ]
  },
  {
   "cell_type": "markdown",
   "id": "aa9e21c2",
   "metadata": {},
   "source": [
    "## <span style='color:green'> **[done]** </span> Tune Model parameters:"
   ]
  },
  {
   "cell_type": "code",
   "execution_count": null,
   "id": "4e000c48",
   "metadata": {},
   "outputs": [],
   "source": [
    "traindf = pd.DataFrame(columns=['neighbors','rmse','kd_dif_rmse','str_dif_rmse','td_dif_rmse','sub_dif_rmse'])\n",
    "fdf = set_train_test(X_columns=X_columns, y_columns=y_columns, data=fdf, test_size=0.3, valid_size=0.1)\n",
    "\n",
    "for n in np.arange(1,50,5):\n",
    "    index = len(traindf)\n",
    "    traindf.loc[index, 'neighbors'] = n\n",
    "    \n",
    "    knn_reg = set_knn_reg(X_columns=X_columns, y_columns=y_columns, data=fdf, n=n)\n",
    "    fdf = set_predictions(model=knn_reg, data=fdf, X_columns=X_columns, y_columns=y_columns)\n",
    "    \n",
    "    for stat in y_columns:\n",
    "        y_val_act = fdf[stat][fdf.set=='validation']\n",
    "        y_val_pred = fdf[stat+'_pred'][fdf.set=='validation']\n",
    "        traindf.loc[index, stat+'_rmse'] = get_rmse(act=y_val_act, pred=y_val_pred)\n",
    "\n",
    "    traindf.loc[index,'rmse'] = 0.25 * (traindf.loc[index,'kd_dif_rmse'] + traindf.loc[index,'str_dif_rmse'] + traindf.loc[index,'td_dif_rmse'] + traindf.loc[index,'sub_dif_rmse'])\n",
    "    \n",
    "traindf"
   ]
  },
  {
   "cell_type": "code",
   "execution_count": null,
   "id": "1d265ba4",
   "metadata": {},
   "outputs": [],
   "source": [
    "min_rmse = np.min(traindf['rmse'])\n",
    "opt_n = np.min(traindf['neighbors'][traindf.rmse == min_rmse])\n",
    "\n",
    "for stat in ['kd','str','td','sub']:\n",
    "    g = sns.lineplot(data=traindf, y=stat + '_dif_rmse', x='neighbors', label=stat + '_dif RMSE%')\n",
    "    \n",
    "g = sns.lineplot(data=traindf, y='rmse', x='neighbors', label='RMSE%') \n",
    "g = sns.lineplot(y=traindf['rmse'], x= opt_n) \n",
    "\n",
    "g.set_title('RMSE% error vs model complexity', fontsize=15)\n",
    "g.set_xlabel('n_neigbors', fontsize=14)\n",
    "g.set_ylabel('RMSE%', fontsize=14)\n",
    "g.legend()\n",
    "\n",
    "print('Best Tuned Model(=min neighbors + min average_rmse error):')\n",
    "best_model = traindf[traindf.neighbors == opt_n]\n",
    "best_model"
   ]
  },
  {
   "cell_type": "markdown",
   "id": "602c7757",
   "metadata": {},
   "source": [
    "best model is average model for as many neighbors as possible, but it doesnt get a lot better after 6 neighbors,\n",
    "so im choosing simple n=6 model to work with"
   ]
  },
  {
   "cell_type": "code",
   "execution_count": null,
   "id": "67bcf79b",
   "metadata": {},
   "outputs": [],
   "source": [
    "n = np.min(best_model['neighbors'])\n",
    "knn_reg = set_knn_reg(X_columns=X_columns, y_columns=y_columns, data=fdf, n=n)\n",
    "fdf = set_predictions(model=knn_reg, data=fdf, X_columns=X_columns, y_columns=y_columns)\n",
    "knn_reg"
   ]
  },
  {
   "cell_type": "markdown",
   "id": "f47732a1",
   "metadata": {},
   "source": [
    "### <span style='color:green'> **[done]** </span> Model evaluation (=Test_set score):"
   ]
  },
  {
   "cell_type": "code",
   "execution_count": null,
   "id": "90db45e5",
   "metadata": {},
   "outputs": [],
   "source": [
    "testdf = pd.DataFrame(columns=['neighbors','rmse','kd_dif_rmse','str_dif_rmse','td_dif_rmse','sub_dif_rmse'])\n",
    "\n",
    "for stat in y_columns:\n",
    "    testdf.loc[index, 'neighbors'] = n\n",
    "    y_test_act = fdf[stat][fdf.set=='test']\n",
    "    y_test_pred = fdf[stat+'_pred'][fdf.set=='test']\n",
    "    testdf.loc[index, stat+'_rmse'] = get_rmse(act=y_test_act, pred=y_test_pred)\n",
    "\n",
    "testdf.loc[index,'rmse'] = 0.25 * (testdf.loc[index,'kd_dif_rmse'] + testdf.loc[index,'str_dif_rmse'] + testdf.loc[index,'td_dif_rmse'] + testdf.loc[index,'sub_dif_rmse'])\n",
    "    \n",
    "print('RMSE% for fight stat:')\n",
    "testdf"
   ]
  },
  {
   "cell_type": "markdown",
   "id": "999db0db",
   "metadata": {},
   "source": [
    "### <span style='color:green'> **[done]** </span> Opt Model view:"
   ]
  },
  {
   "cell_type": "code",
   "execution_count": null,
   "id": "9e21041a",
   "metadata": {},
   "outputs": [],
   "source": [
    "rows=1\n",
    "cols=4\n",
    "data = fdf[fdf.set == 'test']\n",
    "plt.figure(figsize = (12,15))\n",
    "fig, axs = plt.subplots(rows,cols,figsize = (20,3))\n",
    "fig.suptitle('Visualization of predicted(=orange) vs actual(=blue) Train_set values:')\n",
    "\n",
    "sns.kdeplot(ax=axs[0],x=data['kd_dif'],fill=True)\n",
    "sns.kdeplot(ax=axs[0],x=data['kd_dif_pred'],fill=True)\n",
    "\n",
    "sns.kdeplot(ax=axs[1],x=data['str_dif'],fill=True)\n",
    "sns.kdeplot(ax=axs[1],x=data['str_dif_pred'],fill=True)\n",
    "\n",
    "sns.kdeplot(ax=axs[2],x=data['td_dif'],fill=True)\n",
    "sns.kdeplot(ax=axs[2],x=data['td_dif_pred'],fill=True)\n",
    "\n",
    "sns.kdeplot(ax=axs[3],x=data['sub_dif'],fill=True)\n",
    "sns.kdeplot(ax=axs[3],x=data['sub_dif_pred'],fill=True)"
   ]
  },
  {
   "cell_type": "markdown",
   "id": "2bb7db04",
   "metadata": {},
   "source": [
    "we can see that model predicting the average stat produce the best model (= the features is not very strong predictors)"
   ]
  },
  {
   "cell_type": "markdown",
   "id": "03a63ac9",
   "metadata": {},
   "source": [
    "### <span style='color:green'> **[done]** </span> Predicting Fight outcome (=win/lose):"
   ]
  },
  {
   "cell_type": "code",
   "execution_count": null,
   "id": "d5804701",
   "metadata": {},
   "outputs": [],
   "source": [
    "X_columns = list(df.columns[18:len(df.columns)])\n",
    "fight_stats = ['kd_dif','str_dif','td_dif','sub_dif']\n",
    "X_columns.extend(fight_stats)\n",
    "y_columns = 'result'\n",
    "print(X_columns)\n",
    "print(y_columns)"
   ]
  },
  {
   "cell_type": "code",
   "execution_count": null,
   "id": "0f283acb",
   "metadata": {},
   "outputs": [],
   "source": [
    "pdf = (df[X_columns]).copy()\n",
    "pdf[y_columns] = df[y_columns]\n",
    "pdf = (pdf.dropna()).reset_index(drop=True)\n",
    "pdf.tail(3)"
   ]
  },
  {
   "cell_type": "markdown",
   "id": "b23632a1",
   "metadata": {},
   "source": [
    "## <span style='color:green'> **[done]** </span> Train Random Forest model:"
   ]
  },
  {
   "cell_type": "code",
   "execution_count": null,
   "id": "e2972d03",
   "metadata": {},
   "outputs": [],
   "source": [
    "pdf = set_train_test(X_columns=X_columns, y_columns='result', data=pdf, test_size=0.3, valid_size=0.1)\n",
    "forest_clf = set_forest_clf(X_columns=X_columns, y_columns='result', data=pdf,tree_depth=2, n_estimators=100 )\n",
    "pdf = set_predictions(model=forest_clf, data=pdf, X_columns=X_columns, y_columns=[y_columns])\n",
    "print('Score: ' + str(get_accuracy(act=pdf['result'], pred=pdf['result_pred'])))\n",
    "forest_clf"
   ]
  },
  {
   "cell_type": "markdown",
   "id": "956a5294",
   "metadata": {},
   "source": [
    "## <span style='color:green'> **[done]** </span> Tune model parameters:"
   ]
  },
  {
   "cell_type": "code",
   "execution_count": null,
   "id": "bf56a19b",
   "metadata": {},
   "outputs": [],
   "source": [
    "traindf = pd.DataFrame(columns=['n_trees','accuracy'])\n",
    "pdf = set_train_test(X_columns=X_columns, y_columns=y_columns, data=pdf, test_size=0.3, valid_size=0.2)\n",
    "\n",
    "for n in range(1,200,1):\n",
    "\n",
    "    index = len(traindf)\n",
    "    traindf.loc[index, 'n_trees'] = n\n",
    "    \n",
    "    forest_clf = set_forest_clf(X_columns=X_columns, y_columns=y_columns, data=pdf, n_estimators=n, tree_depth=len(X_columns))\n",
    "    pdf = set_predictions(model=forest_clf, data=pdf, X_columns=X_columns, y_columns=[y_columns])\n",
    "    \n",
    "    y_val_act = pdf['result'][pdf.set=='validation']\n",
    "    y_val_pred = pdf['result_pred'][pdf.set=='validation']\n",
    "\n",
    "    traindf.loc[index, 'accuracy'] = get_accuracy(act=y_val_act, pred=y_val_pred)\n",
    "    \n",
    "traindf"
   ]
  },
  {
   "cell_type": "code",
   "execution_count": null,
   "id": "83e3bce6",
   "metadata": {},
   "outputs": [],
   "source": [
    "print('Best Parameters:')\n",
    "best_acc = traindf.accuracy.max()\n",
    "t = traindf[traindf.accuracy == best_acc]\n",
    "t = t[t.n_trees == t.n_trees.min()].reset_index(drop=True)\n",
    "sns.lineplot(y='accuracy', x='n_trees', data=traindf)\n",
    "t.head()"
   ]
  },
  {
   "cell_type": "code",
   "execution_count": null,
   "id": "afc59cf3",
   "metadata": {},
   "outputs": [],
   "source": [
    "n_trees = np.min(t.n_trees)\n",
    "pdf = set_train_test(X_columns=X_columns, y_columns='result', data=pdf, test_size=0.3, valid_size=0.1)\n",
    "forest_clf = set_forest_clf(X_columns=X_columns, y_columns='result', data=pdf, n_estimators=n_trees, tree_depth=len(X_columns))\n",
    "pdf = set_predictions(model=forest_clf, data=pdf, X_columns=X_columns, y_columns=[y_columns])\n",
    "print('Accuracy: ' + str(get_accuracy(act=pdf['result'][pdf.set=='test'], pred=pdf['result_pred'][pdf.set=='test'])))\n",
    "forest_clf"
   ]
  },
  {
   "cell_type": "code",
   "execution_count": null,
   "id": "013d0a50",
   "metadata": {},
   "outputs": [],
   "source": [
    "rows=2\n",
    "cols=len(X_columns)\n",
    "data = pdf[pdf.set == 'test']\n",
    "fig, axs = plt.subplots(rows,cols,figsize = (21,4))\n",
    "fig.suptitle('Visualization of loser(=orange) vs winner(=blue) Test_set distribution: row[0]:actual, row[1]:predicted')\n",
    "\n",
    "for feature,col in zip(X_columns,range(0,cols)):\n",
    "    sns.kdeplot(ax=axs[0,col],x=data[feature][data.result == 'win'], fill=True)\n",
    "    sns.kdeplot(ax=axs[0,col],x=data[feature][data.result == 'lose'], fill=True)\n",
    "    sns.kdeplot(ax=axs[1,col],x=data[feature][data.result_pred == 'win'], fill=True)\n",
    "    sns.kdeplot(ax=axs[1,col],x=data[feature][data.result_pred == 'lose'], fill=True)\n"
   ]
  },
  {
   "cell_type": "markdown",
   "id": "0416bf7f",
   "metadata": {},
   "source": [
    "## <span style='color:green'> **[done]** </span> Model evaluation (=Test_set score):"
   ]
  },
  {
   "cell_type": "code",
   "execution_count": null,
   "id": "ee9191c0",
   "metadata": {},
   "outputs": [],
   "source": [
    "from sklearn.metrics import accuracy_score\n",
    "from sklearn.metrics import confusion_matrix, ConfusionMatrixDisplay\n",
    "import matplotlib.pyplot as plt\n",
    "\n",
    "y_test_act = pdf['result'][pdf.set=='test']\n",
    "y_test_pred = pdf['result_pred'][pdf.set=='test']\n",
    "\n",
    "print('Accuracy = %.6f' % accuracy_score(y_test_act,y_test_pred))\n",
    "ConfusionMatrixDisplay.from_predictions(y_test_act,y_test_pred)  "
   ]
  },
  {
   "cell_type": "code",
   "execution_count": null,
   "id": "75ab1900-e599-45bb-9578-21c4e4c043f8",
   "metadata": {},
   "outputs": [],
   "source": [
    "pdf.to_csv('../data/ufc_data_trained.csv')"
   ]
  },
  {
   "cell_type": "code",
   "execution_count": null,
   "id": "78ab78cb-daa8-4629-80e0-64ac5e431f04",
   "metadata": {},
   "outputs": [],
   "source": []
  }
 ],
 "metadata": {
  "kernelspec": {
   "display_name": "Python 3",
   "language": "python",
   "name": "python3"
  },
  "language_info": {
   "codemirror_mode": {
    "name": "ipython",
    "version": 3
   },
   "file_extension": ".py",
   "mimetype": "text/x-python",
   "name": "python",
   "nbconvert_exporter": "python",
   "pygments_lexer": "ipython3",
   "version": "3.7.12"
  },
  "toc-autonumbering": true,
  "toc-showcode": false,
  "toc-showmarkdowntxt": false
 },
 "nbformat": 4,
 "nbformat_minor": 5
}
