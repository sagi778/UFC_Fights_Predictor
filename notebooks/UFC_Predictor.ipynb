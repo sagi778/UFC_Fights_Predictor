{
 "cells": [
  {
   "cell_type": "code",
   "execution_count": 25,
   "id": "5ef87bd8",
   "metadata": {
    "tags": []
   },
   "outputs": [],
   "source": [
    "import pandas as pd\n",
    "from sklearn.model_selection import train_test_split\n",
    "from sklearn import metrics\n",
    "from sklearn.metrics import mean_squared_error\n",
    "import math\n",
    "from statistics import mean\n",
    "import datetime as dt\n",
    "import numpy as np\n",
    "from bokeh.plotting import show\n",
    "from sklearn.linear_model import LinearRegression\n",
    "from sklearn.linear_model import LogisticRegression\n",
    "import matplotlib.pyplot as plt\n",
    "from sklearn import tree \n",
    "\n",
    "import seaborn as sns\n",
    "sns.set_style(\"ticks\")\n",
    "sns.set_context(\"notebook\", rc={\"lines.linewidth\": 2})\n",
    "\n",
    "import statistics as stat\n",
    "import random\n",
    "import matplotlib.pyplot as plt\n",
    "from sklearn import tree \n",
    "from sklearn.tree import DecisionTreeClassifier\n",
    "from sklearn.metrics import accuracy_score\n",
    "from sklearn.metrics import confusion_matrix\n",
    "from sklearn.metrics import classification_report\n",
    "from sklearn.metrics import plot_confusion_matrix\n",
    "\n",
    "pd.set_option(\"display.max_columns\", None)"
   ]
  },
  {
   "cell_type": "markdown",
   "id": "78ad41cc",
   "metadata": {
    "tags": []
   },
   "source": [
    "## <span style='color:green'> **[done]** </span> Load fighters data_frame:"
   ]
  },
  {
   "cell_type": "code",
   "execution_count": 26,
   "id": "65a41973-3033-4b59-b2cb-bb4193ca4cfd",
   "metadata": {},
   "outputs": [
    {
     "name": "stdout",
     "output_type": "stream",
     "text": [
      "Data Frame loaded: (11198, 17)\n"
     ]
    },
    {
     "data": {
      "text/html": [
       "<div>\n",
       "<style scoped>\n",
       "    .dataframe tbody tr th:only-of-type {\n",
       "        vertical-align: middle;\n",
       "    }\n",
       "\n",
       "    .dataframe tbody tr th {\n",
       "        vertical-align: top;\n",
       "    }\n",
       "\n",
       "    .dataframe thead th {\n",
       "        text-align: right;\n",
       "    }\n",
       "</style>\n",
       "<table border=\"1\" class=\"dataframe\">\n",
       "  <thead>\n",
       "    <tr style=\"text-align: right;\">\n",
       "      <th></th>\n",
       "      <th>name</th>\n",
       "      <th>wins</th>\n",
       "      <th>losses</th>\n",
       "      <th>draws</th>\n",
       "      <th>height</th>\n",
       "      <th>weight</th>\n",
       "      <th>reach</th>\n",
       "      <th>stance</th>\n",
       "      <th>age</th>\n",
       "      <th>slpm</th>\n",
       "      <th>str. acc.</th>\n",
       "      <th>sapm</th>\n",
       "      <th>str. def</th>\n",
       "      <th>td avg.</th>\n",
       "      <th>td acc.</th>\n",
       "      <th>td def.</th>\n",
       "      <th>sub. avg.</th>\n",
       "    </tr>\n",
       "  </thead>\n",
       "  <tbody>\n",
       "    <tr>\n",
       "      <th>11195</th>\n",
       "      <td>Carlos Zevallos</td>\n",
       "      <td>3</td>\n",
       "      <td>0.0</td>\n",
       "      <td>-0</td>\n",
       "      <td>182.88</td>\n",
       "      <td>92.25</td>\n",
       "      <td>187.37</td>\n",
       "      <td>Orthodox</td>\n",
       "      <td>37.31</td>\n",
       "      <td>4.36</td>\n",
       "      <td>0.65</td>\n",
       "      <td>2.28</td>\n",
       "      <td>0.68</td>\n",
       "      <td>0.0</td>\n",
       "      <td>0.0</td>\n",
       "      <td>1.00</td>\n",
       "      <td>0.0</td>\n",
       "    </tr>\n",
       "    <tr>\n",
       "      <th>11196</th>\n",
       "      <td>Zach Zane</td>\n",
       "      <td>10</td>\n",
       "      <td>7.0</td>\n",
       "      <td>0</td>\n",
       "      <td>170.18</td>\n",
       "      <td>65.25</td>\n",
       "      <td>175.26</td>\n",
       "      <td>Southpaw</td>\n",
       "      <td>33.00</td>\n",
       "      <td>0.87</td>\n",
       "      <td>0.56</td>\n",
       "      <td>6.67</td>\n",
       "      <td>0.20</td>\n",
       "      <td>0.0</td>\n",
       "      <td>0.0</td>\n",
       "      <td>0.26</td>\n",
       "      <td>0.0</td>\n",
       "    </tr>\n",
       "    <tr>\n",
       "      <th>11197</th>\n",
       "      <td>Roger Zapata</td>\n",
       "      <td>4</td>\n",
       "      <td>0.0</td>\n",
       "      <td>-0</td>\n",
       "      <td>180.34</td>\n",
       "      <td>76.50</td>\n",
       "      <td>184.77</td>\n",
       "      <td>Southpaw</td>\n",
       "      <td>36.00</td>\n",
       "      <td>2.60</td>\n",
       "      <td>0.51</td>\n",
       "      <td>2.13</td>\n",
       "      <td>0.36</td>\n",
       "      <td>0.0</td>\n",
       "      <td>0.0</td>\n",
       "      <td>0.81</td>\n",
       "      <td>1.4</td>\n",
       "    </tr>\n",
       "  </tbody>\n",
       "</table>\n",
       "</div>"
      ],
      "text/plain": [
       "                  name  wins  losses draws  height  weight   reach    stance  \\\n",
       "11195  Carlos Zevallos     3     0.0    -0  182.88   92.25  187.37  Orthodox   \n",
       "11196        Zach Zane    10     7.0     0  170.18   65.25  175.26  Southpaw   \n",
       "11197     Roger Zapata     4     0.0    -0  180.34   76.50  184.77  Southpaw   \n",
       "\n",
       "         age  slpm  str. acc.  sapm  str. def  td avg.  td acc.  td def.  \\\n",
       "11195  37.31  4.36       0.65  2.28      0.68      0.0      0.0     1.00   \n",
       "11196  33.00  0.87       0.56  6.67      0.20      0.0      0.0     0.26   \n",
       "11197  36.00  2.60       0.51  2.13      0.36      0.0      0.0     0.81   \n",
       "\n",
       "       sub. avg.  \n",
       "11195        0.0  \n",
       "11196        0.0  \n",
       "11197        1.4  "
      ]
     },
     "execution_count": 26,
     "metadata": {},
     "output_type": "execute_result"
    }
   ],
   "source": [
    "loc = 'C:/Users/sagic/[2] UFC_Predictor/data/'\n",
    "file = 'ufc_fighters_stats_processed.csv'\n",
    "stats = pd.read_csv(loc+file)\n",
    "stats = stats[stats.columns[1:]]\n",
    "print('Data Frame loaded: '+str(stats.shape))\n",
    "stats.tail(3)"
   ]
  },
  {
   "cell_type": "code",
   "execution_count": 134,
   "id": "f03adb1d-3cb4-42ad-8ffa-c9e8abd3bd99",
   "metadata": {},
   "outputs": [
    {
     "data": {
      "text/html": [
       "<div>\n",
       "<style scoped>\n",
       "    .dataframe tbody tr th:only-of-type {\n",
       "        vertical-align: middle;\n",
       "    }\n",
       "\n",
       "    .dataframe tbody tr th {\n",
       "        vertical-align: top;\n",
       "    }\n",
       "\n",
       "    .dataframe thead th {\n",
       "        text-align: right;\n",
       "    }\n",
       "</style>\n",
       "<table border=\"1\" class=\"dataframe\">\n",
       "  <thead>\n",
       "    <tr style=\"text-align: right;\">\n",
       "      <th></th>\n",
       "      <th>Alex Pereira</th>\n",
       "    </tr>\n",
       "  </thead>\n",
       "  <tbody>\n",
       "    <tr>\n",
       "      <th>wins</th>\n",
       "      <td>6</td>\n",
       "    </tr>\n",
       "    <tr>\n",
       "      <th>losses</th>\n",
       "      <td>0.0</td>\n",
       "    </tr>\n",
       "    <tr>\n",
       "      <th>draws</th>\n",
       "      <td>-0</td>\n",
       "    </tr>\n",
       "    <tr>\n",
       "      <th>height</th>\n",
       "      <td>193.04</td>\n",
       "    </tr>\n",
       "    <tr>\n",
       "      <th>weight</th>\n",
       "      <td>83.25</td>\n",
       "    </tr>\n",
       "    <tr>\n",
       "      <th>reach</th>\n",
       "      <td>200.66</td>\n",
       "    </tr>\n",
       "    <tr>\n",
       "      <th>stance</th>\n",
       "      <td>Orthodox</td>\n",
       "    </tr>\n",
       "    <tr>\n",
       "      <th>age</th>\n",
       "      <td>35.0</td>\n",
       "    </tr>\n",
       "    <tr>\n",
       "      <th>slpm</th>\n",
       "      <td>6.29</td>\n",
       "    </tr>\n",
       "    <tr>\n",
       "      <th>str. acc.</th>\n",
       "      <td>0.6</td>\n",
       "    </tr>\n",
       "    <tr>\n",
       "      <th>sapm</th>\n",
       "      <td>3.36</td>\n",
       "    </tr>\n",
       "    <tr>\n",
       "      <th>str. def</th>\n",
       "      <td>0.58</td>\n",
       "    </tr>\n",
       "    <tr>\n",
       "      <th>td avg.</th>\n",
       "      <td>0.0</td>\n",
       "    </tr>\n",
       "    <tr>\n",
       "      <th>td acc.</th>\n",
       "      <td>0.0</td>\n",
       "    </tr>\n",
       "    <tr>\n",
       "      <th>td def.</th>\n",
       "      <td>0.73</td>\n",
       "    </tr>\n",
       "    <tr>\n",
       "      <th>sub. avg.</th>\n",
       "      <td>0.0</td>\n",
       "    </tr>\n",
       "  </tbody>\n",
       "</table>\n",
       "</div>"
      ],
      "text/plain": [
       "          Alex Pereira\n",
       "wins                 6\n",
       "losses             0.0\n",
       "draws               -0\n",
       "height          193.04\n",
       "weight           83.25\n",
       "reach           200.66\n",
       "stance        Orthodox\n",
       "age               35.0\n",
       "slpm              6.29\n",
       "str. acc.          0.6\n",
       "sapm              3.36\n",
       "str. def          0.58\n",
       "td avg.            0.0\n",
       "td acc.            0.0\n",
       "td def.           0.73\n",
       "sub. avg.          0.0"
      ]
     },
     "execution_count": 134,
     "metadata": {},
     "output_type": "execute_result"
    }
   ],
   "source": [
    "data=stats\n",
    "data1 = pd.DataFrame((data[data.name == fighter]).reset_index(drop=True).loc[0])[1:].rename(columns={0:fighter})\n",
    "data1"
   ]
  },
  {
   "cell_type": "code",
   "execution_count": 135,
   "id": "3912186d-5618-441c-a9b8-653f43ac6061",
   "metadata": {},
   "outputs": [],
   "source": [
    "def get_fighters_stats(fighter, opponent, data=stats):\n",
    "    import pandas as pd\n",
    "    data1 = pd.DataFrame((data[data.name == fighter]).reset_index(drop=True).loc[0])[1:].rename(columns={0:fighter})\n",
    "    data2 = pd.DataFrame((data[data.name == opponent]).reset_index(drop=True).loc[0])[1:].rename(columns={0:opponent})\n",
    "    return pd.concat([data1,data2], axis=1)"
   ]
  },
  {
   "cell_type": "markdown",
   "id": "38616a68-72f4-452d-a10a-818e6caca310",
   "metadata": {
    "tags": []
   },
   "source": [
    "## <span style='color:green'> **[done]** </span> Prepare main data_frame:"
   ]
  },
  {
   "cell_type": "code",
   "execution_count": 27,
   "id": "c4919edd",
   "metadata": {
    "scrolled": true
   },
   "outputs": [
    {
     "name": "stdout",
     "output_type": "stream",
     "text": [
      "Data Frame loaded: (6731, 22)\n"
     ]
    },
    {
     "data": {
      "text/html": [
       "<div>\n",
       "<style scoped>\n",
       "    .dataframe tbody tr th:only-of-type {\n",
       "        vertical-align: middle;\n",
       "    }\n",
       "\n",
       "    .dataframe tbody tr th {\n",
       "        vertical-align: top;\n",
       "    }\n",
       "\n",
       "    .dataframe thead th {\n",
       "        text-align: right;\n",
       "    }\n",
       "</style>\n",
       "<table border=\"1\" class=\"dataframe\">\n",
       "  <thead>\n",
       "    <tr style=\"text-align: right;\">\n",
       "      <th></th>\n",
       "      <th>result</th>\n",
       "      <th>fighter</th>\n",
       "      <th>opponent</th>\n",
       "      <th>date</th>\n",
       "      <th>weight class</th>\n",
       "      <th>method</th>\n",
       "      <th>kd_dif</th>\n",
       "      <th>str_dif</th>\n",
       "      <th>td_dif</th>\n",
       "      <th>sub_dif</th>\n",
       "      <th>td avg._dif</th>\n",
       "      <th>td acc._dif</th>\n",
       "      <th>td def._dif</th>\n",
       "      <th>sub. avg._dif</th>\n",
       "      <th>slpm_dif</th>\n",
       "      <th>str. acc._dif</th>\n",
       "      <th>sapm_dif</th>\n",
       "      <th>str. def_dif</th>\n",
       "      <th>stance_win_ratio</th>\n",
       "      <th>win_perc_dif</th>\n",
       "      <th>win_strk_dif</th>\n",
       "      <th>lose_strk_dif</th>\n",
       "    </tr>\n",
       "  </thead>\n",
       "  <tbody>\n",
       "    <tr>\n",
       "      <th>6728</th>\n",
       "      <td>win</td>\n",
       "      <td>Aleksandra Albu</td>\n",
       "      <td>Kailin Curran</td>\n",
       "      <td>2017-07-29</td>\n",
       "      <td>Women's Strawweight</td>\n",
       "      <td>U-DEC:</td>\n",
       "      <td>0.011068</td>\n",
       "      <td>-0.152692</td>\n",
       "      <td>1.561141</td>\n",
       "      <td>0.025311</td>\n",
       "      <td>0.143460</td>\n",
       "      <td>-0.226539</td>\n",
       "      <td>0.513489</td>\n",
       "      <td>-0.183840</td>\n",
       "      <td>0.598081</td>\n",
       "      <td>0.314077</td>\n",
       "      <td>0.492188</td>\n",
       "      <td>-1.248810</td>\n",
       "      <td>0.080165</td>\n",
       "      <td>2.035072</td>\n",
       "      <td>0.573609</td>\n",
       "      <td>-2.148188</td>\n",
       "    </tr>\n",
       "    <tr>\n",
       "      <th>6729</th>\n",
       "      <td>win</td>\n",
       "      <td>Jarred Brooks</td>\n",
       "      <td>Eric Shelton</td>\n",
       "      <td>2017-07-29</td>\n",
       "      <td>Flyweight</td>\n",
       "      <td>S-DEC:</td>\n",
       "      <td>0.011068</td>\n",
       "      <td>-0.152692</td>\n",
       "      <td>1.561141</td>\n",
       "      <td>0.025311</td>\n",
       "      <td>0.946272</td>\n",
       "      <td>0.228144</td>\n",
       "      <td>0.748089</td>\n",
       "      <td>0.388205</td>\n",
       "      <td>-0.281189</td>\n",
       "      <td>0.314077</td>\n",
       "      <td>-0.136626</td>\n",
       "      <td>-0.071265</td>\n",
       "      <td>1.068316</td>\n",
       "      <td>-0.009111</td>\n",
       "      <td>0.001615</td>\n",
       "      <td>-1.070893</td>\n",
       "    </tr>\n",
       "    <tr>\n",
       "      <th>6730</th>\n",
       "      <td>lose</td>\n",
       "      <td>Joshua Burkman</td>\n",
       "      <td>Drew Dober</td>\n",
       "      <td>2017-07-29</td>\n",
       "      <td>Lightweight</td>\n",
       "      <td>KO/TKO:Punch</td>\n",
       "      <td>-1.343474</td>\n",
       "      <td>-0.152692</td>\n",
       "      <td>-0.018065</td>\n",
       "      <td>0.025311</td>\n",
       "      <td>0.985298</td>\n",
       "      <td>0.682827</td>\n",
       "      <td>0.580517</td>\n",
       "      <td>0.197523</td>\n",
       "      <td>-1.122504</td>\n",
       "      <td>0.232995</td>\n",
       "      <td>-0.631131</td>\n",
       "      <td>0.012846</td>\n",
       "      <td>-1.769806</td>\n",
       "      <td>-0.136872</td>\n",
       "      <td>0.001615</td>\n",
       "      <td>2.160992</td>\n",
       "    </tr>\n",
       "  </tbody>\n",
       "</table>\n",
       "</div>"
      ],
      "text/plain": [
       "     result          fighter       opponent       date         weight class  \\\n",
       "6728    win  Aleksandra Albu  Kailin Curran 2017-07-29  Women's Strawweight   \n",
       "6729    win    Jarred Brooks   Eric Shelton 2017-07-29            Flyweight   \n",
       "6730   lose   Joshua Burkman     Drew Dober 2017-07-29          Lightweight   \n",
       "\n",
       "            method    kd_dif   str_dif    td_dif   sub_dif  td avg._dif  \\\n",
       "6728        U-DEC:  0.011068 -0.152692  1.561141  0.025311     0.143460   \n",
       "6729        S-DEC:  0.011068 -0.152692  1.561141  0.025311     0.946272   \n",
       "6730  KO/TKO:Punch -1.343474 -0.152692 -0.018065  0.025311     0.985298   \n",
       "\n",
       "      td acc._dif  td def._dif  sub. avg._dif  slpm_dif  str. acc._dif  \\\n",
       "6728    -0.226539     0.513489      -0.183840  0.598081       0.314077   \n",
       "6729     0.228144     0.748089       0.388205 -0.281189       0.314077   \n",
       "6730     0.682827     0.580517       0.197523 -1.122504       0.232995   \n",
       "\n",
       "      sapm_dif  str. def_dif  stance_win_ratio  win_perc_dif  win_strk_dif  \\\n",
       "6728  0.492188     -1.248810          0.080165      2.035072      0.573609   \n",
       "6729 -0.136626     -0.071265          1.068316     -0.009111      0.001615   \n",
       "6730 -0.631131      0.012846         -1.769806     -0.136872      0.001615   \n",
       "\n",
       "      lose_strk_dif  \n",
       "6728      -2.148188  \n",
       "6729      -1.070893  \n",
       "6730       2.160992  "
      ]
     },
     "execution_count": 27,
     "metadata": {},
     "output_type": "execute_result"
    }
   ],
   "source": [
    "loc = \"C:/Users/sagic/[2] UFC_Predictor/data/\"\n",
    "file = 'ufc_data_features.csv'\n",
    "df = pd.read_csv(loc+file)\n",
    "df = df[df.columns[1:]]\n",
    "df.date = pd.to_datetime(df.date)\n",
    "print('Data Frame loaded: '+str(df.shape))\n",
    "df.tail(3)"
   ]
  },
  {
   "cell_type": "markdown",
   "id": "a3211291-1c98-490d-b15a-3f4601b35048",
   "metadata": {
    "tags": []
   },
   "source": [
    "#### <span style='color:green'> **[done]** </span> Clean Outliers:"
   ]
  },
  {
   "cell_type": "code",
   "execution_count": 4,
   "id": "13c31a39",
   "metadata": {},
   "outputs": [
    {
     "name": "stdout",
     "output_type": "stream",
     "text": [
      "Rows deleted: 306\n"
     ]
    }
   ],
   "source": [
    "original_size = len(df)\n",
    "X = df.columns[10:len(df.columns)-1]\n",
    "\n",
    "for feature in X:\n",
    "    df = df[df[feature] <= 3]\n",
    "    \n",
    "print('Rows deleted: %d' %(original_size-len(df)))"
   ]
  },
  {
   "cell_type": "code",
   "execution_count": 28,
   "id": "297f9a6c",
   "metadata": {},
   "outputs": [
    {
     "name": "stdout",
     "output_type": "stream",
     "text": [
      "Columns sorted:\n"
     ]
    },
    {
     "data": {
      "text/html": [
       "<div>\n",
       "<style scoped>\n",
       "    .dataframe tbody tr th:only-of-type {\n",
       "        vertical-align: middle;\n",
       "    }\n",
       "\n",
       "    .dataframe tbody tr th {\n",
       "        vertical-align: top;\n",
       "    }\n",
       "\n",
       "    .dataframe thead th {\n",
       "        text-align: right;\n",
       "    }\n",
       "</style>\n",
       "<table border=\"1\" class=\"dataframe\">\n",
       "  <thead>\n",
       "    <tr style=\"text-align: right;\">\n",
       "      <th></th>\n",
       "      <th>date</th>\n",
       "      <th>result</th>\n",
       "      <th>fighter</th>\n",
       "      <th>opponent</th>\n",
       "      <th>win_perc_dif</th>\n",
       "      <th>win_strk_dif</th>\n",
       "      <th>lose_strk_dif</th>\n",
       "      <th>td avg._dif</th>\n",
       "      <th>sub. avg._dif</th>\n",
       "      <th>sapm_dif</th>\n",
       "      <th>slpm_dif</th>\n",
       "      <th>kd_dif</th>\n",
       "      <th>str_dif</th>\n",
       "      <th>td_dif</th>\n",
       "      <th>sub_dif</th>\n",
       "    </tr>\n",
       "  </thead>\n",
       "  <tbody>\n",
       "    <tr>\n",
       "      <th>6728</th>\n",
       "      <td>2017-07-29</td>\n",
       "      <td>win</td>\n",
       "      <td>Aleksandra Albu</td>\n",
       "      <td>Kailin Curran</td>\n",
       "      <td>2.035072</td>\n",
       "      <td>0.573609</td>\n",
       "      <td>-2.148188</td>\n",
       "      <td>0.143460</td>\n",
       "      <td>-0.183840</td>\n",
       "      <td>0.492188</td>\n",
       "      <td>0.598081</td>\n",
       "      <td>0.011068</td>\n",
       "      <td>-0.152692</td>\n",
       "      <td>1.561141</td>\n",
       "      <td>0.025311</td>\n",
       "    </tr>\n",
       "    <tr>\n",
       "      <th>6729</th>\n",
       "      <td>2017-07-29</td>\n",
       "      <td>win</td>\n",
       "      <td>Jarred Brooks</td>\n",
       "      <td>Eric Shelton</td>\n",
       "      <td>-0.009111</td>\n",
       "      <td>0.001615</td>\n",
       "      <td>-1.070893</td>\n",
       "      <td>0.946272</td>\n",
       "      <td>0.388205</td>\n",
       "      <td>-0.136626</td>\n",
       "      <td>-0.281189</td>\n",
       "      <td>0.011068</td>\n",
       "      <td>-0.152692</td>\n",
       "      <td>1.561141</td>\n",
       "      <td>0.025311</td>\n",
       "    </tr>\n",
       "    <tr>\n",
       "      <th>6730</th>\n",
       "      <td>2017-07-29</td>\n",
       "      <td>lose</td>\n",
       "      <td>Joshua Burkman</td>\n",
       "      <td>Drew Dober</td>\n",
       "      <td>-0.136872</td>\n",
       "      <td>0.001615</td>\n",
       "      <td>2.160992</td>\n",
       "      <td>0.985298</td>\n",
       "      <td>0.197523</td>\n",
       "      <td>-0.631131</td>\n",
       "      <td>-1.122504</td>\n",
       "      <td>-1.343474</td>\n",
       "      <td>-0.152692</td>\n",
       "      <td>-0.018065</td>\n",
       "      <td>0.025311</td>\n",
       "    </tr>\n",
       "  </tbody>\n",
       "</table>\n",
       "</div>"
      ],
      "text/plain": [
       "           date result          fighter       opponent  win_perc_dif  \\\n",
       "6728 2017-07-29    win  Aleksandra Albu  Kailin Curran      2.035072   \n",
       "6729 2017-07-29    win    Jarred Brooks   Eric Shelton     -0.009111   \n",
       "6730 2017-07-29   lose   Joshua Burkman     Drew Dober     -0.136872   \n",
       "\n",
       "      win_strk_dif  lose_strk_dif  td avg._dif  sub. avg._dif  sapm_dif  \\\n",
       "6728      0.573609      -2.148188     0.143460      -0.183840  0.492188   \n",
       "6729      0.001615      -1.070893     0.946272       0.388205 -0.136626   \n",
       "6730      0.001615       2.160992     0.985298       0.197523 -0.631131   \n",
       "\n",
       "      slpm_dif    kd_dif   str_dif    td_dif   sub_dif  \n",
       "6728  0.598081  0.011068 -0.152692  1.561141  0.025311  \n",
       "6729 -0.281189  0.011068 -0.152692  1.561141  0.025311  \n",
       "6730 -1.122504 -1.343474 -0.152692 -0.018065  0.025311  "
      ]
     },
     "execution_count": 28,
     "metadata": {},
     "output_type": "execute_result"
    }
   ],
   "source": [
    "df = (df[['date','result','fighter','opponent','win_perc_dif','win_strk_dif','lose_strk_dif','td avg._dif','sub. avg._dif','sapm_dif','slpm_dif','kd_dif','str_dif','td_dif','sub_dif']]).copy()\n",
    "df = df.dropna().reset_index(drop=True)\n",
    "print('Columns sorted:')\n",
    "df.tail(3)"
   ]
  },
  {
   "cell_type": "code",
   "execution_count": 29,
   "id": "9a922e74-4c85-4e66-a5cd-942f936f80e3",
   "metadata": {},
   "outputs": [],
   "source": [
    "X_columns = X\n",
    "y = ['kd_dif','str_dif','td_dif','sub_dif']"
   ]
  },
  {
   "cell_type": "markdown",
   "id": "fd0cc5e2",
   "metadata": {
    "tags": []
   },
   "source": [
    "# <span style='color:green'> **[done]** </span> Predicting Fight statistics Func:"
   ]
  },
  {
   "cell_type": "code",
   "execution_count": 30,
   "id": "ff846751",
   "metadata": {},
   "outputs": [],
   "source": [
    "def set_train_test(X_columns=X_columns, y_columns=y, data=df, test_size=0.3, valid_size=0.1):\n",
    "\n",
    "    data.insert(0, 'set', None) # inserd 'set' column to position 0\n",
    "    \n",
    "    for i in range(len(df)):\n",
    "        \n",
    "        if data.loc[i,'result'] == None:\n",
    "            data.loc[i,'set'] = 'new'\n",
    "        \n",
    "        elif random.random() < test_size:\n",
    "            data.loc[i,'set'] = 'test'\n",
    "        else:\n",
    "            if random.random() < valid_size:\n",
    "                data.loc[i,'set'] = 'validation'\n",
    "            else:\n",
    "                data.loc[i,'set'] = 'train' \n",
    "\n",
    "    X_train = data[X_columns][data.set=='train'] \n",
    "    X_test = data[X_columns][data.set=='test']\n",
    "    y_train = data[y_columns][data.set=='train']\n",
    "    y_test = data[y_columns][data.set=='test']\n",
    "    X_val = data[X_columns][data.set=='validation']\n",
    "    y_val = data[y_columns][data.set=='validation']\n",
    "\n",
    "    print('Data split: Data=%s, train_set=%s, validation_set=%s, test_set=%s'  %(str(data.shape), str(X_train.shape), str(X_val.shape), str(X_test.shape)))\n",
    "    return data"
   ]
  },
  {
   "cell_type": "code",
   "execution_count": 31,
   "id": "d9cb76b9",
   "metadata": {},
   "outputs": [],
   "source": [
    "def set_knn_reg(X_columns=X_columns, y_columns=y, data=df, n=200):\n",
    "    \n",
    "    from sklearn.neighbors import KNeighborsRegressor\n",
    "    \n",
    "    knn_reg=KNeighborsRegressor(n_neighbors=n, algorithm='ball_tree')\n",
    "    X_train = data[X_columns][data.set=='train']\n",
    "    y_train = data[y_columns][data.set=='train']\n",
    "    knn_reg.fit(X_train,y_train)\n",
    "    return knn_reg"
   ]
  },
  {
   "cell_type": "code",
   "execution_count": 32,
   "id": "d5660dac",
   "metadata": {},
   "outputs": [],
   "source": [
    "def set_predictions(model, data=df, X_columns=X_columns, y_columns=y):\n",
    "    \n",
    "    for column in y_columns:\n",
    "        data[column + '_pred'] = None\n",
    "        \n",
    "    for column in y_columns:\n",
    "        data[column + '_pred'] = model.predict(data[X_columns])    \n",
    "    \n",
    "    return data"
   ]
  },
  {
   "cell_type": "code",
   "execution_count": 33,
   "id": "4187006c",
   "metadata": {},
   "outputs": [],
   "source": [
    "def get_rmse(act, pred):\n",
    "    \n",
    "    from sklearn.metrics import mean_squared_error\n",
    "    import math\n",
    "    return round(math.sqrt(mean_squared_error(act, pred))/(np.max(act) - np.min(act)),4)"
   ]
  },
  {
   "cell_type": "markdown",
   "id": "8983b2e1",
   "metadata": {
    "tags": []
   },
   "source": [
    "# <span style='color:green'> **[done]** </span> Predicting Final Outcome Func"
   ]
  },
  {
   "cell_type": "code",
   "execution_count": 34,
   "id": "d9e9ff40",
   "metadata": {},
   "outputs": [],
   "source": [
    "def set_forest_clf(X_columns, y_columns, n_estimators, tree_depth, data):\n",
    "    \n",
    "    from sklearn.ensemble import RandomForestClassifier\n",
    "    forest_clf = RandomForestClassifier(max_depth=tree_depth, random_state=1, n_estimators=n_estimators)\n",
    "    \n",
    "    X_train = data[X_columns][data.set=='train']\n",
    "    y_train = data[y_columns][data.set=='train']\n",
    "    forest_clf.fit(X_train,y_train)\n",
    "    \n",
    "    return forest_clf"
   ]
  },
  {
   "cell_type": "markdown",
   "id": "7ae3b3b0",
   "metadata": {
    "tags": []
   },
   "source": [
    "# <span style='color:green'> **[done]** </span> Set new fight:"
   ]
  },
  {
   "cell_type": "code",
   "execution_count": 35,
   "id": "48d899d5",
   "metadata": {},
   "outputs": [],
   "source": [
    "def set_new_fight(fighter, opponent, data=df):\n",
    "    \n",
    "    row = {'date': get_current_date(),\n",
    "           'result': None,\n",
    "           'fighter': fighter,\n",
    "           'opponent': opponent,\n",
    "           'win_perc_dif': get_win_perc(fighter=fighter, data=data) - get_win_perc(fighter=opponent, data=data),\n",
    "           'win_strk_dif': get_win_streak(fighter=fighter, data=data) - get_win_streak(fighter=opponent, data=data),\n",
    "           'lose_strk_dif': get_lose_streak(fighter=fighter, data=data) - get_lose_streak(fighter=opponent, data=data),\n",
    "           'td avg._dif': get_td_avg(fighter=fighter, data=stats) - get_td_avg(fighter=opponent, data=stats),\n",
    "           'sub. avg._dif': get_sub_avg(fighter=fighter, data=stats) - get_sub_avg(fighter=opponent, data=stats),\n",
    "           'sapm_dif': get_sapm(fighter=fighter, data=stats) - get_sapm(fighter=opponent, data=stats),\n",
    "           'slpm_dif': get_slpm(fighter=fighter, data=stats) - get_slpm(fighter=opponent, data=stats),\n",
    "           'kd_dif':None,\n",
    "           'str_dif':None,\n",
    "           'td_dif':None,\n",
    "           'sub_dif':None,\n",
    "          }\n",
    "    return pd.DataFrame(row, index=[0])"
   ]
  },
  {
   "cell_type": "code",
   "execution_count": 36,
   "id": "15723186",
   "metadata": {},
   "outputs": [],
   "source": [
    "def get_current_date():\n",
    "    from datetime import date\n",
    "    import pandas as pd\n",
    "    return pd.to_datetime(date.today())\n",
    "\n",
    "def get_win_perc(fighter, data=df):\n",
    "    '''return current career winning %'''\n",
    "    date = get_current_date()\n",
    "    wins = len(data[(data['fighter'] == fighter)&(data.date < date) & (data['result']=='win')]) + len(data[(data['opponent'] == fighter)&(data.date < date) & (data['result']=='lose')])\n",
    "    losses = len(data[(data['fighter'] == fighter)&(data.date < date) & (data['result']=='lose')]) + len(data[(data['opponent'] == fighter)&(data.date < date) & (data['result']=='win')])\n",
    "    \n",
    "    if wins == 0:\n",
    "        return 0\n",
    "    return wins/(wins+losses)\n",
    "\n",
    "def get_lose_streak(fighter, data=df):\n",
    "    '''return current lose streak'''\n",
    "    date = get_current_date()\n",
    "    data = ((data[(data.date < date)&((data.fighter == fighter)|(data.opponent == fighter))]).sort_values(by=['date'], ascending=False)).reset_index(drop=True)\n",
    "    \n",
    "    count = 0\n",
    "    for i in range(0,len(data)):\n",
    "        \n",
    "        result = data.loc[i,'result']\n",
    "        f = data.loc[i,'fighter']\n",
    "        o = data.loc[i,'opponent']\n",
    "        \n",
    "        if ((result == 'lose')&(f == fighter))|((result == 'win')&(o == fighter)):\n",
    "            count += 1\n",
    "        else:\n",
    "            return count\n",
    "    return count\n",
    "\n",
    "def get_win_streak(fighter, data=df):\n",
    "    '''return current win streak'''\n",
    "    date = get_current_date()\n",
    "    data = ((data[(data.date < date)&((data.fighter == fighter)|(data.opponent == fighter))]).sort_values(by=['date'], ascending=False)).reset_index(drop=True)\n",
    "    \n",
    "    count = 0\n",
    "    for i in range(0,len(data)):\n",
    "        \n",
    "        result = data.loc[i,'result']\n",
    "        f = data.loc[i,'fighter']\n",
    "        o = data.loc[i,'opponent']\n",
    "        \n",
    "        if ((result == 'win')&(f == fighter))|((result == 'lose')&(o == fighter)):\n",
    "            count += 1\n",
    "        else:\n",
    "            return count\n",
    "    return count\n",
    "\n",
    "def get_td_avg(fighter, data=stats):\n",
    "    '''return current takedown average'''\n",
    "    data = (data[data.name == fighter]).reset_index(drop=True)\n",
    "    return data.loc[0,'td avg.']\n",
    "\n",
    "def get_sub_avg(fighter, data=stats):\n",
    "    '''return current submission average'''\n",
    "    data = (data[data.name == fighter]).reset_index(drop=True)\n",
    "    return data.loc[0,'sub. avg.']\n",
    "\n",
    "def get_sapm(fighter, data=stats):\n",
    "    '''return current strikes absorbed per minute'''\n",
    "    data = (data[data.name == fighter]).reset_index(drop=True)\n",
    "    return data.loc[0,'sapm']\n",
    "\n",
    "def get_slpm(fighter, data=stats):\n",
    "    '''return current strikes landed per minutes'''\n",
    "    data = (data[data.name == fighter]).reset_index(drop=True)\n",
    "    return data.loc[0,'slpm']"
   ]
  },
  {
   "cell_type": "markdown",
   "id": "c3424f07",
   "metadata": {
    "tags": []
   },
   "source": [
    "# <span style='color:green'> **[done]** </span> Main():"
   ]
  },
  {
   "cell_type": "code",
   "execution_count": 37,
   "id": "c9138988",
   "metadata": {},
   "outputs": [],
   "source": [
    "X_columns = ['sapm_dif','slpm_dif','win_perc_dif','win_strk_dif','lose_strk_dif','td avg._dif','sub. avg._dif']\n",
    "y = ['kd_dif','str_dif','td_dif','sub_dif']"
   ]
  },
  {
   "cell_type": "markdown",
   "id": "06ec91c0-71d5-4b39-b58c-b320243d5baf",
   "metadata": {
    "tags": []
   },
   "source": [
    "### <span style='color:green'> **[done]** </span> Pick a Fight: inserd Fighter & Opponent"
   ]
  },
  {
   "cell_type": "code",
   "execution_count": 38,
   "id": "902e1662-b84d-46ee-834c-21760a28ae0e",
   "metadata": {},
   "outputs": [
    {
     "data": {
      "text/html": [
       "<div>\n",
       "<style scoped>\n",
       "    .dataframe tbody tr th:only-of-type {\n",
       "        vertical-align: middle;\n",
       "    }\n",
       "\n",
       "    .dataframe tbody tr th {\n",
       "        vertical-align: top;\n",
       "    }\n",
       "\n",
       "    .dataframe thead th {\n",
       "        text-align: right;\n",
       "    }\n",
       "</style>\n",
       "<table border=\"1\" class=\"dataframe\">\n",
       "  <thead>\n",
       "    <tr style=\"text-align: right;\">\n",
       "      <th></th>\n",
       "      <th>date</th>\n",
       "      <th>result</th>\n",
       "      <th>fighter</th>\n",
       "      <th>opponent</th>\n",
       "      <th>win_perc_dif</th>\n",
       "      <th>win_strk_dif</th>\n",
       "      <th>lose_strk_dif</th>\n",
       "      <th>td avg._dif</th>\n",
       "      <th>sub. avg._dif</th>\n",
       "      <th>sapm_dif</th>\n",
       "      <th>slpm_dif</th>\n",
       "      <th>kd_dif</th>\n",
       "      <th>str_dif</th>\n",
       "      <th>td_dif</th>\n",
       "      <th>sub_dif</th>\n",
       "    </tr>\n",
       "  </thead>\n",
       "  <tbody>\n",
       "    <tr>\n",
       "      <th>6731</th>\n",
       "      <td>2022-12-03</td>\n",
       "      <td>None</td>\n",
       "      <td>Alex Pereira</td>\n",
       "      <td>Khamzat Chimaev</td>\n",
       "      <td>0.0</td>\n",
       "      <td>-3.0</td>\n",
       "      <td>0.0</td>\n",
       "      <td>-3.98</td>\n",
       "      <td>-3.5</td>\n",
       "      <td>-0.62</td>\n",
       "      <td>-1.01</td>\n",
       "      <td>None</td>\n",
       "      <td>None</td>\n",
       "      <td>None</td>\n",
       "      <td>None</td>\n",
       "    </tr>\n",
       "  </tbody>\n",
       "</table>\n",
       "</div>"
      ],
      "text/plain": [
       "           date result       fighter         opponent  win_perc_dif  \\\n",
       "6731 2022-12-03   None  Alex Pereira  Khamzat Chimaev           0.0   \n",
       "\n",
       "      win_strk_dif  lose_strk_dif  td avg._dif  sub. avg._dif  sapm_dif  \\\n",
       "6731          -3.0            0.0        -3.98           -3.5     -0.62   \n",
       "\n",
       "      slpm_dif kd_dif str_dif td_dif sub_dif  \n",
       "6731     -1.01   None    None   None    None  "
      ]
     },
     "execution_count": 38,
     "metadata": {},
     "output_type": "execute_result"
    }
   ],
   "source": [
    "fighter = 'Alex Pereira'\n",
    "opponent = 'Khamzat Chimaev'\n",
    "df = pd.concat([df,set_new_fight(fighter=fighter, opponent=opponent, data=df)], ignore_index=True)\n",
    "df.tail(1)"
   ]
  },
  {
   "cell_type": "markdown",
   "id": "3b4524b2-f079-410b-b3a3-d4091306d468",
   "metadata": {
    "tags": []
   },
   "source": [
    "### <span style='color:green'> **[done]** </span> Predict fight stats:"
   ]
  },
  {
   "cell_type": "code",
   "execution_count": 39,
   "id": "f1d1a860",
   "metadata": {},
   "outputs": [
    {
     "name": "stdout",
     "output_type": "stream",
     "text": [
      "Data split: Data=(6732, 16), train_set=(4135, 7), validation_set=(494, 7), test_set=(2102, 7)\n"
     ]
    },
    {
     "data": {
      "text/html": [
       "<style>#sk-container-id-4 {color: black;background-color: white;}#sk-container-id-4 pre{padding: 0;}#sk-container-id-4 div.sk-toggleable {background-color: white;}#sk-container-id-4 label.sk-toggleable__label {cursor: pointer;display: block;width: 100%;margin-bottom: 0;padding: 0.3em;box-sizing: border-box;text-align: center;}#sk-container-id-4 label.sk-toggleable__label-arrow:before {content: \"▸\";float: left;margin-right: 0.25em;color: #696969;}#sk-container-id-4 label.sk-toggleable__label-arrow:hover:before {color: black;}#sk-container-id-4 div.sk-estimator:hover label.sk-toggleable__label-arrow:before {color: black;}#sk-container-id-4 div.sk-toggleable__content {max-height: 0;max-width: 0;overflow: hidden;text-align: left;background-color: #f0f8ff;}#sk-container-id-4 div.sk-toggleable__content pre {margin: 0.2em;color: black;border-radius: 0.25em;background-color: #f0f8ff;}#sk-container-id-4 input.sk-toggleable__control:checked~div.sk-toggleable__content {max-height: 200px;max-width: 100%;overflow: auto;}#sk-container-id-4 input.sk-toggleable__control:checked~label.sk-toggleable__label-arrow:before {content: \"▾\";}#sk-container-id-4 div.sk-estimator input.sk-toggleable__control:checked~label.sk-toggleable__label {background-color: #d4ebff;}#sk-container-id-4 div.sk-label input.sk-toggleable__control:checked~label.sk-toggleable__label {background-color: #d4ebff;}#sk-container-id-4 input.sk-hidden--visually {border: 0;clip: rect(1px 1px 1px 1px);clip: rect(1px, 1px, 1px, 1px);height: 1px;margin: -1px;overflow: hidden;padding: 0;position: absolute;width: 1px;}#sk-container-id-4 div.sk-estimator {font-family: monospace;background-color: #f0f8ff;border: 1px dotted black;border-radius: 0.25em;box-sizing: border-box;margin-bottom: 0.5em;}#sk-container-id-4 div.sk-estimator:hover {background-color: #d4ebff;}#sk-container-id-4 div.sk-parallel-item::after {content: \"\";width: 100%;border-bottom: 1px solid gray;flex-grow: 1;}#sk-container-id-4 div.sk-label:hover label.sk-toggleable__label {background-color: #d4ebff;}#sk-container-id-4 div.sk-serial::before {content: \"\";position: absolute;border-left: 1px solid gray;box-sizing: border-box;top: 0;bottom: 0;left: 50%;z-index: 0;}#sk-container-id-4 div.sk-serial {display: flex;flex-direction: column;align-items: center;background-color: white;padding-right: 0.2em;padding-left: 0.2em;position: relative;}#sk-container-id-4 div.sk-item {position: relative;z-index: 1;}#sk-container-id-4 div.sk-parallel {display: flex;align-items: stretch;justify-content: center;background-color: white;position: relative;}#sk-container-id-4 div.sk-item::before, #sk-container-id-4 div.sk-parallel-item::before {content: \"\";position: absolute;border-left: 1px solid gray;box-sizing: border-box;top: 0;bottom: 0;left: 50%;z-index: -1;}#sk-container-id-4 div.sk-parallel-item {display: flex;flex-direction: column;z-index: 1;position: relative;background-color: white;}#sk-container-id-4 div.sk-parallel-item:first-child::after {align-self: flex-end;width: 50%;}#sk-container-id-4 div.sk-parallel-item:last-child::after {align-self: flex-start;width: 50%;}#sk-container-id-4 div.sk-parallel-item:only-child::after {width: 0;}#sk-container-id-4 div.sk-dashed-wrapped {border: 1px dashed gray;margin: 0 0.4em 0.5em 0.4em;box-sizing: border-box;padding-bottom: 0.4em;background-color: white;}#sk-container-id-4 div.sk-label label {font-family: monospace;font-weight: bold;display: inline-block;line-height: 1.2em;}#sk-container-id-4 div.sk-label-container {text-align: center;}#sk-container-id-4 div.sk-container {/* jupyter's `normalize.less` sets `[hidden] { display: none; }` but bootstrap.min.css set `[hidden] { display: none !important; }` so we also need the `!important` here to be able to override the default hidden behavior on the sphinx rendered scikit-learn.org. See: https://github.com/scikit-learn/scikit-learn/issues/21755 */display: inline-block !important;position: relative;}#sk-container-id-4 div.sk-text-repr-fallback {display: none;}</style><div id=\"sk-container-id-4\" class=\"sk-top-container\"><div class=\"sk-text-repr-fallback\"><pre>KNeighborsRegressor(algorithm=&#x27;ball_tree&#x27;, n_neighbors=400)</pre><b>In a Jupyter environment, please rerun this cell to show the HTML representation or trust the notebook. <br />On GitHub, the HTML representation is unable to render, please try loading this page with nbviewer.org.</b></div><div class=\"sk-container\" hidden><div class=\"sk-item\"><div class=\"sk-estimator sk-toggleable\"><input class=\"sk-toggleable__control sk-hidden--visually\" id=\"sk-estimator-id-4\" type=\"checkbox\" checked><label for=\"sk-estimator-id-4\" class=\"sk-toggleable__label sk-toggleable__label-arrow\">KNeighborsRegressor</label><div class=\"sk-toggleable__content\"><pre>KNeighborsRegressor(algorithm=&#x27;ball_tree&#x27;, n_neighbors=400)</pre></div></div></div></div></div>"
      ],
      "text/plain": [
       "KNeighborsRegressor(algorithm='ball_tree', n_neighbors=400)"
      ]
     },
     "execution_count": 39,
     "metadata": {},
     "output_type": "execute_result"
    }
   ],
   "source": [
    "df = set_train_test(X_columns=X_columns, y_columns=y, data=df, test_size=0.3, valid_size=0.1)\n",
    "knn_reg = set_knn_reg(X_columns=X_columns, y_columns=y, data=df, n=400)\n",
    "df = set_predictions(model=knn_reg, data=df, X_columns=X_columns, y_columns=y)\n",
    "knn_reg"
   ]
  },
  {
   "cell_type": "code",
   "execution_count": 40,
   "id": "99c264d3-3840-4399-b1a8-a9f880dfd804",
   "metadata": {},
   "outputs": [
    {
     "data": {
      "text/html": [
       "<div>\n",
       "<style scoped>\n",
       "    .dataframe tbody tr th:only-of-type {\n",
       "        vertical-align: middle;\n",
       "    }\n",
       "\n",
       "    .dataframe tbody tr th {\n",
       "        vertical-align: top;\n",
       "    }\n",
       "\n",
       "    .dataframe thead th {\n",
       "        text-align: right;\n",
       "    }\n",
       "</style>\n",
       "<table border=\"1\" class=\"dataframe\">\n",
       "  <thead>\n",
       "    <tr style=\"text-align: right;\">\n",
       "      <th></th>\n",
       "      <th>set</th>\n",
       "      <th>date</th>\n",
       "      <th>result</th>\n",
       "      <th>fighter</th>\n",
       "      <th>opponent</th>\n",
       "      <th>win_perc_dif</th>\n",
       "      <th>win_strk_dif</th>\n",
       "      <th>lose_strk_dif</th>\n",
       "      <th>td avg._dif</th>\n",
       "      <th>sub. avg._dif</th>\n",
       "      <th>sapm_dif</th>\n",
       "      <th>slpm_dif</th>\n",
       "      <th>kd_dif</th>\n",
       "      <th>str_dif</th>\n",
       "      <th>td_dif</th>\n",
       "      <th>sub_dif</th>\n",
       "      <th>kd_dif_pred</th>\n",
       "      <th>str_dif_pred</th>\n",
       "      <th>td_dif_pred</th>\n",
       "      <th>sub_dif_pred</th>\n",
       "    </tr>\n",
       "  </thead>\n",
       "  <tbody>\n",
       "    <tr>\n",
       "      <th>6731</th>\n",
       "      <td>new</td>\n",
       "      <td>2022-12-03</td>\n",
       "      <td>None</td>\n",
       "      <td>Alex Pereira</td>\n",
       "      <td>Khamzat Chimaev</td>\n",
       "      <td>0.0</td>\n",
       "      <td>-3.0</td>\n",
       "      <td>0.0</td>\n",
       "      <td>-3.98</td>\n",
       "      <td>-3.5</td>\n",
       "      <td>-0.62</td>\n",
       "      <td>-1.01</td>\n",
       "      <td>None</td>\n",
       "      <td>None</td>\n",
       "      <td>None</td>\n",
       "      <td>None</td>\n",
       "      <td>0.095727</td>\n",
       "      <td>0.095727</td>\n",
       "      <td>0.095727</td>\n",
       "      <td>0.095727</td>\n",
       "    </tr>\n",
       "  </tbody>\n",
       "</table>\n",
       "</div>"
      ],
      "text/plain": [
       "      set       date result       fighter         opponent  win_perc_dif  \\\n",
       "6731  new 2022-12-03   None  Alex Pereira  Khamzat Chimaev           0.0   \n",
       "\n",
       "      win_strk_dif  lose_strk_dif  td avg._dif  sub. avg._dif  sapm_dif  \\\n",
       "6731          -3.0            0.0        -3.98           -3.5     -0.62   \n",
       "\n",
       "      slpm_dif kd_dif str_dif td_dif sub_dif kd_dif_pred str_dif_pred  \\\n",
       "6731     -1.01   None    None   None    None    0.095727     0.095727   \n",
       "\n",
       "     td_dif_pred sub_dif_pred  \n",
       "6731    0.095727     0.095727  "
      ]
     },
     "execution_count": 40,
     "metadata": {},
     "output_type": "execute_result"
    }
   ],
   "source": [
    "df.tail(1)"
   ]
  },
  {
   "cell_type": "markdown",
   "id": "61a21b09-63f2-42d6-b119-a70b679542e7",
   "metadata": {
    "tags": []
   },
   "source": [
    "### <span style='color:green'> **[done]** </span> Predict Winner:"
   ]
  },
  {
   "cell_type": "code",
   "execution_count": 41,
   "id": "61898938-d6ad-4d67-a005-6bea455f101d",
   "metadata": {},
   "outputs": [],
   "source": [
    "def set_forest_clf(X_columns, y_columns, n_estimators, tree_depth, data):\n",
    "    \n",
    "    from sklearn.ensemble import RandomForestClassifier\n",
    "    forest_clf = RandomForestClassifier(max_depth=tree_depth, random_state=1, n_estimators=n_estimators)\n",
    "    \n",
    "    X_train = data[X_columns][data.set=='train']\n",
    "    y_train = data[y_columns][data.set=='train']\n",
    "    forest_clf.fit(X_train,y_train)\n",
    "    \n",
    "    return forest_clf"
   ]
  },
  {
   "cell_type": "code",
   "execution_count": 42,
   "id": "d968aef9-7c50-41ff-80de-65c57e5072d1",
   "metadata": {},
   "outputs": [],
   "source": [
    "def get_accuracy(act, pred):\n",
    "    \n",
    "    from sklearn.metrics import accuracy_score\n",
    "    return accuracy_score(act, pred)"
   ]
  },
  {
   "cell_type": "code",
   "execution_count": 43,
   "id": "ce583647-d8b8-4d6c-913b-1f6f8dba6540",
   "metadata": {},
   "outputs": [],
   "source": [
    "def get_winner(fighter=fighter, opponent=opponent, data=df):\n",
    "    '''return winner of the fight'''\n",
    "    winner = None\n",
    "    data = (data[(data['fighter'] == fighter) & (data['opponent'] == opponent)]).reset_index(drop=True)\n",
    "    \n",
    "    if data.loc[0,'result_pred'] == 'win':\n",
    "        winner = fighter\n",
    "    else: \n",
    "        winner = opponent    \n",
    "    \n",
    "    return winner"
   ]
  },
  {
   "cell_type": "code",
   "execution_count": 44,
   "id": "23e636a9",
   "metadata": {},
   "outputs": [
    {
     "data": {
      "text/html": [
       "<style>#sk-container-id-5 {color: black;background-color: white;}#sk-container-id-5 pre{padding: 0;}#sk-container-id-5 div.sk-toggleable {background-color: white;}#sk-container-id-5 label.sk-toggleable__label {cursor: pointer;display: block;width: 100%;margin-bottom: 0;padding: 0.3em;box-sizing: border-box;text-align: center;}#sk-container-id-5 label.sk-toggleable__label-arrow:before {content: \"▸\";float: left;margin-right: 0.25em;color: #696969;}#sk-container-id-5 label.sk-toggleable__label-arrow:hover:before {color: black;}#sk-container-id-5 div.sk-estimator:hover label.sk-toggleable__label-arrow:before {color: black;}#sk-container-id-5 div.sk-toggleable__content {max-height: 0;max-width: 0;overflow: hidden;text-align: left;background-color: #f0f8ff;}#sk-container-id-5 div.sk-toggleable__content pre {margin: 0.2em;color: black;border-radius: 0.25em;background-color: #f0f8ff;}#sk-container-id-5 input.sk-toggleable__control:checked~div.sk-toggleable__content {max-height: 200px;max-width: 100%;overflow: auto;}#sk-container-id-5 input.sk-toggleable__control:checked~label.sk-toggleable__label-arrow:before {content: \"▾\";}#sk-container-id-5 div.sk-estimator input.sk-toggleable__control:checked~label.sk-toggleable__label {background-color: #d4ebff;}#sk-container-id-5 div.sk-label input.sk-toggleable__control:checked~label.sk-toggleable__label {background-color: #d4ebff;}#sk-container-id-5 input.sk-hidden--visually {border: 0;clip: rect(1px 1px 1px 1px);clip: rect(1px, 1px, 1px, 1px);height: 1px;margin: -1px;overflow: hidden;padding: 0;position: absolute;width: 1px;}#sk-container-id-5 div.sk-estimator {font-family: monospace;background-color: #f0f8ff;border: 1px dotted black;border-radius: 0.25em;box-sizing: border-box;margin-bottom: 0.5em;}#sk-container-id-5 div.sk-estimator:hover {background-color: #d4ebff;}#sk-container-id-5 div.sk-parallel-item::after {content: \"\";width: 100%;border-bottom: 1px solid gray;flex-grow: 1;}#sk-container-id-5 div.sk-label:hover label.sk-toggleable__label {background-color: #d4ebff;}#sk-container-id-5 div.sk-serial::before {content: \"\";position: absolute;border-left: 1px solid gray;box-sizing: border-box;top: 0;bottom: 0;left: 50%;z-index: 0;}#sk-container-id-5 div.sk-serial {display: flex;flex-direction: column;align-items: center;background-color: white;padding-right: 0.2em;padding-left: 0.2em;position: relative;}#sk-container-id-5 div.sk-item {position: relative;z-index: 1;}#sk-container-id-5 div.sk-parallel {display: flex;align-items: stretch;justify-content: center;background-color: white;position: relative;}#sk-container-id-5 div.sk-item::before, #sk-container-id-5 div.sk-parallel-item::before {content: \"\";position: absolute;border-left: 1px solid gray;box-sizing: border-box;top: 0;bottom: 0;left: 50%;z-index: -1;}#sk-container-id-5 div.sk-parallel-item {display: flex;flex-direction: column;z-index: 1;position: relative;background-color: white;}#sk-container-id-5 div.sk-parallel-item:first-child::after {align-self: flex-end;width: 50%;}#sk-container-id-5 div.sk-parallel-item:last-child::after {align-self: flex-start;width: 50%;}#sk-container-id-5 div.sk-parallel-item:only-child::after {width: 0;}#sk-container-id-5 div.sk-dashed-wrapped {border: 1px dashed gray;margin: 0 0.4em 0.5em 0.4em;box-sizing: border-box;padding-bottom: 0.4em;background-color: white;}#sk-container-id-5 div.sk-label label {font-family: monospace;font-weight: bold;display: inline-block;line-height: 1.2em;}#sk-container-id-5 div.sk-label-container {text-align: center;}#sk-container-id-5 div.sk-container {/* jupyter's `normalize.less` sets `[hidden] { display: none; }` but bootstrap.min.css set `[hidden] { display: none !important; }` so we also need the `!important` here to be able to override the default hidden behavior on the sphinx rendered scikit-learn.org. See: https://github.com/scikit-learn/scikit-learn/issues/21755 */display: inline-block !important;position: relative;}#sk-container-id-5 div.sk-text-repr-fallback {display: none;}</style><div id=\"sk-container-id-5\" class=\"sk-top-container\"><div class=\"sk-text-repr-fallback\"><pre>RandomForestClassifier(max_depth=3, n_estimators=50, random_state=1)</pre><b>In a Jupyter environment, please rerun this cell to show the HTML representation or trust the notebook. <br />On GitHub, the HTML representation is unable to render, please try loading this page with nbviewer.org.</b></div><div class=\"sk-container\" hidden><div class=\"sk-item\"><div class=\"sk-estimator sk-toggleable\"><input class=\"sk-toggleable__control sk-hidden--visually\" id=\"sk-estimator-id-5\" type=\"checkbox\" checked><label for=\"sk-estimator-id-5\" class=\"sk-toggleable__label sk-toggleable__label-arrow\">RandomForestClassifier</label><div class=\"sk-toggleable__content\"><pre>RandomForestClassifier(max_depth=3, n_estimators=50, random_state=1)</pre></div></div></div></div></div>"
      ],
      "text/plain": [
       "RandomForestClassifier(max_depth=3, n_estimators=50, random_state=1)"
      ]
     },
     "execution_count": 44,
     "metadata": {},
     "output_type": "execute_result"
    }
   ],
   "source": [
    "X_columns = ['win_perc_dif', 'win_strk_dif', 'lose_strk_dif', 'td avg._dif',\n",
    "             'sub. avg._dif', 'sapm_dif', 'slpm_dif','sub_dif_pred',\n",
    "             'kd_dif_pred', 'str_dif_pred', 'td_dif_pred']\n",
    "\n",
    "#num_of_features = len(X_columns)\n",
    "num_of_features = 3\n",
    "y = 'result'\n",
    "forest_clf = set_forest_clf(X_columns=X_columns, y_columns=y, data=df,tree_depth=num_of_features, n_estimators=50 )\n",
    "df = set_predictions(model=forest_clf, data=df, X_columns=X_columns, y_columns=[y])\n",
    "forest_clf"
   ]
  },
  {
   "cell_type": "markdown",
   "id": "67c9d4c8-1727-468a-97c5-e8fbb33b18dd",
   "metadata": {
    "tags": []
   },
   "source": [
    "#### <span style='color:green'> **[done]** </span> Final Prediction:"
   ]
  },
  {
   "cell_type": "code",
   "execution_count": 142,
   "id": "0e1ddb63-4fcd-4ff9-918f-1593e607a76c",
   "metadata": {},
   "outputs": [
    {
     "name": "stdout",
     "output_type": "stream",
     "text": [
      "--------------------------------------\n",
      "Alex Pereira vs Khamzat Chimaev:\n",
      "--------------------------------------\n",
      "          Alex Pereira Khamzat Chimaev\n",
      "wins                 6              12\n",
      "losses             0.0             0.0\n",
      "draws               -0               0\n",
      "height          193.04          187.96\n",
      "weight           83.25            76.5\n",
      "reach           200.66           190.5\n",
      "stance        Orthodox        Orthodox\n",
      "age               35.0            28.0\n",
      "slpm              6.29             7.3\n",
      "str. acc.          0.6            0.59\n",
      "sapm              3.36            3.98\n",
      "str. def          0.58            0.41\n",
      "td avg.            0.0            3.98\n",
      "td acc.            0.0            0.57\n",
      "td def.           0.73             1.0\n",
      "sub. avg.          0.0             3.5\n",
      "--------------------------------------\n",
      "Winner: Khamzat Chimaev\n",
      "Pridiction Accuracy: 0.6512844909609895\n",
      "--------------------------------------\n"
     ]
    }
   ],
   "source": [
    "print('--------------------------------------')\n",
    "print('%s vs %s:' %(fighter, opponent))\n",
    "print('--------------------------------------')\n",
    "print(get_fighters_stats(fighter=fighter,opponent=opponent, data=stats))\n",
    "print('--------------------------------------')\n",
    "print('Winner: ' + get_winner())\n",
    "print('Pridiction Accuracy: ' + str(get_accuracy(act=df['result'][df.set=='test'], pred=df['result_pred'][df.set=='test'])))\n",
    "print('--------------------------------------')"
   ]
  },
  {
   "cell_type": "markdown",
   "id": "3ea4e482-2337-4ef7-9075-ecc2890e7796",
   "metadata": {
    "tags": []
   },
   "source": [
    "### <span style='color:green'> **[done]** </span> Evaluation Report:"
   ]
  },
  {
   "cell_type": "code",
   "execution_count": 144,
   "id": "6bb22a80-a2fd-4738-86a8-5130425b1fbb",
   "metadata": {},
   "outputs": [
    {
     "name": "stdout",
     "output_type": "stream",
     "text": [
      "Accuracy = 0.651284\n"
     ]
    },
    {
     "data": {
      "text/plain": [
       "<sklearn.metrics._plot.confusion_matrix.ConfusionMatrixDisplay at 0x1d552dddd60>"
      ]
     },
     "execution_count": 144,
     "metadata": {},
     "output_type": "execute_result"
    },
    {
     "data": {
      "image/png": "[encoded data removed]",
      "text/plain": [
       "<Figure size 432x288 with 2 Axes>"
      ]
     },
     "metadata": {},
     "output_type": "display_data"
    }
   ],
   "source": [
    "from sklearn.metrics import accuracy_score\n",
    "from sklearn.metrics import confusion_matrix, ConfusionMatrixDisplay\n",
    "import matplotlib.pyplot as plt\n",
    "\n",
    "y_test_act = df['result'][df.set=='test']\n",
    "y_test_pred = df['result_pred'][df.set=='test']\n",
    "\n",
    "print('Accuracy = %.6f' % accuracy_score(y_test_act,y_test_pred))\n",
    "ConfusionMatrixDisplay.from_predictions(y_test_act,y_test_pred)  "
   ]
  },
  {
   "cell_type": "code",
   "execution_count": null,
   "id": "e63480a3-a2f6-4099-9fc7-0e72619a0c62",
   "metadata": {},
   "outputs": [],
   "source": []
  }
 ],
 "metadata": {
  "kernelspec": {
   "display_name": "Python 3 (ipykernel)",
   "language": "python",
   "name": "python3"
  },
  "language_info": {
   "codemirror_mode": {
    "name": "ipython",
    "version": 3
   },
   "file_extension": ".py",
   "mimetype": "text/x-python",
   "name": "python",
   "nbconvert_exporter": "python",
   "pygments_lexer": "ipython3",
   "version": "3.9.7"
  },
  "toc-autonumbering": false
 },
 "nbformat": 4,
 "nbformat_minor": 5
}
