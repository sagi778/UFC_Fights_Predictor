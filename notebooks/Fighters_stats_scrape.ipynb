{
 "cells": [
  {
   "cell_type": "code",
   "execution_count": 1,
   "id": "e9d04ab5",
   "metadata": {},
   "outputs": [],
   "source": [
    "import requests\n",
    "import pandas as pd\n",
    "import numpy as np\n",
    "from bs4 import BeautifulSoup"
   ]
  },
  {
   "cell_type": "markdown",
   "id": "0ff2ffc9",
   "metadata": {},
   "source": [
    "# Function setup"
   ]
  },
  {
   "cell_type": "code",
   "execution_count": 3,
   "id": "0be0f373",
   "metadata": {},
   "outputs": [],
   "source": [
    "def get_row(soup):\n",
    "    \n",
    "    '''get soup & return np.array of all relevant row details'''\n",
    "    \n",
    "    row = get_name(soup)\n",
    "    row = np.append( row,get_record(soup) )\n",
    "    row = np.append( row,get_stats(soup) )\n",
    "    \n",
    "    return row"
   ]
  },
  {
   "cell_type": "code",
   "execution_count": 4,
   "id": "30ffaba9",
   "metadata": {},
   "outputs": [],
   "source": [
    "def get_record(soup):\n",
    "    \n",
    "    '''get soup & return np.array of wins,draws,losses'''\n",
    "    \n",
    "    h2 = soup.find('h2',{'class':'b-content__title'})\n",
    "\n",
    "    record = h2 .contents[3].contents[0].strip()\n",
    "    record = record[record.find(':')+2:len(record)]\n",
    "    \n",
    "    wins = record[:record.find('-')]\n",
    "    \n",
    "    losses = record[record.find('-')+1:record.find('-')+record.find('-')]\n",
    "    \n",
    "    if record.find(' ') == -1:\n",
    "        string_end = len(record)\n",
    "    else:\n",
    "        string_end = record.find(' ')\n",
    "    \n",
    "    draws = record[record.find('-')+1+record.find('-'):string_end]\n",
    "    \n",
    "    return np.array([wins,losses,draws])"
   ]
  },
  {
   "cell_type": "code",
   "execution_count": 5,
   "id": "7c7d60b0",
   "metadata": {},
   "outputs": [],
   "source": [
    "def get_name(soup):\n",
    "    \n",
    "    '''get soup & return fighter's name'''\n",
    "    \n",
    "    h2 = soup.find('h2',{'class':'b-content__title'})\n",
    "    name = h2.contents[1].contents[0].strip()\n",
    "    \n",
    "    return np.array([name])"
   ]
  },
  {
   "cell_type": "code",
   "execution_count": 6,
   "id": "5c111276",
   "metadata": {},
   "outputs": [],
   "source": [
    "def get_stats(soup):\n",
    "    \n",
    "    '''get html data from page & return row with only the relevant values'''\n",
    "    \n",
    "    data = get_html_data(soup)\n",
    "    \n",
    "    row = []\n",
    "\n",
    "    for i in range(len(data)):\n",
    "        for j in range(len(data[i])):\n",
    "            row.append( data[i][j].contents[2].strip() )\n",
    "        \n",
    "    return np.array(row)             "
   ]
  },
  {
   "cell_type": "code",
   "execution_count": 7,
   "id": "90a4f423",
   "metadata": {},
   "outputs": [],
   "source": [
    "def get_columns(soup):\n",
    "    \n",
    "    '''return list of columns'''\n",
    "    \n",
    "    data = get_html_data(soup)\n",
    "    \n",
    "    columns = ['name','wins','losses','draws']\n",
    "    \n",
    "    for i in range(len(data)):\n",
    "        for j in range(len(data[i])):\n",
    "            columns.append( data[i][j].contents[1].contents[0].strip() )\n",
    "     \n",
    "    return columns"
   ]
  },
  {
   "cell_type": "code",
   "execution_count": 8,
   "id": "fda21b39",
   "metadata": {},
   "outputs": [],
   "source": [
    "def get_html_data(soup):\n",
    "    \n",
    "    '''extracting data from fighter's page to list of size = (3,m)'''\n",
    "    \n",
    "    ul_class = soup.find_all('ul',{'class':'b-list__box-list'})\n",
    "    data = []\n",
    "    \n",
    "    for item in ul_class:\n",
    "        data.append( item.find_all('li',{'class':'b-list__box-list-item b-list__box-list-item_type_block'}))\n",
    "    \n",
    "    return data"
   ]
  },
  {
   "cell_type": "code",
   "execution_count": 9,
   "id": "5bdb51ed",
   "metadata": {},
   "outputs": [],
   "source": [
    "def get_soup(url, headers = {'User-Agent':'Mozilla/5.0 (Windows NT 10.0; Win64; x64) AppleWebKit/537.36 (KHTML, like Gecko) Chrome/103.0.0.0 Safari/537.36'}):\n",
    "    \n",
    "    '''set url page, \n",
    "    return soup as text'''\n",
    "    \n",
    "    try:\n",
    "        r = requests.get(url)\n",
    "        soup = BeautifulSoup(r.text, 'html.parser')\n",
    "    except:\n",
    "        print('Error on: ' + url) \n",
    "    \n",
    "    return soup"
   ]
  },
  {
   "cell_type": "code",
   "execution_count": 10,
   "id": "589db7f9",
   "metadata": {},
   "outputs": [],
   "source": [
    "def get_links(soup):\n",
    "    \n",
    "    '''return list of all page links'''\n",
    "    \n",
    "    url_links = soup.find_all('a', {'class':'b-link b-link_style_black'})\n",
    "    links = []\n",
    "\n",
    "    for item in url_links:\n",
    "        links.append( item['href'] )\n",
    "        \n",
    "    return np.unique(links)    "
   ]
  },
  {
   "cell_type": "markdown",
   "id": "7357a38c",
   "metadata": {},
   "source": [
    "# Main\n",
    "***"
   ]
  },
  {
   "cell_type": "markdown",
   "id": "07fd9203",
   "metadata": {},
   "source": [
    "### extracting columns:"
   ]
  },
  {
   "cell_type": "code",
   "execution_count": 11,
   "id": "8fcdbc4d",
   "metadata": {},
   "outputs": [
    {
     "name": "stdout",
     "output_type": "stream",
     "text": [
      "['name', 'wins', 'losses', 'draws', 'Height:', 'Weight:', 'Reach:', 'STANCE:', 'DOB:', 'SLpM:', 'Str. Acc.:', 'SApM:', 'Str. Def:', '', 'TD Avg.:', 'TD Acc.:', 'TD Def.:', 'Sub. Avg.:']\n"
     ]
    }
   ],
   "source": [
    "url = 'http://ufcstats.com/statistics/fighters?char=a&page=all'\n",
    "soup = get_soup(url)\n",
    "links = get_links(soup)\n",
    "columns = get_columns( get_soup(links[1]) )\n",
    "print(columns)"
   ]
  },
  {
   "cell_type": "markdown",
   "id": "aed8d697",
   "metadata": {},
   "source": [
    "### constructing pandas data frame:"
   ]
  },
  {
   "cell_type": "code",
   "execution_count": 12,
   "id": "4fa16ad2",
   "metadata": {},
   "outputs": [
    {
     "data": {
      "text/html": [
       "<div>\n",
       "<style scoped>\n",
       "    .dataframe tbody tr th:only-of-type {\n",
       "        vertical-align: middle;\n",
       "    }\n",
       "\n",
       "    .dataframe tbody tr th {\n",
       "        vertical-align: top;\n",
       "    }\n",
       "\n",
       "    .dataframe thead th {\n",
       "        text-align: right;\n",
       "    }\n",
       "</style>\n",
       "<table border=\"1\" class=\"dataframe\">\n",
       "  <thead>\n",
       "    <tr style=\"text-align: right;\">\n",
       "      <th></th>\n",
       "      <th>name</th>\n",
       "      <th>wins</th>\n",
       "      <th>losses</th>\n",
       "      <th>draws</th>\n",
       "      <th>Height:</th>\n",
       "      <th>Weight:</th>\n",
       "      <th>Reach:</th>\n",
       "      <th>STANCE:</th>\n",
       "      <th>DOB:</th>\n",
       "      <th>SLpM:</th>\n",
       "      <th>Str. Acc.:</th>\n",
       "      <th>SApM:</th>\n",
       "      <th>Str. Def:</th>\n",
       "      <th></th>\n",
       "      <th>TD Avg.:</th>\n",
       "      <th>TD Acc.:</th>\n",
       "      <th>TD Def.:</th>\n",
       "      <th>Sub. Avg.:</th>\n",
       "    </tr>\n",
       "  </thead>\n",
       "  <tbody>\n",
       "  </tbody>\n",
       "</table>\n",
       "</div>"
      ],
      "text/plain": [
       "Empty DataFrame\n",
       "Columns: [name, wins, losses, draws, Height:, Weight:, Reach:, STANCE:, DOB:, SLpM:, Str. Acc.:, SApM:, Str. Def:, , TD Avg.:, TD Acc.:, TD Def.:, Sub. Avg.:]\n",
       "Index: []"
      ]
     },
     "execution_count": 12,
     "metadata": {},
     "output_type": "execute_result"
    }
   ],
   "source": [
    "df = pd.DataFrame(columns = columns)\n",
    "df"
   ]
  },
  {
   "cell_type": "markdown",
   "id": "3289aa5d",
   "metadata": {},
   "source": [
    "### extracting fighters statistics:"
   ]
  },
  {
   "cell_type": "code",
   "execution_count": 20,
   "id": "10ae56f6",
   "metadata": {
    "scrolled": false
   },
   "outputs": [
    {
     "name": "stdout",
     "output_type": "stream",
     "text": [
      "Error on: http://ufcstats.com/fighter-details/e295b96f135d758a\n"
     ]
    },
    {
     "ename": "UnboundLocalError",
     "evalue": "local variable 'soup' referenced before assignment",
     "output_type": "error",
     "traceback": [
      "\u001b[1;31m---------------------------------------------------------------------------\u001b[0m",
      "\u001b[1;31mUnboundLocalError\u001b[0m                         Traceback (most recent call last)",
      "Input \u001b[1;32mIn [20]\u001b[0m, in \u001b[0;36m<cell line: 6>\u001b[1;34m()\u001b[0m\n\u001b[0;32m     16\u001b[0m percent \u001b[38;5;241m=\u001b[39m \u001b[38;5;28mround\u001b[39m((((current_page\u001b[38;5;241m-\u001b[39m\u001b[38;5;241m1\u001b[39m)\u001b[38;5;241m/\u001b[39mpages_amount) \u001b[38;5;241m+\u001b[39m (current_link\u001b[38;5;241m/\u001b[39mlinks_amount)\u001b[38;5;241m*\u001b[39m(\u001b[38;5;241m1\u001b[39m\u001b[38;5;241m/\u001b[39mpages_amount)) \u001b[38;5;241m*\u001b[39m \u001b[38;5;241m100\u001b[39m, \u001b[38;5;241m2\u001b[39m)\n\u001b[0;32m     17\u001b[0m \u001b[38;5;28mprint\u001b[39m(\u001b[38;5;124m'\u001b[39m\u001b[38;5;124mScraping page \u001b[39m\u001b[38;5;132;01m%d\u001b[39;00m\u001b[38;5;124m/\u001b[39m\u001b[38;5;132;01m%d\u001b[39;00m\u001b[38;5;124m (\u001b[39m\u001b[38;5;132;01m%d\u001b[39;00m\u001b[38;5;124m/\u001b[39m\u001b[38;5;132;01m%d\u001b[39;00m\u001b[38;5;124m links) => \u001b[39m\u001b[38;5;132;01m%s\u001b[39;00m\u001b[38;5;124m \u001b[39m\u001b[38;5;132;01m%%\u001b[39;00m\u001b[38;5;124m completed \u001b[39m\u001b[38;5;124m'\u001b[39m \u001b[38;5;241m%\u001b[39m(current_page, pages_amount, current_link, links_amount, percent), end \u001b[38;5;241m=\u001b[39m \u001b[38;5;124m'\u001b[39m\u001b[38;5;130;01m\\r\u001b[39;00m\u001b[38;5;124m'\u001b[39m)\n\u001b[1;32m---> 18\u001b[0m stat_page_soup \u001b[38;5;241m=\u001b[39m \u001b[43mget_soup\u001b[49m\u001b[43m(\u001b[49m\u001b[43mstat_page\u001b[49m\u001b[43m)\u001b[49m\n\u001b[0;32m     19\u001b[0m row \u001b[38;5;241m=\u001b[39m get_row(stat_page_soup)\n\u001b[0;32m     20\u001b[0m df\u001b[38;5;241m.\u001b[39mloc[\u001b[38;5;28mlen\u001b[39m(df)] \u001b[38;5;241m=\u001b[39m row\n",
      "Input \u001b[1;32mIn [9]\u001b[0m, in \u001b[0;36mget_soup\u001b[1;34m(url, headers)\u001b[0m\n\u001b[0;32m      9\u001b[0m \u001b[38;5;28;01mexcept\u001b[39;00m:\n\u001b[0;32m     10\u001b[0m     \u001b[38;5;28mprint\u001b[39m(\u001b[38;5;124m'\u001b[39m\u001b[38;5;124mError on: \u001b[39m\u001b[38;5;124m'\u001b[39m \u001b[38;5;241m+\u001b[39m url) \n\u001b[1;32m---> 12\u001b[0m \u001b[38;5;28;01mreturn\u001b[39;00m \u001b[43msoup\u001b[49m\n",
      "\u001b[1;31mUnboundLocalError\u001b[0m: local variable 'soup' referenced before assignment"
     ]
    }
   ],
   "source": [
    "pages = ['a','b','c','d','e','f','g','h','i','j','k','l','m','n','o','p','q','r','s','t','u','v','w','x','y','z']\n",
    "\n",
    "pages_amount = len(pages)\n",
    "current_page = 0\n",
    "\n",
    "for page in pages:\n",
    "    current_page += 1 \n",
    "    url = 'http://ufcstats.com/statistics/fighters?char=' + page + '&page=all'\n",
    "    #soup = get_soup(url)\n",
    "    page_links = get_links(get_soup(url))\n",
    "    links_amount = len(page_links)\n",
    "    \n",
    "    current_link = 0\n",
    "    for stat_page in page_links:\n",
    "        current_link += 1\n",
    "        percent = round((((current_page-1)/pages_amount) + (current_link/links_amount)*(1/pages_amount)) * 100, 2)\n",
    "        print('Scraping page %d/%d (%d/%d links) => %s %% completed ' %(current_page, pages_amount, current_link, links_amount, percent), end = '\\r')\n",
    "        stat_page_soup = get_soup(stat_page)\n",
    "        row = get_row(stat_page_soup)\n",
    "        df.loc[len(df)] = row\n",
    "        "
   ]
  },
  {
   "cell_type": "code",
   "execution_count": 23,
   "id": "61b6522c",
   "metadata": {},
   "outputs": [
    {
     "data": {
      "text/html": [
       "<div>\n",
       "<style scoped>\n",
       "    .dataframe tbody tr th:only-of-type {\n",
       "        vertical-align: middle;\n",
       "    }\n",
       "\n",
       "    .dataframe tbody tr th {\n",
       "        vertical-align: top;\n",
       "    }\n",
       "\n",
       "    .dataframe thead th {\n",
       "        text-align: right;\n",
       "    }\n",
       "</style>\n",
       "<table border=\"1\" class=\"dataframe\">\n",
       "  <thead>\n",
       "    <tr style=\"text-align: right;\">\n",
       "      <th></th>\n",
       "      <th>name</th>\n",
       "      <th>wins</th>\n",
       "      <th>losses</th>\n",
       "      <th>draws</th>\n",
       "      <th>Height:</th>\n",
       "      <th>Weight:</th>\n",
       "      <th>Reach:</th>\n",
       "      <th>STANCE:</th>\n",
       "      <th>DOB:</th>\n",
       "      <th>SLpM:</th>\n",
       "      <th>Str. Acc.:</th>\n",
       "      <th>SApM:</th>\n",
       "      <th>Str. Def:</th>\n",
       "      <th></th>\n",
       "      <th>TD Avg.:</th>\n",
       "      <th>TD Acc.:</th>\n",
       "      <th>TD Def.:</th>\n",
       "      <th>Sub. Avg.:</th>\n",
       "    </tr>\n",
       "  </thead>\n",
       "  <tbody>\n",
       "    <tr>\n",
       "      <th>1725</th>\n",
       "      <td>Evan Elder</td>\n",
       "      <td>7</td>\n",
       "      <td></td>\n",
       "      <td>-0</td>\n",
       "      <td>5' 10\"</td>\n",
       "      <td>170 lbs.</td>\n",
       "      <td>72\"</td>\n",
       "      <td>Switch</td>\n",
       "      <td>Apr 11, 1997</td>\n",
       "      <td>1.80</td>\n",
       "      <td>45%</td>\n",
       "      <td>5.00</td>\n",
       "      <td>33%</td>\n",
       "      <td></td>\n",
       "      <td>0.00</td>\n",
       "      <td>0%</td>\n",
       "      <td>33%</td>\n",
       "      <td>0.0</td>\n",
       "    </tr>\n",
       "    <tr>\n",
       "      <th>1726</th>\n",
       "      <td>Kenny Ento</td>\n",
       "      <td>14</td>\n",
       "      <td>1</td>\n",
       "      <td>-0</td>\n",
       "      <td>6' 2\"</td>\n",
       "      <td>192 lbs.</td>\n",
       "      <td>--</td>\n",
       "      <td></td>\n",
       "      <td>--</td>\n",
       "      <td>8.41</td>\n",
       "      <td>79%</td>\n",
       "      <td>0.00</td>\n",
       "      <td>100%</td>\n",
       "      <td></td>\n",
       "      <td>5.49</td>\n",
       "      <td>100%</td>\n",
       "      <td>0%</td>\n",
       "      <td>11.0</td>\n",
       "    </tr>\n",
       "    <tr>\n",
       "      <th>1727</th>\n",
       "      <td>Rob Emerson</td>\n",
       "      <td>18</td>\n",
       "      <td>1</td>\n",
       "      <td>-0</td>\n",
       "      <td>5' 9\"</td>\n",
       "      <td>155 lbs.</td>\n",
       "      <td>70\"</td>\n",
       "      <td>Orthodox</td>\n",
       "      <td>Jul 30, 1981</td>\n",
       "      <td>2.50</td>\n",
       "      <td>30%</td>\n",
       "      <td>2.83</td>\n",
       "      <td>64%</td>\n",
       "      <td></td>\n",
       "      <td>2.02</td>\n",
       "      <td>52%</td>\n",
       "      <td>65%</td>\n",
       "      <td>0.4</td>\n",
       "    </tr>\n",
       "    <tr>\n",
       "      <th>1728</th>\n",
       "      <td>Dan Evensen</td>\n",
       "      <td>11</td>\n",
       "      <td>4</td>\n",
       "      <td>0</td>\n",
       "      <td>6' 3\"</td>\n",
       "      <td>250 lbs.</td>\n",
       "      <td>--</td>\n",
       "      <td>Orthodox</td>\n",
       "      <td>Jun 01, 1974</td>\n",
       "      <td>0.27</td>\n",
       "      <td>10%</td>\n",
       "      <td>3.86</td>\n",
       "      <td>38%</td>\n",
       "      <td></td>\n",
       "      <td>0.00</td>\n",
       "      <td>0%</td>\n",
       "      <td>0%</td>\n",
       "      <td>4.0</td>\n",
       "    </tr>\n",
       "    <tr>\n",
       "      <th>1729</th>\n",
       "      <td>Jamall Emmers</td>\n",
       "      <td>18</td>\n",
       "      <td>6</td>\n",
       "      <td>0</td>\n",
       "      <td>5' 10\"</td>\n",
       "      <td>145 lbs.</td>\n",
       "      <td>74\"</td>\n",
       "      <td>Orthodox</td>\n",
       "      <td>Jul 24, 1989</td>\n",
       "      <td>5.73</td>\n",
       "      <td>53%</td>\n",
       "      <td>4.44</td>\n",
       "      <td>55%</td>\n",
       "      <td></td>\n",
       "      <td>2.76</td>\n",
       "      <td>53%</td>\n",
       "      <td>100%</td>\n",
       "      <td>0.4</td>\n",
       "    </tr>\n",
       "  </tbody>\n",
       "</table>\n",
       "</div>"
      ],
      "text/plain": [
       "               name wins losses draws Height:   Weight: Reach:   STANCE:  \\\n",
       "1725     Evan Elder    7           -0  5' 10\"  170 lbs.    72\"    Switch   \n",
       "1726     Kenny Ento   14      1    -0   6' 2\"  192 lbs.     --             \n",
       "1727    Rob Emerson   18      1    -0   5' 9\"  155 lbs.    70\"  Orthodox   \n",
       "1728    Dan Evensen   11      4     0   6' 3\"  250 lbs.     --  Orthodox   \n",
       "1729  Jamall Emmers   18      6     0  5' 10\"  145 lbs.    74\"  Orthodox   \n",
       "\n",
       "              DOB: SLpM: Str. Acc.: SApM: Str. Def:   TD Avg.: TD Acc.:  \\\n",
       "1725  Apr 11, 1997  1.80        45%  5.00       33%       0.00       0%   \n",
       "1726            --  8.41        79%  0.00      100%       5.49     100%   \n",
       "1727  Jul 30, 1981  2.50        30%  2.83       64%       2.02      52%   \n",
       "1728  Jun 01, 1974  0.27        10%  3.86       38%       0.00       0%   \n",
       "1729  Jul 24, 1989  5.73        53%  4.44       55%       2.76      53%   \n",
       "\n",
       "     TD Def.: Sub. Avg.:  \n",
       "1725      33%        0.0  \n",
       "1726       0%       11.0  \n",
       "1727      65%        0.4  \n",
       "1728       0%        4.0  \n",
       "1729     100%        0.4  "
      ]
     },
     "execution_count": 23,
     "metadata": {},
     "output_type": "execute_result"
    }
   ],
   "source": [
    "df.tail()"
   ]
  },
  {
   "cell_type": "code",
   "execution_count": 22,
   "id": "fa9e2609",
   "metadata": {},
   "outputs": [],
   "source": [
    "df.to_csv('ufc_stats.csv')"
   ]
  },
  {
   "cell_type": "markdown",
   "id": "f4c5aae2",
   "metadata": {},
   "source": [
    "## >>>>>>>>>>>>>>>>>>>>>>>>>>>>>>>>>>>>>>>>>>>>>>>>>>>>>>>>>>>>>>>"
   ]
  }
 ],
 "metadata": {
  "kernelspec": {
   "display_name": "Python 3 (ipykernel)",
   "language": "python",
   "name": "python3"
  },
  "language_info": {
   "codemirror_mode": {
    "name": "ipython",
    "version": 3
   },
   "file_extension": ".py",
   "mimetype": "text/x-python",
   "name": "python",
   "nbconvert_exporter": "python",
   "pygments_lexer": "ipython3",
   "version": "3.9.7"
  }
 },
 "nbformat": 4,
 "nbformat_minor": 5
}
