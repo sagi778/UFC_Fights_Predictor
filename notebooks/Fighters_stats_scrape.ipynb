{
 "cells": [
  {
   "cell_type": "code",
   "execution_count": 1,
   "id": "e9d04ab5",
   "metadata": {},
   "outputs": [],
   "source": [
    "import requests\n",
    "import pandas as pd\n",
    "import numpy as np\n",
    "from bs4 import BeautifulSoup\n",
    "from string import ascii_letters\n",
    "import re"
   ]
  },
  {
   "cell_type": "markdown",
   "id": "0ff2ffc9",
   "metadata": {},
   "source": [
    "# Function setup\n",
    "* [done] get_row(soup)\n",
    "* [done] get_record(soup)\n",
    "* [done] get_name(soup)\n",
    "* [done] get_stats(soup)\n",
    "* [done] get_columns(soup)\n",
    "* [done] get_html_data(soup)\n",
    "* [done] get_soup(url, headers)\n",
    "* [done] get_links(soup)"
   ]
  },
  {
   "cell_type": "code",
   "execution_count": 2,
   "id": "4e0fe2f7",
   "metadata": {},
   "outputs": [],
   "source": [
    "def get_row(soup):\n",
    "    \n",
    "    '''get soup & return np.array of all relevant row details'''\n",
    "    \n",
    "    row = get_name(soup)\n",
    "    row = np.append( row,get_record(soup) )\n",
    "    row = np.append( row,get_stats(soup) )\n",
    "    \n",
    "    return row"
   ]
  },
  {
   "cell_type": "code",
   "execution_count": 3,
   "id": "30ffaba9",
   "metadata": {},
   "outputs": [],
   "source": [
    "def get_record(soup):\n",
    "    \n",
    "    '''get soup & return np.array of wins,draws,losses'''\n",
    "    \n",
    "    h2 = soup.find('h2',{'class':'b-content__title'})\n",
    "\n",
    "    record = h2 .contents[3].contents[0].strip()\n",
    "    record = record[record.find(':')+2:len(record)]\n",
    "    \n",
    "    wins = record[:record.find('-')]\n",
    "    \n",
    "    losses = record[record.find('-')+1:record.find('-')+record.find('-')]\n",
    "    \n",
    "    if record.find(' ') == -1:\n",
    "        string_end = len(record)\n",
    "    else:\n",
    "        string_end = record.find(' ')\n",
    "    \n",
    "    draws = record[record.find('-')+1+record.find('-'):string_end]\n",
    "    \n",
    "    return np.array([wins,losses,draws])"
   ]
  },
  {
   "cell_type": "code",
   "execution_count": 4,
   "id": "7c7d60b0",
   "metadata": {},
   "outputs": [],
   "source": [
    "def get_name(soup):\n",
    "    \n",
    "    '''get soup & return fighter's name'''\n",
    "    \n",
    "    h2 = soup.find('h2',{'class':'b-content__title'})\n",
    "    name = h2.contents[1].contents[0].strip()\n",
    "    \n",
    "    return np.array([name])"
   ]
  },
  {
   "cell_type": "code",
   "execution_count": 5,
   "id": "5c111276",
   "metadata": {},
   "outputs": [],
   "source": [
    "def get_stats(soup):\n",
    "    \n",
    "    '''get html data from page & return row with only the relevant values'''\n",
    "    \n",
    "    data = get_html_data(soup)\n",
    "    \n",
    "    row = []\n",
    "\n",
    "    for i in range(len(data)):\n",
    "        for j in range(len(data[i])):\n",
    "            row.append( data[i][j].contents[2].strip() )\n",
    "        \n",
    "    return np.array(row)             "
   ]
  },
  {
   "cell_type": "code",
   "execution_count": 6,
   "id": "90a4f423",
   "metadata": {},
   "outputs": [],
   "source": [
    "def get_columns(soup):\n",
    "    \n",
    "    '''return list of columns'''\n",
    "    \n",
    "    data = get_html_data(soup)\n",
    "    \n",
    "    columns = ['name','wins','losses','draws']\n",
    "    \n",
    "    for i in range(len(data)):\n",
    "        for j in range(len(data[i])):\n",
    "            columns.append( data[i][j].contents[1].contents[0].strip() )\n",
    "     \n",
    "    return columns"
   ]
  },
  {
   "cell_type": "code",
   "execution_count": 7,
   "id": "fda21b39",
   "metadata": {},
   "outputs": [],
   "source": [
    "def get_html_data(soup):\n",
    "    \n",
    "    '''extracting data from fighter's page to list of size = (3,m)'''\n",
    "    \n",
    "    ul_class = soup.find_all('ul',{'class':'b-list__box-list'})\n",
    "    data = []\n",
    "    \n",
    "    for item in ul_class:\n",
    "        data.append( item.find_all('li',{'class':'b-list__box-list-item b-list__box-list-item_type_block'}))\n",
    "    \n",
    "    return data"
   ]
  },
  {
   "cell_type": "code",
   "execution_count": 8,
   "id": "5bdb51ed",
   "metadata": {},
   "outputs": [],
   "source": [
    "def get_soup(url, headers = {'User-Agent':'Mozilla/5.0 (Windows NT 10.0; Win64; x64) AppleWebKit/537.36 (KHTML, like Gecko) Chrome/103.0.0.0 Safari/537.36'}):\n",
    "    \n",
    "    '''set url page, \n",
    "    return soup as text'''\n",
    "    \n",
    "    try:\n",
    "        r = requests.get(url)\n",
    "        soup = BeautifulSoup(r.text, 'html.parser')\n",
    "    except:\n",
    "        print('Error on: ' + url) \n",
    "        return None\n",
    "    \n",
    "    return soup"
   ]
  },
  {
   "cell_type": "code",
   "execution_count": 9,
   "id": "589db7f9",
   "metadata": {},
   "outputs": [],
   "source": [
    "def get_links(soup):\n",
    "    \n",
    "    '''return list of all page links'''\n",
    "    \n",
    "    url_links = soup.find_all('a', {'class':'b-link b-link_style_black'})\n",
    "    links = []\n",
    "\n",
    "    for item in url_links:\n",
    "        links.append( item['href'] )\n",
    "        \n",
    "    return np.unique(links)    "
   ]
  },
  {
   "cell_type": "markdown",
   "id": "7357a38c",
   "metadata": {},
   "source": [
    "# Main( )\n",
    "***"
   ]
  },
  {
   "cell_type": "markdown",
   "id": "23a4446b",
   "metadata": {},
   "source": [
    "### - [done] Extracting columns"
   ]
  },
  {
   "cell_type": "code",
   "execution_count": 10,
   "id": "18d8f027",
   "metadata": {},
   "outputs": [
    {
     "name": "stdout",
     "output_type": "stream",
     "text": [
      "['name', 'wins', 'losses', 'draws', 'Height:', 'Weight:', 'Reach:', 'STANCE:', 'DOB:', 'SLpM:', 'Str. Acc.:', 'SApM:', 'Str. Def:', '', 'TD Avg.:', 'TD Acc.:', 'TD Def.:', 'Sub. Avg.:']\n"
     ]
    }
   ],
   "source": [
    "url = 'http://ufcstats.com/statistics/fighters?char=a&page=all'\n",
    "soup = get_soup(url)\n",
    "links = get_links(soup)\n",
    "columns = get_columns( get_soup(links[1]) )\n",
    "print(columns)"
   ]
  },
  {
   "cell_type": "markdown",
   "id": "f205a7df",
   "metadata": {},
   "source": [
    "### - [done] constructing pandas data frame"
   ]
  },
  {
   "cell_type": "code",
   "execution_count": 11,
   "id": "3b960cfb",
   "metadata": {},
   "outputs": [
    {
     "data": {
      "text/html": [
       "<div>\n",
       "<style scoped>\n",
       "    .dataframe tbody tr th:only-of-type {\n",
       "        vertical-align: middle;\n",
       "    }\n",
       "\n",
       "    .dataframe tbody tr th {\n",
       "        vertical-align: top;\n",
       "    }\n",
       "\n",
       "    .dataframe thead th {\n",
       "        text-align: right;\n",
       "    }\n",
       "</style>\n",
       "<table border=\"1\" class=\"dataframe\">\n",
       "  <thead>\n",
       "    <tr style=\"text-align: right;\">\n",
       "      <th></th>\n",
       "      <th>name</th>\n",
       "      <th>wins</th>\n",
       "      <th>losses</th>\n",
       "      <th>draws</th>\n",
       "      <th>Height:</th>\n",
       "      <th>Weight:</th>\n",
       "      <th>Reach:</th>\n",
       "      <th>STANCE:</th>\n",
       "      <th>DOB:</th>\n",
       "      <th>SLpM:</th>\n",
       "      <th>Str. Acc.:</th>\n",
       "      <th>SApM:</th>\n",
       "      <th>Str. Def:</th>\n",
       "      <th></th>\n",
       "      <th>TD Avg.:</th>\n",
       "      <th>TD Acc.:</th>\n",
       "      <th>TD Def.:</th>\n",
       "      <th>Sub. Avg.:</th>\n",
       "    </tr>\n",
       "  </thead>\n",
       "  <tbody>\n",
       "  </tbody>\n",
       "</table>\n",
       "</div>"
      ],
      "text/plain": [
       "Empty DataFrame\n",
       "Columns: [name, wins, losses, draws, Height:, Weight:, Reach:, STANCE:, DOB:, SLpM:, Str. Acc.:, SApM:, Str. Def:, , TD Avg.:, TD Acc.:, TD Def.:, Sub. Avg.:]\n",
       "Index: []"
      ]
     },
     "execution_count": 11,
     "metadata": {},
     "output_type": "execute_result"
    }
   ],
   "source": [
    "df = pd.DataFrame(columns = columns)\n",
    "df"
   ]
  },
  {
   "cell_type": "markdown",
   "id": "3289aa5d",
   "metadata": {},
   "source": [
    "### - [done] extracting fighters statistics"
   ]
  },
  {
   "cell_type": "code",
   "execution_count": 12,
   "id": "10ae56f6",
   "metadata": {},
   "outputs": [
    {
     "name": "stdout",
     "output_type": "stream",
     "text": [
      "Scraping page 52/52 (32/32 links) => 100.0 % completed d \r"
     ]
    }
   ],
   "source": [
    "pages = ascii_letters.lower()\n",
    "\n",
    "pages_amount = len(pages)\n",
    "current_page = 0\n",
    "\n",
    "for page in pages:\n",
    "    current_page += 1 \n",
    "    url = 'http://ufcstats.com/statistics/fighters?char=' + page + '&page=all'\n",
    "    #soup = get_soup(url)\n",
    "    page_links = get_links(get_soup(url))\n",
    "    links_amount = len(page_links)\n",
    "    \n",
    "    current_link = 0\n",
    "    for stat_page in page_links:\n",
    "        current_link += 1\n",
    "        percent = round((((current_page-1)/pages_amount) + (current_link/links_amount)*(1/pages_amount)) * 100, 2)\n",
    "        print('Scraping page %d/%d (%d/%d links) => %s %% completed ' %(current_page, pages_amount, current_link, links_amount, percent), end = '\\r')\n",
    "        stat_page_soup = get_soup(stat_page)\n",
    "        row = get_row(stat_page_soup)\n",
    "        df.loc[len(df)] = row\n",
    "        "
   ]
  },
  {
   "cell_type": "code",
   "execution_count": 13,
   "id": "61b6522c",
   "metadata": {},
   "outputs": [
    {
     "data": {
      "text/html": [
       "<div>\n",
       "<style scoped>\n",
       "    .dataframe tbody tr th:only-of-type {\n",
       "        vertical-align: middle;\n",
       "    }\n",
       "\n",
       "    .dataframe tbody tr th {\n",
       "        vertical-align: top;\n",
       "    }\n",
       "\n",
       "    .dataframe thead th {\n",
       "        text-align: right;\n",
       "    }\n",
       "</style>\n",
       "<table border=\"1\" class=\"dataframe\">\n",
       "  <thead>\n",
       "    <tr style=\"text-align: right;\">\n",
       "      <th></th>\n",
       "      <th>name</th>\n",
       "      <th>wins</th>\n",
       "      <th>losses</th>\n",
       "      <th>draws</th>\n",
       "      <th>Height:</th>\n",
       "      <th>Weight:</th>\n",
       "      <th>Reach:</th>\n",
       "      <th>STANCE:</th>\n",
       "      <th>DOB:</th>\n",
       "      <th>SLpM:</th>\n",
       "      <th>Str. Acc.:</th>\n",
       "      <th>SApM:</th>\n",
       "      <th>Str. Def:</th>\n",
       "      <th></th>\n",
       "      <th>TD Avg.:</th>\n",
       "      <th>TD Acc.:</th>\n",
       "      <th>TD Def.:</th>\n",
       "      <th>Sub. Avg.:</th>\n",
       "    </tr>\n",
       "  </thead>\n",
       "  <tbody>\n",
       "    <tr>\n",
       "      <th>7839</th>\n",
       "      <td>Joao Zeferino</td>\n",
       "      <td>21</td>\n",
       "      <td>9</td>\n",
       "      <td>0</td>\n",
       "      <td>5' 11\"</td>\n",
       "      <td>170 lbs.</td>\n",
       "      <td>--</td>\n",
       "      <td>Orthodox</td>\n",
       "      <td>Jan 15, 1986</td>\n",
       "      <td>0.83</td>\n",
       "      <td>36%</td>\n",
       "      <td>2.60</td>\n",
       "      <td>48%</td>\n",
       "      <td></td>\n",
       "      <td>0.50</td>\n",
       "      <td>5%</td>\n",
       "      <td>50%</td>\n",
       "      <td>1.0</td>\n",
       "    </tr>\n",
       "    <tr>\n",
       "      <th>7840</th>\n",
       "      <td>Zhang Tiequan</td>\n",
       "      <td>15</td>\n",
       "      <td>4</td>\n",
       "      <td>0</td>\n",
       "      <td>5' 8\"</td>\n",
       "      <td>155 lbs.</td>\n",
       "      <td>69\"</td>\n",
       "      <td>Orthodox</td>\n",
       "      <td>Jul 25, 1978</td>\n",
       "      <td>1.23</td>\n",
       "      <td>36%</td>\n",
       "      <td>2.14</td>\n",
       "      <td>51%</td>\n",
       "      <td></td>\n",
       "      <td>1.95</td>\n",
       "      <td>58%</td>\n",
       "      <td>75%</td>\n",
       "      <td>3.4</td>\n",
       "    </tr>\n",
       "    <tr>\n",
       "      <th>7841</th>\n",
       "      <td>Carlos Zevallos</td>\n",
       "      <td>3</td>\n",
       "      <td></td>\n",
       "      <td>-0</td>\n",
       "      <td>6' 0\"</td>\n",
       "      <td>205 lbs.</td>\n",
       "      <td>--</td>\n",
       "      <td>Orthodox</td>\n",
       "      <td>--</td>\n",
       "      <td>4.36</td>\n",
       "      <td>65%</td>\n",
       "      <td>2.28</td>\n",
       "      <td>68%</td>\n",
       "      <td></td>\n",
       "      <td>0.00</td>\n",
       "      <td>0%</td>\n",
       "      <td>100%</td>\n",
       "      <td>0.0</td>\n",
       "    </tr>\n",
       "    <tr>\n",
       "      <th>7842</th>\n",
       "      <td>Zach Zane</td>\n",
       "      <td>10</td>\n",
       "      <td>7</td>\n",
       "      <td>0</td>\n",
       "      <td>5' 7\"</td>\n",
       "      <td>145 lbs.</td>\n",
       "      <td>69\"</td>\n",
       "      <td>Southpaw</td>\n",
       "      <td>Dec 14, 1989</td>\n",
       "      <td>0.87</td>\n",
       "      <td>56%</td>\n",
       "      <td>6.67</td>\n",
       "      <td>20%</td>\n",
       "      <td></td>\n",
       "      <td>0.00</td>\n",
       "      <td>0%</td>\n",
       "      <td>26%</td>\n",
       "      <td>0.0</td>\n",
       "    </tr>\n",
       "    <tr>\n",
       "      <th>7843</th>\n",
       "      <td>Roger Zapata</td>\n",
       "      <td>4</td>\n",
       "      <td></td>\n",
       "      <td>-0</td>\n",
       "      <td>5' 11\"</td>\n",
       "      <td>170 lbs.</td>\n",
       "      <td>--</td>\n",
       "      <td>Southpaw</td>\n",
       "      <td>May 09, 1986</td>\n",
       "      <td>2.60</td>\n",
       "      <td>51%</td>\n",
       "      <td>2.13</td>\n",
       "      <td>36%</td>\n",
       "      <td></td>\n",
       "      <td>0.00</td>\n",
       "      <td>0%</td>\n",
       "      <td>81%</td>\n",
       "      <td>1.4</td>\n",
       "    </tr>\n",
       "  </tbody>\n",
       "</table>\n",
       "</div>"
      ],
      "text/plain": [
       "                 name wins losses draws Height:   Weight: Reach:   STANCE:  \\\n",
       "7839    Joao Zeferino   21      9     0  5' 11\"  170 lbs.     --  Orthodox   \n",
       "7840    Zhang Tiequan   15      4     0   5' 8\"  155 lbs.    69\"  Orthodox   \n",
       "7841  Carlos Zevallos    3           -0   6' 0\"  205 lbs.     --  Orthodox   \n",
       "7842        Zach Zane   10      7     0   5' 7\"  145 lbs.    69\"  Southpaw   \n",
       "7843     Roger Zapata    4           -0  5' 11\"  170 lbs.     --  Southpaw   \n",
       "\n",
       "              DOB: SLpM: Str. Acc.: SApM: Str. Def:   TD Avg.: TD Acc.:  \\\n",
       "7839  Jan 15, 1986  0.83        36%  2.60       48%       0.50       5%   \n",
       "7840  Jul 25, 1978  1.23        36%  2.14       51%       1.95      58%   \n",
       "7841            --  4.36        65%  2.28       68%       0.00       0%   \n",
       "7842  Dec 14, 1989  0.87        56%  6.67       20%       0.00       0%   \n",
       "7843  May 09, 1986  2.60        51%  2.13       36%       0.00       0%   \n",
       "\n",
       "     TD Def.: Sub. Avg.:  \n",
       "7839      50%        1.0  \n",
       "7840      75%        3.4  \n",
       "7841     100%        0.0  \n",
       "7842      26%        0.0  \n",
       "7843      81%        1.4  "
      ]
     },
     "execution_count": 13,
     "metadata": {},
     "output_type": "execute_result"
    }
   ],
   "source": [
    "df.tail()"
   ]
  },
  {
   "cell_type": "markdown",
   "id": "b1dfabac",
   "metadata": {},
   "source": [
    "### -[done] saving file"
   ]
  },
  {
   "cell_type": "code",
   "execution_count": 15,
   "id": "6a40dfde",
   "metadata": {},
   "outputs": [],
   "source": [
    "df.to_csv('../data/ufc_fighters_stats.csv')"
   ]
  },
  {
   "cell_type": "markdown",
   "id": "f4c5aae2",
   "metadata": {},
   "source": [
    "## >>>>>>>>>>>>>>>>>>>>>>>>>>>>>>>>>>>>>>>>>>>>>>>>>>>>>>>>>>>>>>>"
   ]
  }
 ],
 "metadata": {
  "kernelspec": {
   "display_name": "Python 3 (ipykernel)",
   "language": "python",
   "name": "python3"
  },
  "language_info": {
   "codemirror_mode": {
    "name": "ipython",
    "version": 3
   },
   "file_extension": ".py",
   "mimetype": "text/x-python",
   "name": "python",
   "nbconvert_exporter": "python",
   "pygments_lexer": "ipython3",
   "version": "3.9.7"
  }
 },
 "nbformat": 4,
 "nbformat_minor": 5
}
