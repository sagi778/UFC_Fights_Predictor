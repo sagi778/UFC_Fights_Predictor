{
 "cells": [
  {
   "cell_type": "markdown",
   "id": "ee3cab1e-724d-43aa-b49d-0082287dacd5",
   "metadata": {},
   "source": [
    "micro model is a model trained on a small data set containing only specific fighter & an opponent of an upcoming fight,\n",
    "it should show trends that belong to specific fighters or fighting styles"
   ]
  },
  {
   "cell_type": "code",
   "execution_count": 1,
   "id": "0ef82a55-fae6-4826-94f1-89182f5a5b8d",
   "metadata": {},
   "outputs": [],
   "source": [
    "import pandas as pd\n",
    "from sklearn.model_selection import train_test_split\n",
    "from sklearn import metrics\n",
    "from sklearn.metrics import mean_squared_error\n",
    "import math\n",
    "from statistics import mean\n",
    "import datetime as dt\n",
    "import numpy as np\n",
    "from bokeh.plotting import show\n",
    "from sklearn.linear_model import LinearRegression\n",
    "from sklearn.linear_model import LogisticRegression\n",
    "import matplotlib.pyplot as plt\n",
    "from sklearn import tree \n",
    "\n",
    "import seaborn as sns\n",
    "sns.set_style(\"ticks\")\n",
    "sns.set_context(\"notebook\", rc={\"lines.linewidth\": 2})\n",
    "\n",
    "import statistics as stat\n",
    "import random\n",
    "import matplotlib.pyplot as plt\n",
    "from sklearn import tree \n",
    "from sklearn.tree import DecisionTreeClassifier\n",
    "from sklearn.metrics import accuracy_score\n",
    "from sklearn.metrics import confusion_matrix\n",
    "from sklearn.metrics import classification_report\n",
    "from sklearn.metrics import plot_confusion_matrix\n",
    "\n",
    "pd.set_option(\"display.max_columns\", None)"
   ]
  },
  {
   "cell_type": "markdown",
   "id": "260f1851-f869-4478-a3a9-bd550212eab5",
   "metadata": {},
   "source": [
    "input parameters"
   ]
  },
  {
   "cell_type": "code",
   "execution_count": 16,
   "id": "1e307652-b2a8-48d6-945f-88e8cc2ed93b",
   "metadata": {},
   "outputs": [],
   "source": [
    "red_fighter = 'Sean Strickland'\n",
    "blue_fighter = 'Nassourdine Imavov'"
   ]
  },
  {
   "cell_type": "markdown",
   "id": "ade4f1eb-fcc0-44da-869d-4339f1b0986e",
   "metadata": {},
   "source": [
    "preparing data frame"
   ]
  },
  {
   "cell_type": "code",
   "execution_count": 22,
   "id": "37893b3c-552e-4eb6-b56c-3e2b43fe1b8f",
   "metadata": {},
   "outputs": [
    {
     "name": "stdout",
     "output_type": "stream",
     "text": [
      "Data Frame loaded: (6793, 22)\n"
     ]
    },
    {
     "data": {
      "text/html": [
       "<div>\n",
       "<style scoped>\n",
       "    .dataframe tbody tr th:only-of-type {\n",
       "        vertical-align: middle;\n",
       "    }\n",
       "\n",
       "    .dataframe tbody tr th {\n",
       "        vertical-align: top;\n",
       "    }\n",
       "\n",
       "    .dataframe thead th {\n",
       "        text-align: right;\n",
       "    }\n",
       "</style>\n",
       "<table border=\"1\" class=\"dataframe\">\n",
       "  <thead>\n",
       "    <tr style=\"text-align: right;\">\n",
       "      <th></th>\n",
       "      <th>result</th>\n",
       "      <th>fighter</th>\n",
       "      <th>opponent</th>\n",
       "      <th>date</th>\n",
       "      <th>weight class</th>\n",
       "      <th>method</th>\n",
       "      <th>kd_dif</th>\n",
       "      <th>str_dif</th>\n",
       "      <th>td_dif</th>\n",
       "      <th>sub_dif</th>\n",
       "      <th>td avg._dif</th>\n",
       "      <th>td acc._dif</th>\n",
       "      <th>td def._dif</th>\n",
       "      <th>sub. avg._dif</th>\n",
       "      <th>slpm_dif</th>\n",
       "      <th>str. acc._dif</th>\n",
       "      <th>sapm_dif</th>\n",
       "      <th>str. def_dif</th>\n",
       "      <th>stance_win_ratio</th>\n",
       "      <th>win_perc_dif</th>\n",
       "      <th>win_strk_dif</th>\n",
       "      <th>lose_strk_dif</th>\n",
       "    </tr>\n",
       "  </thead>\n",
       "  <tbody>\n",
       "    <tr>\n",
       "      <th>6792</th>\n",
       "      <td>lose</td>\n",
       "      <td>Joshua Burkman</td>\n",
       "      <td>Drew Dober</td>\n",
       "      <td>2017-07-29</td>\n",
       "      <td>Lightweight</td>\n",
       "      <td>KO/TKO:Punch</td>\n",
       "      <td>-1.358127</td>\n",
       "      <td>-0.147449</td>\n",
       "      <td>0.001742</td>\n",
       "      <td>-0.009118</td>\n",
       "      <td>1.009951</td>\n",
       "      <td>0.674667</td>\n",
       "      <td>0.620796</td>\n",
       "      <td>0.182521</td>\n",
       "      <td>-1.112197</td>\n",
       "      <td>0.253815</td>\n",
       "      <td>-0.6283</td>\n",
       "      <td>0.002428</td>\n",
       "      <td>-1.188484</td>\n",
       "      <td>-0.122326</td>\n",
       "      <td>-0.014125</td>\n",
       "      <td>2.153078</td>\n",
       "    </tr>\n",
       "  </tbody>\n",
       "</table>\n",
       "</div>"
      ],
      "text/plain": [
       "     result         fighter    opponent        date weight class  \\\n",
       "6792   lose  Joshua Burkman  Drew Dober  2017-07-29  Lightweight   \n",
       "\n",
       "            method    kd_dif   str_dif    td_dif   sub_dif  td avg._dif  \\\n",
       "6792  KO/TKO:Punch -1.358127 -0.147449  0.001742 -0.009118     1.009951   \n",
       "\n",
       "      td acc._dif  td def._dif  sub. avg._dif  slpm_dif  str. acc._dif  \\\n",
       "6792     0.674667     0.620796       0.182521 -1.112197       0.253815   \n",
       "\n",
       "      sapm_dif  str. def_dif  stance_win_ratio  win_perc_dif  win_strk_dif  \\\n",
       "6792   -0.6283      0.002428         -1.188484     -0.122326     -0.014125   \n",
       "\n",
       "      lose_strk_dif  \n",
       "6792       2.153078  "
      ]
     },
     "execution_count": 22,
     "metadata": {},
     "output_type": "execute_result"
    }
   ],
   "source": [
    "loc = 'data/'\n",
    "file = 'ufc_data_features.csv'\n",
    "df = pd.read_csv(loc+file)\n",
    "df = df[df.columns[1:]]\n",
    "print('Data Frame loaded: '+str(df.shape))\n",
    "df.tail(1)"
   ]
  },
  {
   "cell_type": "code",
   "execution_count": 23,
   "id": "4c33e180-d973-4879-a0c7-a8226fbd7a8b",
   "metadata": {},
   "outputs": [
    {
     "data": {
      "text/html": [
       "<div>\n",
       "<style scoped>\n",
       "    .dataframe tbody tr th:only-of-type {\n",
       "        vertical-align: middle;\n",
       "    }\n",
       "\n",
       "    .dataframe tbody tr th {\n",
       "        vertical-align: top;\n",
       "    }\n",
       "\n",
       "    .dataframe thead th {\n",
       "        text-align: right;\n",
       "    }\n",
       "</style>\n",
       "<table border=\"1\" class=\"dataframe\">\n",
       "  <thead>\n",
       "    <tr style=\"text-align: right;\">\n",
       "      <th></th>\n",
       "      <th>result</th>\n",
       "      <th>fighter</th>\n",
       "      <th>opponent</th>\n",
       "      <th>kd_dif</th>\n",
       "      <th>str_dif</th>\n",
       "      <th>td_dif</th>\n",
       "      <th>sub_dif</th>\n",
       "      <th>td avg._dif</th>\n",
       "      <th>td acc._dif</th>\n",
       "      <th>td def._dif</th>\n",
       "      <th>sub. avg._dif</th>\n",
       "      <th>slpm_dif</th>\n",
       "      <th>str. acc._dif</th>\n",
       "      <th>sapm_dif</th>\n",
       "      <th>str. def_dif</th>\n",
       "      <th>stance_win_ratio</th>\n",
       "      <th>win_perc_dif</th>\n",
       "      <th>win_strk_dif</th>\n",
       "      <th>lose_strk_dif</th>\n",
       "    </tr>\n",
       "  </thead>\n",
       "  <tbody>\n",
       "    <tr>\n",
       "      <th>19</th>\n",
       "      <td>win</td>\n",
       "      <td>Nassourdine Imavov</td>\n",
       "      <td>Ian Heinisch</td>\n",
       "      <td>-0.005772</td>\n",
       "      <td>0.567212</td>\n",
       "      <td>0.396182</td>\n",
       "      <td>-0.009118</td>\n",
       "      <td>-0.019691</td>\n",
       "      <td>0.219684</td>\n",
       "      <td>0.587298</td>\n",
       "      <td>1.613356</td>\n",
       "      <td>0.530882</td>\n",
       "      <td>0.334959</td>\n",
       "      <td>-0.336185</td>\n",
       "      <td>0.254871</td>\n",
       "      <td>-0.136721</td>\n",
       "      <td>0.005604</td>\n",
       "      <td>-0.014125</td>\n",
       "      <td>0.000317</td>\n",
       "    </tr>\n",
       "    <tr>\n",
       "      <th>20</th>\n",
       "      <td>win</td>\n",
       "      <td>Kamaru Usman</td>\n",
       "      <td>Sean Strickland</td>\n",
       "      <td>1.346582</td>\n",
       "      <td>2.372671</td>\n",
       "      <td>0.790623</td>\n",
       "      <td>-0.009118</td>\n",
       "      <td>1.060041</td>\n",
       "      <td>-0.445292</td>\n",
       "      <td>0.419809</td>\n",
       "      <td>-0.199035</td>\n",
       "      <td>-0.614866</td>\n",
       "      <td>1.065261</td>\n",
       "      <td>-0.883901</td>\n",
       "      <td>-0.670753</td>\n",
       "      <td>0.279075</td>\n",
       "      <td>0.440565</td>\n",
       "      <td>0.557095</td>\n",
       "      <td>0.000317</td>\n",
       "    </tr>\n",
       "    <tr>\n",
       "      <th>21</th>\n",
       "      <td>win</td>\n",
       "      <td>Sean Strickland</td>\n",
       "      <td>Tom Breese</td>\n",
       "      <td>-0.005772</td>\n",
       "      <td>0.416757</td>\n",
       "      <td>0.001742</td>\n",
       "      <td>-0.009118</td>\n",
       "      <td>0.653750</td>\n",
       "      <td>2.144614</td>\n",
       "      <td>0.520303</td>\n",
       "      <td>-0.771369</td>\n",
       "      <td>1.393341</td>\n",
       "      <td>-0.801066</td>\n",
       "      <td>0.728817</td>\n",
       "      <td>0.423166</td>\n",
       "      <td>-1.188484</td>\n",
       "      <td>-0.506115</td>\n",
       "      <td>-0.585345</td>\n",
       "      <td>0.000317</td>\n",
       "    </tr>\n",
       "  </tbody>\n",
       "</table>\n",
       "</div>"
      ],
      "text/plain": [
       "   result             fighter         opponent    kd_dif   str_dif    td_dif  \\\n",
       "19    win  Nassourdine Imavov     Ian Heinisch -0.005772  0.567212  0.396182   \n",
       "20    win        Kamaru Usman  Sean Strickland  1.346582  2.372671  0.790623   \n",
       "21    win     Sean Strickland       Tom Breese -0.005772  0.416757  0.001742   \n",
       "\n",
       "     sub_dif  td avg._dif  td acc._dif  td def._dif  sub. avg._dif  slpm_dif  \\\n",
       "19 -0.009118    -0.019691     0.219684     0.587298       1.613356  0.530882   \n",
       "20 -0.009118     1.060041    -0.445292     0.419809      -0.199035 -0.614866   \n",
       "21 -0.009118     0.653750     2.144614     0.520303      -0.771369  1.393341   \n",
       "\n",
       "    str. acc._dif  sapm_dif  str. def_dif  stance_win_ratio  win_perc_dif  \\\n",
       "19       0.334959 -0.336185      0.254871         -0.136721      0.005604   \n",
       "20       1.065261 -0.883901     -0.670753          0.279075      0.440565   \n",
       "21      -0.801066  0.728817      0.423166         -1.188484     -0.506115   \n",
       "\n",
       "    win_strk_dif  lose_strk_dif  \n",
       "19     -0.014125       0.000317  \n",
       "20      0.557095       0.000317  \n",
       "21     -0.585345       0.000317  "
      ]
     },
     "execution_count": 23,
     "metadata": {},
     "output_type": "execute_result"
    }
   ],
   "source": [
    "df = (df[(df.fighter==red_fighter)|(df.opponent==blue_fighter)|(df.fighter==blue_fighter)|(df.opponent==red_fighter)]).reset_index(drop=True)\n",
    "df = df.drop(columns=['date','weight class','method'])\n",
    "df.tail(3)"
   ]
  },
  {
   "cell_type": "markdown",
   "id": "8f31db07-00cb-4ccf-86ce-3ec6ba01ec3a",
   "metadata": {},
   "source": [
    "#### Features analysis"
   ]
  },
  {
   "cell_type": "code",
   "execution_count": 58,
   "id": "84a41943-971d-4c64-bd03-032a38e6d530",
   "metadata": {},
   "outputs": [
    {
     "data": {
      "text/plain": [
       "<AxesSubplot:xlabel='win_strk_dif', ylabel='Count'>"
      ]
     },
     "execution_count": 58,
     "metadata": {},
     "output_type": "execute_result"
    },
    {
     "data": {
      "image/png": "[encoded data removed]",
      "text/plain": [
       "<Figure size 432x288 with 1 Axes>"
      ]
     },
     "metadata": {},
     "output_type": "display_data"
    }
   ],
   "source": [
    "features = df.columns[3:]\n",
    "\n",
    "rows = 1\n",
    "cols = len(features)-2\n",
    "#fig, axs = plt.subplots(rows,cols,figsize = (45,5))\n",
    "\n",
    "#sns.scatterplot(data=df, x='win_strk_dif', y='str_dif',hue='result')\n",
    "sns.histplot(data=df,x='win_strk_dif',hue='result',)"
   ]
  },
  {
   "cell_type": "code",
   "execution_count": 35,
   "id": "95db70a3-dea8-433d-8b24-ed7169b9afd0",
   "metadata": {},
   "outputs": [
    {
     "data": {
      "text/plain": [
       "Index(['result', 'fighter', 'opponent', 'kd_dif', 'str_dif', 'td_dif',\n",
       "       'sub_dif', 'td avg._dif', 'td acc._dif', 'td def._dif', 'sub. avg._dif',\n",
       "       'slpm_dif', 'str. acc._dif', 'sapm_dif', 'str. def_dif',\n",
       "       'stance_win_ratio', 'win_perc_dif', 'win_strk_dif', 'lose_strk_dif'],\n",
       "      dtype='object')"
      ]
     },
     "execution_count": 35,
     "metadata": {},
     "output_type": "execute_result"
    }
   ],
   "source": [
    "df.columns"
   ]
  },
  {
   "cell_type": "markdown",
   "id": "00fe2324-a9d0-4a91-b2ea-94d92c3d8f88",
   "metadata": {
    "jp-MarkdownHeadingCollapsed": true,
    "tags": []
   },
   "source": [
    "#### set new upcoming fight:"
   ]
  },
  {
   "cell_type": "code",
   "execution_count": 25,
   "id": "2b20571a-68bd-451e-9e16-c52601b9e403",
   "metadata": {},
   "outputs": [],
   "source": [
    "def set_new_fight(fighter, opponent, data):\n",
    "    \n",
    "    row = {'date': get_current_date(),\n",
    "           'result': None,\n",
    "           'fighter': fighter,\n",
    "           'opponent': opponent,\n",
    "           'win_perc_dif': get_win_perc(fighter=fighter, data=data) - get_win_perc(fighter=opponent, data=data),\n",
    "           'win_strk_dif': get_win_streak(fighter=fighter, data=data) - get_win_streak(fighter=opponent, data=data),\n",
    "           'lose_strk_dif': get_lose_streak(fighter=fighter, data=data) - get_lose_streak(fighter=opponent, data=data),\n",
    "           'td avg._dif': get_td_avg(fighter=fighter, data=stats) - get_td_avg(fighter=opponent, data=stats),\n",
    "           'sub. avg._dif': get_sub_avg(fighter=fighter, data=stats) - get_sub_avg(fighter=opponent, data=stats),\n",
    "           'sapm_dif': get_sapm(fighter=fighter, data=stats) - get_sapm(fighter=opponent, data=stats),\n",
    "           'slpm_dif': get_slpm(fighter=fighter, data=stats) - get_slpm(fighter=opponent, data=stats),\n",
    "           'kd_dif':None,\n",
    "           'str_dif':None,\n",
    "           'td_dif':None,\n",
    "           'sub_dif':None,\n",
    "          }\n",
    "    return pd.DataFrame(row, index=[0])"
   ]
  },
  {
   "cell_type": "code",
   "execution_count": 26,
   "id": "b3b93bd2-641c-482e-9429-62521c8e18cb",
   "metadata": {},
   "outputs": [],
   "source": [
    "def get_current_date():\n",
    "    from datetime import date\n",
    "    import pandas as pd\n",
    "    return pd.to_datetime(date.today())\n",
    "\n",
    "def get_win_perc(fighter, data=df):\n",
    "    '''return current career winning %'''\n",
    "    date = get_current_date()\n",
    "    wins = len(data[(data['fighter'] == fighter)&(data.date < date) & (data['result']=='win')]) + len(data[(data['opponent'] == fighter)&(data.date < date) & (data['result']=='lose')])\n",
    "    losses = len(data[(data['fighter'] == fighter)&(data.date < date) & (data['result']=='lose')]) + len(data[(data['opponent'] == fighter)&(data.date < date) & (data['result']=='win')])\n",
    "    \n",
    "    if wins == 0:\n",
    "        return 0\n",
    "    return wins/(wins+losses)\n",
    "\n",
    "def get_lose_streak(fighter, data=df):\n",
    "    '''return current lose streak'''\n",
    "    date = get_current_date()\n",
    "    data = ((data[(data.date < date)&((data.fighter == fighter)|(data.opponent == fighter))]).sort_values(by=['date'], ascending=False)).reset_index(drop=True)\n",
    "    \n",
    "    count = 0\n",
    "    for i in range(0,len(data)):\n",
    "        \n",
    "        result = data.loc[i,'result']\n",
    "        f = data.loc[i,'fighter']\n",
    "        o = data.loc[i,'opponent']\n",
    "        \n",
    "        if ((result == 'lose')&(f == fighter))|((result == 'win')&(o == fighter)):\n",
    "            count += 1\n",
    "        else:\n",
    "            return count\n",
    "    return count\n",
    "\n",
    "def get_win_streak(fighter, data=df):\n",
    "    '''return current win streak'''\n",
    "    date = get_current_date()\n",
    "    data = ((data[(data.date < date)&((data.fighter == fighter)|(data.opponent == fighter))]).sort_values(by=['date'], ascending=False)).reset_index(drop=True)\n",
    "    \n",
    "    count = 0\n",
    "    for i in range(0,len(data)):\n",
    "        \n",
    "        result = data.loc[i,'result']\n",
    "        f = data.loc[i,'fighter']\n",
    "        o = data.loc[i,'opponent']\n",
    "        \n",
    "        if ((result == 'win')&(f == fighter))|((result == 'lose')&(o == fighter)):\n",
    "            count += 1\n",
    "        else:\n",
    "            return count\n",
    "    return count\n",
    "\n",
    "def get_td_avg(fighter, data=stats):\n",
    "    '''return current takedown average'''\n",
    "    data = (data[data.name == fighter]).reset_index(drop=True)\n",
    "    return data.loc[0,'td avg.']\n",
    "\n",
    "def get_sub_avg(fighter, data=stats):\n",
    "    '''return current submission average'''\n",
    "    data = (data[data.name == fighter]).reset_index(drop=True)\n",
    "    return data.loc[0,'sub. avg.']\n",
    "\n",
    "def get_sapm(fighter, data=stats):\n",
    "    '''return current strikes absorbed per minute'''\n",
    "    data = (data[data.name == fighter]).reset_index(drop=True)\n",
    "    return data.loc[0,'sapm']\n",
    "\n",
    "def get_slpm(fighter, data=stats):\n",
    "    '''return current strikes landed per minutes'''\n",
    "    data = (data[data.name == fighter]).reset_index(drop=True)\n",
    "    return data.loc[0,'slpm']"
   ]
  },
  {
   "cell_type": "code",
   "execution_count": null,
   "id": "5ea5e3a2-b4b1-4077-ae1c-5faadab487ed",
   "metadata": {},
   "outputs": [],
   "source": []
  },
  {
   "cell_type": "code",
   "execution_count": null,
   "id": "387b10a9-db2b-4165-8f8f-945f51d8e31b",
   "metadata": {},
   "outputs": [],
   "source": []
  }
 ],
 "metadata": {
  "kernelspec": {
   "display_name": "Python 3 (ipykernel)",
   "language": "python",
   "name": "python3"
  },
  "language_info": {
   "codemirror_mode": {
    "name": "ipython",
    "version": 3
   },
   "file_extension": ".py",
   "mimetype": "text/x-python",
   "name": "python",
   "nbconvert_exporter": "python",
   "pygments_lexer": "ipython3",
   "version": "3.9.7"
  }
 },
 "nbformat": 4,
 "nbformat_minor": 5
}
