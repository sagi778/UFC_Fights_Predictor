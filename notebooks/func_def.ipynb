{
 "cells": [
  {
   "cell_type": "code",
   "execution_count": 36,
   "id": "5daf37bf-3414-4272-9a60-ece08abb4c2a",
   "metadata": {},
   "outputs": [
    {
     "name": "stdout",
     "output_type": "stream",
     "text": [
      "imports loaded.\n"
     ]
    }
   ],
   "source": [
    "%run imports.ipynb"
   ]
  },
  {
   "cell_type": "markdown",
   "id": "1db15167-f7cc-4b45-ae6a-bf9fe49ca0c1",
   "metadata": {
    "tags": []
   },
   "source": [
    "### Func def"
   ]
  },
  {
   "cell_type": "markdown",
   "id": "9ed9d33c-c975-4f90-8dcc-96a396b4a800",
   "metadata": {
    "jp-MarkdownHeadingCollapsed": true,
    "tags": []
   },
   "source": [
    "#### pre-processing"
   ]
  },
  {
   "cell_type": "code",
   "execution_count": 27,
   "id": "01fd34b0-df31-4fd6-8d72-2df5828f7826",
   "metadata": {},
   "outputs": [
    {
     "name": "stdout",
     "output_type": "stream",
     "text": [
      "\n",
      "> Pre-Processing func:\n"
     ]
    }
   ],
   "source": [
    "print('\\n> Pre-Processing func:')"
   ]
  },
  {
   "cell_type": "code",
   "execution_count": 3,
   "id": "05ab1c09-7d24-46e8-96e1-4351d581d66f",
   "metadata": {},
   "outputs": [
    {
     "name": "stdout",
     "output_type": "stream",
     "text": [
      "    get_height(item)\n"
     ]
    }
   ],
   "source": [
    "def get_height(item):\n",
    "    \n",
    "    '''return height in cm'''\n",
    "    \n",
    "    item = str(item)\n",
    "    \n",
    "    if item[0] == '-':\n",
    "        return None\n",
    "    else:\n",
    "        return round(30.48 * float(item[0:item.find(\"'\")]) + 2.54 * float(item[item.find(\"'\")+1:item.find('\"')]),2)\n",
    "\n",
    "print('    get_height(item)')    "
   ]
  },
  {
   "cell_type": "code",
   "execution_count": 4,
   "id": "3c2787f6-c4eb-4abb-99cc-406b0f034693",
   "metadata": {},
   "outputs": [
    {
     "name": "stdout",
     "output_type": "stream",
     "text": [
      "    get_weight(item)\n"
     ]
    }
   ],
   "source": [
    "def get_weight(item):\n",
    "    \n",
    "    '''return weight in kg'''\n",
    "    \n",
    "    item = str(item)\n",
    "    \n",
    "    if item[0] == '-':\n",
    "        return None\n",
    "    else:\n",
    "        return 0.45 * float(item[0:item.find('lbs.')])\n",
    "    \n",
    "print('    get_weight(item)')    "
   ]
  },
  {
   "cell_type": "code",
   "execution_count": 5,
   "id": "6c24503b-e674-4b61-a4de-da2c4d5b97e8",
   "metadata": {},
   "outputs": [
    {
     "name": "stdout",
     "output_type": "stream",
     "text": [
      "    get_reach(item)\n"
     ]
    }
   ],
   "source": [
    "def get_reach(item):\n",
    "    \n",
    "    '''return reach in cm'''\n",
    "    \n",
    "    item = str(item)\n",
    "    \n",
    "    if item[0] == '-':\n",
    "        return None\n",
    "    else:\n",
    "        return 2.54 * float(item[0:item.find('\"')])\n",
    "    \n",
    "print('    get_reach(item)')    "
   ]
  },
  {
   "cell_type": "code",
   "execution_count": 6,
   "id": "06d79f2b-7809-4e7d-b89e-6958be8e2b58",
   "metadata": {},
   "outputs": [
    {
     "name": "stdout",
     "output_type": "stream",
     "text": [
      "    get_std_reach(item, height, reach_list, height_list)\n"
     ]
    }
   ],
   "source": [
    "def get_std_reach(item, height, reach_list, height_list):\n",
    "    '''return \"standard reach\" ( =mean(reach/height)*height )'''\n",
    "    return round(height*np.mean(reach_list/height_list),2)\n",
    "\n",
    "print('    get_std_reach(item, height, reach_list, height_list)')"
   ]
  },
  {
   "cell_type": "code",
   "execution_count": 7,
   "id": "33c41fa2-fb53-4eb5-9bce-4a6a893ab9e6",
   "metadata": {},
   "outputs": [
    {
     "name": "stdout",
     "output_type": "stream",
     "text": [
      "    get_age(item)\n"
     ]
    }
   ],
   "source": [
    "def get_age(item):\n",
    "    \n",
    "    '''return age (instead of date of birth)'''\n",
    "    \n",
    "    from datetime import date,timedelta\n",
    "    \n",
    "    item = str(item)\n",
    "    current_date = date.today().year\n",
    "    \n",
    "    if item[0] == '-':\n",
    "        return None\n",
    "    else:\n",
    "        return (current_date - int(item[item.find(',')+1:]))\n",
    "    \n",
    "print('    get_age(item)')    "
   ]
  },
  {
   "cell_type": "code",
   "execution_count": 8,
   "id": "7592cd36-d911-4e50-b6c9-ee581696cf2f",
   "metadata": {},
   "outputs": [
    {
     "name": "stdout",
     "output_type": "stream",
     "text": [
      "    get_std_age(item, age_list)\n"
     ]
    }
   ],
   "source": [
    "def get_std_age(item, age_list):\n",
    "    \n",
    "    '''return standrd age per weight class'''  \n",
    "    return round(np.mean(age_list),2)\n",
    "\n",
    "print('    get_std_age(item, age_list)')"
   ]
  },
  {
   "cell_type": "code",
   "execution_count": 9,
   "id": "385fc1bc-0e02-4db1-9f6e-62bd94b6ddac",
   "metadata": {},
   "outputs": [
    {
     "name": "stdout",
     "output_type": "stream",
     "text": [
      "    get_win_perc(name, date, df)\n"
     ]
    }
   ],
   "source": [
    "def get_win_prob(name, date, df):\n",
    "    \n",
    "    '''return current career winning %'''\n",
    "    \n",
    "    wins = len(df[(df['fighter'] == name) & (df.date < date)])\n",
    "    losses = len(df[(df['opponent'] == name) & (df.date < date)])\n",
    "    \n",
    "    if wins == 0:\n",
    "        return 0\n",
    "    return wins/(wins+losses)\n",
    "\n",
    "print('    get_win_prob(name, date, df)')"
   ]
  },
  {
   "cell_type": "code",
   "execution_count": 13,
   "id": "d8d1434a-1aed-41ca-9ef2-c1595846abe5",
   "metadata": {},
   "outputs": [
    {
     "name": "stdout",
     "output_type": "stream",
     "text": [
      "    get_win_streak(name, date, df)\n"
     ]
    }
   ],
   "source": [
    "def get_win_streak(name, date, df):\n",
    "    \n",
    "    data = df[(df.fighter==name)|(df.opponent==name)].sort_values(by='date',ascending=False)\n",
    "    data = data[data.date < date].reset_index(drop=True)\n",
    "    \n",
    "    if len(data) < 1:\n",
    "        return 0\n",
    "    \n",
    "    count = 0\n",
    "    for fighter in data['fighter']:\n",
    "        if fighter != name:\n",
    "            return count\n",
    "        count += 1\n",
    "    \n",
    "    return count\n",
    "\n",
    "print('    get_win_streak(name, date, df) #return count of recent wins')"
   ]
  },
  {
   "cell_type": "code",
   "execution_count": 14,
   "id": "407500af-6a00-468b-9b3c-2c0957182b8b",
   "metadata": {},
   "outputs": [
    {
     "name": "stdout",
     "output_type": "stream",
     "text": [
      "    get_lose_streak(name, date, df)\n"
     ]
    }
   ],
   "source": [
    "def get_lose_streak(name, date, df):\n",
    "    \n",
    "    data = df[(df.fighter==name)|(df.opponent==name)].sort_values(by='date',ascending=False)\n",
    "    data = data[data.date < date].reset_index(drop=True)\n",
    "    \n",
    "    if len(data) < 1:\n",
    "        return 0\n",
    "    \n",
    "    count = 0\n",
    "    for opponent in data['opponent']:\n",
    "        if opponent != name:\n",
    "            return count\n",
    "        count += 1\n",
    "    \n",
    "    return count\n",
    "\n",
    "print('    get_lose_streak(name, date, df)')"
   ]
  },
  {
   "cell_type": "code",
   "execution_count": 4,
   "id": "43d8aa97-fdd8-499b-a9d1-7d5caacdff9d",
   "metadata": {},
   "outputs": [
    {
     "name": "stdout",
     "output_type": "stream",
     "text": [
      "    get_fighter_stats(name, data )\n"
     ]
    }
   ],
   "source": [
    "def get_fighter_stats(name, data ):\n",
    "    '''return fighters statistics from stat_df'''\n",
    "    \n",
    "    stat_list = data.columns[1:]\n",
    "    row = (data[stat_list][data.name==name]).reset_index(drop=True)\n",
    "    \n",
    "    if len(row) < 1:\n",
    "        return len(stat_list)*[None]\n",
    "    else:\n",
    "        return row.loc[0]\n",
    "    \n",
    "print('    get_fighter_stats(name, data )')    "
   ]
  },
  {
   "cell_type": "markdown",
   "id": "bae4a750-4f03-4a1a-a93e-4180d1a03414",
   "metadata": {
    "jp-MarkdownHeadingCollapsed": true,
    "tags": []
   },
   "source": [
    "#### feature_engineering"
   ]
  },
  {
   "cell_type": "code",
   "execution_count": 28,
   "id": "351e7468-75c9-4d68-9f19-eb053ad66ff9",
   "metadata": {},
   "outputs": [
    {
     "name": "stdout",
     "output_type": "stream",
     "text": [
      "\n",
      "> Feature Engineering func:\n"
     ]
    }
   ],
   "source": [
    "print('\\n> Feature Engineering func:')"
   ]
  },
  {
   "cell_type": "code",
   "execution_count": 18,
   "id": "bb4fa7d4-db63-48da-8e99-68c188873a16",
   "metadata": {},
   "outputs": [
    {
     "name": "stdout",
     "output_type": "stream",
     "text": [
      "    get_stat(index, data, stat='height', fo='')\n"
     ]
    }
   ],
   "source": [
    "def get_stat(index, data, stat='height', fo=''):\n",
    "    return data.loc[index, fo + stat]\n",
    "\n",
    "print(\"    get_stat(index, data, stat='height', fo='')\")"
   ]
  },
  {
   "cell_type": "code",
   "execution_count": 5,
   "id": "b7edaeed-5879-4c66-bee7-39fa1e525f9c",
   "metadata": {},
   "outputs": [
    {
     "name": "stdout",
     "output_type": "stream",
     "text": [
      "    get_swaped_row(index, data)\n"
     ]
    }
   ],
   "source": [
    "def get_swaped_row(index, data):\n",
    "    \n",
    "    swapped_row = []\n",
    "    for column in data.columns:\n",
    "        if column.find('f_') > -1:\n",
    "            swapped_row.append(data.loc[index,'o_' + column[2:]])\n",
    "        elif column.find('o_') > -1:\n",
    "            swapped_row.append(data.loc[index,'f_' + column[2:]]) \n",
    "        elif column == 'result':\n",
    "            swapped_row.append('lose')\n",
    "        elif column == 'fighter':\n",
    "            swapped_row.append(data.loc[index,'opponent'])\n",
    "        elif column == 'opponent':\n",
    "            swapped_row.append(data.loc[index,'fighter'])\n",
    "        else:\n",
    "            swapped_row.append(data.loc[index,column])    \n",
    "    \n",
    "    return swapped_row\n",
    "\n",
    "print('    get_swaped_row(index, data) # return fighter & opponent statistics swapped. ')"
   ]
  },
  {
   "cell_type": "code",
   "execution_count": 6,
   "id": "e6d27e4c-5889-4b08-b92d-3071250a4265",
   "metadata": {},
   "outputs": [
    {
     "name": "stdout",
     "output_type": "stream",
     "text": [
      "    get_wins(combo, data)\n"
     ]
    }
   ],
   "source": [
    "def get_wins(combo, data):\n",
    "\n",
    "    data = data[(data.result=='win') & (data.stance_combo==combo)]\n",
    "    return len(data)\n",
    "\n",
    "print('    get_wins(combo, data)')"
   ]
  },
  {
   "cell_type": "code",
   "execution_count": 7,
   "id": "71b43021-5dc6-42bb-a9c4-dddac48bc847",
   "metadata": {},
   "outputs": [
    {
     "name": "stdout",
     "output_type": "stream",
     "text": [
      "    get_wins_ratio(combo, data)\n"
     ]
    }
   ],
   "source": [
    "def get_wins_ratio(combo, data):\n",
    "    \n",
    "    combo_df = data[data.stance_combo==combo]\n",
    "    if len(combo_df) == 0:\n",
    "        return 0\n",
    "    else:\n",
    "        return get_wins(combo, data=data)/len(combo_df)\n",
    "    \n",
    "print('    get_wins_ratio(combo, data)')    "
   ]
  },
  {
   "cell_type": "markdown",
   "id": "e160915b-e83b-4f52-85ce-992ae958a74a",
   "metadata": {
    "jp-MarkdownHeadingCollapsed": true,
    "tags": []
   },
   "source": [
    "#### outlier_cleaning"
   ]
  },
  {
   "cell_type": "code",
   "execution_count": 35,
   "id": "10ec7b8a-4af6-4a34-9df5-4f122234d42d",
   "metadata": {},
   "outputs": [
    {
     "name": "stdout",
     "output_type": "stream",
     "text": [
      "\n",
      "> outlier_cleaning func:\n"
     ]
    }
   ],
   "source": [
    "print('\\n> outlier_cleaning func:')"
   ]
  },
  {
   "cell_type": "code",
   "execution_count": 42,
   "id": "6835ef77-71b3-409b-9f26-ef9f74fdaa27",
   "metadata": {},
   "outputs": [
    {
     "name": "stdout",
     "output_type": "stream",
     "text": [
      "    set_outlier_detection_model(X_columns, data)\n"
     ]
    }
   ],
   "source": [
    "def set_outlier_detection_model(X_columns, data, n=20, contemination=0.05):\n",
    "    \n",
    "    lof = LocalOutlierFactor(n_neighbors=n, algorithm='auto', metric='minkowski',contamination=contemination, novelty=False, n_jobs=-1)\n",
    "    lof.fit(data[X_columns])\n",
    "    return lof\n",
    "print('    set_outlier_detection_model(X_columns, data)')"
   ]
  },
  {
   "cell_type": "markdown",
   "id": "6d2e0092-b961-4038-a8d9-379080f2b04b",
   "metadata": {},
   "source": [
    ">>>>"
   ]
  },
  {
   "cell_type": "markdown",
   "id": "746e81da-daad-4ff2-990f-76a2cab283d0",
   "metadata": {
    "tags": []
   },
   "source": [
    "#### model_stats_pred_training"
   ]
  },
  {
   "cell_type": "code",
   "execution_count": 8,
   "id": "cba0a8e1-e308-491b-85dd-5fb1acf21d22",
   "metadata": {},
   "outputs": [
    {
     "name": "stdout",
     "output_type": "stream",
     "text": [
      "\n",
      "> model_stats_pred_training func:\n"
     ]
    }
   ],
   "source": [
    "print('\\n> model_stats_pred_training func:')"
   ]
  },
  {
   "cell_type": "code",
   "execution_count": 9,
   "id": "09170fa4-0108-44bd-b6ab-f0e79f10f5e0",
   "metadata": {},
   "outputs": [
    {
     "name": "stdout",
     "output_type": "stream",
     "text": [
      "    set_lower_cases(string)\n"
     ]
    }
   ],
   "source": [
    "def set_lower_cases(string):\n",
    "    return ''.join(c.lower() for c in string if c.isalpha())\n",
    "\n",
    "print('    set_lower_cases(string)')"
   ]
  },
  {
   "cell_type": "code",
   "execution_count": 10,
   "id": "7fa8b1a6-4107-4745-8ce4-fc73b7df4915",
   "metadata": {},
   "outputs": [
    {
     "name": "stdout",
     "output_type": "stream",
     "text": [
      "    set_train_test(X_columns, y_columns, data, test_size=0.3, valid_size=0.3)\n"
     ]
    }
   ],
   "source": [
    "def set_train_test(X_columns, y_columns, data, test_size=0.3, valid_size=0.3):\n",
    "\n",
    "    if 'set' not in data.columns:\n",
    "        data.insert(0, 'set', None) # inserd 'set' column to position 0\n",
    "    \n",
    "    for i in range(len(data)):\n",
    "        \n",
    "        if data.loc[i,'result'] == None:\n",
    "            data.loc[i,'set'] = 'new'\n",
    "        \n",
    "        elif random.random() < test_size:\n",
    "            data.loc[i,'set'] = 'test'\n",
    "        else:\n",
    "            if random.random() < valid_size:\n",
    "                data.loc[i,'set'] = 'validation'\n",
    "            else:\n",
    "                data.loc[i,'set'] = 'train' \n",
    "\n",
    "    X_train = data[X_columns][data.set=='train']\n",
    "    X_test = data[X_columns][data.set=='test']\n",
    "    y_train = data[y_columns][data.set=='train']\n",
    "    y_test = data[y_columns][data.set=='test']\n",
    "    X_val = data[X_columns][data.set=='validation']\n",
    "    y_val = data[y_columns][data.set=='validation']\n",
    "    \n",
    "    print('Data split: Data=%s, train_set=%s, validation_set=%s, test_set=%s'  %(str(data.shape), str(X_train.shape), str(X_val.shape), str(X_test.shape)))\n",
    "    return data\n",
    "\n",
    "print('    set_train_test(X_columns, y_columns, data, test_size=0.3, valid_size=0.3)')"
   ]
  },
  {
   "cell_type": "code",
   "execution_count": 11,
   "id": "bb83930b-a29d-46e1-95e0-a9c009664b2a",
   "metadata": {},
   "outputs": [
    {
     "name": "stdout",
     "output_type": "stream",
     "text": [
      "    set_xgboost_reg(X_columns, y_columns, data, n=200, learning_rate=0.2, subsample=0.4, max_depth=5)\n"
     ]
    }
   ],
   "source": [
    "def set_xgboost_reg(X_columns, y_columns, data, n=200, learning_rate=0.2, subsample=0.4, max_depth=5):\n",
    "    \n",
    "    xgboost_reg = XGBRegressor(n_estimators=n, max_depth=max_depth, learning_rate=learning_rate, subsample=subsample)\n",
    "    X_train = data.loc[data.set=='train',X_columns]\n",
    "    y_train = np.ravel(np.array(data.loc[data.set=='train',y_columns]).reshape(-1,1))\n",
    "    xgboost_reg.fit(X_train,y_train)\n",
    "    return xgboost_reg\n",
    "\n",
    "print('    set_xgboost_reg(X_columns, y_columns, data, n=200, learning_rate=0.2, subsample=0.4, max_depth=5)')"
   ]
  },
  {
   "cell_type": "code",
   "execution_count": 16,
   "id": "09c0d03b-3459-4007-8237-864363f83083",
   "metadata": {},
   "outputs": [
    {
     "name": "stdout",
     "output_type": "stream",
     "text": [
      "    set_predictions(model, data, X_columns, y_columns)\n"
     ]
    }
   ],
   "source": [
    "def set_predictions(model, data, X_columns, y_columns):\n",
    "    \n",
    "    for column in y_columns:\n",
    "        data[column + '_pred'] = None\n",
    "        data[column + '_pred'] = model.predict(data[X_columns])\n",
    "    \n",
    "    return data\n",
    "\n",
    "print('    set_predictions(model, data, X_columns, y_columns)')"
   ]
  },
  {
   "cell_type": "code",
   "execution_count": null,
   "id": "34f50ead-993d-4234-9dee-1c09a99603af",
   "metadata": {},
   "outputs": [],
   "source": [
    "def get_mean_percentage_error(act, pred):\n",
    "    residual = np.abs(act - pred)\n",
    "    mean = np.mean(act)\n",
    "    ucl = mean + 3*np.std(act)\n",
    "    lcl = mean - 3*np.std(act)\n",
    "    return np.mean(1 - (residual/(ucl-lcl)))\n",
    "\n",
    "print('    get_mean_percentage_error(act, pred)')"
   ]
  },
  {
   "cell_type": "code",
   "execution_count": null,
   "id": "3220fee2-cbc7-4ff9-9201-11df13186c14",
   "metadata": {},
   "outputs": [],
   "source": [
    "def save_trained_model(model, filename_path):\n",
    "    \n",
    "    with open(filename_path, 'wb') as f:\n",
    "        pickle.dump(model, f)\n",
    "    \n",
    "    print(filename_path + ' saved.')\n",
    "    \n",
    "print('    save_trained_model(model, path)')    "
   ]
  },
  {
   "cell_type": "markdown",
   "id": "d34c4e18-7597-40c1-a51d-c160ad5e3d76",
   "metadata": {
    "tags": []
   },
   "source": [
    "#### result_model_training"
   ]
  },
  {
   "cell_type": "code",
   "execution_count": null,
   "id": "120f1f99-7d34-43f7-baba-79c56276db3e",
   "metadata": {},
   "outputs": [],
   "source": [
    "print('\\n> result_model_training func:')"
   ]
  },
  {
   "cell_type": "code",
   "execution_count": 30,
   "id": "0e5b4913-915f-4d72-bec1-e9ea9c126efe",
   "metadata": {},
   "outputs": [
    {
     "name": "stdout",
     "output_type": "stream",
     "text": [
      "    set_logistic_reg_clf(X_columns, y_columns, data, penalty='elasticnet', c=1, solver='lbfgs')\n"
     ]
    }
   ],
   "source": [
    "def set_logistic_reg_clf(X_columns, y_columns, data, penalty='elasticnet', c=1, solver='lbfgs'):\n",
    "    \n",
    "    X_train = data[data['set'] == 'train'][X_columns]\n",
    "    y_train = np.ravel(np.array(data[data['set'] == 'train'][y_columns]).reshape(-1,1))\n",
    "    \n",
    "    # Create a logistic regression model\n",
    "    model = LogisticRegression(C=c, solver=solver, penalty=penalty)\n",
    "\n",
    "    # Fit the model to the training data\n",
    "    model.fit(X_train, y_train)\n",
    "\n",
    "    # Create a dataframe with the predicted results\n",
    "    return model\n",
    "\n",
    "print(\"    set_logistic_reg_clf(X_columns, y_columns, data, penalty='elasticnet', c=1, solver='lbfgs')\")"
   ]
  },
  {
   "cell_type": "code",
   "execution_count": null,
   "id": "e8e2575e-bd48-494a-a1e1-7a93d31cbb7a",
   "metadata": {},
   "outputs": [],
   "source": [
    "def get_accuracy(act, pred):\n",
    "    \n",
    "    true = 0\n",
    "    \n",
    "    for act_value, pred_value in zip(act, pred):\n",
    "        if act_value == pred_value:\n",
    "            true += 1\n",
    "    \n",
    "    return true/len(act)    \n",
    "    #return accuracy_score(act, pred)\n",
    "\n",
    "print('    get_accuracy(act, pred)')"
   ]
  },
  {
   "cell_type": "code",
   "execution_count": null,
   "id": "7407ac12-20cf-4b63-af7c-beff778e10f0",
   "metadata": {},
   "outputs": [],
   "source": [
    "def get_mean_accuracy(act, pred):\n",
    "\n",
    "    return np.mean([get_accuracy(act, pred),get_accuracy(act, pred),get_accuracy(act, pred)])    \n",
    "\n",
    "\n",
    "print('    get_mean_accuracy(act, pred) #scoring performance x3 times and return its mean.')"
   ]
  },
  {
   "cell_type": "code",
   "execution_count": null,
   "id": "e2fe390e-b3de-4213-952c-e47671342607",
   "metadata": {},
   "outputs": [],
   "source": [
    "def get_model_evaluation(data,y_column):\n",
    "\n",
    "    y_test_act = data[y_column][data.set=='test']\n",
    "    y_test_pred = data[y_column + '_pred'][data.set=='test']\n",
    "\n",
    "    print('Accuracy = %.6f' % accuracy_score(y_test_act,y_test_pred))\n",
    "    ConfusionMatrixDisplay.from_predictions(y_test_act,y_test_pred) \n",
    "    #return accuracy_score(y_test_act,y_test_pred)\n",
    "    \n",
    "print('    get_model_evaluation(data)')    "
   ]
  },
  {
   "cell_type": "code",
   "execution_count": null,
   "id": "5a8cd540-de8f-4907-b4a8-36ac8c0f979b",
   "metadata": {},
   "outputs": [],
   "source": [
    "def load_trained_model(file_path):\n",
    "    with open(file_path, 'rb') as file:\n",
    "        model = pickle.load(file)\n",
    "        \n",
    "    return model\n",
    "\n",
    "print('    load_trained_model(file_path) #.PKL model from ../global_variables/')"
   ]
  },
  {
   "cell_type": "markdown",
   "id": "4781163a-b5a2-4720-a854-e6a49cb14cfc",
   "metadata": {
    "jp-MarkdownHeadingCollapsed": true,
    "tags": []
   },
   "source": [
    "#### method_model_training"
   ]
  },
  {
   "cell_type": "code",
   "execution_count": 37,
   "id": "d1d84128-fc1e-41b0-8cff-6d0c401337a3",
   "metadata": {},
   "outputs": [
    {
     "name": "stdout",
     "output_type": "stream",
     "text": [
      "\n",
      "> method_model_training func:\n"
     ]
    }
   ],
   "source": [
    "print('\\n> method_model_training func:')"
   ]
  },
  {
   "cell_type": "code",
   "execution_count": 36,
   "id": "296ee3aa-7727-47af-9832-0cff010b2741",
   "metadata": {},
   "outputs": [
    {
     "name": "stdout",
     "output_type": "stream",
     "text": [
      "    set_knn_clf(X_columns, y_columns, data, neigbors=5)\n"
     ]
    }
   ],
   "source": [
    "def set_knn_clf(X_columns, y_columns, data, neighbors=5):\n",
    "    \n",
    "    X_train = data[data['set'] == 'train'][X_columns]\n",
    "    y_train = np.ravel(np.array(data[data['set'] == 'train'][y_columns]).reshape(-1,1))\n",
    "    \n",
    "    # Create a KNN classifier model\n",
    "    model = KNeighborsClassifier(n_neighbors=neighbors)\n",
    "\n",
    "    # Fit the model to the training data\n",
    "    model.fit(X_train, y_train)\n",
    "\n",
    "    # Create a dataframe with the predicted results\n",
    "    return model\n",
    "\n",
    "print(\"    set_knn_clf(X_columns, y_columns, data, neigbors=5)\")"
   ]
  },
  {
   "cell_type": "markdown",
   "id": "ad29b10a-0a0f-465e-a1e4-88b3619c1303",
   "metadata": {
    "tags": []
   },
   "source": [
    "#### predictor"
   ]
  },
  {
   "cell_type": "code",
   "execution_count": 31,
   "id": "12124784-53fd-4788-89c9-1734b2eff437",
   "metadata": {},
   "outputs": [
    {
     "name": "stdout",
     "output_type": "stream",
     "text": [
      "\n",
      "> Predictor func:\n"
     ]
    }
   ],
   "source": [
    "print('\\n> Predictor func:')"
   ]
  },
  {
   "cell_type": "code",
   "execution_count": 39,
   "id": "82ec1db8-fbbc-435e-88a0-3b03edb2dbf0",
   "metadata": {},
   "outputs": [
    {
     "name": "stdout",
     "output_type": "stream",
     "text": [
      "    get_current_date()\n"
     ]
    }
   ],
   "source": [
    "def get_current_date():\n",
    "    return date.today().strftime('%Y-%m-%d')\n",
    "\n",
    "print('    get_current_date()')"
   ]
  },
  {
   "cell_type": "code",
   "execution_count": 40,
   "id": "e27d73d9-9ed4-4686-bdc9-0acf4dd7fc21",
   "metadata": {},
   "outputs": [
    {
     "name": "stdout",
     "output_type": "stream",
     "text": [
      "    get_win_perc(fighter, data)\n"
     ]
    }
   ],
   "source": [
    "def get_win_perc(fighter, data):\n",
    "    '''return current career winning %'''\n",
    "    date = get_current_date()\n",
    "    wins = len(data[(data['fighter'] == fighter)&(data.date < date)&(data['result']=='win')]) + len(data[(data['opponent'] == fighter)&(data.date < date)&(data['result']=='lose')])\n",
    "    losses = len(data[(data['fighter'] == fighter)&(data.date < date) & (data['result']=='lose')]) + len(data[(data['opponent'] == fighter)&(data.date < date) & (data['result']=='win')])\n",
    "    \n",
    "    if wins == 0:\n",
    "        return 0\n",
    "    return round(wins/(wins+losses),3)\n",
    "\n",
    "print('    get_win_perc(fighter, data)')"
   ]
  },
  {
   "cell_type": "code",
   "execution_count": null,
   "id": "a4b481ea-2521-4206-80b2-76e7516e4158",
   "metadata": {},
   "outputs": [],
   "source": [
    "def get_win_streak(fighter, data):\n",
    "    '''return current win streak'''\n",
    "    date = get_current_date()\n",
    "    data = ((data[(data.date < date)&((data.fighter == fighter)|(data.opponent == fighter))]).sort_values(by=['date'], ascending=False)).reset_index(drop=True)\n",
    "    \n",
    "    count = 0\n",
    "    for i in range(0,len(data)):\n",
    "        \n",
    "        result = data.loc[i,'result']\n",
    "        f = data.loc[i,'fighter']\n",
    "        o = data.loc[i,'opponent']\n",
    "        \n",
    "        if ((result == 'win')&(f == fighter))|((result == 'lose')&(o == fighter)):\n",
    "            count += 1\n",
    "        else:\n",
    "            return count\n",
    "    return count\n",
    "\n",
    "print('    get_win_streak(fighter, data)')"
   ]
  },
  {
   "cell_type": "code",
   "execution_count": 41,
   "id": "b54e2228-95c2-4ad6-972c-adcb2156dbc7",
   "metadata": {},
   "outputs": [
    {
     "name": "stdout",
     "output_type": "stream",
     "text": [
      "    get_lose_streak(fighter, data)\n"
     ]
    }
   ],
   "source": [
    "def get_lose_streak(fighter, data):\n",
    "    '''return current lose streak'''\n",
    "    date = get_current_date()\n",
    "    data = ((data[(data.date < date)&((data.fighter == fighter)|(data.opponent == fighter))]).sort_values(by=['date'], ascending=False)).reset_index(drop=True)\n",
    "    \n",
    "    count = 0\n",
    "    for i in range(0,len(data)):\n",
    "        \n",
    "        result = data.loc[i,'result']\n",
    "        f = data.loc[i,'fighter']\n",
    "        o = data.loc[i,'opponent']\n",
    "        \n",
    "        if ((result == 'lose')&(f == fighter))|((result == 'win')&(o == fighter)):\n",
    "            count += 1\n",
    "        else:\n",
    "            return count\n",
    "    return count\n",
    "\n",
    "print('    get_lose_streak(fighter, data)')"
   ]
  },
  {
   "cell_type": "code",
   "execution_count": 46,
   "id": "2c5ac269-0bee-405a-84e2-e490d855ca3d",
   "metadata": {},
   "outputs": [
    {
     "name": "stdout",
     "output_type": "stream",
     "text": [
      "    get_stance_wins_ratio(fighter, data)\n"
     ]
    }
   ],
   "source": [
    "def get_stance_wins_ratio(fighter, data):\n",
    "    try:\n",
    "        return np.mean(data.stance_win_ratio[data.fighter == fighter].reset_index(drop=True).iloc[0])\n",
    "    except:\n",
    "        return 0\n",
    "\n",
    "print('    get_stance_wins_ratio(fighter, data)')"
   ]
  },
  {
   "cell_type": "code",
   "execution_count": null,
   "id": "957a37ac-f9db-4e1e-b619-89ac107a5772",
   "metadata": {},
   "outputs": [],
   "source": [
    ">>>>"
   ]
  },
  {
   "cell_type": "markdown",
   "id": "7b57fb36-f5a9-49d4-b0fe-5cc41e28d711",
   "metadata": {},
   "source": [
    "def get_td_avg(fighter, data):\n",
    "    '''return current takedown average'''\n",
    "    data = (data[data.name == fighter]).reset_index(drop=True)\n",
    "    return data.loc[0,'td avg.']\n",
    "\n",
    "print('    get_td_avg(fighter, data)')"
   ]
  },
  {
   "cell_type": "markdown",
   "id": "20416092-746a-4a92-a0ab-da8d960fd169",
   "metadata": {},
   "source": [
    "def get_td_acc(fighter, data):\n",
    "    '''return current takedown accuracy'''\n",
    "    data = (data[data.name == fighter]).reset_index(drop=True)\n",
    "    return data.loc[0,'td acc.']\n",
    "\n",
    "print('    get_td_acc(fighter, data)')"
   ]
  },
  {
   "cell_type": "markdown",
   "id": "a8219f44-50f2-4660-a702-3ce6122a7eaa",
   "metadata": {},
   "source": [
    "def get_td_def(fighter, data):\n",
    "    '''return current takedown defense'''\n",
    "    data = (data[data.name == fighter]).reset_index(drop=True)\n",
    "    return data.loc[0,'td def.']\n",
    "\n",
    "print('    get_td_def(fighter, data)')"
   ]
  },
  {
   "cell_type": "markdown",
   "id": "6c04bf26-c551-4065-90df-81d98810b78e",
   "metadata": {},
   "source": [
    "def get_str_acc(fighter, data):\n",
    "    '''return current striking accuracy'''\n",
    "    data = (data[data.name == fighter]).reset_index(drop=True)\n",
    "    return data.loc[0,'str. acc.']\n",
    "\n",
    "print('    get_str_acc(fighter, data)')"
   ]
  },
  {
   "cell_type": "markdown",
   "id": "5b8b5f6d-7eab-4beb-a5dc-7eae6a23ee6e",
   "metadata": {},
   "source": [
    "def get_str_def(fighter, data):\n",
    "    '''return current striking defense'''\n",
    "    data = (data[data.name == fighter]).reset_index(drop=True)\n",
    "    return data.loc[0,'str. def']\n",
    "\n",
    "print('    get_str_def(fighter, data)')"
   ]
  },
  {
   "cell_type": "markdown",
   "id": "257ae887-89d0-44d4-a92d-5706d8deed0b",
   "metadata": {},
   "source": [
    "def get_sub_avg(fighter, data):\n",
    "    '''return current submission average'''\n",
    "    data = (data[data.name == fighter]).reset_index(drop=True)\n",
    "    return data.loc[0,'sub. avg.']\n",
    "\n",
    "print('    get_sub_avg(fighter, data)')"
   ]
  },
  {
   "cell_type": "markdown",
   "id": "39146fe2-6de4-4b8d-a8cf-73a0f46e8026",
   "metadata": {},
   "source": [
    "def get_sapm(fighter, data):\n",
    "    '''return current strikes absorbed per minute'''\n",
    "    data = (data[data.name == fighter]).reset_index(drop=True)\n",
    "    return data.loc[0,'sapm']\n",
    "\n",
    "print('    get_sapm(fighter, data)')"
   ]
  },
  {
   "cell_type": "markdown",
   "id": "8ebf1283-34d7-4ccf-9eeb-cdc1add6d837",
   "metadata": {},
   "source": [
    "def get_slpm(fighter, data):\n",
    "    '''return current strikes landed per minutes'''\n",
    "    data = (data[data.name == fighter]).reset_index(drop=True)\n",
    "    return data.loc[0,'slpm']\n",
    "\n",
    "print('    get_slpm(fighter, data)')"
   ]
  },
  {
   "cell_type": "markdown",
   "id": "634b01e5-2723-4474-a151-e4f402a4068a",
   "metadata": {},
   "source": [
    "def get_stance(fighter, data):\n",
    "    '''return fighter stance'''\n",
    "    data = (data[data.name == fighter]).reset_index(drop=True)\n",
    "    return data.loc[0,'stance']\n",
    "\n",
    "print('    get_stance(fighter, data)')"
   ]
  },
  {
   "cell_type": "code",
   "execution_count": null,
   "id": "d61b06af-de52-4e72-a085-6e3e24246d78",
   "metadata": {},
   "outputs": [],
   "source": [
    "def set_new_fight(fighter, opponent, data):\n",
    "    \n",
    "    row = {'set': None,\n",
    "           'method': None,\n",
    "           'date': get_current_date(),\n",
    "           'result': None,\n",
    "           'fighter': fighter,\n",
    "           'opponent': opponent,\n",
    "           'kd_dif':None,\n",
    "           'str_dif':None,\n",
    "           'td_dif':None,\n",
    "           'sub_dif':None,\n",
    "           \n",
    "           'td avg._dif': get_td_avg(fighter=fighter, data=stats) - get_td_avg(fighter=opponent, data=stats),\n",
    "           'td acc._dif': get_td_acc(fighter=fighter, data=stats) - get_td_acc(fighter=opponent, data=stats),\n",
    "           'td def._dif': get_td_def(fighter=fighter, data=stats) - get_td_def(fighter=opponent, data=stats),\n",
    "           'sub. avg._dif': get_sub_avg(fighter=fighter, data=stats) - get_sub_avg(fighter=opponent, data=stats),\n",
    "           'slpm_dif': get_slpm(fighter=fighter, data=stats) - get_slpm(fighter=opponent, data=stats),\n",
    "           'str. acc._dif': get_str_acc(fighter=fighter, data=stats) - get_str_acc(fighter=opponent, data=stats),\n",
    "           'sapm_dif': get_sapm(fighter=fighter, data=stats) - get_sapm(fighter=opponent, data=stats),\n",
    "           'str. def_dif': get_str_def(fighter=fighter, data=stats) - get_str_def(fighter=opponent, data=stats),\n",
    "           \n",
    "           'stance_win_ratio':get_stance_wins_ratio(fighter=fighter, data=stats) - get_stance_wins_ratio(fighter=opponent, data=stats),\n",
    "           'win_perc_dif': get_win_perc(fighter=fighter, data=data) - get_win_perc(fighter=opponent, data=data),\n",
    "           'win_strk_dif': get_win_streak(fighter=fighter, data=data) - get_win_streak(fighter=opponent, data=data),\n",
    "           'lose_strk_dif': get_lose_streak(fighter=fighter, data=data) - get_lose_streak(fighter=opponent, data=data),       \n",
    "          }\n",
    "    return pd.DataFrame(row, index=[0])\n",
    "\n",
    "print('    set_new_fight(fighter, opponent, data)')"
   ]
  },
  {
   "cell_type": "markdown",
   "id": "231022a0-d5ec-43bf-87b7-39c1391ee53e",
   "metadata": {},
   "source": [
    "def set_knn_predictor(X_columns, y_columns, data, n=5):\n",
    "    \n",
    "    knn_reg = KNeighborsRegressor(n_neighbors=n)\n",
    "    X_train = data[X_columns][data.set!='new']\n",
    "    y_train = data[y_columns][data.set!='new']\n",
    "    knn_reg.fit(X_train,y_train)\n",
    "    return knn_reg\n",
    "    \n",
    "print('    set_knn_predictor(X_columns, y_columns, data, n=5)')  "
   ]
  },
  {
   "cell_type": "markdown",
   "id": "b7d2dedc-2b7f-43b7-946e-117a87dccacf",
   "metadata": {},
   "source": [
    "def set_knn_predictions(model, data, X_columns, y_columns):\n",
    "    \n",
    "    for column in y_columns:\n",
    "        data[column] = None\n",
    "        data[column] = model.predict(data[X_columns])\n",
    "    \n",
    "    return data\n",
    "\n",
    "print('    set_knn_predictions(model, data, X_columns, y_columns)')"
   ]
  },
  {
   "cell_type": "markdown",
   "id": "6ca930d7-8f8a-4683-97de-1d0ef49581c2",
   "metadata": {},
   "source": [
    "def set_knn_clf_predictor(X_columns, y_columns, data, neighbors):\n",
    "    \n",
    "    knn_clf = KNeighborsClassifier(n_neighbors=neighbors, weights='distance')\n",
    "    X_train = data[X_columns][data.set!='new']\n",
    "    y_train = data[y_columns][data.set!='new']\n",
    "    \n",
    "    if len(y_columns) == 1:\n",
    "        y_train = np.ravel(np.array(data[y_columns[0]][data.set!='new']).reshape(-1,1))\n",
    "    else:    \n",
    "        y_train = data[y_columns][data.set!='new']\n",
    "    \n",
    "    knn_clf.fit(X_train,y_train)\n",
    "    return knn_clf\n",
    "\n",
    "print(\"    set_knn_clf_predictor(X_columns, y_columns, data, neighbors)\")        "
   ]
  },
  {
   "cell_type": "markdown",
   "id": "ce81ac68-e04a-44ff-a5e7-58213868c0e4",
   "metadata": {},
   "source": [
    "def set_pred_results(model, data, X_columns, y_columns):\n",
    "    \n",
    "    data['result_pred'] = None\n",
    "    data['result_pred'] = model.predict(data[X_columns])    \n",
    "    return data\n",
    "\n",
    "print('    set_pred_results(model, data, X_columns, y_columns)')"
   ]
  },
  {
   "cell_type": "markdown",
   "id": "863036b8-27b9-495c-97ab-477c87ffd9ed",
   "metadata": {},
   "source": [
    "def get_fighters_stats(fighter, opponent, data):\n",
    "    \n",
    "    data1 = pd.DataFrame((data[data.name == fighter]).reset_index(drop=True).loc[0])[1:].rename(columns={0:fighter})\n",
    "    data2 = pd.DataFrame((data[data.name == opponent]).reset_index(drop=True).loc[0])[1:].rename(columns={0:opponent})\n",
    "    return pd.concat([data1,data2], axis=1)\n",
    "\n",
    "print('    get_fighters_stats(fighter, opponent, data)')"
   ]
  },
  {
   "cell_type": "markdown",
   "id": "f1db4bff-17b5-4a8f-80e6-d106a364802d",
   "metadata": {},
   "source": [
    "def get_winner(match):\n",
    "    '''return winner of the fight'''\n",
    "    \n",
    "    result = match.loc[0,'result']\n",
    "   \n",
    "    if result == 'win':\n",
    "        winner = fighter\n",
    "    else: \n",
    "        winner = opponent    \n",
    "    \n",
    "    return winner\n",
    "\n",
    "print('    get_winner(match)')"
   ]
  },
  {
   "cell_type": "markdown",
   "id": "ebdc766d-7b07-42ec-a160-d0f417ab9b27",
   "metadata": {
    "jp-MarkdownHeadingCollapsed": true,
    "tags": []
   },
   "source": [
    "#### micro_model_training"
   ]
  },
  {
   "cell_type": "markdown",
   "id": "9433bb62-b7b6-4b6e-ae7a-2d6d85b85dea",
   "metadata": {},
   "source": [
    "print('\\n> micro_model_training func:')"
   ]
  },
  {
   "cell_type": "markdown",
   "id": "ff38ea0c-fd65-4343-bb9b-ee9a1deebbd4",
   "metadata": {},
   "source": [
    "def set_result_column(fighter,data):\n",
    "    \n",
    "    for i in range(len(data)):\n",
    "        if (data.loc[i,'result'] == 'win')&(data.loc[i,'fighter'] == fighter):\n",
    "            data.loc[i,'result'] = fighter + ' win'\n",
    "        elif (data.loc[i,'result'] == 'lose')&(data.loc[i,'opponent'] == fighter):\n",
    "            data.loc[i,'result'] = fighter + ' win'\n",
    "        else:\n",
    "            data.loc[i,'result'] = fighter + ' lose'\n",
    "    return data\n",
    "\n",
    "print('    set_result_column(fighter,data)')"
   ]
  },
  {
   "cell_type": "markdown",
   "id": "631a5652-ce04-46f0-a583-903fcf6224b7",
   "metadata": {},
   "source": [
    "def get_my_losses(fighter, data):\n",
    "    data = data[data.result == fighter + ' lose']\n",
    "    return data\n",
    "\n",
    "print('    get_my_losses(fighter, data)')"
   ]
  },
  {
   "cell_type": "markdown",
   "id": "c3963e9d-ca3f-4b9d-ba13-a6b9b3cab910",
   "metadata": {},
   "source": [
    "def get_my_wins(fighter, data):\n",
    "    data = data[data.result == fighter + ' win']\n",
    "    return data\n",
    "\n",
    "print('    get_my_wins(fighter, data)')"
   ]
  },
  {
   "cell_type": "markdown",
   "id": "21b7fbb6-5695-42ba-afed-0ed5a09de0dd",
   "metadata": {},
   "source": [
    "def get_synt_loss(fighter):\n",
    "    \n",
    "    '''creating artificial random lossess for fighter who is undefeated'''\n",
    "    \n",
    "    data = pd.read_csv('../data/fight_stat_data_trained.csv').drop(columns=['Unnamed: 0'])\n",
    "    data = data[data.result == 'lose'].reset_index(drop=True)\n",
    "\n",
    "    row = {'result':fighter + ' lose',\n",
    "           'fighter':fighter,\n",
    "           'opponent':'Anonymous',\n",
    "           'date':get_current_date(),\n",
    "           'weight class':None,\n",
    "           'method':None,\n",
    "           'kd_dif':get_loss_value(values=data['kd_dif']),\n",
    "           'str_dif':get_loss_value(values=data['str_dif']),\n",
    "           'td_dif':get_loss_value(values=data['td_dif']),\n",
    "           'sub_dif':get_loss_value(values=data['sub_dif']),\n",
    "           'td avg._dif':get_loss_value(values=data[ 'td avg._dif']),\n",
    "           'td acc._dif':get_loss_value(values=data['td acc._dif']),\n",
    "           'td def._dif':get_loss_value(values=data['td def._dif']),\n",
    "           'sub. avg._dif':get_loss_value(values=data[ 'sub. avg._dif']),\n",
    "           'slpm_dif':get_loss_value(values=data['slpm_dif']),\n",
    "           'str. acc._dif':get_loss_value(values=data[ 'str. acc._dif']),\n",
    "           'sapm_dif':get_loss_value(values=data['sapm_dif']),\n",
    "           'str. def_dif':get_loss_value(values=data['str. def_dif']),\n",
    "           'stance_win_ratio':get_loss_value(values=data[ 'stance_win_ratio']),\n",
    "           'win_perc_dif':get_loss_value(values=data['win_perc_dif']),\n",
    "           'win_strk_dif':get_loss_value(values=data[ 'win_strk_dif']),\n",
    "           'lose_strk_dif':get_loss_value(values=data[ 'lose_strk_dif']),\n",
    "           'set':'train'\n",
    "          }\n",
    "    return pd.DataFrame(data=row, index=[0])\n",
    "\n",
    "print(\"    get_synt_loss(fighter)\")"
   ]
  },
  {
   "cell_type": "markdown",
   "id": "e809858b-e4cf-4736-a7a5-1a772f506e86",
   "metadata": {},
   "source": [
    " def get_loss_value(values):\n",
    "    '''return value in normal range'''\n",
    "    mean = np.mean(values)\n",
    "    std = np.std(values) \n",
    "    lower_bound = mean - std\n",
    "    upper_bound = mean + std\n",
    "    return random.uniform(lower_bound, upper_bound)\n",
    "\n",
    "print('    get_loss_value(values)')"
   ]
  },
  {
   "cell_type": "markdown",
   "id": "366d8054-3299-4159-89ae-6b83104bb52f",
   "metadata": {},
   "source": []
  }
 ],
 "metadata": {
  "kernelspec": {
   "display_name": "Python 3",
   "language": "python",
   "name": "python3"
  },
  "language_info": {
   "codemirror_mode": {
    "name": "ipython",
    "version": 3
   },
   "file_extension": ".py",
   "mimetype": "text/x-python",
   "name": "python",
   "nbconvert_exporter": "python",
   "pygments_lexer": "ipython3",
   "version": "3.7.12"
  }
 },
 "nbformat": 4,
 "nbformat_minor": 5
}
