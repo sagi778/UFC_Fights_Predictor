{
 "cells": [
  {
   "cell_type": "code",
   "execution_count": 57,
   "id": "5daf37bf-3414-4272-9a60-ece08abb4c2a",
   "metadata": {},
   "outputs": [
    {
     "name": "stdout",
     "output_type": "stream",
     "text": [
      "imports loaded.\n"
     ]
    }
   ],
   "source": [
    "%run imports.ipynb"
   ]
  },
  {
   "cell_type": "markdown",
   "id": "1db15167-f7cc-4b45-ae6a-bf9fe49ca0c1",
   "metadata": {},
   "source": [
    "### Func def"
   ]
  },
  {
   "cell_type": "markdown",
   "id": "e160915b-e83b-4f52-85ce-992ae958a74a",
   "metadata": {
    "jp-MarkdownHeadingCollapsed": true,
    "tags": []
   },
   "source": [
    "#### pre-processing"
   ]
  },
  {
   "cell_type": "code",
   "execution_count": 23,
   "id": "01fd34b0-df31-4fd6-8d72-2df5828f7826",
   "metadata": {},
   "outputs": [
    {
     "name": "stdout",
     "output_type": "stream",
     "text": [
      "Pre-Processing func:\n",
      "********************\n"
     ]
    }
   ],
   "source": [
    "print('\\nPre-Processing func:')\n",
    "print('********************')"
   ]
  },
  {
   "cell_type": "code",
   "execution_count": 8,
   "id": "05ab1c09-7d24-46e8-96e1-4351d581d66f",
   "metadata": {},
   "outputs": [
    {
     "name": "stdout",
     "output_type": "stream",
     "text": [
      "get_height(item)\n"
     ]
    }
   ],
   "source": [
    "def get_height(item):\n",
    "    \n",
    "    '''return height in cm'''\n",
    "    \n",
    "    item = str(item)\n",
    "    \n",
    "    if item[0] == '-':\n",
    "        return None\n",
    "    else:\n",
    "        return round(30.48 * float(item[0:item.find(\"'\")]) + 2.54 * float(item[item.find(\"'\")+1:item.find('\"')]),2)\n",
    "\n",
    "print('    get_height(item)')    "
   ]
  },
  {
   "cell_type": "code",
   "execution_count": 9,
   "id": "3c2787f6-c4eb-4abb-99cc-406b0f034693",
   "metadata": {},
   "outputs": [
    {
     "name": "stdout",
     "output_type": "stream",
     "text": [
      "get_weight(item)\n"
     ]
    }
   ],
   "source": [
    "def get_weight(item):\n",
    "    \n",
    "    '''return weight in kg'''\n",
    "    \n",
    "    item = str(item)\n",
    "    \n",
    "    if item[0] == '-':\n",
    "        return None\n",
    "    else:\n",
    "        return 0.45 * float(item[0:item.find('lbs.')])\n",
    "    \n",
    "print('    get_weight(item)')    "
   ]
  },
  {
   "cell_type": "code",
   "execution_count": 11,
   "id": "6c24503b-e674-4b61-a4de-da2c4d5b97e8",
   "metadata": {},
   "outputs": [
    {
     "name": "stdout",
     "output_type": "stream",
     "text": [
      "get_reach(item)\n"
     ]
    }
   ],
   "source": [
    "def get_reach(item):\n",
    "    \n",
    "    '''return reach in cm'''\n",
    "    \n",
    "    item = str(item)\n",
    "    \n",
    "    if item[0] == '-':\n",
    "        return None\n",
    "    else:\n",
    "        return 2.54 * float(item[0:item.find('\"')])\n",
    "    \n",
    "print('    get_reach(item)')    "
   ]
  },
  {
   "cell_type": "code",
   "execution_count": 10,
   "id": "06d79f2b-7809-4e7d-b89e-6958be8e2b58",
   "metadata": {},
   "outputs": [
    {
     "name": "stdout",
     "output_type": "stream",
     "text": [
      "get_std_reach(item, height, reach_list, height_list)\n"
     ]
    }
   ],
   "source": [
    "def get_std_reach(item, height, reach_list, height_list):\n",
    "    '''return \"standard reach\" ( =mean(reach/height)*height )'''\n",
    "    return round(height*np.mean(reach_list/height_list),2)\n",
    "\n",
    "print('    get_std_reach(item, height, reach_list, height_list)')"
   ]
  },
  {
   "cell_type": "code",
   "execution_count": 12,
   "id": "33c41fa2-fb53-4eb5-9bce-4a6a893ab9e6",
   "metadata": {},
   "outputs": [
    {
     "name": "stdout",
     "output_type": "stream",
     "text": [
      "get_age(item)\n"
     ]
    }
   ],
   "source": [
    "def get_age(item):\n",
    "    \n",
    "    '''return age (instead of date of birth)'''\n",
    "    \n",
    "    from datetime import date,timedelta\n",
    "    \n",
    "    item = str(item)\n",
    "    current_date = date.today().year\n",
    "    \n",
    "    if item[0] == '-':\n",
    "        return None\n",
    "    else:\n",
    "        return (current_date - int(item[item.find(',')+1:]))\n",
    "    \n",
    "print('    get_age(item)')    "
   ]
  },
  {
   "cell_type": "code",
   "execution_count": 13,
   "id": "7592cd36-d911-4e50-b6c9-ee581696cf2f",
   "metadata": {},
   "outputs": [
    {
     "name": "stdout",
     "output_type": "stream",
     "text": [
      "get_std_age(item, age_list)\n"
     ]
    }
   ],
   "source": [
    "def get_std_age(item, age_list):\n",
    "    \n",
    "    '''return standrd age per weight class'''  \n",
    "    return round(np.mean(age_list),2)\n",
    "\n",
    "print('    get_std_age(item, age_list)')"
   ]
  },
  {
   "cell_type": "code",
   "execution_count": 22,
   "id": "385fc1bc-0e02-4db1-9f6e-62bd94b6ddac",
   "metadata": {},
   "outputs": [
    {
     "name": "stdout",
     "output_type": "stream",
     "text": [
      "get_win_perc(name, date, df)\n"
     ]
    }
   ],
   "source": [
    "def get_win_perc(name, date, df):\n",
    "    \n",
    "    '''return current career winning %'''\n",
    "    \n",
    "    wins = len(df[(df['w_fighter'] == name) & (df.date < date)])\n",
    "    losses = len(df[(df['l_fighter'] == name) & (df.date < date)])\n",
    "    \n",
    "    if wins == 0:\n",
    "        return 0\n",
    "    return wins/(wins+losses)\n",
    "\n",
    "print('    get_win_perc(name, date, df)')"
   ]
  },
  {
   "cell_type": "code",
   "execution_count": 17,
   "id": "2689b9d0-4f12-450e-9e8c-261ded7ba60a",
   "metadata": {},
   "outputs": [
    {
     "name": "stdout",
     "output_type": "stream",
     "text": [
      "get_lose_streak_data_frame(name, date, df)\n"
     ]
    }
   ],
   "source": [
    "def get_lose_streak_data_frame(name, date, df):\n",
    "    \n",
    "    '''return losses data frame of: sequence(from last to first), result(win/lose) & opponent '''\n",
    "    \n",
    "    lose_streak = pd.DataFrame({\n",
    "        'result': np.array('lose'),\n",
    "        'date': pd.to_datetime(np.array(df.date[df.l_fighter == name])),\n",
    "        'opponent': np.array(df['w_fighter'][df.l_fighter == name])\n",
    "    })\n",
    "    \n",
    "    return lose_streak[lose_streak.date < date]\n",
    "\n",
    "print('    get_lose_streak_data_frame(name, date, df)')"
   ]
  },
  {
   "cell_type": "code",
   "execution_count": 18,
   "id": "d411edaf-7801-454d-aa67-fbe7657ddaa5",
   "metadata": {},
   "outputs": [
    {
     "name": "stdout",
     "output_type": "stream",
     "text": [
      "get_win_streak_data_frame(name, date, df)\n"
     ]
    }
   ],
   "source": [
    "def get_win_streak_data_frame(name, date, df):\n",
    "    \n",
    "    '''return wins data frame of: sequence(from last to first), result(win/lose) & opponent '''\n",
    "    \n",
    "    win_streak = pd.DataFrame({\n",
    "        'result': np.array('win'),\n",
    "        'date': pd.to_datetime(np.array(df.date[df.w_fighter == name])),\n",
    "        'opponent': np.array(df['l_fighter'][df.w_fighter == name])\n",
    "    })\n",
    "    \n",
    "    return win_streak[win_streak.date < date]\n",
    "\n",
    "print('    get_win_streak_data_frame(name, date, df)')"
   ]
  },
  {
   "cell_type": "code",
   "execution_count": 19,
   "id": "4cbe3e8e-4593-4b56-a544-6da52327b4e5",
   "metadata": {},
   "outputs": [
    {
     "name": "stdout",
     "output_type": "stream",
     "text": [
      "get_streak_data_frame(name, date, df)\n"
     ]
    }
   ],
   "source": [
    "def get_streak_data_frame(name, date, df):\n",
    "    \n",
    "    '''return losses & winns data frame sorted by date'''\n",
    "    \n",
    "    wins_df = get_win_streak_data_frame(name, date, df)\n",
    "    losses_df = get_lose_streak_data_frame(name, date, df)\n",
    "    \n",
    "    return (pd.concat([wins_df, losses_df])).sort_values(by='date', ascending=False)\n",
    "\n",
    "print('    get_streak_data_frame(name, date, df)')"
   ]
  },
  {
   "cell_type": "code",
   "execution_count": 20,
   "id": "d8d1434a-1aed-41ca-9ef2-c1595846abe5",
   "metadata": {},
   "outputs": [
    {
     "name": "stdout",
     "output_type": "stream",
     "text": [
      "get_win_streak(name, date, df)\n"
     ]
    }
   ],
   "source": [
    "def get_win_streak(name, date, df):\n",
    "    \n",
    "    '''return int of fighter recent win streak'''\n",
    "    \n",
    "    streak = get_streak_data_frame(name, date, df)\n",
    "    \n",
    "    count = 0\n",
    "    for result in streak['result']:\n",
    "        if result == 'lose':\n",
    "            return count\n",
    "        count += 1\n",
    "    \n",
    "    return count\n",
    "\n",
    "print('    get_win_streak(name, date, df)')"
   ]
  },
  {
   "cell_type": "code",
   "execution_count": 21,
   "id": "407500af-6a00-468b-9b3c-2c0957182b8b",
   "metadata": {},
   "outputs": [
    {
     "name": "stdout",
     "output_type": "stream",
     "text": [
      "get_lose_streak(name, date, df)\n"
     ]
    }
   ],
   "source": [
    "def get_lose_streak(name, date, df):\n",
    "    \n",
    "    '''return int of fighter recent losses streak'''\n",
    "    \n",
    "    streak = get_streak_data_frame(name, date, df)\n",
    "    \n",
    "    count = 0\n",
    "    for result in streak['result']:\n",
    "        if result == 'win':\n",
    "            return count\n",
    "        count += 1\n",
    "    \n",
    "    return count\n",
    "\n",
    "print('    get_lose_streak(name, date, df)')"
   ]
  },
  {
   "cell_type": "code",
   "execution_count": 23,
   "id": "43d8aa97-fdd8-499b-a9d1-7d5caacdff9d",
   "metadata": {},
   "outputs": [
    {
     "name": "stdout",
     "output_type": "stream",
     "text": [
      "get_fighter_stats(name, data )\n"
     ]
    }
   ],
   "source": [
    "def get_fighter_stats(name, data ):\n",
    "    '''return fighters statistics from stat_df'''\n",
    "    \n",
    "    stat_list = data.columns[1:]\n",
    "    row = (data[stat_list][data.name==name]).reset_index(drop=True)\n",
    "    \n",
    "    if len(row) < 1:\n",
    "        return np.array(len(stat_list)*[None])\n",
    "    else:\n",
    "        return np.array(row.loc[0])\n",
    "    \n",
    "print('    get_fighter_stats(name, data )')    "
   ]
  },
  {
   "cell_type": "code",
   "execution_count": 24,
   "id": "1f4e86dd-58d4-4559-b75c-d5f5701d3832",
   "metadata": {},
   "outputs": [
    {
     "name": "stdout",
     "output_type": "stream",
     "text": [
      "add_columns(data, column_list)\n"
     ]
    }
   ],
   "source": [
    "def add_columns(data, column_list):\n",
    "    \n",
    "    '''add new columns to data '''\n",
    "    \n",
    "    for column in column_list:\n",
    "        data[column] = None\n",
    "    \n",
    "    return data\n",
    "\n",
    "print('    add_columns(data, column_list)')"
   ]
  },
  {
   "cell_type": "markdown",
   "id": "ab775298-ee89-4f43-abe1-906ae19c0493",
   "metadata": {
    "tags": []
   },
   "source": [
    "#### feature_engineering"
   ]
  },
  {
   "cell_type": "code",
   "execution_count": 24,
   "id": "351e7468-75c9-4d68-9f19-eb053ad66ff9",
   "metadata": {},
   "outputs": [
    {
     "name": "stdout",
     "output_type": "stream",
     "text": [
      "Feature Engineering func:\n",
      "*************************\n"
     ]
    }
   ],
   "source": [
    "print('\\nFeature Engineering func:')\n",
    "print('*************************')"
   ]
  },
  {
   "cell_type": "code",
   "execution_count": 4,
   "id": "bb4fa7d4-db63-48da-8e99-68c188873a16",
   "metadata": {},
   "outputs": [
    {
     "name": "stdout",
     "output_type": "stream",
     "text": [
      "get_stat(index, data, stat='height', fo='')\n"
     ]
    }
   ],
   "source": [
    "def get_stat(index, data, stat='height', fo=''):\n",
    "    return data.loc[index, fo + stat]\n",
    "\n",
    "print(\"    get_stat(index, data, stat='height', fo='')\")"
   ]
  },
  {
   "cell_type": "code",
   "execution_count": 6,
   "id": "283571a8-3cd1-40f3-9afd-4f37c954a51b",
   "metadata": {},
   "outputs": [
    {
     "name": "stdout",
     "output_type": "stream",
     "text": [
      "get_swaped_row(index, data)\n"
     ]
    }
   ],
   "source": [
    "def get_swaped_row(index, data):\n",
    "    \n",
    "    '''return row with opponent as winner and statistics swapped'''\n",
    "    \n",
    "    swapped_row = np.array([])\n",
    "    \n",
    "    for column in data.columns:\n",
    "        \n",
    "        if column.find('f_') > -1: # f_ will get opponent stats\n",
    "            swapped_row = np.append(swapped_row, get_stat(index, data=df, stat=column[2:], fo='o_'))\n",
    "        elif column.find('o_') > -1: # o_ will get fighter stats\n",
    "            swapped_row = np.append(swapped_row, get_stat(index, data=df, stat=column[2:], fo='f_'))          \n",
    "        elif column == 'result':\n",
    "            swapped_row = np.append(swapped_row, 'lose')\n",
    "        elif column == 'fighter':\n",
    "            swapped_row = np.append(swapped_row, get_stat(index, data=df, stat='opponent'))\n",
    "        elif column == 'opponent':\n",
    "            swapped_row = np.append(swapped_row, get_stat(index, data=df, stat='fighter'))\n",
    "        else:\n",
    "            swapped_row = np.append(swapped_row, get_stat(index, data=df, stat=column))\n",
    "    \n",
    "    return swapped_row\n",
    "\n",
    "print('    get_swaped_row(index, data)')"
   ]
  },
  {
   "cell_type": "code",
   "execution_count": 1,
   "id": "e6d27e4c-5889-4b08-b92d-3071250a4265",
   "metadata": {},
   "outputs": [
    {
     "name": "stdout",
     "output_type": "stream",
     "text": [
      "get_wins(combo, data=stance_df)\n"
     ]
    }
   ],
   "source": [
    "def get_wins(combo, data):\n",
    "\n",
    "    data = data[(data.result=='win') & (data.stance_combo==combo)]\n",
    "    return len(data)\n",
    "\n",
    "print('    get_wins(combo, data)')"
   ]
  },
  {
   "cell_type": "code",
   "execution_count": 2,
   "id": "71b43021-5dc6-42bb-a9c4-dddac48bc847",
   "metadata": {},
   "outputs": [
    {
     "name": "stdout",
     "output_type": "stream",
     "text": [
      "get_wins_ratio(combo, data)\n"
     ]
    }
   ],
   "source": [
    "def get_wins_ratio(combo, data):\n",
    "    \n",
    "    combo_df = data[data.stance_combo==combo]\n",
    "    if len(combo_df) == 0:\n",
    "        return 0\n",
    "    else:\n",
    "        return get_wins(combo, data=data)/len(combo_df)\n",
    "    \n",
    "print('    get_wins_ratio(combo, data)')    "
   ]
  },
  {
   "cell_type": "code",
   "execution_count": 42,
   "id": "1378f8ff-eb3b-4ad8-9309-5320983ca619",
   "metadata": {},
   "outputs": [
    {
     "name": "stdout",
     "output_type": "stream",
     "text": [
      "    get_layoff(fighter, current_date, data)\n"
     ]
    }
   ],
   "source": [
    "def get_layoff_time(fighter, current_date, data):\n",
    "    '''return layoff time between current fight & last fight.'''\n",
    "    \n",
    "    data = data[(data.fighter==fighter)|(data.opponent==fighter)].sort_values(by='date',ascending=False)\n",
    "    last_fight_date = np.max(data.date[data.date < current_date])\n",
    "    \n",
    "    if str(last_fight_date) == 'NaT':\n",
    "            return 0\n",
    "    else:    \n",
    "        time_string = str(current_date - last_fight_date)\n",
    "        time_dif = time_string[0:time_string.find(' days')]\n",
    "        return int(time_dif)\n",
    "\n",
    "print('    get_layoff_time(fighter, current_date, data)')"
   ]
  },
  {
   "cell_type": "markdown",
   "id": "746e81da-daad-4ff2-990f-76a2cab283d0",
   "metadata": {
    "jp-MarkdownHeadingCollapsed": true,
    "tags": []
   },
   "source": [
    "#### fight_stats_model_training"
   ]
  },
  {
   "cell_type": "code",
   "execution_count": 34,
   "id": "db8133da-bfc9-4b57-a0bb-8e78c69323ec",
   "metadata": {},
   "outputs": [
    {
     "name": "stdout",
     "output_type": "stream",
     "text": [
      "\n",
      "fight_stats_model_training func:\n",
      "********************************\n"
     ]
    }
   ],
   "source": [
    "print('\\nfight_stats_model_training func:')\n",
    "print('********************************')"
   ]
  },
  {
   "cell_type": "code",
   "execution_count": 4,
   "id": "20ceeb19-be3e-4fd1-8a3b-fc661ac339e3",
   "metadata": {},
   "outputs": [
    {
     "name": "stdout",
     "output_type": "stream",
     "text": [
      "get_sig_features(data, sig_r)\n"
     ]
    }
   ],
   "source": [
    "def get_sig_features(data, sig_r):\n",
    "    '''return list of most significant columns from corr data frame'''\n",
    "    sig_features = []\n",
    "    for i in data.columns:\n",
    "        for j in data.index.values:\n",
    "            if data.loc[j,i] in sig_r:\n",
    "                sig_features.append(j)\n",
    "            \n",
    "    return sig_features\n",
    "\n",
    "print('    get_sig_features(data, sig_r)')"
   ]
  },
  {
   "cell_type": "code",
   "execution_count": 3,
   "id": "7dfd9e68-3be2-47b9-abc8-5bc84a1b0a57",
   "metadata": {},
   "outputs": [
    {
     "name": "stdout",
     "output_type": "stream",
     "text": [
      "get_r_score(X, y)\n"
     ]
    }
   ],
   "source": [
    "def get_r_score(X, y):\n",
    "    from scipy.stats import pearsonr\n",
    "    r, _ = pearsonr(X, y)\n",
    "    return r\n",
    "\n",
    "print('    get_r_score(X, y)')"
   ]
  },
  {
   "cell_type": "code",
   "execution_count": 35,
   "id": "796b28e5-b2f6-48e0-b48b-ee8a03145b1a",
   "metadata": {},
   "outputs": [
    {
     "name": "stdout",
     "output_type": "stream",
     "text": [
      "    set_train_test(X_columns, y_columns, data, test_size=0.3, valid_size=0.3)\n"
     ]
    }
   ],
   "source": [
    "def set_train_test(X_columns, y_columns, data, test_size=0.3, valid_size=0.3):\n",
    "\n",
    "    if 'set' not in data.columns:\n",
    "        data.insert(0, 'set', None) # inserd 'set' column to position 0\n",
    "    \n",
    "    for i in range(len(df)):\n",
    "        \n",
    "        if data.loc[i,'result'] == None:\n",
    "            data.loc[i,'set'] = 'new'\n",
    "        \n",
    "        elif random.random() < test_size:\n",
    "            data.loc[i,'set'] = 'test'\n",
    "        else:\n",
    "            if random.random() < valid_size:\n",
    "                data.loc[i,'set'] = 'validation'\n",
    "            else:\n",
    "                data.loc[i,'set'] = 'train' \n",
    "\n",
    "    X_train = data[X_columns][data.set=='train'] \n",
    "    X_test = data[X_columns][data.set=='test']\n",
    "    y_train = data[y_columns][data.set=='train']\n",
    "    y_test = data[y_columns][data.set=='test']\n",
    "    X_val = data[X_columns][data.set=='validation']\n",
    "    y_val = data[y_columns][data.set=='validation']\n",
    "\n",
    "    print('Data split: Data=%s, train_set=%s, validation_set=%s, test_set=%s'  %(str(data.shape), str(X_train.shape), str(X_val.shape), str(X_test.shape)))\n",
    "    return data\n",
    "\n",
    "print('    set_train_test(X_columns, y_columns, data, test_size=0.3, valid_size=0.3)')"
   ]
  },
  {
   "cell_type": "code",
   "execution_count": 39,
   "id": "49fae141-19f1-436f-93e0-5119aff019d8",
   "metadata": {},
   "outputs": [
    {
     "name": "stdout",
     "output_type": "stream",
     "text": [
      "    set_knn_reg(X_columns, y_columns, data, n=5)\n"
     ]
    }
   ],
   "source": [
    "def set_knn_reg(X_columns, y_columns, data, n=5):\n",
    "    \n",
    "    knn_reg = KNeighborsRegressor(n_neighbors=n)\n",
    "    X_train = data[X_columns][data.set=='train']\n",
    "    y_train = data[y_columns][data.set=='train']\n",
    "    knn_reg.fit(X_train,y_train)\n",
    "    return knn_reg\n",
    "    \n",
    "print('    set_knn_reg(X_columns, y_columns, data, n=5)')    "
   ]
  },
  {
   "cell_type": "code",
   "execution_count": 10,
   "id": "6cb5f817-f4ac-4312-a7d9-21b222fe5b32",
   "metadata": {},
   "outputs": [
    {
     "name": "stdout",
     "output_type": "stream",
     "text": [
      "set_predictions(model, data, X_columns, y_columns)\n"
     ]
    }
   ],
   "source": [
    "def set_predictions(model, data, X_columns, y_columns):\n",
    "    \n",
    "    for column in y_columns:\n",
    "        data[column + '_pred'] = None\n",
    "        data[column + '_pred'] = model.predict(data[X_columns])\n",
    "    \n",
    "    return data\n",
    "\n",
    "print('    set_predictions(model, data, X_columns, y_columns)')"
   ]
  },
  {
   "cell_type": "code",
   "execution_count": 40,
   "id": "ce41e01a-a306-488c-b7f8-41f451c727c5",
   "metadata": {},
   "outputs": [
    {
     "name": "stdout",
     "output_type": "stream",
     "text": [
      "    get_rmse(act, pred)\n"
     ]
    }
   ],
   "source": [
    "def get_rmse(act, pred):\n",
    "    return round(math.sqrt(mean_squared_error(act, pred))/(np.max(act) - np.min(act)),4)\n",
    "\n",
    "print('    get_rmse(act, pred)')"
   ]
  },
  {
   "cell_type": "code",
   "execution_count": 52,
   "id": "d09608fa-3440-4214-a287-a6f9dc3ec970",
   "metadata": {},
   "outputs": [
    {
     "name": "stdout",
     "output_type": "stream",
     "text": [
      "    get_grad_descent_step(alpha, X_columns, y_columns, data, n)\n"
     ]
    }
   ],
   "source": [
    "def get_grad_descent_step(alpha, X_columns, y_columns, data, n):\n",
    "    row = {}\n",
    "    row['neighbors'] = [n]\n",
    "    \n",
    "    knn_model = set_knn_reg(X_columns=X_columns, y_columns=y_columns, data=data, n=n)\n",
    "    data = set_predictions(model=knn_model, X_columns=X_columns, y_columns=y_columns, data=data)\n",
    "    \n",
    "    total_rmse = 0\n",
    "    for stat in ['kd','str','td','sub']:\n",
    "        row[stat + '_dif rmse'] = [get_rmse(act=df[stat+'_dif'][df.set=='validation'], pred=df[stat+'_dif_pred'][df.set=='validation'])]\n",
    "        total_rmse += np.mean(row[stat + '_dif rmse'])\n",
    "        \n",
    "    row['total_rmse'] = np.round(total_rmse, 4)\n",
    "    return pd.DataFrame.from_dict(data=row)\n",
    "\n",
    "print('    get_grad_descent_step(alpha, X_columns, y_columns, data, n)')    "
   ]
  },
  {
   "cell_type": "markdown",
   "id": "4781163a-b5a2-4720-a854-e6a49cb14cfc",
   "metadata": {
    "jp-MarkdownHeadingCollapsed": true,
    "tags": []
   },
   "source": [
    "#### fight_result_model_training"
   ]
  },
  {
   "cell_type": "code",
   "execution_count": 56,
   "id": "0123d417-0c30-4507-8160-de09e6d4550a",
   "metadata": {},
   "outputs": [
    {
     "name": "stdout",
     "output_type": "stream",
     "text": [
      "\n",
      "fight_result_model_training func:\n",
      "*********************************\n"
     ]
    }
   ],
   "source": [
    "print('\\nfight_result_model_training func:')\n",
    "print('*********************************')"
   ]
  },
  {
   "cell_type": "code",
   "execution_count": 70,
   "id": "230ee0cb-062f-4e33-8838-3dbfe703f782",
   "metadata": {},
   "outputs": [
    {
     "name": "stdout",
     "output_type": "stream",
     "text": [
      "    set_svm_clf(X_columns, y_columns, data, C=1, gamma='scale', kernel='linear', degree=2)\n"
     ]
    }
   ],
   "source": [
    "def set_svm_clf(X_columns, y_columns, data, C=1, gamma='scale', kernel='linear', degree=2):\n",
    "    \n",
    "    try:\n",
    "        if kernel == 'poly':\n",
    "            svm_clf = svm.SVC(kernel=kernel,C=C, gamma=gamma, degree=degree)\n",
    "        else:\n",
    "            svm_clf = svm.SVC(kernel=kernel,C=C, gamma=gamma)\n",
    "    except:\n",
    "        print('kernel acceptable values: linear/poly/rbf.')\n",
    "        print('C acceptable values: 0.1 < C < 100.')\n",
    "        print('gamma acceptable values: 0.0001 < gamma < 10.')\n",
    "        return None\n",
    "    \n",
    "    svm_clf = svm.SVC(kernel=kernel,C=C, gamma=gamma, degree=degree)\n",
    "    X_train = data[X_columns][data.set=='train']\n",
    "    y_train = data[y_columns][data.set=='train']\n",
    "    \n",
    "    if len(y_columns) == 1:\n",
    "        y_train = np.ravel(np.array(data[y_columns[0]][data.set=='train']).reshape(-1,1))\n",
    "    else:    \n",
    "        y_train = data[y_columns][data.set=='train']\n",
    "    \n",
    "    svm_clf.fit(X_train,y_train)\n",
    "    return svm_clf\n",
    "\n",
    "print(\"    set_svm_clf(X_columns, y_columns, data, C=1, gamma='scale', kernel='linear', degree=2)\")    "
   ]
  },
  {
   "cell_type": "code",
   "execution_count": 66,
   "id": "914a4b2d-6f34-4f88-a761-2cca37baa301",
   "metadata": {},
   "outputs": [
    {
     "name": "stdout",
     "output_type": "stream",
     "text": [
      "    get_model_evaluation(data)\n"
     ]
    }
   ],
   "source": [
    "def get_model_evaluation(data):\n",
    "\n",
    "    y_test_act = data['result'][data.set=='test']\n",
    "    y_test_pred = data['result_pred'][data.set=='test']\n",
    "\n",
    "    print('Accuracy = %.6f' % accuracy_score(y_test_act,y_test_pred))\n",
    "    ConfusionMatrixDisplay.from_predictions(y_test_act,y_test_pred)  \n",
    "    \n",
    "print('    get_model_evaluation(data)')    "
   ]
  },
  {
   "cell_type": "code",
   "execution_count": 73,
   "id": "5840f433-fca7-4925-830b-8136c50397c7",
   "metadata": {},
   "outputs": [
    {
     "name": "stdout",
     "output_type": "stream",
     "text": [
      "    get_accuracy(act, pred)\n"
     ]
    }
   ],
   "source": [
    "def get_accuracy(act, pred):\n",
    "    return accuracy_score(act, pred)\n",
    "\n",
    "print('    get_accuracy(act, pred)')"
   ]
  },
  {
   "cell_type": "code",
   "execution_count": 74,
   "id": "9fafdbac-d76b-4f15-8c32-769407bd7b4c",
   "metadata": {},
   "outputs": [],
   "source": [
    "def get_svm_grad_step(kernel, C, gamma, degree, X_columns, y_columns, data):\n",
    "    \n",
    "    row = {'kernel':[kernel], 'C':[C], 'gamma':[gamma], 'degree':[degree]}\n",
    "    \n",
    "    svm_clf = set_svm_clf(X_columns=X_columns, y_columns=y_columns, data=data, C=C, gamma=gamma, kernel=kernel, degree=degree)\n",
    "    data = set_predictions(model=svm_clf, data=data, X_columns=X_columns, y_columns=y_columns)\n",
    "    \n",
    "    row['accuracy'] = [get_accuracy(act=data.result[data.set=='test'], pred=data.result_pred[data.set=='test'])]\n",
    "    \n",
    "    return pd.DataFrame.from_dict(data=row)"
   ]
  },
  {
   "cell_type": "code",
   "execution_count": null,
   "id": "b0b26ec9-9190-46e1-b5d3-7b5427880170",
   "metadata": {},
   "outputs": [],
   "source": [
    ">>>>>>>>>>>>"
   ]
  },
  {
   "cell_type": "code",
   "execution_count": 16,
   "id": "5461b8d6-603a-4900-997e-b503652ff337",
   "metadata": {},
   "outputs": [
    {
     "name": "stdout",
     "output_type": "stream",
     "text": [
      "set_forest_clf(X_columns, y_columns, n_estimators, tree_depth, data)\n"
     ]
    }
   ],
   "source": [
    "def set_forest_clf(X_columns, y_columns, n_estimators, tree_depth, data):\n",
    "    \n",
    "    \n",
    "    forest_clf = RandomForestClassifier(max_depth=tree_depth, random_state=0, n_estimators=n_estimators)\n",
    "    \n",
    "    X_train = data[X_columns][data.set=='train']\n",
    "    y_train = data[y_columns][data.set=='train']\n",
    "    forest_clf.fit(X_train,y_train)\n",
    "    \n",
    "    return forest_clf\n",
    "\n",
    "print('    set_forest_clf(X_columns, y_columns, n_estimators, tree_depth, data)')"
   ]
  },
  {
   "cell_type": "code",
   "execution_count": 19,
   "id": "bc992568-0c72-4fb6-b20b-0baef6a9e708",
   "metadata": {},
   "outputs": [
    {
     "name": "stdout",
     "output_type": "stream",
     "text": [
      "set_knn_clf(X_columns, y_columns, data, n=5)\n"
     ]
    }
   ],
   "source": [
    "def set_knn_clf(X_columns, y_columns, data, n=5):\n",
    "    \n",
    "    knn_clf = KNeighborsClassifier(n_neighbors=n)\n",
    "    X_train = data[X_columns][data.set=='train']\n",
    "    \n",
    "    if len(y_columns) == 1:\n",
    "        y_train = np.ravel(np.array(data[y_columns[0]][data.set=='train']).reshape(-1,1))\n",
    "    else:    \n",
    "        y_train = data[y_columns][data.set=='train']\n",
    "        \n",
    "    knn_clf.fit(X_train,y_train)\n",
    "    return knn_clf\n",
    "\n",
    "print('    set_knn_clf(X_columns, y_columns, data, n=5)')"
   ]
  },
  {
   "cell_type": "code",
   "execution_count": 14,
   "id": "28a854be-8477-4017-934f-daa009e2daea",
   "metadata": {},
   "outputs": [
    {
     "name": "stdout",
     "output_type": "stream",
     "text": [
      "set_desicion_tree_clf(X_columns, y_columns, data, tree_depth)\n"
     ]
    }
   ],
   "source": [
    "def set_desicion_tree_clf(X_columns, y_columns, data, tree_depth):\n",
    "    \n",
    "    from sklearn.tree import DecisionTreeClassifier\n",
    "    tree_clf = DecisionTreeClassifier(max_depth=tree_depth, random_state=1)\n",
    "    X_train = data[X_columns][data.set=='train']\n",
    "    y_train = data[y_columns][data.set=='train']\n",
    "    tree_clf.fit(X_train,y_train)\n",
    "    \n",
    "    return tree_clf\n",
    "\n",
    "print('    set_desicion_tree_clf(X_columns, y_columns, data, tree_depth)')"
   ]
  },
  {
   "cell_type": "markdown",
   "id": "ad29b10a-0a0f-465e-a1e4-88b3619c1303",
   "metadata": {
    "jp-MarkdownHeadingCollapsed": true,
    "tags": []
   },
   "source": [
    "#### prediction"
   ]
  },
  {
   "cell_type": "code",
   "execution_count": 27,
   "id": "8f6ca639-157c-44c1-86f4-0dd0431428fc",
   "metadata": {},
   "outputs": [
    {
     "name": "stdout",
     "output_type": "stream",
     "text": [
      "Prediction func:\n",
      "****************\n"
     ]
    }
   ],
   "source": [
    "print('\\nPrediction func:')\n",
    "print('****************')"
   ]
  },
  {
   "cell_type": "code",
   "execution_count": 18,
   "id": "a4fc4004-ef6c-432b-9931-f41421a3b3f9",
   "metadata": {},
   "outputs": [
    {
     "name": "stdout",
     "output_type": "stream",
     "text": [
      "get_fighters_stats(fighter, opponent, data)\n"
     ]
    }
   ],
   "source": [
    "def get_fighters_stats(fighter, opponent, data):\n",
    "    import pandas as pd\n",
    "    data1 = pd.DataFrame((data[data.name == fighter]).reset_index(drop=True).loc[0])[1:].rename(columns={0:fighter})\n",
    "    data2 = pd.DataFrame((data[data.name == opponent]).reset_index(drop=True).loc[0])[1:].rename(columns={0:opponent})\n",
    "    return pd.concat([data1,data2], axis=1)\n",
    "\n",
    "print('    get_fighters_stats(fighter, opponent, data)')"
   ]
  },
  {
   "cell_type": "code",
   "execution_count": 28,
   "id": "974406ac-4705-4eb3-86c4-3706da55328a",
   "metadata": {},
   "outputs": [
    {
     "ename": "SyntaxError",
     "evalue": "invalid syntax (<ipython-input-28-d960544c3de0>, line 1)",
     "output_type": "error",
     "traceback": [
      "\u001b[0;36m  File \u001b[0;32m\"<ipython-input-28-d960544c3de0>\"\u001b[0;36m, line \u001b[0;32m1\u001b[0m\n\u001b[0;31m    >>>>\u001b[0m\n\u001b[0m     ^\u001b[0m\n\u001b[0;31mSyntaxError\u001b[0m\u001b[0;31m:\u001b[0m invalid syntax\n"
     ]
    }
   ],
   "source": [
    ">>>>"
   ]
  },
  {
   "cell_type": "code",
   "execution_count": 28,
   "id": "6d4b57f6-bcaf-43e4-ade7-6f53f4e83c87",
   "metadata": {},
   "outputs": [],
   "source": [
    "'''\n",
    "def get_stance_win_ratio():\n",
    "    pass\n",
    "'''"
   ]
  },
  {
   "cell_type": "code",
   "execution_count": 27,
   "id": "f5e12679-51f1-45d3-946f-5eb260eaa058",
   "metadata": {},
   "outputs": [
    {
     "name": "stdout",
     "output_type": "stream",
     "text": [
      "set_new_fight(fighter, opponent, data)\n"
     ]
    }
   ],
   "source": [
    "'''\n",
    "def set_new_fight(fighter, opponent, data):\n",
    "    row = {'set':None,\n",
    "          'stance_win_ratio':None,\n",
    "          'win_perc_dif':None,\n",
    "          'win_strk_dif':None,\n",
    "          'lose_strk_dif':None,\n",
    "          'kd_dif':None,\n",
    "          'str_dif':None,\n",
    "          'td_dif':None,\n",
    "          'sub_dif':None,\n",
    "          'result':None,\n",
    "          'result_pred':None,\n",
    "          }\n",
    "    return pd.DataFrame(row, index=[0])\n",
    "\n",
    "print('set_new_fight(fighter, opponent, data)')\n",
    "'''"
   ]
  },
  {
   "cell_type": "code",
   "execution_count": 22,
   "id": "cf2061fa-3a53-4c90-83ba-1129171ee7e7",
   "metadata": {},
   "outputs": [
    {
     "name": "stdout",
     "output_type": "stream",
     "text": [
      "set_new_fight(fighter, opponent, data)\n"
     ]
    }
   ],
   "source": [
    "'''\n",
    "def set_new_fight(fighter, opponent, data):\n",
    "    \n",
    "    row = {'date': get_current_date(),\n",
    "           'result': None,\n",
    "           'fighter': fighter,\n",
    "           'opponent': opponent,\n",
    "           'win_perc_dif': get_win_perc(fighter=fighter, data=data) - get_win_perc(fighter=opponent, data=data),\n",
    "           'win_strk_dif': get_win_streak(fighter=fighter, data=data) - get_win_streak(fighter=opponent, data=data),\n",
    "           'lose_strk_dif': get_lose_streak(fighter=fighter, data=data) - get_lose_streak(fighter=opponent, data=data),\n",
    "           'td avg._dif': get_td_avg(fighter=fighter, data=stats) - get_td_avg(fighter=opponent, data=stats),\n",
    "           'sub. avg._dif': get_sub_avg(fighter=fighter, data=stats) - get_sub_avg(fighter=opponent, data=stats),\n",
    "           'sapm_dif': get_sapm(fighter=fighter, data=stats) - get_sapm(fighter=opponent, data=stats),\n",
    "           'slpm_dif': get_slpm(fighter=fighter, data=stats) - get_slpm(fighter=opponent, data=stats),\n",
    "           'kd_dif':None,\n",
    "           'str_dif':None,\n",
    "           'td_dif':None,\n",
    "           'sub_dif':None,\n",
    "          }\n",
    "    return pd.DataFrame(row, index=[0])\n",
    "\n",
    "print('set_new_fight(fighter, opponent, data)')\n",
    "'''"
   ]
  },
  {
   "cell_type": "code",
   "execution_count": 23,
   "id": "c89d768e-d960-4b16-aa1d-dadaa61e2369",
   "metadata": {},
   "outputs": [
    {
     "name": "stdout",
     "output_type": "stream",
     "text": [
      "get_current_date()\n",
      "get_win_perc(fighter, data)\n",
      "get_lose_streak(fighter, data)\n",
      "get_win_streak(fighter, data)\n",
      "get_td_avg(fighter, data)\n",
      "get_sub_avg(fighter, data)\n",
      "get_sapm(fighter, data)\n",
      "get_slpm(fighter, data)\n"
     ]
    }
   ],
   "source": [
    "def get_current_date():\n",
    "    from datetime import date\n",
    "    import pandas as pd\n",
    "    return pd.to_datetime(date.today())\n",
    "print('get_current_date()')\n",
    "'''\n",
    "def get_win_perc(fighter, data):\n",
    "    '''return current career winning %'''\n",
    "    date = get_current_date()\n",
    "    wins = len(data[(data['fighter'] == fighter)&(data.date < date) & (data['result']=='win')]) + len(data[(data['opponent'] == fighter)&(data.date < date) & (data['result']=='lose')])\n",
    "    losses = len(data[(data['fighter'] == fighter)&(data.date < date) & (data['result']=='lose')]) + len(data[(data['opponent'] == fighter)&(data.date < date) & (data['result']=='win')])\n",
    "    \n",
    "    if wins == 0:\n",
    "        return 0\n",
    "    return wins/(wins+losses)\n",
    "print('get_win_perc(fighter, data)')\n",
    "'''\n",
    "def get_lose_streak(fighter, data):\n",
    "    '''return current lose streak'''\n",
    "    date = get_current_date()\n",
    "    data = ((data[(data.date < date)&((data.fighter == fighter)|(data.opponent == fighter))]).sort_values(by=['date'], ascending=False)).reset_index(drop=True)\n",
    "    \n",
    "    count = 0\n",
    "    for i in range(0,len(data)):\n",
    "        \n",
    "        result = data.loc[i,'result']\n",
    "        f = data.loc[i,'fighter']\n",
    "        o = data.loc[i,'opponent']\n",
    "        \n",
    "        if ((result == 'lose')&(f == fighter))|((result == 'win')&(o == fighter)):\n",
    "            count += 1\n",
    "        else:\n",
    "            return count\n",
    "    return count\n",
    "print('get_lose_streak(fighter, data)')\n",
    "\n",
    "def get_win_streak(fighter, data):\n",
    "    '''return current win streak'''\n",
    "    date = get_current_date()\n",
    "    data = ((data[(data.date < date)&((data.fighter == fighter)|(data.opponent == fighter))]).sort_values(by=['date'], ascending=False)).reset_index(drop=True)\n",
    "    \n",
    "    count = 0\n",
    "    for i in range(0,len(data)):\n",
    "        \n",
    "        result = data.loc[i,'result']\n",
    "        f = data.loc[i,'fighter']\n",
    "        o = data.loc[i,'opponent']\n",
    "        \n",
    "        if ((result == 'win')&(f == fighter))|((result == 'lose')&(o == fighter)):\n",
    "            count += 1\n",
    "        else:\n",
    "            return count\n",
    "    return count\n",
    "print('get_win_streak(fighter, data)')\n",
    "\n",
    "def get_td_avg(fighter, data):\n",
    "    '''return current takedown average'''\n",
    "    data = (data[data.name == fighter]).reset_index(drop=True)\n",
    "    return data.loc[0,'td avg.']\n",
    "print('get_td_avg(fighter, data)')\n",
    "\n",
    "def get_sub_avg(fighter, data):\n",
    "    '''return current submission average'''\n",
    "    data = (data[data.name == fighter]).reset_index(drop=True)\n",
    "    return data.loc[0,'sub. avg.']\n",
    "print('get_sub_avg(fighter, data)')\n",
    "\n",
    "def get_sapm(fighter, data):\n",
    "    '''return current strikes absorbed per minute'''\n",
    "    data = (data[data.name == fighter]).reset_index(drop=True)\n",
    "    return data.loc[0,'sapm']\n",
    "print('get_sapm(fighter, data)')\n",
    "\n",
    "def get_slpm(fighter, data):\n",
    "    '''return current strikes landed per minutes'''\n",
    "    data = (data[data.name == fighter]).reset_index(drop=True)\n",
    "    return data.loc[0,'slpm']\n",
    "print('get_slpm(fighter, data)')"
   ]
  },
  {
   "cell_type": "code",
   "execution_count": 25,
   "id": "d8b3e4ac-783c-41e5-93c0-09a172022e06",
   "metadata": {},
   "outputs": [
    {
     "name": "stdout",
     "output_type": "stream",
     "text": [
      "get_winner(fighter=fighter, opponent, data)\n"
     ]
    }
   ],
   "source": [
    "def get_winner(fighter, opponent, data):\n",
    "    '''return winner of the fight'''\n",
    "    winner = None\n",
    "    data = (data[(data['fighter'] == fighter) & (data['opponent'] == opponent)]).reset_index(drop=True)\n",
    "    \n",
    "    if data.loc[0,'result_pred'] == 'win':\n",
    "        winner = fighter\n",
    "    else: \n",
    "        winner = opponent    \n",
    "    \n",
    "    return winner\n",
    "\n",
    "print('get_winner(fighter=fighter, opponent, data)')"
   ]
  },
  {
   "cell_type": "code",
   "execution_count": null,
   "id": "0fd6a2bc-5b7c-459b-aff6-e61ab8eccf30",
   "metadata": {},
   "outputs": [],
   "source": []
  }
 ],
 "metadata": {
  "kernelspec": {
   "display_name": "Python 3 (ipykernel)",
   "language": "python",
   "name": "python3"
  },
  "language_info": {
   "codemirror_mode": {
    "name": "ipython",
    "version": 3
   },
   "file_extension": ".py",
   "mimetype": "text/x-python",
   "name": "python",
   "nbconvert_exporter": "python",
   "pygments_lexer": "ipython3",
   "version": "3.9.7"
  }
 },
 "nbformat": 4,
 "nbformat_minor": 5
}
