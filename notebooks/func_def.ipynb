{
 "cells": [
  {
   "cell_type": "code",
   "execution_count": 36,
   "id": "5daf37bf-3414-4272-9a60-ece08abb4c2a",
   "metadata": {},
   "outputs": [
    {
     "name": "stdout",
     "output_type": "stream",
     "text": [
      "imports loaded.\n"
     ]
    }
   ],
   "source": [
    "%run imports.ipynb"
   ]
  },
  {
   "cell_type": "markdown",
   "id": "1db15167-f7cc-4b45-ae6a-bf9fe49ca0c1",
   "metadata": {
    "tags": []
   },
   "source": [
    "### Func def"
   ]
  },
  {
   "cell_type": "markdown",
   "id": "9ed9d33c-c975-4f90-8dcc-96a396b4a800",
   "metadata": {
    "tags": []
   },
   "source": [
    "#### pre-processing"
   ]
  },
  {
   "cell_type": "code",
   "execution_count": 27,
   "id": "01fd34b0-df31-4fd6-8d72-2df5828f7826",
   "metadata": {},
   "outputs": [
    {
     "name": "stdout",
     "output_type": "stream",
     "text": [
      "\n",
      "> Pre-Processing func:\n"
     ]
    }
   ],
   "source": [
    "print('\\n> Pre-Processing func:')"
   ]
  },
  {
   "cell_type": "code",
   "execution_count": 22,
   "id": "a802cd97-9eb4-45b9-87c2-6104365ed8f7",
   "metadata": {},
   "outputs": [
    {
     "name": "stdout",
     "output_type": "stream",
     "text": [
      "    get_striking_efficiency(name, date)\n"
     ]
    }
   ],
   "source": [
    "def get_striking_efficiency(name, date, data):\n",
    "    \n",
    "    data = data[(data.fighter==name)|(data.opponent==name)]\n",
    "    data = data[data.date < date].sort_values(by='date',ascending=False).reset_index(drop=True)\n",
    "    return data\n",
    "    print(data[['date','fighter','f_str','f_kd','opponent','o_str','o_kd']])\n",
    "    knockdowns_landed = 0\n",
    "    strikes_landed = 0\n",
    "    for i in range(len(data)):\n",
    "        prefix = 'f_' if data.loc[i,'fighter'] == name else 'o_'\n",
    "        knockdowns_landed += int(data.loc[i, prefix + 'kd'])\n",
    "        strikes_landed += int(data.loc[i, prefix + 'str'])\n",
    "        print(f'{name} is {prefix}: {prefix}kd={knockdowns_landed}, {prefix}str={strikes_landed}')\n",
    "    \n",
    "    if strikes_landed == 0:\n",
    "        return 0\n",
    "    return round(knockdowns_landed/strikes_landed,4)\n",
    "\n",
    "print('    get_striking_efficiency(name, date)')"
   ]
  },
  {
   "cell_type": "code",
   "execution_count": 3,
   "id": "05ab1c09-7d24-46e8-96e1-4351d581d66f",
   "metadata": {},
   "outputs": [
    {
     "name": "stdout",
     "output_type": "stream",
     "text": [
      "    get_height(item)\n"
     ]
    }
   ],
   "source": [
    "def get_height(item):\n",
    "    \n",
    "    '''return height in cm'''\n",
    "    \n",
    "    item = str(item)\n",
    "    \n",
    "    if item[0] == '-':\n",
    "        return None\n",
    "    else:\n",
    "        return round(30.48 * float(item[0:item.find(\"'\")]) + 2.54 * float(item[item.find(\"'\")+1:item.find('\"')]),2)\n",
    "\n",
    "print('    get_height(item)')    "
   ]
  },
  {
   "cell_type": "code",
   "execution_count": 4,
   "id": "3c2787f6-c4eb-4abb-99cc-406b0f034693",
   "metadata": {},
   "outputs": [
    {
     "name": "stdout",
     "output_type": "stream",
     "text": [
      "    get_weight(item)\n"
     ]
    }
   ],
   "source": [
    "def get_weight(item):\n",
    "    \n",
    "    '''return weight in kg'''\n",
    "    \n",
    "    item = str(item)\n",
    "    \n",
    "    if item[0] == '-':\n",
    "        return None\n",
    "    else:\n",
    "        return 0.45 * float(item[0:item.find('lbs.')])\n",
    "    \n",
    "print('    get_weight(item)')    "
   ]
  },
  {
   "cell_type": "code",
   "execution_count": 5,
   "id": "6c24503b-e674-4b61-a4de-da2c4d5b97e8",
   "metadata": {},
   "outputs": [
    {
     "name": "stdout",
     "output_type": "stream",
     "text": [
      "    get_reach(item)\n"
     ]
    }
   ],
   "source": [
    "def get_reach(item):\n",
    "    \n",
    "    '''return reach in cm'''\n",
    "    \n",
    "    item = str(item)\n",
    "    \n",
    "    if item[0] == '-':\n",
    "        return None\n",
    "    else:\n",
    "        return 2.54 * float(item[0:item.find('\"')])\n",
    "    \n",
    "print('    get_reach(item)')    "
   ]
  },
  {
   "cell_type": "code",
   "execution_count": 6,
   "id": "06d79f2b-7809-4e7d-b89e-6958be8e2b58",
   "metadata": {},
   "outputs": [
    {
     "name": "stdout",
     "output_type": "stream",
     "text": [
      "    get_std_reach(item, height, reach_list, height_list)\n"
     ]
    }
   ],
   "source": [
    "def get_std_reach(item, height, reach_list, height_list):\n",
    "    '''return \"standard reach\" ( =mean(reach/height)*height )'''\n",
    "    return round(height*np.mean(reach_list/height_list),2)\n",
    "\n",
    "print('    get_std_reach(item, height, reach_list, height_list)')"
   ]
  },
  {
   "cell_type": "code",
   "execution_count": 7,
   "id": "33c41fa2-fb53-4eb5-9bce-4a6a893ab9e6",
   "metadata": {},
   "outputs": [
    {
     "name": "stdout",
     "output_type": "stream",
     "text": [
      "    get_age(item)\n"
     ]
    }
   ],
   "source": [
    "def get_age(item):\n",
    "    \n",
    "    '''return age (instead of date of birth)'''\n",
    "    \n",
    "    from datetime import date,timedelta\n",
    "    \n",
    "    item = str(item)\n",
    "    current_date = date.today().year\n",
    "    \n",
    "    if item[0] == '-':\n",
    "        return None\n",
    "    else:\n",
    "        return (current_date - int(item[item.find(',')+1:]))\n",
    "    \n",
    "print('    get_age(item)')    "
   ]
  },
  {
   "cell_type": "code",
   "execution_count": 8,
   "id": "7592cd36-d911-4e50-b6c9-ee581696cf2f",
   "metadata": {},
   "outputs": [
    {
     "name": "stdout",
     "output_type": "stream",
     "text": [
      "    get_std_age(item, age_list)\n"
     ]
    }
   ],
   "source": [
    "def get_std_age(item, age_list):\n",
    "    \n",
    "    '''return standrd age per weight class'''  \n",
    "    return round(np.mean(age_list),2)\n",
    "\n",
    "print('    get_std_age(item, age_list)')"
   ]
  },
  {
   "cell_type": "code",
   "execution_count": 9,
   "id": "385fc1bc-0e02-4db1-9f6e-62bd94b6ddac",
   "metadata": {},
   "outputs": [
    {
     "name": "stdout",
     "output_type": "stream",
     "text": [
      "    get_win_perc(name, date, df)\n"
     ]
    }
   ],
   "source": [
    "def get_win_prob(name, date, df):\n",
    "    \n",
    "    '''return current career winning %'''\n",
    "    \n",
    "    wins = len(df[(df['fighter'] == name) & (df.date < date)])\n",
    "    losses = len(df[(df['opponent'] == name) & (df.date < date)])\n",
    "    \n",
    "    if wins == 0:\n",
    "        return 0\n",
    "    return wins/(wins+losses)\n",
    "\n",
    "print('    get_win_prob(name, date, df)')"
   ]
  },
  {
   "cell_type": "code",
   "execution_count": 13,
   "id": "d8d1434a-1aed-41ca-9ef2-c1595846abe5",
   "metadata": {},
   "outputs": [
    {
     "name": "stdout",
     "output_type": "stream",
     "text": [
      "    get_win_streak(name, date, df)\n"
     ]
    }
   ],
   "source": [
    "def get_win_streak(name, date, df):\n",
    "    \n",
    "    data = df[(df.fighter==name)|(df.opponent==name)].sort_values(by='date',ascending=False)\n",
    "    data = data[data.date < date].reset_index(drop=True)\n",
    "    \n",
    "    if len(data) < 1:\n",
    "        return 0\n",
    "    \n",
    "    count = 0\n",
    "    for fighter in data['fighter']:\n",
    "        if fighter != name:\n",
    "            return count\n",
    "        count += 1\n",
    "    \n",
    "    return count\n",
    "\n",
    "print('    get_win_streak(name, date, df) #return count of recent wins')"
   ]
  },
  {
   "cell_type": "code",
   "execution_count": 14,
   "id": "407500af-6a00-468b-9b3c-2c0957182b8b",
   "metadata": {},
   "outputs": [
    {
     "name": "stdout",
     "output_type": "stream",
     "text": [
      "    get_lose_streak(name, date, df)\n"
     ]
    }
   ],
   "source": [
    "def get_lose_streak(name, date, df):\n",
    "    \n",
    "    data = df[(df.fighter==name)|(df.opponent==name)].sort_values(by='date',ascending=False)\n",
    "    data = data[data.date < date].reset_index(drop=True)\n",
    "    \n",
    "    if len(data) < 1:\n",
    "        return 0\n",
    "    \n",
    "    count = 0\n",
    "    for opponent in data['opponent']:\n",
    "        if opponent != name:\n",
    "            return count\n",
    "        count += 1\n",
    "    \n",
    "    return count\n",
    "\n",
    "print('    get_lose_streak(name, date, df)')"
   ]
  },
  {
   "cell_type": "code",
   "execution_count": 4,
   "id": "43d8aa97-fdd8-499b-a9d1-7d5caacdff9d",
   "metadata": {},
   "outputs": [
    {
     "name": "stdout",
     "output_type": "stream",
     "text": [
      "    get_fighter_stats(name, data )\n"
     ]
    }
   ],
   "source": [
    "def get_fighter_stats(name, data ):\n",
    "    '''return fighters statistics from stat_df'''\n",
    "    \n",
    "    stat_list = data.columns[1:]\n",
    "    row = (data[stat_list][data.name==name]).reset_index(drop=True)\n",
    "    \n",
    "    if len(row) < 1:\n",
    "        return len(stat_list)*[None]\n",
    "    else:\n",
    "        return row.loc[0]\n",
    "    \n",
    "print('    get_fighter_stats(name, data )')    "
   ]
  },
  {
   "cell_type": "markdown",
   "id": "bae4a750-4f03-4a1a-a93e-4180d1a03414",
   "metadata": {
    "tags": []
   },
   "source": [
    "#### feature_engineering"
   ]
  },
  {
   "cell_type": "code",
   "execution_count": 28,
   "id": "351e7468-75c9-4d68-9f19-eb053ad66ff9",
   "metadata": {},
   "outputs": [
    {
     "name": "stdout",
     "output_type": "stream",
     "text": [
      "\n",
      "> Feature Engineering func:\n"
     ]
    }
   ],
   "source": [
    "print('\\n> Feature Engineering func:')"
   ]
  },
  {
   "cell_type": "code",
   "execution_count": 18,
   "id": "bb4fa7d4-db63-48da-8e99-68c188873a16",
   "metadata": {},
   "outputs": [
    {
     "name": "stdout",
     "output_type": "stream",
     "text": [
      "    get_stat(index, data, stat='height', fo='')\n"
     ]
    }
   ],
   "source": [
    "def get_stat(index, data, stat='height', fo=''):\n",
    "    return data.loc[index, fo + stat]\n",
    "\n",
    "print(\"    get_stat(index, data, stat='height', fo='')\")"
   ]
  },
  {
   "cell_type": "code",
   "execution_count": 5,
   "id": "b7edaeed-5879-4c66-bee7-39fa1e525f9c",
   "metadata": {},
   "outputs": [
    {
     "name": "stdout",
     "output_type": "stream",
     "text": [
      "    get_swaped_row(index, data)\n"
     ]
    }
   ],
   "source": [
    "def get_swaped_row(index, data):\n",
    "    \n",
    "    swapped_row = []\n",
    "    for column in data.columns:\n",
    "        if column.find('f_') > -1:\n",
    "            swapped_row.append(data.loc[index,'o_' + column[2:]])\n",
    "        elif column.find('o_') > -1:\n",
    "            swapped_row.append(data.loc[index,'f_' + column[2:]]) \n",
    "        elif column == 'result':\n",
    "            swapped_row.append('lose')\n",
    "        elif column == 'fighter':\n",
    "            swapped_row.append(data.loc[index,'opponent'])\n",
    "        elif column == 'opponent':\n",
    "            swapped_row.append(data.loc[index,'fighter'])\n",
    "        else:\n",
    "            swapped_row.append(data.loc[index,column])    \n",
    "    \n",
    "    return swapped_row\n",
    "\n",
    "print('    get_swaped_row(index, data) # return fighter & opponent statistics swapped. ')"
   ]
  },
  {
   "cell_type": "code",
   "execution_count": 6,
   "id": "e6d27e4c-5889-4b08-b92d-3071250a4265",
   "metadata": {},
   "outputs": [
    {
     "name": "stdout",
     "output_type": "stream",
     "text": [
      "    get_wins(combo, data)\n"
     ]
    }
   ],
   "source": [
    "def get_wins(combo, data):\n",
    "\n",
    "    data = data[(data.result=='win') & (data.stance_combo==combo)]\n",
    "    return len(data)\n",
    "\n",
    "print('    get_wins(combo, data)')"
   ]
  },
  {
   "cell_type": "code",
   "execution_count": 7,
   "id": "71b43021-5dc6-42bb-a9c4-dddac48bc847",
   "metadata": {},
   "outputs": [
    {
     "name": "stdout",
     "output_type": "stream",
     "text": [
      "    get_wins_ratio(combo, data)\n"
     ]
    }
   ],
   "source": [
    "def get_wins_ratio(combo, data):\n",
    "    \n",
    "    combo_df = data[data.stance_combo==combo]\n",
    "    if len(combo_df) == 0:\n",
    "        return 0\n",
    "    else:\n",
    "        return get_wins(combo, data=data)/len(combo_df)\n",
    "    \n",
    "print('    get_wins_ratio(combo, data)')    "
   ]
  },
  {
   "cell_type": "markdown",
   "id": "e160915b-e83b-4f52-85ce-992ae958a74a",
   "metadata": {
    "jp-MarkdownHeadingCollapsed": true,
    "tags": []
   },
   "source": [
    "#### outlier_cleaning"
   ]
  },
  {
   "cell_type": "code",
   "execution_count": 35,
   "id": "10ec7b8a-4af6-4a34-9df5-4f122234d42d",
   "metadata": {},
   "outputs": [
    {
     "name": "stdout",
     "output_type": "stream",
     "text": [
      "\n",
      "> outlier_cleaning func:\n"
     ]
    }
   ],
   "source": [
    "print('\\n> outlier_cleaning func:')"
   ]
  },
  {
   "cell_type": "code",
   "execution_count": 42,
   "id": "6835ef77-71b3-409b-9f26-ef9f74fdaa27",
   "metadata": {},
   "outputs": [
    {
     "name": "stdout",
     "output_type": "stream",
     "text": [
      "    set_outlier_detection_model(X_columns, data)\n"
     ]
    }
   ],
   "source": [
    "def set_outlier_detection_model(X_columns, data, n=20, contemination=0.05):\n",
    "    \n",
    "    lof = LocalOutlierFactor(n_neighbors=n, algorithm='auto', metric='minkowski',contamination=contemination, novelty=False, n_jobs=-1)\n",
    "    lof.fit(data[X_columns])\n",
    "    return lof\n",
    "print('    set_outlier_detection_model(X_columns, data)')"
   ]
  },
  {
   "cell_type": "markdown",
   "id": "6d2e0092-b961-4038-a8d9-379080f2b04b",
   "metadata": {},
   "source": [
    ">>>>"
   ]
  },
  {
   "cell_type": "markdown",
   "id": "746e81da-daad-4ff2-990f-76a2cab283d0",
   "metadata": {
    "tags": []
   },
   "source": [
    "#### model_stats_pred_training"
   ]
  },
  {
   "cell_type": "code",
   "execution_count": 8,
   "id": "cba0a8e1-e308-491b-85dd-5fb1acf21d22",
   "metadata": {},
   "outputs": [
    {
     "name": "stdout",
     "output_type": "stream",
     "text": [
      "\n",
      "> model_stats_pred_training func:\n"
     ]
    }
   ],
   "source": [
    "print('\\n> model_stats_pred_training func:')"
   ]
  },
  {
   "cell_type": "code",
   "execution_count": 9,
   "id": "09170fa4-0108-44bd-b6ab-f0e79f10f5e0",
   "metadata": {},
   "outputs": [
    {
     "name": "stdout",
     "output_type": "stream",
     "text": [
      "    set_lower_cases(string)\n"
     ]
    }
   ],
   "source": [
    "def set_lower_cases(string):\n",
    "    return ''.join(c.lower() for c in string if c.isalpha())\n",
    "\n",
    "print('    set_lower_cases(string)')"
   ]
  },
  {
   "cell_type": "code",
   "execution_count": 10,
   "id": "7fa8b1a6-4107-4745-8ce4-fc73b7df4915",
   "metadata": {},
   "outputs": [
    {
     "name": "stdout",
     "output_type": "stream",
     "text": [
      "    set_train_test(X_columns, y_columns, data, test_size=0.3, valid_size=0.3)\n"
     ]
    }
   ],
   "source": [
    "def set_train_test(X_columns, y_columns, data, test_size=0.3, valid_size=0.3):\n",
    "\n",
    "    if 'set' not in data.columns:\n",
    "        data.insert(0, 'set', None) # inserd 'set' column to position 0\n",
    "    \n",
    "    for i in range(len(data)):\n",
    "        \n",
    "        if data.loc[i,'result'] == None:\n",
    "            data.loc[i,'set'] = 'new'\n",
    "        \n",
    "        elif random.random() < test_size:\n",
    "            data.loc[i,'set'] = 'test'\n",
    "        else:\n",
    "            if random.random() < valid_size:\n",
    "                data.loc[i,'set'] = 'validation'\n",
    "            else:\n",
    "                data.loc[i,'set'] = 'train' \n",
    "\n",
    "    X_train = data[X_columns][data.set=='train']\n",
    "    X_test = data[X_columns][data.set=='test']\n",
    "    y_train = data[y_columns][data.set=='train']\n",
    "    y_test = data[y_columns][data.set=='test']\n",
    "    X_val = data[X_columns][data.set=='validation']\n",
    "    y_val = data[y_columns][data.set=='validation']\n",
    "    \n",
    "    print('Data split: Data=%s, train_set=%s, validation_set=%s, test_set=%s'  %(str(data.shape), str(X_train.shape), str(X_val.shape), str(X_test.shape)))\n",
    "    return data\n",
    "\n",
    "print('    set_train_test(X_columns, y_columns, data, test_size=0.3, valid_size=0.3)')"
   ]
  },
  {
   "cell_type": "code",
   "execution_count": 11,
   "id": "bb83930b-a29d-46e1-95e0-a9c009664b2a",
   "metadata": {},
   "outputs": [
    {
     "name": "stdout",
     "output_type": "stream",
     "text": [
      "    set_xgboost_reg(X_columns, y_columns, data, n=200, learning_rate=0.2, subsample=0.4, max_depth=5)\n"
     ]
    }
   ],
   "source": [
    "def set_xgboost_reg(X_columns, y_columns, data, n=200, learning_rate=0.2, subsample=0.4, max_depth=5):\n",
    "    \n",
    "    xgboost_reg = XGBRegressor(n_estimators=n, max_depth=max_depth, learning_rate=learning_rate, subsample=subsample)\n",
    "    X_train = data.loc[data.set=='train',X_columns]\n",
    "    y_train = np.ravel(np.array(data.loc[data.set=='train',y_columns]).reshape(-1,1))\n",
    "    xgboost_reg.fit(X_train,y_train)\n",
    "    return xgboost_reg\n",
    "\n",
    "print('    set_xgboost_reg(X_columns, y_columns, data, n=200, learning_rate=0.2, subsample=0.4, max_depth=5)')"
   ]
  },
  {
   "cell_type": "code",
   "execution_count": 16,
   "id": "09c0d03b-3459-4007-8237-864363f83083",
   "metadata": {},
   "outputs": [
    {
     "name": "stdout",
     "output_type": "stream",
     "text": [
      "    set_predictions(model, data, X_columns, y_columns)\n"
     ]
    }
   ],
   "source": [
    "def set_predictions(model, data, X_columns, y_columns):\n",
    "    \n",
    "    for column in y_columns:\n",
    "        data[column + '_pred'] = None\n",
    "        data[column + '_pred'] = model.predict(data[X_columns])\n",
    "    \n",
    "    return data\n",
    "\n",
    "print('    set_predictions(model, data, X_columns, y_columns)')"
   ]
  },
  {
   "cell_type": "code",
   "execution_count": null,
   "id": "34f50ead-993d-4234-9dee-1c09a99603af",
   "metadata": {},
   "outputs": [],
   "source": [
    "def get_mean_percentage_error(act, pred):\n",
    "    residual = np.abs(act - pred)\n",
    "    mean = np.mean(act)\n",
    "    ucl = mean + 3*np.std(act)\n",
    "    lcl = mean - 3*np.std(act)\n",
    "    return np.mean(1 - (residual/(ucl-lcl)))\n",
    "\n",
    "print('    get_mean_percentage_error(act, pred)')"
   ]
  },
  {
   "cell_type": "code",
   "execution_count": null,
   "id": "3220fee2-cbc7-4ff9-9201-11df13186c14",
   "metadata": {},
   "outputs": [],
   "source": [
    "def save_trained_model(model, filename_path):\n",
    "    \n",
    "    with open(filename_path, 'wb') as f:\n",
    "        pickle.dump(model, f)\n",
    "    \n",
    "    print(filename_path + ' saved.')\n",
    "    \n",
    "print('    save_trained_model(model, path)')    "
   ]
  },
  {
   "cell_type": "markdown",
   "id": "d34c4e18-7597-40c1-a51d-c160ad5e3d76",
   "metadata": {
    "jp-MarkdownHeadingCollapsed": true,
    "tags": []
   },
   "source": [
    "#### result_model_training"
   ]
  },
  {
   "cell_type": "code",
   "execution_count": null,
   "id": "120f1f99-7d34-43f7-baba-79c56276db3e",
   "metadata": {},
   "outputs": [],
   "source": [
    "print('\\n> result_model_training func:')"
   ]
  },
  {
   "cell_type": "code",
   "execution_count": 30,
   "id": "0e5b4913-915f-4d72-bec1-e9ea9c126efe",
   "metadata": {},
   "outputs": [
    {
     "name": "stdout",
     "output_type": "stream",
     "text": [
      "    set_logistic_reg_clf(X_columns, y_columns, data, penalty='elasticnet', c=1, solver='lbfgs')\n"
     ]
    }
   ],
   "source": [
    "def set_logistic_reg_clf(X_columns, y_columns, data, penalty='elasticnet', c=1, solver='lbfgs'):\n",
    "    \n",
    "    X_train = data[data['set'] == 'train'][X_columns]\n",
    "    y_train = np.ravel(np.array(data[data['set'] == 'train'][y_columns]).reshape(-1,1))\n",
    "    \n",
    "    # Create a logistic regression model\n",
    "    model = LogisticRegression(C=c, solver=solver, penalty=penalty)\n",
    "\n",
    "    # Fit the model to the training data\n",
    "    model.fit(X_train, y_train)\n",
    "\n",
    "    # Create a dataframe with the predicted results\n",
    "    return model\n",
    "\n",
    "print(\"    set_logistic_reg_clf(X_columns, y_columns, data, penalty='elasticnet', c=1, solver='lbfgs')\")"
   ]
  },
  {
   "cell_type": "code",
   "execution_count": null,
   "id": "e8e2575e-bd48-494a-a1e1-7a93d31cbb7a",
   "metadata": {},
   "outputs": [],
   "source": [
    "def get_accuracy(act, pred):\n",
    "    \n",
    "    true = 0\n",
    "    \n",
    "    for act_value, pred_value in zip(act, pred):\n",
    "        if act_value == pred_value:\n",
    "            true += 1\n",
    "    \n",
    "    return true/len(act)    \n",
    "    #return accuracy_score(act, pred)\n",
    "\n",
    "print('    get_accuracy(act, pred)')"
   ]
  },
  {
   "cell_type": "code",
   "execution_count": null,
   "id": "7407ac12-20cf-4b63-af7c-beff778e10f0",
   "metadata": {},
   "outputs": [],
   "source": [
    "def get_mean_accuracy(act, pred):\n",
    "\n",
    "    return np.mean([get_accuracy(act, pred),get_accuracy(act, pred),get_accuracy(act, pred)])    \n",
    "\n",
    "\n",
    "print('    get_mean_accuracy(act, pred) #scoring performance x3 times and return its mean.')"
   ]
  },
  {
   "cell_type": "code",
   "execution_count": null,
   "id": "e2fe390e-b3de-4213-952c-e47671342607",
   "metadata": {},
   "outputs": [],
   "source": [
    "def get_model_evaluation(data,y_column):\n",
    "\n",
    "    y_test_act = data[y_column][data.set=='test']\n",
    "    y_test_pred = data[y_column + '_pred'][data.set=='test']\n",
    "\n",
    "    print('Accuracy = %.6f' % accuracy_score(y_test_act,y_test_pred))\n",
    "    ConfusionMatrixDisplay.from_predictions(y_test_act,y_test_pred) \n",
    "    #return accuracy_score(y_test_act,y_test_pred)\n",
    "    \n",
    "print('    get_model_evaluation(data)')    "
   ]
  },
  {
   "cell_type": "code",
   "execution_count": null,
   "id": "5a8cd540-de8f-4907-b4a8-36ac8c0f979b",
   "metadata": {},
   "outputs": [],
   "source": [
    "def load_trained_model(file_path):\n",
    "    with open(file_path, 'rb') as file:\n",
    "        model = pickle.load(file)\n",
    "        \n",
    "    return model\n",
    "\n",
    "print('    load_trained_model(file_path) #.PKL model from ../global_variables/')"
   ]
  },
  {
   "cell_type": "markdown",
   "id": "4781163a-b5a2-4720-a854-e6a49cb14cfc",
   "metadata": {
    "jp-MarkdownHeadingCollapsed": true,
    "tags": []
   },
   "source": [
    "#### method_model_training"
   ]
  },
  {
   "cell_type": "code",
   "execution_count": 37,
   "id": "d1d84128-fc1e-41b0-8cff-6d0c401337a3",
   "metadata": {},
   "outputs": [
    {
     "name": "stdout",
     "output_type": "stream",
     "text": [
      "\n",
      "> method_model_training func:\n"
     ]
    }
   ],
   "source": [
    "print('\\n> method_model_training func:')"
   ]
  },
  {
   "cell_type": "code",
   "execution_count": 36,
   "id": "296ee3aa-7727-47af-9832-0cff010b2741",
   "metadata": {},
   "outputs": [
    {
     "name": "stdout",
     "output_type": "stream",
     "text": [
      "    set_knn_clf(X_columns, y_columns, data, neigbors=5)\n"
     ]
    }
   ],
   "source": [
    "def set_knn_clf(X_columns, y_columns, data, neighbors=5):\n",
    "    \n",
    "    X_train = data[data['set'] == 'train'][X_columns]\n",
    "    y_train = np.ravel(np.array(data[data['set'] == 'train'][y_columns]).reshape(-1,1))\n",
    "    \n",
    "    # Create a KNN classifier model\n",
    "    model = KNeighborsClassifier(n_neighbors=neighbors)\n",
    "\n",
    "    # Fit the model to the training data\n",
    "    model.fit(X_train, y_train)\n",
    "\n",
    "    # Create a dataframe with the predicted results\n",
    "    return model\n",
    "\n",
    "print(\"    set_knn_clf(X_columns, y_columns, data, neigbors=5)\")"
   ]
  },
  {
   "cell_type": "markdown",
   "id": "ad29b10a-0a0f-465e-a1e4-88b3619c1303",
   "metadata": {
    "tags": []
   },
   "source": [
    "#### predictor"
   ]
  },
  {
   "cell_type": "code",
   "execution_count": 31,
   "id": "12124784-53fd-4788-89c9-1734b2eff437",
   "metadata": {},
   "outputs": [
    {
     "name": "stdout",
     "output_type": "stream",
     "text": [
      "\n",
      "> Predictor func:\n"
     ]
    }
   ],
   "source": [
    "print('\\n> Predictor func:')"
   ]
  },
  {
   "cell_type": "code",
   "execution_count": 39,
   "id": "82ec1db8-fbbc-435e-88a0-3b03edb2dbf0",
   "metadata": {},
   "outputs": [
    {
     "name": "stdout",
     "output_type": "stream",
     "text": [
      "    get_current_date()\n"
     ]
    }
   ],
   "source": [
    "def get_current_date():\n",
    "    return date.today().strftime('%Y-%m-%d')\n",
    "\n",
    "print('    get_current_date()')"
   ]
  },
  {
   "cell_type": "code",
   "execution_count": 20,
   "id": "21badb76-3312-4b61-89a8-8a4c51a1d6ec",
   "metadata": {},
   "outputs": [
    {
     "name": "stdout",
     "output_type": "stream",
     "text": [
      "    get_stance_wins_ratio(fighter, stats_data)\n"
     ]
    }
   ],
   "source": [
    "def get_stance_wins_ratio(fighter, stats_data):\n",
    "    stance = stats_data[stats_data.name==fighter]['stance'].tolist().pop()\n",
    "    data = stats_data[stats_data.stance==stance]\n",
    "    wins = data.wins\n",
    "    losses = data.losses\n",
    "    return round(np.mean(wins/(wins + losses)),4)\n",
    "\n",
    "print('    get_stance_wins_ratio(fighter, stats_data)')"
   ]
  },
  {
   "cell_type": "code",
   "execution_count": null,
   "id": "ac99bb6c-e834-4fad-9f39-f3c682676501",
   "metadata": {},
   "outputs": [],
   "source": []
  }
 ],
 "metadata": {
  "kernelspec": {
   "display_name": "Python 3 (ipykernel)",
   "language": "python",
   "name": "python3"
  },
  "language_info": {
   "codemirror_mode": {
    "name": "ipython",
    "version": 3
   },
   "file_extension": ".py",
   "mimetype": "text/x-python",
   "name": "python",
   "nbconvert_exporter": "python",
   "pygments_lexer": "ipython3",
   "version": "3.7.12"
  }
 },
 "nbformat": 4,
 "nbformat_minor": 5
}
