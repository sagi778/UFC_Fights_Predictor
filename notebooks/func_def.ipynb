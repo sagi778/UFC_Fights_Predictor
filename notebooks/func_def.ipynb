{
 "cells": [
  {
   "cell_type": "code",
   "execution_count": 1,
   "id": "5daf37bf-3414-4272-9a60-ece08abb4c2a",
   "metadata": {},
   "outputs": [
    {
     "name": "stdout",
     "output_type": "stream",
     "text": [
      "imports loaded.\n"
     ]
    }
   ],
   "source": [
    "%run imports.ipynb"
   ]
  },
  {
   "cell_type": "markdown",
   "id": "1db15167-f7cc-4b45-ae6a-bf9fe49ca0c1",
   "metadata": {},
   "source": [
    "### Func def"
   ]
  },
  {
   "cell_type": "markdown",
   "id": "e160915b-e83b-4f52-85ce-992ae958a74a",
   "metadata": {
    "jp-MarkdownHeadingCollapsed": true,
    "tags": []
   },
   "source": [
    "#### pre-processing"
   ]
  },
  {
   "cell_type": "code",
   "execution_count": 8,
   "id": "05ab1c09-7d24-46e8-96e1-4351d581d66f",
   "metadata": {},
   "outputs": [
    {
     "name": "stdout",
     "output_type": "stream",
     "text": [
      "get_height(item)\n"
     ]
    }
   ],
   "source": [
    "def get_height(item):\n",
    "    \n",
    "    '''return height in cm'''\n",
    "    \n",
    "    item = str(item)\n",
    "    \n",
    "    if item[0] == '-':\n",
    "        return None\n",
    "    else:\n",
    "        return round(30.48 * float(item[0:item.find(\"'\")]) + 2.54 * float(item[item.find(\"'\")+1:item.find('\"')]),2)\n",
    "\n",
    "print('get_height(item)')    "
   ]
  },
  {
   "cell_type": "code",
   "execution_count": 9,
   "id": "3c2787f6-c4eb-4abb-99cc-406b0f034693",
   "metadata": {},
   "outputs": [
    {
     "name": "stdout",
     "output_type": "stream",
     "text": [
      "get_weight(item)\n"
     ]
    }
   ],
   "source": [
    "def get_weight(item):\n",
    "    \n",
    "    '''return weight in kg'''\n",
    "    \n",
    "    item = str(item)\n",
    "    \n",
    "    if item[0] == '-':\n",
    "        return None\n",
    "    else:\n",
    "        return 0.45 * float(item[0:item.find('lbs.')])\n",
    "    \n",
    "print('get_weight(item)')    "
   ]
  },
  {
   "cell_type": "code",
   "execution_count": 11,
   "id": "6c24503b-e674-4b61-a4de-da2c4d5b97e8",
   "metadata": {},
   "outputs": [
    {
     "name": "stdout",
     "output_type": "stream",
     "text": [
      "get_reach(item)\n"
     ]
    }
   ],
   "source": [
    "def get_reach(item):\n",
    "    \n",
    "    '''return reach in cm'''\n",
    "    \n",
    "    item = str(item)\n",
    "    \n",
    "    if item[0] == '-':\n",
    "        return None\n",
    "    else:\n",
    "        return 2.54 * float(item[0:item.find('\"')])\n",
    "    \n",
    "print('get_reach(item)')    "
   ]
  },
  {
   "cell_type": "code",
   "execution_count": 10,
   "id": "06d79f2b-7809-4e7d-b89e-6958be8e2b58",
   "metadata": {},
   "outputs": [
    {
     "name": "stdout",
     "output_type": "stream",
     "text": [
      "get_std_reach(item, height, reach_list, height_list)\n"
     ]
    }
   ],
   "source": [
    "def get_std_reach(item, height, reach_list, height_list):\n",
    "    '''return \"standard reach\" ( =mean(reach/height)*height )'''\n",
    "    return round(height*np.mean(reach_list/height_list),2)\n",
    "\n",
    "print('get_std_reach(item, height, reach_list, height_list)')"
   ]
  },
  {
   "cell_type": "code",
   "execution_count": 12,
   "id": "33c41fa2-fb53-4eb5-9bce-4a6a893ab9e6",
   "metadata": {},
   "outputs": [
    {
     "name": "stdout",
     "output_type": "stream",
     "text": [
      "get_age(item)\n"
     ]
    }
   ],
   "source": [
    "def get_age(item):\n",
    "    \n",
    "    '''return age (instead of date of birth)'''\n",
    "    \n",
    "    from datetime import date,timedelta\n",
    "    \n",
    "    item = str(item)\n",
    "    current_date = date.today().year\n",
    "    \n",
    "    if item[0] == '-':\n",
    "        return None\n",
    "    else:\n",
    "        return (current_date - int(item[item.find(',')+1:]))\n",
    "    \n",
    "print('get_age(item)')    "
   ]
  },
  {
   "cell_type": "code",
   "execution_count": 13,
   "id": "7592cd36-d911-4e50-b6c9-ee581696cf2f",
   "metadata": {},
   "outputs": [
    {
     "name": "stdout",
     "output_type": "stream",
     "text": [
      "get_std_age(item, age_list)\n"
     ]
    }
   ],
   "source": [
    "def get_std_age(item, age_list):\n",
    "    \n",
    "    '''return standrd age per weight class'''  \n",
    "    return round(np.mean(age_list),2)\n",
    "\n",
    "print('get_std_age(item, age_list)')"
   ]
  },
  {
   "cell_type": "code",
   "execution_count": 14,
   "id": "385fc1bc-0e02-4db1-9f6e-62bd94b6ddac",
   "metadata": {},
   "outputs": [
    {
     "name": "stdout",
     "output_type": "stream",
     "text": [
      "get_win_perc(name, date, df)\n"
     ]
    }
   ],
   "source": [
    "def get_win_perc(name, date, df):\n",
    "    \n",
    "    '''return current career winning %'''\n",
    "    \n",
    "    wins = len(df[(df['w_fighter'] == name) & (df.date < date)])\n",
    "    losses = len(df[(df['l_fighter'] == name) & (df.date < date)])\n",
    "    \n",
    "    if wins == 0:\n",
    "        return 0\n",
    "    return wins/(wins+losses)\n",
    "\n",
    "print('get_win_perc(name, date, df)')"
   ]
  },
  {
   "cell_type": "code",
   "execution_count": 17,
   "id": "2689b9d0-4f12-450e-9e8c-261ded7ba60a",
   "metadata": {},
   "outputs": [
    {
     "name": "stdout",
     "output_type": "stream",
     "text": [
      "get_lose_streak_data_frame(name, date, df)\n"
     ]
    }
   ],
   "source": [
    "def get_lose_streak_data_frame(name, date, df):\n",
    "    \n",
    "    '''return losses data frame of: sequence(from last to first), result(win/lose) & opponent '''\n",
    "    \n",
    "    lose_streak = pd.DataFrame({\n",
    "        'result': np.array('lose'),\n",
    "        'date': pd.to_datetime(np.array(df.date[df.l_fighter == name])),\n",
    "        'opponent': np.array(df['w_fighter'][df.l_fighter == name])\n",
    "    })\n",
    "    \n",
    "    return lose_streak[lose_streak.date < date]\n",
    "\n",
    "print('get_lose_streak_data_frame(name, date, df)')"
   ]
  },
  {
   "cell_type": "code",
   "execution_count": 18,
   "id": "d411edaf-7801-454d-aa67-fbe7657ddaa5",
   "metadata": {},
   "outputs": [
    {
     "name": "stdout",
     "output_type": "stream",
     "text": [
      "get_win_streak_data_frame(name, date, df)\n"
     ]
    }
   ],
   "source": [
    "def get_win_streak_data_frame(name, date, df):\n",
    "    \n",
    "    '''return wins data frame of: sequence(from last to first), result(win/lose) & opponent '''\n",
    "    \n",
    "    win_streak = pd.DataFrame({\n",
    "        'result': np.array('win'),\n",
    "        'date': pd.to_datetime(np.array(df.date[df.w_fighter == name])),\n",
    "        'opponent': np.array(df['l_fighter'][df.w_fighter == name])\n",
    "    })\n",
    "    \n",
    "    return win_streak[win_streak.date < date]\n",
    "\n",
    "print('get_win_streak_data_frame(name, date, df)')"
   ]
  },
  {
   "cell_type": "code",
   "execution_count": 19,
   "id": "4cbe3e8e-4593-4b56-a544-6da52327b4e5",
   "metadata": {},
   "outputs": [
    {
     "name": "stdout",
     "output_type": "stream",
     "text": [
      "get_streak_data_frame(name, date, df)\n"
     ]
    }
   ],
   "source": [
    "def get_streak_data_frame(name, date, df):\n",
    "    \n",
    "    '''return losses & winns data frame sorted by date'''\n",
    "    \n",
    "    wins_df = get_win_streak_data_frame(name, date, df)\n",
    "    losses_df = get_lose_streak_data_frame(name, date, df)\n",
    "    \n",
    "    return (pd.concat([wins_df, losses_df])).sort_values(by='date', ascending=False)\n",
    "\n",
    "print('get_streak_data_frame(name, date, df)')"
   ]
  },
  {
   "cell_type": "code",
   "execution_count": 20,
   "id": "d8d1434a-1aed-41ca-9ef2-c1595846abe5",
   "metadata": {},
   "outputs": [
    {
     "name": "stdout",
     "output_type": "stream",
     "text": [
      "get_win_streak(name, date, df)\n"
     ]
    }
   ],
   "source": [
    "def get_win_streak(name, date, df):\n",
    "    \n",
    "    '''return int of fighter recent win streak'''\n",
    "    \n",
    "    streak = get_streak_data_frame(name, date, df)\n",
    "    \n",
    "    count = 0\n",
    "    for result in streak['result']:\n",
    "        if result == 'lose':\n",
    "            return count\n",
    "        count += 1\n",
    "    \n",
    "    return count\n",
    "\n",
    "print('get_win_streak(name, date, df)')"
   ]
  },
  {
   "cell_type": "code",
   "execution_count": 21,
   "id": "407500af-6a00-468b-9b3c-2c0957182b8b",
   "metadata": {},
   "outputs": [
    {
     "name": "stdout",
     "output_type": "stream",
     "text": [
      "get_lose_streak(name, date, df)\n"
     ]
    }
   ],
   "source": [
    "def get_lose_streak(name, date, df):\n",
    "    \n",
    "    '''return int of fighter recent losses streak'''\n",
    "    \n",
    "    streak = get_streak_data_frame(name, date, df)\n",
    "    \n",
    "    count = 0\n",
    "    for result in streak['result']:\n",
    "        if result == 'win':\n",
    "            return count\n",
    "        count += 1\n",
    "    \n",
    "    return count\n",
    "\n",
    "print('get_lose_streak(name, date, df)')"
   ]
  },
  {
   "cell_type": "code",
   "execution_count": 23,
   "id": "43d8aa97-fdd8-499b-a9d1-7d5caacdff9d",
   "metadata": {},
   "outputs": [
    {
     "name": "stdout",
     "output_type": "stream",
     "text": [
      "get_fighter_stats(name, data )\n"
     ]
    }
   ],
   "source": [
    "def get_fighter_stats(name, data ):\n",
    "    '''return fighters statistics from stat_df'''\n",
    "    \n",
    "    stat_list = data.columns[1:]\n",
    "    row = (data[stat_list][data.name==name]).reset_index(drop=True)\n",
    "    \n",
    "    if len(row) < 1:\n",
    "        return np.array(len(stat_list)*[None])\n",
    "    else:\n",
    "        return np.array(row.loc[0])\n",
    "    \n",
    "print('get_fighter_stats(name, data )')    "
   ]
  },
  {
   "cell_type": "code",
   "execution_count": 24,
   "id": "1f4e86dd-58d4-4559-b75c-d5f5701d3832",
   "metadata": {},
   "outputs": [
    {
     "name": "stdout",
     "output_type": "stream",
     "text": [
      "add_columns(data, column_list)\n"
     ]
    }
   ],
   "source": [
    "def add_columns(data, column_list):\n",
    "    \n",
    "    '''add new columns to data '''\n",
    "    \n",
    "    for column in column_list:\n",
    "        data[column] = None\n",
    "    \n",
    "    return data\n",
    "\n",
    "print('add_columns(data, column_list)')"
   ]
  },
  {
   "cell_type": "markdown",
   "id": "ab775298-ee89-4f43-abe1-906ae19c0493",
   "metadata": {
    "tags": []
   },
   "source": [
    "#### feature_engineering"
   ]
  },
  {
   "cell_type": "code",
   "execution_count": 4,
   "id": "bb4fa7d4-db63-48da-8e99-68c188873a16",
   "metadata": {},
   "outputs": [
    {
     "name": "stdout",
     "output_type": "stream",
     "text": [
      "get_stat(index, data, stat='height', fo='')\n"
     ]
    }
   ],
   "source": [
    "def get_stat(index, data, stat='height', fo=''):\n",
    "    return data.loc[index, fo + stat]\n",
    "\n",
    "print(\"get_stat(index, data, stat='height', fo='')\")"
   ]
  },
  {
   "cell_type": "code",
   "execution_count": 6,
   "id": "283571a8-3cd1-40f3-9afd-4f37c954a51b",
   "metadata": {},
   "outputs": [
    {
     "name": "stdout",
     "output_type": "stream",
     "text": [
      "get_swaped_row(index, data)\n"
     ]
    }
   ],
   "source": [
    "def get_swaped_row(index, data):\n",
    "    \n",
    "    '''return row with opponent as winner and statistics swapped'''\n",
    "    \n",
    "    swapped_row = np.array([])\n",
    "    \n",
    "    for column in data.columns:\n",
    "        \n",
    "        if column.find('f_') > -1: # f_ will get opponent stats\n",
    "            swapped_row = np.append(swapped_row, get_stat(index, data=df, stat=column[2:], fo='o_'))\n",
    "        elif column.find('o_') > -1: # o_ will get fighter stats\n",
    "            swapped_row = np.append(swapped_row, get_stat(index, data=df, stat=column[2:], fo='f_'))          \n",
    "        elif column == 'result':\n",
    "            swapped_row = np.append(swapped_row, 'lose')\n",
    "        elif column == 'fighter':\n",
    "            swapped_row = np.append(swapped_row, get_stat(index, data=df, stat='opponent'))\n",
    "        elif column == 'opponent':\n",
    "            swapped_row = np.append(swapped_row, get_stat(index, data=df, stat='fighter'))\n",
    "        else:\n",
    "            swapped_row = np.append(swapped_row, get_stat(index, data=df, stat=column))\n",
    "    \n",
    "    return swapped_row\n",
    "\n",
    "print('get_swaped_row(index, data)')"
   ]
  },
  {
   "cell_type": "code",
   "execution_count": null,
   "id": "e6d27e4c-5889-4b08-b92d-3071250a4265",
   "metadata": {},
   "outputs": [],
   "source": []
  },
  {
   "cell_type": "markdown",
   "id": "ad29b10a-0a0f-465e-a1e4-88b3619c1303",
   "metadata": {},
   "source": [
    "#### Model training"
   ]
  },
  {
   "cell_type": "code",
   "execution_count": null,
   "id": "7dfd9e68-3be2-47b9-abc8-5bc84a1b0a57",
   "metadata": {},
   "outputs": [],
   "source": []
  },
  {
   "cell_type": "code",
   "execution_count": null,
   "id": "20ceeb19-be3e-4fd1-8a3b-fc661ac339e3",
   "metadata": {},
   "outputs": [],
   "source": []
  }
 ],
 "metadata": {
  "kernelspec": {
   "display_name": "py3",
   "language": "python",
   "name": "py3"
  },
  "language_info": {
   "codemirror_mode": {
    "name": "ipython",
    "version": 3
   },
   "file_extension": ".py",
   "mimetype": "text/x-python",
   "name": "python",
   "nbconvert_exporter": "python",
   "pygments_lexer": "ipython3",
   "version": "3.7.12"
  }
 },
 "nbformat": 4,
 "nbformat_minor": 5
}
