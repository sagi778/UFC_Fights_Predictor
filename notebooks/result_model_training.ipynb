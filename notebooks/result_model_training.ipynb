{
 "cells": [
  {
   "cell_type": "code",
   "execution_count": 298,
   "id": "846617b9-400f-4c71-9df6-ed6c51888afb",
   "metadata": {},
   "outputs": [
    {
     "name": "stdout",
     "output_type": "stream",
     "text": [
      "imports loaded.\n",
      "\n",
      "Pre-Processing func:\n",
      "********************\n",
      "    get_height(item)\n",
      "    get_weight(item)\n",
      "    get_reach(item)\n",
      "    get_std_reach(item, height, reach_list, height_list)\n",
      "    get_age(item)\n",
      "    get_std_age(item, age_list)\n",
      "    get_win_perc(name, date, df)\n",
      "    get_lose_streak_data_frame(name, date, df)\n",
      "    get_win_streak_data_frame(name, date, df)\n",
      "    get_streak_data_frame(name, date, df)\n",
      "    get_win_streak(name, date, df)\n",
      "    get_lose_streak(name, date, df)\n",
      "    get_fighter_stats(name, data )\n",
      "    add_columns(data, column_list)\n",
      "\n",
      "Feature Engineering func:\n",
      "*************************\n",
      "    get_stat(index, data, stat='height', fo='')\n",
      "    get_swaped_row(index, data)\n",
      "    get_wins(combo, data)\n",
      "    get_wins_ratio(combo, data)\n",
      "\n",
      "stats_model_training func:\n",
      "********************************\n",
      "    get_sig_features(data, sig_r)\n",
      "    get_r_score(X, y)\n",
      "    set_train_test(X_columns, y_columns, data, test_size=0.3, valid_size=0.3)\n",
      "    set_random_forest_reg(X_columns, y_columns, data)\n",
      "    set_predictions(model, data, X_columns, y_columns)\n",
      "    get_mean_percentage_error(act, pred)\n",
      "    get_rmse(act, pred)\n",
      "    get_grad_descent_step(X_columns, y_columns, data, n)\n",
      "    save_trained_model(model, path)\n",
      "\n",
      "result_model_training func:\n",
      "*********************************\n",
      "    set_xgboost_clf(X_columns, y_columns, data, n=100)\n",
      "    set_random_forest_clf(X_columns, y_columns, data)\n",
      "    get_clf_grad_desc_step( X_columns, y_columns, data, neighbors)\n",
      "    get_model_evaluation(data)\n",
      "    get_accuracy(act, pred)\n",
      "\n",
      "method_model_training func:\n",
      "***************************\n",
      "    set_method_predictions(model, data, X_columns, y_columns)\n",
      "    get_method_grad_desc_step(X_columns, y_columns, data, n_estimators)\n",
      "\n",
      "Prediction func:\n",
      "****************\n",
      "    get_current_date()\n",
      "    get_win_perc(fighter, data)\n",
      "    get_lose_streak(fighter, data)\n",
      "    get_win_streak(fighter, data)\n",
      "    get_td_avg(fighter, data)\n",
      "    get_td_acc(fighter, data)\n",
      "    get_td_def(fighter, data)\n",
      "    get_str_acc(fighter, data)\n",
      "    get_str_def(fighter, data)\n",
      "    get_sub_avg(fighter, data)\n",
      "    get_sapm(fighter, data)\n",
      "    get_slpm(fighter, data)\n",
      "    get_stance(fighter, data)\n",
      "    get_stance_wins_ratio(fighter, data)\n",
      "    set_new_fight(fighter, opponent, data)\n",
      "    set_knn_predictor(X_columns, y_columns, data, n=5)\n",
      "    set_knn_predictions(model, data, X_columns, y_columns)\n",
      "    set_knn_clf_predictor(X_columns, y_columns, data, neighbors)\n",
      "    set_pred_results(model, data, X_columns, y_columns)\n",
      "    get_fighters_stats(fighter, opponent, data)\n",
      "    get_winner(match)\n",
      "    load_trained_model(filename_path)\n",
      "\n",
      "micro_model_training func:\n",
      "**************************\n",
      "    set_result_column(fighter,data)\n",
      "    get_my_losses(fighter, data)\n",
      "    get_my_wins(fighter, data)\n",
      "    get_synt_loss(fighter)\n",
      "    get_loss_value(values)\n"
     ]
    }
   ],
   "source": [
    "%run func_def.ipynb"
   ]
  },
  {
   "cell_type": "markdown",
   "id": "a61bf869-68c3-4753-a666-5ff7ae81e1a4",
   "metadata": {
    "tags": []
   },
   "source": [
    "### <span style='color:green'> **[done]** </span>Loading stat_model trained data:"
   ]
  },
  {
   "cell_type": "code",
   "execution_count": 325,
   "id": "5db19a64",
   "metadata": {},
   "outputs": [
    {
     "data": {
      "text/html": [
       "<div>\n",
       "<style scoped>\n",
       "    .dataframe tbody tr th:only-of-type {\n",
       "        vertical-align: middle;\n",
       "    }\n",
       "\n",
       "    .dataframe tbody tr th {\n",
       "        vertical-align: top;\n",
       "    }\n",
       "\n",
       "    .dataframe thead th {\n",
       "        text-align: right;\n",
       "    }\n",
       "</style>\n",
       "<table border=\"1\" class=\"dataframe\">\n",
       "  <thead>\n",
       "    <tr style=\"text-align: right;\">\n",
       "      <th></th>\n",
       "      <th>set</th>\n",
       "      <th>date</th>\n",
       "      <th>fighter</th>\n",
       "      <th>opponent</th>\n",
       "      <th>result</th>\n",
       "      <th>method</th>\n",
       "      <th>kd_dif</th>\n",
       "      <th>str_dif</th>\n",
       "      <th>td_dif</th>\n",
       "      <th>sub_dif</th>\n",
       "      <th>td avg._dif</th>\n",
       "      <th>td acc._dif</th>\n",
       "      <th>td def._dif</th>\n",
       "      <th>sub. avg._dif</th>\n",
       "      <th>slpm_dif</th>\n",
       "      <th>str. acc._dif</th>\n",
       "      <th>sapm_dif</th>\n",
       "      <th>str. def_dif</th>\n",
       "      <th>stance_win_ratio</th>\n",
       "      <th>win_perc_dif</th>\n",
       "      <th>win_strk_dif</th>\n",
       "      <th>lose_strk_dif</th>\n",
       "      <th>kd_dif_pred</th>\n",
       "      <th>str_dif_pred</th>\n",
       "      <th>td_dif_pred</th>\n",
       "      <th>sub_dif_pred</th>\n",
       "    </tr>\n",
       "  </thead>\n",
       "  <tbody>\n",
       "    <tr>\n",
       "      <th>6728</th>\n",
       "      <td>test</td>\n",
       "      <td>2017-07-29</td>\n",
       "      <td>Aleksandra Albu</td>\n",
       "      <td>Kailin Curran</td>\n",
       "      <td>win</td>\n",
       "      <td>U-DEC:</td>\n",
       "      <td>0.011068</td>\n",
       "      <td>-0.133163</td>\n",
       "      <td>1.590190</td>\n",
       "      <td>0.001133</td>\n",
       "      <td>0.157318</td>\n",
       "      <td>-0.236546</td>\n",
       "      <td>0.544717</td>\n",
       "      <td>-0.194404</td>\n",
       "      <td>0.584680</td>\n",
       "      <td>0.331559</td>\n",
       "      <td>0.477663</td>\n",
       "      <td>-1.248515</td>\n",
       "      <td>0.270739</td>\n",
       "      <td>2.060202</td>\n",
       "      <td>0.599149</td>\n",
       "      <td>-2.164903</td>\n",
       "      <td>0.122249</td>\n",
       "      <td>0.122249</td>\n",
       "      <td>0.122249</td>\n",
       "      <td>0.122249</td>\n",
       "    </tr>\n",
       "    <tr>\n",
       "      <th>6729</th>\n",
       "      <td>train</td>\n",
       "      <td>2017-07-29</td>\n",
       "      <td>Jarred Brooks</td>\n",
       "      <td>Eric Shelton</td>\n",
       "      <td>win</td>\n",
       "      <td>S-DEC:</td>\n",
       "      <td>0.011068</td>\n",
       "      <td>-0.133163</td>\n",
       "      <td>1.590190</td>\n",
       "      <td>0.001133</td>\n",
       "      <td>0.960129</td>\n",
       "      <td>0.218076</td>\n",
       "      <td>0.779264</td>\n",
       "      <td>0.377632</td>\n",
       "      <td>-0.294627</td>\n",
       "      <td>0.331559</td>\n",
       "      <td>-0.151239</td>\n",
       "      <td>-0.070965</td>\n",
       "      <td>-0.507334</td>\n",
       "      <td>0.015847</td>\n",
       "      <td>0.026948</td>\n",
       "      <td>-1.087573</td>\n",
       "      <td>-0.164508</td>\n",
       "      <td>-0.164508</td>\n",
       "      <td>-0.164508</td>\n",
       "      <td>-0.164508</td>\n",
       "    </tr>\n",
       "    <tr>\n",
       "      <th>6730</th>\n",
       "      <td>validation</td>\n",
       "      <td>2017-07-29</td>\n",
       "      <td>Drew Dober</td>\n",
       "      <td>Joshua Burkman</td>\n",
       "      <td>win</td>\n",
       "      <td>KO/TKO:Punch</td>\n",
       "      <td>1.365610</td>\n",
       "      <td>0.167994</td>\n",
       "      <td>0.011143</td>\n",
       "      <td>0.001133</td>\n",
       "      <td>-0.985573</td>\n",
       "      <td>-0.656198</td>\n",
       "      <td>-0.594516</td>\n",
       "      <td>-0.194404</td>\n",
       "      <td>1.116061</td>\n",
       "      <td>-0.236000</td>\n",
       "      <td>0.611992</td>\n",
       "      <td>0.013146</td>\n",
       "      <td>0.985268</td>\n",
       "      <td>0.143619</td>\n",
       "      <td>0.026948</td>\n",
       "      <td>-2.164903</td>\n",
       "      <td>0.168367</td>\n",
       "      <td>0.168367</td>\n",
       "      <td>0.168367</td>\n",
       "      <td>0.168367</td>\n",
       "    </tr>\n",
       "  </tbody>\n",
       "</table>\n",
       "</div>"
      ],
      "text/plain": [
       "             set        date          fighter        opponent result  \\\n",
       "6728        test  2017-07-29  Aleksandra Albu   Kailin Curran    win   \n",
       "6729       train  2017-07-29    Jarred Brooks    Eric Shelton    win   \n",
       "6730  validation  2017-07-29       Drew Dober  Joshua Burkman    win   \n",
       "\n",
       "            method    kd_dif   str_dif    td_dif   sub_dif  td avg._dif  \\\n",
       "6728        U-DEC:  0.011068 -0.133163  1.590190  0.001133     0.157318   \n",
       "6729        S-DEC:  0.011068 -0.133163  1.590190  0.001133     0.960129   \n",
       "6730  KO/TKO:Punch  1.365610  0.167994  0.011143  0.001133    -0.985573   \n",
       "\n",
       "      td acc._dif  td def._dif  sub. avg._dif  slpm_dif  str. acc._dif  \\\n",
       "6728    -0.236546     0.544717      -0.194404  0.584680       0.331559   \n",
       "6729     0.218076     0.779264       0.377632 -0.294627       0.331559   \n",
       "6730    -0.656198    -0.594516      -0.194404  1.116061      -0.236000   \n",
       "\n",
       "      sapm_dif  str. def_dif  stance_win_ratio  win_perc_dif  win_strk_dif  \\\n",
       "6728  0.477663     -1.248515          0.270739      2.060202      0.599149   \n",
       "6729 -0.151239     -0.070965         -0.507334      0.015847      0.026948   \n",
       "6730  0.611992      0.013146          0.985268      0.143619      0.026948   \n",
       "\n",
       "      lose_strk_dif  kd_dif_pred  str_dif_pred  td_dif_pred  sub_dif_pred  \n",
       "6728      -2.164903     0.122249      0.122249     0.122249      0.122249  \n",
       "6729      -1.087573    -0.164508     -0.164508    -0.164508     -0.164508  \n",
       "6730      -2.164903     0.168367      0.168367     0.168367      0.168367  "
      ]
     },
     "execution_count": 325,
     "metadata": {},
     "output_type": "execute_result"
    }
   ],
   "source": [
    "loc = '../data/'\n",
    "file = 'fight_stat_data_trained.csv'\n",
    "df = pd.read_csv(loc+file)\n",
    "df.tail(3)"
   ]
  },
  {
   "cell_type": "code",
   "execution_count": 326,
   "id": "e756b2e1-f0b9-49e0-99c4-ffd06e501114",
   "metadata": {},
   "outputs": [
    {
     "data": {
      "text/html": [
       "<div>\n",
       "<style scoped>\n",
       "    .dataframe tbody tr th:only-of-type {\n",
       "        vertical-align: middle;\n",
       "    }\n",
       "\n",
       "    .dataframe tbody tr th {\n",
       "        vertical-align: top;\n",
       "    }\n",
       "\n",
       "    .dataframe thead th {\n",
       "        text-align: right;\n",
       "    }\n",
       "</style>\n",
       "<table border=\"1\" class=\"dataframe\">\n",
       "  <thead>\n",
       "    <tr style=\"text-align: right;\">\n",
       "      <th></th>\n",
       "      <th>set</th>\n",
       "      <th>date</th>\n",
       "      <th>fighter</th>\n",
       "      <th>opponent</th>\n",
       "      <th>method</th>\n",
       "      <th>kd_dif</th>\n",
       "      <th>str_dif</th>\n",
       "      <th>td_dif</th>\n",
       "      <th>sub_dif</th>\n",
       "      <th>td avg._dif</th>\n",
       "      <th>td acc._dif</th>\n",
       "      <th>td def._dif</th>\n",
       "      <th>sub. avg._dif</th>\n",
       "      <th>slpm_dif</th>\n",
       "      <th>str. acc._dif</th>\n",
       "      <th>sapm_dif</th>\n",
       "      <th>str. def_dif</th>\n",
       "      <th>stance_win_ratio</th>\n",
       "      <th>win_perc_dif</th>\n",
       "      <th>win_strk_dif</th>\n",
       "      <th>lose_strk_dif</th>\n",
       "      <th>result</th>\n",
       "    </tr>\n",
       "  </thead>\n",
       "  <tbody>\n",
       "    <tr>\n",
       "      <th>6728</th>\n",
       "      <td>test</td>\n",
       "      <td>2017-07-29</td>\n",
       "      <td>Aleksandra Albu</td>\n",
       "      <td>Kailin Curran</td>\n",
       "      <td>U-DEC:</td>\n",
       "      <td>0.011068</td>\n",
       "      <td>-0.133163</td>\n",
       "      <td>1.590190</td>\n",
       "      <td>0.001133</td>\n",
       "      <td>0.157318</td>\n",
       "      <td>-0.236546</td>\n",
       "      <td>0.544717</td>\n",
       "      <td>-0.194404</td>\n",
       "      <td>0.584680</td>\n",
       "      <td>0.331559</td>\n",
       "      <td>0.477663</td>\n",
       "      <td>-1.248515</td>\n",
       "      <td>0.270739</td>\n",
       "      <td>2.060202</td>\n",
       "      <td>0.599149</td>\n",
       "      <td>-2.164903</td>\n",
       "      <td>win</td>\n",
       "    </tr>\n",
       "    <tr>\n",
       "      <th>6729</th>\n",
       "      <td>train</td>\n",
       "      <td>2017-07-29</td>\n",
       "      <td>Jarred Brooks</td>\n",
       "      <td>Eric Shelton</td>\n",
       "      <td>S-DEC:</td>\n",
       "      <td>0.011068</td>\n",
       "      <td>-0.133163</td>\n",
       "      <td>1.590190</td>\n",
       "      <td>0.001133</td>\n",
       "      <td>0.960129</td>\n",
       "      <td>0.218076</td>\n",
       "      <td>0.779264</td>\n",
       "      <td>0.377632</td>\n",
       "      <td>-0.294627</td>\n",
       "      <td>0.331559</td>\n",
       "      <td>-0.151239</td>\n",
       "      <td>-0.070965</td>\n",
       "      <td>-0.507334</td>\n",
       "      <td>0.015847</td>\n",
       "      <td>0.026948</td>\n",
       "      <td>-1.087573</td>\n",
       "      <td>win</td>\n",
       "    </tr>\n",
       "    <tr>\n",
       "      <th>6730</th>\n",
       "      <td>validation</td>\n",
       "      <td>2017-07-29</td>\n",
       "      <td>Drew Dober</td>\n",
       "      <td>Joshua Burkman</td>\n",
       "      <td>KO/TKO:Punch</td>\n",
       "      <td>1.365610</td>\n",
       "      <td>0.167994</td>\n",
       "      <td>0.011143</td>\n",
       "      <td>0.001133</td>\n",
       "      <td>-0.985573</td>\n",
       "      <td>-0.656198</td>\n",
       "      <td>-0.594516</td>\n",
       "      <td>-0.194404</td>\n",
       "      <td>1.116061</td>\n",
       "      <td>-0.236000</td>\n",
       "      <td>0.611992</td>\n",
       "      <td>0.013146</td>\n",
       "      <td>0.985268</td>\n",
       "      <td>0.143619</td>\n",
       "      <td>0.026948</td>\n",
       "      <td>-2.164903</td>\n",
       "      <td>win</td>\n",
       "    </tr>\n",
       "  </tbody>\n",
       "</table>\n",
       "</div>"
      ],
      "text/plain": [
       "             set        date          fighter        opponent        method  \\\n",
       "6728        test  2017-07-29  Aleksandra Albu   Kailin Curran        U-DEC:   \n",
       "6729       train  2017-07-29    Jarred Brooks    Eric Shelton        S-DEC:   \n",
       "6730  validation  2017-07-29       Drew Dober  Joshua Burkman  KO/TKO:Punch   \n",
       "\n",
       "        kd_dif   str_dif    td_dif   sub_dif  td avg._dif  td acc._dif  \\\n",
       "6728  0.011068 -0.133163  1.590190  0.001133     0.157318    -0.236546   \n",
       "6729  0.011068 -0.133163  1.590190  0.001133     0.960129     0.218076   \n",
       "6730  1.365610  0.167994  0.011143  0.001133    -0.985573    -0.656198   \n",
       "\n",
       "      td def._dif  sub. avg._dif  slpm_dif  str. acc._dif  sapm_dif  \\\n",
       "6728     0.544717      -0.194404  0.584680       0.331559  0.477663   \n",
       "6729     0.779264       0.377632 -0.294627       0.331559 -0.151239   \n",
       "6730    -0.594516      -0.194404  1.116061      -0.236000  0.611992   \n",
       "\n",
       "      str. def_dif  stance_win_ratio  win_perc_dif  win_strk_dif  \\\n",
       "6728     -1.248515          0.270739      2.060202      0.599149   \n",
       "6729     -0.070965         -0.507334      0.015847      0.026948   \n",
       "6730      0.013146          0.985268      0.143619      0.026948   \n",
       "\n",
       "      lose_strk_dif result  \n",
       "6728      -2.164903    win  \n",
       "6729      -1.087573    win  \n",
       "6730      -2.164903    win  "
      ]
     },
     "execution_count": 326,
     "metadata": {},
     "output_type": "execute_result"
    }
   ],
   "source": [
    "req_data = ['set','date','fighter','opponent','method']\n",
    "y = ['result']\n",
    "X = ['kd_dif','str_dif','td_dif','sub_dif',\n",
    "    'td avg._dif','td acc._dif','td def._dif','sub. avg._dif',\n",
    "    'slpm_dif','str. acc._dif','sapm_dif','str. def_dif',\n",
    "    'stance_win_ratio','win_perc_dif','win_strk_dif','lose_strk_dif'\n",
    "    ]\n",
    "\n",
    "df = df[req_data + X + y]\n",
    "df.tail(3)"
   ]
  },
  {
   "cell_type": "markdown",
   "id": "cd975829-1ec4-44ce-b641-710cdebd7291",
   "metadata": {
    "tags": []
   },
   "source": [
    "## <span style='color:orange'> **[in-progress]** </span> XGBoost model training:"
   ]
  },
  {
   "cell_type": "code",
   "execution_count": 327,
   "id": "19a0eaf8-470e-4ccc-8ac7-6d3749c9a4ee",
   "metadata": {},
   "outputs": [
    {
     "data": {
      "text/plain": [
       "array([1, 0], dtype=object)"
      ]
     },
     "execution_count": 327,
     "metadata": {},
     "output_type": "execute_result"
    }
   ],
   "source": [
    "# set result column to binary\n",
    "for i in range(len(df)):\n",
    "    if df.loc[i,'result'] == 'win':\n",
    "        df.loc[i,'result'] = 1\n",
    "    else:\n",
    "        df.loc[i,'result'] = 0\n",
    "        \n",
    "df.result.unique()        "
   ]
  },
  {
   "cell_type": "code",
   "execution_count": 328,
   "id": "847a88d8-b01f-462a-b79c-1094b9b834c3",
   "metadata": {},
   "outputs": [],
   "source": [
    "df['result'] = df['result'].astype(int)"
   ]
  },
  {
   "cell_type": "code",
   "execution_count": 329,
   "id": "d5cd8c6b-888e-4506-87ad-12f6e5184a32",
   "metadata": {},
   "outputs": [
    {
     "name": "stdout",
     "output_type": "stream",
     "text": [
      "Initial accuracy score: 0.868\n"
     ]
    },
    {
     "data": {
      "text/html": [
       "<div>\n",
       "<style scoped>\n",
       "    .dataframe tbody tr th:only-of-type {\n",
       "        vertical-align: middle;\n",
       "    }\n",
       "\n",
       "    .dataframe tbody tr th {\n",
       "        vertical-align: top;\n",
       "    }\n",
       "\n",
       "    .dataframe thead th {\n",
       "        text-align: right;\n",
       "    }\n",
       "</style>\n",
       "<table border=\"1\" class=\"dataframe\">\n",
       "  <thead>\n",
       "    <tr style=\"text-align: right;\">\n",
       "      <th></th>\n",
       "      <th>set</th>\n",
       "      <th>date</th>\n",
       "      <th>fighter</th>\n",
       "      <th>opponent</th>\n",
       "      <th>method</th>\n",
       "      <th>kd_dif</th>\n",
       "      <th>str_dif</th>\n",
       "      <th>td_dif</th>\n",
       "      <th>sub_dif</th>\n",
       "      <th>td avg._dif</th>\n",
       "      <th>td acc._dif</th>\n",
       "      <th>td def._dif</th>\n",
       "      <th>sub. avg._dif</th>\n",
       "      <th>slpm_dif</th>\n",
       "      <th>str. acc._dif</th>\n",
       "      <th>sapm_dif</th>\n",
       "      <th>str. def_dif</th>\n",
       "      <th>stance_win_ratio</th>\n",
       "      <th>win_perc_dif</th>\n",
       "      <th>win_strk_dif</th>\n",
       "      <th>lose_strk_dif</th>\n",
       "      <th>result</th>\n",
       "      <th>result_pred</th>\n",
       "    </tr>\n",
       "  </thead>\n",
       "  <tbody>\n",
       "    <tr>\n",
       "      <th>6728</th>\n",
       "      <td>test</td>\n",
       "      <td>2017-07-29</td>\n",
       "      <td>Aleksandra Albu</td>\n",
       "      <td>Kailin Curran</td>\n",
       "      <td>U-DEC:</td>\n",
       "      <td>0.011068</td>\n",
       "      <td>-0.133163</td>\n",
       "      <td>1.590190</td>\n",
       "      <td>0.001133</td>\n",
       "      <td>0.157318</td>\n",
       "      <td>-0.236546</td>\n",
       "      <td>0.544717</td>\n",
       "      <td>-0.194404</td>\n",
       "      <td>0.584680</td>\n",
       "      <td>0.331559</td>\n",
       "      <td>0.477663</td>\n",
       "      <td>-1.248515</td>\n",
       "      <td>0.270739</td>\n",
       "      <td>2.060202</td>\n",
       "      <td>0.599149</td>\n",
       "      <td>-2.164903</td>\n",
       "      <td>1</td>\n",
       "      <td>1</td>\n",
       "    </tr>\n",
       "    <tr>\n",
       "      <th>6729</th>\n",
       "      <td>train</td>\n",
       "      <td>2017-07-29</td>\n",
       "      <td>Jarred Brooks</td>\n",
       "      <td>Eric Shelton</td>\n",
       "      <td>S-DEC:</td>\n",
       "      <td>0.011068</td>\n",
       "      <td>-0.133163</td>\n",
       "      <td>1.590190</td>\n",
       "      <td>0.001133</td>\n",
       "      <td>0.960129</td>\n",
       "      <td>0.218076</td>\n",
       "      <td>0.779264</td>\n",
       "      <td>0.377632</td>\n",
       "      <td>-0.294627</td>\n",
       "      <td>0.331559</td>\n",
       "      <td>-0.151239</td>\n",
       "      <td>-0.070965</td>\n",
       "      <td>-0.507334</td>\n",
       "      <td>0.015847</td>\n",
       "      <td>0.026948</td>\n",
       "      <td>-1.087573</td>\n",
       "      <td>1</td>\n",
       "      <td>1</td>\n",
       "    </tr>\n",
       "    <tr>\n",
       "      <th>6730</th>\n",
       "      <td>validation</td>\n",
       "      <td>2017-07-29</td>\n",
       "      <td>Drew Dober</td>\n",
       "      <td>Joshua Burkman</td>\n",
       "      <td>KO/TKO:Punch</td>\n",
       "      <td>1.365610</td>\n",
       "      <td>0.167994</td>\n",
       "      <td>0.011143</td>\n",
       "      <td>0.001133</td>\n",
       "      <td>-0.985573</td>\n",
       "      <td>-0.656198</td>\n",
       "      <td>-0.594516</td>\n",
       "      <td>-0.194404</td>\n",
       "      <td>1.116061</td>\n",
       "      <td>-0.236000</td>\n",
       "      <td>0.611992</td>\n",
       "      <td>0.013146</td>\n",
       "      <td>0.985268</td>\n",
       "      <td>0.143619</td>\n",
       "      <td>0.026948</td>\n",
       "      <td>-2.164903</td>\n",
       "      <td>1</td>\n",
       "      <td>1</td>\n",
       "    </tr>\n",
       "  </tbody>\n",
       "</table>\n",
       "</div>"
      ],
      "text/plain": [
       "             set        date          fighter        opponent        method  \\\n",
       "6728        test  2017-07-29  Aleksandra Albu   Kailin Curran        U-DEC:   \n",
       "6729       train  2017-07-29    Jarred Brooks    Eric Shelton        S-DEC:   \n",
       "6730  validation  2017-07-29       Drew Dober  Joshua Burkman  KO/TKO:Punch   \n",
       "\n",
       "        kd_dif   str_dif    td_dif   sub_dif  td avg._dif  td acc._dif  \\\n",
       "6728  0.011068 -0.133163  1.590190  0.001133     0.157318    -0.236546   \n",
       "6729  0.011068 -0.133163  1.590190  0.001133     0.960129     0.218076   \n",
       "6730  1.365610  0.167994  0.011143  0.001133    -0.985573    -0.656198   \n",
       "\n",
       "      td def._dif  sub. avg._dif  slpm_dif  str. acc._dif  sapm_dif  \\\n",
       "6728     0.544717      -0.194404  0.584680       0.331559  0.477663   \n",
       "6729     0.779264       0.377632 -0.294627       0.331559 -0.151239   \n",
       "6730    -0.594516      -0.194404  1.116061      -0.236000  0.611992   \n",
       "\n",
       "      str. def_dif  stance_win_ratio  win_perc_dif  win_strk_dif  \\\n",
       "6728     -1.248515          0.270739      2.060202      0.599149   \n",
       "6729     -0.070965         -0.507334      0.015847      0.026948   \n",
       "6730      0.013146          0.985268      0.143619      0.026948   \n",
       "\n",
       "      lose_strk_dif  result  result_pred  \n",
       "6728      -2.164903       1            1  \n",
       "6729      -1.087573       1            1  \n",
       "6730      -2.164903       1            1  "
      ]
     },
     "execution_count": 329,
     "metadata": {},
     "output_type": "execute_result"
    }
   ],
   "source": [
    "xgboost_clf = set_xgboost_clf(X_columns=X, y_columns=y, data=df, n=200, learning_rate=0.2, subsample=0.4, max_depth=1)\n",
    "df = set_predictions(model=xgboost_clf, data=df, X_columns=X, y_columns=y)\n",
    "\n",
    "acc = get_accuracy(act=df.result[df.set=='test'], pred=df.result_pred[df.set=='test'])\n",
    "print('Initial accuracy score: %.3f' %acc)\n",
    "df.tail(3)"
   ]
  },
  {
   "cell_type": "markdown",
   "id": "81b00200-7fff-4bc8-b3fb-04d0a7010ffb",
   "metadata": {
    "tags": []
   },
   "source": [
    "### <span style='color:orange'> **[in-progress]** </span>GridSearch (=Parameter tuning):"
   ]
  },
  {
   "cell_type": "code",
   "execution_count": 330,
   "id": "d56a1fbf-523f-4b69-a5c0-4fbdc27b5580",
   "metadata": {},
   "outputs": [
    {
     "name": "stdout",
     "output_type": "stream",
     "text": [
      "Best parameters:  {'learning_rate': 0.1, 'max_depth': 3, 'n_estimators': 200, 'subsample': 0.9}\n",
      "Best score:  0.8736415117623668\n"
     ]
    }
   ],
   "source": [
    "parameters = {'learning_rate': [0.05, 0.1, 0.15],\n",
    "              'max_depth': [2, 3, 6],\n",
    "              'subsample': [0.8, 0.9, 1],\n",
    "              'n_estimators':[100, 200, 300]\n",
    "}\n",
    "\n",
    "xgboost_clf = XGBClassifier() #objective='reg:squarederror')\n",
    "grid_search = GridSearchCV(estimator=xgboost_clf, param_grid=parameters, cv=5,error_score='raise')\n",
    "\n",
    "X_train = df[X][df.set=='train']\n",
    "y_train = df[y][df.set=='train']\n",
    "grid_search.fit(X_train,y_train)\n",
    "\n",
    "print(\"Best parameters: \", grid_search.best_params_)\n",
    "print(\"Best score: \", grid_search.best_score_)"
   ]
  },
  {
   "cell_type": "code",
   "execution_count": 342,
   "id": "3204192b-e96c-4799-b7bb-7b5cf53c1d44",
   "metadata": {},
   "outputs": [
    {
     "data": {
      "text/html": [
       "<div>\n",
       "<style scoped>\n",
       "    .dataframe tbody tr th:only-of-type {\n",
       "        vertical-align: middle;\n",
       "    }\n",
       "\n",
       "    .dataframe tbody tr th {\n",
       "        vertical-align: top;\n",
       "    }\n",
       "\n",
       "    .dataframe thead th {\n",
       "        text-align: right;\n",
       "    }\n",
       "</style>\n",
       "<table border=\"1\" class=\"dataframe\">\n",
       "  <thead>\n",
       "    <tr style=\"text-align: right;\">\n",
       "      <th></th>\n",
       "      <th>learning_rate</th>\n",
       "      <th>max_depth</th>\n",
       "      <th>n_estimators</th>\n",
       "      <th>subsample</th>\n",
       "      <th>accuracy</th>\n",
       "    </tr>\n",
       "  </thead>\n",
       "  <tbody>\n",
       "    <tr>\n",
       "      <th>40</th>\n",
       "      <td>0.1</td>\n",
       "      <td>3</td>\n",
       "      <td>200</td>\n",
       "      <td>0.9</td>\n",
       "      <td>0.873642</td>\n",
       "    </tr>\n",
       "  </tbody>\n",
       "</table>\n",
       "</div>"
      ],
      "text/plain": [
       "    learning_rate  max_depth  n_estimators  subsample  accuracy\n",
       "40            0.1          3           200        0.9  0.873642"
      ]
     },
     "execution_count": 342,
     "metadata": {},
     "output_type": "execute_result"
    }
   ],
   "source": [
    "grid = pd.DataFrame(grid_search.cv_results_['params'])\n",
    "grid['accuracy'] = grid_search.cv_results_['mean_test_score']\n",
    "grid[grid.accuracy==np.max(grid.accuracy)]"
   ]
  },
  {
   "cell_type": "code",
   "execution_count": 348,
   "id": "01ac6c12-1daa-450f-ae5e-2ee965249cdb",
   "metadata": {},
   "outputs": [
    {
     "data": {
      "text/plain": [
       "<AxesSubplot:xlabel='learning_rate', ylabel='accuracy'>"
      ]
     },
     "execution_count": 348,
     "metadata": {},
     "output_type": "execute_result"
    },
    {
     "data": {
      "image/png": "[encoded data removed]",
      "text/plain": [
       "<Figure size 432x288 with 1 Axes>"
      ]
     },
     "metadata": {},
     "output_type": "display_data"
    }
   ],
   "source": [
    "sns.scatterplot(data=grid, x='learning_rate', y='accuracy')\n",
    "sns.scatterplot(data=grid, x='max_depth', y='accuracy')\n"
   ]
  },
  {
   "cell_type": "code",
   "execution_count": 343,
   "id": "c8735302-823a-4a23-8afe-cac2eb007cf0",
   "metadata": {},
   "outputs": [
    {
     "data": {
      "image/png": "[encoded data removed]",
      "text/plain": [
       "<Figure size 432x288 with 2 Axes>"
      ]
     },
     "metadata": {},
     "output_type": "display_data"
    }
   ],
   "source": [
    "# Extract the results of the grid search\n",
    "results = grid_search.cv_results_\n",
    "params = results['params']\n",
    "mean_scores = results['mean_test_score']\n",
    "\n",
    "# Convert the results to a pandas DataFrame\n",
    "df = pd.DataFrame(params)\n",
    "df['score'] = mean_scores\n",
    "\n",
    "# Create a pivot table of the results\n",
    "table = pd.pivot_table(df, values='score', index='n_estimators', columns='learning_rate')\n",
    "\n",
    "# Create a heatmap plot of the results\n",
    "sns.heatmap(table, cmap='YlGnBu', annot=True, fmt='.4g')\n",
    "plt.title('Grid Search Results')\n",
    "plt.xlabel('n_estimators')\n",
    "plt.ylabel('learning_rate')\n",
    "plt.show()"
   ]
  },
  {
   "cell_type": "code",
   "execution_count": 220,
   "id": "92d011d5-e1aa-4a37-b27d-66589b975629",
   "metadata": {},
   "outputs": [
    {
     "ename": "SyntaxError",
     "evalue": "invalid syntax (<ipython-input-220-77d396f2102f>, line 1)",
     "output_type": "error",
     "traceback": [
      "\u001b[0;36m  File \u001b[0;32m\"<ipython-input-220-77d396f2102f>\"\u001b[0;36m, line \u001b[0;32m1\u001b[0m\n\u001b[0;31m    >>>>>\u001b[0m\n\u001b[0m     ^\u001b[0m\n\u001b[0;31mSyntaxError\u001b[0m\u001b[0;31m:\u001b[0m invalid syntax\n"
     ]
    }
   ],
   "source": [
    ">>>>>"
   ]
  },
  {
   "cell_type": "markdown",
   "id": "f0513590-bb29-458a-bcfe-07f75eb0ee65",
   "metadata": {
    "tags": []
   },
   "source": [
    "## <span style='color:green'> **[done]** </span> Random forest classifier model training:"
   ]
  },
  {
   "cell_type": "code",
   "execution_count": 235,
   "id": "3c7f98c5-e96b-456d-aebd-8a395eb96700",
   "metadata": {},
   "outputs": [
    {
     "data": {
      "text/html": [
       "<div>\n",
       "<style scoped>\n",
       "    .dataframe tbody tr th:only-of-type {\n",
       "        vertical-align: middle;\n",
       "    }\n",
       "\n",
       "    .dataframe tbody tr th {\n",
       "        vertical-align: top;\n",
       "    }\n",
       "\n",
       "    .dataframe thead th {\n",
       "        text-align: right;\n",
       "    }\n",
       "</style>\n",
       "<table border=\"1\" class=\"dataframe\">\n",
       "  <thead>\n",
       "    <tr style=\"text-align: right;\">\n",
       "      <th></th>\n",
       "      <th>set</th>\n",
       "      <th>date</th>\n",
       "      <th>fighter</th>\n",
       "      <th>opponent</th>\n",
       "      <th>method</th>\n",
       "      <th>kd_dif</th>\n",
       "      <th>str_dif</th>\n",
       "      <th>td_dif</th>\n",
       "      <th>sub_dif</th>\n",
       "      <th>td avg._dif</th>\n",
       "      <th>td acc._dif</th>\n",
       "      <th>td def._dif</th>\n",
       "      <th>sub. avg._dif</th>\n",
       "      <th>slpm_dif</th>\n",
       "      <th>str. acc._dif</th>\n",
       "      <th>sapm_dif</th>\n",
       "      <th>str. def_dif</th>\n",
       "      <th>stance_win_ratio</th>\n",
       "      <th>win_perc_dif</th>\n",
       "      <th>win_strk_dif</th>\n",
       "      <th>lose_strk_dif</th>\n",
       "      <th>result</th>\n",
       "      <th>result_pred</th>\n",
       "    </tr>\n",
       "  </thead>\n",
       "  <tbody>\n",
       "    <tr>\n",
       "      <th>6728</th>\n",
       "      <td>test</td>\n",
       "      <td>2017-07-29</td>\n",
       "      <td>Aleksandra Albu</td>\n",
       "      <td>Kailin Curran</td>\n",
       "      <td>U-DEC:</td>\n",
       "      <td>0.011068</td>\n",
       "      <td>-0.133163</td>\n",
       "      <td>1.590190</td>\n",
       "      <td>0.001133</td>\n",
       "      <td>0.157318</td>\n",
       "      <td>-0.236546</td>\n",
       "      <td>0.544717</td>\n",
       "      <td>-0.194404</td>\n",
       "      <td>0.584680</td>\n",
       "      <td>0.331559</td>\n",
       "      <td>0.477663</td>\n",
       "      <td>-1.248515</td>\n",
       "      <td>0.270739</td>\n",
       "      <td>2.060202</td>\n",
       "      <td>0.599149</td>\n",
       "      <td>-2.164903</td>\n",
       "      <td>win</td>\n",
       "      <td>win</td>\n",
       "    </tr>\n",
       "    <tr>\n",
       "      <th>6729</th>\n",
       "      <td>train</td>\n",
       "      <td>2017-07-29</td>\n",
       "      <td>Jarred Brooks</td>\n",
       "      <td>Eric Shelton</td>\n",
       "      <td>S-DEC:</td>\n",
       "      <td>0.011068</td>\n",
       "      <td>-0.133163</td>\n",
       "      <td>1.590190</td>\n",
       "      <td>0.001133</td>\n",
       "      <td>0.960129</td>\n",
       "      <td>0.218076</td>\n",
       "      <td>0.779264</td>\n",
       "      <td>0.377632</td>\n",
       "      <td>-0.294627</td>\n",
       "      <td>0.331559</td>\n",
       "      <td>-0.151239</td>\n",
       "      <td>-0.070965</td>\n",
       "      <td>-0.507334</td>\n",
       "      <td>0.015847</td>\n",
       "      <td>0.026948</td>\n",
       "      <td>-1.087573</td>\n",
       "      <td>win</td>\n",
       "      <td>win</td>\n",
       "    </tr>\n",
       "    <tr>\n",
       "      <th>6730</th>\n",
       "      <td>validation</td>\n",
       "      <td>2017-07-29</td>\n",
       "      <td>Drew Dober</td>\n",
       "      <td>Joshua Burkman</td>\n",
       "      <td>KO/TKO:Punch</td>\n",
       "      <td>1.365610</td>\n",
       "      <td>0.167994</td>\n",
       "      <td>0.011143</td>\n",
       "      <td>0.001133</td>\n",
       "      <td>-0.985573</td>\n",
       "      <td>-0.656198</td>\n",
       "      <td>-0.594516</td>\n",
       "      <td>-0.194404</td>\n",
       "      <td>1.116061</td>\n",
       "      <td>-0.236000</td>\n",
       "      <td>0.611992</td>\n",
       "      <td>0.013146</td>\n",
       "      <td>0.985268</td>\n",
       "      <td>0.143619</td>\n",
       "      <td>0.026948</td>\n",
       "      <td>-2.164903</td>\n",
       "      <td>win</td>\n",
       "      <td>win</td>\n",
       "    </tr>\n",
       "  </tbody>\n",
       "</table>\n",
       "</div>"
      ],
      "text/plain": [
       "             set        date          fighter        opponent        method  \\\n",
       "6728        test  2017-07-29  Aleksandra Albu   Kailin Curran        U-DEC:   \n",
       "6729       train  2017-07-29    Jarred Brooks    Eric Shelton        S-DEC:   \n",
       "6730  validation  2017-07-29       Drew Dober  Joshua Burkman  KO/TKO:Punch   \n",
       "\n",
       "        kd_dif   str_dif    td_dif   sub_dif  td avg._dif  td acc._dif  \\\n",
       "6728  0.011068 -0.133163  1.590190  0.001133     0.157318    -0.236546   \n",
       "6729  0.011068 -0.133163  1.590190  0.001133     0.960129     0.218076   \n",
       "6730  1.365610  0.167994  0.011143  0.001133    -0.985573    -0.656198   \n",
       "\n",
       "      td def._dif  sub. avg._dif  slpm_dif  str. acc._dif  sapm_dif  \\\n",
       "6728     0.544717      -0.194404  0.584680       0.331559  0.477663   \n",
       "6729     0.779264       0.377632 -0.294627       0.331559 -0.151239   \n",
       "6730    -0.594516      -0.194404  1.116061      -0.236000  0.611992   \n",
       "\n",
       "      str. def_dif  stance_win_ratio  win_perc_dif  win_strk_dif  \\\n",
       "6728     -1.248515          0.270739      2.060202      0.599149   \n",
       "6729     -0.070965         -0.507334      0.015847      0.026948   \n",
       "6730      0.013146          0.985268      0.143619      0.026948   \n",
       "\n",
       "      lose_strk_dif result result_pred  \n",
       "6728      -2.164903    win         win  \n",
       "6729      -1.087573    win         win  \n",
       "6730      -2.164903    win         win  "
      ]
     },
     "execution_count": 235,
     "metadata": {},
     "output_type": "execute_result"
    }
   ],
   "source": [
    "rf_clf = set_random_forest_clf(X_columns=X, y_columns=y, data=df, n=10)\n",
    "df = set_predictions(model=rf_clf, data=df, X_columns=X, y_columns=y)\n",
    "df.tail(3)"
   ]
  },
  {
   "cell_type": "code",
   "execution_count": 236,
   "id": "b4bdc046-2f72-4287-92a4-e2cd034a0b58",
   "metadata": {},
   "outputs": [
    {
     "name": "stdout",
     "output_type": "stream",
     "text": [
      "Accuracy = 0.841658\n"
     ]
    },
    {
     "data": {
      "image/png": "[encoded data removed]",
      "text/plain": [
       "<Figure size 432x288 with 2 Axes>"
      ]
     },
     "metadata": {},
     "output_type": "display_data"
    }
   ],
   "source": [
    "get_model_evaluation(data=df,y_column='result')"
   ]
  },
  {
   "cell_type": "markdown",
   "id": "fb440c8a-47f8-44a2-95c5-3b517180e3a4",
   "metadata": {},
   "source": [
    "#### <span style='color:green'> **[done]** </span> Tune Model parameters:"
   ]
  },
  {
   "cell_type": "code",
   "execution_count": 237,
   "id": "f0e438c3-e921-4b52-926d-f3356ede7658",
   "metadata": {},
   "outputs": [
    {
     "name": "stderr",
     "output_type": "stream",
     "text": [
      "100%|██████████| 8/8 [00:03<00:00,  2.42it/s]\n"
     ]
    },
    {
     "data": {
      "text/html": [
       "<div>\n",
       "<style scoped>\n",
       "    .dataframe tbody tr th:only-of-type {\n",
       "        vertical-align: middle;\n",
       "    }\n",
       "\n",
       "    .dataframe tbody tr th {\n",
       "        vertical-align: top;\n",
       "    }\n",
       "\n",
       "    .dataframe thead th {\n",
       "        text-align: right;\n",
       "    }\n",
       "</style>\n",
       "<table border=\"1\" class=\"dataframe\">\n",
       "  <thead>\n",
       "    <tr style=\"text-align: right;\">\n",
       "      <th></th>\n",
       "      <th>n_estimators</th>\n",
       "      <th>accuracy</th>\n",
       "    </tr>\n",
       "  </thead>\n",
       "  <tbody>\n",
       "    <tr>\n",
       "      <th>3</th>\n",
       "      <td>16</td>\n",
       "      <td>0.855032</td>\n",
       "    </tr>\n",
       "    <tr>\n",
       "      <th>4</th>\n",
       "      <td>32</td>\n",
       "      <td>0.851513</td>\n",
       "    </tr>\n",
       "    <tr>\n",
       "      <th>5</th>\n",
       "      <td>64</td>\n",
       "      <td>0.855735</td>\n",
       "    </tr>\n",
       "    <tr>\n",
       "      <th>6</th>\n",
       "      <td>128</td>\n",
       "      <td>0.865588</td>\n",
       "    </tr>\n",
       "    <tr>\n",
       "      <th>7</th>\n",
       "      <td>256</td>\n",
       "      <td>0.861365</td>\n",
       "    </tr>\n",
       "  </tbody>\n",
       "</table>\n",
       "</div>"
      ],
      "text/plain": [
       "  n_estimators  accuracy\n",
       "3           16  0.855032\n",
       "4           32  0.851513\n",
       "5           64  0.855735\n",
       "6          128  0.865588\n",
       "7          256  0.861365"
      ]
     },
     "execution_count": 237,
     "metadata": {},
     "output_type": "execute_result"
    }
   ],
   "source": [
    "sum_table = pd.DataFrame(columns=['n_estimators','accuracy'])\n",
    "\n",
    "for n in tqdm([2,4,8,16,32,64,128,256]):\n",
    "    sum_table = pd.concat([sum_table,get_clf_grad_desc_step( X_columns=X, y_columns=y, data=df, neighbors=n)],ignore_index=True)\n",
    "\n",
    "sum_table.tail(5)"
   ]
  },
  {
   "cell_type": "code",
   "execution_count": 238,
   "id": "ce79e882-0145-4265-b165-a4f07cd4f779",
   "metadata": {},
   "outputs": [
    {
     "data": {
      "text/html": [
       "<div>\n",
       "<style scoped>\n",
       "    .dataframe tbody tr th:only-of-type {\n",
       "        vertical-align: middle;\n",
       "    }\n",
       "\n",
       "    .dataframe tbody tr th {\n",
       "        vertical-align: top;\n",
       "    }\n",
       "\n",
       "    .dataframe thead th {\n",
       "        text-align: right;\n",
       "    }\n",
       "</style>\n",
       "<table border=\"1\" class=\"dataframe\">\n",
       "  <thead>\n",
       "    <tr style=\"text-align: right;\">\n",
       "      <th></th>\n",
       "      <th>n_estimators</th>\n",
       "      <th>accuracy</th>\n",
       "    </tr>\n",
       "  </thead>\n",
       "  <tbody>\n",
       "    <tr>\n",
       "      <th>0</th>\n",
       "      <td>128</td>\n",
       "      <td>0.865588</td>\n",
       "    </tr>\n",
       "  </tbody>\n",
       "</table>\n",
       "</div>"
      ],
      "text/plain": [
       "  n_estimators  accuracy\n",
       "0          128  0.865588"
      ]
     },
     "execution_count": 238,
     "metadata": {},
     "output_type": "execute_result"
    },
    {
     "data": {
      "image/png": "[encoded data removed]",
      "text/plain": [
       "<Figure size 432x288 with 1 Axes>"
      ]
     },
     "metadata": {},
     "output_type": "display_data"
    }
   ],
   "source": [
    "sns.scatterplot(data=sum_table, x='n_estimators', y='accuracy')\n",
    "sns.lineplot(data=sum_table, x='n_estimators', y='accuracy')\n",
    "\n",
    "t = sum_table[sum_table.accuracy == np.max(sum_table['accuracy'])].reset_index(drop=True)\n",
    "opt_n_estimators = t.loc[0,'n_estimators']\n",
    "opt_acc = t.loc[0,'accuracy']\n",
    "t"
   ]
  },
  {
   "cell_type": "markdown",
   "id": "8031abeb-859d-4eb6-ac96-d38ffae2ad1e",
   "metadata": {
    "tags": []
   },
   "source": [
    "#### <span style='color:green'> **[done]** </span> Train model with chosen parameters & 10-fold Cross Validation:"
   ]
  },
  {
   "cell_type": "code",
   "execution_count": 239,
   "id": "4e8b47c2-ed57-4e51-b74a-7910cbf5a337",
   "metadata": {},
   "outputs": [
    {
     "name": "stderr",
     "output_type": "stream",
     "text": [
      "100%|██████████| 10/10 [00:13<00:00,  1.39s/it]"
     ]
    },
    {
     "name": "stdout",
     "output_type": "stream",
     "text": [
      "10-Fold cross-validation model accuracy: 0.8670\n"
     ]
    },
    {
     "name": "stderr",
     "output_type": "stream",
     "text": [
      "\n"
     ]
    }
   ],
   "source": [
    "k = 10\n",
    "size = len(df)\n",
    "batch = int(size/k)\n",
    "acc = []\n",
    "\n",
    "for i in tqdm(range(0,size-batch,batch)):\n",
    "    test_start = i\n",
    "    test_end = i + batch - 1\n",
    "    df.loc[:,'set'] = 'train'\n",
    "    df.loc[test_start:test_end,'set'] = 'test'\n",
    "    rf_clf = set_random_forest_clf(X_columns=X, y_columns=y, data=df, n=opt_n_estimators)\n",
    "    df = set_predictions(model=rf_clf, data=df, X_columns=X, y_columns=y) \n",
    "    y_test_act = df['result'][df.set=='test']\n",
    "    y_test_pred = df['result_pred'][df.set=='test']\n",
    "    acc.append(get_accuracy(act=y_test_act, pred=y_test_pred))\n",
    "\n",
    "opt_acc = np.mean(acc)    \n",
    "print('%d-Fold cross-validation model accuracy: %.4f' %(k,opt_acc))"
   ]
  },
  {
   "cell_type": "markdown",
   "id": "b0a32193-1ed0-4b5e-ae77-4b474213b361",
   "metadata": {},
   "source": [
    "#### <span style='color:green'> **[done]** </span> Saving model as pickle:"
   ]
  },
  {
   "cell_type": "code",
   "execution_count": 240,
   "id": "d1d4ebfe-f5d8-4c76-bf08-041ee5b3a373",
   "metadata": {},
   "outputs": [
    {
     "name": "stdout",
     "output_type": "stream",
     "text": [
      "../global_variables/result_pred_random_forest_clf.pkl saved.\n"
     ]
    }
   ],
   "source": [
    "save_trained_model(model=rf_clf,filename_path='../global_variables/result_pred_random_forest_clf')"
   ]
  },
  {
   "cell_type": "markdown",
   "id": "3ff47a1d-5158-4d9c-a023-257be54edea1",
   "metadata": {},
   "source": [
    "#### <span style='color:green'> **[done]** </span> Saving tuned parameters:"
   ]
  },
  {
   "cell_type": "code",
   "execution_count": 10,
   "id": "c63f8d99-03c0-4fe1-9bd5-4423ae46b70b",
   "metadata": {},
   "outputs": [
    {
     "name": "stdout",
     "output_type": "stream",
     "text": [
      "../global_variables/ml_models_parameters.csv saved.\n"
     ]
    },
    {
     "data": {
      "text/html": [
       "<div>\n",
       "<style scoped>\n",
       "    .dataframe tbody tr th:only-of-type {\n",
       "        vertical-align: middle;\n",
       "    }\n",
       "\n",
       "    .dataframe tbody tr th {\n",
       "        vertical-align: top;\n",
       "    }\n",
       "\n",
       "    .dataframe thead th {\n",
       "        text-align: right;\n",
       "    }\n",
       "</style>\n",
       "<table border=\"1\" class=\"dataframe\">\n",
       "  <thead>\n",
       "    <tr style=\"text-align: right;\">\n",
       "      <th></th>\n",
       "      <th>ml_model</th>\n",
       "      <th>parameter_name</th>\n",
       "      <th>value</th>\n",
       "      <th>accuracy</th>\n",
       "    </tr>\n",
       "  </thead>\n",
       "  <tbody>\n",
       "    <tr>\n",
       "      <th>0</th>\n",
       "      <td>stats_random_forest_regressor</td>\n",
       "      <td>n_estimators</td>\n",
       "      <td>256</td>\n",
       "      <td>0.886900</td>\n",
       "    </tr>\n",
       "    <tr>\n",
       "      <th>1</th>\n",
       "      <td>method_random_forest_classifier</td>\n",
       "      <td>n_estimator</td>\n",
       "      <td>64</td>\n",
       "      <td>0.722355</td>\n",
       "    </tr>\n",
       "    <tr>\n",
       "      <th>2</th>\n",
       "      <td>result_random_forest_classifier</td>\n",
       "      <td>n_estimator</td>\n",
       "      <td>128</td>\n",
       "      <td>0.867013</td>\n",
       "    </tr>\n",
       "  </tbody>\n",
       "</table>\n",
       "</div>"
      ],
      "text/plain": [
       "                          ml_model parameter_name  value  accuracy\n",
       "0    stats_random_forest_regressor   n_estimators    256  0.886900\n",
       "1  method_random_forest_classifier    n_estimator     64  0.722355\n",
       "2  result_random_forest_classifier    n_estimator    128  0.867013"
      ]
     },
     "execution_count": 10,
     "metadata": {},
     "output_type": "execute_result"
    }
   ],
   "source": [
    "gp = pd.read_csv('../global_variables/ml_models_parameters.csv')\n",
    "gp = gp[gp.ml_model != 'result_random_forest_classifier'].reset_index(drop=True)\n",
    "\n",
    "param = pd.DataFrame(data={'ml_model':['result_random_forest_classifier'],\n",
    "                          'parameter_name':['n_estimator'],\n",
    "                          'value':[opt_n_estimators],\n",
    "                          'accuracy':[opt_acc]}\n",
    "                    )\n",
    "gp = pd.concat([gp,param],ignore_index=True)\n",
    "gp.to_csv('../global_variables/ml_models_parameters.csv', index=None)\n",
    "print('../global_variables/ml_models_parameters.csv saved.')\n",
    "gp"
   ]
  },
  {
   "cell_type": "markdown",
   "id": "1eeaaaaa-74be-41ee-9a3a-c7a752d5e0f2",
   "metadata": {},
   "source": [
    "#### <span style='color:green'> **[done]** </span> saving data:"
   ]
  },
  {
   "cell_type": "code",
   "execution_count": 11,
   "id": "fd376a55-f840-4b4f-8237-e834c39adabb",
   "metadata": {},
   "outputs": [
    {
     "name": "stdout",
     "output_type": "stream",
     "text": [
      "../data/fight_result_data_trained.csv saved.\n"
     ]
    }
   ],
   "source": [
    "df.to_csv('../data/fight_result_data_trained.csv',index=None)\n",
    "print('../data/fight_result_data_trained.csv saved.')"
   ]
  },
  {
   "cell_type": "code",
   "execution_count": null,
   "id": "4f8a1ff9-bb52-43ef-8985-4e0439a40627",
   "metadata": {},
   "outputs": [],
   "source": []
  }
 ],
 "metadata": {
  "kernelspec": {
   "display_name": "py3",
   "language": "python",
   "name": "py3"
  },
  "language_info": {
   "codemirror_mode": {
    "name": "ipython",
    "version": 3
   },
   "file_extension": ".py",
   "mimetype": "text/x-python",
   "name": "python",
   "nbconvert_exporter": "python",
   "pygments_lexer": "ipython3",
   "version": "3.7.12"
  },
  "toc-autonumbering": true,
  "toc-showcode": false,
  "toc-showmarkdowntxt": false
 },
 "nbformat": 4,
 "nbformat_minor": 5
}
