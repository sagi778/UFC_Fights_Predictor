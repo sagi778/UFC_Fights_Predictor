{
 "cells": [
  {
   "cell_type": "code",
   "execution_count": 65,
   "id": "1b6f3263",
   "metadata": {},
   "outputs": [],
   "source": [
    "import requests\n",
    "import pandas as pd\n",
    "import numpy as np\n",
    "from bs4 import BeautifulSoup\n",
    "from string import ascii_letters"
   ]
  },
  {
   "cell_type": "markdown",
   "id": "c9052cea",
   "metadata": {},
   "source": [
    "# R&D"
   ]
  },
  {
   "cell_type": "code",
   "execution_count": 280,
   "id": "eb717ba2",
   "metadata": {},
   "outputs": [],
   "source": [
    "\n",
    "\n",
    "for index in range(0,len(page_fights_list)):\n",
    "    row = get_row(page_fights_list,index)\n",
    "    df.loc[index] = row"
   ]
  },
  {
   "cell_type": "code",
   "execution_count": 277,
   "id": "72c6b2fd",
   "metadata": {},
   "outputs": [
    {
     "data": {
      "text/plain": [
       "['win',\n",
       " 'Nathaniel Wood:Charles Jourdain',\n",
       " '0:0',\n",
       " '97:86',\n",
       " '5:1',\n",
       " '0:0',\n",
       " 'Featherweight',\n",
       " 'U-DEC',\n",
       " '3',\n",
       " '5:00']"
      ]
     },
     "execution_count": 277,
     "metadata": {},
     "output_type": "execute_result"
    }
   ],
   "source": [
    "get_row(page_fights_list,5)"
   ]
  },
  {
   "cell_type": "code",
   "execution_count": 281,
   "id": "f66e4b3d",
   "metadata": {},
   "outputs": [
    {
     "data": {
      "text/html": [
       "<div>\n",
       "<style scoped>\n",
       "    .dataframe tbody tr th:only-of-type {\n",
       "        vertical-align: middle;\n",
       "    }\n",
       "\n",
       "    .dataframe tbody tr th {\n",
       "        vertical-align: top;\n",
       "    }\n",
       "\n",
       "    .dataframe thead th {\n",
       "        text-align: right;\n",
       "    }\n",
       "</style>\n",
       "<table border=\"1\" class=\"dataframe\">\n",
       "  <thead>\n",
       "    <tr style=\"text-align: right;\">\n",
       "      <th></th>\n",
       "      <th>W/L</th>\n",
       "      <th>Fighter</th>\n",
       "      <th>Kd</th>\n",
       "      <th>Str</th>\n",
       "      <th>Td</th>\n",
       "      <th>Sub</th>\n",
       "      <th>Weight class</th>\n",
       "      <th>Method</th>\n",
       "      <th>Round</th>\n",
       "      <th>Time</th>\n",
       "    </tr>\n",
       "  </thead>\n",
       "  <tbody>\n",
       "    <tr>\n",
       "      <th>12</th>\n",
       "      <td>win</td>\n",
       "      <td>Stephanie Egger:Ailin Perez</td>\n",
       "      <td>0:0</td>\n",
       "      <td>15:16</td>\n",
       "      <td>2:1</td>\n",
       "      <td>1:0</td>\n",
       "      <td>Women's Featherweight</td>\n",
       "      <td>SUB</td>\n",
       "      <td>2</td>\n",
       "      <td>4:54</td>\n",
       "    </tr>\n",
       "    <tr>\n",
       "      <th>0</th>\n",
       "      <td>win</td>\n",
       "      <td>Ciryl Gane:Tai Tuivasa</td>\n",
       "      <td>1:1</td>\n",
       "      <td>110:29</td>\n",
       "      <td>0:0</td>\n",
       "      <td>0:0</td>\n",
       "      <td>Heavyweight</td>\n",
       "      <td>KO/TKO</td>\n",
       "      <td>3</td>\n",
       "      <td>4:23</td>\n",
       "    </tr>\n",
       "    <tr>\n",
       "      <th>1</th>\n",
       "      <td>win</td>\n",
       "      <td>Robert Whittaker:Marvin Vettori</td>\n",
       "      <td>0:0</td>\n",
       "      <td>74:33</td>\n",
       "      <td>1:0</td>\n",
       "      <td>0:0</td>\n",
       "      <td>Middleweight</td>\n",
       "      <td>U-DEC</td>\n",
       "      <td>3</td>\n",
       "      <td>5:00</td>\n",
       "    </tr>\n",
       "    <tr>\n",
       "      <th>2</th>\n",
       "      <td>win</td>\n",
       "      <td>Nassourdine Imavov:Joaquin Buckley</td>\n",
       "      <td>0:0</td>\n",
       "      <td>51:46</td>\n",
       "      <td>2:0</td>\n",
       "      <td>2:0</td>\n",
       "      <td>Middleweight</td>\n",
       "      <td>U-DEC</td>\n",
       "      <td>3</td>\n",
       "      <td>5:00</td>\n",
       "    </tr>\n",
       "    <tr>\n",
       "      <th>3</th>\n",
       "      <td>win</td>\n",
       "      <td>Roman Kopylov:Alessio Di Chirico</td>\n",
       "      <td>1:0</td>\n",
       "      <td>59:39</td>\n",
       "      <td>0:0</td>\n",
       "      <td>0:0</td>\n",
       "      <td>Middleweight</td>\n",
       "      <td>KO/TKO</td>\n",
       "      <td>3</td>\n",
       "      <td>1:09</td>\n",
       "    </tr>\n",
       "    <tr>\n",
       "      <th>4</th>\n",
       "      <td>win</td>\n",
       "      <td>William Gomis:Jarno Errens</td>\n",
       "      <td>0:0</td>\n",
       "      <td>32:20</td>\n",
       "      <td>3:0</td>\n",
       "      <td>0:1</td>\n",
       "      <td>Featherweight</td>\n",
       "      <td>U-DEC</td>\n",
       "      <td>3</td>\n",
       "      <td>5:00</td>\n",
       "    </tr>\n",
       "    <tr>\n",
       "      <th>5</th>\n",
       "      <td>win</td>\n",
       "      <td>Nathaniel Wood:Charles Jourdain</td>\n",
       "      <td>0:0</td>\n",
       "      <td>97:86</td>\n",
       "      <td>5:1</td>\n",
       "      <td>0:0</td>\n",
       "      <td>Featherweight</td>\n",
       "      <td>U-DEC</td>\n",
       "      <td>3</td>\n",
       "      <td>5:00</td>\n",
       "    </tr>\n",
       "    <tr>\n",
       "      <th>6</th>\n",
       "      <td>win</td>\n",
       "      <td>Abus Magomedov:Dustin Stoltzfus</td>\n",
       "      <td>1:0</td>\n",
       "      <td>7:0</td>\n",
       "      <td>0:0</td>\n",
       "      <td>0:0</td>\n",
       "      <td>Middleweight</td>\n",
       "      <td>KO/TKO</td>\n",
       "      <td>1</td>\n",
       "      <td>0:19</td>\n",
       "    </tr>\n",
       "    <tr>\n",
       "      <th>7</th>\n",
       "      <td>win</td>\n",
       "      <td>Nasrat Haqparast:John Makdessi</td>\n",
       "      <td>1:0</td>\n",
       "      <td>64:73</td>\n",
       "      <td>2:0</td>\n",
       "      <td>0:0</td>\n",
       "      <td>Lightweight</td>\n",
       "      <td>U-DEC</td>\n",
       "      <td>3</td>\n",
       "      <td>5:00</td>\n",
       "    </tr>\n",
       "    <tr>\n",
       "      <th>8</th>\n",
       "      <td>win</td>\n",
       "      <td>Fares Ziam:Michal Figlak</td>\n",
       "      <td>0:0</td>\n",
       "      <td>60:28</td>\n",
       "      <td>3:1</td>\n",
       "      <td>0:0</td>\n",
       "      <td>Lightweight</td>\n",
       "      <td>U-DEC</td>\n",
       "      <td>3</td>\n",
       "      <td>5:00</td>\n",
       "    </tr>\n",
       "    <tr>\n",
       "      <th>9</th>\n",
       "      <td>win</td>\n",
       "      <td>Benoit Saint Denis:Gabriel Miranda</td>\n",
       "      <td>3:0</td>\n",
       "      <td>42:20</td>\n",
       "      <td>1:1</td>\n",
       "      <td>0:0</td>\n",
       "      <td>Lightweight</td>\n",
       "      <td>KO/TKO</td>\n",
       "      <td>2</td>\n",
       "      <td>0:16</td>\n",
       "    </tr>\n",
       "    <tr>\n",
       "      <th>10</th>\n",
       "      <td>win</td>\n",
       "      <td>Cristian Quinonez:Khalid Taha</td>\n",
       "      <td>0:0</td>\n",
       "      <td>19:6</td>\n",
       "      <td>0:0</td>\n",
       "      <td>0:0</td>\n",
       "      <td>Bantamweight</td>\n",
       "      <td>KO/TKO</td>\n",
       "      <td>1</td>\n",
       "      <td>3:15</td>\n",
       "    </tr>\n",
       "    <tr>\n",
       "      <th>11</th>\n",
       "      <td>win</td>\n",
       "      <td>Stephanie Egger:Ailin Perez</td>\n",
       "      <td>0:0</td>\n",
       "      <td>15:16</td>\n",
       "      <td>2:1</td>\n",
       "      <td>1:0</td>\n",
       "      <td>Women's Featherweight</td>\n",
       "      <td>SUB</td>\n",
       "      <td>2</td>\n",
       "      <td>4:54</td>\n",
       "    </tr>\n",
       "  </tbody>\n",
       "</table>\n",
       "</div>"
      ],
      "text/plain": [
       "    W/L                             Fighter   Kd     Str   Td  Sub  \\\n",
       "12  win         Stephanie Egger:Ailin Perez  0:0   15:16  2:1  1:0   \n",
       "0   win              Ciryl Gane:Tai Tuivasa  1:1  110:29  0:0  0:0   \n",
       "1   win     Robert Whittaker:Marvin Vettori  0:0   74:33  1:0  0:0   \n",
       "2   win  Nassourdine Imavov:Joaquin Buckley  0:0   51:46  2:0  2:0   \n",
       "3   win    Roman Kopylov:Alessio Di Chirico  1:0   59:39  0:0  0:0   \n",
       "4   win          William Gomis:Jarno Errens  0:0   32:20  3:0  0:1   \n",
       "5   win     Nathaniel Wood:Charles Jourdain  0:0   97:86  5:1  0:0   \n",
       "6   win     Abus Magomedov:Dustin Stoltzfus  1:0     7:0  0:0  0:0   \n",
       "7   win      Nasrat Haqparast:John Makdessi  1:0   64:73  2:0  0:0   \n",
       "8   win            Fares Ziam:Michal Figlak  0:0   60:28  3:1  0:0   \n",
       "9   win  Benoit Saint Denis:Gabriel Miranda  3:0   42:20  1:1  0:0   \n",
       "10  win       Cristian Quinonez:Khalid Taha  0:0    19:6  0:0  0:0   \n",
       "11  win         Stephanie Egger:Ailin Perez  0:0   15:16  2:1  1:0   \n",
       "\n",
       "             Weight class  Method Round  Time  \n",
       "12  Women's Featherweight     SUB     2  4:54  \n",
       "0             Heavyweight  KO/TKO     3  4:23  \n",
       "1            Middleweight   U-DEC     3  5:00  \n",
       "2            Middleweight   U-DEC     3  5:00  \n",
       "3            Middleweight  KO/TKO     3  1:09  \n",
       "4           Featherweight   U-DEC     3  5:00  \n",
       "5           Featherweight   U-DEC     3  5:00  \n",
       "6            Middleweight  KO/TKO     1  0:19  \n",
       "7             Lightweight   U-DEC     3  5:00  \n",
       "8             Lightweight   U-DEC     3  5:00  \n",
       "9             Lightweight  KO/TKO     2  0:16  \n",
       "10           Bantamweight  KO/TKO     1  3:15  \n",
       "11  Women's Featherweight     SUB     2  4:54  "
      ]
     },
     "execution_count": 281,
     "metadata": {},
     "output_type": "execute_result"
    }
   ],
   "source": [
    "df"
   ]
  },
  {
   "cell_type": "code",
   "execution_count": 221,
   "id": "74f9e01e",
   "metadata": {},
   "outputs": [
    {
     "name": "stdout",
     "output_type": "stream",
     "text": [
      "['win', 'Ciryl Gane:Tai Tuivasa', '1:1', '110:29', '0:0', '0:0', 'Heavyweight', 'KO/TKO', 'Punches', '3', '4:23']\n"
     ]
    }
   ],
   "source": [
    "print(get_row(rows_list,0))"
   ]
  },
  {
   "cell_type": "code",
   "execution_count": 219,
   "id": "06f99bca",
   "metadata": {},
   "outputs": [
    {
     "name": "stdout",
     "output_type": "stream",
     "text": [
      "['win', 'Ciryl Gane:Tai Tuivasa', '1:1', '110:29', '0:0', '0:0', 'Heavyweight', 'KO/TKO', 'Punches', '3', '4:23']\n"
     ]
    }
   ],
   "source": [
    "row0 = get_row(rows_list,0)\n",
    "edited_row = [row0[0],row0[1]+':'+row0[2],row0[3]+':'+row0[4],row0[5]+':'+row0[6],row0[7]+':'+row0[8],row0[9]+':'+row0[10],row0[11],row0[12],row0[14],row0[15]]\n",
    "print(edited_row)"
   ]
  },
  {
   "cell_type": "code",
   "execution_count": 150,
   "id": "090e808e",
   "metadata": {},
   "outputs": [
    {
     "data": {
      "text/plain": [
       "'Ciryl Gane'"
      ]
     },
     "execution_count": 150,
     "metadata": {},
     "output_type": "execute_result"
    }
   ],
   "source": [
    "row_data[1].text.strip() # single value in a row"
   ]
  },
  {
   "cell_type": "code",
   "execution_count": 151,
   "id": "fc974f02",
   "metadata": {},
   "outputs": [
    {
     "data": {
      "text/plain": [
       "<p class=\"b-fight-details__table-text\">\n",
       "            \n",
       "            1\n",
       "          </p>"
      ]
     },
     "execution_count": 151,
     "metadata": {},
     "output_type": "execute_result"
    }
   ],
   "source": [
    "single_row_data[3]"
   ]
  },
  {
   "cell_type": "markdown",
   "id": "81d874f4",
   "metadata": {},
   "source": [
    "# Functions setup\n",
    "* [done] get_columns(soup)\n",
    "\n",
    "* [done] get_fight_list(soup)\n",
    " \n",
    "* [done] get_links(soup) \n",
    " \n",
    "* [done] get_soup(url)\n",
    " \n",
    "* [done] get_row(rows_list, index = 0)"
   ]
  },
  {
   "cell_type": "code",
   "execution_count": 232,
   "id": "c70fb5da",
   "metadata": {},
   "outputs": [],
   "source": [
    "def get_row(rows_list, index = 0):\n",
    "    \n",
    "    '''return array of single row data'''\n",
    "    \n",
    "    row_data = rows_list[index].find_all('p',{'class':'b-fight-details__table-text'})\n",
    "    \n",
    "    row = []\n",
    "\n",
    "    for index in range(len(single_row_data)):\n",
    "        row.append(row_data[index].text.strip())\n",
    "    \n",
    "    edited_row = [row[0],row[1]+':'+row[2],row[3]+':'+row[4],row[5]+':'+row[6],row[7]+':'+row[8],row[9]+':'+row[10],row[11],row[12],row[14],row[15]]\n",
    "\n",
    "    return edited_row    "
   ]
  },
  {
   "cell_type": "code",
   "execution_count": 297,
   "id": "6f6c59c4",
   "metadata": {},
   "outputs": [],
   "source": [
    "def get_fight_list(soup):\n",
    "    \n",
    "    '''return html soup of fights list in certain page'''\n",
    "    \n",
    "    fights_list = soup.find_all('tr',{'class':'b-fight-details__table-row b-fight-details__table-row__hover js-fight-details-click'})\n",
    "    \n",
    "    return fights_list"
   ]
  },
  {
   "cell_type": "code",
   "execution_count": 51,
   "id": "66770f9f",
   "metadata": {},
   "outputs": [],
   "source": [
    "def get_columns(soup):\n",
    "    \n",
    "    '''return list of columns'''\n",
    "    \n",
    "    column_items = soup.find_all('th',{'class':'b-fight-details__table-col'})\n",
    "    columns = []\n",
    "    for item in column_items:\n",
    "        columns.append(item.text.strip())\n",
    "          \n",
    "    return columns"
   ]
  },
  {
   "cell_type": "code",
   "execution_count": 18,
   "id": "b8f3b6ab",
   "metadata": {},
   "outputs": [],
   "source": [
    "def get_links(soup):\n",
    "    \n",
    "    '''return list of all page links'''\n",
    "    \n",
    "    url_links = soup.find_all('a', {'class':'b-link b-link_style_black'})\n",
    "    links = []\n",
    "\n",
    "    for item in url_links:\n",
    "        links.append( item['href'] )\n",
    "        \n",
    "    return np.unique(links)    "
   ]
  },
  {
   "cell_type": "code",
   "execution_count": 17,
   "id": "a53eca39",
   "metadata": {},
   "outputs": [],
   "source": [
    "def get_soup(url, headers = {'User-Agent':'Mozilla/5.0 (Windows NT 10.0; Win64; x64) AppleWebKit/537.36 (KHTML, like Gecko) Chrome/103.0.0.0 Safari/537.36'}):\n",
    "    \n",
    "    '''set url page, \n",
    "    return soup as text'''\n",
    "    \n",
    "    try:\n",
    "        r = requests.get(url)\n",
    "        soup = BeautifulSoup(r.text, 'html.parser')\n",
    "    except:\n",
    "        print('Error on: ' + url) \n",
    "        return None\n",
    "    \n",
    "    return soup"
   ]
  },
  {
   "cell_type": "markdown",
   "id": "7a6777f1",
   "metadata": {},
   "source": [
    "# Main()"
   ]
  },
  {
   "cell_type": "markdown",
   "id": "92c9d8a4",
   "metadata": {},
   "source": [
    "### - [done] Extract column's names"
   ]
  },
  {
   "cell_type": "code",
   "execution_count": 295,
   "id": "75a5b49a",
   "metadata": {},
   "outputs": [
    {
     "name": "stdout",
     "output_type": "stream",
     "text": [
      "['W/L', 'Fighter', 'Kd', 'Str', 'Td', 'Sub', 'Weight class', 'Method', 'Round', 'Time']\n"
     ]
    }
   ],
   "source": [
    "url = 'http://ufcstats.com/statistics/events/completed?page=all'\n",
    "soup = get_soup(url)\n",
    "links = get_links(get_soup(url))\n",
    "columns = get_columns(get_soup(links[0]))\n",
    "print(columns)"
   ]
  },
  {
   "cell_type": "markdown",
   "id": "c9a6fd68",
   "metadata": {},
   "source": [
    "### - [done] construct Pandas DataFrame"
   ]
  },
  {
   "cell_type": "code",
   "execution_count": 296,
   "id": "9850dcaf",
   "metadata": {},
   "outputs": [
    {
     "name": "stdout",
     "output_type": "stream",
     "text": [
      "Empty DataFrame\n",
      "Columns: [W/L, Fighter, Kd, Str, Td, Sub, Weight class, Method, Round, Time]\n",
      "Index: []\n"
     ]
    }
   ],
   "source": [
    "df = pd.DataFrame(columns = columns)\n",
    "print(df)"
   ]
  },
  {
   "cell_type": "markdown",
   "id": "bdf0c036",
   "metadata": {},
   "source": [
    "### -[done] adding data to DataFrame"
   ]
  },
  {
   "cell_type": "code",
   "execution_count": 318,
   "id": "29c237b6",
   "metadata": {},
   "outputs": [
    {
     "name": "stdout",
     "output_type": "stream",
     "text": [
      "Scraping page 618/618 => 99.8 % completed \r"
     ]
    }
   ],
   "source": [
    "current_page = 0\n",
    "\n",
    "for url in links:\n",
    "    \n",
    "    current_page += 1\n",
    "    fights_list = get_fight_list(get_soup(url))\n",
    "    \n",
    "    for index in range(0,len(fights_list)):\n",
    "        \n",
    "        percent = round(((current_page-1)/len(links)) * 100, 1)\n",
    "        print('Scraping page %d/%d => %s %% completed ' %(current_page, len(links), percent), end = '\\r')\n",
    "        row = get_row(fights_list,index)\n",
    "        df.loc[current_page + index] = row"
   ]
  },
  {
   "cell_type": "code",
   "execution_count": 319,
   "id": "b72ba624",
   "metadata": {},
   "outputs": [
    {
     "data": {
      "text/html": [
       "<div>\n",
       "<style scoped>\n",
       "    .dataframe tbody tr th:only-of-type {\n",
       "        vertical-align: middle;\n",
       "    }\n",
       "\n",
       "    .dataframe tbody tr th {\n",
       "        vertical-align: top;\n",
       "    }\n",
       "\n",
       "    .dataframe thead th {\n",
       "        text-align: right;\n",
       "    }\n",
       "</style>\n",
       "<table border=\"1\" class=\"dataframe\">\n",
       "  <thead>\n",
       "    <tr style=\"text-align: right;\">\n",
       "      <th></th>\n",
       "      <th>W/L</th>\n",
       "      <th>Fighter</th>\n",
       "      <th>Kd</th>\n",
       "      <th>Str</th>\n",
       "      <th>Td</th>\n",
       "      <th>Sub</th>\n",
       "      <th>Weight class</th>\n",
       "      <th>Method</th>\n",
       "      <th>Round</th>\n",
       "      <th>Time</th>\n",
       "    </tr>\n",
       "  </thead>\n",
       "  <tbody>\n",
       "    <tr>\n",
       "      <th>625</th>\n",
       "      <td>win</td>\n",
       "      <td>Brian Ortega:Renato Moicano</td>\n",
       "      <td>0:0</td>\n",
       "      <td>65:109</td>\n",
       "      <td>0:2</td>\n",
       "      <td>1:0</td>\n",
       "      <td>Featherweight</td>\n",
       "      <td>SUB</td>\n",
       "      <td>3</td>\n",
       "      <td>2:59</td>\n",
       "    </tr>\n",
       "    <tr>\n",
       "      <th>626</th>\n",
       "      <td>win</td>\n",
       "      <td>Calvin Kattar:Andre Fili</td>\n",
       "      <td>0:0</td>\n",
       "      <td>75:73</td>\n",
       "      <td>2:0</td>\n",
       "      <td>0:0</td>\n",
       "      <td>Featherweight</td>\n",
       "      <td>U-DEC</td>\n",
       "      <td>3</td>\n",
       "      <td>5:00</td>\n",
       "    </tr>\n",
       "    <tr>\n",
       "      <th>627</th>\n",
       "      <td>win</td>\n",
       "      <td>Aleksandra Albu:Kailin Curran</td>\n",
       "      <td>0:0</td>\n",
       "      <td>82:86</td>\n",
       "      <td>5:1</td>\n",
       "      <td>0:0</td>\n",
       "      <td>Women's Strawweight</td>\n",
       "      <td>U-DEC</td>\n",
       "      <td>3</td>\n",
       "      <td>5:00</td>\n",
       "    </tr>\n",
       "    <tr>\n",
       "      <th>628</th>\n",
       "      <td>win</td>\n",
       "      <td>Jarred Brooks:Eric Shelton</td>\n",
       "      <td>0:0</td>\n",
       "      <td>27:31</td>\n",
       "      <td>5:1</td>\n",
       "      <td>1:1</td>\n",
       "      <td>Flyweight</td>\n",
       "      <td>S-DEC</td>\n",
       "      <td>3</td>\n",
       "      <td>5:00</td>\n",
       "    </tr>\n",
       "    <tr>\n",
       "      <th>629</th>\n",
       "      <td>win</td>\n",
       "      <td>Drew Dober:Joshua Burkman</td>\n",
       "      <td>1:0</td>\n",
       "      <td>15:11</td>\n",
       "      <td>0:0</td>\n",
       "      <td>0:0</td>\n",
       "      <td>Lightweight</td>\n",
       "      <td>KO/TKO</td>\n",
       "      <td>1</td>\n",
       "      <td>3:04</td>\n",
       "    </tr>\n",
       "  </tbody>\n",
       "</table>\n",
       "</div>"
      ],
      "text/plain": [
       "     W/L                        Fighter   Kd     Str   Td  Sub  \\\n",
       "625  win    Brian Ortega:Renato Moicano  0:0  65:109  0:2  1:0   \n",
       "626  win       Calvin Kattar:Andre Fili  0:0   75:73  2:0  0:0   \n",
       "627  win  Aleksandra Albu:Kailin Curran  0:0   82:86  5:1  0:0   \n",
       "628  win     Jarred Brooks:Eric Shelton  0:0   27:31  5:1  1:1   \n",
       "629  win      Drew Dober:Joshua Burkman  1:0   15:11  0:0  0:0   \n",
       "\n",
       "            Weight class  Method Round  Time  \n",
       "625        Featherweight     SUB     3  2:59  \n",
       "626        Featherweight   U-DEC     3  5:00  \n",
       "627  Women's Strawweight   U-DEC     3  5:00  \n",
       "628            Flyweight   S-DEC     3  5:00  \n",
       "629          Lightweight  KO/TKO     1  3:04  "
      ]
     },
     "execution_count": 319,
     "metadata": {},
     "output_type": "execute_result"
    }
   ],
   "source": [
    "df.tail()"
   ]
  },
  {
   "cell_type": "markdown",
   "id": "f59fef50",
   "metadata": {},
   "source": [
    "### -[done] saving file"
   ]
  },
  {
   "cell_type": "code",
   "execution_count": 320,
   "id": "34522c93",
   "metadata": {},
   "outputs": [],
   "source": [
    "df.to_csv('ufc_fights_stats.csv')"
   ]
  },
  {
   "cell_type": "code",
   "execution_count": null,
   "id": "dfe70bba",
   "metadata": {},
   "outputs": [],
   "source": []
  }
 ],
 "metadata": {
  "kernelspec": {
   "display_name": "Python 3 (ipykernel)",
   "language": "python",
   "name": "python3"
  },
  "language_info": {
   "codemirror_mode": {
    "name": "ipython",
    "version": 3
   },
   "file_extension": ".py",
   "mimetype": "text/x-python",
   "name": "python",
   "nbconvert_exporter": "python",
   "pygments_lexer": "ipython3",
   "version": "3.9.7"
  }
 },
 "nbformat": 4,
 "nbformat_minor": 5
}
