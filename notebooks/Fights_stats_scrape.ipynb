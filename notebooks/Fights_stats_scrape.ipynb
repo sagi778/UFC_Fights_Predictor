{
 "cells": [
  {
   "cell_type": "code",
   "execution_count": 1,
   "id": "7cadd0e0",
   "metadata": {},
   "outputs": [],
   "source": [
    "import requests\n",
    "import pandas as pd\n",
    "import numpy as np\n",
    "from bs4 import BeautifulSoup\n",
    "from string import ascii_letters\n",
    "import re"
   ]
  },
  {
   "cell_type": "markdown",
   "id": "0fbd07ce",
   "metadata": {},
   "source": [
    "# <span style='color:green'> **[done]** </span> Functions setup\n",
    "* <span style='color:green'> **[done]** </span> get_columns(soup)\n",
    "\n",
    "* <span style='color:green'> **[done]** </span> get_fight_list(soup)\n",
    " \n",
    "* <span style='color:green'> **[done]** </span> get_links(soup) \n",
    " \n",
    "* <span style='color:green'> **[done]** </span> get_soup(url)\n",
    " \n",
    "* <span style='color:green'> **[done]** </span> get_row(rows_list, index = 0)\n",
    "\n",
    "* <span style='color:green'> **[done]** </span> get_date(soup)"
   ]
  },
  {
   "cell_type": "code",
   "execution_count": 2,
   "id": "a3848136",
   "metadata": {},
   "outputs": [],
   "source": [
    "def get_row(rows_list, date, index = 0):\n",
    "    \n",
    "    '''return array of single row data'''\n",
    "    \n",
    "    row_data = rows_list[index].find_all('p',{'class':'b-fight-details__table-text'})\n",
    "    \n",
    "    row = []\n",
    "    for index in range(0,len(row_data)):\n",
    "        row.append(row_data[index].text.strip())\n",
    "    row.append(date)\n",
    "    \n",
    "    if row[0] == 'win':\n",
    "        edited_row = [row[0],row[1]+':'+row[2], row[3]+':'+row[4],row[5]+':'+row[6],row[7]+':'+row[8],row[9]+':'+row[10],row[11],row[12]+':'+row[13],row[14],row[15],row[16]]\n",
    "    else:   \n",
    "        edited_row = [row[0]+':'+row[1],row[2]+':'+row[3],row[4]+':'+row[5],row[6]+':'+row[7],row[8]+':'+row[9],row[10]+':'+row[11],row[12],row[13]+':'+row[14],row[15],row[16],row[17]]\n",
    "        \n",
    "    return edited_row    "
   ]
  },
  {
   "cell_type": "code",
   "execution_count": 3,
   "id": "c97d7ffd",
   "metadata": {},
   "outputs": [],
   "source": [
    "def get_fight_list(soup):\n",
    "    \n",
    "    '''return html soup of fights list in certain page'''\n",
    "    \n",
    "    fights_list = soup.find_all('tr',{'class':'b-fight-details__table-row b-fight-details__table-row__hover js-fight-details-click'})\n",
    "    \n",
    "    return fights_list"
   ]
  },
  {
   "cell_type": "code",
   "execution_count": 4,
   "id": "192cdcf7",
   "metadata": {},
   "outputs": [],
   "source": [
    "def get_columns(soup):\n",
    "    \n",
    "    '''return list of columns'''\n",
    "    \n",
    "    column_items = soup.find_all('th',{'class':'b-fight-details__table-col'})\n",
    "    columns = []\n",
    "    for item in column_items:\n",
    "        columns.append(item.text.strip())\n",
    "          \n",
    "    return columns"
   ]
  },
  {
   "cell_type": "code",
   "execution_count": 5,
   "id": "80c49dcc",
   "metadata": {},
   "outputs": [],
   "source": [
    "def get_links(soup):\n",
    "    \n",
    "    '''return list of all page links'''\n",
    "    \n",
    "    url_links = soup.find_all('a', {'class':'b-link b-link_style_black'})\n",
    "    links = []\n",
    "\n",
    "    for item in url_links:\n",
    "        links.append( item['href'] )\n",
    "        \n",
    "    return np.unique(links)    "
   ]
  },
  {
   "cell_type": "code",
   "execution_count": 6,
   "id": "0858b2f6",
   "metadata": {},
   "outputs": [],
   "source": [
    "def get_soup(url, headers = {'User-Agent':'Mozilla/5.0 (Windows NT 10.0; Win64; x64) AppleWebKit/537.36 (KHTML, like Gecko) Chrome/103.0.0.0 Safari/537.36'}):\n",
    "    \n",
    "    '''set url page, \n",
    "    return soup as text'''\n",
    "    \n",
    "    try:\n",
    "        r = requests.get(url)\n",
    "        soup = BeautifulSoup(r.text, 'html.parser')\n",
    "    except:\n",
    "        print('Error on: ' + url) \n",
    "        return None\n",
    "    \n",
    "    return soup"
   ]
  },
  {
   "cell_type": "code",
   "execution_count": 7,
   "id": "21392a33",
   "metadata": {},
   "outputs": [],
   "source": [
    "def get_date(soup):\n",
    "    \n",
    "    '''return event date'''\n",
    "    \n",
    "    item = soup.find('li',{'class':'b-list__box-list-item'})\n",
    "    string = item.get_text().strip()\n",
    "    start = len('DATE:')\n",
    "    date = string[start:].strip()\n",
    "    \n",
    "    return date"
   ]
  },
  {
   "cell_type": "markdown",
   "id": "1cbe43ad",
   "metadata": {},
   "source": [
    "# <span style='color:green'> **[done]** </span> Main()"
   ]
  },
  {
   "cell_type": "markdown",
   "id": "480176c1",
   "metadata": {},
   "source": [
    "### <span style='color:green'> **[done]** </span> Extract column's names"
   ]
  },
  {
   "cell_type": "code",
   "execution_count": 8,
   "id": "e18a3545",
   "metadata": {},
   "outputs": [
    {
     "name": "stdout",
     "output_type": "stream",
     "text": [
      "['W/L', 'Fighter', 'Kd', 'Str', 'Td', 'Sub', 'Weight class', 'Method', 'Round', 'Time', 'date']\n"
     ]
    }
   ],
   "source": [
    "url = 'http://ufcstats.com/statistics/events/completed?page=all'\n",
    "soup = get_soup(url)\n",
    "links = get_links(get_soup(url))\n",
    "columns = get_columns(get_soup(links[0]))\n",
    "columns.extend(['date'])\n",
    "print(columns)"
   ]
  },
  {
   "cell_type": "markdown",
   "id": "79f0ac8a",
   "metadata": {},
   "source": [
    "### <span style='color:green'> **[done]** </span> construct Pandas DataFrame"
   ]
  },
  {
   "cell_type": "code",
   "execution_count": 9,
   "id": "fb8a6059",
   "metadata": {},
   "outputs": [
    {
     "data": {
      "text/html": [
       "<div>\n",
       "<style scoped>\n",
       "    .dataframe tbody tr th:only-of-type {\n",
       "        vertical-align: middle;\n",
       "    }\n",
       "\n",
       "    .dataframe tbody tr th {\n",
       "        vertical-align: top;\n",
       "    }\n",
       "\n",
       "    .dataframe thead th {\n",
       "        text-align: right;\n",
       "    }\n",
       "</style>\n",
       "<table border=\"1\" class=\"dataframe\">\n",
       "  <thead>\n",
       "    <tr style=\"text-align: right;\">\n",
       "      <th></th>\n",
       "      <th>W/L</th>\n",
       "      <th>Fighter</th>\n",
       "      <th>Kd</th>\n",
       "      <th>Str</th>\n",
       "      <th>Td</th>\n",
       "      <th>Sub</th>\n",
       "      <th>Weight class</th>\n",
       "      <th>Method</th>\n",
       "      <th>Round</th>\n",
       "      <th>Time</th>\n",
       "      <th>date</th>\n",
       "    </tr>\n",
       "  </thead>\n",
       "  <tbody>\n",
       "  </tbody>\n",
       "</table>\n",
       "</div>"
      ],
      "text/plain": [
       "Empty DataFrame\n",
       "Columns: [W/L, Fighter, Kd, Str, Td, Sub, Weight class, Method, Round, Time, date]\n",
       "Index: []"
      ]
     },
     "execution_count": 9,
     "metadata": {},
     "output_type": "execute_result"
    }
   ],
   "source": [
    "df = pd.DataFrame(columns = columns)\n",
    "df"
   ]
  },
  {
   "cell_type": "markdown",
   "id": "5ee81b77",
   "metadata": {},
   "source": [
    "### <span style='color:green'> **[done]** </span> adding data to DataFrame"
   ]
  },
  {
   "cell_type": "code",
   "execution_count": 10,
   "id": "7c01f8c8",
   "metadata": {},
   "outputs": [
    {
     "name": "stdout",
     "output_type": "stream",
     "text": [
      "Scraping page 633/633 => 99.8 % completed \r"
     ]
    }
   ],
   "source": [
    "current_page = 0\n",
    "\n",
    "for url in links: \n",
    "    \n",
    "    current_page += 1\n",
    "    fights_list = get_fight_list(get_soup(url))\n",
    "    event_date = get_date(get_soup(url))\n",
    "    \n",
    "    for index in range(0,len(fights_list)):\n",
    "        \n",
    "        percent = round(((current_page-1)/len(links)) * 100, 1)\n",
    "        print('Scraping page %d/%d => %s %% completed ' %(current_page, len(links), percent), end = '\\r')\n",
    "        row = get_row(fights_list, event_date, index)\n",
    "        df.loc[len(df)] = row"
   ]
  },
  {
   "cell_type": "code",
   "execution_count": 11,
   "id": "6f7aa778",
   "metadata": {},
   "outputs": [
    {
     "data": {
      "text/html": [
       "<div>\n",
       "<style scoped>\n",
       "    .dataframe tbody tr th:only-of-type {\n",
       "        vertical-align: middle;\n",
       "    }\n",
       "\n",
       "    .dataframe tbody tr th {\n",
       "        vertical-align: top;\n",
       "    }\n",
       "\n",
       "    .dataframe thead th {\n",
       "        text-align: right;\n",
       "    }\n",
       "</style>\n",
       "<table border=\"1\" class=\"dataframe\">\n",
       "  <thead>\n",
       "    <tr style=\"text-align: right;\">\n",
       "      <th></th>\n",
       "      <th>W/L</th>\n",
       "      <th>Fighter</th>\n",
       "      <th>Kd</th>\n",
       "      <th>Str</th>\n",
       "      <th>Td</th>\n",
       "      <th>Sub</th>\n",
       "      <th>Weight class</th>\n",
       "      <th>Method</th>\n",
       "      <th>Round</th>\n",
       "      <th>Time</th>\n",
       "      <th>date</th>\n",
       "    </tr>\n",
       "  </thead>\n",
       "  <tbody>\n",
       "    <tr>\n",
       "      <th>6971</th>\n",
       "      <td>win</td>\n",
       "      <td>Aleksandra Albu:Kailin Curran</td>\n",
       "      <td>0:0</td>\n",
       "      <td>82:86</td>\n",
       "      <td>5:1</td>\n",
       "      <td>0:0</td>\n",
       "      <td>Women's Strawweight</td>\n",
       "      <td>U-DEC:</td>\n",
       "      <td>3</td>\n",
       "      <td>5:00</td>\n",
       "      <td>July 29, 2017</td>\n",
       "    </tr>\n",
       "    <tr>\n",
       "      <th>6972</th>\n",
       "      <td>win</td>\n",
       "      <td>Jarred Brooks:Eric Shelton</td>\n",
       "      <td>0:0</td>\n",
       "      <td>27:31</td>\n",
       "      <td>5:1</td>\n",
       "      <td>1:1</td>\n",
       "      <td>Flyweight</td>\n",
       "      <td>S-DEC:</td>\n",
       "      <td>3</td>\n",
       "      <td>5:00</td>\n",
       "      <td>July 29, 2017</td>\n",
       "    </tr>\n",
       "    <tr>\n",
       "      <th>6973</th>\n",
       "      <td>win</td>\n",
       "      <td>Drew Dober:Joshua Burkman</td>\n",
       "      <td>1:0</td>\n",
       "      <td>15:11</td>\n",
       "      <td>0:0</td>\n",
       "      <td>0:0</td>\n",
       "      <td>Lightweight</td>\n",
       "      <td>KO/TKO:Punch</td>\n",
       "      <td>1</td>\n",
       "      <td>3:04</td>\n",
       "      <td>July 29, 2017</td>\n",
       "    </tr>\n",
       "  </tbody>\n",
       "</table>\n",
       "</div>"
      ],
      "text/plain": [
       "      W/L                        Fighter   Kd    Str   Td  Sub  \\\n",
       "6971  win  Aleksandra Albu:Kailin Curran  0:0  82:86  5:1  0:0   \n",
       "6972  win     Jarred Brooks:Eric Shelton  0:0  27:31  5:1  1:1   \n",
       "6973  win      Drew Dober:Joshua Burkman  1:0  15:11  0:0  0:0   \n",
       "\n",
       "             Weight class        Method Round  Time           date  \n",
       "6971  Women's Strawweight        U-DEC:     3  5:00  July 29, 2017  \n",
       "6972            Flyweight        S-DEC:     3  5:00  July 29, 2017  \n",
       "6973          Lightweight  KO/TKO:Punch     1  3:04  July 29, 2017  "
      ]
     },
     "execution_count": 11,
     "metadata": {},
     "output_type": "execute_result"
    }
   ],
   "source": [
    "df.tail(3)"
   ]
  },
  {
   "cell_type": "markdown",
   "id": "7a51039c",
   "metadata": {},
   "source": [
    "### <span style='color:green'> **[done]** </span> saving file"
   ]
  },
  {
   "cell_type": "code",
   "execution_count": 13,
   "id": "bcb1a9f6",
   "metadata": {},
   "outputs": [],
   "source": [
    "df.to_csv('../data/ufc_fights_stats.csv')"
   ]
  },
  {
   "cell_type": "markdown",
   "id": "9060b1a5",
   "metadata": {},
   "source": [
    "# >>>>>>>>>>>>>>>>>>>>>>>>>>>>>>>>>>>>>>>>>>>>>>>>>>>>>>>>>"
   ]
  }
 ],
 "metadata": {
  "kernelspec": {
   "display_name": "Python 3 (ipykernel)",
   "language": "python",
   "name": "python3"
  },
  "language_info": {
   "codemirror_mode": {
    "name": "ipython",
    "version": 3
   },
   "file_extension": ".py",
   "mimetype": "text/x-python",
   "name": "python",
   "nbconvert_exporter": "python",
   "pygments_lexer": "ipython3",
   "version": "3.9.7"
  }
 },
 "nbformat": 4,
 "nbformat_minor": 5
}
