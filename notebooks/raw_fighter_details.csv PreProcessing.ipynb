{
 "cells": [
  {
   "cell_type": "code",
   "execution_count": 1,
   "id": "4a2c9d83",
   "metadata": {},
   "outputs": [],
   "source": [
    "import pandas as pd\n",
    "from sklearn.model_selection import train_test_split\n",
    "from sklearn import metrics\n",
    "from sklearn.metrics import mean_squared_error\n",
    "import math\n",
    "import datetime as dt\n",
    "import numpy as np\n",
    "from bokeh.plotting import show\n",
    "from sklearn.linear_model import LinearRegression\n",
    "import matplotlib.pyplot as plt\n",
    "import seaborn as sns\n",
    "import statistics as stat\n",
    "\n",
    "sns.set_theme(style=\"whitegrid\")\n",
    "pd.set_option(\"display.max_columns\", None)"
   ]
  },
  {
   "cell_type": "code",
   "execution_count": 2,
   "id": "f349b626",
   "metadata": {},
   "outputs": [],
   "source": [
    "loc = 'https://raw.githubusercontent.com/sagi778/UFC_Card_Predictor/main/'\n",
    "\n",
    "file = 'raw_fighter_details.csv'"
   ]
  },
  {
   "cell_type": "code",
   "execution_count": 3,
   "id": "8ef0fd6d",
   "metadata": {},
   "outputs": [],
   "source": [
    "df = pd.read_csv(loc+file)"
   ]
  },
  {
   "cell_type": "markdown",
   "id": "9e212434",
   "metadata": {},
   "source": [
    "# Exploratory Data Analysis"
   ]
  },
  {
   "cell_type": "code",
   "execution_count": 4,
   "id": "6934596f",
   "metadata": {},
   "outputs": [
    {
     "data": {
      "text/html": [
       "<div>\n",
       "<style scoped>\n",
       "    .dataframe tbody tr th:only-of-type {\n",
       "        vertical-align: middle;\n",
       "    }\n",
       "\n",
       "    .dataframe tbody tr th {\n",
       "        vertical-align: top;\n",
       "    }\n",
       "\n",
       "    .dataframe thead th {\n",
       "        text-align: right;\n",
       "    }\n",
       "</style>\n",
       "<table border=\"1\" class=\"dataframe\">\n",
       "  <thead>\n",
       "    <tr style=\"text-align: right;\">\n",
       "      <th></th>\n",
       "      <th>fighter_name</th>\n",
       "      <th>Height</th>\n",
       "      <th>Weight</th>\n",
       "      <th>Reach</th>\n",
       "      <th>Stance</th>\n",
       "      <th>DOB</th>\n",
       "    </tr>\n",
       "  </thead>\n",
       "  <tbody>\n",
       "    <tr>\n",
       "      <th>0</th>\n",
       "      <td>AJ Fonseca</td>\n",
       "      <td>5' 4\"</td>\n",
       "      <td>145 lbs.</td>\n",
       "      <td>NaN</td>\n",
       "      <td>NaN</td>\n",
       "      <td>NaN</td>\n",
       "    </tr>\n",
       "    <tr>\n",
       "      <th>1</th>\n",
       "      <td>AJ Matthews</td>\n",
       "      <td>5' 11\"</td>\n",
       "      <td>185 lbs.</td>\n",
       "      <td>NaN</td>\n",
       "      <td>NaN</td>\n",
       "      <td>NaN</td>\n",
       "    </tr>\n",
       "    <tr>\n",
       "      <th>2</th>\n",
       "      <td>AJ McKee</td>\n",
       "      <td>5' 10\"</td>\n",
       "      <td>145 lbs.</td>\n",
       "      <td>NaN</td>\n",
       "      <td>NaN</td>\n",
       "      <td>NaN</td>\n",
       "    </tr>\n",
       "    <tr>\n",
       "      <th>3</th>\n",
       "      <td>AJ Siscoe</td>\n",
       "      <td>5' 7\"</td>\n",
       "      <td>135 lbs.</td>\n",
       "      <td>NaN</td>\n",
       "      <td>NaN</td>\n",
       "      <td>NaN</td>\n",
       "    </tr>\n",
       "    <tr>\n",
       "      <th>4</th>\n",
       "      <td>Aalon Cruz</td>\n",
       "      <td>6' 0\"</td>\n",
       "      <td>145 lbs.</td>\n",
       "      <td>NaN</td>\n",
       "      <td>NaN</td>\n",
       "      <td>NaN</td>\n",
       "    </tr>\n",
       "  </tbody>\n",
       "</table>\n",
       "</div>"
      ],
      "text/plain": [
       "  fighter_name  Height    Weight Reach Stance  DOB\n",
       "0   AJ Fonseca   5' 4\"  145 lbs.   NaN    NaN  NaN\n",
       "1  AJ Matthews  5' 11\"  185 lbs.   NaN    NaN  NaN\n",
       "2     AJ McKee  5' 10\"  145 lbs.   NaN    NaN  NaN\n",
       "3    AJ Siscoe   5' 7\"  135 lbs.   NaN    NaN  NaN\n",
       "4   Aalon Cruz   6' 0\"  145 lbs.   NaN    NaN  NaN"
      ]
     },
     "execution_count": 4,
     "metadata": {},
     "output_type": "execute_result"
    }
   ],
   "source": [
    "df.head()"
   ]
  },
  {
   "cell_type": "code",
   "execution_count": 5,
   "id": "f5a3a6ae",
   "metadata": {},
   "outputs": [
    {
     "data": {
      "text/plain": [
       "(3313, 6)"
      ]
     },
     "execution_count": 5,
     "metadata": {},
     "output_type": "execute_result"
    }
   ],
   "source": [
    "df.shape"
   ]
  },
  {
   "cell_type": "code",
   "execution_count": 6,
   "id": "279c724f",
   "metadata": {},
   "outputs": [
    {
     "name": "stdout",
     "output_type": "stream",
     "text": [
      "<class 'pandas.core.frame.DataFrame'>\n",
      "RangeIndex: 3313 entries, 0 to 3312\n",
      "Data columns (total 6 columns):\n",
      " #   Column        Non-Null Count  Dtype \n",
      "---  ------        --------------  ----- \n",
      " 0   fighter_name  3313 non-null   object\n",
      " 1   Height        3050 non-null   object\n",
      " 2   Weight        3238 non-null   object\n",
      " 3   Reach         1569 non-null   object\n",
      " 4   Stance        2439 non-null   object\n",
      " 5   DOB           2573 non-null   object\n",
      "dtypes: object(6)\n",
      "memory usage: 155.4+ KB\n"
     ]
    }
   ],
   "source": [
    "df.info()"
   ]
  },
  {
   "cell_type": "markdown",
   "id": "10d1044f",
   "metadata": {},
   "source": [
    "# features engineering"
   ]
  },
  {
   "cell_type": "code",
   "execution_count": 7,
   "id": "2bd0cbd8",
   "metadata": {},
   "outputs": [
    {
     "data": {
      "text/html": [
       "<div>\n",
       "<style scoped>\n",
       "    .dataframe tbody tr th:only-of-type {\n",
       "        vertical-align: middle;\n",
       "    }\n",
       "\n",
       "    .dataframe tbody tr th {\n",
       "        vertical-align: top;\n",
       "    }\n",
       "\n",
       "    .dataframe thead th {\n",
       "        text-align: right;\n",
       "    }\n",
       "</style>\n",
       "<table border=\"1\" class=\"dataframe\">\n",
       "  <thead>\n",
       "    <tr style=\"text-align: right;\">\n",
       "      <th></th>\n",
       "      <th>name</th>\n",
       "      <th>height</th>\n",
       "      <th>weight</th>\n",
       "      <th>reach</th>\n",
       "      <th>stance</th>\n",
       "      <th>age</th>\n",
       "    </tr>\n",
       "  </thead>\n",
       "  <tbody>\n",
       "    <tr>\n",
       "      <th>0</th>\n",
       "      <td>AJ Fonseca</td>\n",
       "      <td>5' 4\"</td>\n",
       "      <td>145 lbs.</td>\n",
       "      <td>NaN</td>\n",
       "      <td>NaN</td>\n",
       "      <td>NaN</td>\n",
       "    </tr>\n",
       "    <tr>\n",
       "      <th>1</th>\n",
       "      <td>AJ Matthews</td>\n",
       "      <td>5' 11\"</td>\n",
       "      <td>185 lbs.</td>\n",
       "      <td>NaN</td>\n",
       "      <td>NaN</td>\n",
       "      <td>NaN</td>\n",
       "    </tr>\n",
       "    <tr>\n",
       "      <th>2</th>\n",
       "      <td>AJ McKee</td>\n",
       "      <td>5' 10\"</td>\n",
       "      <td>145 lbs.</td>\n",
       "      <td>NaN</td>\n",
       "      <td>NaN</td>\n",
       "      <td>NaN</td>\n",
       "    </tr>\n",
       "    <tr>\n",
       "      <th>3</th>\n",
       "      <td>AJ Siscoe</td>\n",
       "      <td>5' 7\"</td>\n",
       "      <td>135 lbs.</td>\n",
       "      <td>NaN</td>\n",
       "      <td>NaN</td>\n",
       "      <td>NaN</td>\n",
       "    </tr>\n",
       "    <tr>\n",
       "      <th>4</th>\n",
       "      <td>Aalon Cruz</td>\n",
       "      <td>6' 0\"</td>\n",
       "      <td>145 lbs.</td>\n",
       "      <td>NaN</td>\n",
       "      <td>NaN</td>\n",
       "      <td>NaN</td>\n",
       "    </tr>\n",
       "  </tbody>\n",
       "</table>\n",
       "</div>"
      ],
      "text/plain": [
       "          name  height    weight reach stance  age\n",
       "0   AJ Fonseca   5' 4\"  145 lbs.   NaN    NaN  NaN\n",
       "1  AJ Matthews  5' 11\"  185 lbs.   NaN    NaN  NaN\n",
       "2     AJ McKee  5' 10\"  145 lbs.   NaN    NaN  NaN\n",
       "3    AJ Siscoe   5' 7\"  135 lbs.   NaN    NaN  NaN\n",
       "4   Aalon Cruz   6' 0\"  145 lbs.   NaN    NaN  NaN"
      ]
     },
     "execution_count": 7,
     "metadata": {},
     "output_type": "execute_result"
    }
   ],
   "source": [
    "df = df.rename(columns = {'fighter_name':'name','Height':'height','Weight':'weight','Reach':'reach','Stance':'stance','DOB':'age'})\n",
    "df.head(5)"
   ]
  },
  {
   "cell_type": "markdown",
   "id": "c0f987a8",
   "metadata": {},
   "source": [
    "### height > inch to cm"
   ]
  },
  {
   "cell_type": "code",
   "execution_count": 8,
   "id": "c8e4f8cc",
   "metadata": {},
   "outputs": [
    {
     "data": {
      "text/html": [
       "<div>\n",
       "<style scoped>\n",
       "    .dataframe tbody tr th:only-of-type {\n",
       "        vertical-align: middle;\n",
       "    }\n",
       "\n",
       "    .dataframe tbody tr th {\n",
       "        vertical-align: top;\n",
       "    }\n",
       "\n",
       "    .dataframe thead th {\n",
       "        text-align: right;\n",
       "    }\n",
       "</style>\n",
       "<table border=\"1\" class=\"dataframe\">\n",
       "  <thead>\n",
       "    <tr style=\"text-align: right;\">\n",
       "      <th></th>\n",
       "      <th>name</th>\n",
       "      <th>height</th>\n",
       "      <th>weight</th>\n",
       "      <th>reach</th>\n",
       "      <th>stance</th>\n",
       "      <th>age</th>\n",
       "    </tr>\n",
       "  </thead>\n",
       "  <tbody>\n",
       "    <tr>\n",
       "      <th>0</th>\n",
       "      <td>AJ Fonseca</td>\n",
       "      <td>162.56</td>\n",
       "      <td>145 lbs.</td>\n",
       "      <td>NaN</td>\n",
       "      <td>NaN</td>\n",
       "      <td>NaN</td>\n",
       "    </tr>\n",
       "    <tr>\n",
       "      <th>1</th>\n",
       "      <td>AJ Matthews</td>\n",
       "      <td>180.34</td>\n",
       "      <td>185 lbs.</td>\n",
       "      <td>NaN</td>\n",
       "      <td>NaN</td>\n",
       "      <td>NaN</td>\n",
       "    </tr>\n",
       "    <tr>\n",
       "      <th>2</th>\n",
       "      <td>AJ McKee</td>\n",
       "      <td>177.80</td>\n",
       "      <td>145 lbs.</td>\n",
       "      <td>NaN</td>\n",
       "      <td>NaN</td>\n",
       "      <td>NaN</td>\n",
       "    </tr>\n",
       "    <tr>\n",
       "      <th>3</th>\n",
       "      <td>AJ Siscoe</td>\n",
       "      <td>170.18</td>\n",
       "      <td>135 lbs.</td>\n",
       "      <td>NaN</td>\n",
       "      <td>NaN</td>\n",
       "      <td>NaN</td>\n",
       "    </tr>\n",
       "    <tr>\n",
       "      <th>4</th>\n",
       "      <td>Aalon Cruz</td>\n",
       "      <td>182.88</td>\n",
       "      <td>145 lbs.</td>\n",
       "      <td>NaN</td>\n",
       "      <td>NaN</td>\n",
       "      <td>NaN</td>\n",
       "    </tr>\n",
       "  </tbody>\n",
       "</table>\n",
       "</div>"
      ],
      "text/plain": [
       "          name  height    weight reach stance  age\n",
       "0   AJ Fonseca  162.56  145 lbs.   NaN    NaN  NaN\n",
       "1  AJ Matthews  180.34  185 lbs.   NaN    NaN  NaN\n",
       "2     AJ McKee  177.80  145 lbs.   NaN    NaN  NaN\n",
       "3    AJ Siscoe  170.18  135 lbs.   NaN    NaN  NaN\n",
       "4   Aalon Cruz  182.88  145 lbs.   NaN    NaN  NaN"
      ]
     },
     "execution_count": 8,
     "metadata": {},
     "output_type": "execute_result"
    }
   ],
   "source": [
    "df['height'] = df['height'].apply(lambda x: str(x) )\n",
    "df['height'] = df['height'].apply(lambda x: '0' if x == 'nan' else str(x))\n",
    "df['height'] = df['height'].apply(lambda x: 30.48*float(x[0]) if len(x) == 1 else 30.48*float(x[0])+ 2.54*float(x[x.find(\"'\")+1:x.find('\"')]) ) \n",
    "df.head()"
   ]
  },
  {
   "cell_type": "code",
   "execution_count": 9,
   "id": "c507d876",
   "metadata": {},
   "outputs": [],
   "source": [
    "height_list = df['height'][df['height']!=0.0]\n",
    "mean_height = np.round(np.mean(height_list),2)\n",
    "df['height'] = df['height'].apply(lambda x: mean_height if x==0.00 else x )"
   ]
  },
  {
   "cell_type": "markdown",
   "id": "7b53f2ed",
   "metadata": {},
   "source": [
    "### weight > lbs to kg"
   ]
  },
  {
   "cell_type": "code",
   "execution_count": 10,
   "id": "cdb747b4",
   "metadata": {},
   "outputs": [
    {
     "data": {
      "text/html": [
       "<div>\n",
       "<style scoped>\n",
       "    .dataframe tbody tr th:only-of-type {\n",
       "        vertical-align: middle;\n",
       "    }\n",
       "\n",
       "    .dataframe tbody tr th {\n",
       "        vertical-align: top;\n",
       "    }\n",
       "\n",
       "    .dataframe thead th {\n",
       "        text-align: right;\n",
       "    }\n",
       "</style>\n",
       "<table border=\"1\" class=\"dataframe\">\n",
       "  <thead>\n",
       "    <tr style=\"text-align: right;\">\n",
       "      <th></th>\n",
       "      <th>name</th>\n",
       "      <th>height</th>\n",
       "      <th>weight</th>\n",
       "      <th>reach</th>\n",
       "      <th>stance</th>\n",
       "      <th>age</th>\n",
       "    </tr>\n",
       "  </thead>\n",
       "  <tbody>\n",
       "    <tr>\n",
       "      <th>0</th>\n",
       "      <td>AJ Fonseca</td>\n",
       "      <td>162.56</td>\n",
       "      <td>65.25</td>\n",
       "      <td>NaN</td>\n",
       "      <td>NaN</td>\n",
       "      <td>NaN</td>\n",
       "    </tr>\n",
       "    <tr>\n",
       "      <th>1</th>\n",
       "      <td>AJ Matthews</td>\n",
       "      <td>180.34</td>\n",
       "      <td>83.25</td>\n",
       "      <td>NaN</td>\n",
       "      <td>NaN</td>\n",
       "      <td>NaN</td>\n",
       "    </tr>\n",
       "    <tr>\n",
       "      <th>2</th>\n",
       "      <td>AJ McKee</td>\n",
       "      <td>177.80</td>\n",
       "      <td>65.25</td>\n",
       "      <td>NaN</td>\n",
       "      <td>NaN</td>\n",
       "      <td>NaN</td>\n",
       "    </tr>\n",
       "    <tr>\n",
       "      <th>3</th>\n",
       "      <td>AJ Siscoe</td>\n",
       "      <td>170.18</td>\n",
       "      <td>60.75</td>\n",
       "      <td>NaN</td>\n",
       "      <td>NaN</td>\n",
       "      <td>NaN</td>\n",
       "    </tr>\n",
       "    <tr>\n",
       "      <th>4</th>\n",
       "      <td>Aalon Cruz</td>\n",
       "      <td>182.88</td>\n",
       "      <td>65.25</td>\n",
       "      <td>NaN</td>\n",
       "      <td>NaN</td>\n",
       "      <td>NaN</td>\n",
       "    </tr>\n",
       "  </tbody>\n",
       "</table>\n",
       "</div>"
      ],
      "text/plain": [
       "          name  height  weight reach stance  age\n",
       "0   AJ Fonseca  162.56   65.25   NaN    NaN  NaN\n",
       "1  AJ Matthews  180.34   83.25   NaN    NaN  NaN\n",
       "2     AJ McKee  177.80   65.25   NaN    NaN  NaN\n",
       "3    AJ Siscoe  170.18   60.75   NaN    NaN  NaN\n",
       "4   Aalon Cruz  182.88   65.25   NaN    NaN  NaN"
      ]
     },
     "execution_count": 10,
     "metadata": {},
     "output_type": "execute_result"
    }
   ],
   "source": [
    "df['weight'] = df['weight'].apply(lambda x: 0.45*float(str(x)[0:3]) )\n",
    "df.head()"
   ]
  },
  {
   "cell_type": "code",
   "execution_count": 11,
   "id": "3e999172",
   "metadata": {},
   "outputs": [],
   "source": [
    "mean_weight = np.round( np.mean(df['weight']) )\n",
    "df['weight'] = df['weight'].apply(lambda x: mean_weight if str(x)=='nan' else x )"
   ]
  },
  {
   "cell_type": "markdown",
   "id": "4cbb5c28",
   "metadata": {},
   "source": [
    "### reach > inch to cm"
   ]
  },
  {
   "cell_type": "code",
   "execution_count": 12,
   "id": "8c62f5a1",
   "metadata": {},
   "outputs": [
    {
     "data": {
      "text/plain": [
       "array([nan, '70\"', '69\"', '78\"', '73\"', '71\"', '76\"', '63\"', '81\"', '74\"',\n",
       "       '72\"', '68\"', '64\"', '77\"', '67\"', '80\"', '66\"', '65\"', '79\"',\n",
       "       '75\"', '82\"', '60\"', '83\"', '61\"', '62\"', '84\"'], dtype=object)"
      ]
     },
     "execution_count": 12,
     "metadata": {},
     "output_type": "execute_result"
    }
   ],
   "source": [
    "df.reach.unique()"
   ]
  },
  {
   "cell_type": "code",
   "execution_count": 13,
   "id": "c463daa4",
   "metadata": {},
   "outputs": [],
   "source": [
    "df['reach'] = df['reach'].apply( lambda x: str(x))\n",
    "df['reach'] = df['reach'].apply( lambda x: '00\"' if x=='nan' else x)\n",
    "df['reach'] = df['reach'].apply( lambda x: float(x[:x.find('\"')])*2.54 )"
   ]
  },
  {
   "cell_type": "code",
   "execution_count": 14,
   "id": "fd2398ef",
   "metadata": {},
   "outputs": [
    {
     "data": {
      "text/html": [
       "<div>\n",
       "<style scoped>\n",
       "    .dataframe tbody tr th:only-of-type {\n",
       "        vertical-align: middle;\n",
       "    }\n",
       "\n",
       "    .dataframe tbody tr th {\n",
       "        vertical-align: top;\n",
       "    }\n",
       "\n",
       "    .dataframe thead th {\n",
       "        text-align: right;\n",
       "    }\n",
       "</style>\n",
       "<table border=\"1\" class=\"dataframe\">\n",
       "  <thead>\n",
       "    <tr style=\"text-align: right;\">\n",
       "      <th></th>\n",
       "      <th>name</th>\n",
       "      <th>height</th>\n",
       "      <th>weight</th>\n",
       "      <th>reach</th>\n",
       "      <th>stance</th>\n",
       "      <th>age</th>\n",
       "    </tr>\n",
       "  </thead>\n",
       "  <tbody>\n",
       "    <tr>\n",
       "      <th>3308</th>\n",
       "      <td>Zelim Imadaev</td>\n",
       "      <td>182.88</td>\n",
       "      <td>76.50</td>\n",
       "      <td>193.04</td>\n",
       "      <td>Orthodox</td>\n",
       "      <td>Jan 25, 1995</td>\n",
       "    </tr>\n",
       "    <tr>\n",
       "      <th>3309</th>\n",
       "      <td>Zhang Lipeng</td>\n",
       "      <td>180.34</td>\n",
       "      <td>69.75</td>\n",
       "      <td>180.34</td>\n",
       "      <td>Southpaw</td>\n",
       "      <td>Mar 10, 1990</td>\n",
       "    </tr>\n",
       "    <tr>\n",
       "      <th>3310</th>\n",
       "      <td>Zoila Frausto</td>\n",
       "      <td>162.56</td>\n",
       "      <td>60.75</td>\n",
       "      <td>0.00</td>\n",
       "      <td>Orthodox</td>\n",
       "      <td>NaN</td>\n",
       "    </tr>\n",
       "    <tr>\n",
       "      <th>3311</th>\n",
       "      <td>Zu Anyanwu</td>\n",
       "      <td>185.42</td>\n",
       "      <td>112.95</td>\n",
       "      <td>195.58</td>\n",
       "      <td>Orthodox</td>\n",
       "      <td>Aug 05, 1981</td>\n",
       "    </tr>\n",
       "    <tr>\n",
       "      <th>3312</th>\n",
       "      <td>Zubaira Tukhugov</td>\n",
       "      <td>172.72</td>\n",
       "      <td>65.25</td>\n",
       "      <td>172.72</td>\n",
       "      <td>Orthodox</td>\n",
       "      <td>Jan 15, 1991</td>\n",
       "    </tr>\n",
       "  </tbody>\n",
       "</table>\n",
       "</div>"
      ],
      "text/plain": [
       "                  name  height  weight   reach    stance           age\n",
       "3308     Zelim Imadaev  182.88   76.50  193.04  Orthodox  Jan 25, 1995\n",
       "3309      Zhang Lipeng  180.34   69.75  180.34  Southpaw  Mar 10, 1990\n",
       "3310     Zoila Frausto  162.56   60.75    0.00  Orthodox           NaN\n",
       "3311        Zu Anyanwu  185.42  112.95  195.58  Orthodox  Aug 05, 1981\n",
       "3312  Zubaira Tukhugov  172.72   65.25  172.72  Orthodox  Jan 15, 1991"
      ]
     },
     "execution_count": 14,
     "metadata": {},
     "output_type": "execute_result"
    }
   ],
   "source": [
    "df.tail()"
   ]
  },
  {
   "cell_type": "markdown",
   "id": "0144350a",
   "metadata": {},
   "source": [
    "#### replacing null values with height:"
   ]
  },
  {
   "cell_type": "code",
   "execution_count": 15,
   "id": "c8cd09e4",
   "metadata": {},
   "outputs": [],
   "source": [
    "for i in range(0,len(df)):\n",
    "    if( df.loc[i,'reach']==0.00 or df.loc[i,'reach']=='nan' ):\n",
    "        df.loc[i,'reach'] = df.loc[i,'height'] "
   ]
  },
  {
   "cell_type": "code",
   "execution_count": 16,
   "id": "f48afd50",
   "metadata": {},
   "outputs": [
    {
     "data": {
      "text/html": [
       "<div>\n",
       "<style scoped>\n",
       "    .dataframe tbody tr th:only-of-type {\n",
       "        vertical-align: middle;\n",
       "    }\n",
       "\n",
       "    .dataframe tbody tr th {\n",
       "        vertical-align: top;\n",
       "    }\n",
       "\n",
       "    .dataframe thead th {\n",
       "        text-align: right;\n",
       "    }\n",
       "</style>\n",
       "<table border=\"1\" class=\"dataframe\">\n",
       "  <thead>\n",
       "    <tr style=\"text-align: right;\">\n",
       "      <th></th>\n",
       "      <th>name</th>\n",
       "      <th>height</th>\n",
       "      <th>weight</th>\n",
       "      <th>reach</th>\n",
       "      <th>stance</th>\n",
       "      <th>age</th>\n",
       "    </tr>\n",
       "  </thead>\n",
       "  <tbody>\n",
       "    <tr>\n",
       "      <th>3303</th>\n",
       "      <td>Zak Cummings</td>\n",
       "      <td>182.88</td>\n",
       "      <td>83.25</td>\n",
       "      <td>190.50</td>\n",
       "      <td>Southpaw</td>\n",
       "      <td>Aug 02, 1984</td>\n",
       "    </tr>\n",
       "    <tr>\n",
       "      <th>3304</th>\n",
       "      <td>Zak Ottow</td>\n",
       "      <td>180.34</td>\n",
       "      <td>76.50</td>\n",
       "      <td>182.88</td>\n",
       "      <td>Orthodox</td>\n",
       "      <td>Dec 22, 1986</td>\n",
       "    </tr>\n",
       "    <tr>\n",
       "      <th>3305</th>\n",
       "      <td>Zane Frazier</td>\n",
       "      <td>195.58</td>\n",
       "      <td>112.50</td>\n",
       "      <td>195.58</td>\n",
       "      <td>Orthodox</td>\n",
       "      <td>NaN</td>\n",
       "    </tr>\n",
       "    <tr>\n",
       "      <th>3306</th>\n",
       "      <td>Zarah Fairn dos Santos</td>\n",
       "      <td>177.80</td>\n",
       "      <td>65.25</td>\n",
       "      <td>177.80</td>\n",
       "      <td>NaN</td>\n",
       "      <td>Dec 12, 1986</td>\n",
       "    </tr>\n",
       "    <tr>\n",
       "      <th>3307</th>\n",
       "      <td>Zelg Galesic</td>\n",
       "      <td>187.96</td>\n",
       "      <td>83.25</td>\n",
       "      <td>187.96</td>\n",
       "      <td>Orthodox</td>\n",
       "      <td>Feb 16, 1979</td>\n",
       "    </tr>\n",
       "    <tr>\n",
       "      <th>3308</th>\n",
       "      <td>Zelim Imadaev</td>\n",
       "      <td>182.88</td>\n",
       "      <td>76.50</td>\n",
       "      <td>193.04</td>\n",
       "      <td>Orthodox</td>\n",
       "      <td>Jan 25, 1995</td>\n",
       "    </tr>\n",
       "    <tr>\n",
       "      <th>3309</th>\n",
       "      <td>Zhang Lipeng</td>\n",
       "      <td>180.34</td>\n",
       "      <td>69.75</td>\n",
       "      <td>180.34</td>\n",
       "      <td>Southpaw</td>\n",
       "      <td>Mar 10, 1990</td>\n",
       "    </tr>\n",
       "    <tr>\n",
       "      <th>3310</th>\n",
       "      <td>Zoila Frausto</td>\n",
       "      <td>162.56</td>\n",
       "      <td>60.75</td>\n",
       "      <td>162.56</td>\n",
       "      <td>Orthodox</td>\n",
       "      <td>NaN</td>\n",
       "    </tr>\n",
       "    <tr>\n",
       "      <th>3311</th>\n",
       "      <td>Zu Anyanwu</td>\n",
       "      <td>185.42</td>\n",
       "      <td>112.95</td>\n",
       "      <td>195.58</td>\n",
       "      <td>Orthodox</td>\n",
       "      <td>Aug 05, 1981</td>\n",
       "    </tr>\n",
       "    <tr>\n",
       "      <th>3312</th>\n",
       "      <td>Zubaira Tukhugov</td>\n",
       "      <td>172.72</td>\n",
       "      <td>65.25</td>\n",
       "      <td>172.72</td>\n",
       "      <td>Orthodox</td>\n",
       "      <td>Jan 15, 1991</td>\n",
       "    </tr>\n",
       "  </tbody>\n",
       "</table>\n",
       "</div>"
      ],
      "text/plain": [
       "                        name  height  weight   reach    stance           age\n",
       "3303            Zak Cummings  182.88   83.25  190.50  Southpaw  Aug 02, 1984\n",
       "3304               Zak Ottow  180.34   76.50  182.88  Orthodox  Dec 22, 1986\n",
       "3305            Zane Frazier  195.58  112.50  195.58  Orthodox           NaN\n",
       "3306  Zarah Fairn dos Santos  177.80   65.25  177.80       NaN  Dec 12, 1986\n",
       "3307            Zelg Galesic  187.96   83.25  187.96  Orthodox  Feb 16, 1979\n",
       "3308           Zelim Imadaev  182.88   76.50  193.04  Orthodox  Jan 25, 1995\n",
       "3309            Zhang Lipeng  180.34   69.75  180.34  Southpaw  Mar 10, 1990\n",
       "3310           Zoila Frausto  162.56   60.75  162.56  Orthodox           NaN\n",
       "3311              Zu Anyanwu  185.42  112.95  195.58  Orthodox  Aug 05, 1981\n",
       "3312        Zubaira Tukhugov  172.72   65.25  172.72  Orthodox  Jan 15, 1991"
      ]
     },
     "execution_count": 16,
     "metadata": {},
     "output_type": "execute_result"
    }
   ],
   "source": [
    "df.tail(10)  "
   ]
  },
  {
   "cell_type": "markdown",
   "id": "abeed7a1",
   "metadata": {},
   "source": [
    "### stance"
   ]
  },
  {
   "cell_type": "code",
   "execution_count": 17,
   "id": "dd559926",
   "metadata": {},
   "outputs": [
    {
     "data": {
      "text/plain": [
       "array([nan, 'Orthodox', 'Southpaw', 'Switch', 'Open Stance', 'Sideways'],\n",
       "      dtype=object)"
      ]
     },
     "execution_count": 17,
     "metadata": {},
     "output_type": "execute_result"
    }
   ],
   "source": [
    "df.stance.unique()"
   ]
  },
  {
   "cell_type": "code",
   "execution_count": 18,
   "id": "d7f2992a",
   "metadata": {},
   "outputs": [
    {
     "name": "stdout",
     "output_type": "stream",
     "text": [
      "Most common stance:\n"
     ]
    },
    {
     "data": {
      "image/png": "[encoded data removed]",
      "text/plain": [
       "<Figure size 432x288 with 1 Axes>"
      ]
     },
     "metadata": {},
     "output_type": "display_data"
    }
   ],
   "source": [
    "print('Most common stance:')\n",
    "ax = sns.histplot(x=df[\"stance\"])"
   ]
  },
  {
   "cell_type": "markdown",
   "id": "080ed992",
   "metadata": {},
   "source": [
    "#### replacing null with 'Orthodox'(= most common stance)"
   ]
  },
  {
   "cell_type": "code",
   "execution_count": 19,
   "id": "79e4dbe0",
   "metadata": {},
   "outputs": [],
   "source": [
    "df['stance'] = df['stance'].apply(lambda x: 'Orthodox' if str(x)=='nan' else x )"
   ]
  },
  {
   "cell_type": "markdown",
   "id": "67c844d6",
   "metadata": {},
   "source": [
    "### age"
   ]
  },
  {
   "cell_type": "code",
   "execution_count": 20,
   "id": "61c69549",
   "metadata": {},
   "outputs": [
    {
     "data": {
      "text/plain": [
       "array([nan, 'Nov 12, 1974', 'Mar 18, 1989', ..., 'Feb 16, 1979',\n",
       "       'Jan 25, 1995', 'Aug 05, 1981'], dtype=object)"
      ]
     },
     "execution_count": 20,
     "metadata": {},
     "output_type": "execute_result"
    }
   ],
   "source": [
    "df.age.unique()"
   ]
  },
  {
   "cell_type": "code",
   "execution_count": 21,
   "id": "887ddede",
   "metadata": {},
   "outputs": [
    {
     "data": {
      "text/html": [
       "<div>\n",
       "<style scoped>\n",
       "    .dataframe tbody tr th:only-of-type {\n",
       "        vertical-align: middle;\n",
       "    }\n",
       "\n",
       "    .dataframe tbody tr th {\n",
       "        vertical-align: top;\n",
       "    }\n",
       "\n",
       "    .dataframe thead th {\n",
       "        text-align: right;\n",
       "    }\n",
       "</style>\n",
       "<table border=\"1\" class=\"dataframe\">\n",
       "  <thead>\n",
       "    <tr style=\"text-align: right;\">\n",
       "      <th></th>\n",
       "      <th>name</th>\n",
       "      <th>height</th>\n",
       "      <th>weight</th>\n",
       "      <th>reach</th>\n",
       "      <th>stance</th>\n",
       "      <th>age</th>\n",
       "    </tr>\n",
       "  </thead>\n",
       "  <tbody>\n",
       "    <tr>\n",
       "      <th>0</th>\n",
       "      <td>AJ Fonseca</td>\n",
       "      <td>162.56</td>\n",
       "      <td>65.25</td>\n",
       "      <td>162.56</td>\n",
       "      <td>Orthodox</td>\n",
       "      <td>n</td>\n",
       "    </tr>\n",
       "    <tr>\n",
       "      <th>1</th>\n",
       "      <td>AJ Matthews</td>\n",
       "      <td>180.34</td>\n",
       "      <td>83.25</td>\n",
       "      <td>180.34</td>\n",
       "      <td>Orthodox</td>\n",
       "      <td>n</td>\n",
       "    </tr>\n",
       "    <tr>\n",
       "      <th>2</th>\n",
       "      <td>AJ McKee</td>\n",
       "      <td>177.80</td>\n",
       "      <td>65.25</td>\n",
       "      <td>177.80</td>\n",
       "      <td>Orthodox</td>\n",
       "      <td>n</td>\n",
       "    </tr>\n",
       "    <tr>\n",
       "      <th>3</th>\n",
       "      <td>AJ Siscoe</td>\n",
       "      <td>170.18</td>\n",
       "      <td>60.75</td>\n",
       "      <td>170.18</td>\n",
       "      <td>Orthodox</td>\n",
       "      <td>n</td>\n",
       "    </tr>\n",
       "    <tr>\n",
       "      <th>4</th>\n",
       "      <td>Aalon Cruz</td>\n",
       "      <td>182.88</td>\n",
       "      <td>65.25</td>\n",
       "      <td>182.88</td>\n",
       "      <td>Orthodox</td>\n",
       "      <td>n</td>\n",
       "    </tr>\n",
       "  </tbody>\n",
       "</table>\n",
       "</div>"
      ],
      "text/plain": [
       "          name  height  weight   reach    stance age\n",
       "0   AJ Fonseca  162.56   65.25  162.56  Orthodox   n\n",
       "1  AJ Matthews  180.34   83.25  180.34  Orthodox   n\n",
       "2     AJ McKee  177.80   65.25  177.80  Orthodox   n\n",
       "3    AJ Siscoe  170.18   60.75  170.18  Orthodox   n\n",
       "4   Aalon Cruz  182.88   65.25  182.88  Orthodox   n"
      ]
     },
     "execution_count": 21,
     "metadata": {},
     "output_type": "execute_result"
    }
   ],
   "source": [
    "df.age = df.age.apply(lambda x: str(x))\n",
    "df.age = df.age.apply(lambda x: x[len(x)-4:len(x)])\n",
    "df.head()"
   ]
  },
  {
   "cell_type": "code",
   "execution_count": 22,
   "id": "435e2bd6",
   "metadata": {},
   "outputs": [
    {
     "data": {
      "text/plain": [
       "array(['1974', '1989', '1992', '1986', '1980', '1983', '1987', '1985',\n",
       "       '1991', '1982', '1978', '1984', '1988', '1963', '1981', '1976',\n",
       "       '1979', '1995', '1977', '1996', '1990', '1993', '1971', '1970',\n",
       "       '1994', '1975', '1967', '1965', '1972', '1968', '1969', '1964',\n",
       "       '1973', '1954', '1997', '1999', '1958', '1960', '1966', '1959',\n",
       "       '1962', '1961', '1998', '1943', '1956'], dtype=object)"
      ]
     },
     "execution_count": 22,
     "metadata": {},
     "output_type": "execute_result"
    }
   ],
   "source": [
    "age_list = df.age[df.age!='n']\n",
    "age_list.unique()"
   ]
  },
  {
   "cell_type": "code",
   "execution_count": 23,
   "id": "c48b4281",
   "metadata": {},
   "outputs": [
    {
     "name": "stdout",
     "output_type": "stream",
     "text": [
      "Most common age for fighters:\n"
     ]
    },
    {
     "data": {
      "image/png": "[encoded data removed]",
      "text/plain": [
       "<Figure size 864x360 with 1 Axes>"
      ]
     },
     "metadata": {},
     "output_type": "display_data"
    }
   ],
   "source": [
    "print('Most common age for fighters:')\n",
    "plt.figure(figsize=(12,5))\n",
    "ax = sns.histplot(x=df[\"age\"])"
   ]
  },
  {
   "cell_type": "markdown",
   "id": "bdbdb55c",
   "metadata": {},
   "source": [
    "#### possible mistake at 1982/40 yo - will fill null with \"median\""
   ]
  },
  {
   "cell_type": "code",
   "execution_count": 24,
   "id": "b2eeb16a",
   "metadata": {},
   "outputs": [
    {
     "data": {
      "text/plain": [
       "1984"
      ]
     },
     "execution_count": 24,
     "metadata": {},
     "output_type": "execute_result"
    }
   ],
   "source": [
    "age_list = age_list.astype(int)\n",
    "year_of_birth_median = int(np.median(age_list))\n",
    "year_of_birth_median"
   ]
  },
  {
   "cell_type": "markdown",
   "id": "d4a3d661",
   "metadata": {},
   "source": [
    "#### replacing null with most common age:"
   ]
  },
  {
   "cell_type": "code",
   "execution_count": 25,
   "id": "277d5173",
   "metadata": {},
   "outputs": [
    {
     "data": {
      "text/html": [
       "<div>\n",
       "<style scoped>\n",
       "    .dataframe tbody tr th:only-of-type {\n",
       "        vertical-align: middle;\n",
       "    }\n",
       "\n",
       "    .dataframe tbody tr th {\n",
       "        vertical-align: top;\n",
       "    }\n",
       "\n",
       "    .dataframe thead th {\n",
       "        text-align: right;\n",
       "    }\n",
       "</style>\n",
       "<table border=\"1\" class=\"dataframe\">\n",
       "  <thead>\n",
       "    <tr style=\"text-align: right;\">\n",
       "      <th></th>\n",
       "      <th>name</th>\n",
       "      <th>height</th>\n",
       "      <th>weight</th>\n",
       "      <th>reach</th>\n",
       "      <th>stance</th>\n",
       "      <th>age</th>\n",
       "    </tr>\n",
       "  </thead>\n",
       "  <tbody>\n",
       "    <tr>\n",
       "      <th>0</th>\n",
       "      <td>AJ Fonseca</td>\n",
       "      <td>162.56</td>\n",
       "      <td>65.25</td>\n",
       "      <td>162.56</td>\n",
       "      <td>Orthodox</td>\n",
       "      <td>38</td>\n",
       "    </tr>\n",
       "    <tr>\n",
       "      <th>1</th>\n",
       "      <td>AJ Matthews</td>\n",
       "      <td>180.34</td>\n",
       "      <td>83.25</td>\n",
       "      <td>180.34</td>\n",
       "      <td>Orthodox</td>\n",
       "      <td>38</td>\n",
       "    </tr>\n",
       "    <tr>\n",
       "      <th>2</th>\n",
       "      <td>AJ McKee</td>\n",
       "      <td>177.80</td>\n",
       "      <td>65.25</td>\n",
       "      <td>177.80</td>\n",
       "      <td>Orthodox</td>\n",
       "      <td>38</td>\n",
       "    </tr>\n",
       "    <tr>\n",
       "      <th>3</th>\n",
       "      <td>AJ Siscoe</td>\n",
       "      <td>170.18</td>\n",
       "      <td>60.75</td>\n",
       "      <td>170.18</td>\n",
       "      <td>Orthodox</td>\n",
       "      <td>38</td>\n",
       "    </tr>\n",
       "    <tr>\n",
       "      <th>4</th>\n",
       "      <td>Aalon Cruz</td>\n",
       "      <td>182.88</td>\n",
       "      <td>65.25</td>\n",
       "      <td>182.88</td>\n",
       "      <td>Orthodox</td>\n",
       "      <td>38</td>\n",
       "    </tr>\n",
       "  </tbody>\n",
       "</table>\n",
       "</div>"
      ],
      "text/plain": [
       "          name  height  weight   reach    stance  age\n",
       "0   AJ Fonseca  162.56   65.25  162.56  Orthodox   38\n",
       "1  AJ Matthews  180.34   83.25  180.34  Orthodox   38\n",
       "2     AJ McKee  177.80   65.25  177.80  Orthodox   38\n",
       "3    AJ Siscoe  170.18   60.75  170.18  Orthodox   38\n",
       "4   Aalon Cruz  182.88   65.25  182.88  Orthodox   38"
      ]
     },
     "execution_count": 25,
     "metadata": {},
     "output_type": "execute_result"
    }
   ],
   "source": [
    "from datetime import date,timedelta\n",
    "current_date = date.today().year\n",
    "\n",
    "df['age'] = df['age'].apply(lambda x: str(year_of_birth_median) if str(x)=='n' else x )\n",
    "df['age'] = df['age'].apply(lambda x: current_date - int(x))\n",
    "df.head()"
   ]
  },
  {
   "cell_type": "code",
   "execution_count": null,
   "id": "082ffecf",
   "metadata": {},
   "outputs": [],
   "source": []
  }
 ],
 "metadata": {
  "kernelspec": {
   "display_name": "Python 3 (ipykernel)",
   "language": "python",
   "name": "python3"
  },
  "language_info": {
   "codemirror_mode": {
    "name": "ipython",
    "version": 3
   },
   "file_extension": ".py",
   "mimetype": "text/x-python",
   "name": "python",
   "nbconvert_exporter": "python",
   "pygments_lexer": "ipython3",
   "version": "3.9.7"
  }
 },
 "nbformat": 4,
 "nbformat_minor": 5
}
