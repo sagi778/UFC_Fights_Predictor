{
 "cells": [
  {
   "cell_type": "code",
   "execution_count": 9,
   "id": "5ef87bd8",
   "metadata": {
    "tags": []
   },
   "outputs": [
    {
     "name": "stdout",
     "output_type": "stream",
     "text": [
      "imports loaded.\n",
      "get_height(item)\n",
      "get_weight(item)\n",
      "get_reach(item)\n",
      "get_std_reach(item, height, reach_list, height_list)\n",
      "get_age(item)\n",
      "get_std_age(item, age_list)\n",
      "get_win_perc(name, date, df)\n",
      "get_lose_streak_data_frame(name, date, df)\n",
      "get_win_streak_data_frame(name, date, df)\n",
      "get_streak_data_frame(name, date, df)\n",
      "get_win_streak(name, date, df)\n",
      "get_lose_streak(name, date, df)\n",
      "get_fighter_stats(name, data )\n",
      "add_columns(data, column_list)\n",
      "get_stat(index, data, stat='height', fo='')\n",
      "get_swaped_row(index, data)\n",
      "get_wins(combo, data)\n",
      "get_wins_ratio(combo, data)\n",
      "get_r_score(X, y)\n",
      "get_sig_features(data, sig_r)\n",
      "set_train_test(X_columns, y_columns, data, test_size=0.3, valid_size=0.3)\n",
      "set_knn_reg(X_columns, y_columns, data, n=10)\n",
      "set_predictions(model, data, X_columns, y_columns)\n",
      "get_rmse(act, pred)\n",
      "set_desicion_tree_clf(X_columns, y_columns, data, tree_depth)\n",
      "set_forest_clf(X_columns, y_columns, n_estimators, tree_depth, data)\n",
      "get_accuracy(act, pred)\n",
      "get_fighters_stats(fighter, opponent, data)\n",
      "set_new_fight(fighter, opponent, data)\n",
      "get_current_date()\n",
      "get_win_perc(fighter, data)\n",
      "get_lose_streak(fighter, data)\n",
      "get_win_streak(fighter, data)\n",
      "get_td_avg(fighter, data)\n",
      "get_sub_avg(fighter, data)\n",
      "get_sapm(fighter, data)\n",
      "get_slpm(fighter, data)\n"
     ]
    }
   ],
   "source": [
    "%run func_def.ipynb"
   ]
  },
  {
   "cell_type": "markdown",
   "id": "99aa9004-9dd7-4542-a065-ea83ff094deb",
   "metadata": {
    "tags": []
   },
   "source": [
    "# <span style='color:green'> [done] </span> Loading data frames:"
   ]
  },
  {
   "cell_type": "code",
   "execution_count": 25,
   "id": "450f21d9-b08d-413f-a2f5-97b76d5c4339",
   "metadata": {},
   "outputs": [
    {
     "data": {
      "text/html": [
       "<div>\n",
       "<style scoped>\n",
       "    .dataframe tbody tr th:only-of-type {\n",
       "        vertical-align: middle;\n",
       "    }\n",
       "\n",
       "    .dataframe tbody tr th {\n",
       "        vertical-align: top;\n",
       "    }\n",
       "\n",
       "    .dataframe thead th {\n",
       "        text-align: right;\n",
       "    }\n",
       "</style>\n",
       "<table border=\"1\" class=\"dataframe\">\n",
       "  <thead>\n",
       "    <tr style=\"text-align: right;\">\n",
       "      <th></th>\n",
       "      <th>set</th>\n",
       "      <th>stance_win_ratio</th>\n",
       "      <th>win_perc_dif</th>\n",
       "      <th>win_strk_dif</th>\n",
       "      <th>lose_strk_dif</th>\n",
       "      <th>kd_dif</th>\n",
       "      <th>str_dif</th>\n",
       "      <th>td_dif</th>\n",
       "      <th>sub_dif</th>\n",
       "      <th>result</th>\n",
       "      <th>result_pred</th>\n",
       "    </tr>\n",
       "  </thead>\n",
       "  <tbody>\n",
       "    <tr>\n",
       "      <th>6487</th>\n",
       "      <td>train</td>\n",
       "      <td>-0.160261</td>\n",
       "      <td>-2.063384</td>\n",
       "      <td>-0.575708</td>\n",
       "      <td>2.156259</td>\n",
       "      <td>-0.000995</td>\n",
       "      <td>0.126491</td>\n",
       "      <td>-1.597572</td>\n",
       "      <td>-0.013366</td>\n",
       "      <td>lose</td>\n",
       "      <td>lose</td>\n",
       "    </tr>\n",
       "    <tr>\n",
       "      <th>6488</th>\n",
       "      <td>train</td>\n",
       "      <td>2.207079</td>\n",
       "      <td>-0.016271</td>\n",
       "      <td>-0.004540</td>\n",
       "      <td>-1.072901</td>\n",
       "      <td>-0.000995</td>\n",
       "      <td>-0.174504</td>\n",
       "      <td>1.558550</td>\n",
       "      <td>-0.013366</td>\n",
       "      <td>win</td>\n",
       "      <td>win</td>\n",
       "    </tr>\n",
       "    <tr>\n",
       "      <th>6489</th>\n",
       "      <td>train</td>\n",
       "      <td>1.461511</td>\n",
       "      <td>0.111674</td>\n",
       "      <td>-0.004540</td>\n",
       "      <td>-2.149288</td>\n",
       "      <td>1.351338</td>\n",
       "      <td>0.126491</td>\n",
       "      <td>-0.019511</td>\n",
       "      <td>-0.013366</td>\n",
       "      <td>win</td>\n",
       "      <td>win</td>\n",
       "    </tr>\n",
       "  </tbody>\n",
       "</table>\n",
       "</div>"
      ],
      "text/plain": [
       "        set  stance_win_ratio  win_perc_dif  win_strk_dif  lose_strk_dif  \\\n",
       "6487  train         -0.160261     -2.063384     -0.575708       2.156259   \n",
       "6488  train          2.207079     -0.016271     -0.004540      -1.072901   \n",
       "6489  train          1.461511      0.111674     -0.004540      -2.149288   \n",
       "\n",
       "        kd_dif   str_dif    td_dif   sub_dif result result_pred  \n",
       "6487 -0.000995  0.126491 -1.597572 -0.013366   lose        lose  \n",
       "6488 -0.000995 -0.174504  1.558550 -0.013366    win         win  \n",
       "6489  1.351338  0.126491 -0.019511 -0.013366    win         win  "
      ]
     },
     "execution_count": 25,
     "metadata": {},
     "output_type": "execute_result"
    }
   ],
   "source": [
    "loc = '../data/'\n",
    "file = 'ufc_data_trained.csv'\n",
    "data = pd.read_csv(loc+file)\n",
    "data = data[data.columns[1:]]\n",
    "data.tail(3)"
   ]
  },
  {
   "cell_type": "code",
   "execution_count": null,
   "id": "909b1990-8d17-4200-b351-cf3e98e05491",
   "metadata": {},
   "outputs": [],
   "source": [
    "fighter = 'Kelvin Gastelum'\n",
    "opponent = 'Nassourdine Imavov'\n",
    "df = pd.concat([df,set_new_fight(fighter=fighter, opponent=opponent, data=df)], ignore_index=True)\n",
    "df.tail(1)"
   ]
  },
  {
   "cell_type": "markdown",
   "id": "78ad41cc",
   "metadata": {
    "tags": []
   },
   "source": [
    "## <span style='color:green'> [done] </span> Load fighters data_frame:"
   ]
  },
  {
   "cell_type": "code",
   "execution_count": 10,
   "id": "65a41973-3033-4b59-b2cb-bb4193ca4cfd",
   "metadata": {},
   "outputs": [
    {
     "name": "stdout",
     "output_type": "stream",
     "text": [
      "Data Frame loaded: (11198, 17)\n"
     ]
    },
    {
     "data": {
      "text/html": [
       "<div>\n",
       "<style scoped>\n",
       "    .dataframe tbody tr th:only-of-type {\n",
       "        vertical-align: middle;\n",
       "    }\n",
       "\n",
       "    .dataframe tbody tr th {\n",
       "        vertical-align: top;\n",
       "    }\n",
       "\n",
       "    .dataframe thead th {\n",
       "        text-align: right;\n",
       "    }\n",
       "</style>\n",
       "<table border=\"1\" class=\"dataframe\">\n",
       "  <thead>\n",
       "    <tr style=\"text-align: right;\">\n",
       "      <th></th>\n",
       "      <th>name</th>\n",
       "      <th>wins</th>\n",
       "      <th>losses</th>\n",
       "      <th>draws</th>\n",
       "      <th>height</th>\n",
       "      <th>weight</th>\n",
       "      <th>reach</th>\n",
       "      <th>stance</th>\n",
       "      <th>age</th>\n",
       "      <th>slpm</th>\n",
       "      <th>str. acc.</th>\n",
       "      <th>sapm</th>\n",
       "      <th>str. def</th>\n",
       "      <th>td avg.</th>\n",
       "      <th>td acc.</th>\n",
       "      <th>td def.</th>\n",
       "      <th>sub. avg.</th>\n",
       "    </tr>\n",
       "  </thead>\n",
       "  <tbody>\n",
       "    <tr>\n",
       "      <th>11195</th>\n",
       "      <td>Carlos Zevallos</td>\n",
       "      <td>3</td>\n",
       "      <td>0.0</td>\n",
       "      <td>-0</td>\n",
       "      <td>182.88</td>\n",
       "      <td>92.25</td>\n",
       "      <td>187.37</td>\n",
       "      <td>Orthodox</td>\n",
       "      <td>37.31</td>\n",
       "      <td>4.36</td>\n",
       "      <td>0.65</td>\n",
       "      <td>2.28</td>\n",
       "      <td>0.68</td>\n",
       "      <td>0.0</td>\n",
       "      <td>0.0</td>\n",
       "      <td>1.00</td>\n",
       "      <td>0.0</td>\n",
       "    </tr>\n",
       "    <tr>\n",
       "      <th>11196</th>\n",
       "      <td>Zach Zane</td>\n",
       "      <td>10</td>\n",
       "      <td>7.0</td>\n",
       "      <td>0</td>\n",
       "      <td>170.18</td>\n",
       "      <td>65.25</td>\n",
       "      <td>175.26</td>\n",
       "      <td>Southpaw</td>\n",
       "      <td>33.00</td>\n",
       "      <td>0.87</td>\n",
       "      <td>0.56</td>\n",
       "      <td>6.67</td>\n",
       "      <td>0.20</td>\n",
       "      <td>0.0</td>\n",
       "      <td>0.0</td>\n",
       "      <td>0.26</td>\n",
       "      <td>0.0</td>\n",
       "    </tr>\n",
       "    <tr>\n",
       "      <th>11197</th>\n",
       "      <td>Roger Zapata</td>\n",
       "      <td>4</td>\n",
       "      <td>0.0</td>\n",
       "      <td>-0</td>\n",
       "      <td>180.34</td>\n",
       "      <td>76.50</td>\n",
       "      <td>184.77</td>\n",
       "      <td>Southpaw</td>\n",
       "      <td>36.00</td>\n",
       "      <td>2.60</td>\n",
       "      <td>0.51</td>\n",
       "      <td>2.13</td>\n",
       "      <td>0.36</td>\n",
       "      <td>0.0</td>\n",
       "      <td>0.0</td>\n",
       "      <td>0.81</td>\n",
       "      <td>1.4</td>\n",
       "    </tr>\n",
       "  </tbody>\n",
       "</table>\n",
       "</div>"
      ],
      "text/plain": [
       "                  name  wins  losses draws  height  weight   reach    stance  \\\n",
       "11195  Carlos Zevallos     3     0.0    -0  182.88   92.25  187.37  Orthodox   \n",
       "11196        Zach Zane    10     7.0     0  170.18   65.25  175.26  Southpaw   \n",
       "11197     Roger Zapata     4     0.0    -0  180.34   76.50  184.77  Southpaw   \n",
       "\n",
       "         age  slpm  str. acc.  sapm  str. def  td avg.  td acc.  td def.  \\\n",
       "11195  37.31  4.36       0.65  2.28      0.68      0.0      0.0     1.00   \n",
       "11196  33.00  0.87       0.56  6.67      0.20      0.0      0.0     0.26   \n",
       "11197  36.00  2.60       0.51  2.13      0.36      0.0      0.0     0.81   \n",
       "\n",
       "       sub. avg.  \n",
       "11195        0.0  \n",
       "11196        0.0  \n",
       "11197        1.4  "
      ]
     },
     "execution_count": 10,
     "metadata": {},
     "output_type": "execute_result"
    }
   ],
   "source": [
    "loc = '../data/'\n",
    "file = 'ufc_fighters_stats_processed.csv'\n",
    "stats = pd.read_csv(loc+file)\n",
    "stats = stats[stats.columns[1:]]\n",
    "print('Data Frame loaded: '+str(stats.shape))\n",
    "stats.tail(3)"
   ]
  },
  {
   "cell_type": "markdown",
   "id": "38616a68-72f4-452d-a10a-818e6caca310",
   "metadata": {
    "tags": []
   },
   "source": [
    "## <span style='color:green'> [done] </span> Prepare main data_frame:"
   ]
  },
  {
   "cell_type": "code",
   "execution_count": 11,
   "id": "c4919edd",
   "metadata": {
    "scrolled": true
   },
   "outputs": [
    {
     "name": "stdout",
     "output_type": "stream",
     "text": [
      "Data Frame loaded: (6793, 22)\n"
     ]
    },
    {
     "data": {
      "text/html": [
       "<div>\n",
       "<style scoped>\n",
       "    .dataframe tbody tr th:only-of-type {\n",
       "        vertical-align: middle;\n",
       "    }\n",
       "\n",
       "    .dataframe tbody tr th {\n",
       "        vertical-align: top;\n",
       "    }\n",
       "\n",
       "    .dataframe thead th {\n",
       "        text-align: right;\n",
       "    }\n",
       "</style>\n",
       "<table border=\"1\" class=\"dataframe\">\n",
       "  <thead>\n",
       "    <tr style=\"text-align: right;\">\n",
       "      <th></th>\n",
       "      <th>result</th>\n",
       "      <th>fighter</th>\n",
       "      <th>opponent</th>\n",
       "      <th>date</th>\n",
       "      <th>weight class</th>\n",
       "      <th>method</th>\n",
       "      <th>kd_dif</th>\n",
       "      <th>str_dif</th>\n",
       "      <th>td_dif</th>\n",
       "      <th>sub_dif</th>\n",
       "      <th>td avg._dif</th>\n",
       "      <th>td acc._dif</th>\n",
       "      <th>td def._dif</th>\n",
       "      <th>sub. avg._dif</th>\n",
       "      <th>slpm_dif</th>\n",
       "      <th>str. acc._dif</th>\n",
       "      <th>sapm_dif</th>\n",
       "      <th>str. def_dif</th>\n",
       "      <th>stance_win_ratio</th>\n",
       "      <th>win_perc_dif</th>\n",
       "      <th>win_strk_dif</th>\n",
       "      <th>lose_strk_dif</th>\n",
       "    </tr>\n",
       "  </thead>\n",
       "  <tbody>\n",
       "    <tr>\n",
       "      <th>6790</th>\n",
       "      <td>lose</td>\n",
       "      <td>Kailin Curran</td>\n",
       "      <td>Aleksandra Albu</td>\n",
       "      <td>2017-07-29</td>\n",
       "      <td>Women's Strawweight</td>\n",
       "      <td>U-DEC:</td>\n",
       "      <td>-0.000995</td>\n",
       "      <td>0.126491</td>\n",
       "      <td>-1.597572</td>\n",
       "      <td>-0.013366</td>\n",
       "      <td>-0.159903</td>\n",
       "      <td>0.226867</td>\n",
       "      <td>-0.572982</td>\n",
       "      <td>0.195941</td>\n",
       "      <td>-0.626083</td>\n",
       "      <td>-0.350298</td>\n",
       "      <td>-0.477706</td>\n",
       "      <td>1.235656</td>\n",
       "      <td>-0.160261</td>\n",
       "      <td>-2.063384</td>\n",
       "      <td>-0.575708</td>\n",
       "      <td>2.156259</td>\n",
       "    </tr>\n",
       "    <tr>\n",
       "      <th>6791</th>\n",
       "      <td>win</td>\n",
       "      <td>Jarred Brooks</td>\n",
       "      <td>Eric Shelton</td>\n",
       "      <td>2017-07-29</td>\n",
       "      <td>Flyweight</td>\n",
       "      <td>S-DEC:</td>\n",
       "      <td>-0.000995</td>\n",
       "      <td>-0.174504</td>\n",
       "      <td>1.558550</td>\n",
       "      <td>-0.013366</td>\n",
       "      <td>0.941938</td>\n",
       "      <td>0.191864</td>\n",
       "      <td>0.734104</td>\n",
       "      <td>0.386715</td>\n",
       "      <td>-0.317445</td>\n",
       "      <td>0.299038</td>\n",
       "      <td>-0.118606</td>\n",
       "      <td>-0.111192</td>\n",
       "      <td>2.207079</td>\n",
       "      <td>-0.016271</td>\n",
       "      <td>-0.004540</td>\n",
       "      <td>-1.072901</td>\n",
       "    </tr>\n",
       "    <tr>\n",
       "      <th>6792</th>\n",
       "      <td>win</td>\n",
       "      <td>Drew Dober</td>\n",
       "      <td>Joshua Burkman</td>\n",
       "      <td>2017-07-29</td>\n",
       "      <td>Lightweight</td>\n",
       "      <td>KO/TKO:Punch</td>\n",
       "      <td>1.351338</td>\n",
       "      <td>0.126491</td>\n",
       "      <td>-0.019511</td>\n",
       "      <td>-0.013366</td>\n",
       "      <td>-1.000196</td>\n",
       "      <td>-0.683207</td>\n",
       "      <td>-0.640012</td>\n",
       "      <td>-0.185607</td>\n",
       "      <td>1.087173</td>\n",
       "      <td>-0.269131</td>\n",
       "      <td>0.642198</td>\n",
       "      <td>-0.027014</td>\n",
       "      <td>1.461511</td>\n",
       "      <td>0.111674</td>\n",
       "      <td>-0.004540</td>\n",
       "      <td>-2.149288</td>\n",
       "    </tr>\n",
       "  </tbody>\n",
       "</table>\n",
       "</div>"
      ],
      "text/plain": [
       "     result        fighter         opponent       date         weight class  \\\n",
       "6790   lose  Kailin Curran  Aleksandra Albu 2017-07-29  Women's Strawweight   \n",
       "6791    win  Jarred Brooks     Eric Shelton 2017-07-29            Flyweight   \n",
       "6792    win     Drew Dober   Joshua Burkman 2017-07-29          Lightweight   \n",
       "\n",
       "            method    kd_dif   str_dif    td_dif   sub_dif  td avg._dif  \\\n",
       "6790        U-DEC: -0.000995  0.126491 -1.597572 -0.013366    -0.159903   \n",
       "6791        S-DEC: -0.000995 -0.174504  1.558550 -0.013366     0.941938   \n",
       "6792  KO/TKO:Punch  1.351338  0.126491 -0.019511 -0.013366    -1.000196   \n",
       "\n",
       "      td acc._dif  td def._dif  sub. avg._dif  slpm_dif  str. acc._dif  \\\n",
       "6790     0.226867    -0.572982       0.195941 -0.626083      -0.350298   \n",
       "6791     0.191864     0.734104       0.386715 -0.317445       0.299038   \n",
       "6792    -0.683207    -0.640012      -0.185607  1.087173      -0.269131   \n",
       "\n",
       "      sapm_dif  str. def_dif  stance_win_ratio  win_perc_dif  win_strk_dif  \\\n",
       "6790 -0.477706      1.235656         -0.160261     -2.063384     -0.575708   \n",
       "6791 -0.118606     -0.111192          2.207079     -0.016271     -0.004540   \n",
       "6792  0.642198     -0.027014          1.461511      0.111674     -0.004540   \n",
       "\n",
       "      lose_strk_dif  \n",
       "6790       2.156259  \n",
       "6791      -1.072901  \n",
       "6792      -2.149288  "
      ]
     },
     "execution_count": 11,
     "metadata": {},
     "output_type": "execute_result"
    }
   ],
   "source": [
    "loc = \"../data/\"\n",
    "file = 'ufc_data_features.csv'\n",
    "df = pd.read_csv(loc+file)\n",
    "df = df[df.columns[1:]]\n",
    "df.date = pd.to_datetime(df.date)\n",
    "print('Data Frame loaded: '+str(df.shape))\n",
    "df.tail(3)"
   ]
  },
  {
   "cell_type": "markdown",
   "id": "a3211291-1c98-490d-b15a-3f4601b35048",
   "metadata": {
    "jp-MarkdownHeadingCollapsed": true,
    "tags": []
   },
   "source": [
    "## <span style='color:green'> [done] </span> Clean Outliers:"
   ]
  },
  {
   "cell_type": "code",
   "execution_count": 12,
   "id": "13c31a39",
   "metadata": {},
   "outputs": [
    {
     "name": "stdout",
     "output_type": "stream",
     "text": [
      "Rows deleted: 387\n"
     ]
    }
   ],
   "source": [
    "original_size = len(df)\n",
    "X = df.columns[10:len(df.columns)]\n",
    "\n",
    "for feature in X:\n",
    "    df = df[df[feature] <= 3]\n",
    "    \n",
    "print('Rows deleted: %d' %(original_size-len(df)))"
   ]
  },
  {
   "cell_type": "code",
   "execution_count": 13,
   "id": "297f9a6c",
   "metadata": {},
   "outputs": [
    {
     "name": "stdout",
     "output_type": "stream",
     "text": [
      "Columns sorted:\n"
     ]
    },
    {
     "data": {
      "text/html": [
       "<div>\n",
       "<style scoped>\n",
       "    .dataframe tbody tr th:only-of-type {\n",
       "        vertical-align: middle;\n",
       "    }\n",
       "\n",
       "    .dataframe tbody tr th {\n",
       "        vertical-align: top;\n",
       "    }\n",
       "\n",
       "    .dataframe thead th {\n",
       "        text-align: right;\n",
       "    }\n",
       "</style>\n",
       "<table border=\"1\" class=\"dataframe\">\n",
       "  <thead>\n",
       "    <tr style=\"text-align: right;\">\n",
       "      <th></th>\n",
       "      <th>date</th>\n",
       "      <th>result</th>\n",
       "      <th>fighter</th>\n",
       "      <th>opponent</th>\n",
       "      <th>win_perc_dif</th>\n",
       "      <th>win_strk_dif</th>\n",
       "      <th>lose_strk_dif</th>\n",
       "      <th>td avg._dif</th>\n",
       "      <th>sub. avg._dif</th>\n",
       "      <th>sapm_dif</th>\n",
       "      <th>slpm_dif</th>\n",
       "      <th>kd_dif</th>\n",
       "      <th>str_dif</th>\n",
       "      <th>td_dif</th>\n",
       "      <th>sub_dif</th>\n",
       "    </tr>\n",
       "  </thead>\n",
       "  <tbody>\n",
       "    <tr>\n",
       "      <th>6403</th>\n",
       "      <td>2017-07-29</td>\n",
       "      <td>lose</td>\n",
       "      <td>Kailin Curran</td>\n",
       "      <td>Aleksandra Albu</td>\n",
       "      <td>-2.063384</td>\n",
       "      <td>-0.575708</td>\n",
       "      <td>2.156259</td>\n",
       "      <td>-0.159903</td>\n",
       "      <td>0.195941</td>\n",
       "      <td>-0.477706</td>\n",
       "      <td>-0.626083</td>\n",
       "      <td>-0.000995</td>\n",
       "      <td>0.126491</td>\n",
       "      <td>-1.597572</td>\n",
       "      <td>-0.013366</td>\n",
       "    </tr>\n",
       "    <tr>\n",
       "      <th>6404</th>\n",
       "      <td>2017-07-29</td>\n",
       "      <td>win</td>\n",
       "      <td>Jarred Brooks</td>\n",
       "      <td>Eric Shelton</td>\n",
       "      <td>-0.016271</td>\n",
       "      <td>-0.004540</td>\n",
       "      <td>-1.072901</td>\n",
       "      <td>0.941938</td>\n",
       "      <td>0.386715</td>\n",
       "      <td>-0.118606</td>\n",
       "      <td>-0.317445</td>\n",
       "      <td>-0.000995</td>\n",
       "      <td>-0.174504</td>\n",
       "      <td>1.558550</td>\n",
       "      <td>-0.013366</td>\n",
       "    </tr>\n",
       "    <tr>\n",
       "      <th>6405</th>\n",
       "      <td>2017-07-29</td>\n",
       "      <td>win</td>\n",
       "      <td>Drew Dober</td>\n",
       "      <td>Joshua Burkman</td>\n",
       "      <td>0.111674</td>\n",
       "      <td>-0.004540</td>\n",
       "      <td>-2.149288</td>\n",
       "      <td>-1.000196</td>\n",
       "      <td>-0.185607</td>\n",
       "      <td>0.642198</td>\n",
       "      <td>1.087173</td>\n",
       "      <td>1.351338</td>\n",
       "      <td>0.126491</td>\n",
       "      <td>-0.019511</td>\n",
       "      <td>-0.013366</td>\n",
       "    </tr>\n",
       "  </tbody>\n",
       "</table>\n",
       "</div>"
      ],
      "text/plain": [
       "           date result        fighter         opponent  win_perc_dif  \\\n",
       "6403 2017-07-29   lose  Kailin Curran  Aleksandra Albu     -2.063384   \n",
       "6404 2017-07-29    win  Jarred Brooks     Eric Shelton     -0.016271   \n",
       "6405 2017-07-29    win     Drew Dober   Joshua Burkman      0.111674   \n",
       "\n",
       "      win_strk_dif  lose_strk_dif  td avg._dif  sub. avg._dif  sapm_dif  \\\n",
       "6403     -0.575708       2.156259    -0.159903       0.195941 -0.477706   \n",
       "6404     -0.004540      -1.072901     0.941938       0.386715 -0.118606   \n",
       "6405     -0.004540      -2.149288    -1.000196      -0.185607  0.642198   \n",
       "\n",
       "      slpm_dif    kd_dif   str_dif    td_dif   sub_dif  \n",
       "6403 -0.626083 -0.000995  0.126491 -1.597572 -0.013366  \n",
       "6404 -0.317445 -0.000995 -0.174504  1.558550 -0.013366  \n",
       "6405  1.087173  1.351338  0.126491 -0.019511 -0.013366  "
      ]
     },
     "execution_count": 13,
     "metadata": {},
     "output_type": "execute_result"
    }
   ],
   "source": [
    "df = (df[['date','result','fighter','opponent','win_perc_dif','win_strk_dif','lose_strk_dif','td avg._dif','sub. avg._dif','sapm_dif','slpm_dif','kd_dif','str_dif','td_dif','sub_dif']]).copy()\n",
    "df = df.dropna().reset_index(drop=True)\n",
    "print('Columns sorted:')\n",
    "df.tail(3)"
   ]
  },
  {
   "cell_type": "code",
   "execution_count": 14,
   "id": "9a922e74-4c85-4e66-a5cd-942f936f80e3",
   "metadata": {},
   "outputs": [],
   "source": [
    "X_columns = X\n",
    "y = ['kd_dif','str_dif','td_dif','sub_dif']"
   ]
  },
  {
   "cell_type": "markdown",
   "id": "c3424f07",
   "metadata": {
    "tags": []
   },
   "source": [
    "# <span style='color:green'> **[done]** </span> Main():"
   ]
  },
  {
   "cell_type": "code",
   "execution_count": 15,
   "id": "c9138988",
   "metadata": {},
   "outputs": [],
   "source": [
    "X_columns = ['sapm_dif','slpm_dif','win_perc_dif','win_strk_dif','lose_strk_dif','td avg._dif','sub. avg._dif']\n",
    "y = ['kd_dif','str_dif','td_dif','sub_dif']"
   ]
  },
  {
   "cell_type": "markdown",
   "id": "06ec91c0-71d5-4b39-b58c-b320243d5baf",
   "metadata": {
    "tags": []
   },
   "source": [
    "## <span style='color:green'> **[done]** </span> Pick a Fight: inserd Fighter & Opponent"
   ]
  },
  {
   "cell_type": "code",
   "execution_count": 16,
   "id": "902e1662-b84d-46ee-834c-21760a28ae0e",
   "metadata": {},
   "outputs": [
    {
     "data": {
      "text/html": [
       "<div>\n",
       "<style scoped>\n",
       "    .dataframe tbody tr th:only-of-type {\n",
       "        vertical-align: middle;\n",
       "    }\n",
       "\n",
       "    .dataframe tbody tr th {\n",
       "        vertical-align: top;\n",
       "    }\n",
       "\n",
       "    .dataframe thead th {\n",
       "        text-align: right;\n",
       "    }\n",
       "</style>\n",
       "<table border=\"1\" class=\"dataframe\">\n",
       "  <thead>\n",
       "    <tr style=\"text-align: right;\">\n",
       "      <th></th>\n",
       "      <th>date</th>\n",
       "      <th>result</th>\n",
       "      <th>fighter</th>\n",
       "      <th>opponent</th>\n",
       "      <th>win_perc_dif</th>\n",
       "      <th>win_strk_dif</th>\n",
       "      <th>lose_strk_dif</th>\n",
       "      <th>td avg._dif</th>\n",
       "      <th>sub. avg._dif</th>\n",
       "      <th>sapm_dif</th>\n",
       "      <th>slpm_dif</th>\n",
       "      <th>kd_dif</th>\n",
       "      <th>str_dif</th>\n",
       "      <th>td_dif</th>\n",
       "      <th>sub_dif</th>\n",
       "    </tr>\n",
       "  </thead>\n",
       "  <tbody>\n",
       "    <tr>\n",
       "      <th>6406</th>\n",
       "      <td>2023-01-22</td>\n",
       "      <td>None</td>\n",
       "      <td>Kelvin Gastelum</td>\n",
       "      <td>Nassourdine Imavov</td>\n",
       "      <td>-0.221053</td>\n",
       "      <td>-3.0</td>\n",
       "      <td>2.0</td>\n",
       "      <td>0.1</td>\n",
       "      <td>-2.3</td>\n",
       "      <td>0.81</td>\n",
       "      <td>-0.55</td>\n",
       "      <td>None</td>\n",
       "      <td>None</td>\n",
       "      <td>None</td>\n",
       "      <td>None</td>\n",
       "    </tr>\n",
       "  </tbody>\n",
       "</table>\n",
       "</div>"
      ],
      "text/plain": [
       "           date result          fighter            opponent  win_perc_dif  \\\n",
       "6406 2023-01-22   None  Kelvin Gastelum  Nassourdine Imavov     -0.221053   \n",
       "\n",
       "      win_strk_dif  lose_strk_dif  td avg._dif  sub. avg._dif  sapm_dif  \\\n",
       "6406          -3.0            2.0          0.1           -2.3      0.81   \n",
       "\n",
       "      slpm_dif kd_dif str_dif td_dif sub_dif  \n",
       "6406     -0.55   None    None   None    None  "
      ]
     },
     "execution_count": 16,
     "metadata": {},
     "output_type": "execute_result"
    }
   ],
   "source": [
    "fighter = 'Kelvin Gastelum'\n",
    "opponent = 'Nassourdine Imavov'\n",
    "df = pd.concat([df,set_new_fight(fighter=fighter, opponent=opponent, data=df)], ignore_index=True)\n",
    "df.tail(1)"
   ]
  },
  {
   "cell_type": "markdown",
   "id": "3b4524b2-f079-410b-b3a3-d4091306d468",
   "metadata": {
    "tags": []
   },
   "source": [
    "### <span style='color:green'> **[done]** </span> Predict fight stats:"
   ]
  },
  {
   "cell_type": "code",
   "execution_count": 17,
   "id": "c089ca64-3884-4e8b-84cd-f6422c03115b",
   "metadata": {},
   "outputs": [
    {
     "data": {
      "text/html": [
       "<div>\n",
       "<style scoped>\n",
       "    .dataframe tbody tr th:only-of-type {\n",
       "        vertical-align: middle;\n",
       "    }\n",
       "\n",
       "    .dataframe tbody tr th {\n",
       "        vertical-align: top;\n",
       "    }\n",
       "\n",
       "    .dataframe thead th {\n",
       "        text-align: right;\n",
       "    }\n",
       "</style>\n",
       "<table border=\"1\" class=\"dataframe\">\n",
       "  <thead>\n",
       "    <tr style=\"text-align: right;\">\n",
       "      <th></th>\n",
       "      <th>date</th>\n",
       "      <th>result</th>\n",
       "      <th>fighter</th>\n",
       "      <th>opponent</th>\n",
       "      <th>win_perc_dif</th>\n",
       "      <th>win_strk_dif</th>\n",
       "      <th>lose_strk_dif</th>\n",
       "      <th>td avg._dif</th>\n",
       "      <th>sub. avg._dif</th>\n",
       "      <th>sapm_dif</th>\n",
       "      <th>slpm_dif</th>\n",
       "      <th>kd_dif</th>\n",
       "      <th>str_dif</th>\n",
       "      <th>td_dif</th>\n",
       "      <th>sub_dif</th>\n",
       "    </tr>\n",
       "  </thead>\n",
       "  <tbody>\n",
       "    <tr>\n",
       "      <th>22</th>\n",
       "      <td>2017-11-25</td>\n",
       "      <td>lose</td>\n",
       "      <td>Michael Bisping</td>\n",
       "      <td>Kelvin Gastelum</td>\n",
       "      <td>-0.060215</td>\n",
       "      <td>0.001615</td>\n",
       "      <td>0.006402</td>\n",
       "      <td>-0.007068</td>\n",
       "      <td>0.197523</td>\n",
       "      <td>-0.325881</td>\n",
       "      <td>0.509521</td>\n",
       "      <td>-1.343474</td>\n",
       "      <td>-0.265609</td>\n",
       "      <td>-0.018065</td>\n",
       "      <td>0.025311</td>\n",
       "    </tr>\n",
       "    <tr>\n",
       "      <th>23</th>\n",
       "      <td>2019-11-02</td>\n",
       "      <td>lose</td>\n",
       "      <td>Kelvin Gastelum</td>\n",
       "      <td>Darren Till</td>\n",
       "      <td>-0.009111</td>\n",
       "      <td>0.001615</td>\n",
       "      <td>-1.070893</td>\n",
       "      <td>0.299562</td>\n",
       "      <td>0.102182</td>\n",
       "      <td>0.131993</td>\n",
       "      <td>0.806828</td>\n",
       "      <td>0.011068</td>\n",
       "      <td>0.14842</td>\n",
       "      <td>-0.018065</td>\n",
       "      <td>0.025311</td>\n",
       "    </tr>\n",
       "    <tr>\n",
       "      <th>24</th>\n",
       "      <td>2023-01-10</td>\n",
       "      <td>None</td>\n",
       "      <td>Kelvin Gastelum</td>\n",
       "      <td>Nassourdine Imavov</td>\n",
       "      <td>-0.221053</td>\n",
       "      <td>-3.000000</td>\n",
       "      <td>2.000000</td>\n",
       "      <td>0.100000</td>\n",
       "      <td>-2.300000</td>\n",
       "      <td>0.810000</td>\n",
       "      <td>-0.550000</td>\n",
       "      <td>None</td>\n",
       "      <td>None</td>\n",
       "      <td>None</td>\n",
       "      <td>None</td>\n",
       "    </tr>\n",
       "  </tbody>\n",
       "</table>\n",
       "</div>"
      ],
      "text/plain": [
       "         date result          fighter            opponent  win_perc_dif  \\\n",
       "22 2017-11-25   lose  Michael Bisping     Kelvin Gastelum     -0.060215   \n",
       "23 2019-11-02   lose  Kelvin Gastelum         Darren Till     -0.009111   \n",
       "24 2023-01-10   None  Kelvin Gastelum  Nassourdine Imavov     -0.221053   \n",
       "\n",
       "    win_strk_dif  lose_strk_dif  td avg._dif  sub. avg._dif  sapm_dif  \\\n",
       "22      0.001615       0.006402    -0.007068       0.197523 -0.325881   \n",
       "23      0.001615      -1.070893     0.299562       0.102182  0.131993   \n",
       "24     -3.000000       2.000000     0.100000      -2.300000  0.810000   \n",
       "\n",
       "    slpm_dif    kd_dif   str_dif    td_dif   sub_dif  \n",
       "22  0.509521 -1.343474 -0.265609 -0.018065  0.025311  \n",
       "23  0.806828  0.011068   0.14842 -0.018065  0.025311  \n",
       "24 -0.550000      None      None      None      None  "
      ]
     },
     "execution_count": 17,
     "metadata": {},
     "output_type": "execute_result"
    }
   ],
   "source": [
    "# test making prediction of stats by creating only both fighters data:\n",
    "micro_df = (df[(df['fighter'] == fighter)|(df['opponent'] == fighter)|(df['fighter'] == opponent)|(df['opponent'] == opponent)].reset_index(drop=True)).copy()\n",
    "#micro_df = set_train_test(X_columns=X_columns, y_columns=y, data=micro_df, test_size=0.3, valid_size=0.3)\n",
    "micro_df.tail(3)"
   ]
  },
  {
   "cell_type": "code",
   "execution_count": 17,
   "id": "f1d1a860",
   "metadata": {},
   "outputs": [
    {
     "name": "stdout",
     "output_type": "stream",
     "text": [
      "Data split: Data=(6407, 16), train_set=(3134, 7), validation_set=(1334, 7), test_set=(1938, 7)\n"
     ]
    },
    {
     "data": {
      "text/html": [
       "<style>#sk-container-id-1 {color: black;background-color: white;}#sk-container-id-1 pre{padding: 0;}#sk-container-id-1 div.sk-toggleable {background-color: white;}#sk-container-id-1 label.sk-toggleable__label {cursor: pointer;display: block;width: 100%;margin-bottom: 0;padding: 0.3em;box-sizing: border-box;text-align: center;}#sk-container-id-1 label.sk-toggleable__label-arrow:before {content: \"▸\";float: left;margin-right: 0.25em;color: #696969;}#sk-container-id-1 label.sk-toggleable__label-arrow:hover:before {color: black;}#sk-container-id-1 div.sk-estimator:hover label.sk-toggleable__label-arrow:before {color: black;}#sk-container-id-1 div.sk-toggleable__content {max-height: 0;max-width: 0;overflow: hidden;text-align: left;background-color: #f0f8ff;}#sk-container-id-1 div.sk-toggleable__content pre {margin: 0.2em;color: black;border-radius: 0.25em;background-color: #f0f8ff;}#sk-container-id-1 input.sk-toggleable__control:checked~div.sk-toggleable__content {max-height: 200px;max-width: 100%;overflow: auto;}#sk-container-id-1 input.sk-toggleable__control:checked~label.sk-toggleable__label-arrow:before {content: \"▾\";}#sk-container-id-1 div.sk-estimator input.sk-toggleable__control:checked~label.sk-toggleable__label {background-color: #d4ebff;}#sk-container-id-1 div.sk-label input.sk-toggleable__control:checked~label.sk-toggleable__label {background-color: #d4ebff;}#sk-container-id-1 input.sk-hidden--visually {border: 0;clip: rect(1px 1px 1px 1px);clip: rect(1px, 1px, 1px, 1px);height: 1px;margin: -1px;overflow: hidden;padding: 0;position: absolute;width: 1px;}#sk-container-id-1 div.sk-estimator {font-family: monospace;background-color: #f0f8ff;border: 1px dotted black;border-radius: 0.25em;box-sizing: border-box;margin-bottom: 0.5em;}#sk-container-id-1 div.sk-estimator:hover {background-color: #d4ebff;}#sk-container-id-1 div.sk-parallel-item::after {content: \"\";width: 100%;border-bottom: 1px solid gray;flex-grow: 1;}#sk-container-id-1 div.sk-label:hover label.sk-toggleable__label {background-color: #d4ebff;}#sk-container-id-1 div.sk-serial::before {content: \"\";position: absolute;border-left: 1px solid gray;box-sizing: border-box;top: 0;bottom: 0;left: 50%;z-index: 0;}#sk-container-id-1 div.sk-serial {display: flex;flex-direction: column;align-items: center;background-color: white;padding-right: 0.2em;padding-left: 0.2em;position: relative;}#sk-container-id-1 div.sk-item {position: relative;z-index: 1;}#sk-container-id-1 div.sk-parallel {display: flex;align-items: stretch;justify-content: center;background-color: white;position: relative;}#sk-container-id-1 div.sk-item::before, #sk-container-id-1 div.sk-parallel-item::before {content: \"\";position: absolute;border-left: 1px solid gray;box-sizing: border-box;top: 0;bottom: 0;left: 50%;z-index: -1;}#sk-container-id-1 div.sk-parallel-item {display: flex;flex-direction: column;z-index: 1;position: relative;background-color: white;}#sk-container-id-1 div.sk-parallel-item:first-child::after {align-self: flex-end;width: 50%;}#sk-container-id-1 div.sk-parallel-item:last-child::after {align-self: flex-start;width: 50%;}#sk-container-id-1 div.sk-parallel-item:only-child::after {width: 0;}#sk-container-id-1 div.sk-dashed-wrapped {border: 1px dashed gray;margin: 0 0.4em 0.5em 0.4em;box-sizing: border-box;padding-bottom: 0.4em;background-color: white;}#sk-container-id-1 div.sk-label label {font-family: monospace;font-weight: bold;display: inline-block;line-height: 1.2em;}#sk-container-id-1 div.sk-label-container {text-align: center;}#sk-container-id-1 div.sk-container {/* jupyter's `normalize.less` sets `[hidden] { display: none; }` but bootstrap.min.css set `[hidden] { display: none !important; }` so we also need the `!important` here to be able to override the default hidden behavior on the sphinx rendered scikit-learn.org. See: https://github.com/scikit-learn/scikit-learn/issues/21755 */display: inline-block !important;position: relative;}#sk-container-id-1 div.sk-text-repr-fallback {display: none;}</style><div id=\"sk-container-id-1\" class=\"sk-top-container\"><div class=\"sk-text-repr-fallback\"><pre>KNeighborsRegressor(algorithm=&#x27;ball_tree&#x27;, n_neighbors=200)</pre><b>In a Jupyter environment, please rerun this cell to show the HTML representation or trust the notebook. <br />On GitHub, the HTML representation is unable to render, please try loading this page with nbviewer.org.</b></div><div class=\"sk-container\" hidden><div class=\"sk-item\"><div class=\"sk-estimator sk-toggleable\"><input class=\"sk-toggleable__control sk-hidden--visually\" id=\"sk-estimator-id-1\" type=\"checkbox\" checked><label for=\"sk-estimator-id-1\" class=\"sk-toggleable__label sk-toggleable__label-arrow\">KNeighborsRegressor</label><div class=\"sk-toggleable__content\"><pre>KNeighborsRegressor(algorithm=&#x27;ball_tree&#x27;, n_neighbors=200)</pre></div></div></div></div></div>"
      ],
      "text/plain": [
       "KNeighborsRegressor(algorithm='ball_tree', n_neighbors=200)"
      ]
     },
     "execution_count": 17,
     "metadata": {},
     "output_type": "execute_result"
    }
   ],
   "source": [
    "df = set_train_test(X_columns=X_columns, y_columns=y, data=df, test_size=0.3, valid_size=0.3)\n",
    "knn_reg = set_knn_reg(X_columns=X_columns, y_columns=y, data=df, n=200)\n",
    "df = set_predictions(model=knn_reg, data=df, X_columns=X_columns, y_columns=y)\n",
    "knn_reg"
   ]
  },
  {
   "cell_type": "code",
   "execution_count": 19,
   "id": "99c264d3-3840-4399-b1a8-a9f880dfd804",
   "metadata": {},
   "outputs": [
    {
     "data": {
      "text/html": [
       "<div>\n",
       "<style scoped>\n",
       "    .dataframe tbody tr th:only-of-type {\n",
       "        vertical-align: middle;\n",
       "    }\n",
       "\n",
       "    .dataframe tbody tr th {\n",
       "        vertical-align: top;\n",
       "    }\n",
       "\n",
       "    .dataframe thead th {\n",
       "        text-align: right;\n",
       "    }\n",
       "</style>\n",
       "<table border=\"1\" class=\"dataframe\">\n",
       "  <thead>\n",
       "    <tr style=\"text-align: right;\">\n",
       "      <th></th>\n",
       "      <th>set</th>\n",
       "      <th>date</th>\n",
       "      <th>result</th>\n",
       "      <th>fighter</th>\n",
       "      <th>opponent</th>\n",
       "      <th>win_perc_dif</th>\n",
       "      <th>win_strk_dif</th>\n",
       "      <th>lose_strk_dif</th>\n",
       "      <th>td avg._dif</th>\n",
       "      <th>sub. avg._dif</th>\n",
       "      <th>sapm_dif</th>\n",
       "      <th>slpm_dif</th>\n",
       "      <th>kd_dif</th>\n",
       "      <th>str_dif</th>\n",
       "      <th>td_dif</th>\n",
       "      <th>sub_dif</th>\n",
       "      <th>kd_dif_pred</th>\n",
       "      <th>str_dif_pred</th>\n",
       "      <th>td_dif_pred</th>\n",
       "      <th>sub_dif_pred</th>\n",
       "    </tr>\n",
       "  </thead>\n",
       "  <tbody>\n",
       "    <tr>\n",
       "      <th>6342</th>\n",
       "      <td>new</td>\n",
       "      <td>2023-01-10</td>\n",
       "      <td>None</td>\n",
       "      <td>Kelvin Gastelum</td>\n",
       "      <td>Nassourdine Imavov</td>\n",
       "      <td>-0.221053</td>\n",
       "      <td>-3.0</td>\n",
       "      <td>2.0</td>\n",
       "      <td>0.1</td>\n",
       "      <td>-2.3</td>\n",
       "      <td>0.81</td>\n",
       "      <td>-0.55</td>\n",
       "      <td>None</td>\n",
       "      <td>None</td>\n",
       "      <td>None</td>\n",
       "      <td>None</td>\n",
       "      <td>0.038159</td>\n",
       "      <td>0.038159</td>\n",
       "      <td>0.038159</td>\n",
       "      <td>0.038159</td>\n",
       "    </tr>\n",
       "  </tbody>\n",
       "</table>\n",
       "</div>"
      ],
      "text/plain": [
       "      set       date result          fighter            opponent  \\\n",
       "6342  new 2023-01-10   None  Kelvin Gastelum  Nassourdine Imavov   \n",
       "\n",
       "      win_perc_dif  win_strk_dif  lose_strk_dif  td avg._dif  sub. avg._dif  \\\n",
       "6342     -0.221053          -3.0            2.0          0.1           -2.3   \n",
       "\n",
       "      sapm_dif  slpm_dif kd_dif str_dif td_dif sub_dif kd_dif_pred  \\\n",
       "6342      0.81     -0.55   None    None   None    None    0.038159   \n",
       "\n",
       "     str_dif_pred td_dif_pred sub_dif_pred  \n",
       "6342     0.038159    0.038159     0.038159  "
      ]
     },
     "execution_count": 19,
     "metadata": {},
     "output_type": "execute_result"
    }
   ],
   "source": [
    "df.tail(1)"
   ]
  },
  {
   "cell_type": "markdown",
   "id": "61a21b09-63f2-42d6-b119-a70b679542e7",
   "metadata": {
    "tags": []
   },
   "source": [
    "### <span style='color:green'> **[done]** </span> Predict Winner:"
   ]
  },
  {
   "cell_type": "code",
   "execution_count": 21,
   "id": "23e636a9",
   "metadata": {},
   "outputs": [
    {
     "data": {
      "text/html": [
       "<style>#sk-container-id-3 {color: black;background-color: white;}#sk-container-id-3 pre{padding: 0;}#sk-container-id-3 div.sk-toggleable {background-color: white;}#sk-container-id-3 label.sk-toggleable__label {cursor: pointer;display: block;width: 100%;margin-bottom: 0;padding: 0.3em;box-sizing: border-box;text-align: center;}#sk-container-id-3 label.sk-toggleable__label-arrow:before {content: \"▸\";float: left;margin-right: 0.25em;color: #696969;}#sk-container-id-3 label.sk-toggleable__label-arrow:hover:before {color: black;}#sk-container-id-3 div.sk-estimator:hover label.sk-toggleable__label-arrow:before {color: black;}#sk-container-id-3 div.sk-toggleable__content {max-height: 0;max-width: 0;overflow: hidden;text-align: left;background-color: #f0f8ff;}#sk-container-id-3 div.sk-toggleable__content pre {margin: 0.2em;color: black;border-radius: 0.25em;background-color: #f0f8ff;}#sk-container-id-3 input.sk-toggleable__control:checked~div.sk-toggleable__content {max-height: 200px;max-width: 100%;overflow: auto;}#sk-container-id-3 input.sk-toggleable__control:checked~label.sk-toggleable__label-arrow:before {content: \"▾\";}#sk-container-id-3 div.sk-estimator input.sk-toggleable__control:checked~label.sk-toggleable__label {background-color: #d4ebff;}#sk-container-id-3 div.sk-label input.sk-toggleable__control:checked~label.sk-toggleable__label {background-color: #d4ebff;}#sk-container-id-3 input.sk-hidden--visually {border: 0;clip: rect(1px 1px 1px 1px);clip: rect(1px, 1px, 1px, 1px);height: 1px;margin: -1px;overflow: hidden;padding: 0;position: absolute;width: 1px;}#sk-container-id-3 div.sk-estimator {font-family: monospace;background-color: #f0f8ff;border: 1px dotted black;border-radius: 0.25em;box-sizing: border-box;margin-bottom: 0.5em;}#sk-container-id-3 div.sk-estimator:hover {background-color: #d4ebff;}#sk-container-id-3 div.sk-parallel-item::after {content: \"\";width: 100%;border-bottom: 1px solid gray;flex-grow: 1;}#sk-container-id-3 div.sk-label:hover label.sk-toggleable__label {background-color: #d4ebff;}#sk-container-id-3 div.sk-serial::before {content: \"\";position: absolute;border-left: 1px solid gray;box-sizing: border-box;top: 0;bottom: 0;left: 50%;z-index: 0;}#sk-container-id-3 div.sk-serial {display: flex;flex-direction: column;align-items: center;background-color: white;padding-right: 0.2em;padding-left: 0.2em;position: relative;}#sk-container-id-3 div.sk-item {position: relative;z-index: 1;}#sk-container-id-3 div.sk-parallel {display: flex;align-items: stretch;justify-content: center;background-color: white;position: relative;}#sk-container-id-3 div.sk-item::before, #sk-container-id-3 div.sk-parallel-item::before {content: \"\";position: absolute;border-left: 1px solid gray;box-sizing: border-box;top: 0;bottom: 0;left: 50%;z-index: -1;}#sk-container-id-3 div.sk-parallel-item {display: flex;flex-direction: column;z-index: 1;position: relative;background-color: white;}#sk-container-id-3 div.sk-parallel-item:first-child::after {align-self: flex-end;width: 50%;}#sk-container-id-3 div.sk-parallel-item:last-child::after {align-self: flex-start;width: 50%;}#sk-container-id-3 div.sk-parallel-item:only-child::after {width: 0;}#sk-container-id-3 div.sk-dashed-wrapped {border: 1px dashed gray;margin: 0 0.4em 0.5em 0.4em;box-sizing: border-box;padding-bottom: 0.4em;background-color: white;}#sk-container-id-3 div.sk-label label {font-family: monospace;font-weight: bold;display: inline-block;line-height: 1.2em;}#sk-container-id-3 div.sk-label-container {text-align: center;}#sk-container-id-3 div.sk-container {/* jupyter's `normalize.less` sets `[hidden] { display: none; }` but bootstrap.min.css set `[hidden] { display: none !important; }` so we also need the `!important` here to be able to override the default hidden behavior on the sphinx rendered scikit-learn.org. See: https://github.com/scikit-learn/scikit-learn/issues/21755 */display: inline-block !important;position: relative;}#sk-container-id-3 div.sk-text-repr-fallback {display: none;}</style><div id=\"sk-container-id-3\" class=\"sk-top-container\"><div class=\"sk-text-repr-fallback\"><pre>RandomForestClassifier(max_depth=3, n_estimators=50, random_state=0)</pre><b>In a Jupyter environment, please rerun this cell to show the HTML representation or trust the notebook. <br />On GitHub, the HTML representation is unable to render, please try loading this page with nbviewer.org.</b></div><div class=\"sk-container\" hidden><div class=\"sk-item\"><div class=\"sk-estimator sk-toggleable\"><input class=\"sk-toggleable__control sk-hidden--visually\" id=\"sk-estimator-id-3\" type=\"checkbox\" checked><label for=\"sk-estimator-id-3\" class=\"sk-toggleable__label sk-toggleable__label-arrow\">RandomForestClassifier</label><div class=\"sk-toggleable__content\"><pre>RandomForestClassifier(max_depth=3, n_estimators=50, random_state=0)</pre></div></div></div></div></div>"
      ],
      "text/plain": [
       "RandomForestClassifier(max_depth=3, n_estimators=50, random_state=0)"
      ]
     },
     "execution_count": 21,
     "metadata": {},
     "output_type": "execute_result"
    }
   ],
   "source": [
    "X_columns = ['win_perc_dif', 'win_strk_dif', 'lose_strk_dif', 'td avg._dif',\n",
    "             'sub. avg._dif', 'sapm_dif', 'slpm_dif','sub_dif_pred',\n",
    "             'kd_dif_pred', 'str_dif_pred', 'td_dif_pred']\n",
    "\n",
    "#num_of_features = len(X_columns)\n",
    "num_of_features = 3\n",
    "y = 'result'\n",
    "forest_clf = set_forest_clf(X_columns=X_columns, y_columns=y, data=df,tree_depth=num_of_features, n_estimators=50 )\n",
    "df = set_predictions(model=forest_clf, data=df, X_columns=X_columns, y_columns=[y])\n",
    "forest_clf"
   ]
  },
  {
   "cell_type": "markdown",
   "id": "67c9d4c8-1727-468a-97c5-e8fbb33b18dd",
   "metadata": {
    "tags": []
   },
   "source": [
    "#### <span style='color:green'> **[done]** </span> Final Prediction:"
   ]
  },
  {
   "cell_type": "code",
   "execution_count": 22,
   "id": "0e1ddb63-4fcd-4ff9-918f-1593e607a76c",
   "metadata": {},
   "outputs": [
    {
     "name": "stdout",
     "output_type": "stream",
     "text": [
      "--------------------------------------\n",
      "Kelvin Gastelum vs Nassourdine Imavov:\n",
      "--------------------------------------\n",
      "          Kelvin Gastelum Nassourdine Imavov\n",
      "wins                   17                 12\n",
      "losses                8.0                3.0\n",
      "draws                   0                  0\n",
      "height             175.26              190.5\n",
      "weight              83.25              83.25\n",
      "reach              180.34              190.5\n",
      "stance           Southpaw           Orthodox\n",
      "age                  31.0               27.0\n",
      "slpm                 3.53               4.08\n",
      "str. acc.            0.41               0.54\n",
      "sapm                 3.24               2.43\n",
      "str. def             0.57               0.62\n",
      "td avg.              1.05               0.95\n",
      "td acc.              0.32               0.23\n",
      "td def.              0.62               0.76\n",
      "sub. avg.             0.1                2.4\n",
      "--------------------------------------\n",
      "Winner: Nassourdine Imavov\n",
      "Pridiction Accuracy: 0.6140350877192983\n",
      "--------------------------------------\n"
     ]
    }
   ],
   "source": [
    "print('--------------------------------------')\n",
    "print('%s vs %s:' %(fighter, opponent))\n",
    "print('--------------------------------------')\n",
    "print(get_fighters_stats(fighter=fighter,opponent=opponent, data=stats))\n",
    "print('--------------------------------------')\n",
    "print('Winner: ' + get_winner())\n",
    "print('Pridiction Accuracy: ' + str(get_accuracy(act=df['result'][df.set=='test'], pred=df['result_pred'][df.set=='test'])))\n",
    "print('--------------------------------------')"
   ]
  },
  {
   "cell_type": "code",
   "execution_count": null,
   "id": "e63480a3-a2f6-4099-9fc7-0e72619a0c62",
   "metadata": {},
   "outputs": [],
   "source": []
  }
 ],
 "metadata": {
  "kernelspec": {
   "display_name": "Python 3 (ipykernel)",
   "language": "python",
   "name": "python3"
  },
  "language_info": {
   "codemirror_mode": {
    "name": "ipython",
    "version": 3
   },
   "file_extension": ".py",
   "mimetype": "text/x-python",
   "name": "python",
   "nbconvert_exporter": "python",
   "pygments_lexer": "ipython3",
   "version": "3.9.7"
  },
  "toc-autonumbering": false
 },
 "nbformat": 4,
 "nbformat_minor": 5
}
