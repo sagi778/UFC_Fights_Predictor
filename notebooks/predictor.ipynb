{
 "cells": [
  {
   "cell_type": "code",
   "execution_count": 1,
   "id": "5ef87bd8",
   "metadata": {
    "tags": []
   },
   "outputs": [
    {
     "name": "stdout",
     "output_type": "stream",
     "text": [
      "imports loaded.\n",
      "\n",
      "Pre-Processing func:\n",
      "********************\n",
      "    get_height(item)\n",
      "    get_weight(item)\n",
      "    get_reach(item)\n",
      "    get_std_reach(item, height, reach_list, height_list)\n",
      "    get_age(item)\n",
      "    get_std_age(item, age_list)\n",
      "    get_win_perc(name, date, df)\n",
      "    get_lose_streak_data_frame(name, date, df)\n",
      "    get_win_streak_data_frame(name, date, df)\n",
      "    get_streak_data_frame(name, date, df)\n",
      "    get_win_streak(name, date, df)\n",
      "    get_lose_streak(name, date, df)\n",
      "    get_fighter_stats(name, data )\n",
      "    add_columns(data, column_list)\n",
      "\n",
      "Feature Engineering func:\n",
      "*************************\n",
      "    get_stat(index, data, stat='height', fo='')\n",
      "    get_swaped_row(index, data)\n",
      "    get_wins(combo, data)\n",
      "    get_wins_ratio(combo, data)\n",
      "\n",
      "fight_stats_model_training func:\n",
      "********************************\n",
      "    get_sig_features(data, sig_r)\n",
      "    get_r_score(X, y)\n",
      "    set_train_test(X_columns, y_columns, data, test_size=0.3, valid_size=0.3)\n",
      "    set_knn_reg(X_columns, y_columns, data, n=5)\n",
      "    set_predictions(model, data, X_columns, y_columns)\n",
      "    get_rmse(act, pred)\n",
      "    get_grad_descent_step(alpha, X_columns, y_columns, data, n)\n",
      "\n",
      "fight_result_model_training func:\n",
      "*********************************\n",
      "    set_knn_clf(X_columns, y_columns, data, neighbors=3)\n",
      "    get_knn_grad_step( X_columns, y_columns, data, neighbors)\n",
      "    get_model_evaluation(data)\n",
      "    get_accuracy(act, pred)\n",
      "    get_knn_clf_param(filename)\n",
      "\n",
      "Prediction func:\n",
      "****************\n",
      "    get_current_date()\n",
      "    get_win_perc(fighter, data)\n",
      "    get_lose_streak(fighter, data)\n",
      "    get_win_streak(fighter, data)\n",
      "    get_td_avg(fighter, data)\n",
      "    get_td_acc(fighter, data)\n",
      "    get_td_def(fighter, data)\n",
      "    get_str_acc(fighter, data)\n",
      "    get_str_def(fighter, data)\n",
      "    get_sub_avg(fighter, data)\n",
      "    get_sapm(fighter, data)\n",
      "    get_slpm(fighter, data)\n",
      "    get_stance(fighter, data)\n",
      "    get_stance_wins_ratio(fighter, data)\n",
      "    set_new_fight(fighter, opponent, data)\n",
      "    set_knn_predictor(X_columns, y_columns, data, n=5)\n",
      "    set_knn_predictions(model, data, X_columns, y_columns)\n",
      "    set_knn_clf_predictor(X_columns, y_columns, data, neighbors)\n"
     ]
    },
    {
     "ename": "SyntaxError",
     "evalue": "invalid syntax (<ipython-input-1-d960544c3de0>, line 1)",
     "output_type": "error",
     "traceback": [
      "\u001b[0;36m  File \u001b[0;32m\"<ipython-input-1-d960544c3de0>\"\u001b[0;36m, line \u001b[0;32m1\u001b[0m\n\u001b[0;31m    >>>>\u001b[0m\n\u001b[0m     ^\u001b[0m\n\u001b[0;31mSyntaxError\u001b[0m\u001b[0;31m:\u001b[0m invalid syntax\n"
     ]
    }
   ],
   "source": [
    "%run func_def.ipynb"
   ]
  },
  {
   "cell_type": "markdown",
   "id": "907f44db-7c8e-457b-9db6-13b50f9201e0",
   "metadata": {
    "tags": []
   },
   "source": [
    "### <span style='color:green'> [done] </span> Loading data frames:"
   ]
  },
  {
   "cell_type": "code",
   "execution_count": 2,
   "id": "450f21d9-b08d-413f-a2f5-97b76d5c4339",
   "metadata": {},
   "outputs": [
    {
     "name": "stdout",
     "output_type": "stream",
     "text": [
      "Data Frame loaded: (6731, 21)\n"
     ]
    },
    {
     "data": {
      "text/html": [
       "<div>\n",
       "<style scoped>\n",
       "    .dataframe tbody tr th:only-of-type {\n",
       "        vertical-align: middle;\n",
       "    }\n",
       "\n",
       "    .dataframe tbody tr th {\n",
       "        vertical-align: top;\n",
       "    }\n",
       "\n",
       "    .dataframe thead th {\n",
       "        text-align: right;\n",
       "    }\n",
       "</style>\n",
       "<table border=\"1\" class=\"dataframe\">\n",
       "  <thead>\n",
       "    <tr style=\"text-align: right;\">\n",
       "      <th></th>\n",
       "      <th>set</th>\n",
       "      <th>date</th>\n",
       "      <th>fighter</th>\n",
       "      <th>opponent</th>\n",
       "      <th>result</th>\n",
       "      <th>kd_dif</th>\n",
       "      <th>str_dif</th>\n",
       "      <th>td_dif</th>\n",
       "      <th>sub_dif</th>\n",
       "      <th>td avg._dif</th>\n",
       "      <th>td acc._dif</th>\n",
       "      <th>td def._dif</th>\n",
       "      <th>sub. avg._dif</th>\n",
       "      <th>slpm_dif</th>\n",
       "      <th>str. acc._dif</th>\n",
       "      <th>sapm_dif</th>\n",
       "      <th>str. def_dif</th>\n",
       "      <th>stance_win_ratio</th>\n",
       "      <th>win_perc_dif</th>\n",
       "      <th>win_strk_dif</th>\n",
       "      <th>lose_strk_dif</th>\n",
       "    </tr>\n",
       "  </thead>\n",
       "  <tbody>\n",
       "    <tr>\n",
       "      <th>6728</th>\n",
       "      <td>validation</td>\n",
       "      <td>2017-07-29</td>\n",
       "      <td>Aleksandra Albu</td>\n",
       "      <td>Kailin Curran</td>\n",
       "      <td>win</td>\n",
       "      <td>0.007043</td>\n",
       "      <td>-0.13660</td>\n",
       "      <td>1.572182</td>\n",
       "      <td>0.000126</td>\n",
       "      <td>0.146611</td>\n",
       "      <td>-0.234918</td>\n",
       "      <td>0.536244</td>\n",
       "      <td>-0.191655</td>\n",
       "      <td>0.609627</td>\n",
       "      <td>0.331825</td>\n",
       "      <td>0.489153</td>\n",
       "      <td>-1.247508</td>\n",
       "      <td>-0.017271</td>\n",
       "      <td>2.039564</td>\n",
       "      <td>0.562079</td>\n",
       "      <td>-2.148820</td>\n",
       "    </tr>\n",
       "    <tr>\n",
       "      <th>6729</th>\n",
       "      <td>test</td>\n",
       "      <td>2017-07-29</td>\n",
       "      <td>Eric Shelton</td>\n",
       "      <td>Jarred Brooks</td>\n",
       "      <td>lose</td>\n",
       "      <td>0.007043</td>\n",
       "      <td>0.16454</td>\n",
       "      <td>-1.585788</td>\n",
       "      <td>0.000126</td>\n",
       "      <td>-0.957237</td>\n",
       "      <td>-0.199947</td>\n",
       "      <td>-0.770475</td>\n",
       "      <td>-0.382332</td>\n",
       "      <td>0.299636</td>\n",
       "      <td>-0.316816</td>\n",
       "      <td>0.128955</td>\n",
       "      <td>0.098283</td>\n",
       "      <td>0.076432</td>\n",
       "      <td>-0.004555</td>\n",
       "      <td>-0.009943</td>\n",
       "      <td>1.083053</td>\n",
       "    </tr>\n",
       "    <tr>\n",
       "      <th>6730</th>\n",
       "      <td>train</td>\n",
       "      <td>2017-07-29</td>\n",
       "      <td>Drew Dober</td>\n",
       "      <td>Joshua Burkman</td>\n",
       "      <td>win</td>\n",
       "      <td>1.361536</td>\n",
       "      <td>0.16454</td>\n",
       "      <td>-0.006803</td>\n",
       "      <td>0.000126</td>\n",
       "      <td>-0.996262</td>\n",
       "      <td>-0.654576</td>\n",
       "      <td>-0.602947</td>\n",
       "      <td>-0.191655</td>\n",
       "      <td>1.141041</td>\n",
       "      <td>-0.235736</td>\n",
       "      <td>0.623465</td>\n",
       "      <td>0.014171</td>\n",
       "      <td>1.488122</td>\n",
       "      <td>0.123202</td>\n",
       "      <td>-0.009943</td>\n",
       "      <td>-2.148820</td>\n",
       "    </tr>\n",
       "  </tbody>\n",
       "</table>\n",
       "</div>"
      ],
      "text/plain": [
       "             set       date          fighter        opponent result    kd_dif  \\\n",
       "6728  validation 2017-07-29  Aleksandra Albu   Kailin Curran    win  0.007043   \n",
       "6729        test 2017-07-29     Eric Shelton   Jarred Brooks   lose  0.007043   \n",
       "6730       train 2017-07-29       Drew Dober  Joshua Burkman    win  1.361536   \n",
       "\n",
       "      str_dif    td_dif   sub_dif  td avg._dif  td acc._dif  td def._dif  \\\n",
       "6728 -0.13660  1.572182  0.000126     0.146611    -0.234918     0.536244   \n",
       "6729  0.16454 -1.585788  0.000126    -0.957237    -0.199947    -0.770475   \n",
       "6730  0.16454 -0.006803  0.000126    -0.996262    -0.654576    -0.602947   \n",
       "\n",
       "      sub. avg._dif  slpm_dif  str. acc._dif  sapm_dif  str. def_dif  \\\n",
       "6728      -0.191655  0.609627       0.331825  0.489153     -1.247508   \n",
       "6729      -0.382332  0.299636      -0.316816  0.128955      0.098283   \n",
       "6730      -0.191655  1.141041      -0.235736  0.623465      0.014171   \n",
       "\n",
       "      stance_win_ratio  win_perc_dif  win_strk_dif  lose_strk_dif  \n",
       "6728         -0.017271      2.039564      0.562079      -2.148820  \n",
       "6729          0.076432     -0.004555     -0.009943       1.083053  \n",
       "6730          1.488122      0.123202     -0.009943      -2.148820  "
      ]
     },
     "execution_count": 2,
     "metadata": {},
     "output_type": "execute_result"
    }
   ],
   "source": [
    "loc = '../data/'\n",
    "file = 'fight_stat_data_trained.csv'\n",
    "df = pd.read_csv(loc+file)\n",
    "df = df[df.columns[1:len(df.columns)-4]]\n",
    "df.date = pd.to_datetime(df.date)\n",
    "print('Data Frame loaded: '+str(df.shape))\n",
    "df.tail(3)"
   ]
  },
  {
   "cell_type": "code",
   "execution_count": 3,
   "id": "4366bdb0-2489-4b41-873a-e182590526e4",
   "metadata": {},
   "outputs": [
    {
     "name": "stdout",
     "output_type": "stream",
     "text": [
      "Data Frame loaded: (11198, 17)\n"
     ]
    },
    {
     "data": {
      "text/html": [
       "<div>\n",
       "<style scoped>\n",
       "    .dataframe tbody tr th:only-of-type {\n",
       "        vertical-align: middle;\n",
       "    }\n",
       "\n",
       "    .dataframe tbody tr th {\n",
       "        vertical-align: top;\n",
       "    }\n",
       "\n",
       "    .dataframe thead th {\n",
       "        text-align: right;\n",
       "    }\n",
       "</style>\n",
       "<table border=\"1\" class=\"dataframe\">\n",
       "  <thead>\n",
       "    <tr style=\"text-align: right;\">\n",
       "      <th></th>\n",
       "      <th>name</th>\n",
       "      <th>wins</th>\n",
       "      <th>losses</th>\n",
       "      <th>draws</th>\n",
       "      <th>height</th>\n",
       "      <th>weight</th>\n",
       "      <th>reach</th>\n",
       "      <th>stance</th>\n",
       "      <th>age</th>\n",
       "      <th>slpm</th>\n",
       "      <th>str. acc.</th>\n",
       "      <th>sapm</th>\n",
       "      <th>str. def</th>\n",
       "      <th>td avg.</th>\n",
       "      <th>td acc.</th>\n",
       "      <th>td def.</th>\n",
       "      <th>sub. avg.</th>\n",
       "    </tr>\n",
       "  </thead>\n",
       "  <tbody>\n",
       "    <tr>\n",
       "      <th>11195</th>\n",
       "      <td>Carlos Zevallos</td>\n",
       "      <td>3</td>\n",
       "      <td>0.0</td>\n",
       "      <td>-0</td>\n",
       "      <td>182.88</td>\n",
       "      <td>92.25</td>\n",
       "      <td>187.37</td>\n",
       "      <td>Orthodox</td>\n",
       "      <td>37.31</td>\n",
       "      <td>4.36</td>\n",
       "      <td>0.65</td>\n",
       "      <td>2.28</td>\n",
       "      <td>0.68</td>\n",
       "      <td>0.0</td>\n",
       "      <td>0.0</td>\n",
       "      <td>1.00</td>\n",
       "      <td>0.0</td>\n",
       "    </tr>\n",
       "    <tr>\n",
       "      <th>11196</th>\n",
       "      <td>Zach Zane</td>\n",
       "      <td>10</td>\n",
       "      <td>7.0</td>\n",
       "      <td>0</td>\n",
       "      <td>170.18</td>\n",
       "      <td>65.25</td>\n",
       "      <td>175.26</td>\n",
       "      <td>Southpaw</td>\n",
       "      <td>33.00</td>\n",
       "      <td>0.87</td>\n",
       "      <td>0.56</td>\n",
       "      <td>6.67</td>\n",
       "      <td>0.20</td>\n",
       "      <td>0.0</td>\n",
       "      <td>0.0</td>\n",
       "      <td>0.26</td>\n",
       "      <td>0.0</td>\n",
       "    </tr>\n",
       "    <tr>\n",
       "      <th>11197</th>\n",
       "      <td>Roger Zapata</td>\n",
       "      <td>4</td>\n",
       "      <td>0.0</td>\n",
       "      <td>-0</td>\n",
       "      <td>180.34</td>\n",
       "      <td>76.50</td>\n",
       "      <td>184.77</td>\n",
       "      <td>Southpaw</td>\n",
       "      <td>36.00</td>\n",
       "      <td>2.60</td>\n",
       "      <td>0.51</td>\n",
       "      <td>2.13</td>\n",
       "      <td>0.36</td>\n",
       "      <td>0.0</td>\n",
       "      <td>0.0</td>\n",
       "      <td>0.81</td>\n",
       "      <td>1.4</td>\n",
       "    </tr>\n",
       "  </tbody>\n",
       "</table>\n",
       "</div>"
      ],
      "text/plain": [
       "                  name  wins  losses draws  height  weight   reach    stance  \\\n",
       "11195  Carlos Zevallos     3     0.0    -0  182.88   92.25  187.37  Orthodox   \n",
       "11196        Zach Zane    10     7.0     0  170.18   65.25  175.26  Southpaw   \n",
       "11197     Roger Zapata     4     0.0    -0  180.34   76.50  184.77  Southpaw   \n",
       "\n",
       "         age  slpm  str. acc.  sapm  str. def  td avg.  td acc.  td def.  \\\n",
       "11195  37.31  4.36       0.65  2.28      0.68      0.0      0.0     1.00   \n",
       "11196  33.00  0.87       0.56  6.67      0.20      0.0      0.0     0.26   \n",
       "11197  36.00  2.60       0.51  2.13      0.36      0.0      0.0     0.81   \n",
       "\n",
       "       sub. avg.  \n",
       "11195        0.0  \n",
       "11196        0.0  \n",
       "11197        1.4  "
      ]
     },
     "execution_count": 3,
     "metadata": {},
     "output_type": "execute_result"
    }
   ],
   "source": [
    "loc = '../data/'\n",
    "file = 'ufc_fighters_stats_processed.csv'\n",
    "stats = pd.read_csv(loc+file)\n",
    "stats = stats[stats.columns[1:]]\n",
    "print('Data Frame loaded: '+str(stats.shape))\n",
    "stats.tail(3)"
   ]
  },
  {
   "cell_type": "markdown",
   "id": "c306be3b-4cb6-4172-b925-7ebb3254cb57",
   "metadata": {
    "tags": []
   },
   "source": [
    "### <span style='color:green'> [done] </span> set new fight:"
   ]
  },
  {
   "cell_type": "code",
   "execution_count": 4,
   "id": "909b1990-8d17-4200-b351-cf3e98e05491",
   "metadata": {},
   "outputs": [
    {
     "data": {
      "text/html": [
       "<div>\n",
       "<style scoped>\n",
       "    .dataframe tbody tr th:only-of-type {\n",
       "        vertical-align: middle;\n",
       "    }\n",
       "\n",
       "    .dataframe tbody tr th {\n",
       "        vertical-align: top;\n",
       "    }\n",
       "\n",
       "    .dataframe thead th {\n",
       "        text-align: right;\n",
       "    }\n",
       "</style>\n",
       "<table border=\"1\" class=\"dataframe\">\n",
       "  <thead>\n",
       "    <tr style=\"text-align: right;\">\n",
       "      <th></th>\n",
       "      <th>set</th>\n",
       "      <th>date</th>\n",
       "      <th>fighter</th>\n",
       "      <th>opponent</th>\n",
       "      <th>result</th>\n",
       "      <th>kd_dif</th>\n",
       "      <th>str_dif</th>\n",
       "      <th>td_dif</th>\n",
       "      <th>sub_dif</th>\n",
       "      <th>td avg._dif</th>\n",
       "      <th>td acc._dif</th>\n",
       "      <th>td def._dif</th>\n",
       "      <th>sub. avg._dif</th>\n",
       "      <th>slpm_dif</th>\n",
       "      <th>str. acc._dif</th>\n",
       "      <th>sapm_dif</th>\n",
       "      <th>str. def_dif</th>\n",
       "      <th>stance_win_ratio</th>\n",
       "      <th>win_perc_dif</th>\n",
       "      <th>win_strk_dif</th>\n",
       "      <th>lose_strk_dif</th>\n",
       "    </tr>\n",
       "  </thead>\n",
       "  <tbody>\n",
       "    <tr>\n",
       "      <th>6729</th>\n",
       "      <td>test</td>\n",
       "      <td>2017-07-29</td>\n",
       "      <td>Eric Shelton</td>\n",
       "      <td>Jarred Brooks</td>\n",
       "      <td>lose</td>\n",
       "      <td>0.007043</td>\n",
       "      <td>0.16454</td>\n",
       "      <td>-1.585788</td>\n",
       "      <td>0.000126</td>\n",
       "      <td>-0.957237</td>\n",
       "      <td>-0.199947</td>\n",
       "      <td>-0.770475</td>\n",
       "      <td>-0.382332</td>\n",
       "      <td>0.299636</td>\n",
       "      <td>-0.316816</td>\n",
       "      <td>0.128955</td>\n",
       "      <td>0.098283</td>\n",
       "      <td>0.076432</td>\n",
       "      <td>-0.004555</td>\n",
       "      <td>-0.009943</td>\n",
       "      <td>1.083053</td>\n",
       "    </tr>\n",
       "    <tr>\n",
       "      <th>6730</th>\n",
       "      <td>train</td>\n",
       "      <td>2017-07-29</td>\n",
       "      <td>Drew Dober</td>\n",
       "      <td>Joshua Burkman</td>\n",
       "      <td>win</td>\n",
       "      <td>1.361536</td>\n",
       "      <td>0.16454</td>\n",
       "      <td>-0.006803</td>\n",
       "      <td>0.000126</td>\n",
       "      <td>-0.996262</td>\n",
       "      <td>-0.654576</td>\n",
       "      <td>-0.602947</td>\n",
       "      <td>-0.191655</td>\n",
       "      <td>1.141041</td>\n",
       "      <td>-0.235736</td>\n",
       "      <td>0.623465</td>\n",
       "      <td>0.014171</td>\n",
       "      <td>1.488122</td>\n",
       "      <td>0.123202</td>\n",
       "      <td>-0.009943</td>\n",
       "      <td>-2.148820</td>\n",
       "    </tr>\n",
       "    <tr>\n",
       "      <th>6731</th>\n",
       "      <td>None</td>\n",
       "      <td>2023-01-31</td>\n",
       "      <td>Israel Adesanya</td>\n",
       "      <td>Alex Pereira</td>\n",
       "      <td>None</td>\n",
       "      <td>None</td>\n",
       "      <td>None</td>\n",
       "      <td>None</td>\n",
       "      <td>None</td>\n",
       "      <td>0.000000</td>\n",
       "      <td>0.000000</td>\n",
       "      <td>0.050000</td>\n",
       "      <td>0.200000</td>\n",
       "      <td>-2.360000</td>\n",
       "      <td>-0.110000</td>\n",
       "      <td>-0.690000</td>\n",
       "      <td>0.010000</td>\n",
       "      <td>0.003398</td>\n",
       "      <td>9.000000</td>\n",
       "      <td>0.000000</td>\n",
       "      <td>0.000000</td>\n",
       "    </tr>\n",
       "  </tbody>\n",
       "</table>\n",
       "</div>"
      ],
      "text/plain": [
       "        set       date          fighter        opponent result    kd_dif  \\\n",
       "6729   test 2017-07-29     Eric Shelton   Jarred Brooks   lose  0.007043   \n",
       "6730  train 2017-07-29       Drew Dober  Joshua Burkman    win  1.361536   \n",
       "6731   None 2023-01-31  Israel Adesanya    Alex Pereira   None      None   \n",
       "\n",
       "      str_dif    td_dif   sub_dif  td avg._dif  td acc._dif  td def._dif  \\\n",
       "6729  0.16454 -1.585788  0.000126    -0.957237    -0.199947    -0.770475   \n",
       "6730  0.16454 -0.006803  0.000126    -0.996262    -0.654576    -0.602947   \n",
       "6731     None      None      None     0.000000     0.000000     0.050000   \n",
       "\n",
       "      sub. avg._dif  slpm_dif  str. acc._dif  sapm_dif  str. def_dif  \\\n",
       "6729      -0.382332  0.299636      -0.316816  0.128955      0.098283   \n",
       "6730      -0.191655  1.141041      -0.235736  0.623465      0.014171   \n",
       "6731       0.200000 -2.360000      -0.110000 -0.690000      0.010000   \n",
       "\n",
       "      stance_win_ratio  win_perc_dif  win_strk_dif  lose_strk_dif  \n",
       "6729          0.076432     -0.004555     -0.009943       1.083053  \n",
       "6730          1.488122      0.123202     -0.009943      -2.148820  \n",
       "6731          0.003398      9.000000      0.000000       0.000000  "
      ]
     },
     "execution_count": 4,
     "metadata": {},
     "output_type": "execute_result"
    }
   ],
   "source": [
    "fighter = 'Israel Adesanya'\n",
    "opponent = 'Alex Pereira'\n",
    "df = pd.concat([df,set_new_fight(fighter=fighter, opponent=opponent, data=df)], ignore_index=True)\n",
    "df.tail(3)"
   ]
  },
  {
   "cell_type": "markdown",
   "id": "061934e9-9291-4271-bc11-29fd47ceea0c",
   "metadata": {
    "tags": []
   },
   "source": [
    "### <span style='color:green'> [done] </span> train KNN fight stats model:"
   ]
  },
  {
   "cell_type": "code",
   "execution_count": 5,
   "id": "d7319a26-3517-43c9-993c-92ec1d934872",
   "metadata": {},
   "outputs": [
    {
     "data": {
      "text/html": [
       "<div>\n",
       "<style scoped>\n",
       "    .dataframe tbody tr th:only-of-type {\n",
       "        vertical-align: middle;\n",
       "    }\n",
       "\n",
       "    .dataframe tbody tr th {\n",
       "        vertical-align: top;\n",
       "    }\n",
       "\n",
       "    .dataframe thead th {\n",
       "        text-align: right;\n",
       "    }\n",
       "</style>\n",
       "<table border=\"1\" class=\"dataframe\">\n",
       "  <thead>\n",
       "    <tr style=\"text-align: right;\">\n",
       "      <th></th>\n",
       "      <th>fighter</th>\n",
       "      <th>opponent</th>\n",
       "      <th>result</th>\n",
       "      <th>kd_dif</th>\n",
       "      <th>str_dif</th>\n",
       "      <th>td_dif</th>\n",
       "      <th>sub_dif</th>\n",
       "      <th>td avg._dif</th>\n",
       "      <th>td acc._dif</th>\n",
       "      <th>td def._dif</th>\n",
       "      <th>sub. avg._dif</th>\n",
       "      <th>slpm_dif</th>\n",
       "      <th>str. acc._dif</th>\n",
       "      <th>sapm_dif</th>\n",
       "      <th>str. def_dif</th>\n",
       "      <th>stance_win_ratio</th>\n",
       "      <th>win_perc_dif</th>\n",
       "      <th>win_strk_dif</th>\n",
       "      <th>lose_strk_dif</th>\n",
       "    </tr>\n",
       "  </thead>\n",
       "  <tbody>\n",
       "    <tr>\n",
       "      <th>6729</th>\n",
       "      <td>Eric Shelton</td>\n",
       "      <td>Jarred Brooks</td>\n",
       "      <td>lose</td>\n",
       "      <td>0.007043</td>\n",
       "      <td>0.16454</td>\n",
       "      <td>-1.585788</td>\n",
       "      <td>0.000126</td>\n",
       "      <td>-0.957237</td>\n",
       "      <td>-0.199947</td>\n",
       "      <td>-0.770475</td>\n",
       "      <td>-0.382332</td>\n",
       "      <td>0.299636</td>\n",
       "      <td>-0.316816</td>\n",
       "      <td>0.128955</td>\n",
       "      <td>0.098283</td>\n",
       "      <td>0.076432</td>\n",
       "      <td>-0.004555</td>\n",
       "      <td>-0.009943</td>\n",
       "      <td>1.083053</td>\n",
       "    </tr>\n",
       "    <tr>\n",
       "      <th>6730</th>\n",
       "      <td>Drew Dober</td>\n",
       "      <td>Joshua Burkman</td>\n",
       "      <td>win</td>\n",
       "      <td>1.361536</td>\n",
       "      <td>0.16454</td>\n",
       "      <td>-0.006803</td>\n",
       "      <td>0.000126</td>\n",
       "      <td>-0.996262</td>\n",
       "      <td>-0.654576</td>\n",
       "      <td>-0.602947</td>\n",
       "      <td>-0.191655</td>\n",
       "      <td>1.141041</td>\n",
       "      <td>-0.235736</td>\n",
       "      <td>0.623465</td>\n",
       "      <td>0.014171</td>\n",
       "      <td>1.488122</td>\n",
       "      <td>0.123202</td>\n",
       "      <td>-0.009943</td>\n",
       "      <td>-2.148820</td>\n",
       "    </tr>\n",
       "    <tr>\n",
       "      <th>6731</th>\n",
       "      <td>Israel Adesanya</td>\n",
       "      <td>Alex Pereira</td>\n",
       "      <td>None</td>\n",
       "      <td>None</td>\n",
       "      <td>None</td>\n",
       "      <td>None</td>\n",
       "      <td>None</td>\n",
       "      <td>0.000000</td>\n",
       "      <td>0.000000</td>\n",
       "      <td>0.050000</td>\n",
       "      <td>0.200000</td>\n",
       "      <td>-2.360000</td>\n",
       "      <td>-0.110000</td>\n",
       "      <td>-0.690000</td>\n",
       "      <td>0.010000</td>\n",
       "      <td>0.003398</td>\n",
       "      <td>9.000000</td>\n",
       "      <td>0.000000</td>\n",
       "      <td>0.000000</td>\n",
       "    </tr>\n",
       "  </tbody>\n",
       "</table>\n",
       "</div>"
      ],
      "text/plain": [
       "              fighter        opponent result    kd_dif  str_dif    td_dif  \\\n",
       "6729     Eric Shelton   Jarred Brooks   lose  0.007043  0.16454 -1.585788   \n",
       "6730       Drew Dober  Joshua Burkman    win  1.361536  0.16454 -0.006803   \n",
       "6731  Israel Adesanya    Alex Pereira   None      None     None      None   \n",
       "\n",
       "       sub_dif  td avg._dif  td acc._dif  td def._dif  sub. avg._dif  \\\n",
       "6729  0.000126    -0.957237    -0.199947    -0.770475      -0.382332   \n",
       "6730  0.000126    -0.996262    -0.654576    -0.602947      -0.191655   \n",
       "6731      None     0.000000     0.000000     0.050000       0.200000   \n",
       "\n",
       "      slpm_dif  str. acc._dif  sapm_dif  str. def_dif  stance_win_ratio  \\\n",
       "6729  0.299636      -0.316816  0.128955      0.098283          0.076432   \n",
       "6730  1.141041      -0.235736  0.623465      0.014171          1.488122   \n",
       "6731 -2.360000      -0.110000 -0.690000      0.010000          0.003398   \n",
       "\n",
       "      win_perc_dif  win_strk_dif  lose_strk_dif  \n",
       "6729     -0.004555     -0.009943       1.083053  \n",
       "6730      0.123202     -0.009943      -2.148820  \n",
       "6731      9.000000      0.000000       0.000000  "
      ]
     },
     "execution_count": 5,
     "metadata": {},
     "output_type": "execute_result"
    }
   ],
   "source": [
    "req_data = ['fighter','opponent','result']\n",
    "y = ['kd_dif','str_dif','td_dif','sub_dif']\n",
    "X = ['td avg._dif',\n",
    "     'td acc._dif',\n",
    "     'td def._dif',\n",
    "     'sub. avg._dif',\n",
    "     'slpm_dif',\n",
    "     'str. acc._dif',\n",
    "     'sapm_dif',\n",
    "     'str. def_dif',\n",
    "     'stance_win_ratio',\n",
    "     'win_perc_dif',\n",
    "     'win_strk_dif',\n",
    "     'lose_strk_dif']\n",
    "df = df[req_data + y + X]\n",
    "df.tail(3)"
   ]
  },
  {
   "cell_type": "code",
   "execution_count": 6,
   "id": "c8ec11d4-861f-4996-b666-025a857efaca",
   "metadata": {},
   "outputs": [
    {
     "name": "stdout",
     "output_type": "stream",
     "text": [
      "Data split: Data=(6732, 20), train_set=(3274, 12), validation_set=(1446, 12), test_set=(2011, 12)\n"
     ]
    },
    {
     "data": {
      "text/html": [
       "<div>\n",
       "<style scoped>\n",
       "    .dataframe tbody tr th:only-of-type {\n",
       "        vertical-align: middle;\n",
       "    }\n",
       "\n",
       "    .dataframe tbody tr th {\n",
       "        vertical-align: top;\n",
       "    }\n",
       "\n",
       "    .dataframe thead th {\n",
       "        text-align: right;\n",
       "    }\n",
       "</style>\n",
       "<table border=\"1\" class=\"dataframe\">\n",
       "  <thead>\n",
       "    <tr style=\"text-align: right;\">\n",
       "      <th></th>\n",
       "      <th>set</th>\n",
       "      <th>fighter</th>\n",
       "      <th>opponent</th>\n",
       "      <th>result</th>\n",
       "      <th>kd_dif</th>\n",
       "      <th>str_dif</th>\n",
       "      <th>td_dif</th>\n",
       "      <th>sub_dif</th>\n",
       "      <th>td avg._dif</th>\n",
       "      <th>td acc._dif</th>\n",
       "      <th>td def._dif</th>\n",
       "      <th>sub. avg._dif</th>\n",
       "      <th>slpm_dif</th>\n",
       "      <th>str. acc._dif</th>\n",
       "      <th>sapm_dif</th>\n",
       "      <th>str. def_dif</th>\n",
       "      <th>stance_win_ratio</th>\n",
       "      <th>win_perc_dif</th>\n",
       "      <th>win_strk_dif</th>\n",
       "      <th>lose_strk_dif</th>\n",
       "    </tr>\n",
       "  </thead>\n",
       "  <tbody>\n",
       "    <tr>\n",
       "      <th>6729</th>\n",
       "      <td>validation</td>\n",
       "      <td>Eric Shelton</td>\n",
       "      <td>Jarred Brooks</td>\n",
       "      <td>lose</td>\n",
       "      <td>0.007043</td>\n",
       "      <td>0.16454</td>\n",
       "      <td>-1.585788</td>\n",
       "      <td>0.000126</td>\n",
       "      <td>-0.957237</td>\n",
       "      <td>-0.199947</td>\n",
       "      <td>-0.770475</td>\n",
       "      <td>-0.382332</td>\n",
       "      <td>0.299636</td>\n",
       "      <td>-0.316816</td>\n",
       "      <td>0.128955</td>\n",
       "      <td>0.098283</td>\n",
       "      <td>0.076432</td>\n",
       "      <td>-0.004555</td>\n",
       "      <td>-0.009943</td>\n",
       "      <td>1.083053</td>\n",
       "    </tr>\n",
       "    <tr>\n",
       "      <th>6730</th>\n",
       "      <td>validation</td>\n",
       "      <td>Drew Dober</td>\n",
       "      <td>Joshua Burkman</td>\n",
       "      <td>win</td>\n",
       "      <td>1.361536</td>\n",
       "      <td>0.16454</td>\n",
       "      <td>-0.006803</td>\n",
       "      <td>0.000126</td>\n",
       "      <td>-0.996262</td>\n",
       "      <td>-0.654576</td>\n",
       "      <td>-0.602947</td>\n",
       "      <td>-0.191655</td>\n",
       "      <td>1.141041</td>\n",
       "      <td>-0.235736</td>\n",
       "      <td>0.623465</td>\n",
       "      <td>0.014171</td>\n",
       "      <td>1.488122</td>\n",
       "      <td>0.123202</td>\n",
       "      <td>-0.009943</td>\n",
       "      <td>-2.148820</td>\n",
       "    </tr>\n",
       "    <tr>\n",
       "      <th>6731</th>\n",
       "      <td>new</td>\n",
       "      <td>Israel Adesanya</td>\n",
       "      <td>Alex Pereira</td>\n",
       "      <td>None</td>\n",
       "      <td>None</td>\n",
       "      <td>None</td>\n",
       "      <td>None</td>\n",
       "      <td>None</td>\n",
       "      <td>0.000000</td>\n",
       "      <td>0.000000</td>\n",
       "      <td>0.050000</td>\n",
       "      <td>0.200000</td>\n",
       "      <td>-2.360000</td>\n",
       "      <td>-0.110000</td>\n",
       "      <td>-0.690000</td>\n",
       "      <td>0.010000</td>\n",
       "      <td>0.003398</td>\n",
       "      <td>9.000000</td>\n",
       "      <td>0.000000</td>\n",
       "      <td>0.000000</td>\n",
       "    </tr>\n",
       "  </tbody>\n",
       "</table>\n",
       "</div>"
      ],
      "text/plain": [
       "             set          fighter        opponent result    kd_dif  str_dif  \\\n",
       "6729  validation     Eric Shelton   Jarred Brooks   lose  0.007043  0.16454   \n",
       "6730  validation       Drew Dober  Joshua Burkman    win  1.361536  0.16454   \n",
       "6731         new  Israel Adesanya    Alex Pereira   None      None     None   \n",
       "\n",
       "        td_dif   sub_dif  td avg._dif  td acc._dif  td def._dif  \\\n",
       "6729 -1.585788  0.000126    -0.957237    -0.199947    -0.770475   \n",
       "6730 -0.006803  0.000126    -0.996262    -0.654576    -0.602947   \n",
       "6731      None      None     0.000000     0.000000     0.050000   \n",
       "\n",
       "      sub. avg._dif  slpm_dif  str. acc._dif  sapm_dif  str. def_dif  \\\n",
       "6729      -0.382332  0.299636      -0.316816  0.128955      0.098283   \n",
       "6730      -0.191655  1.141041      -0.235736  0.623465      0.014171   \n",
       "6731       0.200000 -2.360000      -0.110000 -0.690000      0.010000   \n",
       "\n",
       "      stance_win_ratio  win_perc_dif  win_strk_dif  lose_strk_dif  \n",
       "6729          0.076432     -0.004555     -0.009943       1.083053  \n",
       "6730          1.488122      0.123202     -0.009943      -2.148820  \n",
       "6731          0.003398      9.000000      0.000000       0.000000  "
      ]
     },
     "execution_count": 6,
     "metadata": {},
     "output_type": "execute_result"
    }
   ],
   "source": [
    "df = set_train_test(X_columns=X, y_columns=y, data=df, test_size=0.3, valid_size=0.3)\n",
    "df.tail(3)"
   ]
  },
  {
   "cell_type": "markdown",
   "id": "d2c97836-d022-408c-8ff2-0d8846f08f44",
   "metadata": {},
   "source": [
    "#### get tuned KNN parameters:"
   ]
  },
  {
   "cell_type": "code",
   "execution_count": 7,
   "id": "32e2951b-399f-43e3-8502-cba582a44c20",
   "metadata": {},
   "outputs": [
    {
     "name": "stdout",
     "output_type": "stream",
     "text": [
      "KNN optimized neighbors number = 29\n"
     ]
    },
    {
     "data": {
      "text/plain": [
       "KNeighborsRegressor(n_neighbors=29)"
      ]
     },
     "execution_count": 7,
     "metadata": {},
     "output_type": "execute_result"
    }
   ],
   "source": [
    "param = pd.read_csv('../global_variables/ml_models_parameters.csv').drop(columns=['Unnamed: 0'])\n",
    "param = param[param.ml_model=='knn_reg'].reset_index(drop=True)\n",
    "neighbors = int(param.value[0])\n",
    "print('KNN optimized neighbors number = %d' %neighbors)\n",
    "\n",
    "knn_model = set_knn_predictor(X_columns=X, y_columns=y, data=df, n=neighbors)\n",
    "knn_model"
   ]
  },
  {
   "cell_type": "markdown",
   "id": "f013ca6c-c721-45ae-813c-00c8391c9735",
   "metadata": {},
   "source": [
    "#### predict fight statistics:"
   ]
  },
  {
   "cell_type": "code",
   "execution_count": 8,
   "id": "600db514-0193-4558-8c9b-09b76ae6f412",
   "metadata": {},
   "outputs": [
    {
     "data": {
      "text/html": [
       "<div>\n",
       "<style scoped>\n",
       "    .dataframe tbody tr th:only-of-type {\n",
       "        vertical-align: middle;\n",
       "    }\n",
       "\n",
       "    .dataframe tbody tr th {\n",
       "        vertical-align: top;\n",
       "    }\n",
       "\n",
       "    .dataframe thead th {\n",
       "        text-align: right;\n",
       "    }\n",
       "</style>\n",
       "<table border=\"1\" class=\"dataframe\">\n",
       "  <thead>\n",
       "    <tr style=\"text-align: right;\">\n",
       "      <th></th>\n",
       "      <th>set</th>\n",
       "      <th>fighter</th>\n",
       "      <th>opponent</th>\n",
       "      <th>result</th>\n",
       "      <th>kd_dif</th>\n",
       "      <th>str_dif</th>\n",
       "      <th>td_dif</th>\n",
       "      <th>sub_dif</th>\n",
       "      <th>td avg._dif</th>\n",
       "      <th>td acc._dif</th>\n",
       "      <th>td def._dif</th>\n",
       "      <th>sub. avg._dif</th>\n",
       "      <th>slpm_dif</th>\n",
       "      <th>str. acc._dif</th>\n",
       "      <th>sapm_dif</th>\n",
       "      <th>str. def_dif</th>\n",
       "      <th>stance_win_ratio</th>\n",
       "      <th>win_perc_dif</th>\n",
       "      <th>win_strk_dif</th>\n",
       "      <th>lose_strk_dif</th>\n",
       "    </tr>\n",
       "  </thead>\n",
       "  <tbody>\n",
       "    <tr>\n",
       "      <th>6729</th>\n",
       "      <td>validation</td>\n",
       "      <td>Eric Shelton</td>\n",
       "      <td>Jarred Brooks</td>\n",
       "      <td>lose</td>\n",
       "      <td>0.33399</td>\n",
       "      <td>0.33399</td>\n",
       "      <td>0.33399</td>\n",
       "      <td>0.33399</td>\n",
       "      <td>-0.957237</td>\n",
       "      <td>-0.199947</td>\n",
       "      <td>-0.770475</td>\n",
       "      <td>-0.382332</td>\n",
       "      <td>0.299636</td>\n",
       "      <td>-0.316816</td>\n",
       "      <td>0.128955</td>\n",
       "      <td>0.098283</td>\n",
       "      <td>0.076432</td>\n",
       "      <td>-0.004555</td>\n",
       "      <td>-0.009943</td>\n",
       "      <td>1.083053</td>\n",
       "    </tr>\n",
       "    <tr>\n",
       "      <th>6730</th>\n",
       "      <td>validation</td>\n",
       "      <td>Drew Dober</td>\n",
       "      <td>Joshua Burkman</td>\n",
       "      <td>win</td>\n",
       "      <td>0.520816</td>\n",
       "      <td>0.520816</td>\n",
       "      <td>0.520816</td>\n",
       "      <td>0.520816</td>\n",
       "      <td>-0.996262</td>\n",
       "      <td>-0.654576</td>\n",
       "      <td>-0.602947</td>\n",
       "      <td>-0.191655</td>\n",
       "      <td>1.141041</td>\n",
       "      <td>-0.235736</td>\n",
       "      <td>0.623465</td>\n",
       "      <td>0.014171</td>\n",
       "      <td>1.488122</td>\n",
       "      <td>0.123202</td>\n",
       "      <td>-0.009943</td>\n",
       "      <td>-2.148820</td>\n",
       "    </tr>\n",
       "    <tr>\n",
       "      <th>6731</th>\n",
       "      <td>new</td>\n",
       "      <td>Israel Adesanya</td>\n",
       "      <td>Alex Pereira</td>\n",
       "      <td>None</td>\n",
       "      <td>0.05375</td>\n",
       "      <td>0.05375</td>\n",
       "      <td>0.05375</td>\n",
       "      <td>0.05375</td>\n",
       "      <td>0.000000</td>\n",
       "      <td>0.000000</td>\n",
       "      <td>0.050000</td>\n",
       "      <td>0.200000</td>\n",
       "      <td>-2.360000</td>\n",
       "      <td>-0.110000</td>\n",
       "      <td>-0.690000</td>\n",
       "      <td>0.010000</td>\n",
       "      <td>0.003398</td>\n",
       "      <td>9.000000</td>\n",
       "      <td>0.000000</td>\n",
       "      <td>0.000000</td>\n",
       "    </tr>\n",
       "  </tbody>\n",
       "</table>\n",
       "</div>"
      ],
      "text/plain": [
       "             set          fighter        opponent result    kd_dif   str_dif  \\\n",
       "6729  validation     Eric Shelton   Jarred Brooks   lose   0.33399   0.33399   \n",
       "6730  validation       Drew Dober  Joshua Burkman    win  0.520816  0.520816   \n",
       "6731         new  Israel Adesanya    Alex Pereira   None   0.05375   0.05375   \n",
       "\n",
       "        td_dif   sub_dif  td avg._dif  td acc._dif  td def._dif  \\\n",
       "6729   0.33399   0.33399    -0.957237    -0.199947    -0.770475   \n",
       "6730  0.520816  0.520816    -0.996262    -0.654576    -0.602947   \n",
       "6731   0.05375   0.05375     0.000000     0.000000     0.050000   \n",
       "\n",
       "      sub. avg._dif  slpm_dif  str. acc._dif  sapm_dif  str. def_dif  \\\n",
       "6729      -0.382332  0.299636      -0.316816  0.128955      0.098283   \n",
       "6730      -0.191655  1.141041      -0.235736  0.623465      0.014171   \n",
       "6731       0.200000 -2.360000      -0.110000 -0.690000      0.010000   \n",
       "\n",
       "      stance_win_ratio  win_perc_dif  win_strk_dif  lose_strk_dif  \n",
       "6729          0.076432     -0.004555     -0.009943       1.083053  \n",
       "6730          1.488122      0.123202     -0.009943      -2.148820  \n",
       "6731          0.003398      9.000000      0.000000       0.000000  "
      ]
     },
     "execution_count": 8,
     "metadata": {},
     "output_type": "execute_result"
    }
   ],
   "source": [
    "df = set_knn_predictions(model=knn_model, X_columns=X, y_columns=y, data=df)\n",
    "df.tail(3)"
   ]
  },
  {
   "cell_type": "markdown",
   "id": "99aa9004-9dd7-4542-a065-ea83ff094deb",
   "metadata": {
    "tags": []
   },
   "source": [
    "### <span style='color:green'> [done] </span> train KNN fight results model:"
   ]
  },
  {
   "cell_type": "code",
   "execution_count": 9,
   "id": "136d7ca9-4110-42e9-b0b3-392354f35c1a",
   "metadata": {},
   "outputs": [
    {
     "name": "stdout",
     "output_type": "stream",
     "text": [
      "X : Index(['kd_dif', 'str_dif', 'td_dif', 'sub_dif', 'td avg._dif', 'td acc._dif',\n",
      "       'td def._dif', 'sub. avg._dif', 'slpm_dif', 'str. acc._dif', 'sapm_dif',\n",
      "       'str. def_dif', 'stance_win_ratio', 'win_perc_dif', 'win_strk_dif',\n",
      "       'lose_strk_dif'],\n",
      "      dtype='object')\n",
      "y : result\n"
     ]
    }
   ],
   "source": [
    "X = df.columns[4:len(df.columns)]\n",
    "y = 'result'\n",
    "print('X : %s' %X)\n",
    "print('y : %s' %y)"
   ]
  },
  {
   "cell_type": "code",
   "execution_count": 10,
   "id": "83c4265c-8f1a-49ba-bb1a-2064cd2cd6f0",
   "metadata": {},
   "outputs": [
    {
     "data": {
      "text/html": [
       "<div>\n",
       "<style scoped>\n",
       "    .dataframe tbody tr th:only-of-type {\n",
       "        vertical-align: middle;\n",
       "    }\n",
       "\n",
       "    .dataframe tbody tr th {\n",
       "        vertical-align: top;\n",
       "    }\n",
       "\n",
       "    .dataframe thead th {\n",
       "        text-align: right;\n",
       "    }\n",
       "</style>\n",
       "<table border=\"1\" class=\"dataframe\">\n",
       "  <thead>\n",
       "    <tr style=\"text-align: right;\">\n",
       "      <th></th>\n",
       "      <th>ml_model</th>\n",
       "      <th>parameter_name</th>\n",
       "      <th>value</th>\n",
       "      <th>accuracy</th>\n",
       "    </tr>\n",
       "  </thead>\n",
       "  <tbody>\n",
       "    <tr>\n",
       "      <th>0</th>\n",
       "      <td>knn_reg</td>\n",
       "      <td>neighbors</td>\n",
       "      <td>29</td>\n",
       "      <td>0.629700</td>\n",
       "    </tr>\n",
       "    <tr>\n",
       "      <th>1</th>\n",
       "      <td>knn_clf</td>\n",
       "      <td>neighbors</td>\n",
       "      <td>512</td>\n",
       "      <td>0.859539</td>\n",
       "    </tr>\n",
       "  </tbody>\n",
       "</table>\n",
       "</div>"
      ],
      "text/plain": [
       "  ml_model parameter_name  value  accuracy\n",
       "0  knn_reg      neighbors     29  0.629700\n",
       "1  knn_clf      neighbors    512  0.859539"
      ]
     },
     "execution_count": 10,
     "metadata": {},
     "output_type": "execute_result"
    }
   ],
   "source": [
    "param = pd.read_csv('../global_variables/ml_models_parameters.csv').drop(columns=['Unnamed: 0'])\n",
    "param"
   ]
  },
  {
   "cell_type": "code",
   "execution_count": 11,
   "id": "53d3ac23-1e0b-43b9-b112-7a9a4bcf50bc",
   "metadata": {},
   "outputs": [
    {
     "name": "stdout",
     "output_type": "stream",
     "text": [
      "K-Neares Neighbors: neighbors = 512\n"
     ]
    },
    {
     "data": {
      "text/plain": [
       "KNeighborsClassifier(n_neighbors=512)"
      ]
     },
     "execution_count": 11,
     "metadata": {},
     "output_type": "execute_result"
    }
   ],
   "source": [
    "n = np.min(param.value[param.ml_model=='knn_clf'])   \n",
    "knn_clf_model = set_knn_clf_predictor(X_columns=X, y_columns=y, data=df, neighbors=n)\n",
    "knn_clf_model"
   ]
  },
  {
   "cell_type": "code",
   "execution_count": 16,
   "id": "b2622203-eb87-4712-9294-6a0df6748b1c",
   "metadata": {},
   "outputs": [
    {
     "data": {
      "text/html": [
       "<div>\n",
       "<style scoped>\n",
       "    .dataframe tbody tr th:only-of-type {\n",
       "        vertical-align: middle;\n",
       "    }\n",
       "\n",
       "    .dataframe tbody tr th {\n",
       "        vertical-align: top;\n",
       "    }\n",
       "\n",
       "    .dataframe thead th {\n",
       "        text-align: right;\n",
       "    }\n",
       "</style>\n",
       "<table border=\"1\" class=\"dataframe\">\n",
       "  <thead>\n",
       "    <tr style=\"text-align: right;\">\n",
       "      <th></th>\n",
       "      <th>set</th>\n",
       "      <th>fighter</th>\n",
       "      <th>opponent</th>\n",
       "      <th>result</th>\n",
       "      <th>kd_dif</th>\n",
       "      <th>str_dif</th>\n",
       "      <th>td_dif</th>\n",
       "      <th>sub_dif</th>\n",
       "      <th>td avg._dif</th>\n",
       "      <th>td acc._dif</th>\n",
       "      <th>td def._dif</th>\n",
       "      <th>sub. avg._dif</th>\n",
       "      <th>slpm_dif</th>\n",
       "      <th>str. acc._dif</th>\n",
       "      <th>sapm_dif</th>\n",
       "      <th>str. def_dif</th>\n",
       "      <th>stance_win_ratio</th>\n",
       "      <th>win_perc_dif</th>\n",
       "      <th>win_strk_dif</th>\n",
       "      <th>lose_strk_dif</th>\n",
       "    </tr>\n",
       "  </thead>\n",
       "  <tbody>\n",
       "    <tr>\n",
       "      <th>6731</th>\n",
       "      <td>new</td>\n",
       "      <td>Israel Adesanya</td>\n",
       "      <td>Alex Pereira</td>\n",
       "      <td>None</td>\n",
       "      <td>0.05375</td>\n",
       "      <td>0.05375</td>\n",
       "      <td>0.05375</td>\n",
       "      <td>0.05375</td>\n",
       "      <td>0.0</td>\n",
       "      <td>0.0</td>\n",
       "      <td>0.05</td>\n",
       "      <td>0.2</td>\n",
       "      <td>-2.36</td>\n",
       "      <td>-0.11</td>\n",
       "      <td>-0.69</td>\n",
       "      <td>0.01</td>\n",
       "      <td>0.003398</td>\n",
       "      <td>9.0</td>\n",
       "      <td>0.0</td>\n",
       "      <td>0.0</td>\n",
       "    </tr>\n",
       "  </tbody>\n",
       "</table>\n",
       "</div>"
      ],
      "text/plain": [
       "      set          fighter      opponent result   kd_dif  str_dif   td_dif  \\\n",
       "6731  new  Israel Adesanya  Alex Pereira   None  0.05375  0.05375  0.05375   \n",
       "\n",
       "      sub_dif  td avg._dif  td acc._dif  td def._dif  sub. avg._dif  slpm_dif  \\\n",
       "6731  0.05375          0.0          0.0         0.05            0.2     -2.36   \n",
       "\n",
       "      str. acc._dif  sapm_dif  str. def_dif  stance_win_ratio  win_perc_dif  \\\n",
       "6731          -0.11     -0.69          0.01          0.003398           9.0   \n",
       "\n",
       "      win_strk_dif  lose_strk_dif  \n",
       "6731           0.0            0.0  "
      ]
     },
     "execution_count": 16,
     "metadata": {},
     "output_type": "execute_result"
    }
   ],
   "source": [
    "df.tail(1)"
   ]
  },
  {
   "cell_type": "code",
   "execution_count": null,
   "id": "8293cf91-5c0c-4dc5-a65f-be5e604340be",
   "metadata": {},
   "outputs": [],
   "source": [
    "df = set_knn_predictions(model=knn_clf_model, data=df, X_columns, y_columns)\n",
    "df.tail(1)"
   ]
  },
  {
   "cell_type": "code",
   "execution_count": 12,
   "id": "3c1bff54-3281-4d63-8d2a-440d7864797e",
   "metadata": {},
   "outputs": [],
   "source": [
    ">>>"
   ]
  },
  {
   "cell_type": "markdown",
   "id": "0dbf7603-6a2e-43ff-ae03-d16c0cd27165",
   "metadata": {
    "tags": []
   },
   "source": [
    "### <span style='color:green'> [done] </span> train SVM fight results model:"
   ]
  },
  {
   "cell_type": "code",
   "execution_count": 13,
   "id": "42c34116-46bd-4f0b-ac13-d99923ca9bcc",
   "metadata": {},
   "outputs": [
    {
     "name": "stdout",
     "output_type": "stream",
     "text": [
      "X : Index(['kd_dif', 'str_dif', 'td_dif', 'sub_dif', 'td avg._dif', 'td acc._dif',\n",
      "       'td def._dif', 'sub. avg._dif', 'slpm_dif', 'str. acc._dif', 'sapm_dif',\n",
      "       'str. def_dif', 'stance_win_ratio', 'win_perc_dif', 'win_strk_dif',\n",
      "       'lose_strk_dif'],\n",
      "      dtype='object')\n",
      "y : result\n"
     ]
    }
   ],
   "source": [
    "X = df.columns[4:len(df.columns)]\n",
    "y = 'result'\n",
    "print('X : %s' %X)\n",
    "print('y : %s' %y)"
   ]
  },
  {
   "cell_type": "markdown",
   "id": "a8d04af5-7520-4f2d-a8dc-c3ba5688ea62",
   "metadata": {},
   "source": [
    "#### get tuned knn_clf parameters:"
   ]
  },
  {
   "cell_type": "code",
   "execution_count": 14,
   "id": "7e93ba2e-1293-458e-bcff-99967311d3c9",
   "metadata": {},
   "outputs": [
    {
     "data": {
      "text/html": [
       "<div>\n",
       "<style scoped>\n",
       "    .dataframe tbody tr th:only-of-type {\n",
       "        vertical-align: middle;\n",
       "    }\n",
       "\n",
       "    .dataframe tbody tr th {\n",
       "        vertical-align: top;\n",
       "    }\n",
       "\n",
       "    .dataframe thead th {\n",
       "        text-align: right;\n",
       "    }\n",
       "</style>\n",
       "<table border=\"1\" class=\"dataframe\">\n",
       "  <thead>\n",
       "    <tr style=\"text-align: right;\">\n",
       "      <th></th>\n",
       "      <th>ml_model</th>\n",
       "      <th>parameter_name</th>\n",
       "      <th>value</th>\n",
       "      <th>accuracy</th>\n",
       "    </tr>\n",
       "  </thead>\n",
       "  <tbody>\n",
       "    <tr>\n",
       "      <th>0</th>\n",
       "      <td>knn_reg</td>\n",
       "      <td>neighbors</td>\n",
       "      <td>29</td>\n",
       "      <td>0.629700</td>\n",
       "    </tr>\n",
       "    <tr>\n",
       "      <th>1</th>\n",
       "      <td>knn_clf</td>\n",
       "      <td>neighbors</td>\n",
       "      <td>512</td>\n",
       "      <td>0.859539</td>\n",
       "    </tr>\n",
       "  </tbody>\n",
       "</table>\n",
       "</div>"
      ],
      "text/plain": [
       "  ml_model parameter_name  value  accuracy\n",
       "0  knn_reg      neighbors     29  0.629700\n",
       "1  knn_clf      neighbors    512  0.859539"
      ]
     },
     "execution_count": 14,
     "metadata": {},
     "output_type": "execute_result"
    }
   ],
   "source": [
    "param = pd.read_csv('../global_variables/ml_models_parameters.csv').drop(columns=['Unnamed: 0'])\n",
    "param"
   ]
  },
  {
   "cell_type": "code",
   "execution_count": 15,
   "id": "f8fd7139-c1fc-44b4-9741-d86c73f25d51",
   "metadata": {},
   "outputs": [
    {
     "ename": "KeyError",
     "evalue": "0",
     "output_type": "error",
     "traceback": [
      "\u001b[0;31m---------------------------------------------------------------------------\u001b[0m",
      "\u001b[0;31mKeyError\u001b[0m                                  Traceback (most recent call last)",
      "\u001b[0;32m/homes/sagic/.conda/envs/py3/lib/python3.7/site-packages/pandas/core/indexes/base.py\u001b[0m in \u001b[0;36mget_loc\u001b[0;34m(self, key, method, tolerance)\u001b[0m\n\u001b[1;32m   3360\u001b[0m             \u001b[0;32mtry\u001b[0m\u001b[0;34m:\u001b[0m\u001b[0;34m\u001b[0m\u001b[0;34m\u001b[0m\u001b[0m\n\u001b[0;32m-> 3361\u001b[0;31m                 \u001b[0;32mreturn\u001b[0m \u001b[0mself\u001b[0m\u001b[0;34m.\u001b[0m\u001b[0m_engine\u001b[0m\u001b[0;34m.\u001b[0m\u001b[0mget_loc\u001b[0m\u001b[0;34m(\u001b[0m\u001b[0mcasted_key\u001b[0m\u001b[0;34m)\u001b[0m\u001b[0;34m\u001b[0m\u001b[0;34m\u001b[0m\u001b[0m\n\u001b[0m\u001b[1;32m   3362\u001b[0m             \u001b[0;32mexcept\u001b[0m \u001b[0mKeyError\u001b[0m \u001b[0;32mas\u001b[0m \u001b[0merr\u001b[0m\u001b[0;34m:\u001b[0m\u001b[0;34m\u001b[0m\u001b[0;34m\u001b[0m\u001b[0m\n",
      "\u001b[0;32m/homes/sagic/.conda/envs/py3/lib/python3.7/site-packages/pandas/_libs/index.pyx\u001b[0m in \u001b[0;36mpandas._libs.index.IndexEngine.get_loc\u001b[0;34m()\u001b[0m\n",
      "\u001b[0;32m/homes/sagic/.conda/envs/py3/lib/python3.7/site-packages/pandas/_libs/index.pyx\u001b[0m in \u001b[0;36mpandas._libs.index.IndexEngine.get_loc\u001b[0;34m()\u001b[0m\n",
      "\u001b[0;32mpandas/_libs/hashtable_class_helper.pxi\u001b[0m in \u001b[0;36mpandas._libs.hashtable.Int64HashTable.get_item\u001b[0;34m()\u001b[0m\n",
      "\u001b[0;32mpandas/_libs/hashtable_class_helper.pxi\u001b[0m in \u001b[0;36mpandas._libs.hashtable.Int64HashTable.get_item\u001b[0;34m()\u001b[0m\n",
      "\u001b[0;31mKeyError\u001b[0m: 0",
      "\nThe above exception was the direct cause of the following exception:\n",
      "\u001b[0;31mKeyError\u001b[0m                                  Traceback (most recent call last)",
      "\u001b[0;32m<ipython-input-15-745b0dbac67b>\u001b[0m in \u001b[0;36m<module>\u001b[0;34m()\u001b[0m\n\u001b[1;32m      1\u001b[0m \u001b[0mparam\u001b[0m \u001b[0;34m=\u001b[0m \u001b[0mpd\u001b[0m\u001b[0;34m.\u001b[0m\u001b[0mread_csv\u001b[0m\u001b[0;34m(\u001b[0m\u001b[0;34m'../global_variables/ml_models_parameters.csv'\u001b[0m\u001b[0;34m)\u001b[0m\u001b[0;34m.\u001b[0m\u001b[0mdrop\u001b[0m\u001b[0;34m(\u001b[0m\u001b[0mcolumns\u001b[0m\u001b[0;34m=\u001b[0m\u001b[0;34m[\u001b[0m\u001b[0;34m'Unnamed: 0'\u001b[0m\u001b[0;34m]\u001b[0m\u001b[0;34m)\u001b[0m\u001b[0;34m\u001b[0m\u001b[0;34m\u001b[0m\u001b[0m\n\u001b[1;32m      2\u001b[0m \u001b[0mparam\u001b[0m \u001b[0;34m=\u001b[0m \u001b[0mparam\u001b[0m\u001b[0;34m[\u001b[0m\u001b[0mparam\u001b[0m\u001b[0;34m.\u001b[0m\u001b[0mml_model\u001b[0m\u001b[0;34m==\u001b[0m\u001b[0;34m'SVM'\u001b[0m\u001b[0;34m]\u001b[0m\u001b[0;34m.\u001b[0m\u001b[0mreset_index\u001b[0m\u001b[0;34m(\u001b[0m\u001b[0mdrop\u001b[0m\u001b[0;34m=\u001b[0m\u001b[0;32mTrue\u001b[0m\u001b[0;34m)\u001b[0m\u001b[0;34m\u001b[0m\u001b[0;34m\u001b[0m\u001b[0m\n\u001b[0;32m----> 3\u001b[0;31m \u001b[0mkernel\u001b[0m \u001b[0;34m=\u001b[0m \u001b[0mparam\u001b[0m\u001b[0;34m.\u001b[0m\u001b[0mvalue\u001b[0m\u001b[0;34m[\u001b[0m\u001b[0mparam\u001b[0m\u001b[0;34m.\u001b[0m\u001b[0mparameter_name\u001b[0m\u001b[0;34m==\u001b[0m\u001b[0;34m'kernel'\u001b[0m\u001b[0;34m]\u001b[0m\u001b[0;34m[\u001b[0m\u001b[0;36m0\u001b[0m\u001b[0;34m]\u001b[0m\u001b[0;34m\u001b[0m\u001b[0;34m\u001b[0m\u001b[0m\n\u001b[0m\u001b[1;32m      4\u001b[0m \u001b[0;34m\u001b[0m\u001b[0m\n\u001b[1;32m      5\u001b[0m \u001b[0;31m# default values:\u001b[0m\u001b[0;34m\u001b[0m\u001b[0;34m\u001b[0m\u001b[0;34m\u001b[0m\u001b[0m\n",
      "\u001b[0;32m/homes/sagic/.conda/envs/py3/lib/python3.7/site-packages/pandas/core/series.py\u001b[0m in \u001b[0;36m__getitem__\u001b[0;34m(self, key)\u001b[0m\n\u001b[1;32m    940\u001b[0m \u001b[0;34m\u001b[0m\u001b[0m\n\u001b[1;32m    941\u001b[0m         \u001b[0;32melif\u001b[0m \u001b[0mkey_is_scalar\u001b[0m\u001b[0;34m:\u001b[0m\u001b[0;34m\u001b[0m\u001b[0;34m\u001b[0m\u001b[0m\n\u001b[0;32m--> 942\u001b[0;31m             \u001b[0;32mreturn\u001b[0m \u001b[0mself\u001b[0m\u001b[0;34m.\u001b[0m\u001b[0m_get_value\u001b[0m\u001b[0;34m(\u001b[0m\u001b[0mkey\u001b[0m\u001b[0;34m)\u001b[0m\u001b[0;34m\u001b[0m\u001b[0;34m\u001b[0m\u001b[0m\n\u001b[0m\u001b[1;32m    943\u001b[0m \u001b[0;34m\u001b[0m\u001b[0m\n\u001b[1;32m    944\u001b[0m         \u001b[0;32mif\u001b[0m \u001b[0mis_hashable\u001b[0m\u001b[0;34m(\u001b[0m\u001b[0mkey\u001b[0m\u001b[0;34m)\u001b[0m\u001b[0;34m:\u001b[0m\u001b[0;34m\u001b[0m\u001b[0;34m\u001b[0m\u001b[0m\n",
      "\u001b[0;32m/homes/sagic/.conda/envs/py3/lib/python3.7/site-packages/pandas/core/series.py\u001b[0m in \u001b[0;36m_get_value\u001b[0;34m(self, label, takeable)\u001b[0m\n\u001b[1;32m   1049\u001b[0m \u001b[0;34m\u001b[0m\u001b[0m\n\u001b[1;32m   1050\u001b[0m         \u001b[0;31m# Similar to Index.get_value, but we do not fall back to positional\u001b[0m\u001b[0;34m\u001b[0m\u001b[0;34m\u001b[0m\u001b[0;34m\u001b[0m\u001b[0m\n\u001b[0;32m-> 1051\u001b[0;31m         \u001b[0mloc\u001b[0m \u001b[0;34m=\u001b[0m \u001b[0mself\u001b[0m\u001b[0;34m.\u001b[0m\u001b[0mindex\u001b[0m\u001b[0;34m.\u001b[0m\u001b[0mget_loc\u001b[0m\u001b[0;34m(\u001b[0m\u001b[0mlabel\u001b[0m\u001b[0;34m)\u001b[0m\u001b[0;34m\u001b[0m\u001b[0;34m\u001b[0m\u001b[0m\n\u001b[0m\u001b[1;32m   1052\u001b[0m         \u001b[0;32mreturn\u001b[0m \u001b[0mself\u001b[0m\u001b[0;34m.\u001b[0m\u001b[0mindex\u001b[0m\u001b[0;34m.\u001b[0m\u001b[0m_get_values_for_loc\u001b[0m\u001b[0;34m(\u001b[0m\u001b[0mself\u001b[0m\u001b[0;34m,\u001b[0m \u001b[0mloc\u001b[0m\u001b[0;34m,\u001b[0m \u001b[0mlabel\u001b[0m\u001b[0;34m)\u001b[0m\u001b[0;34m\u001b[0m\u001b[0;34m\u001b[0m\u001b[0m\n\u001b[1;32m   1053\u001b[0m \u001b[0;34m\u001b[0m\u001b[0m\n",
      "\u001b[0;32m/homes/sagic/.conda/envs/py3/lib/python3.7/site-packages/pandas/core/indexes/base.py\u001b[0m in \u001b[0;36mget_loc\u001b[0;34m(self, key, method, tolerance)\u001b[0m\n\u001b[1;32m   3361\u001b[0m                 \u001b[0;32mreturn\u001b[0m \u001b[0mself\u001b[0m\u001b[0;34m.\u001b[0m\u001b[0m_engine\u001b[0m\u001b[0;34m.\u001b[0m\u001b[0mget_loc\u001b[0m\u001b[0;34m(\u001b[0m\u001b[0mcasted_key\u001b[0m\u001b[0;34m)\u001b[0m\u001b[0;34m\u001b[0m\u001b[0;34m\u001b[0m\u001b[0m\n\u001b[1;32m   3362\u001b[0m             \u001b[0;32mexcept\u001b[0m \u001b[0mKeyError\u001b[0m \u001b[0;32mas\u001b[0m \u001b[0merr\u001b[0m\u001b[0;34m:\u001b[0m\u001b[0;34m\u001b[0m\u001b[0;34m\u001b[0m\u001b[0m\n\u001b[0;32m-> 3363\u001b[0;31m                 \u001b[0;32mraise\u001b[0m \u001b[0mKeyError\u001b[0m\u001b[0;34m(\u001b[0m\u001b[0mkey\u001b[0m\u001b[0;34m)\u001b[0m \u001b[0;32mfrom\u001b[0m \u001b[0merr\u001b[0m\u001b[0;34m\u001b[0m\u001b[0;34m\u001b[0m\u001b[0m\n\u001b[0m\u001b[1;32m   3364\u001b[0m \u001b[0;34m\u001b[0m\u001b[0m\n\u001b[1;32m   3365\u001b[0m         \u001b[0;32mif\u001b[0m \u001b[0mis_scalar\u001b[0m\u001b[0;34m(\u001b[0m\u001b[0mkey\u001b[0m\u001b[0;34m)\u001b[0m \u001b[0;32mand\u001b[0m \u001b[0misna\u001b[0m\u001b[0;34m(\u001b[0m\u001b[0mkey\u001b[0m\u001b[0;34m)\u001b[0m \u001b[0;32mand\u001b[0m \u001b[0;32mnot\u001b[0m \u001b[0mself\u001b[0m\u001b[0;34m.\u001b[0m\u001b[0mhasnans\u001b[0m\u001b[0;34m:\u001b[0m\u001b[0;34m\u001b[0m\u001b[0;34m\u001b[0m\u001b[0m\n",
      "\u001b[0;31mKeyError\u001b[0m: 0"
     ]
    }
   ],
   "source": [
    "param = pd.read_csv('../global_variables/ml_models_parameters.csv').drop(columns=['Unnamed: 0'])\n",
    "param = param[param.ml_model=='SVM'].reset_index(drop=True)\n",
    "kernel = param.value[param.parameter_name=='kernel'][0]\n",
    "\n",
    "# default values: \n",
    "C, degree, gamma = 1, 'scale', 2\n",
    "\n",
    "if kernel=='linear':\n",
    "    C = np.min(param.value[param.parameter_name=='C'])\n",
    "    parameter = 'C'\n",
    "    value = C\n",
    "elif kernel=='poly':\n",
    "    degree = int(np.min(param.value[param.parameter_name=='degree']))\n",
    "    parameter = 'degree'\n",
    "    value = degree\n",
    "elif kernel=='rbf':    \n",
    "    gamma = float(np.min(param.value[param.parameter_name=='gamma']))\n",
    "    parameter = 'gamma'\n",
    "    value = gamma\n",
    "\n",
    "print('SVM %s kernel: %s = %s' %(kernel,parameter,value))    \n",
    "svm_model = set_svm_predictor(X_columns=X, y_columns=y, data=df, C=C, gamma=gamma, kernel=kernel, degree=degree)\n",
    "svm_model"
   ]
  },
  {
   "cell_type": "code",
   "execution_count": null,
   "id": "fae4dc0b-6f00-4a39-8cd4-f3218016bd52",
   "metadata": {},
   "outputs": [],
   "source": [
    "svm_model = set_knn_predictor(X_columns=X, y_columns=y, data=df, n=neighbors)\n",
    "svm_model"
   ]
  },
  {
   "cell_type": "code",
   "execution_count": null,
   "id": "696353af-ac3f-44a6-b8c1-626a81f239f8",
   "metadata": {},
   "outputs": [],
   "source": [
    ">>>>>>>>>>>>>>>>>>"
   ]
  },
  {
   "cell_type": "markdown",
   "id": "78ad41cc",
   "metadata": {
    "tags": []
   },
   "source": [
    "### <span style='color:green'> [done] </span> Load fighters ufc_fighters_stats_processed.csv:\n",
    "used for visual view of fighters statistics along with prediction"
   ]
  },
  {
   "cell_type": "code",
   "execution_count": null,
   "id": "65a41973-3033-4b59-b2cb-bb4193ca4cfd",
   "metadata": {},
   "outputs": [],
   "source": [
    "loc = '../data/'\n",
    "file = 'ufc_fighters_stats_processed.csv'\n",
    "stats = pd.read_csv(loc+file)\n",
    "stats = stats[stats.columns[1:]]\n",
    "print('Data Frame loaded: '+str(stats.shape))\n",
    "stats.tail(3)"
   ]
  },
  {
   "cell_type": "code",
   "execution_count": null,
   "id": "a3208493-6621-4ca0-a7a9-6f95286b1cc8",
   "metadata": {},
   "outputs": [],
   "source": [
    "get_fighters_stats(fighter=fighter, opponent=opponent, data=stats)"
   ]
  },
  {
   "cell_type": "code",
   "execution_count": null,
   "id": "2641aeda-d896-4e22-bee1-1650b82936a5",
   "metadata": {},
   "outputs": [],
   "source": [
    ">>>>>>>>>>>>>>>>>>>>>>>>>>>>>"
   ]
  },
  {
   "cell_type": "markdown",
   "id": "38616a68-72f4-452d-a10a-818e6caca310",
   "metadata": {
    "tags": []
   },
   "source": [
    "## <span style='color:green'> [done] </span> Prepare main data_frame:"
   ]
  },
  {
   "cell_type": "code",
   "execution_count": null,
   "id": "c4919edd",
   "metadata": {
    "scrolled": true
   },
   "outputs": [],
   "source": [
    "loc = \"../data/\"\n",
    "file = 'ufc_data_features.csv'\n",
    "df = pd.read_csv(loc+file)\n",
    "df = df[df.columns[1:]]\n",
    "df.date = pd.to_datetime(df.date)\n",
    "print('Data Frame loaded: '+str(df.shape))\n",
    "df.tail(3)"
   ]
  },
  {
   "cell_type": "code",
   "execution_count": null,
   "id": "0defaa85-ae12-46a8-8f6b-e6dcd7e169cb",
   "metadata": {
    "tags": []
   },
   "outputs": [],
   "source": [
    "%run func_def.ipynb"
   ]
  },
  {
   "cell_type": "markdown",
   "id": "a3211291-1c98-490d-b15a-3f4601b35048",
   "metadata": {
    "jp-MarkdownHeadingCollapsed": true,
    "tags": []
   },
   "source": [
    "## <span style='color:green'> [done] </span> Clean Outliers:"
   ]
  },
  {
   "cell_type": "code",
   "execution_count": null,
   "id": "13c31a39",
   "metadata": {},
   "outputs": [],
   "source": [
    "original_size = len(df)\n",
    "X = df.columns[10:len(df.columns)]\n",
    "\n",
    "for feature in X:\n",
    "    df = df[df[feature] <= 3]\n",
    "    \n",
    "print('Rows deleted: %d' %(original_size-len(df)))"
   ]
  },
  {
   "cell_type": "code",
   "execution_count": null,
   "id": "297f9a6c",
   "metadata": {},
   "outputs": [],
   "source": [
    "df = (df[['date','result','fighter','opponent','win_perc_dif','win_strk_dif','lose_strk_dif','td avg._dif','sub. avg._dif','sapm_dif','slpm_dif','kd_dif','str_dif','td_dif','sub_dif']]).copy()\n",
    "df = df.dropna().reset_index(drop=True)\n",
    "print('Columns sorted:')\n",
    "df.tail(3)"
   ]
  },
  {
   "cell_type": "code",
   "execution_count": null,
   "id": "9a922e74-4c85-4e66-a5cd-942f936f80e3",
   "metadata": {},
   "outputs": [],
   "source": [
    "X_columns = X\n",
    "y = ['kd_dif','str_dif','td_dif','sub_dif']"
   ]
  },
  {
   "cell_type": "markdown",
   "id": "c3424f07",
   "metadata": {
    "tags": []
   },
   "source": [
    "# <span style='color:green'> **[done]** </span> Main():"
   ]
  },
  {
   "cell_type": "code",
   "execution_count": null,
   "id": "c9138988",
   "metadata": {},
   "outputs": [],
   "source": [
    "X_columns = ['sapm_dif','slpm_dif','win_perc_dif','win_strk_dif','lose_strk_dif','td avg._dif','sub. avg._dif']\n",
    "y = ['kd_dif','str_dif','td_dif','sub_dif']"
   ]
  },
  {
   "cell_type": "markdown",
   "id": "06ec91c0-71d5-4b39-b58c-b320243d5baf",
   "metadata": {
    "tags": []
   },
   "source": [
    "## <span style='color:green'> **[done]** </span> Pick a Fight: inserd Fighter & Opponent"
   ]
  },
  {
   "cell_type": "code",
   "execution_count": null,
   "id": "902e1662-b84d-46ee-834c-21760a28ae0e",
   "metadata": {},
   "outputs": [],
   "source": [
    "fighter = 'Kelvin Gastelum'\n",
    "opponent = 'Nassourdine Imavov'\n",
    "df = pd.concat([df,set_new_fight(fighter=fighter, opponent=opponent, data=df)], ignore_index=True)\n",
    "df.tail(1)"
   ]
  },
  {
   "cell_type": "markdown",
   "id": "3b4524b2-f079-410b-b3a3-d4091306d468",
   "metadata": {
    "tags": []
   },
   "source": [
    "### <span style='color:green'> **[done]** </span> Predict fight stats:"
   ]
  },
  {
   "cell_type": "code",
   "execution_count": null,
   "id": "c089ca64-3884-4e8b-84cd-f6422c03115b",
   "metadata": {},
   "outputs": [],
   "source": [
    "# test making prediction of stats by creating only both fighters data:\n",
    "micro_df = (df[(df['fighter'] == fighter)|(df['opponent'] == fighter)|(df['fighter'] == opponent)|(df['opponent'] == opponent)].reset_index(drop=True)).copy()\n",
    "#micro_df = set_train_test(X_columns=X_columns, y_columns=y, data=micro_df, test_size=0.3, valid_size=0.3)\n",
    "micro_df.tail(3)"
   ]
  },
  {
   "cell_type": "code",
   "execution_count": null,
   "id": "f1d1a860",
   "metadata": {},
   "outputs": [],
   "source": [
    "df = set_train_test(X_columns=X_columns, y_columns=y, data=df, test_size=0.3, valid_size=0.3)\n",
    "knn_reg = set_knn_reg(X_columns=X_columns, y_columns=y, data=df, n=200)\n",
    "df = set_predictions(model=knn_reg, data=df, X_columns=X_columns, y_columns=y)\n",
    "knn_reg"
   ]
  },
  {
   "cell_type": "code",
   "execution_count": null,
   "id": "99c264d3-3840-4399-b1a8-a9f880dfd804",
   "metadata": {},
   "outputs": [],
   "source": [
    "df.tail(1)"
   ]
  },
  {
   "cell_type": "markdown",
   "id": "61a21b09-63f2-42d6-b119-a70b679542e7",
   "metadata": {
    "tags": []
   },
   "source": [
    "### <span style='color:green'> **[done]** </span> Predict Winner:"
   ]
  },
  {
   "cell_type": "code",
   "execution_count": null,
   "id": "23e636a9",
   "metadata": {},
   "outputs": [],
   "source": [
    "X_columns = ['win_perc_dif', 'win_strk_dif', 'lose_strk_dif', 'td avg._dif',\n",
    "             'sub. avg._dif', 'sapm_dif', 'slpm_dif','sub_dif_pred',\n",
    "             'kd_dif_pred', 'str_dif_pred', 'td_dif_pred']\n",
    "\n",
    "#num_of_features = len(X_columns)\n",
    "num_of_features = 3\n",
    "y = 'result'\n",
    "forest_clf = set_forest_clf(X_columns=X_columns, y_columns=y, data=df,tree_depth=num_of_features, n_estimators=50 )\n",
    "df = set_predictions(model=forest_clf, data=df, X_columns=X_columns, y_columns=[y])\n",
    "forest_clf"
   ]
  },
  {
   "cell_type": "markdown",
   "id": "67c9d4c8-1727-468a-97c5-e8fbb33b18dd",
   "metadata": {
    "tags": []
   },
   "source": [
    "#### <span style='color:green'> **[done]** </span> Final Prediction:"
   ]
  },
  {
   "cell_type": "code",
   "execution_count": null,
   "id": "0e1ddb63-4fcd-4ff9-918f-1593e607a76c",
   "metadata": {},
   "outputs": [],
   "source": [
    "print('--------------------------------------')\n",
    "print('%s vs %s:' %(fighter, opponent))\n",
    "print('--------------------------------------')\n",
    "print(get_fighters_stats(fighter=fighter,opponent=opponent, data=stats))\n",
    "print('--------------------------------------')\n",
    "print('Winner: ' + get_winner())\n",
    "print('Pridiction Accuracy: ' + str(get_accuracy(act=df['result'][df.set=='test'], pred=df['result_pred'][df.set=='test'])))\n",
    "print('--------------------------------------')"
   ]
  },
  {
   "cell_type": "code",
   "execution_count": null,
   "id": "e63480a3-a2f6-4099-9fc7-0e72619a0c62",
   "metadata": {},
   "outputs": [],
   "source": []
  }
 ],
 "metadata": {
  "kernelspec": {
   "display_name": "Python 3",
   "language": "python",
   "name": "python3"
  },
  "language_info": {
   "codemirror_mode": {
    "name": "ipython",
    "version": 3
   },
   "file_extension": ".py",
   "mimetype": "text/x-python",
   "name": "python",
   "nbconvert_exporter": "python",
   "pygments_lexer": "ipython3",
   "version": "3.7.12"
  },
  "toc-autonumbering": false
 },
 "nbformat": 4,
 "nbformat_minor": 5
}
