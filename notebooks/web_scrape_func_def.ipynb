{
 "cells": [
  {
   "cell_type": "code",
   "execution_count": 2,
   "id": "2309ba84-d2c4-46da-b58e-4df03350472b",
   "metadata": {},
   "outputs": [],
   "source": [
    "import requests\n",
    "import pandas as pd\n",
    "import numpy as np\n",
    "from bs4 import BeautifulSoup\n",
    "from string import ascii_letters\n",
    "import re\n",
    "from datetime import datetime\n",
    "from time import time\n",
    "from tqdm import tqdm\n",
    "import os\n",
    "import multiprocessing\n",
    "from multiprocessing import Pool\n",
    "from pyspark import SparkContext, SparkConf"
   ]
  },
  {
   "cell_type": "code",
   "execution_count": 15,
   "id": "146f1e19-57a7-45ff-aea2-0d04ac8a471a",
   "metadata": {},
   "outputs": [
    {
     "name": "stdout",
     "output_type": "stream",
     "text": [
      "> file management func:\n",
      "\n"
     ]
    }
   ],
   "source": [
    "print('> file management func:\\n')"
   ]
  },
  {
   "cell_type": "code",
   "execution_count": 25,
   "id": "9ec1f3e7-8562-4256-82f9-29701dee799d",
   "metadata": {},
   "outputs": [
    {
     "name": "stdout",
     "output_type": "stream",
     "text": [
      "    get_content(directory)\n"
     ]
    }
   ],
   "source": [
    "def get_content(directory):\n",
    "    content = []\n",
    "    for file in os.scandir(directory):\n",
    "        if file.is_dir():\n",
    "            content.append(file.path + '/')\n",
    "        if file.is_file():\n",
    "            content.append(file.path)\n",
    "    return content\n",
    "    \n",
    "print('    get_content(directory)')"
   ]
  },
  {
   "cell_type": "code",
   "execution_count": 8,
   "id": "3e0a4cf0-a96e-4e26-affd-6e438ee62b0a",
   "metadata": {},
   "outputs": [
    {
     "name": "stdout",
     "output_type": "stream",
     "text": [
      "    get_last_update(file_path)\n"
     ]
    }
   ],
   "source": [
    "def get_last_update(file_path):\n",
    "\n",
    "    last_modified_timestamp = os.path.getmtime(file_path)\n",
    "    last_modified_datetime = datetime.fromtimestamp(last_modified_timestamp)\n",
    "    return last_modified_datetime.strftime(\"%m-%d-%Y\")\n",
    "\n",
    "print('    get_last_update(file_path)')"
   ]
  },
  {
   "cell_type": "code",
   "execution_count": 139,
   "id": "fefe41b2-0efd-4ddd-b543-44776ab1a812",
   "metadata": {},
   "outputs": [
    {
     "name": "stdout",
     "output_type": "stream",
     "text": [
      "\n",
      "> Updating lists func:\n",
      "\n"
     ]
    }
   ],
   "source": [
    "print('\\n> Updating lists func:\\n')"
   ]
  },
  {
   "cell_type": "code",
   "execution_count": 137,
   "id": "813647e0-48de-4ad3-a7f0-e72c7bc003f3",
   "metadata": {},
   "outputs": [
    {
     "name": "stdout",
     "output_type": "stream",
     "text": [
      "    get_event_data(event_link)\n"
     ]
    }
   ],
   "source": [
    "def get_participants(event_link):\n",
    "    \n",
    "    xml = get_xml(url=event_link)\n",
    "    \n",
    "    iterator = iter(xml.find_all('a',{'class':'b-link b-link_style_black'}))\n",
    "    participants = []\n",
    "    links = []\n",
    "    \n",
    "    for item in iterator:\n",
    "        participants.append(item.text.strip())\n",
    "        links.append(item['href'])\n",
    "    \n",
    "    return list(zip(participants,links))\n",
    "\n",
    "print('    get_participants(event_link)')"
   ]
  },
  {
   "cell_type": "code",
   "execution_count": 18,
   "id": "02318a3f-3443-4a42-b4c6-3a0ac14f5d39",
   "metadata": {},
   "outputs": [
    {
     "name": "stdout",
     "output_type": "stream",
     "text": [
      "\n",
      "> fighters_stats_scrape func:\n",
      "\n"
     ]
    }
   ],
   "source": [
    "print('\\n> fighters_stats_scrape func:\\n')"
   ]
  },
  {
   "cell_type": "code",
   "execution_count": 3,
   "id": "eb3cc14f-a97a-4935-8ad4-c0f8a5f15452",
   "metadata": {},
   "outputs": [
    {
     "name": "stdout",
     "output_type": "stream",
     "text": [
      "    get_xml(url, data_type='xml', headers = {'User-Agent':'Moz...}) # Return web page data in .xml format.\n"
     ]
    }
   ],
   "source": [
    "def get_xml(url, data_type='xml', headers = {'User-Agent':'Mozilla/5.0 (Windows NT 10.0; Win64; x64) AppleWebKit/537.36 (KHTML, like Gecko) Chrome/103.0.0.0 Safari/537.36'}):\n",
    "    \n",
    "    try:\n",
    "        r = requests.get(url)\n",
    "        soup = BeautifulSoup(r.text, data_type)\n",
    "    except:\n",
    "        #print('Error on: ' + url) \n",
    "        return None\n",
    "    \n",
    "    return soup\n",
    "\n",
    "print(\"    get_xml(url, data_type='xml', headers = {'User-Agent':'Moz...}) # Return web page data in .xml format.\")"
   ]
  },
  {
   "cell_type": "code",
   "execution_count": 1,
   "id": "d4731152-8105-4f06-9973-52f7b979124f",
   "metadata": {},
   "outputs": [
    {
     "name": "stdout",
     "output_type": "stream",
     "text": [
      "    get_links(url)\n"
     ]
    }
   ],
   "source": [
    "def get_links(url):\n",
    "    \n",
    "    link_items =  get_xml(url=url).find_all('a',{'class':'b-link b-link_style_black'})\n",
    "    dates_items = get_xml(url=url).find_all('span',{'class':'b-statistics__date'})\n",
    "    \n",
    "    links = []\n",
    "    dates = []\n",
    "    for url,date in zip(link_items,dates_items):\n",
    "        links.append(url['href'])\n",
    "        dates.append(datetime.strptime(date.text.strip(), \"%B %d, %Y\").strftime('%m-%d-%Y'))\n",
    "    \n",
    "    data = pd.DataFrame(data = zip(dates,links), columns=['date','event_url'])\n",
    "    data.date = pd.to_datetime(data['date'], format='%m-%d-%Y')\n",
    "    return data\n",
    "    \n",
    "print('    get_links(url)')"
   ]
  },
  {
   "cell_type": "code",
   "execution_count": 130,
   "id": "bc233c75-b855-4982-80de-b605588ea03c",
   "metadata": {},
   "outputs": [
    {
     "name": "stdout",
     "output_type": "stream",
     "text": [
      "    get_fighter_data(url) # Retrive data as list\n"
     ]
    }
   ],
   "source": [
    "def get_fighter_data(url):\n",
    "    \n",
    "    xml =  get_xml(url=url)\n",
    "    data = []\n",
    "    data.append(xml.find('h2').find('span',{'class':'b-content__title-highlight'}).text.strip()) #name\n",
    "    \n",
    "    record_string = xml.find('h2').find('span',{'class':'b-content__title-record'}).text.strip()\n",
    "    data.append(int(record_string[record_string.find(':')+1:record_string.find('-')])) #wins\n",
    "    data.append(int(record_string.split('-')[1])) #losses\n",
    "    data.append(record_string.split('-')[2]) #draws\n",
    "    \n",
    "    stat_boxes = xml.find_all('ul')[0:3]\n",
    "    for item in stat_boxes:\n",
    "        for sub_item in item.contents:\n",
    "            text = sub_item.text.strip().replace(\" \", \"\").replace(\"\\n\", \"\")\n",
    "            if len(text) > 0:\n",
    "                data.append(text[text.find(':')+1:])\n",
    "    \n",
    "    data.append(get_current_date()) #last_update\n",
    "    \n",
    "    date_table_location = 7\n",
    "    try:\n",
    "        date_string = xml.find_all('td')[date_table_location].find_all('p')[1].text.strip()\n",
    "        last_match = datetime.strptime(date_string, '%b. %d, %Y').strftime('%m-%d-%Y')\n",
    "    except:\n",
    "        last_match = None\n",
    "\n",
    "    data.append(last_match) #last_match\n",
    "    data.append(url)\n",
    "    return data\n",
    "\n",
    "print('    get_fighter_data(url) # Retrive data as list') "
   ]
  },
  {
   "cell_type": "code",
   "execution_count": 114,
   "id": "96bee1df-48e0-41ad-9b71-1613564dd4e2",
   "metadata": {},
   "outputs": [
    {
     "name": "stdout",
     "output_type": "stream",
     "text": [
      "    get_current_date()\n"
     ]
    }
   ],
   "source": [
    "def get_current_date():\n",
    "    return datetime.today().strftime('%m-%d-%Y')\n",
    "    \n",
    "print('    get_current_date()')    "
   ]
  },
  {
   "cell_type": "code",
   "execution_count": 131,
   "id": "ca4ed992-5b10-4fde-b9d4-130cea8f7829",
   "metadata": {},
   "outputs": [
    {
     "name": "stdout",
     "output_type": "stream",
     "text": [
      "\n",
      "> matches_stats_web_scrape func:\n",
      "\n"
     ]
    }
   ],
   "source": [
    "print('\\n> matches_stats_web_scrape func:\\n')"
   ]
  },
  {
   "cell_type": "code",
   "execution_count": 97,
   "id": "e6130cd6-f44f-40fb-b782-16734edf61b3",
   "metadata": {},
   "outputs": [
    {
     "name": "stdout",
     "output_type": "stream",
     "text": [
      "    get_event_date(xml)\n"
     ]
    }
   ],
   "source": [
    "def get_event_date(xml):\n",
    "    \n",
    "    '''return event date'''\n",
    "    \n",
    "    item = xml.find('li',{'class':'b-list__box-list-item'})\n",
    "    string = item.get_text().strip()\n",
    "    start = len('DATE:')\n",
    "    date = string[start:].strip()\n",
    "    \n",
    "    return datetime.strptime(date, \"%B %d, %Y\").strftime(\"%m-%d-%Y\")\n",
    "\n",
    "print('    get_event_date(xml)')"
   ]
  },
  {
   "cell_type": "code",
   "execution_count": 64,
   "id": "50284b90-80fe-4935-80a4-b6c736afd88a",
   "metadata": {},
   "outputs": [
    {
     "name": "stdout",
     "output_type": "stream",
     "text": [
      "    get_event_data(event_link)\n"
     ]
    }
   ],
   "source": [
    "def get_event_data(event_link):\n",
    "    \n",
    "    xml = get_xml(url=event_link)\n",
    "    #num_of_matches = len(xml.find_all('i',{'class':'b-flag__text'}))\n",
    "    \n",
    "    iterator = iter(xml.find_all('p',{'class':'b-fight-details__table-text'}))\n",
    "    data = []\n",
    "    start_flag = True\n",
    "    row = []\n",
    "    \n",
    "    while True:\n",
    "        \n",
    "        try:\n",
    "            item = next(iterator)\n",
    "            text_item = item.text.strip().replace('\\n','')\n",
    "            \n",
    "            if text_item == 'draw' or text_item == 'nc': # begining of new row \n",
    "                \n",
    "                if start_flag == False:\n",
    "                    row.append(get_event_date(xml=xml))\n",
    "                    row.append(event_link) #\n",
    "                    data.append(row)\n",
    "                \n",
    "                start_flag = False\n",
    "                row = []\n",
    "                row.append(text_item)\n",
    "                next(iterator)\n",
    "            \n",
    "            elif text_item == 'win': # begining of new row \n",
    "                \n",
    "                if start_flag == False:\n",
    "                    row.append(get_event_date(xml=xml))\n",
    "                    row.append(event_link) #\n",
    "                    data.append(row)\n",
    "                    \n",
    "                start_flag = False\n",
    "                row = []\n",
    "                row.append(text_item)\n",
    "            \n",
    "            elif 'weight' in text_item:\n",
    "                row.append(text_item[0:text_item.find('weight')+6])\n",
    "            else:\n",
    "                row.append(text_item)\n",
    "            \n",
    "        except StopIteration:\n",
    "            break\n",
    "    \n",
    "    \n",
    "    return data    \n",
    "    \n",
    "\n",
    "\n",
    "print('    get_event_data(event_link)')"
   ]
  },
  {
   "cell_type": "code",
   "execution_count": 12,
   "id": "53d45e25-bef6-4a98-8f98-301c089d3b18",
   "metadata": {},
   "outputs": [
    {
     "name": "stdout",
     "output_type": "stream",
     "text": [
      "    get_later_date(date1, date2)\n"
     ]
    }
   ],
   "source": [
    "def get_later_date(date1, date2):\n",
    "\n",
    "    date1_obj = datetime.strptime(date1, \"%d-%m-%Y\")\n",
    "    date2_obj = datetime.strptime(date2, \"%d-%m-%Y\")\n",
    "\n",
    "    if date1_obj > date2_obj:\n",
    "        return date1\n",
    "    else:\n",
    "        return date2\n",
    "    \n",
    "print('    get_later_date(date1, date2)')    "
   ]
  },
  {
   "cell_type": "code",
   "execution_count": 141,
   "id": "de57396e-906a-4365-8230-6c6f79698284",
   "metadata": {},
   "outputs": [
    {
     "name": "stdout",
     "output_type": "stream",
     "text": [
      "\n",
      "> upcoming_web_scrape func:\n",
      "\n"
     ]
    }
   ],
   "source": [
    "print('\\n> upcoming_web_scrape func:\\n')"
   ]
  },
  {
   "cell_type": "code",
   "execution_count": 143,
   "id": "68fe15d8-99a1-49f7-869d-27d144f8f8cd",
   "metadata": {},
   "outputs": [
    {
     "name": "stdout",
     "output_type": "stream",
     "text": [
      "    get_upcoming_link(xml)\n"
     ]
    }
   ],
   "source": [
    "def get_upcoming_event_url(xml):\n",
    "    return xml.find('a',{'class':'b-link b-link_style_white'})['href']\n",
    "\n",
    "print('    get_upcoming_event_url(xml)')"
   ]
  },
  {
   "cell_type": "code",
   "execution_count": 4,
   "id": "93fdc5c9-3ceb-449c-ad02-47387e1f13af",
   "metadata": {},
   "outputs": [
    {
     "name": "stdout",
     "output_type": "stream",
     "text": [
      "    get_upcoming_event_data(upcoming_event_url, event_name=None, event_time=None)\n"
     ]
    }
   ],
   "source": [
    "def get_upcoming_event_data(upcoming_event_url, event_name=None, event_time=None):\n",
    "    \n",
    "    event_xml = get_xml(url=upcoming_event_url)\n",
    "    data = {'fighter':[],\n",
    "            'opponent':[],\n",
    "            'weight_class':[],\n",
    "            'event_name':[],\n",
    "            'date':[]\n",
    "           }\n",
    "    \n",
    "    text_data = []\n",
    "    for item in event_xml.find_all('p',{'class':'b-fight-details__table-text'}):\n",
    "        string = item.get_text().strip()\n",
    "        \n",
    "        if string != 'View Matchup' and string != '':\n",
    "            if 'weight' in string:\n",
    "                data['weight_class'].append(string)\n",
    "                data['event_name'].append(event_name)\n",
    "                data['date'].append(event_time)\n",
    "            elif len(data['fighter']) == len(data['opponent']):\n",
    "                data['fighter'].append(string)\n",
    "            else:\n",
    "                data['opponent'].append(string)\n",
    "        \n",
    "    return data\n",
    "    \n",
    "print('    get_upcoming_event_data(upcoming_event_url, event_name=None, event_time=None)')    "
   ]
  },
  {
   "cell_type": "code",
   "execution_count": 157,
   "id": "45dee74a-669f-4f44-88a4-1fcc17dd213c",
   "metadata": {},
   "outputs": [
    {
     "name": "stdout",
     "output_type": "stream",
     "text": [
      "\n",
      "> fighters_stats_full_update func:\n",
      "\n"
     ]
    }
   ],
   "source": [
    "print('\\n> fighters_stats_full_update func:\\n')"
   ]
  },
  {
   "cell_type": "code",
   "execution_count": 160,
   "id": "4757ed0d-299c-435e-b8c1-7f3eaa1dc703",
   "metadata": {},
   "outputs": [
    {
     "name": "stdout",
     "output_type": "stream",
     "text": [
      "    get_fighters_links(page_url)\n"
     ]
    }
   ],
   "source": [
    "def get_fighters_links(page_url):\n",
    "    xml = get_xml(page_url)\n",
    "    link_list = []\n",
    "    for item in xml.find_all('a',{'class':'b-link b-link_style_black'}):\n",
    "        link_list.append(item['href'])\n",
    "        \n",
    "    return link_list    \n",
    "\n",
    "print('    get_fighters_links(page_url)')"
   ]
  },
  {
   "cell_type": "code",
   "execution_count": 4,
   "id": "3e956a45-242b-4f2e-ad5f-f86ac8265cd6",
   "metadata": {},
   "outputs": [
    {
     "name": "stdout",
     "output_type": "stream",
     "text": [
      "\n",
      "> draftking_odds func:\n",
      "\n"
     ]
    }
   ],
   "source": [
    "print('\\n> draftking_odds func:\\n')"
   ]
  },
  {
   "cell_type": "code",
   "execution_count": 7,
   "id": "cf9129a2-ece8-4d78-b6c7-9d77e43eb81d",
   "metadata": {},
   "outputs": [
    {
     "name": "stdout",
     "output_type": "stream",
     "text": [
      "    get_table_odds(table)\n"
     ]
    }
   ],
   "source": [
    "def get_table_odds(table):\n",
    "\n",
    "    fighter = []\n",
    "    opponent = []\n",
    "    fighter_odds = []\n",
    "    opponent_odds = []\n",
    "    for item in table.find_all('span'):\n",
    "        try:\n",
    "            if 'event-cell__name' in item['class']:\n",
    "                if len(fighter) == len(opponent):\n",
    "                    fighter.append(item.text)\n",
    "                else:\n",
    "                    opponent.append(item.text)\n",
    "                    \n",
    "            if 'sportsbook-odds' in item['class']:\n",
    "                if len(fighter_odds) == len(opponent_odds):\n",
    "                    fighter_odds.append(item.text)\n",
    "                else:\n",
    "                    opponent_odds.append(item.text)\n",
    "        except:\n",
    "            continue\n",
    "\n",
    "    return pd.DataFrame(data={'fighter':fighter,\n",
    "                              'fighter_odds':fighter_odds,\n",
    "                              'opponent':opponent,\n",
    "                              'opponent_odds':opponent_odds})\n",
    "\n",
    "print('    get_table_odds(table)')"
   ]
  },
  {
   "cell_type": "code",
   "execution_count": 3,
   "id": "9a8e4262-da9f-49ab-a7bb-e8d6ef9c528b",
   "metadata": {},
   "outputs": [
    {
     "name": "stdout",
     "output_type": "stream",
     "text": [
      "    get_odds(data, fighter, opponent)\n"
     ]
    }
   ],
   "source": [
    "def get_odds(data, fighter, opponent):\n",
    "    \n",
    "    for i in range(len(data)):\n",
    "        if (fighter == data.loc[i,'fighter']) and (opponent == data.loc[i,'opponent']):\n",
    "            return {fighter:data.loc[i,'fighter_odds'],\n",
    "                    opponent:data.loc[i,'opponent_odds']}\n",
    "        if (fighter == data.loc[i,'opponent']) and (opponent == data.loc[i,'fighter']):\n",
    "            return {opponent:data.loc[i,'fighter_odds'],\n",
    "                    fighter:data.loc[i,'opponent_odds']}    \n",
    "    \n",
    "print('    get_odds(data, fighter, opponent)')"
   ]
  },
  {
   "cell_type": "code",
   "execution_count": null,
   "id": "cf82e2b5-4125-415e-bbf3-0e14b4e2daad",
   "metadata": {},
   "outputs": [],
   "source": []
  }
 ],
 "metadata": {
  "kernelspec": {
   "display_name": "Python 3 (ipykernel)",
   "language": "python",
   "name": "python3"
  },
  "language_info": {
   "codemirror_mode": {
    "name": "ipython",
    "version": 3
   },
   "file_extension": ".py",
   "mimetype": "text/x-python",
   "name": "python",
   "nbconvert_exporter": "python",
   "pygments_lexer": "ipython3",
   "version": "3.9.7"
  }
 },
 "nbformat": 4,
 "nbformat_minor": 5
}
