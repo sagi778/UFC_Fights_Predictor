{
 "cells": [
  {
   "cell_type": "code",
   "execution_count": 1,
   "id": "55ac13b3-3508-409f-bd5e-38c99c1eb90f",
   "metadata": {},
   "outputs": [
    {
     "name": "stdout",
     "output_type": "stream",
     "text": [
      "imports loaded.\n",
      "\n",
      "> Pre-Processing func:\n",
      "    get_height(item)\n",
      "    get_weight(item)\n",
      "    get_reach(item)\n",
      "    get_std_reach(item, height, reach_list, height_list)\n",
      "    get_age(item)\n",
      "    get_std_age(item, age_list)\n",
      "    get_win_perc(name, date, df)\n",
      "    get_lose_streak_data_frame(name, date, df)\n",
      "    get_win_streak_data_frame(name, date, df)\n",
      "    get_streak_data_frame(name, date, df)\n",
      "    get_win_streak(name, date, df)\n",
      "    get_lose_streak(name, date, df)\n",
      "    get_fighter_stats(name, data )\n",
      "    add_columns(data, column_list)\n",
      "\n",
      "> outlier_cleaning func:\n",
      "    set_outlier_detection_model(X_columns, data)\n",
      "\n",
      "> Feature Engineering func:\n",
      "    get_stat(index, data, stat='height', fo='')\n",
      "    get_swaped_row(index, data)\n",
      "    get_wins(combo, data)\n",
      "    get_wins_ratio(combo, data)\n",
      "\n",
      "> stats_model_training func:\n",
      "    set_train_test(X_columns, y_columns, data, test_size=0.3, valid_size=0.3)\n",
      "    set_xgboost_reg(X_columns, y_columns, data, n=200, learning_rate=0.2, subsample=0.4, max_depth=5)\n",
      "    get_sig_features(data, sig_r)\n",
      "    get_r_score(X, y)\n",
      "    set_random_forest_reg(X_columns, y_columns, data)\n",
      "    set_predictions(model, data, X_columns, y_columns)\n",
      "    get_mean_percentage_error(act, pred)\n",
      "    get_rmse(act, pred)\n",
      "    get_grad_descent_step(X_columns, y_columns, data, n)\n",
      "    save_trained_model(model, path)\n",
      "\n",
      "> result_model_training func:\n",
      "    set_xgboost_clf(X_columns, y_columns, data, n=200, learning_rate=0.2, subsample=0.4, max_depth=5)\n",
      "    set_random_forest_clf(X_columns, y_columns, data)\n",
      "    get_clf_grad_desc_step( X_columns, y_columns, data, neighbors)\n",
      "    get_model_evaluation(data)\n",
      "    get_accuracy(act, pred)\n",
      "\n",
      "> method_model_training func:\n",
      "    set_method_predictions(model, data, X_columns, y_columns)\n",
      "    get_method_grad_desc_step(X_columns, y_columns, data, n_estimators)\n",
      "\n",
      "> Predictor func:\n",
      "    get_current_date()\n",
      "    get_win_perc(fighter, data)\n",
      "    get_lose_streak(fighter, data)\n",
      "    get_win_streak(fighter, data)\n",
      "    get_td_avg(fighter, data)\n",
      "    get_td_acc(fighter, data)\n",
      "    get_td_def(fighter, data)\n",
      "    get_str_acc(fighter, data)\n",
      "    get_str_def(fighter, data)\n",
      "    get_sub_avg(fighter, data)\n",
      "    get_sapm(fighter, data)\n",
      "    get_slpm(fighter, data)\n",
      "    get_stance(fighter, data)\n",
      "    get_stance_wins_ratio(fighter, data)\n",
      "    set_new_fight(fighter, opponent, data)\n",
      "    set_knn_predictor(X_columns, y_columns, data, n=5)\n",
      "    set_knn_predictions(model, data, X_columns, y_columns)\n",
      "    set_knn_clf_predictor(X_columns, y_columns, data, neighbors)\n",
      "    set_pred_results(model, data, X_columns, y_columns)\n",
      "    get_fighters_stats(fighter, opponent, data)\n",
      "    get_winner(match)\n",
      "    load_trained_model(filename_path)\n",
      "\n",
      "> micro_model_training func:\n",
      "    set_result_column(fighter,data)\n",
      "    get_my_losses(fighter, data)\n",
      "    get_my_wins(fighter, data)\n",
      "    get_synt_loss(fighter)\n",
      "    get_loss_value(values)\n"
     ]
    }
   ],
   "source": [
    "%run func_def.ipynb"
   ]
  },
  {
   "cell_type": "markdown",
   "id": "5da90eff-a3f5-4a93-9ccb-e1a1b04b8f48",
   "metadata": {
    "tags": []
   },
   "source": [
    "### <span style='color:green'> **[done]** </span>Loading Feature's-ready data"
   ]
  },
  {
   "cell_type": "code",
   "execution_count": 2,
   "id": "f58a9e4d-8c74-4e1a-8e83-076f797a684e",
   "metadata": {},
   "outputs": [
    {
     "data": {
      "text/html": [
       "<div>\n",
       "<style scoped>\n",
       "    .dataframe tbody tr th:only-of-type {\n",
       "        vertical-align: middle;\n",
       "    }\n",
       "\n",
       "    .dataframe tbody tr th {\n",
       "        vertical-align: top;\n",
       "    }\n",
       "\n",
       "    .dataframe thead th {\n",
       "        text-align: right;\n",
       "    }\n",
       "</style>\n",
       "<table border=\"1\" class=\"dataframe\">\n",
       "  <thead>\n",
       "    <tr style=\"text-align: right;\">\n",
       "      <th></th>\n",
       "      <th>result</th>\n",
       "      <th>fighter</th>\n",
       "      <th>opponent</th>\n",
       "      <th>date</th>\n",
       "      <th>weight class</th>\n",
       "      <th>method</th>\n",
       "      <th>kd_dif</th>\n",
       "      <th>str_dif</th>\n",
       "      <th>td_dif</th>\n",
       "      <th>sub_dif</th>\n",
       "      <th>td avg._dif</th>\n",
       "      <th>td acc._dif</th>\n",
       "      <th>td def._dif</th>\n",
       "      <th>sub. avg._dif</th>\n",
       "      <th>slpm_dif</th>\n",
       "      <th>str. acc._dif</th>\n",
       "      <th>sapm_dif</th>\n",
       "      <th>str. def_dif</th>\n",
       "      <th>stance_win_ratio</th>\n",
       "      <th>win_perc_dif</th>\n",
       "      <th>win_strk_dif</th>\n",
       "      <th>lose_strk_dif</th>\n",
       "    </tr>\n",
       "  </thead>\n",
       "  <tbody>\n",
       "    <tr>\n",
       "      <th>5709</th>\n",
       "      <td>lose</td>\n",
       "      <td>Kailin Curran</td>\n",
       "      <td>Aleksandra Albu</td>\n",
       "      <td>2017-07-29</td>\n",
       "      <td>Women's Strawweight</td>\n",
       "      <td>U-DEC:</td>\n",
       "      <td>-0.00892</td>\n",
       "      <td>0.123128</td>\n",
       "      <td>-1.597639</td>\n",
       "      <td>0.008337</td>\n",
       "      <td>-0.150322</td>\n",
       "      <td>0.248259</td>\n",
       "      <td>-0.545754</td>\n",
       "      <td>0.199566</td>\n",
       "      <td>-0.613584</td>\n",
       "      <td>-0.320786</td>\n",
       "      <td>-0.491150</td>\n",
       "      <td>1.249440</td>\n",
       "      <td>-0.054481</td>\n",
       "      <td>-2.040434</td>\n",
       "      <td>-0.589427</td>\n",
       "      <td>2.164739</td>\n",
       "    </tr>\n",
       "    <tr>\n",
       "      <th>5710</th>\n",
       "      <td>win</td>\n",
       "      <td>Jarred Brooks</td>\n",
       "      <td>Eric Shelton</td>\n",
       "      <td>2017-07-29</td>\n",
       "      <td>Flyweight</td>\n",
       "      <td>S-DEC:</td>\n",
       "      <td>-0.00892</td>\n",
       "      <td>-0.176583</td>\n",
       "      <td>1.561212</td>\n",
       "      <td>0.008337</td>\n",
       "      <td>0.950517</td>\n",
       "      <td>0.213119</td>\n",
       "      <td>0.767752</td>\n",
       "      <td>0.391150</td>\n",
       "      <td>-0.305805</td>\n",
       "      <td>0.329644</td>\n",
       "      <td>-0.129731</td>\n",
       "      <td>-0.099707</td>\n",
       "      <td>1.584492</td>\n",
       "      <td>0.005137</td>\n",
       "      <td>-0.017747</td>\n",
       "      <td>-1.062286</td>\n",
       "    </tr>\n",
       "    <tr>\n",
       "      <th>5711</th>\n",
       "      <td>win</td>\n",
       "      <td>Drew Dober</td>\n",
       "      <td>Joshua Burkman</td>\n",
       "      <td>2017-07-29</td>\n",
       "      <td>Lightweight</td>\n",
       "      <td>KO/TKO:Punch</td>\n",
       "      <td>1.34476</td>\n",
       "      <td>0.123128</td>\n",
       "      <td>-0.018213</td>\n",
       "      <td>0.008337</td>\n",
       "      <td>-1.012090</td>\n",
       "      <td>-0.665378</td>\n",
       "      <td>-0.579434</td>\n",
       "      <td>-0.183603</td>\n",
       "      <td>1.094906</td>\n",
       "      <td>-0.239482</td>\n",
       "      <td>0.783004</td>\n",
       "      <td>-0.015385</td>\n",
       "      <td>1.671822</td>\n",
       "      <td>0.132985</td>\n",
       "      <td>-0.017747</td>\n",
       "      <td>-2.137961</td>\n",
       "    </tr>\n",
       "  </tbody>\n",
       "</table>\n",
       "</div>"
      ],
      "text/plain": [
       "     result        fighter         opponent        date         weight class  \\\n",
       "5709   lose  Kailin Curran  Aleksandra Albu  2017-07-29  Women's Strawweight   \n",
       "5710    win  Jarred Brooks     Eric Shelton  2017-07-29            Flyweight   \n",
       "5711    win     Drew Dober   Joshua Burkman  2017-07-29          Lightweight   \n",
       "\n",
       "            method   kd_dif   str_dif    td_dif   sub_dif  td avg._dif  \\\n",
       "5709        U-DEC: -0.00892  0.123128 -1.597639  0.008337    -0.150322   \n",
       "5710        S-DEC: -0.00892 -0.176583  1.561212  0.008337     0.950517   \n",
       "5711  KO/TKO:Punch  1.34476  0.123128 -0.018213  0.008337    -1.012090   \n",
       "\n",
       "      td acc._dif  td def._dif  sub. avg._dif  slpm_dif  str. acc._dif  \\\n",
       "5709     0.248259    -0.545754       0.199566 -0.613584      -0.320786   \n",
       "5710     0.213119     0.767752       0.391150 -0.305805       0.329644   \n",
       "5711    -0.665378    -0.579434      -0.183603  1.094906      -0.239482   \n",
       "\n",
       "      sapm_dif  str. def_dif  stance_win_ratio  win_perc_dif  win_strk_dif  \\\n",
       "5709 -0.491150      1.249440         -0.054481     -2.040434     -0.589427   \n",
       "5710 -0.129731     -0.099707          1.584492      0.005137     -0.017747   \n",
       "5711  0.783004     -0.015385          1.671822      0.132985     -0.017747   \n",
       "\n",
       "      lose_strk_dif  \n",
       "5709       2.164739  \n",
       "5710      -1.062286  \n",
       "5711      -2.137961  "
      ]
     },
     "execution_count": 2,
     "metadata": {},
     "output_type": "execute_result"
    }
   ],
   "source": [
    "loc = '../data/'\n",
    "#file = 'ufc_data_features.csv'\n",
    "file = 'ufc_data_features_no_outliers.csv'\n",
    "df = pd.read_csv(loc+file)\n",
    "#df = df[df.columns[1:]]\n",
    "df.tail(3)"
   ]
  },
  {
   "cell_type": "code",
   "execution_count": 3,
   "id": "229bd27a-1e54-44cd-827e-01e91750eb8e",
   "metadata": {},
   "outputs": [
    {
     "data": {
      "text/html": [
       "<div>\n",
       "<style scoped>\n",
       "    .dataframe tbody tr th:only-of-type {\n",
       "        vertical-align: middle;\n",
       "    }\n",
       "\n",
       "    .dataframe tbody tr th {\n",
       "        vertical-align: top;\n",
       "    }\n",
       "\n",
       "    .dataframe thead th {\n",
       "        text-align: right;\n",
       "    }\n",
       "</style>\n",
       "<table border=\"1\" class=\"dataframe\">\n",
       "  <thead>\n",
       "    <tr style=\"text-align: right;\">\n",
       "      <th></th>\n",
       "      <th>date</th>\n",
       "      <th>fighter</th>\n",
       "      <th>opponent</th>\n",
       "      <th>result</th>\n",
       "      <th>method</th>\n",
       "      <th>kd_dif</th>\n",
       "      <th>str_dif</th>\n",
       "      <th>td_dif</th>\n",
       "      <th>sub_dif</th>\n",
       "      <th>td avg._dif</th>\n",
       "      <th>td acc._dif</th>\n",
       "      <th>td def._dif</th>\n",
       "      <th>sub. avg._dif</th>\n",
       "      <th>slpm_dif</th>\n",
       "      <th>str. acc._dif</th>\n",
       "      <th>sapm_dif</th>\n",
       "      <th>str. def_dif</th>\n",
       "      <th>stance_win_ratio</th>\n",
       "      <th>win_perc_dif</th>\n",
       "      <th>win_strk_dif</th>\n",
       "      <th>lose_strk_dif</th>\n",
       "    </tr>\n",
       "  </thead>\n",
       "  <tbody>\n",
       "    <tr>\n",
       "      <th>0</th>\n",
       "      <td>2022-09-03</td>\n",
       "      <td>Tai Tuivasa</td>\n",
       "      <td>Ciryl Gane</td>\n",
       "      <td>lose</td>\n",
       "      <td>KO/TKO:Punches</td>\n",
       "      <td>-0.00892</td>\n",
       "      <td>-3.061301</td>\n",
       "      <td>-0.018213</td>\n",
       "      <td>0.008337</td>\n",
       "      <td>-0.344915</td>\n",
       "      <td>-0.735658</td>\n",
       "      <td>-0.107919</td>\n",
       "      <td>-0.470979</td>\n",
       "      <td>-0.657553</td>\n",
       "      <td>-0.808609</td>\n",
       "      <td>1.358824</td>\n",
       "      <td>-1.448854</td>\n",
       "      <td>1.671822</td>\n",
       "      <td>-0.378408</td>\n",
       "      <td>2.840653</td>\n",
       "      <td>-1.062286</td>\n",
       "    </tr>\n",
       "    <tr>\n",
       "      <th>1</th>\n",
       "      <td>2022-09-03</td>\n",
       "      <td>Robert Whittaker</td>\n",
       "      <td>Marvin Vettori</td>\n",
       "      <td>win</td>\n",
       "      <td>U-DEC:</td>\n",
       "      <td>-0.00892</td>\n",
       "      <td>1.509291</td>\n",
       "      <td>0.376643</td>\n",
       "      <td>0.008337</td>\n",
       "      <td>-0.595105</td>\n",
       "      <td>-0.243700</td>\n",
       "      <td>0.329916</td>\n",
       "      <td>-0.566771</td>\n",
       "      <td>0.152724</td>\n",
       "      <td>-0.158179</td>\n",
       "      <td>-0.190989</td>\n",
       "      <td>0.153258</td>\n",
       "      <td>-1.281305</td>\n",
       "      <td>0.132985</td>\n",
       "      <td>-0.589427</td>\n",
       "      <td>1.089064</td>\n",
       "    </tr>\n",
       "    <tr>\n",
       "      <th>2</th>\n",
       "      <td>2022-09-03</td>\n",
       "      <td>Joaquin Buckley</td>\n",
       "      <td>Nassourdine Imavov</td>\n",
       "      <td>lose</td>\n",
       "      <td>U-DEC:</td>\n",
       "      <td>-0.00892</td>\n",
       "      <td>-0.214047</td>\n",
       "      <td>-0.807926</td>\n",
       "      <td>-1.691263</td>\n",
       "      <td>0.305581</td>\n",
       "      <td>0.283399</td>\n",
       "      <td>-0.208958</td>\n",
       "      <td>-1.620484</td>\n",
       "      <td>-0.305805</td>\n",
       "      <td>-1.540343</td>\n",
       "      <td>-0.166486</td>\n",
       "      <td>-0.352672</td>\n",
       "      <td>1.671822</td>\n",
       "      <td>-0.097141</td>\n",
       "      <td>0.553933</td>\n",
       "      <td>0.013389</td>\n",
       "    </tr>\n",
       "  </tbody>\n",
       "</table>\n",
       "</div>"
      ],
      "text/plain": [
       "         date           fighter            opponent result          method  \\\n",
       "0  2022-09-03       Tai Tuivasa          Ciryl Gane   lose  KO/TKO:Punches   \n",
       "1  2022-09-03  Robert Whittaker      Marvin Vettori    win          U-DEC:   \n",
       "2  2022-09-03   Joaquin Buckley  Nassourdine Imavov   lose          U-DEC:   \n",
       "\n",
       "    kd_dif   str_dif    td_dif   sub_dif  td avg._dif  td acc._dif  \\\n",
       "0 -0.00892 -3.061301 -0.018213  0.008337    -0.344915    -0.735658   \n",
       "1 -0.00892  1.509291  0.376643  0.008337    -0.595105    -0.243700   \n",
       "2 -0.00892 -0.214047 -0.807926 -1.691263     0.305581     0.283399   \n",
       "\n",
       "   td def._dif  sub. avg._dif  slpm_dif  str. acc._dif  sapm_dif  \\\n",
       "0    -0.107919      -0.470979 -0.657553      -0.808609  1.358824   \n",
       "1     0.329916      -0.566771  0.152724      -0.158179 -0.190989   \n",
       "2    -0.208958      -1.620484 -0.305805      -1.540343 -0.166486   \n",
       "\n",
       "   str. def_dif  stance_win_ratio  win_perc_dif  win_strk_dif  lose_strk_dif  \n",
       "0     -1.448854          1.671822     -0.378408      2.840653      -1.062286  \n",
       "1      0.153258         -1.281305      0.132985     -0.589427       1.089064  \n",
       "2     -0.352672          1.671822     -0.097141      0.553933       0.013389  "
      ]
     },
     "execution_count": 3,
     "metadata": {},
     "output_type": "execute_result"
    }
   ],
   "source": [
    "req_data = ['date','fighter','opponent','result','method']\n",
    "y = ['kd_dif','str_dif','td_dif','sub_dif']\n",
    "X = ['td avg._dif',\n",
    "     'td acc._dif',\n",
    "     'td def._dif',\n",
    "     'sub. avg._dif',\n",
    "     'slpm_dif',\n",
    "     'str. acc._dif',\n",
    "     'sapm_dif',\n",
    "     'str. def_dif',\n",
    "     'stance_win_ratio',\n",
    "     'win_perc_dif',\n",
    "     'win_strk_dif',\n",
    "     'lose_strk_dif']\n",
    "df = df[req_data + y + X]\n",
    "df.head(3)"
   ]
  },
  {
   "cell_type": "markdown",
   "id": "bce0e152-2acc-4b88-b172-9b51f423bd49",
   "metadata": {
    "tags": []
   },
   "source": [
    "### <span style='color:green'> **[done]** </span>Feature's significanse:"
   ]
  },
  {
   "cell_type": "code",
   "execution_count": 4,
   "id": "34b76a78-03c3-4ee0-a8d6-f8087983dae1",
   "metadata": {},
   "outputs": [
    {
     "name": "stdout",
     "output_type": "stream",
     "text": [
      "---------------------------------------------\n",
      "Correlation Report: Most significant features\n",
      "---------------------------------------------\n",
      "R coef > Median R: [0.19, 0.44, 0.3, 0.3, 0.31, 0.58, 0.2, 0.38]\n",
      "Most significant: ['sapm_dif', 'slpm_dif', 'str. acc._dif', 'str. def_dif', 'td def._dif', 'sub. avg._dif', 'td avg._dif', 'td def._dif']\n"
     ]
    },
    {
     "data": {
      "text/html": [
       "<div>\n",
       "<style scoped>\n",
       "    .dataframe tbody tr th:only-of-type {\n",
       "        vertical-align: middle;\n",
       "    }\n",
       "\n",
       "    .dataframe tbody tr th {\n",
       "        vertical-align: top;\n",
       "    }\n",
       "\n",
       "    .dataframe thead th {\n",
       "        text-align: right;\n",
       "    }\n",
       "</style>\n",
       "<table border=\"1\" class=\"dataframe\">\n",
       "  <thead>\n",
       "    <tr style=\"text-align: right;\">\n",
       "      <th>y</th>\n",
       "      <th>kd_dif</th>\n",
       "      <th>str_dif</th>\n",
       "      <th>sub_dif</th>\n",
       "      <th>td_dif</th>\n",
       "    </tr>\n",
       "    <tr>\n",
       "      <th>X</th>\n",
       "      <th></th>\n",
       "      <th></th>\n",
       "      <th></th>\n",
       "      <th></th>\n",
       "    </tr>\n",
       "  </thead>\n",
       "  <tbody>\n",
       "    <tr>\n",
       "      <th>lose_strk_dif</th>\n",
       "      <td>0.05</td>\n",
       "      <td>0.03</td>\n",
       "      <td>0.0</td>\n",
       "      <td>0.02</td>\n",
       "    </tr>\n",
       "    <tr>\n",
       "      <th>sapm_dif</th>\n",
       "      <td>0.03</td>\n",
       "      <td>0.3</td>\n",
       "      <td>0.02</td>\n",
       "      <td>0.15</td>\n",
       "    </tr>\n",
       "    <tr>\n",
       "      <th>slpm_dif</th>\n",
       "      <td>0.16</td>\n",
       "      <td>0.44</td>\n",
       "      <td>0.01</td>\n",
       "      <td>0.06</td>\n",
       "    </tr>\n",
       "    <tr>\n",
       "      <th>stance_win_ratio</th>\n",
       "      <td>0.05</td>\n",
       "      <td>0.02</td>\n",
       "      <td>0.01</td>\n",
       "      <td>0.01</td>\n",
       "    </tr>\n",
       "    <tr>\n",
       "      <th>str. acc._dif</th>\n",
       "      <td>0.11</td>\n",
       "      <td>0.3</td>\n",
       "      <td>0.02</td>\n",
       "      <td>0.08</td>\n",
       "    </tr>\n",
       "    <tr>\n",
       "      <th>str. def_dif</th>\n",
       "      <td>0.08</td>\n",
       "      <td>0.31</td>\n",
       "      <td>0.02</td>\n",
       "      <td>0.12</td>\n",
       "    </tr>\n",
       "    <tr>\n",
       "      <th>sub. avg._dif</th>\n",
       "      <td>0.07</td>\n",
       "      <td>0.07</td>\n",
       "      <td>0.38</td>\n",
       "      <td>0.05</td>\n",
       "    </tr>\n",
       "    <tr>\n",
       "      <th>td acc._dif</th>\n",
       "      <td>0.06</td>\n",
       "      <td>0.14</td>\n",
       "      <td>0.02</td>\n",
       "      <td>0.18</td>\n",
       "    </tr>\n",
       "    <tr>\n",
       "      <th>td avg._dif</th>\n",
       "      <td>0.08</td>\n",
       "      <td>0.06</td>\n",
       "      <td>0.03</td>\n",
       "      <td>0.58</td>\n",
       "    </tr>\n",
       "    <tr>\n",
       "      <th>td def._dif</th>\n",
       "      <td>0.13</td>\n",
       "      <td>0.19</td>\n",
       "      <td>0.0</td>\n",
       "      <td>0.2</td>\n",
       "    </tr>\n",
       "    <tr>\n",
       "      <th>win_perc_dif</th>\n",
       "      <td>0.05</td>\n",
       "      <td>0.14</td>\n",
       "      <td>0.07</td>\n",
       "      <td>0.08</td>\n",
       "    </tr>\n",
       "    <tr>\n",
       "      <th>win_strk_dif</th>\n",
       "      <td>0.06</td>\n",
       "      <td>0.08</td>\n",
       "      <td>0.04</td>\n",
       "      <td>0.01</td>\n",
       "    </tr>\n",
       "  </tbody>\n",
       "</table>\n",
       "</div>"
      ],
      "text/plain": [
       "y                kd_dif str_dif sub_dif td_dif\n",
       "X                                             \n",
       "lose_strk_dif      0.05    0.03     0.0   0.02\n",
       "sapm_dif           0.03     0.3    0.02   0.15\n",
       "slpm_dif           0.16    0.44    0.01   0.06\n",
       "stance_win_ratio   0.05    0.02    0.01   0.01\n",
       "str. acc._dif      0.11     0.3    0.02   0.08\n",
       "str. def_dif       0.08    0.31    0.02   0.12\n",
       "sub. avg._dif      0.07    0.07    0.38   0.05\n",
       "td acc._dif        0.06    0.14    0.02   0.18\n",
       "td avg._dif        0.08    0.06    0.03   0.58\n",
       "td def._dif        0.13    0.19     0.0    0.2\n",
       "win_perc_dif       0.05    0.14    0.07   0.08\n",
       "win_strk_dif       0.06    0.08    0.04   0.01"
      ]
     },
     "execution_count": 4,
     "metadata": {},
     "output_type": "execute_result"
    },
    {
     "data": {
      "image/png": "[encoded data removed]",
      "text/plain": [
       "<Figure size 288x144 with 1 Axes>"
      ]
     },
     "metadata": {},
     "output_type": "display_data"
    }
   ],
   "source": [
    "rdf = pd.DataFrame(columns=['y','X','r_coef'])\n",
    "r_list = []\n",
    "y_columns = ['kd_dif','str_dif','td_dif','sub_dif']\n",
    "i = 0 \n",
    "for y_column in y_columns:\n",
    "    for x_column in X:\n",
    "        rdf.loc[i, 'X'] = x_column\n",
    "        rdf.loc[i, 'y'] = y_column\n",
    "        rdf.loc[i, 'r_coef'] = np.round(np.abs(get_r_score(X=df[x_column], y=df[y_column])),2)\n",
    "        r_list.append(rdf.loc[i, 'r_coef'])\n",
    "        i += 1\n",
    "\n",
    "rdf = rdf.pivot('X','y','r_coef')\n",
    "print('---------------------------------------------')\n",
    "print('Correlation Report: Most significant features')\n",
    "print('---------------------------------------------')\n",
    "\n",
    "sig_r =  [r for r in r_list if (r > (np.median(r_list)+np.std(r_list)) and r < 1)]\n",
    "sig_features = get_sig_features(data=rdf, sig_r=sig_r)\n",
    "print('R coef > Median R: %s' %(sig_r))\n",
    "print('Most significant: %s' %(sig_features) )\n",
    "\n",
    "g = plt.figure(figsize=(4,2))\n",
    "g = sns.histplot(x = r_list, bins=len(rdf))\n",
    "g = sns.kdeplot(x = r_list, fill=True)\n",
    "plt.axvline(x = np.median(r_list)+np.std(r_list), color='red')\n",
    "plt.axvline(x = np.median(r_list), color='red')\n",
    "plt.xlabel(\"r coef values\")\n",
    "plt.ylabel(\"Count\")\n",
    "\n",
    "rdf"
   ]
  },
  {
   "cell_type": "markdown",
   "id": "5f0c8d20-2949-4c4b-84c8-50e976862346",
   "metadata": {
    "tags": []
   },
   "source": [
    "## <span style='color:orange'> **[in-progress]** </span> XGBoost regressor model training:"
   ]
  },
  {
   "cell_type": "code",
   "execution_count": 5,
   "id": "b1e63bd7-b11f-40f2-b52e-b1adf7b1b9a6",
   "metadata": {},
   "outputs": [
    {
     "name": "stdout",
     "output_type": "stream",
     "text": [
      "Data split: Data=(5712, 22), train_set=(2859, 12), validation_set=(1197, 12), test_set=(1656, 12)\n"
     ]
    },
    {
     "data": {
      "text/html": [
       "<div>\n",
       "<style scoped>\n",
       "    .dataframe tbody tr th:only-of-type {\n",
       "        vertical-align: middle;\n",
       "    }\n",
       "\n",
       "    .dataframe tbody tr th {\n",
       "        vertical-align: top;\n",
       "    }\n",
       "\n",
       "    .dataframe thead th {\n",
       "        text-align: right;\n",
       "    }\n",
       "</style>\n",
       "<table border=\"1\" class=\"dataframe\">\n",
       "  <thead>\n",
       "    <tr style=\"text-align: right;\">\n",
       "      <th></th>\n",
       "      <th>set</th>\n",
       "      <th>date</th>\n",
       "      <th>fighter</th>\n",
       "      <th>opponent</th>\n",
       "      <th>result</th>\n",
       "      <th>method</th>\n",
       "      <th>kd_dif</th>\n",
       "      <th>str_dif</th>\n",
       "      <th>td_dif</th>\n",
       "      <th>sub_dif</th>\n",
       "      <th>td avg._dif</th>\n",
       "      <th>td acc._dif</th>\n",
       "      <th>td def._dif</th>\n",
       "      <th>sub. avg._dif</th>\n",
       "      <th>slpm_dif</th>\n",
       "      <th>str. acc._dif</th>\n",
       "      <th>sapm_dif</th>\n",
       "      <th>str. def_dif</th>\n",
       "      <th>stance_win_ratio</th>\n",
       "      <th>win_perc_dif</th>\n",
       "      <th>win_strk_dif</th>\n",
       "      <th>lose_strk_dif</th>\n",
       "    </tr>\n",
       "  </thead>\n",
       "  <tbody>\n",
       "    <tr>\n",
       "      <th>5709</th>\n",
       "      <td>train</td>\n",
       "      <td>2017-07-29</td>\n",
       "      <td>Kailin Curran</td>\n",
       "      <td>Aleksandra Albu</td>\n",
       "      <td>lose</td>\n",
       "      <td>U-DEC:</td>\n",
       "      <td>-0.00892</td>\n",
       "      <td>0.123128</td>\n",
       "      <td>-1.597639</td>\n",
       "      <td>0.008337</td>\n",
       "      <td>-0.150322</td>\n",
       "      <td>0.248259</td>\n",
       "      <td>-0.545754</td>\n",
       "      <td>0.199566</td>\n",
       "      <td>-0.613584</td>\n",
       "      <td>-0.320786</td>\n",
       "      <td>-0.491150</td>\n",
       "      <td>1.249440</td>\n",
       "      <td>-0.054481</td>\n",
       "      <td>-2.040434</td>\n",
       "      <td>-0.589427</td>\n",
       "      <td>2.164739</td>\n",
       "    </tr>\n",
       "    <tr>\n",
       "      <th>5710</th>\n",
       "      <td>train</td>\n",
       "      <td>2017-07-29</td>\n",
       "      <td>Jarred Brooks</td>\n",
       "      <td>Eric Shelton</td>\n",
       "      <td>win</td>\n",
       "      <td>S-DEC:</td>\n",
       "      <td>-0.00892</td>\n",
       "      <td>-0.176583</td>\n",
       "      <td>1.561212</td>\n",
       "      <td>0.008337</td>\n",
       "      <td>0.950517</td>\n",
       "      <td>0.213119</td>\n",
       "      <td>0.767752</td>\n",
       "      <td>0.391150</td>\n",
       "      <td>-0.305805</td>\n",
       "      <td>0.329644</td>\n",
       "      <td>-0.129731</td>\n",
       "      <td>-0.099707</td>\n",
       "      <td>1.584492</td>\n",
       "      <td>0.005137</td>\n",
       "      <td>-0.017747</td>\n",
       "      <td>-1.062286</td>\n",
       "    </tr>\n",
       "    <tr>\n",
       "      <th>5711</th>\n",
       "      <td>test</td>\n",
       "      <td>2017-07-29</td>\n",
       "      <td>Drew Dober</td>\n",
       "      <td>Joshua Burkman</td>\n",
       "      <td>win</td>\n",
       "      <td>KO/TKO:Punch</td>\n",
       "      <td>1.34476</td>\n",
       "      <td>0.123128</td>\n",
       "      <td>-0.018213</td>\n",
       "      <td>0.008337</td>\n",
       "      <td>-1.012090</td>\n",
       "      <td>-0.665378</td>\n",
       "      <td>-0.579434</td>\n",
       "      <td>-0.183603</td>\n",
       "      <td>1.094906</td>\n",
       "      <td>-0.239482</td>\n",
       "      <td>0.783004</td>\n",
       "      <td>-0.015385</td>\n",
       "      <td>1.671822</td>\n",
       "      <td>0.132985</td>\n",
       "      <td>-0.017747</td>\n",
       "      <td>-2.137961</td>\n",
       "    </tr>\n",
       "  </tbody>\n",
       "</table>\n",
       "</div>"
      ],
      "text/plain": [
       "        set        date        fighter         opponent result        method  \\\n",
       "5709  train  2017-07-29  Kailin Curran  Aleksandra Albu   lose        U-DEC:   \n",
       "5710  train  2017-07-29  Jarred Brooks     Eric Shelton    win        S-DEC:   \n",
       "5711   test  2017-07-29     Drew Dober   Joshua Burkman    win  KO/TKO:Punch   \n",
       "\n",
       "       kd_dif   str_dif    td_dif   sub_dif  td avg._dif  td acc._dif  \\\n",
       "5709 -0.00892  0.123128 -1.597639  0.008337    -0.150322     0.248259   \n",
       "5710 -0.00892 -0.176583  1.561212  0.008337     0.950517     0.213119   \n",
       "5711  1.34476  0.123128 -0.018213  0.008337    -1.012090    -0.665378   \n",
       "\n",
       "      td def._dif  sub. avg._dif  slpm_dif  str. acc._dif  sapm_dif  \\\n",
       "5709    -0.545754       0.199566 -0.613584      -0.320786 -0.491150   \n",
       "5710     0.767752       0.391150 -0.305805       0.329644 -0.129731   \n",
       "5711    -0.579434      -0.183603  1.094906      -0.239482  0.783004   \n",
       "\n",
       "      str. def_dif  stance_win_ratio  win_perc_dif  win_strk_dif  \\\n",
       "5709      1.249440         -0.054481     -2.040434     -0.589427   \n",
       "5710     -0.099707          1.584492      0.005137     -0.017747   \n",
       "5711     -0.015385          1.671822      0.132985     -0.017747   \n",
       "\n",
       "      lose_strk_dif  \n",
       "5709       2.164739  \n",
       "5710      -1.062286  \n",
       "5711      -2.137961  "
      ]
     },
     "execution_count": 5,
     "metadata": {},
     "output_type": "execute_result"
    }
   ],
   "source": [
    "df = set_train_test(X_columns=X, y_columns=y, data=df, test_size=0.3, valid_size=0.3)\n",
    "df.tail(3)"
   ]
  },
  {
   "cell_type": "code",
   "execution_count": 6,
   "id": "03840ffb-94a1-4499-a50f-b344ecf86cfd",
   "metadata": {},
   "outputs": [
    {
     "data": {
      "text/html": [
       "<div>\n",
       "<style scoped>\n",
       "    .dataframe tbody tr th:only-of-type {\n",
       "        vertical-align: middle;\n",
       "    }\n",
       "\n",
       "    .dataframe tbody tr th {\n",
       "        vertical-align: top;\n",
       "    }\n",
       "\n",
       "    .dataframe thead th {\n",
       "        text-align: right;\n",
       "    }\n",
       "</style>\n",
       "<table border=\"1\" class=\"dataframe\">\n",
       "  <thead>\n",
       "    <tr style=\"text-align: right;\">\n",
       "      <th></th>\n",
       "      <th>set</th>\n",
       "      <th>date</th>\n",
       "      <th>fighter</th>\n",
       "      <th>opponent</th>\n",
       "      <th>result</th>\n",
       "      <th>method</th>\n",
       "      <th>kd_dif</th>\n",
       "      <th>str_dif</th>\n",
       "      <th>td_dif</th>\n",
       "      <th>sub_dif</th>\n",
       "      <th>td avg._dif</th>\n",
       "      <th>td acc._dif</th>\n",
       "      <th>td def._dif</th>\n",
       "      <th>sub. avg._dif</th>\n",
       "      <th>slpm_dif</th>\n",
       "      <th>str. acc._dif</th>\n",
       "      <th>sapm_dif</th>\n",
       "      <th>str. def_dif</th>\n",
       "      <th>stance_win_ratio</th>\n",
       "      <th>win_perc_dif</th>\n",
       "      <th>win_strk_dif</th>\n",
       "      <th>lose_strk_dif</th>\n",
       "      <th>kd_dif_pred</th>\n",
       "      <th>str_dif_pred</th>\n",
       "      <th>td_dif_pred</th>\n",
       "      <th>sub_dif_pred</th>\n",
       "    </tr>\n",
       "  </thead>\n",
       "  <tbody>\n",
       "    <tr>\n",
       "      <th>5709</th>\n",
       "      <td>train</td>\n",
       "      <td>2017-07-29</td>\n",
       "      <td>Kailin Curran</td>\n",
       "      <td>Aleksandra Albu</td>\n",
       "      <td>lose</td>\n",
       "      <td>U-DEC:</td>\n",
       "      <td>-0.00892</td>\n",
       "      <td>0.123128</td>\n",
       "      <td>-1.597639</td>\n",
       "      <td>0.008337</td>\n",
       "      <td>-0.150322</td>\n",
       "      <td>0.248259</td>\n",
       "      <td>-0.545754</td>\n",
       "      <td>0.199566</td>\n",
       "      <td>-0.613584</td>\n",
       "      <td>-0.320786</td>\n",
       "      <td>-0.491150</td>\n",
       "      <td>1.249440</td>\n",
       "      <td>-0.054481</td>\n",
       "      <td>-2.040434</td>\n",
       "      <td>-0.589427</td>\n",
       "      <td>2.164739</td>\n",
       "      <td>-0.122607</td>\n",
       "      <td>-0.122607</td>\n",
       "      <td>-0.122607</td>\n",
       "      <td>-0.122607</td>\n",
       "    </tr>\n",
       "    <tr>\n",
       "      <th>5710</th>\n",
       "      <td>train</td>\n",
       "      <td>2017-07-29</td>\n",
       "      <td>Jarred Brooks</td>\n",
       "      <td>Eric Shelton</td>\n",
       "      <td>win</td>\n",
       "      <td>S-DEC:</td>\n",
       "      <td>-0.00892</td>\n",
       "      <td>-0.176583</td>\n",
       "      <td>1.561212</td>\n",
       "      <td>0.008337</td>\n",
       "      <td>0.950517</td>\n",
       "      <td>0.213119</td>\n",
       "      <td>0.767752</td>\n",
       "      <td>0.391150</td>\n",
       "      <td>-0.305805</td>\n",
       "      <td>0.329644</td>\n",
       "      <td>-0.129731</td>\n",
       "      <td>-0.099707</td>\n",
       "      <td>1.584492</td>\n",
       "      <td>0.005137</td>\n",
       "      <td>-0.017747</td>\n",
       "      <td>-1.062286</td>\n",
       "      <td>-0.199729</td>\n",
       "      <td>-0.199729</td>\n",
       "      <td>-0.199729</td>\n",
       "      <td>-0.199729</td>\n",
       "    </tr>\n",
       "    <tr>\n",
       "      <th>5711</th>\n",
       "      <td>test</td>\n",
       "      <td>2017-07-29</td>\n",
       "      <td>Drew Dober</td>\n",
       "      <td>Joshua Burkman</td>\n",
       "      <td>win</td>\n",
       "      <td>KO/TKO:Punch</td>\n",
       "      <td>1.34476</td>\n",
       "      <td>0.123128</td>\n",
       "      <td>-0.018213</td>\n",
       "      <td>0.008337</td>\n",
       "      <td>-1.012090</td>\n",
       "      <td>-0.665378</td>\n",
       "      <td>-0.579434</td>\n",
       "      <td>-0.183603</td>\n",
       "      <td>1.094906</td>\n",
       "      <td>-0.239482</td>\n",
       "      <td>0.783004</td>\n",
       "      <td>-0.015385</td>\n",
       "      <td>1.671822</td>\n",
       "      <td>0.132985</td>\n",
       "      <td>-0.017747</td>\n",
       "      <td>-2.137961</td>\n",
       "      <td>0.259381</td>\n",
       "      <td>0.259381</td>\n",
       "      <td>0.259381</td>\n",
       "      <td>0.259381</td>\n",
       "    </tr>\n",
       "  </tbody>\n",
       "</table>\n",
       "</div>"
      ],
      "text/plain": [
       "        set        date        fighter         opponent result        method  \\\n",
       "5709  train  2017-07-29  Kailin Curran  Aleksandra Albu   lose        U-DEC:   \n",
       "5710  train  2017-07-29  Jarred Brooks     Eric Shelton    win        S-DEC:   \n",
       "5711   test  2017-07-29     Drew Dober   Joshua Burkman    win  KO/TKO:Punch   \n",
       "\n",
       "       kd_dif   str_dif    td_dif   sub_dif  td avg._dif  td acc._dif  \\\n",
       "5709 -0.00892  0.123128 -1.597639  0.008337    -0.150322     0.248259   \n",
       "5710 -0.00892 -0.176583  1.561212  0.008337     0.950517     0.213119   \n",
       "5711  1.34476  0.123128 -0.018213  0.008337    -1.012090    -0.665378   \n",
       "\n",
       "      td def._dif  sub. avg._dif  slpm_dif  str. acc._dif  sapm_dif  \\\n",
       "5709    -0.545754       0.199566 -0.613584      -0.320786 -0.491150   \n",
       "5710     0.767752       0.391150 -0.305805       0.329644 -0.129731   \n",
       "5711    -0.579434      -0.183603  1.094906      -0.239482  0.783004   \n",
       "\n",
       "      str. def_dif  stance_win_ratio  win_perc_dif  win_strk_dif  \\\n",
       "5709      1.249440         -0.054481     -2.040434     -0.589427   \n",
       "5710     -0.099707          1.584492      0.005137     -0.017747   \n",
       "5711     -0.015385          1.671822      0.132985     -0.017747   \n",
       "\n",
       "      lose_strk_dif  kd_dif_pred  str_dif_pred  td_dif_pred  sub_dif_pred  \n",
       "5709       2.164739    -0.122607     -0.122607    -0.122607     -0.122607  \n",
       "5710      -1.062286    -0.199729     -0.199729    -0.199729     -0.199729  \n",
       "5711      -2.137961     0.259381      0.259381     0.259381      0.259381  "
      ]
     },
     "execution_count": 6,
     "metadata": {},
     "output_type": "execute_result"
    }
   ],
   "source": [
    "xgboost_reg = set_xgboost_reg(X_columns=X, y_columns=y, data=df, n=200, learning_rate=0.2, subsample=0.4, max_depth=5)\n",
    "df = set_predictions(model=xgboost_reg, X_columns=X, y_columns=y, data=df)\n",
    "df.tail(3)"
   ]
  },
  {
   "cell_type": "code",
   "execution_count": 7,
   "id": "d4b157a1-8a80-4be3-9ab2-6d7f5fb2ec33",
   "metadata": {},
   "outputs": [
    {
     "name": "stdout",
     "output_type": "stream",
     "text": [
      "Model Accuracy(=1 - (error/(normal range))): 0.852950\n"
     ]
    }
   ],
   "source": [
    "acc = []\n",
    "for column in ['kd_dif','str_dif','td_dif','sub_dif']:\n",
    "    act = df[column][df.set=='validation']\n",
    "    pred = df[column+'_pred'][df.set=='validation'] \n",
    "    acc.append(np.round(get_mean_percentage_error(act=act, pred=pred),4))\n",
    "    \n",
    "print('Model Accuracy(=1 - (error/(normal range))): %f' %(np.mean(acc)))"
   ]
  },
  {
   "cell_type": "markdown",
   "id": "601ed27c-cf35-4cb1-9d1f-153a58bfc1ba",
   "metadata": {},
   "source": [
    "### <span style='color:orange'> **[in-progress]** </span>GridSearch (=Parameter tuning):"
   ]
  },
  {
   "cell_type": "code",
   "execution_count": 8,
   "id": "01e3323d-ff77-4ae7-89f9-010405c22d7e",
   "metadata": {},
   "outputs": [
    {
     "name": "stdout",
     "output_type": "stream",
     "text": [
      "Best parameters:  {'learning_rate': 0.05, 'max_depth': 2, 'n_estimators': 100, 'subsample': 0.7}\n",
      "Best score:  0.23513453187465402\n"
     ]
    }
   ],
   "source": [
    "parameters = {'learning_rate': [0.05, 0.1, 0.15],\n",
    "              'max_depth': [2, 3, 6],\n",
    "              'subsample': [0.7, 0.8, 0.9],\n",
    "              'n_estimators':[100, 200, 300]\n",
    "}\n",
    "\n",
    "xgboost_reg = XGBRegressor(objective='reg:squarederror') #objective='reg:squarederror')\n",
    "grid_search = GridSearchCV(estimator=xgboost_reg, param_grid=parameters, cv=3,error_score='raise')\n",
    "\n",
    "X_train = df[X][df.set=='train']\n",
    "y_train = df[y][df.set=='train']\n",
    "grid_search.fit(X_train,y_train)\n",
    "\n",
    "print(\"Best parameters: \", grid_search.best_params_)\n",
    "print(\"Best score: \", grid_search.best_score_)"
   ]
  },
  {
   "cell_type": "code",
   "execution_count": 9,
   "id": "1f98a8cd-b45a-45b9-bcf6-4642be3b9bd2",
   "metadata": {},
   "outputs": [
    {
     "data": {
      "text/html": [
       "<div>\n",
       "<style scoped>\n",
       "    .dataframe tbody tr th:only-of-type {\n",
       "        vertical-align: middle;\n",
       "    }\n",
       "\n",
       "    .dataframe tbody tr th {\n",
       "        vertical-align: top;\n",
       "    }\n",
       "\n",
       "    .dataframe thead th {\n",
       "        text-align: right;\n",
       "    }\n",
       "</style>\n",
       "<table border=\"1\" class=\"dataframe\">\n",
       "  <thead>\n",
       "    <tr style=\"text-align: right;\">\n",
       "      <th></th>\n",
       "      <th>learning_rate</th>\n",
       "      <th>max_depth</th>\n",
       "      <th>n_estimators</th>\n",
       "      <th>subsample</th>\n",
       "      <th>rmse</th>\n",
       "    </tr>\n",
       "  </thead>\n",
       "  <tbody>\n",
       "    <tr>\n",
       "      <th>0</th>\n",
       "      <td>0.15</td>\n",
       "      <td>6</td>\n",
       "      <td>300</td>\n",
       "      <td>0.7</td>\n",
       "      <td>0.285292</td>\n",
       "    </tr>\n",
       "  </tbody>\n",
       "</table>\n",
       "</div>"
      ],
      "text/plain": [
       "   learning_rate  max_depth  n_estimators  subsample      rmse\n",
       "0           0.15          6           300        0.7  0.285292"
      ]
     },
     "execution_count": 9,
     "metadata": {},
     "output_type": "execute_result"
    }
   ],
   "source": [
    "grid = pd.DataFrame(grid_search.cv_results_['params'])\n",
    "rmse = np.power(grid_search.cv_results_['mean_test_score'],0.5)\n",
    "\n",
    "grid['rmse'] = np.power(grid_search.cv_results_['mean_test_score'],0.5) #grid_search.cv_results_['mean_test_score']\n",
    "g = grid[grid.rmse==np.min(grid.rmse)].reset_index(drop=True)\n",
    "g"
   ]
  },
  {
   "cell_type": "code",
   "execution_count": 10,
   "id": "9f281c66-0d0a-4652-9759-7cbf316ed1f9",
   "metadata": {
    "tags": []
   },
   "outputs": [
    {
     "data": {
      "image/png": "[encoded data removed]",
      "text/plain": [
       "<Figure size 432x288 with 2 Axes>"
      ]
     },
     "metadata": {},
     "output_type": "display_data"
    },
    {
     "data": {
      "image/png": "[encoded data removed]",
      "text/plain": [
       "<Figure size 432x288 with 2 Axes>"
      ]
     },
     "metadata": {},
     "output_type": "display_data"
    },
    {
     "data": {
      "image/png": "[encoded data removed]",
      "text/plain": [
       "<Figure size 432x288 with 2 Axes>"
      ]
     },
     "metadata": {},
     "output_type": "display_data"
    },
    {
     "data": {
      "image/png": "[encoded data removed]",
      "text/plain": [
       "<Figure size 432x288 with 2 Axes>"
      ]
     },
     "metadata": {},
     "output_type": "display_data"
    },
    {
     "data": {
      "image/png": "[encoded data removed]",
      "text/plain": [
       "<Figure size 432x288 with 2 Axes>"
      ]
     },
     "metadata": {},
     "output_type": "display_data"
    },
    {
     "data": {
      "image/png": "[encoded data removed]",
      "text/plain": [
       "<Figure size 432x288 with 2 Axes>"
      ]
     },
     "metadata": {},
     "output_type": "display_data"
    },
    {
     "data": {
      "image/png": "[encoded data removed]",
      "text/plain": [
       "<Figure size 432x288 with 2 Axes>"
      ]
     },
     "metadata": {},
     "output_type": "display_data"
    },
    {
     "data": {
      "image/png": "[encoded data removed]",
      "text/plain": [
       "<Figure size 432x288 with 2 Axes>"
      ]
     },
     "metadata": {},
     "output_type": "display_data"
    },
    {
     "data": {
      "image/png": "[encoded data removed]",
      "text/plain": [
       "<Figure size 432x288 with 2 Axes>"
      ]
     },
     "metadata": {},
     "output_type": "display_data"
    },
    {
     "data": {
      "image/png": "[encoded data removed]",
      "text/plain": [
       "<Figure size 432x288 with 2 Axes>"
      ]
     },
     "metadata": {},
     "output_type": "display_data"
    },
    {
     "data": {
      "image/png": "[encoded data removed]",
      "text/plain": [
       "<Figure size 432x288 with 2 Axes>"
      ]
     },
     "metadata": {},
     "output_type": "display_data"
    },
    {
     "data": {
      "image/png": "[encoded data removed]",
      "text/plain": [
       "<Figure size 432x288 with 2 Axes>"
      ]
     },
     "metadata": {},
     "output_type": "display_data"
    }
   ],
   "source": [
    "# Show parameters\n",
    "for p1 in ['learning_rate','max_depth','n_estimators','subsample']:\n",
    "    for p2 in ['learning_rate','max_depth','n_estimators','subsample']:\n",
    "        if p1 != p2:\n",
    "            table = pd.pivot_table(grid, values='rmse', index=p2, columns=p1)\n",
    "            sns.heatmap(table, cmap='YlGnBu', annot=True, fmt='.4g')\n",
    "            plt.title('Grid Search Results')\n",
    "            plt.xlabel(p1)\n",
    "            plt.ylabel(p2)\n",
    "            plt.show()"
   ]
  },
  {
   "cell_type": "markdown",
   "id": "8180025e-db5d-4ce5-95e5-3b78525ade00",
   "metadata": {},
   "source": [
    "#### <span style='color:green'> **[done]** </span> Train model with chosen parameters:"
   ]
  },
  {
   "cell_type": "code",
   "execution_count": 11,
   "id": "4053bc07-b87e-49a2-8624-d0b2f317e6a1",
   "metadata": {},
   "outputs": [
    {
     "data": {
      "text/html": [
       "<div>\n",
       "<style scoped>\n",
       "    .dataframe tbody tr th:only-of-type {\n",
       "        vertical-align: middle;\n",
       "    }\n",
       "\n",
       "    .dataframe tbody tr th {\n",
       "        vertical-align: top;\n",
       "    }\n",
       "\n",
       "    .dataframe thead th {\n",
       "        text-align: right;\n",
       "    }\n",
       "</style>\n",
       "<table border=\"1\" class=\"dataframe\">\n",
       "  <thead>\n",
       "    <tr style=\"text-align: right;\">\n",
       "      <th></th>\n",
       "      <th>set</th>\n",
       "      <th>date</th>\n",
       "      <th>fighter</th>\n",
       "      <th>opponent</th>\n",
       "      <th>result</th>\n",
       "      <th>method</th>\n",
       "      <th>kd_dif</th>\n",
       "      <th>str_dif</th>\n",
       "      <th>td_dif</th>\n",
       "      <th>sub_dif</th>\n",
       "      <th>td avg._dif</th>\n",
       "      <th>td acc._dif</th>\n",
       "      <th>td def._dif</th>\n",
       "      <th>sub. avg._dif</th>\n",
       "      <th>slpm_dif</th>\n",
       "      <th>str. acc._dif</th>\n",
       "      <th>sapm_dif</th>\n",
       "      <th>str. def_dif</th>\n",
       "      <th>stance_win_ratio</th>\n",
       "      <th>win_perc_dif</th>\n",
       "      <th>win_strk_dif</th>\n",
       "      <th>lose_strk_dif</th>\n",
       "      <th>kd_dif_pred</th>\n",
       "      <th>str_dif_pred</th>\n",
       "      <th>td_dif_pred</th>\n",
       "      <th>sub_dif_pred</th>\n",
       "    </tr>\n",
       "  </thead>\n",
       "  <tbody>\n",
       "    <tr>\n",
       "      <th>5709</th>\n",
       "      <td>train</td>\n",
       "      <td>2017-07-29</td>\n",
       "      <td>Kailin Curran</td>\n",
       "      <td>Aleksandra Albu</td>\n",
       "      <td>lose</td>\n",
       "      <td>U-DEC:</td>\n",
       "      <td>-0.00892</td>\n",
       "      <td>0.123128</td>\n",
       "      <td>-1.597639</td>\n",
       "      <td>0.008337</td>\n",
       "      <td>-0.150322</td>\n",
       "      <td>0.248259</td>\n",
       "      <td>-0.545754</td>\n",
       "      <td>0.199566</td>\n",
       "      <td>-0.613584</td>\n",
       "      <td>-0.320786</td>\n",
       "      <td>-0.491150</td>\n",
       "      <td>1.249440</td>\n",
       "      <td>-0.054481</td>\n",
       "      <td>-2.040434</td>\n",
       "      <td>-0.589427</td>\n",
       "      <td>2.164739</td>\n",
       "      <td>-0.071263</td>\n",
       "      <td>-0.071263</td>\n",
       "      <td>-0.071263</td>\n",
       "      <td>-0.071263</td>\n",
       "    </tr>\n",
       "    <tr>\n",
       "      <th>5710</th>\n",
       "      <td>train</td>\n",
       "      <td>2017-07-29</td>\n",
       "      <td>Jarred Brooks</td>\n",
       "      <td>Eric Shelton</td>\n",
       "      <td>win</td>\n",
       "      <td>S-DEC:</td>\n",
       "      <td>-0.00892</td>\n",
       "      <td>-0.176583</td>\n",
       "      <td>1.561212</td>\n",
       "      <td>0.008337</td>\n",
       "      <td>0.950517</td>\n",
       "      <td>0.213119</td>\n",
       "      <td>0.767752</td>\n",
       "      <td>0.391150</td>\n",
       "      <td>-0.305805</td>\n",
       "      <td>0.329644</td>\n",
       "      <td>-0.129731</td>\n",
       "      <td>-0.099707</td>\n",
       "      <td>1.584492</td>\n",
       "      <td>0.005137</td>\n",
       "      <td>-0.017747</td>\n",
       "      <td>-1.062286</td>\n",
       "      <td>-0.076236</td>\n",
       "      <td>-0.076236</td>\n",
       "      <td>-0.076236</td>\n",
       "      <td>-0.076236</td>\n",
       "    </tr>\n",
       "    <tr>\n",
       "      <th>5711</th>\n",
       "      <td>test</td>\n",
       "      <td>2017-07-29</td>\n",
       "      <td>Drew Dober</td>\n",
       "      <td>Joshua Burkman</td>\n",
       "      <td>win</td>\n",
       "      <td>KO/TKO:Punch</td>\n",
       "      <td>1.34476</td>\n",
       "      <td>0.123128</td>\n",
       "      <td>-0.018213</td>\n",
       "      <td>0.008337</td>\n",
       "      <td>-1.012090</td>\n",
       "      <td>-0.665378</td>\n",
       "      <td>-0.579434</td>\n",
       "      <td>-0.183603</td>\n",
       "      <td>1.094906</td>\n",
       "      <td>-0.239482</td>\n",
       "      <td>0.783004</td>\n",
       "      <td>-0.015385</td>\n",
       "      <td>1.671822</td>\n",
       "      <td>0.132985</td>\n",
       "      <td>-0.017747</td>\n",
       "      <td>-2.137961</td>\n",
       "      <td>0.516686</td>\n",
       "      <td>0.516686</td>\n",
       "      <td>0.516686</td>\n",
       "      <td>0.516686</td>\n",
       "    </tr>\n",
       "  </tbody>\n",
       "</table>\n",
       "</div>"
      ],
      "text/plain": [
       "        set        date        fighter         opponent result        method  \\\n",
       "5709  train  2017-07-29  Kailin Curran  Aleksandra Albu   lose        U-DEC:   \n",
       "5710  train  2017-07-29  Jarred Brooks     Eric Shelton    win        S-DEC:   \n",
       "5711   test  2017-07-29     Drew Dober   Joshua Burkman    win  KO/TKO:Punch   \n",
       "\n",
       "       kd_dif   str_dif    td_dif   sub_dif  td avg._dif  td acc._dif  \\\n",
       "5709 -0.00892  0.123128 -1.597639  0.008337    -0.150322     0.248259   \n",
       "5710 -0.00892 -0.176583  1.561212  0.008337     0.950517     0.213119   \n",
       "5711  1.34476  0.123128 -0.018213  0.008337    -1.012090    -0.665378   \n",
       "\n",
       "      td def._dif  sub. avg._dif  slpm_dif  str. acc._dif  sapm_dif  \\\n",
       "5709    -0.545754       0.199566 -0.613584      -0.320786 -0.491150   \n",
       "5710     0.767752       0.391150 -0.305805       0.329644 -0.129731   \n",
       "5711    -0.579434      -0.183603  1.094906      -0.239482  0.783004   \n",
       "\n",
       "      str. def_dif  stance_win_ratio  win_perc_dif  win_strk_dif  \\\n",
       "5709      1.249440         -0.054481     -2.040434     -0.589427   \n",
       "5710     -0.099707          1.584492      0.005137     -0.017747   \n",
       "5711     -0.015385          1.671822      0.132985     -0.017747   \n",
       "\n",
       "      lose_strk_dif  kd_dif_pred  str_dif_pred  td_dif_pred  sub_dif_pred  \n",
       "5709       2.164739    -0.071263     -0.071263    -0.071263     -0.071263  \n",
       "5710      -1.062286    -0.076236     -0.076236    -0.076236     -0.076236  \n",
       "5711      -2.137961     0.516686      0.516686     0.516686      0.516686  "
      ]
     },
     "execution_count": 11,
     "metadata": {},
     "output_type": "execute_result"
    }
   ],
   "source": [
    "xgboost_reg = set_xgboost_reg(X_columns=X, y_columns=y, data=df, n=g.loc[0,'n_estimators'], learning_rate=g.loc[0,'learning_rate'], subsample=g.loc[0,'subsample'], max_depth=g.loc[0,'max_depth'])\n",
    "df = set_predictions(model=xgboost_reg, X_columns=X, y_columns=y, data=df)\n",
    "df.tail(3)"
   ]
  },
  {
   "cell_type": "markdown",
   "id": "b159357d-d03e-43a1-bd40-47c73421e9bb",
   "metadata": {},
   "source": [
    "#### <span style='color:green'> **[done]** </span> Tuned model score:"
   ]
  },
  {
   "cell_type": "code",
   "execution_count": 12,
   "id": "6e3aac73-81c6-4ce6-9db9-2a369a0a3b6f",
   "metadata": {},
   "outputs": [
    {
     "name": "stdout",
     "output_type": "stream",
     "text": [
      "Model Accuracy(=1-percentage error):\n",
      "kd_dif Accuracy: 0.8683695275437008\n",
      "str_dif Accuracy: 0.8650231965023925\n",
      "sub_dif Accuracy: 0.8516552417629093\n",
      "td_dif Accuracy: 0.8477934907714011\n",
      "\n",
      "Overall score: 0.8582\n"
     ]
    }
   ],
   "source": [
    "print('Model Accuracy(=1-percentage error):')\n",
    "acc = []\n",
    "for stat in ['kd','str','sub','td']:\n",
    "    act = df[stat + '_dif'][df.set=='test']\n",
    "    pred = df[stat + '_dif_pred'][df.set=='test']\n",
    "    acc.append(get_mean_percentage_error(act=act, pred=pred))\n",
    "    print(stat + '_dif Accuracy: ' + str(get_mean_percentage_error(act=act, pred=pred)))\n",
    "print('\\nOverall score: %.4f' %np.mean(acc))    "
   ]
  },
  {
   "cell_type": "markdown",
   "id": "648a4abc-aeda-410a-87cc-4f7e8accb60c",
   "metadata": {
    "tags": []
   },
   "source": [
    "#### <span style='color:green'> **[done]** </span> Saving model as pickle:"
   ]
  },
  {
   "cell_type": "code",
   "execution_count": 13,
   "id": "69f9aa3f-df7a-4bd0-8708-1f98a388d866",
   "metadata": {
    "tags": []
   },
   "outputs": [
    {
     "name": "stdout",
     "output_type": "stream",
     "text": [
      "../global_variables/stats_pred_xgboost_reg.pkl saved.\n"
     ]
    }
   ],
   "source": [
    "save_trained_model(model=xgboost_reg,filename_path='../global_variables/stats_pred_xgboost_reg')"
   ]
  },
  {
   "cell_type": "markdown",
   "id": "745cb715-a58a-4da0-a13a-d20ff0a5a2b6",
   "metadata": {},
   "source": [
    "#### <span style='color:green'> **[done]** </span> Saving statistic prediction data:"
   ]
  },
  {
   "cell_type": "code",
   "execution_count": 14,
   "id": "40c5ae04-be31-4c21-8b47-f56ed19ab970",
   "metadata": {},
   "outputs": [
    {
     "name": "stdout",
     "output_type": "stream",
     "text": [
      "../data/fight_stat_data_trained.csv saved.\n"
     ]
    }
   ],
   "source": [
    "df.to_csv('../data/fight_stat_data_trained.csv', index=None)\n",
    "print('../data/fight_stat_data_trained.csv saved.')"
   ]
  },
  {
   "cell_type": "code",
   "execution_count": 15,
   "id": "b9c93d33-05f7-4577-b478-124bd10d84e8",
   "metadata": {},
   "outputs": [
    {
     "ename": "SyntaxError",
     "evalue": "invalid syntax (614915279.py, line 1)",
     "output_type": "error",
     "traceback": [
      "\u001b[1;36m  Input \u001b[1;32mIn [15]\u001b[1;36m\u001b[0m\n\u001b[1;33m    >>>> end of xgboost model\u001b[0m\n\u001b[1;37m    ^\u001b[0m\n\u001b[1;31mSyntaxError\u001b[0m\u001b[1;31m:\u001b[0m invalid syntax\n"
     ]
    }
   ],
   "source": [
    ">>>> end of xgboost model"
   ]
  },
  {
   "cell_type": "markdown",
   "id": "4dc0189d-4f2a-4955-9192-ed29c2f56076",
   "metadata": {
    "tags": []
   },
   "source": [
    "## <span style='color:green'> **[done]** </span> Random Forest regression model training:"
   ]
  },
  {
   "cell_type": "code",
   "execution_count": null,
   "id": "00e1e196-3423-4d8b-a615-48f394f6ce58",
   "metadata": {},
   "outputs": [],
   "source": [
    "df = set_train_test(X_columns=X, y_columns=y, data=df, test_size=0.3, valid_size=0.3)\n",
    "df.tail(3)"
   ]
  },
  {
   "cell_type": "code",
   "execution_count": null,
   "id": "ed643749-688a-4af2-8027-8cd33fb4aac5",
   "metadata": {},
   "outputs": [],
   "source": [
    "rf_reg = set_random_forest_reg(X_columns=X, y_columns=y, data=df, n_estimators=10)\n",
    "df = set_predictions(model=rf_reg, X_columns=X, y_columns=y, data=df)\n",
    "df.tail(3)"
   ]
  },
  {
   "cell_type": "code",
   "execution_count": null,
   "id": "4d517bc1-bedd-4da1-a8c7-7c18de009626",
   "metadata": {},
   "outputs": [],
   "source": [
    "acc = []\n",
    "for column in ['kd_dif','str_dif','td_dif','sub_dif']:\n",
    "    act = df[column][df.set=='validation']\n",
    "    pred = df[column+'_pred'][df.set=='validation'] \n",
    "    acc.append(np.round(get_mean_percentage_error(act=act, pred=pred),4))\n",
    "    \n",
    "print('Model Accuracy(=1 - (error/(normal range))): %f' %(np.mean(acc)))"
   ]
  },
  {
   "cell_type": "markdown",
   "id": "6e2e2fa9-e391-48fe-9b01-d615763a31a4",
   "metadata": {
    "tags": []
   },
   "source": [
    "#### <span style='color:green'> **[done]** </span> Tune Model parameters:"
   ]
  },
  {
   "cell_type": "code",
   "execution_count": null,
   "id": "94c6ca8e-62e5-42fb-82dd-34c7f5ede8b7",
   "metadata": {},
   "outputs": [],
   "source": [
    "sum_table = pd.DataFrame(columns=['n_estimators','kd_accuracy','str_accuracy','td_accuracy','sub_accuracy','mean_accuracy'])\n",
    "\n",
    "for n in tqdm([2,4,8,16,32,64,128,256]):\n",
    "    sum_table = pd.concat([sum_table,get_grad_desc_step(X_columns=X, y_columns=y, data=df, n=n)],ignore_index=True)\n",
    "\n",
    "sum_table.tail(5)"
   ]
  },
  {
   "cell_type": "code",
   "execution_count": null,
   "id": "d8581ec2-4f19-4db1-be6d-7929976ee38b",
   "metadata": {},
   "outputs": [],
   "source": [
    "sns.scatterplot(data=sum_table, x='n_estimators', y='mean_accuracy')\n",
    "sns.lineplot(data=sum_table, x='n_estimators', y='mean_accuracy')\n",
    "\n",
    "t = sum_table[sum_table.mean_accuracy == np.max(sum_table['mean_accuracy'])].reset_index(drop=True)\n",
    "opt_n_estimators = t.loc[0,'n_estimators']\n",
    "opt_acc = t.loc[0,'mean_accuracy']\n",
    "t"
   ]
  },
  {
   "cell_type": "markdown",
   "id": "d26eef0a-ec61-4ba1-b87e-df54c5f7f970",
   "metadata": {
    "tags": []
   },
   "source": [
    "#### <span style='color:green'> **[done]** </span> Saving tuned parameters:"
   ]
  },
  {
   "cell_type": "code",
   "execution_count": null,
   "id": "7c8d7b56-da81-4518-bff1-61b5c628b952",
   "metadata": {
    "tags": []
   },
   "outputs": [],
   "source": [
    "param = pd.DataFrame(data={'ml_model':['stats_random_forest_regressor'],\n",
    "                          'parameter_name':['n_estimators'],\n",
    "                          'value':[opt_n_estimators],\n",
    "                          'accuracy':[opt_acc]}\n",
    "                    )\n",
    "\n",
    "param.to_csv('../global_variables/ml_models_parameters.csv', index=None)\n",
    "print('../global_variables/ml_models_parameters.csv saved.')"
   ]
  },
  {
   "cell_type": "markdown",
   "id": "eae5a3ea-7d9a-4f02-9d70-d4261d9d7a4e",
   "metadata": {},
   "source": [
    "#### <span style='color:green'> **[done]** </span> Train model with chosen parameters:"
   ]
  },
  {
   "cell_type": "code",
   "execution_count": null,
   "id": "69894d21-65a5-48e8-84d8-64a993568e37",
   "metadata": {},
   "outputs": [],
   "source": [
    "rf_reg = set_random_forest_reg(X_columns=X, y_columns=y, data=df, n_estimators=opt_n_estimators)\n",
    "df = set_predictions(model=rf_reg, X_columns=X, y_columns=y, data=df)\n",
    "df.tail(3)"
   ]
  },
  {
   "cell_type": "markdown",
   "id": "b60f854a-f33b-4c28-a9e0-0f4f30f1e685",
   "metadata": {
    "tags": []
   },
   "source": [
    "#### <span style='color:green'> **[done]** </span> Saving model as pickle:"
   ]
  },
  {
   "cell_type": "code",
   "execution_count": null,
   "id": "efb50cf1-051a-47e2-99ca-7f052bbbfb5c",
   "metadata": {
    "tags": []
   },
   "outputs": [],
   "source": [
    "save_trained_model(model=rf_reg,filename_path='../global_variables/stats_pred_random_forest_reg')"
   ]
  },
  {
   "cell_type": "markdown",
   "id": "32099f68-4957-493f-983b-31db4c1add68",
   "metadata": {},
   "source": [
    "#### <span style='color:green'> **[done]** </span> Tuned model score:"
   ]
  },
  {
   "cell_type": "code",
   "execution_count": null,
   "id": "168a8613-7bd3-4776-802b-e9e9d0d749a2",
   "metadata": {},
   "outputs": [],
   "source": [
    "print('Model Accuracy(=1-percentage error):')\n",
    "acc = []\n",
    "for stat in ['kd','str','sub','td']:\n",
    "    act = df[stat + '_dif'][df.set=='test']\n",
    "    pred = df[stat + '_dif_pred'][df.set=='test']\n",
    "    acc.append(get_mean_percentage_error(act=act, pred=pred))\n",
    "    print(stat + '_dif Accuracy: ' + str(get_mean_percentage_error(act=act, pred=pred)))\n",
    "print('\\nOverall score: %.4f' %np.mean(acc))    "
   ]
  },
  {
   "cell_type": "markdown",
   "id": "0b38ba07-2e8e-4c73-8063-5234bf12c26b",
   "metadata": {},
   "source": [
    "#### <span style='color:green'> **[done]** </span> Saving statistic prediction data:"
   ]
  },
  {
   "cell_type": "code",
   "execution_count": null,
   "id": "118d23cd-b7f2-4a95-b0f1-f2f05744c3f3",
   "metadata": {},
   "outputs": [],
   "source": [
    "df.to_csv('../data/fight_stat_data_trained.csv', index=None)\n",
    "print('../data/fight_stat_data_trained.csv saved.')"
   ]
  }
 ],
 "metadata": {
  "kernelspec": {
   "display_name": "Python 3 (ipykernel)",
   "language": "python",
   "name": "python3"
  },
  "language_info": {
   "codemirror_mode": {
    "name": "ipython",
    "version": 3
   },
   "file_extension": ".py",
   "mimetype": "text/x-python",
   "name": "python",
   "nbconvert_exporter": "python",
   "pygments_lexer": "ipython3",
   "version": "3.9.7"
  }
 },
 "nbformat": 4,
 "nbformat_minor": 5
}
