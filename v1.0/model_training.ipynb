{
 "cells": [
  {
   "cell_type": "code",
   "execution_count": 1,
   "metadata": {},
   "outputs": [
    {
     "name": "stdout",
     "output_type": "stream",
     "text": [
      "Index(['date', 'result', 'method', 'rounds', 'fighter', 'opponent',\n",
      "       'fight_time', 'rev_dif', 'win_perc_dif', 'ctrl_dif'],\n",
      "      dtype='object')\n"
     ]
    },
    {
     "data": {
      "text/html": [
       "<div>\n",
       "<style scoped>\n",
       "    .dataframe tbody tr th:only-of-type {\n",
       "        vertical-align: middle;\n",
       "    }\n",
       "\n",
       "    .dataframe tbody tr th {\n",
       "        vertical-align: top;\n",
       "    }\n",
       "\n",
       "    .dataframe thead th {\n",
       "        text-align: right;\n",
       "    }\n",
       "</style>\n",
       "<table border=\"1\" class=\"dataframe\">\n",
       "  <thead>\n",
       "    <tr style=\"text-align: right;\">\n",
       "      <th></th>\n",
       "      <th>date</th>\n",
       "      <th>result</th>\n",
       "      <th>method</th>\n",
       "      <th>rounds</th>\n",
       "      <th>fighter</th>\n",
       "      <th>opponent</th>\n",
       "      <th>fight_time</th>\n",
       "      <th>rev_dif</th>\n",
       "      <th>win_perc_dif</th>\n",
       "      <th>ctrl_dif</th>\n",
       "    </tr>\n",
       "  </thead>\n",
       "  <tbody>\n",
       "    <tr>\n",
       "      <th>7015</th>\n",
       "      <td>1999-07-16</td>\n",
       "      <td>W</td>\n",
       "      <td>Submission</td>\n",
       "      <td>3</td>\n",
       "      <td>Paul Jone</td>\n",
       "      <td>Flavio Luiz Mour</td>\n",
       "      <td>20.33</td>\n",
       "      <td>1</td>\n",
       "      <td>0.0</td>\n",
       "      <td>3.72</td>\n",
       "    </tr>\n",
       "    <tr>\n",
       "      <th>7016</th>\n",
       "      <td>1999-07-16</td>\n",
       "      <td>L</td>\n",
       "      <td>KO/TKO</td>\n",
       "      <td>3</td>\n",
       "      <td>Tim Lajcik</td>\n",
       "      <td>Tsuyoshi Kohsaka</td>\n",
       "      <td>25.00</td>\n",
       "      <td>-1</td>\n",
       "      <td>0.0</td>\n",
       "      <td>5.75</td>\n",
       "    </tr>\n",
       "    <tr>\n",
       "      <th>7017</th>\n",
       "      <td>1999-07-16</td>\n",
       "      <td>L</td>\n",
       "      <td>KO/TKO</td>\n",
       "      <td>3</td>\n",
       "      <td>Royce Alge</td>\n",
       "      <td>Eugene Jackson</td>\n",
       "      <td>5.32</td>\n",
       "      <td>0</td>\n",
       "      <td>0.0</td>\n",
       "      <td>2.24</td>\n",
       "    </tr>\n",
       "  </tbody>\n",
       "</table>\n",
       "</div>"
      ],
      "text/plain": [
       "            date result      method  rounds     fighter          opponent  \\\n",
       "7015  1999-07-16      W  Submission       3   Paul Jone  Flavio Luiz Mour   \n",
       "7016  1999-07-16      L      KO/TKO       3  Tim Lajcik  Tsuyoshi Kohsaka   \n",
       "7017  1999-07-16      L      KO/TKO       3  Royce Alge    Eugene Jackson   \n",
       "\n",
       "      fight_time  rev_dif  win_perc_dif  ctrl_dif  \n",
       "7015       20.33        1           0.0      3.72  \n",
       "7016       25.00       -1           0.0      5.75  \n",
       "7017        5.32        0           0.0      2.24  "
      ]
     },
     "execution_count": 1,
     "metadata": {},
     "output_type": "execute_result"
    }
   ],
   "source": [
    "from func_def import *\n",
    "df = pd.read_csv('data_features_ready.csv').dropna()\n",
    "print(df.columns)\n",
    "df.tail(3)"
   ]
  },
  {
   "cell_type": "code",
   "execution_count": 2,
   "metadata": {},
   "outputs": [
    {
     "name": "stdout",
     "output_type": "stream",
     "text": [
      "Data split: Data=(7017, 9), train_set=(4931, 9), validation_set=(0, 9), test_set=(2086, 9)\n"
     ]
    },
    {
     "data": {
      "text/html": [
       "<div>\n",
       "<style scoped>\n",
       "    .dataframe tbody tr th:only-of-type {\n",
       "        vertical-align: middle;\n",
       "    }\n",
       "\n",
       "    .dataframe tbody tr th {\n",
       "        vertical-align: top;\n",
       "    }\n",
       "\n",
       "    .dataframe thead th {\n",
       "        text-align: right;\n",
       "    }\n",
       "</style>\n",
       "<table border=\"1\" class=\"dataframe\">\n",
       "  <thead>\n",
       "    <tr style=\"text-align: right;\">\n",
       "      <th></th>\n",
       "      <th>set</th>\n",
       "      <th>date</th>\n",
       "      <th>fighter</th>\n",
       "      <th>opponent</th>\n",
       "      <th>method</th>\n",
       "      <th>rev_dif</th>\n",
       "      <th>win_perc_dif</th>\n",
       "      <th>ctrl_dif</th>\n",
       "      <th>result</th>\n",
       "    </tr>\n",
       "  </thead>\n",
       "  <tbody>\n",
       "    <tr>\n",
       "      <th>0</th>\n",
       "      <td>test</td>\n",
       "      <td>2023-11-04</td>\n",
       "      <td>Jailton Almeida</td>\n",
       "      <td>Derrick Lewis</td>\n",
       "      <td>Decision - Unanimous</td>\n",
       "      <td>1</td>\n",
       "      <td>0.33</td>\n",
       "      <td>20.22</td>\n",
       "      <td>W</td>\n",
       "    </tr>\n",
       "    <tr>\n",
       "      <th>1</th>\n",
       "      <td>train</td>\n",
       "      <td>2023-11-04</td>\n",
       "      <td>Don'Tale Mayes</td>\n",
       "      <td>Rodrigo Nascimento</td>\n",
       "      <td>Decision - Unanimous</td>\n",
       "      <td>0</td>\n",
       "      <td>-0.25</td>\n",
       "      <td>-1.70</td>\n",
       "      <td>L</td>\n",
       "    </tr>\n",
       "    <tr>\n",
       "      <th>2</th>\n",
       "      <td>train</td>\n",
       "      <td>2023-11-04</td>\n",
       "      <td>Caio Borralho</td>\n",
       "      <td>Abus Magomedo</td>\n",
       "      <td>Decision - Unanimous</td>\n",
       "      <td>0</td>\n",
       "      <td>0.50</td>\n",
       "      <td>2.28</td>\n",
       "      <td>W</td>\n",
       "    </tr>\n",
       "    <tr>\n",
       "      <th>3</th>\n",
       "      <td>train</td>\n",
       "      <td>2023-11-04</td>\n",
       "      <td>Elves Brene</td>\n",
       "      <td>Kaynan Kruschewsky</td>\n",
       "      <td>KO/TKO</td>\n",
       "      <td>0</td>\n",
       "      <td>1.00</td>\n",
       "      <td>0.05</td>\n",
       "      <td>W</td>\n",
       "    </tr>\n",
       "    <tr>\n",
       "      <th>4</th>\n",
       "      <td>train</td>\n",
       "      <td>2023-11-04</td>\n",
       "      <td>Vitor Petrin</td>\n",
       "      <td>Modestas Bukauskas</td>\n",
       "      <td>KO/TKO</td>\n",
       "      <td>0</td>\n",
       "      <td>0.50</td>\n",
       "      <td>2.30</td>\n",
       "      <td>W</td>\n",
       "    </tr>\n",
       "  </tbody>\n",
       "</table>\n",
       "</div>"
      ],
      "text/plain": [
       "     set        date          fighter            opponent  \\\n",
       "0   test  2023-11-04  Jailton Almeida       Derrick Lewis   \n",
       "1  train  2023-11-04   Don'Tale Mayes  Rodrigo Nascimento   \n",
       "2  train  2023-11-04    Caio Borralho       Abus Magomedo   \n",
       "3  train  2023-11-04      Elves Brene  Kaynan Kruschewsky   \n",
       "4  train  2023-11-04     Vitor Petrin  Modestas Bukauskas   \n",
       "\n",
       "                 method  rev_dif  win_perc_dif  ctrl_dif result  \n",
       "0  Decision - Unanimous        1          0.33     20.22      W  \n",
       "1  Decision - Unanimous        0         -0.25     -1.70      L  \n",
       "2  Decision - Unanimous        0          0.50      2.28      W  \n",
       "3                KO/TKO        0          1.00      0.05      W  \n",
       "4                KO/TKO        0          0.50      2.30      W  "
      ]
     },
     "execution_count": 2,
     "metadata": {},
     "output_type": "execute_result"
    }
   ],
   "source": [
    "y = 'result'\n",
    "X = [feature for feature in df.columns if '_dif' in feature]\n",
    "#X = ['slpm_dif','sapm_dif','str_acc_dif','win_streak_dif']\n",
    "DROP_OUTLIERS = True\n",
    "VALIDATION_DATA = 0\n",
    "TEST_DATA = 0.3\n",
    "\n",
    "df = df[['date','fighter','opponent','method'] + X + [y]]\n",
    "df = set_train_test(X_columns=X, y_columns=y, data=df, test_size=TEST_DATA, valid_size=VALIDATION_DATA)\n",
    "df.head(5)"
   ]
  },
  {
   "cell_type": "code",
   "execution_count": 3,
   "metadata": {},
   "outputs": [
    {
     "name": "stdout",
     "output_type": "stream",
     "text": [
      "1d Outliers Detected: {False: 6792, True: 225}\n"
     ]
    }
   ],
   "source": [
    "# Remove outliers\n",
    "df['outlier'] = False\n",
    "\n",
    "for feature in X:\n",
    "    try:\n",
    "        pd.to_numeric(df[feature])\n",
    "        mean = np.mean(df[feature])\n",
    "        std = np.std(df[feature])\n",
    "        df.loc[(df[feature] > mean + 3*std)|(df[feature] < mean - 3*std),'outlier'] = True\n",
    "    except:\n",
    "        continue\n",
    "\n",
    "print(f'1d Outliers Detected: {df.outlier.value_counts().to_dict()}')    \n",
    "\n",
    "if DROP_OUTLIERS:\n",
    "    df = df[df.outlier == False].reset_index(drop=True)"
   ]
  },
  {
   "cell_type": "code",
   "execution_count": 4,
   "metadata": {},
   "outputs": [
    {
     "name": "stdout",
     "output_type": "stream",
     "text": [
      "Pre-Training Report:\n",
      "---------------------\n",
      "Train records: 4779\n",
      "Train records of df.result==L : 2443\n",
      "Train records of df.result==W : 2336\n",
      "-----------------------------------\n",
      "Validation records: 0\n",
      "Validation records of df.result==L : 0\n",
      "Validation records of df.result==W : 0\n",
      "-----------------------------------\n",
      "Test records: 2013\n",
      "Test records of df.result==L : 1011\n",
      "Test records of df.result==W : 1002\n"
     ]
    }
   ],
   "source": [
    "print('Pre-Training Report:\\n---------------------')\n",
    "print(f\"Train records: {len(df[df.set=='train'])}\")\n",
    "print('Train records of df.result==%s : %d' %(df.result.unique()[0],len(df[(df.result == df.result.unique()[0])&(df.set == 'train')])))\n",
    "print('Train records of df.result==%s : %d' %(df.result.unique()[1],len(df[(df.result == df.result.unique()[1])&(df.set == 'train')])))\n",
    "print('-----------------------------------')\n",
    "print('Validation records: %d' %len(df[df.set=='validation']))\n",
    "print('Validation records of df.result==%s : %d' %(df.result.unique()[0],len(df[(df.result == df.result.unique()[0])&(df.set == 'validation')])))\n",
    "print('Validation records of df.result==%s : %d' %(df.result.unique()[1],len(df[(df.result == df.result.unique()[1])&(df.set == 'validation')])))\n",
    "print('-----------------------------------')\n",
    "print('Test records: %d' %len(df[df.set=='test']))\n",
    "print('Test records of df.result==%s : %d' %(df.result.unique()[0],len(df[(df.result == df.result.unique()[0])&(df.set == 'test')])))\n",
    "print('Test records of df.result==%s : %d' %(df.result.unique()[1],len(df[(df.result == df.result.unique()[1])&(df.set == 'test')])))\n"
   ]
  },
  {
   "cell_type": "code",
   "execution_count": 5,
   "metadata": {},
   "outputs": [
    {
     "name": "stderr",
     "output_type": "stream",
     "text": [
      "100%|██████████| 3/3 [00:04<00:00,  1.62s/it]"
     ]
    },
    {
     "name": "stdout",
     "output_type": "stream",
     "text": [
      "[XGBClassifier(base_score=0.5, booster='gbtree', callbacks=None,\n",
      "              colsample_bylevel=1, colsample_bynode=1, colsample_bytree=1,\n",
      "              early_stopping_rounds=None, enable_categorical=False,\n",
      "              eval_metric=None, gamma=0, gpu_id=-1, grow_policy='depthwise',\n",
      "              importance_type=None, interaction_constraints='',\n",
      "              learning_rate=0.300000012, max_bin=256, max_cat_to_onehot=4,\n",
      "              max_delta_step=0, max_depth=6, max_leaves=0, min_child_weight=1,\n",
      "              missing=nan, monotone_constraints='()', n_estimators=100,\n",
      "              n_jobs=0, num_parallel_tree=1, predictor='auto', random_state=0,\n",
      "              reg_alpha=0, reg_lambda=1, ...), LogisticRegression(), KNeighborsClassifier()]\n"
     ]
    },
    {
     "name": "stderr",
     "output_type": "stream",
     "text": [
      "\n"
     ]
    }
   ],
   "source": [
    "# Train classifiers\n",
    "df['result'] = [1 if item=='W' else 0 for item in df.result]\n",
    "X_train = df[df['set'] == 'train'][X]\n",
    "y_train = np.ravel(np.array(df[df['set'] == 'train'][y]).reshape(-1,1))\n",
    "\n",
    "MODELS = {'xgb':XGBClassifier(),'lg':LogisticRegression(),'knn':KNeighborsClassifier()}\n",
    "for model in tqdm(MODELS.values()):\n",
    "    model.fit(X=X_train,y=y_train)\n",
    "\n",
    "print(f'{list(MODELS.values())}')"
   ]
  },
  {
   "cell_type": "code",
   "execution_count": 6,
   "metadata": {},
   "outputs": [
    {
     "data": {
      "text/html": [
       "<div>\n",
       "<style scoped>\n",
       "    .dataframe tbody tr th:only-of-type {\n",
       "        vertical-align: middle;\n",
       "    }\n",
       "\n",
       "    .dataframe tbody tr th {\n",
       "        vertical-align: top;\n",
       "    }\n",
       "\n",
       "    .dataframe thead th {\n",
       "        text-align: right;\n",
       "    }\n",
       "</style>\n",
       "<table border=\"1\" class=\"dataframe\">\n",
       "  <thead>\n",
       "    <tr style=\"text-align: right;\">\n",
       "      <th></th>\n",
       "      <th>set</th>\n",
       "      <th>date</th>\n",
       "      <th>fighter</th>\n",
       "      <th>opponent</th>\n",
       "      <th>method</th>\n",
       "      <th>rev_dif</th>\n",
       "      <th>win_perc_dif</th>\n",
       "      <th>ctrl_dif</th>\n",
       "      <th>result</th>\n",
       "      <th>outlier</th>\n",
       "      <th>xgb_result_pred</th>\n",
       "      <th>xgb_result_proba</th>\n",
       "      <th>lg_result_pred</th>\n",
       "      <th>lg_result_proba</th>\n",
       "      <th>knn_result_pred</th>\n",
       "      <th>knn_result_proba</th>\n",
       "      <th>vote_result</th>\n",
       "      <th>vote_result_proba</th>\n",
       "    </tr>\n",
       "  </thead>\n",
       "  <tbody>\n",
       "    <tr>\n",
       "      <th>0</th>\n",
       "      <td>train</td>\n",
       "      <td>2023-11-04</td>\n",
       "      <td>Don'Tale Mayes</td>\n",
       "      <td>Rodrigo Nascimento</td>\n",
       "      <td>Decision - Unanimous</td>\n",
       "      <td>0</td>\n",
       "      <td>-0.25</td>\n",
       "      <td>-1.70</td>\n",
       "      <td>0</td>\n",
       "      <td>False</td>\n",
       "      <td>0</td>\n",
       "      <td>0.877676</td>\n",
       "      <td>0</td>\n",
       "      <td>0.663679</td>\n",
       "      <td>0</td>\n",
       "      <td>1.0</td>\n",
       "      <td>0.0</td>\n",
       "      <td>0.847118</td>\n",
       "    </tr>\n",
       "    <tr>\n",
       "      <th>1</th>\n",
       "      <td>train</td>\n",
       "      <td>2023-11-04</td>\n",
       "      <td>Caio Borralho</td>\n",
       "      <td>Abus Magomedo</td>\n",
       "      <td>Decision - Unanimous</td>\n",
       "      <td>0</td>\n",
       "      <td>0.50</td>\n",
       "      <td>2.28</td>\n",
       "      <td>1</td>\n",
       "      <td>False</td>\n",
       "      <td>1</td>\n",
       "      <td>0.902735</td>\n",
       "      <td>1</td>\n",
       "      <td>0.713067</td>\n",
       "      <td>1</td>\n",
       "      <td>1.0</td>\n",
       "      <td>1.0</td>\n",
       "      <td>0.871934</td>\n",
       "    </tr>\n",
       "    <tr>\n",
       "      <th>2</th>\n",
       "      <td>train</td>\n",
       "      <td>2023-11-04</td>\n",
       "      <td>Elves Brene</td>\n",
       "      <td>Kaynan Kruschewsky</td>\n",
       "      <td>KO/TKO</td>\n",
       "      <td>0</td>\n",
       "      <td>1.00</td>\n",
       "      <td>0.05</td>\n",
       "      <td>1</td>\n",
       "      <td>False</td>\n",
       "      <td>1</td>\n",
       "      <td>0.874143</td>\n",
       "      <td>1</td>\n",
       "      <td>0.654882</td>\n",
       "      <td>1</td>\n",
       "      <td>0.8</td>\n",
       "      <td>1.0</td>\n",
       "      <td>0.776342</td>\n",
       "    </tr>\n",
       "    <tr>\n",
       "      <th>3</th>\n",
       "      <td>train</td>\n",
       "      <td>2023-11-04</td>\n",
       "      <td>Vitor Petrin</td>\n",
       "      <td>Modestas Bukauskas</td>\n",
       "      <td>KO/TKO</td>\n",
       "      <td>0</td>\n",
       "      <td>0.50</td>\n",
       "      <td>2.30</td>\n",
       "      <td>1</td>\n",
       "      <td>False</td>\n",
       "      <td>1</td>\n",
       "      <td>0.902735</td>\n",
       "      <td>1</td>\n",
       "      <td>0.714180</td>\n",
       "      <td>1</td>\n",
       "      <td>1.0</td>\n",
       "      <td>1.0</td>\n",
       "      <td>0.872305</td>\n",
       "    </tr>\n",
       "    <tr>\n",
       "      <th>4</th>\n",
       "      <td>train</td>\n",
       "      <td>2023-11-04</td>\n",
       "      <td>Angela Hill</td>\n",
       "      <td>Denise Gomes</td>\n",
       "      <td>Decision - Unanimous</td>\n",
       "      <td>0</td>\n",
       "      <td>-0.24</td>\n",
       "      <td>7.00</td>\n",
       "      <td>1</td>\n",
       "      <td>False</td>\n",
       "      <td>1</td>\n",
       "      <td>0.888276</td>\n",
       "      <td>1</td>\n",
       "      <td>0.845031</td>\n",
       "      <td>1</td>\n",
       "      <td>1.0</td>\n",
       "      <td>1.0</td>\n",
       "      <td>0.911102</td>\n",
       "    </tr>\n",
       "  </tbody>\n",
       "</table>\n",
       "</div>"
      ],
      "text/plain": [
       "     set        date         fighter            opponent  \\\n",
       "0  train  2023-11-04  Don'Tale Mayes  Rodrigo Nascimento   \n",
       "1  train  2023-11-04   Caio Borralho       Abus Magomedo   \n",
       "2  train  2023-11-04     Elves Brene  Kaynan Kruschewsky   \n",
       "3  train  2023-11-04    Vitor Petrin  Modestas Bukauskas   \n",
       "4  train  2023-11-04     Angela Hill        Denise Gomes   \n",
       "\n",
       "                 method  rev_dif  win_perc_dif  ctrl_dif  result  outlier  \\\n",
       "0  Decision - Unanimous        0         -0.25     -1.70       0    False   \n",
       "1  Decision - Unanimous        0          0.50      2.28       1    False   \n",
       "2                KO/TKO        0          1.00      0.05       1    False   \n",
       "3                KO/TKO        0          0.50      2.30       1    False   \n",
       "4  Decision - Unanimous        0         -0.24      7.00       1    False   \n",
       "\n",
       "   xgb_result_pred  xgb_result_proba  lg_result_pred  lg_result_proba  \\\n",
       "0                0          0.877676               0         0.663679   \n",
       "1                1          0.902735               1         0.713067   \n",
       "2                1          0.874143               1         0.654882   \n",
       "3                1          0.902735               1         0.714180   \n",
       "4                1          0.888276               1         0.845031   \n",
       "\n",
       "   knn_result_pred  knn_result_proba  vote_result  vote_result_proba  \n",
       "0                0               1.0          0.0           0.847118  \n",
       "1                1               1.0          1.0           0.871934  \n",
       "2                1               0.8          1.0           0.776342  \n",
       "3                1               1.0          1.0           0.872305  \n",
       "4                1               1.0          1.0           0.911102  "
      ]
     },
     "execution_count": 6,
     "metadata": {},
     "output_type": "execute_result"
    }
   ],
   "source": [
    "# Evaluate performance\n",
    "X_test = df[df['set'] == 'test'][X]\n",
    "y_test = df[df['set']=='test'][y]\n",
    "\n",
    "for name,model in zip(MODELS.keys(),MODELS.values()):\n",
    "    df[f'{name}_{y}_pred'] = model.predict(df[X])\n",
    "    df[f'{name}_{y}_proba'] = [max(item) for item in model.predict_proba(df[X])]\n",
    "\n",
    "df['vote_result'] = np.round(df[[col for col in df.columns if f'{y}_pred' in col]].sum(axis=1)/len(MODELS),0) # result after voting between all models\n",
    "df['vote_result_proba'] = df[[col for col in df.columns if f'{y}_proba' in col]].mean(axis=1) # mean probability between all models\n",
    "df.head()    "
   ]
  },
  {
   "cell_type": "code",
   "execution_count": 7,
   "metadata": {},
   "outputs": [
    {
     "name": "stdout",
     "output_type": "stream",
     "text": [
      "Model Performance(\"W\" = Positive; \"L\" = Negative):\n",
      "    Accuracy [(tp + fn)/(tp + fp + tn + fn)]= 0.7744297970286671\n",
      "    Precision [(tp)/(tp + fp)] = 0.7725303292894281\n",
      "    Recall [tp/(tp + fn)] = 0.7632705479452054\n",
      "    F1 score [precision*recall/(precision + recall)] = 0.38393626184323865\n"
     ]
    },
    {
     "data": {
      "text/plain": [
       "<sklearn.metrics._plot.confusion_matrix.ConfusionMatrixDisplay at 0x7fff838105d0>"
      ]
     },
     "execution_count": 7,
     "metadata": {},
     "output_type": "execute_result"
    },
    {
     "data": {
      "image/png": "[encoded data removed]",
      "text/plain": [
       "<Figure size 640x480 with 2 Axes>"
      ]
     },
     "metadata": {},
     "output_type": "display_data"
    }
   ],
   "source": [
    "# Voting results\n",
    "DATA_SET = 'train'\n",
    "\n",
    "d = df[df.set==DATA_SET]\n",
    "TP = len(d[(d[y] == d['vote_result'])&(d['vote_result'] == 1)])\n",
    "FP = len(d[(d[y] != d['vote_result'])&(d['vote_result'] == 1)])\n",
    "TN = len(d[(d[y] == d['vote_result'])&(d['vote_result'] == 0)])\n",
    "FN = len(d[(d[y] != d['vote_result'])&(d['vote_result'] == 0)])\n",
    "\n",
    "precision = TP/(TP+FP)\n",
    "recall = TP/(TP+FN)\n",
    "cm = confusion_matrix(y_true=d[y],y_pred=d['vote_result'])\n",
    "\n",
    "print('Model Performance(\"W\" = Positive; \"L\" = Negative):')\n",
    "print(f'    Accuracy [(tp + fn)/(tp + fp + tn + fn)]= {(TP + TN)/len(d)}')\n",
    "print(f'    Precision [(tp)/(tp + fp)] = {precision}')\n",
    "print(f'    Recall [tp/(tp + fn)] = {recall}')\n",
    "print(f'    F1 score [precision*recall/(precision + recall)] = {(precision*recall)/(precision+recall)}')\n",
    "ConfusionMatrixDisplay(confusion_matrix=cm,display_labels=model.classes_).plot()"
   ]
  },
  {
   "cell_type": "code",
   "execution_count": 8,
   "metadata": {},
   "outputs": [
    {
     "name": "stdout",
     "output_type": "stream",
     "text": [
      "Model Performance(\"W\" = Positive; \"L\" = Negative):\n",
      "    Accuracy [(tp + fn)/(tp + fp + tn + fn)]= 0.6810730253353204\n",
      "    Precision [(tp)/(tp + fp)] = 0.690677966101695\n",
      "    Recall [tp/(tp + fn)] = 0.6506986027944112\n",
      "    F1 score [precision*recall/(precision + recall)] = 0.33504624871531347\n"
     ]
    },
    {
     "data": {
      "text/plain": [
       "<sklearn.metrics._plot.confusion_matrix.ConfusionMatrixDisplay at 0x7fff83810e50>"
      ]
     },
     "execution_count": 8,
     "metadata": {},
     "output_type": "execute_result"
    },
    {
     "data": {
      "image/png": "[encoded data removed]",
      "text/plain": [
       "<Figure size 640x480 with 2 Axes>"
      ]
     },
     "metadata": {},
     "output_type": "display_data"
    }
   ],
   "source": [
    "# Voting results\n",
    "DATA_SET = 'test'\n",
    "\n",
    "d = df[df.set==DATA_SET]\n",
    "TP = len(d[(d[y] == d['vote_result'])&(d['vote_result'] == 1)])\n",
    "FP = len(d[(d[y] != d['vote_result'])&(d['vote_result'] == 1)])\n",
    "TN = len(d[(d[y] == d['vote_result'])&(d['vote_result'] == 0)])\n",
    "FN = len(d[(d[y] != d['vote_result'])&(d['vote_result'] == 0)])\n",
    "\n",
    "precision = TP/(TP+FP)\n",
    "recall = TP/(TP+FN)\n",
    "cm = confusion_matrix(y_true=d[y],y_pred=d['vote_result'])\n",
    "\n",
    "print('Model Performance(\"W\" = Positive; \"L\" = Negative):')\n",
    "print(f'    Accuracy [(tp + fn)/(tp + fp + tn + fn)]= {(TP + TN)/len(d)}')\n",
    "print(f'    Precision [(tp)/(tp + fp)] = {precision}')\n",
    "print(f'    Recall [tp/(tp + fn)] = {recall}')\n",
    "print(f'    F1 score [precision*recall/(precision + recall)] = {(precision*recall)/(precision+recall)}')\n",
    "ConfusionMatrixDisplay(confusion_matrix=cm,display_labels=model.classes_).plot()"
   ]
  },
  {
   "cell_type": "code",
   "execution_count": null,
   "metadata": {},
   "outputs": [],
   "source": []
  }
 ],
 "metadata": {
  "kernelspec": {
   "display_name": "py3",
   "language": "python",
   "name": "python3"
  },
  "language_info": {
   "codemirror_mode": {
    "name": "ipython",
    "version": 3
   },
   "file_extension": ".py",
   "mimetype": "text/x-python",
   "name": "python",
   "nbconvert_exporter": "python",
   "pygments_lexer": "ipython3",
   "version": "3.7.12"
  }
 },
 "nbformat": 4,
 "nbformat_minor": 2
}
